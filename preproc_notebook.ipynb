{
 "cells": [
  {
   "cell_type": "markdown",
   "metadata": {},
   "source": [
    "# Wstępne przetwarzanie, imputacja"
   ]
  },
  {
   "cell_type": "markdown",
   "metadata": {},
   "source": [
    "## Dostosowanie zbioru treningowego do testowego"
   ]
  },
  {
   "cell_type": "code",
   "execution_count": 1,
   "metadata": {
    "collapsed": true
   },
   "outputs": [],
   "source": [
    "#kolumny ze zbioru testowego\n",
    "preds = strsplit(\n",
    "  \"calculation_id\tcalculation_token\tetx_make_name\tetx_model_name\tetx_fuel_code\tproduction_year\tetx_model_code\tvehicle_id\tprotection_scope\tkind\tusage_type\tuse_frequency\tchild_carriage_frequency\tmileage\tyearly_mileage\tused_abroad\tnight_parking_place\tnight_parking_place_postal_code\tday_parking_place\tday_parking_place_postal_code\ttheft_protection_installation\ttheft_protection_device_1\ttheft_protection_device_2\torigin\tbuy_year\tregistration_date\tis_damaged\tleasing\tcar_worth\tmain_driver_postal_code\tmain_driver_age\tmain_driver_gender\tinsurance_start_date\tphone_exists\tcalc_complete\tcalc_incomplete\tcalc_finished\tphone_yes\tphone_no\tcalculation_type\tterms_acceptance\tphone_acceptance\tphone_accepted\tstep\tcreated_at\tcreated_at_date\taffiliation_id\tuser_id\tsalesforce_lead\tsent_to_sf\tsf_r_purchasing\tcalculation_state\toc_offers_qty\toc_offer_min_val\tac_offers_qty\tac_offer_min_val\tb2c_leads_sent\tform_finished_at\toffer_first_at\toffer_last_at\toffer_first_after\toffer_last_after\tphone_lookup_status\tutm_campaign\tutm_content\tutm_medium\tutm_source\tpkb_transform_ver\twent_to_partners\tcontact_requests\tAcc_Agreement_call__c\tAcc_Agreement_marketing__c\tAcc_Agreement_newsletter__c\tAcc_Birthdate__c\tAcc_PhoneHLRStatus__c\tAccount__r.AccountSource\tAccount__r.AgreementCall__pc\tAccount__r.AgreementMarketing__pc\tAccount__r.AgreementNewsletter__pc\tAccount__r.BillingCity\tAccount__r.BillingPostalCode\tAccount__r.CreatedById\tAccount__r.CreatedDate\tAccount__r.Gender__pc\tAccount__r.Id\tAccount__r.IsDeleted\tAccount__r.IsPersonAccount\tAccount__r.LegacyID__c\tAccount__r.OwnerId\tAccount__r.PersonBirthdate\tAccount__r.PersonContactId\tAccount__r.PhoneHLRStatus__pc\tAccount__r.PhoneNATStatus__pc\tAccount__r.RecordTypeId\tAccount__r.Salutation\tAccount__r.Type\tCalculationToken__c\tCarEngineCapacity__c\tCarFuelType__c\tCarMake__c\tCarModel__c\tCarYear__c\tCpcPaid__c\tCreatedBy.Alias\tCreatedBy.CreatedDate\tCreatedById\tCreatedDate\tId\tIsDeleted\tMpc__c\tPolicyStartDate__c\tProductScope__c\tSource__c\tWentToPartner__c\tdont_have_this_car__c\tTelehubStatus__c\",\n",
    "         \"\\t\")[[1]]"
   ]
  },
  {
   "cell_type": "code",
   "execution_count": 2,
   "metadata": {},
   "outputs": [
    {
     "data": {
      "text/html": [
       "<ol class=list-inline>\n",
       "\t<li>'calculation_id'</li>\n",
       "\t<li>'calculation_token'</li>\n",
       "\t<li>'etx_make_name'</li>\n",
       "\t<li>'etx_model_name'</li>\n",
       "\t<li>'etx_fuel_code'</li>\n",
       "\t<li>'production_year'</li>\n",
       "\t<li>'etx_model_code'</li>\n",
       "\t<li>'vehicle_id'</li>\n",
       "\t<li>'protection_scope'</li>\n",
       "\t<li>'kind'</li>\n",
       "\t<li>'usage_type'</li>\n",
       "\t<li>'use_frequency'</li>\n",
       "\t<li>'child_carriage_frequency'</li>\n",
       "\t<li>'mileage'</li>\n",
       "\t<li>'yearly_mileage'</li>\n",
       "\t<li>'used_abroad'</li>\n",
       "\t<li>'night_parking_place'</li>\n",
       "\t<li>'night_parking_place_postal_code'</li>\n",
       "\t<li>'day_parking_place'</li>\n",
       "\t<li>'day_parking_place_postal_code'</li>\n",
       "\t<li>'theft_protection_installation'</li>\n",
       "\t<li>'theft_protection_device_1'</li>\n",
       "\t<li>'theft_protection_device_2'</li>\n",
       "\t<li>'origin'</li>\n",
       "\t<li>'buy_year'</li>\n",
       "\t<li>'registration_date'</li>\n",
       "\t<li>'is_damaged'</li>\n",
       "\t<li>'leasing'</li>\n",
       "\t<li>'car_worth'</li>\n",
       "\t<li>'main_driver_postal_code'</li>\n",
       "\t<li>'main_driver_age'</li>\n",
       "\t<li>'main_driver_gender'</li>\n",
       "\t<li>'insurance_start_date'</li>\n",
       "\t<li>'phone_exists'</li>\n",
       "\t<li>'calc_complete'</li>\n",
       "\t<li>'calc_incomplete'</li>\n",
       "\t<li>'calc_finished'</li>\n",
       "\t<li>'phone_yes'</li>\n",
       "\t<li>'phone_no'</li>\n",
       "\t<li>'calculation_type'</li>\n",
       "\t<li>'terms_acceptance'</li>\n",
       "\t<li>'phone_acceptance'</li>\n",
       "\t<li>'phone_accepted'</li>\n",
       "\t<li>'step'</li>\n",
       "\t<li>'created_at'</li>\n",
       "\t<li>'created_at_date'</li>\n",
       "\t<li>'affiliation_id'</li>\n",
       "\t<li>'user_id'</li>\n",
       "\t<li>'salesforce_lead'</li>\n",
       "\t<li>'sent_to_sf'</li>\n",
       "\t<li>'sf_r_purchasing'</li>\n",
       "\t<li>'calculation_state'</li>\n",
       "\t<li>'oc_offers_qty'</li>\n",
       "\t<li>'oc_offer_min_val'</li>\n",
       "\t<li>'ac_offers_qty'</li>\n",
       "\t<li>'ac_offer_min_val'</li>\n",
       "\t<li>'b2c_leads_sent'</li>\n",
       "\t<li>'form_finished_at'</li>\n",
       "\t<li>'offer_first_at'</li>\n",
       "\t<li>'offer_last_at'</li>\n",
       "\t<li>'offer_first_after'</li>\n",
       "\t<li>'offer_last_after'</li>\n",
       "\t<li>'phone_lookup_status'</li>\n",
       "\t<li>'utm_campaign'</li>\n",
       "\t<li>'utm_content'</li>\n",
       "\t<li>'utm_medium'</li>\n",
       "\t<li>'utm_source'</li>\n",
       "\t<li>'pkb_transform_ver'</li>\n",
       "\t<li>'went_to_partners'</li>\n",
       "\t<li>'contact_requests'</li>\n",
       "\t<li>'Acc_Agreement_call__c'</li>\n",
       "\t<li>'Acc_Agreement_marketing__c'</li>\n",
       "\t<li>'Acc_Agreement_newsletter__c'</li>\n",
       "\t<li>'Acc_Birthdate__c'</li>\n",
       "\t<li>'Acc_PhoneHLRStatus__c'</li>\n",
       "\t<li>'Account__r.AccountSource'</li>\n",
       "\t<li>'Account__r.AgreementCall__pc'</li>\n",
       "\t<li>'Account__r.AgreementMarketing__pc'</li>\n",
       "\t<li>'Account__r.AgreementNewsletter__pc'</li>\n",
       "\t<li>'Account__r.BillingCity'</li>\n",
       "\t<li>'Account__r.BillingPostalCode'</li>\n",
       "\t<li>'Account__r.CreatedById'</li>\n",
       "\t<li>'Account__r.CreatedDate'</li>\n",
       "\t<li>'Account__r.Gender__pc'</li>\n",
       "\t<li>'Account__r.Id'</li>\n",
       "\t<li>'Account__r.IsDeleted'</li>\n",
       "\t<li>'Account__r.IsPersonAccount'</li>\n",
       "\t<li>'Account__r.LegacyID__c'</li>\n",
       "\t<li>'Account__r.OwnerId'</li>\n",
       "\t<li>'Account__r.PersonBirthdate'</li>\n",
       "\t<li>'Account__r.PersonContactId'</li>\n",
       "\t<li>'Account__r.PhoneHLRStatus__pc'</li>\n",
       "\t<li>'Account__r.PhoneNATStatus__pc'</li>\n",
       "\t<li>'Account__r.RecordTypeId'</li>\n",
       "\t<li>'Account__r.Salutation'</li>\n",
       "\t<li>'Account__r.Type'</li>\n",
       "\t<li>'CalculationToken__c'</li>\n",
       "\t<li>'CarEngineCapacity__c'</li>\n",
       "\t<li>'CarFuelType__c'</li>\n",
       "\t<li>'CarMake__c'</li>\n",
       "\t<li>'CarModel__c'</li>\n",
       "\t<li>'CarYear__c'</li>\n",
       "\t<li>'CpcPaid__c'</li>\n",
       "\t<li>'CreatedBy.Alias'</li>\n",
       "\t<li>'CreatedBy.CreatedDate'</li>\n",
       "\t<li>'CreatedById'</li>\n",
       "\t<li>'CreatedDate'</li>\n",
       "\t<li>'Id'</li>\n",
       "\t<li>'IsDeleted'</li>\n",
       "\t<li>'Mpc__c'</li>\n",
       "\t<li>'PolicyStartDate__c'</li>\n",
       "\t<li>'ProductScope__c'</li>\n",
       "\t<li>'Source__c'</li>\n",
       "\t<li>'WentToPartner__c'</li>\n",
       "\t<li>'dont_have_this_car__c'</li>\n",
       "\t<li>'TelehubStatus__c'</li>\n",
       "</ol>\n"
      ],
      "text/latex": [
       "\\begin{enumerate*}\n",
       "\\item 'calculation\\_id'\n",
       "\\item 'calculation\\_token'\n",
       "\\item 'etx\\_make\\_name'\n",
       "\\item 'etx\\_model\\_name'\n",
       "\\item 'etx\\_fuel\\_code'\n",
       "\\item 'production\\_year'\n",
       "\\item 'etx\\_model\\_code'\n",
       "\\item 'vehicle\\_id'\n",
       "\\item 'protection\\_scope'\n",
       "\\item 'kind'\n",
       "\\item 'usage\\_type'\n",
       "\\item 'use\\_frequency'\n",
       "\\item 'child\\_carriage\\_frequency'\n",
       "\\item 'mileage'\n",
       "\\item 'yearly\\_mileage'\n",
       "\\item 'used\\_abroad'\n",
       "\\item 'night\\_parking\\_place'\n",
       "\\item 'night\\_parking\\_place\\_postal\\_code'\n",
       "\\item 'day\\_parking\\_place'\n",
       "\\item 'day\\_parking\\_place\\_postal\\_code'\n",
       "\\item 'theft\\_protection\\_installation'\n",
       "\\item 'theft\\_protection\\_device\\_1'\n",
       "\\item 'theft\\_protection\\_device\\_2'\n",
       "\\item 'origin'\n",
       "\\item 'buy\\_year'\n",
       "\\item 'registration\\_date'\n",
       "\\item 'is\\_damaged'\n",
       "\\item 'leasing'\n",
       "\\item 'car\\_worth'\n",
       "\\item 'main\\_driver\\_postal\\_code'\n",
       "\\item 'main\\_driver\\_age'\n",
       "\\item 'main\\_driver\\_gender'\n",
       "\\item 'insurance\\_start\\_date'\n",
       "\\item 'phone\\_exists'\n",
       "\\item 'calc\\_complete'\n",
       "\\item 'calc\\_incomplete'\n",
       "\\item 'calc\\_finished'\n",
       "\\item 'phone\\_yes'\n",
       "\\item 'phone\\_no'\n",
       "\\item 'calculation\\_type'\n",
       "\\item 'terms\\_acceptance'\n",
       "\\item 'phone\\_acceptance'\n",
       "\\item 'phone\\_accepted'\n",
       "\\item 'step'\n",
       "\\item 'created\\_at'\n",
       "\\item 'created\\_at\\_date'\n",
       "\\item 'affiliation\\_id'\n",
       "\\item 'user\\_id'\n",
       "\\item 'salesforce\\_lead'\n",
       "\\item 'sent\\_to\\_sf'\n",
       "\\item 'sf\\_r\\_purchasing'\n",
       "\\item 'calculation\\_state'\n",
       "\\item 'oc\\_offers\\_qty'\n",
       "\\item 'oc\\_offer\\_min\\_val'\n",
       "\\item 'ac\\_offers\\_qty'\n",
       "\\item 'ac\\_offer\\_min\\_val'\n",
       "\\item 'b2c\\_leads\\_sent'\n",
       "\\item 'form\\_finished\\_at'\n",
       "\\item 'offer\\_first\\_at'\n",
       "\\item 'offer\\_last\\_at'\n",
       "\\item 'offer\\_first\\_after'\n",
       "\\item 'offer\\_last\\_after'\n",
       "\\item 'phone\\_lookup\\_status'\n",
       "\\item 'utm\\_campaign'\n",
       "\\item 'utm\\_content'\n",
       "\\item 'utm\\_medium'\n",
       "\\item 'utm\\_source'\n",
       "\\item 'pkb\\_transform\\_ver'\n",
       "\\item 'went\\_to\\_partners'\n",
       "\\item 'contact\\_requests'\n",
       "\\item 'Acc\\_Agreement\\_call\\_\\_c'\n",
       "\\item 'Acc\\_Agreement\\_marketing\\_\\_c'\n",
       "\\item 'Acc\\_Agreement\\_newsletter\\_\\_c'\n",
       "\\item 'Acc\\_Birthdate\\_\\_c'\n",
       "\\item 'Acc\\_PhoneHLRStatus\\_\\_c'\n",
       "\\item 'Account\\_\\_r.AccountSource'\n",
       "\\item 'Account\\_\\_r.AgreementCall\\_\\_pc'\n",
       "\\item 'Account\\_\\_r.AgreementMarketing\\_\\_pc'\n",
       "\\item 'Account\\_\\_r.AgreementNewsletter\\_\\_pc'\n",
       "\\item 'Account\\_\\_r.BillingCity'\n",
       "\\item 'Account\\_\\_r.BillingPostalCode'\n",
       "\\item 'Account\\_\\_r.CreatedById'\n",
       "\\item 'Account\\_\\_r.CreatedDate'\n",
       "\\item 'Account\\_\\_r.Gender\\_\\_pc'\n",
       "\\item 'Account\\_\\_r.Id'\n",
       "\\item 'Account\\_\\_r.IsDeleted'\n",
       "\\item 'Account\\_\\_r.IsPersonAccount'\n",
       "\\item 'Account\\_\\_r.LegacyID\\_\\_c'\n",
       "\\item 'Account\\_\\_r.OwnerId'\n",
       "\\item 'Account\\_\\_r.PersonBirthdate'\n",
       "\\item 'Account\\_\\_r.PersonContactId'\n",
       "\\item 'Account\\_\\_r.PhoneHLRStatus\\_\\_pc'\n",
       "\\item 'Account\\_\\_r.PhoneNATStatus\\_\\_pc'\n",
       "\\item 'Account\\_\\_r.RecordTypeId'\n",
       "\\item 'Account\\_\\_r.Salutation'\n",
       "\\item 'Account\\_\\_r.Type'\n",
       "\\item 'CalculationToken\\_\\_c'\n",
       "\\item 'CarEngineCapacity\\_\\_c'\n",
       "\\item 'CarFuelType\\_\\_c'\n",
       "\\item 'CarMake\\_\\_c'\n",
       "\\item 'CarModel\\_\\_c'\n",
       "\\item 'CarYear\\_\\_c'\n",
       "\\item 'CpcPaid\\_\\_c'\n",
       "\\item 'CreatedBy.Alias'\n",
       "\\item 'CreatedBy.CreatedDate'\n",
       "\\item 'CreatedById'\n",
       "\\item 'CreatedDate'\n",
       "\\item 'Id'\n",
       "\\item 'IsDeleted'\n",
       "\\item 'Mpc\\_\\_c'\n",
       "\\item 'PolicyStartDate\\_\\_c'\n",
       "\\item 'ProductScope\\_\\_c'\n",
       "\\item 'Source\\_\\_c'\n",
       "\\item 'WentToPartner\\_\\_c'\n",
       "\\item 'dont\\_have\\_this\\_car\\_\\_c'\n",
       "\\item 'TelehubStatus\\_\\_c'\n",
       "\\end{enumerate*}\n"
      ],
      "text/markdown": [
       "1. 'calculation_id'\n",
       "2. 'calculation_token'\n",
       "3. 'etx_make_name'\n",
       "4. 'etx_model_name'\n",
       "5. 'etx_fuel_code'\n",
       "6. 'production_year'\n",
       "7. 'etx_model_code'\n",
       "8. 'vehicle_id'\n",
       "9. 'protection_scope'\n",
       "10. 'kind'\n",
       "11. 'usage_type'\n",
       "12. 'use_frequency'\n",
       "13. 'child_carriage_frequency'\n",
       "14. 'mileage'\n",
       "15. 'yearly_mileage'\n",
       "16. 'used_abroad'\n",
       "17. 'night_parking_place'\n",
       "18. 'night_parking_place_postal_code'\n",
       "19. 'day_parking_place'\n",
       "20. 'day_parking_place_postal_code'\n",
       "21. 'theft_protection_installation'\n",
       "22. 'theft_protection_device_1'\n",
       "23. 'theft_protection_device_2'\n",
       "24. 'origin'\n",
       "25. 'buy_year'\n",
       "26. 'registration_date'\n",
       "27. 'is_damaged'\n",
       "28. 'leasing'\n",
       "29. 'car_worth'\n",
       "30. 'main_driver_postal_code'\n",
       "31. 'main_driver_age'\n",
       "32. 'main_driver_gender'\n",
       "33. 'insurance_start_date'\n",
       "34. 'phone_exists'\n",
       "35. 'calc_complete'\n",
       "36. 'calc_incomplete'\n",
       "37. 'calc_finished'\n",
       "38. 'phone_yes'\n",
       "39. 'phone_no'\n",
       "40. 'calculation_type'\n",
       "41. 'terms_acceptance'\n",
       "42. 'phone_acceptance'\n",
       "43. 'phone_accepted'\n",
       "44. 'step'\n",
       "45. 'created_at'\n",
       "46. 'created_at_date'\n",
       "47. 'affiliation_id'\n",
       "48. 'user_id'\n",
       "49. 'salesforce_lead'\n",
       "50. 'sent_to_sf'\n",
       "51. 'sf_r_purchasing'\n",
       "52. 'calculation_state'\n",
       "53. 'oc_offers_qty'\n",
       "54. 'oc_offer_min_val'\n",
       "55. 'ac_offers_qty'\n",
       "56. 'ac_offer_min_val'\n",
       "57. 'b2c_leads_sent'\n",
       "58. 'form_finished_at'\n",
       "59. 'offer_first_at'\n",
       "60. 'offer_last_at'\n",
       "61. 'offer_first_after'\n",
       "62. 'offer_last_after'\n",
       "63. 'phone_lookup_status'\n",
       "64. 'utm_campaign'\n",
       "65. 'utm_content'\n",
       "66. 'utm_medium'\n",
       "67. 'utm_source'\n",
       "68. 'pkb_transform_ver'\n",
       "69. 'went_to_partners'\n",
       "70. 'contact_requests'\n",
       "71. 'Acc_Agreement_call__c'\n",
       "72. 'Acc_Agreement_marketing__c'\n",
       "73. 'Acc_Agreement_newsletter__c'\n",
       "74. 'Acc_Birthdate__c'\n",
       "75. 'Acc_PhoneHLRStatus__c'\n",
       "76. 'Account__r.AccountSource'\n",
       "77. 'Account__r.AgreementCall__pc'\n",
       "78. 'Account__r.AgreementMarketing__pc'\n",
       "79. 'Account__r.AgreementNewsletter__pc'\n",
       "80. 'Account__r.BillingCity'\n",
       "81. 'Account__r.BillingPostalCode'\n",
       "82. 'Account__r.CreatedById'\n",
       "83. 'Account__r.CreatedDate'\n",
       "84. 'Account__r.Gender__pc'\n",
       "85. 'Account__r.Id'\n",
       "86. 'Account__r.IsDeleted'\n",
       "87. 'Account__r.IsPersonAccount'\n",
       "88. 'Account__r.LegacyID__c'\n",
       "89. 'Account__r.OwnerId'\n",
       "90. 'Account__r.PersonBirthdate'\n",
       "91. 'Account__r.PersonContactId'\n",
       "92. 'Account__r.PhoneHLRStatus__pc'\n",
       "93. 'Account__r.PhoneNATStatus__pc'\n",
       "94. 'Account__r.RecordTypeId'\n",
       "95. 'Account__r.Salutation'\n",
       "96. 'Account__r.Type'\n",
       "97. 'CalculationToken__c'\n",
       "98. 'CarEngineCapacity__c'\n",
       "99. 'CarFuelType__c'\n",
       "100. 'CarMake__c'\n",
       "101. 'CarModel__c'\n",
       "102. 'CarYear__c'\n",
       "103. 'CpcPaid__c'\n",
       "104. 'CreatedBy.Alias'\n",
       "105. 'CreatedBy.CreatedDate'\n",
       "106. 'CreatedById'\n",
       "107. 'CreatedDate'\n",
       "108. 'Id'\n",
       "109. 'IsDeleted'\n",
       "110. 'Mpc__c'\n",
       "111. 'PolicyStartDate__c'\n",
       "112. 'ProductScope__c'\n",
       "113. 'Source__c'\n",
       "114. 'WentToPartner__c'\n",
       "115. 'dont_have_this_car__c'\n",
       "116. 'TelehubStatus__c'\n",
       "\n",
       "\n"
      ],
      "text/plain": [
       "  [1] \"calculation_id\"                     \"calculation_token\"                 \n",
       "  [3] \"etx_make_name\"                      \"etx_model_name\"                    \n",
       "  [5] \"etx_fuel_code\"                      \"production_year\"                   \n",
       "  [7] \"etx_model_code\"                     \"vehicle_id\"                        \n",
       "  [9] \"protection_scope\"                   \"kind\"                              \n",
       " [11] \"usage_type\"                         \"use_frequency\"                     \n",
       " [13] \"child_carriage_frequency\"           \"mileage\"                           \n",
       " [15] \"yearly_mileage\"                     \"used_abroad\"                       \n",
       " [17] \"night_parking_place\"                \"night_parking_place_postal_code\"   \n",
       " [19] \"day_parking_place\"                  \"day_parking_place_postal_code\"     \n",
       " [21] \"theft_protection_installation\"      \"theft_protection_device_1\"         \n",
       " [23] \"theft_protection_device_2\"          \"origin\"                            \n",
       " [25] \"buy_year\"                           \"registration_date\"                 \n",
       " [27] \"is_damaged\"                         \"leasing\"                           \n",
       " [29] \"car_worth\"                          \"main_driver_postal_code\"           \n",
       " [31] \"main_driver_age\"                    \"main_driver_gender\"                \n",
       " [33] \"insurance_start_date\"               \"phone_exists\"                      \n",
       " [35] \"calc_complete\"                      \"calc_incomplete\"                   \n",
       " [37] \"calc_finished\"                      \"phone_yes\"                         \n",
       " [39] \"phone_no\"                           \"calculation_type\"                  \n",
       " [41] \"terms_acceptance\"                   \"phone_acceptance\"                  \n",
       " [43] \"phone_accepted\"                     \"step\"                              \n",
       " [45] \"created_at\"                         \"created_at_date\"                   \n",
       " [47] \"affiliation_id\"                     \"user_id\"                           \n",
       " [49] \"salesforce_lead\"                    \"sent_to_sf\"                        \n",
       " [51] \"sf_r_purchasing\"                    \"calculation_state\"                 \n",
       " [53] \"oc_offers_qty\"                      \"oc_offer_min_val\"                  \n",
       " [55] \"ac_offers_qty\"                      \"ac_offer_min_val\"                  \n",
       " [57] \"b2c_leads_sent\"                     \"form_finished_at\"                  \n",
       " [59] \"offer_first_at\"                     \"offer_last_at\"                     \n",
       " [61] \"offer_first_after\"                  \"offer_last_after\"                  \n",
       " [63] \"phone_lookup_status\"                \"utm_campaign\"                      \n",
       " [65] \"utm_content\"                        \"utm_medium\"                        \n",
       " [67] \"utm_source\"                         \"pkb_transform_ver\"                 \n",
       " [69] \"went_to_partners\"                   \"contact_requests\"                  \n",
       " [71] \"Acc_Agreement_call__c\"              \"Acc_Agreement_marketing__c\"        \n",
       " [73] \"Acc_Agreement_newsletter__c\"        \"Acc_Birthdate__c\"                  \n",
       " [75] \"Acc_PhoneHLRStatus__c\"              \"Account__r.AccountSource\"          \n",
       " [77] \"Account__r.AgreementCall__pc\"       \"Account__r.AgreementMarketing__pc\" \n",
       " [79] \"Account__r.AgreementNewsletter__pc\" \"Account__r.BillingCity\"            \n",
       " [81] \"Account__r.BillingPostalCode\"       \"Account__r.CreatedById\"            \n",
       " [83] \"Account__r.CreatedDate\"             \"Account__r.Gender__pc\"             \n",
       " [85] \"Account__r.Id\"                      \"Account__r.IsDeleted\"              \n",
       " [87] \"Account__r.IsPersonAccount\"         \"Account__r.LegacyID__c\"            \n",
       " [89] \"Account__r.OwnerId\"                 \"Account__r.PersonBirthdate\"        \n",
       " [91] \"Account__r.PersonContactId\"         \"Account__r.PhoneHLRStatus__pc\"     \n",
       " [93] \"Account__r.PhoneNATStatus__pc\"      \"Account__r.RecordTypeId\"           \n",
       " [95] \"Account__r.Salutation\"              \"Account__r.Type\"                   \n",
       " [97] \"CalculationToken__c\"                \"CarEngineCapacity__c\"              \n",
       " [99] \"CarFuelType__c\"                     \"CarMake__c\"                        \n",
       "[101] \"CarModel__c\"                        \"CarYear__c\"                        \n",
       "[103] \"CpcPaid__c\"                         \"CreatedBy.Alias\"                   \n",
       "[105] \"CreatedBy.CreatedDate\"              \"CreatedById\"                       \n",
       "[107] \"CreatedDate\"                        \"Id\"                                \n",
       "[109] \"IsDeleted\"                          \"Mpc__c\"                            \n",
       "[111] \"PolicyStartDate__c\"                 \"ProductScope__c\"                   \n",
       "[113] \"Source__c\"                          \"WentToPartner__c\"                  \n",
       "[115] \"dont_have_this_car__c\"              \"TelehubStatus__c\"                  "
      ]
     },
     "metadata": {},
     "output_type": "display_data"
    }
   ],
   "source": [
    "preds"
   ]
  },
  {
   "cell_type": "code",
   "execution_count": 3,
   "metadata": {},
   "outputs": [
    {
     "data": {
      "text/html": [
       "116"
      ],
      "text/latex": [
       "116"
      ],
      "text/markdown": [
       "116"
      ],
      "text/plain": [
       "[1] 116"
      ]
     },
     "metadata": {},
     "output_type": "display_data"
    }
   ],
   "source": [
    "length(preds)"
   ]
  },
  {
   "cell_type": "code",
   "execution_count": 4,
   "metadata": {
    "collapsed": true
   },
   "outputs": [],
   "source": [
    "load('ABH.rda')\n",
    "df = ABH"
   ]
  },
  {
   "cell_type": "code",
   "execution_count": 5,
   "metadata": {
    "scrolled": true
   },
   "outputs": [
    {
     "data": {
      "text/html": [
       "152"
      ],
      "text/latex": [
       "152"
      ],
      "text/markdown": [
       "152"
      ],
      "text/plain": [
       "[1] 152"
      ]
     },
     "metadata": {},
     "output_type": "display_data"
    }
   ],
   "source": [
    "ncol(df)"
   ]
  },
  {
   "cell_type": "code",
   "execution_count": 7,
   "metadata": {
    "collapsed": true
   },
   "outputs": [],
   "source": [
    "#wybieram tylko kolumny, ktore sa w zbiorze testowym"
   ]
  },
  {
   "cell_type": "code",
   "execution_count": 6,
   "metadata": {
    "collapsed": true
   },
   "outputs": [],
   "source": [
    "indices = sapply(preds, function(pred){which(colnames(df)==pred)})"
   ]
  },
  {
   "cell_type": "code",
   "execution_count": 7,
   "metadata": {},
   "outputs": [
    {
     "data": {
      "text/html": [
       "116"
      ],
      "text/latex": [
       "116"
      ],
      "text/markdown": [
       "116"
      ],
      "text/plain": [
       "[1] 116"
      ]
     },
     "metadata": {},
     "output_type": "display_data"
    }
   ],
   "source": [
    "length(indices)"
   ]
  },
  {
   "cell_type": "code",
   "execution_count": 8,
   "metadata": {
    "collapsed": true
   },
   "outputs": [],
   "source": [
    "labelindex = which(colnames(df)=='Sale.success')"
   ]
  },
  {
   "cell_type": "code",
   "execution_count": 9,
   "metadata": {},
   "outputs": [
    {
     "data": {
      "text/html": [
       "148"
      ],
      "text/latex": [
       "148"
      ],
      "text/markdown": [
       "148"
      ],
      "text/plain": [
       "[1] 148"
      ]
     },
     "metadata": {},
     "output_type": "display_data"
    }
   ],
   "source": [
    "#to jest etykieta wlasciwa - czy sprzedaz sie udala?\n",
    "labelindex"
   ]
  },
  {
   "cell_type": "code",
   "execution_count": 10,
   "metadata": {},
   "outputs": [
    {
     "data": {
      "text/html": [
       "<dl class=dl-horizontal>\n",
       "\t<dt>calculation_id</dt>\n",
       "\t\t<dd>1</dd>\n",
       "\t<dt>calculation_token</dt>\n",
       "\t\t<dd>2</dd>\n",
       "\t<dt>etx_make_name</dt>\n",
       "\t\t<dd>3</dd>\n",
       "\t<dt>etx_model_name</dt>\n",
       "\t\t<dd>4</dd>\n",
       "\t<dt>etx_fuel_code</dt>\n",
       "\t\t<dd>5</dd>\n",
       "\t<dt>production_year</dt>\n",
       "\t\t<dd>6</dd>\n",
       "\t<dt>etx_model_code</dt>\n",
       "\t\t<dd>7</dd>\n",
       "\t<dt>vehicle_id</dt>\n",
       "\t\t<dd>8</dd>\n",
       "\t<dt>protection_scope</dt>\n",
       "\t\t<dd>9</dd>\n",
       "\t<dt>kind</dt>\n",
       "\t\t<dd>10</dd>\n",
       "\t<dt>usage_type</dt>\n",
       "\t\t<dd>11</dd>\n",
       "\t<dt>use_frequency</dt>\n",
       "\t\t<dd>12</dd>\n",
       "\t<dt>child_carriage_frequency</dt>\n",
       "\t\t<dd>13</dd>\n",
       "\t<dt>mileage</dt>\n",
       "\t\t<dd>14</dd>\n",
       "\t<dt>yearly_mileage</dt>\n",
       "\t\t<dd>15</dd>\n",
       "\t<dt>used_abroad</dt>\n",
       "\t\t<dd>16</dd>\n",
       "\t<dt>night_parking_place</dt>\n",
       "\t\t<dd>17</dd>\n",
       "\t<dt>night_parking_place_postal_code</dt>\n",
       "\t\t<dd>18</dd>\n",
       "\t<dt>day_parking_place</dt>\n",
       "\t\t<dd>19</dd>\n",
       "\t<dt>day_parking_place_postal_code</dt>\n",
       "\t\t<dd>20</dd>\n",
       "\t<dt>theft_protection_installation</dt>\n",
       "\t\t<dd>21</dd>\n",
       "\t<dt>theft_protection_device_1</dt>\n",
       "\t\t<dd>22</dd>\n",
       "\t<dt>theft_protection_device_2</dt>\n",
       "\t\t<dd>23</dd>\n",
       "\t<dt>origin</dt>\n",
       "\t\t<dd>24</dd>\n",
       "\t<dt>buy_year</dt>\n",
       "\t\t<dd>25</dd>\n",
       "\t<dt>registration_date</dt>\n",
       "\t\t<dd>26</dd>\n",
       "\t<dt>is_damaged</dt>\n",
       "\t\t<dd>27</dd>\n",
       "\t<dt>leasing</dt>\n",
       "\t\t<dd>28</dd>\n",
       "\t<dt>car_worth</dt>\n",
       "\t\t<dd>29</dd>\n",
       "\t<dt>main_driver_postal_code</dt>\n",
       "\t\t<dd>30</dd>\n",
       "\t<dt>main_driver_age</dt>\n",
       "\t\t<dd>31</dd>\n",
       "\t<dt>main_driver_gender</dt>\n",
       "\t\t<dd>32</dd>\n",
       "\t<dt>insurance_start_date</dt>\n",
       "\t\t<dd>33</dd>\n",
       "\t<dt>phone_exists</dt>\n",
       "\t\t<dd>34</dd>\n",
       "\t<dt>calc_complete</dt>\n",
       "\t\t<dd>35</dd>\n",
       "\t<dt>calc_incomplete</dt>\n",
       "\t\t<dd>36</dd>\n",
       "\t<dt>calc_finished</dt>\n",
       "\t\t<dd>37</dd>\n",
       "\t<dt>phone_yes</dt>\n",
       "\t\t<dd>38</dd>\n",
       "\t<dt>phone_no</dt>\n",
       "\t\t<dd>39</dd>\n",
       "\t<dt>calculation_type</dt>\n",
       "\t\t<dd>40</dd>\n",
       "\t<dt>terms_acceptance</dt>\n",
       "\t\t<dd>41</dd>\n",
       "\t<dt>phone_acceptance</dt>\n",
       "\t\t<dd>42</dd>\n",
       "\t<dt>phone_accepted</dt>\n",
       "\t\t<dd>43</dd>\n",
       "\t<dt>step</dt>\n",
       "\t\t<dd>44</dd>\n",
       "\t<dt>created_at</dt>\n",
       "\t\t<dd>45</dd>\n",
       "\t<dt>created_at_date</dt>\n",
       "\t\t<dd>46</dd>\n",
       "\t<dt>affiliation_id</dt>\n",
       "\t\t<dd>47</dd>\n",
       "\t<dt>user_id</dt>\n",
       "\t\t<dd>48</dd>\n",
       "\t<dt>sent_to_sf</dt>\n",
       "\t\t<dd>49</dd>\n",
       "\t<dt>sf_r_purchasing</dt>\n",
       "\t\t<dd>50</dd>\n",
       "\t<dt>calculation_state</dt>\n",
       "\t\t<dd>51</dd>\n",
       "\t<dt>oc_offers_qty</dt>\n",
       "\t\t<dd>52</dd>\n",
       "\t<dt>oc_offer_min_val</dt>\n",
       "\t\t<dd>53</dd>\n",
       "\t<dt>ac_offers_qty</dt>\n",
       "\t\t<dd>54</dd>\n",
       "\t<dt>ac_offer_min_val</dt>\n",
       "\t\t<dd>55</dd>\n",
       "\t<dt>b2c_leads_sent</dt>\n",
       "\t\t<dd>56</dd>\n",
       "\t<dt>form_finished_at</dt>\n",
       "\t\t<dd>57</dd>\n",
       "\t<dt>offer_first_at</dt>\n",
       "\t\t<dd>58</dd>\n",
       "\t<dt>offer_last_at</dt>\n",
       "\t\t<dd>59</dd>\n",
       "\t<dt>offer_first_after</dt>\n",
       "\t\t<dd>60</dd>\n",
       "\t<dt>offer_last_after</dt>\n",
       "\t\t<dd>61</dd>\n",
       "\t<dt>phone_lookup_status</dt>\n",
       "\t\t<dd>62</dd>\n",
       "\t<dt>utm_campaign</dt>\n",
       "\t\t<dd>63</dd>\n",
       "\t<dt>utm_content</dt>\n",
       "\t\t<dd>64</dd>\n",
       "\t<dt>utm_medium</dt>\n",
       "\t\t<dd>65</dd>\n",
       "\t<dt>utm_source</dt>\n",
       "\t\t<dd>66</dd>\n",
       "\t<dt>pkb_transform_ver</dt>\n",
       "\t\t<dd>67</dd>\n",
       "\t<dt>went_to_partners</dt>\n",
       "\t\t<dd>68</dd>\n",
       "\t<dt>contact_requests</dt>\n",
       "\t\t<dd>69</dd>\n",
       "\t<dt>Acc_Agreement_call__c</dt>\n",
       "\t\t<dd>75</dd>\n",
       "\t<dt>Acc_Agreement_marketing__c</dt>\n",
       "\t\t<dd>76</dd>\n",
       "\t<dt>Acc_Agreement_newsletter__c</dt>\n",
       "\t\t<dd>77</dd>\n",
       "\t<dt>Acc_Birthdate__c</dt>\n",
       "\t\t<dd>78</dd>\n",
       "\t<dt>Acc_PhoneHLRStatus__c</dt>\n",
       "\t\t<dd>79</dd>\n",
       "\t<dt>Account__r.AccountSource</dt>\n",
       "\t\t<dd>81</dd>\n",
       "\t<dt>Account__r.AgreementCall__pc</dt>\n",
       "\t\t<dd>82</dd>\n",
       "\t<dt>Account__r.AgreementMarketing__pc</dt>\n",
       "\t\t<dd>83</dd>\n",
       "\t<dt>Account__r.AgreementNewsletter__pc</dt>\n",
       "\t\t<dd>84</dd>\n",
       "\t<dt>Account__r.BillingCity</dt>\n",
       "\t\t<dd>85</dd>\n",
       "\t<dt>Account__r.BillingPostalCode</dt>\n",
       "\t\t<dd>86</dd>\n",
       "\t<dt>Account__r.CreatedById</dt>\n",
       "\t\t<dd>87</dd>\n",
       "\t<dt>Account__r.CreatedDate</dt>\n",
       "\t\t<dd>88</dd>\n",
       "\t<dt>Account__r.Gender__pc</dt>\n",
       "\t\t<dd>89</dd>\n",
       "\t<dt>Account__r.Id</dt>\n",
       "\t\t<dd>90</dd>\n",
       "\t<dt>Account__r.IsDeleted</dt>\n",
       "\t\t<dd>91</dd>\n",
       "\t<dt>Account__r.IsPersonAccount</dt>\n",
       "\t\t<dd>92</dd>\n",
       "\t<dt>Account__r.LegacyID__c</dt>\n",
       "\t\t<dd>95</dd>\n",
       "\t<dt>Account__r.OwnerId</dt>\n",
       "\t\t<dd>96</dd>\n",
       "\t<dt>Account__r.PersonBirthdate</dt>\n",
       "\t\t<dd>97</dd>\n",
       "\t<dt>Account__r.PersonContactId</dt>\n",
       "\t\t<dd>98</dd>\n",
       "\t<dt>Account__r.PhoneHLRStatus__pc</dt>\n",
       "\t\t<dd>99</dd>\n",
       "\t<dt>Account__r.PhoneNATStatus__pc</dt>\n",
       "\t\t<dd>100</dd>\n",
       "\t<dt>Account__r.RecordTypeId</dt>\n",
       "\t\t<dd>101</dd>\n",
       "\t<dt>Account__r.Salutation</dt>\n",
       "\t\t<dd>102</dd>\n",
       "\t<dt>Account__r.Type</dt>\n",
       "\t\t<dd>103</dd>\n",
       "\t<dt>CalculationToken__c</dt>\n",
       "\t\t<dd>104</dd>\n",
       "\t<dt>CarEngineCapacity__c</dt>\n",
       "\t\t<dd>105</dd>\n",
       "\t<dt>CarFuelType__c</dt>\n",
       "\t\t<dd>106</dd>\n",
       "\t<dt>CarMake__c</dt>\n",
       "\t\t<dd>107</dd>\n",
       "\t<dt>CarModel__c</dt>\n",
       "\t\t<dd>108</dd>\n",
       "\t<dt>CarYear__c</dt>\n",
       "\t\t<dd>109</dd>\n",
       "\t<dt>CpcPaid__c</dt>\n",
       "\t\t<dd>111</dd>\n",
       "\t<dt>CreatedBy.Alias</dt>\n",
       "\t\t<dd>112</dd>\n",
       "\t<dt>CreatedBy.CreatedDate</dt>\n",
       "\t\t<dd>113</dd>\n",
       "\t<dt>CreatedById</dt>\n",
       "\t\t<dd>114</dd>\n",
       "\t<dt>CreatedDate</dt>\n",
       "\t\t<dd>115</dd>\n",
       "\t<dt>Id</dt>\n",
       "\t\t<dd>117</dd>\n",
       "\t<dt>IsDeleted</dt>\n",
       "\t\t<dd>119</dd>\n",
       "\t<dt>Mpc__c</dt>\n",
       "\t\t<dd>126</dd>\n",
       "\t<dt>PolicyStartDate__c</dt>\n",
       "\t\t<dd>130</dd>\n",
       "\t<dt>ProductScope__c</dt>\n",
       "\t\t<dd>132</dd>\n",
       "\t<dt>Source__c</dt>\n",
       "\t\t<dd>137</dd>\n",
       "\t<dt>WentToPartner__c</dt>\n",
       "\t\t<dd>142</dd>\n",
       "\t<dt>dont_have_this_car__c</dt>\n",
       "\t\t<dd>143</dd>\n",
       "\t<dt>TelehubStatus__c</dt>\n",
       "\t\t<dd>141</dd>\n",
       "</dl>\n"
      ],
      "text/latex": [
       "\\begin{description*}\n",
       "\\item[calculation\\textbackslash{}\\_id] 1\n",
       "\\item[calculation\\textbackslash{}\\_token] 2\n",
       "\\item[etx\\textbackslash{}\\_make\\textbackslash{}\\_name] 3\n",
       "\\item[etx\\textbackslash{}\\_model\\textbackslash{}\\_name] 4\n",
       "\\item[etx\\textbackslash{}\\_fuel\\textbackslash{}\\_code] 5\n",
       "\\item[production\\textbackslash{}\\_year] 6\n",
       "\\item[etx\\textbackslash{}\\_model\\textbackslash{}\\_code] 7\n",
       "\\item[vehicle\\textbackslash{}\\_id] 8\n",
       "\\item[protection\\textbackslash{}\\_scope] 9\n",
       "\\item[kind] 10\n",
       "\\item[usage\\textbackslash{}\\_type] 11\n",
       "\\item[use\\textbackslash{}\\_frequency] 12\n",
       "\\item[child\\textbackslash{}\\_carriage\\textbackslash{}\\_frequency] 13\n",
       "\\item[mileage] 14\n",
       "\\item[yearly\\textbackslash{}\\_mileage] 15\n",
       "\\item[used\\textbackslash{}\\_abroad] 16\n",
       "\\item[night\\textbackslash{}\\_parking\\textbackslash{}\\_place] 17\n",
       "\\item[night\\textbackslash{}\\_parking\\textbackslash{}\\_place\\textbackslash{}\\_postal\\textbackslash{}\\_code] 18\n",
       "\\item[day\\textbackslash{}\\_parking\\textbackslash{}\\_place] 19\n",
       "\\item[day\\textbackslash{}\\_parking\\textbackslash{}\\_place\\textbackslash{}\\_postal\\textbackslash{}\\_code] 20\n",
       "\\item[theft\\textbackslash{}\\_protection\\textbackslash{}\\_installation] 21\n",
       "\\item[theft\\textbackslash{}\\_protection\\textbackslash{}\\_device\\textbackslash{}\\_1] 22\n",
       "\\item[theft\\textbackslash{}\\_protection\\textbackslash{}\\_device\\textbackslash{}\\_2] 23\n",
       "\\item[origin] 24\n",
       "\\item[buy\\textbackslash{}\\_year] 25\n",
       "\\item[registration\\textbackslash{}\\_date] 26\n",
       "\\item[is\\textbackslash{}\\_damaged] 27\n",
       "\\item[leasing] 28\n",
       "\\item[car\\textbackslash{}\\_worth] 29\n",
       "\\item[main\\textbackslash{}\\_driver\\textbackslash{}\\_postal\\textbackslash{}\\_code] 30\n",
       "\\item[main\\textbackslash{}\\_driver\\textbackslash{}\\_age] 31\n",
       "\\item[main\\textbackslash{}\\_driver\\textbackslash{}\\_gender] 32\n",
       "\\item[insurance\\textbackslash{}\\_start\\textbackslash{}\\_date] 33\n",
       "\\item[phone\\textbackslash{}\\_exists] 34\n",
       "\\item[calc\\textbackslash{}\\_complete] 35\n",
       "\\item[calc\\textbackslash{}\\_incomplete] 36\n",
       "\\item[calc\\textbackslash{}\\_finished] 37\n",
       "\\item[phone\\textbackslash{}\\_yes] 38\n",
       "\\item[phone\\textbackslash{}\\_no] 39\n",
       "\\item[calculation\\textbackslash{}\\_type] 40\n",
       "\\item[terms\\textbackslash{}\\_acceptance] 41\n",
       "\\item[phone\\textbackslash{}\\_acceptance] 42\n",
       "\\item[phone\\textbackslash{}\\_accepted] 43\n",
       "\\item[step] 44\n",
       "\\item[created\\textbackslash{}\\_at] 45\n",
       "\\item[created\\textbackslash{}\\_at\\textbackslash{}\\_date] 46\n",
       "\\item[affiliation\\textbackslash{}\\_id] 47\n",
       "\\item[user\\textbackslash{}\\_id] 48\n",
       "\\item[sent\\textbackslash{}\\_to\\textbackslash{}\\_sf] 49\n",
       "\\item[sf\\textbackslash{}\\_r\\textbackslash{}\\_purchasing] 50\n",
       "\\item[calculation\\textbackslash{}\\_state] 51\n",
       "\\item[oc\\textbackslash{}\\_offers\\textbackslash{}\\_qty] 52\n",
       "\\item[oc\\textbackslash{}\\_offer\\textbackslash{}\\_min\\textbackslash{}\\_val] 53\n",
       "\\item[ac\\textbackslash{}\\_offers\\textbackslash{}\\_qty] 54\n",
       "\\item[ac\\textbackslash{}\\_offer\\textbackslash{}\\_min\\textbackslash{}\\_val] 55\n",
       "\\item[b2c\\textbackslash{}\\_leads\\textbackslash{}\\_sent] 56\n",
       "\\item[form\\textbackslash{}\\_finished\\textbackslash{}\\_at] 57\n",
       "\\item[offer\\textbackslash{}\\_first\\textbackslash{}\\_at] 58\n",
       "\\item[offer\\textbackslash{}\\_last\\textbackslash{}\\_at] 59\n",
       "\\item[offer\\textbackslash{}\\_first\\textbackslash{}\\_after] 60\n",
       "\\item[offer\\textbackslash{}\\_last\\textbackslash{}\\_after] 61\n",
       "\\item[phone\\textbackslash{}\\_lookup\\textbackslash{}\\_status] 62\n",
       "\\item[utm\\textbackslash{}\\_campaign] 63\n",
       "\\item[utm\\textbackslash{}\\_content] 64\n",
       "\\item[utm\\textbackslash{}\\_medium] 65\n",
       "\\item[utm\\textbackslash{}\\_source] 66\n",
       "\\item[pkb\\textbackslash{}\\_transform\\textbackslash{}\\_ver] 67\n",
       "\\item[went\\textbackslash{}\\_to\\textbackslash{}\\_partners] 68\n",
       "\\item[contact\\textbackslash{}\\_requests] 69\n",
       "\\item[Acc\\textbackslash{}\\_Agreement\\textbackslash{}\\_call\\textbackslash{}\\_\\textbackslash{}\\_c] 75\n",
       "\\item[Acc\\textbackslash{}\\_Agreement\\textbackslash{}\\_marketing\\textbackslash{}\\_\\textbackslash{}\\_c] 76\n",
       "\\item[Acc\\textbackslash{}\\_Agreement\\textbackslash{}\\_newsletter\\textbackslash{}\\_\\textbackslash{}\\_c] 77\n",
       "\\item[Acc\\textbackslash{}\\_Birthdate\\textbackslash{}\\_\\textbackslash{}\\_c] 78\n",
       "\\item[Acc\\textbackslash{}\\_PhoneHLRStatus\\textbackslash{}\\_\\textbackslash{}\\_c] 79\n",
       "\\item[Account\\textbackslash{}\\_\\textbackslash{}\\_r.AccountSource] 81\n",
       "\\item[Account\\textbackslash{}\\_\\textbackslash{}\\_r.AgreementCall\\textbackslash{}\\_\\textbackslash{}\\_pc] 82\n",
       "\\item[Account\\textbackslash{}\\_\\textbackslash{}\\_r.AgreementMarketing\\textbackslash{}\\_\\textbackslash{}\\_pc] 83\n",
       "\\item[Account\\textbackslash{}\\_\\textbackslash{}\\_r.AgreementNewsletter\\textbackslash{}\\_\\textbackslash{}\\_pc] 84\n",
       "\\item[Account\\textbackslash{}\\_\\textbackslash{}\\_r.BillingCity] 85\n",
       "\\item[Account\\textbackslash{}\\_\\textbackslash{}\\_r.BillingPostalCode] 86\n",
       "\\item[Account\\textbackslash{}\\_\\textbackslash{}\\_r.CreatedById] 87\n",
       "\\item[Account\\textbackslash{}\\_\\textbackslash{}\\_r.CreatedDate] 88\n",
       "\\item[Account\\textbackslash{}\\_\\textbackslash{}\\_r.Gender\\textbackslash{}\\_\\textbackslash{}\\_pc] 89\n",
       "\\item[Account\\textbackslash{}\\_\\textbackslash{}\\_r.Id] 90\n",
       "\\item[Account\\textbackslash{}\\_\\textbackslash{}\\_r.IsDeleted] 91\n",
       "\\item[Account\\textbackslash{}\\_\\textbackslash{}\\_r.IsPersonAccount] 92\n",
       "\\item[Account\\textbackslash{}\\_\\textbackslash{}\\_r.LegacyID\\textbackslash{}\\_\\textbackslash{}\\_c] 95\n",
       "\\item[Account\\textbackslash{}\\_\\textbackslash{}\\_r.OwnerId] 96\n",
       "\\item[Account\\textbackslash{}\\_\\textbackslash{}\\_r.PersonBirthdate] 97\n",
       "\\item[Account\\textbackslash{}\\_\\textbackslash{}\\_r.PersonContactId] 98\n",
       "\\item[Account\\textbackslash{}\\_\\textbackslash{}\\_r.PhoneHLRStatus\\textbackslash{}\\_\\textbackslash{}\\_pc] 99\n",
       "\\item[Account\\textbackslash{}\\_\\textbackslash{}\\_r.PhoneNATStatus\\textbackslash{}\\_\\textbackslash{}\\_pc] 100\n",
       "\\item[Account\\textbackslash{}\\_\\textbackslash{}\\_r.RecordTypeId] 101\n",
       "\\item[Account\\textbackslash{}\\_\\textbackslash{}\\_r.Salutation] 102\n",
       "\\item[Account\\textbackslash{}\\_\\textbackslash{}\\_r.Type] 103\n",
       "\\item[CalculationToken\\textbackslash{}\\_\\textbackslash{}\\_c] 104\n",
       "\\item[CarEngineCapacity\\textbackslash{}\\_\\textbackslash{}\\_c] 105\n",
       "\\item[CarFuelType\\textbackslash{}\\_\\textbackslash{}\\_c] 106\n",
       "\\item[CarMake\\textbackslash{}\\_\\textbackslash{}\\_c] 107\n",
       "\\item[CarModel\\textbackslash{}\\_\\textbackslash{}\\_c] 108\n",
       "\\item[CarYear\\textbackslash{}\\_\\textbackslash{}\\_c] 109\n",
       "\\item[CpcPaid\\textbackslash{}\\_\\textbackslash{}\\_c] 111\n",
       "\\item[CreatedBy.Alias] 112\n",
       "\\item[CreatedBy.CreatedDate] 113\n",
       "\\item[CreatedById] 114\n",
       "\\item[CreatedDate] 115\n",
       "\\item[Id] 117\n",
       "\\item[IsDeleted] 119\n",
       "\\item[Mpc\\textbackslash{}\\_\\textbackslash{}\\_c] 126\n",
       "\\item[PolicyStartDate\\textbackslash{}\\_\\textbackslash{}\\_c] 130\n",
       "\\item[ProductScope\\textbackslash{}\\_\\textbackslash{}\\_c] 132\n",
       "\\item[Source\\textbackslash{}\\_\\textbackslash{}\\_c] 137\n",
       "\\item[WentToPartner\\textbackslash{}\\_\\textbackslash{}\\_c] 142\n",
       "\\item[dont\\textbackslash{}\\_have\\textbackslash{}\\_this\\textbackslash{}\\_car\\textbackslash{}\\_\\textbackslash{}\\_c] 143\n",
       "\\item[TelehubStatus\\textbackslash{}\\_\\textbackslash{}\\_c] 141\n",
       "\\end{description*}\n"
      ],
      "text/markdown": [
       "calculation_id\n",
       ":   1calculation_token\n",
       ":   2etx_make_name\n",
       ":   3etx_model_name\n",
       ":   4etx_fuel_code\n",
       ":   5production_year\n",
       ":   6etx_model_code\n",
       ":   7vehicle_id\n",
       ":   8protection_scope\n",
       ":   9kind\n",
       ":   10usage_type\n",
       ":   11use_frequency\n",
       ":   12child_carriage_frequency\n",
       ":   13mileage\n",
       ":   14yearly_mileage\n",
       ":   15used_abroad\n",
       ":   16night_parking_place\n",
       ":   17night_parking_place_postal_code\n",
       ":   18day_parking_place\n",
       ":   19day_parking_place_postal_code\n",
       ":   20theft_protection_installation\n",
       ":   21theft_protection_device_1\n",
       ":   22theft_protection_device_2\n",
       ":   23origin\n",
       ":   24buy_year\n",
       ":   25registration_date\n",
       ":   26is_damaged\n",
       ":   27leasing\n",
       ":   28car_worth\n",
       ":   29main_driver_postal_code\n",
       ":   30main_driver_age\n",
       ":   31main_driver_gender\n",
       ":   32insurance_start_date\n",
       ":   33phone_exists\n",
       ":   34calc_complete\n",
       ":   35calc_incomplete\n",
       ":   36calc_finished\n",
       ":   37phone_yes\n",
       ":   38phone_no\n",
       ":   39calculation_type\n",
       ":   40terms_acceptance\n",
       ":   41phone_acceptance\n",
       ":   42phone_accepted\n",
       ":   43step\n",
       ":   44created_at\n",
       ":   45created_at_date\n",
       ":   46affiliation_id\n",
       ":   47user_id\n",
       ":   48sent_to_sf\n",
       ":   49sf_r_purchasing\n",
       ":   50calculation_state\n",
       ":   51oc_offers_qty\n",
       ":   52oc_offer_min_val\n",
       ":   53ac_offers_qty\n",
       ":   54ac_offer_min_val\n",
       ":   55b2c_leads_sent\n",
       ":   56form_finished_at\n",
       ":   57offer_first_at\n",
       ":   58offer_last_at\n",
       ":   59offer_first_after\n",
       ":   60offer_last_after\n",
       ":   61phone_lookup_status\n",
       ":   62utm_campaign\n",
       ":   63utm_content\n",
       ":   64utm_medium\n",
       ":   65utm_source\n",
       ":   66pkb_transform_ver\n",
       ":   67went_to_partners\n",
       ":   68contact_requests\n",
       ":   69Acc_Agreement_call__c\n",
       ":   75Acc_Agreement_marketing__c\n",
       ":   76Acc_Agreement_newsletter__c\n",
       ":   77Acc_Birthdate__c\n",
       ":   78Acc_PhoneHLRStatus__c\n",
       ":   79Account__r.AccountSource\n",
       ":   81Account__r.AgreementCall__pc\n",
       ":   82Account__r.AgreementMarketing__pc\n",
       ":   83Account__r.AgreementNewsletter__pc\n",
       ":   84Account__r.BillingCity\n",
       ":   85Account__r.BillingPostalCode\n",
       ":   86Account__r.CreatedById\n",
       ":   87Account__r.CreatedDate\n",
       ":   88Account__r.Gender__pc\n",
       ":   89Account__r.Id\n",
       ":   90Account__r.IsDeleted\n",
       ":   91Account__r.IsPersonAccount\n",
       ":   92Account__r.LegacyID__c\n",
       ":   95Account__r.OwnerId\n",
       ":   96Account__r.PersonBirthdate\n",
       ":   97Account__r.PersonContactId\n",
       ":   98Account__r.PhoneHLRStatus__pc\n",
       ":   99Account__r.PhoneNATStatus__pc\n",
       ":   100Account__r.RecordTypeId\n",
       ":   101Account__r.Salutation\n",
       ":   102Account__r.Type\n",
       ":   103CalculationToken__c\n",
       ":   104CarEngineCapacity__c\n",
       ":   105CarFuelType__c\n",
       ":   106CarMake__c\n",
       ":   107CarModel__c\n",
       ":   108CarYear__c\n",
       ":   109CpcPaid__c\n",
       ":   111CreatedBy.Alias\n",
       ":   112CreatedBy.CreatedDate\n",
       ":   113CreatedById\n",
       ":   114CreatedDate\n",
       ":   115Id\n",
       ":   117IsDeleted\n",
       ":   119Mpc__c\n",
       ":   126PolicyStartDate__c\n",
       ":   130ProductScope__c\n",
       ":   132Source__c\n",
       ":   137WentToPartner__c\n",
       ":   142dont_have_this_car__c\n",
       ":   143TelehubStatus__c\n",
       ":   141\n",
       "\n"
      ],
      "text/plain": [
       "                    calculation_id                  calculation_token \n",
       "                                 1                                  2 \n",
       "                     etx_make_name                     etx_model_name \n",
       "                                 3                                  4 \n",
       "                     etx_fuel_code                    production_year \n",
       "                                 5                                  6 \n",
       "                    etx_model_code                         vehicle_id \n",
       "                                 7                                  8 \n",
       "                  protection_scope                               kind \n",
       "                                 9                                 10 \n",
       "                        usage_type                      use_frequency \n",
       "                                11                                 12 \n",
       "          child_carriage_frequency                            mileage \n",
       "                                13                                 14 \n",
       "                    yearly_mileage                        used_abroad \n",
       "                                15                                 16 \n",
       "               night_parking_place    night_parking_place_postal_code \n",
       "                                17                                 18 \n",
       "                 day_parking_place      day_parking_place_postal_code \n",
       "                                19                                 20 \n",
       "     theft_protection_installation          theft_protection_device_1 \n",
       "                                21                                 22 \n",
       "         theft_protection_device_2                             origin \n",
       "                                23                                 24 \n",
       "                          buy_year                  registration_date \n",
       "                                25                                 26 \n",
       "                        is_damaged                            leasing \n",
       "                                27                                 28 \n",
       "                         car_worth            main_driver_postal_code \n",
       "                                29                                 30 \n",
       "                   main_driver_age                 main_driver_gender \n",
       "                                31                                 32 \n",
       "              insurance_start_date                       phone_exists \n",
       "                                33                                 34 \n",
       "                     calc_complete                    calc_incomplete \n",
       "                                35                                 36 \n",
       "                     calc_finished                          phone_yes \n",
       "                                37                                 38 \n",
       "                          phone_no                   calculation_type \n",
       "                                39                                 40 \n",
       "                  terms_acceptance                   phone_acceptance \n",
       "                                41                                 42 \n",
       "                    phone_accepted                               step \n",
       "                                43                                 44 \n",
       "                        created_at                    created_at_date \n",
       "                                45                                 46 \n",
       "                    affiliation_id                            user_id \n",
       "                                47                                 48 \n",
       "                        sent_to_sf                    sf_r_purchasing \n",
       "                                49                                 50 \n",
       "                 calculation_state                      oc_offers_qty \n",
       "                                51                                 52 \n",
       "                  oc_offer_min_val                      ac_offers_qty \n",
       "                                53                                 54 \n",
       "                  ac_offer_min_val                     b2c_leads_sent \n",
       "                                55                                 56 \n",
       "                  form_finished_at                     offer_first_at \n",
       "                                57                                 58 \n",
       "                     offer_last_at                  offer_first_after \n",
       "                                59                                 60 \n",
       "                  offer_last_after                phone_lookup_status \n",
       "                                61                                 62 \n",
       "                      utm_campaign                        utm_content \n",
       "                                63                                 64 \n",
       "                        utm_medium                         utm_source \n",
       "                                65                                 66 \n",
       "                 pkb_transform_ver                   went_to_partners \n",
       "                                67                                 68 \n",
       "                  contact_requests              Acc_Agreement_call__c \n",
       "                                69                                 75 \n",
       "        Acc_Agreement_marketing__c        Acc_Agreement_newsletter__c \n",
       "                                76                                 77 \n",
       "                  Acc_Birthdate__c              Acc_PhoneHLRStatus__c \n",
       "                                78                                 79 \n",
       "          Account__r.AccountSource       Account__r.AgreementCall__pc \n",
       "                                81                                 82 \n",
       " Account__r.AgreementMarketing__pc Account__r.AgreementNewsletter__pc \n",
       "                                83                                 84 \n",
       "            Account__r.BillingCity       Account__r.BillingPostalCode \n",
       "                                85                                 86 \n",
       "            Account__r.CreatedById             Account__r.CreatedDate \n",
       "                                87                                 88 \n",
       "             Account__r.Gender__pc                      Account__r.Id \n",
       "                                89                                 90 \n",
       "              Account__r.IsDeleted         Account__r.IsPersonAccount \n",
       "                                91                                 92 \n",
       "            Account__r.LegacyID__c                 Account__r.OwnerId \n",
       "                                95                                 96 \n",
       "        Account__r.PersonBirthdate         Account__r.PersonContactId \n",
       "                                97                                 98 \n",
       "     Account__r.PhoneHLRStatus__pc      Account__r.PhoneNATStatus__pc \n",
       "                                99                                100 \n",
       "           Account__r.RecordTypeId              Account__r.Salutation \n",
       "                               101                                102 \n",
       "                   Account__r.Type                CalculationToken__c \n",
       "                               103                                104 \n",
       "              CarEngineCapacity__c                     CarFuelType__c \n",
       "                               105                                106 \n",
       "                        CarMake__c                        CarModel__c \n",
       "                               107                                108 \n",
       "                        CarYear__c                         CpcPaid__c \n",
       "                               109                                111 \n",
       "                   CreatedBy.Alias              CreatedBy.CreatedDate \n",
       "                               112                                113 \n",
       "                       CreatedById                        CreatedDate \n",
       "                               114                                115 \n",
       "                                Id                          IsDeleted \n",
       "                               117                                119 \n",
       "                            Mpc__c                 PolicyStartDate__c \n",
       "                               126                                130 \n",
       "                   ProductScope__c                          Source__c \n",
       "                               132                                137 \n",
       "                  WentToPartner__c              dont_have_this_car__c \n",
       "                               142                                143 \n",
       "                  TelehubStatus__c \n",
       "                               141 "
      ]
     },
     "metadata": {},
     "output_type": "display_data"
    }
   ],
   "source": [
    "unlist(indices)"
   ]
  },
  {
   "cell_type": "code",
   "execution_count": 11,
   "metadata": {
    "collapsed": true
   },
   "outputs": [],
   "source": [
    "#wlasciwa ramka danych - to co w testowym + etykieta\n",
    "train = df[,c(unlist(indices),labelindex)]"
   ]
  },
  {
   "cell_type": "code",
   "execution_count": 12,
   "metadata": {},
   "outputs": [
    {
     "data": {
      "text/html": [
       "116"
      ],
      "text/latex": [
       "116"
      ],
      "text/markdown": [
       "116"
      ],
      "text/plain": [
       "[1] 116"
      ]
     },
     "metadata": {},
     "output_type": "display_data"
    }
   ],
   "source": [
    "ncol(train)"
   ]
  },
  {
   "cell_type": "code",
   "execution_count": 13,
   "metadata": {},
   "outputs": [
    {
     "data": {
      "text/html": [
       "<table>\n",
       "<thead><tr><th></th><th scope=col>calculation_id</th><th scope=col>calculation_token</th><th scope=col>etx_make_name</th><th scope=col>etx_model_name</th><th scope=col>etx_fuel_code</th><th scope=col>production_year</th><th scope=col>etx_model_code</th><th scope=col>vehicle_id</th><th scope=col>protection_scope</th><th scope=col>kind</th><th scope=col>⋯</th><th scope=col>Id</th><th scope=col>IsDeleted</th><th scope=col>Mpc__c</th><th scope=col>PolicyStartDate__c</th><th scope=col>ProductScope__c</th><th scope=col>Source__c</th><th scope=col>WentToPartner__c</th><th scope=col>dont_have_this_car__c</th><th scope=col>TelehubStatus__c</th><th scope=col>Sale.success</th></tr></thead>\n",
       "<tbody>\n",
       "\t<tr><th scope=row>1</th><td>1847410           </td><td>Fc5o2b            </td><td>RENAULT           </td><td>Megane            </td><td>100001            </td><td>1997              </td><td>8191              </td><td>7045              </td><td>1                 </td><td>car               </td><td>⋯                 </td><td>a00410000086mtqAAA</td><td>FALSE             </td><td>NA                </td><td>42811             </td><td>OC                </td><td>full_calc         </td><td>FALSE             </td><td>FALSE             </td><td>NA                </td><td>0                 </td></tr>\n",
       "\t<tr><th scope=row>3</th><td>1847453           </td><td>dRXV5F            </td><td>MAZDA             </td><td>323               </td><td>100001            </td><td>1996              </td><td>7884              </td><td>34707             </td><td>1                 </td><td>car               </td><td>⋯                 </td><td>a00410000086mniAAA</td><td>FALSE             </td><td>NA                </td><td>42794             </td><td>OC                </td><td>full_calc         </td><td>FALSE             </td><td>FALSE             </td><td>NA                </td><td>0                 </td></tr>\n",
       "\t<tr><th scope=row>4</th><td>1847456           </td><td>eRdBt1            </td><td>AUDI              </td><td>Q7                </td><td>100003            </td><td>2007              </td><td>12113             </td><td>60275             </td><td>2                 </td><td>car               </td><td>⋯                 </td><td>a00410000086lSqAAI</td><td>FALSE             </td><td>NA                </td><td>42795             </td><td>OC+AC             </td><td>full_calc         </td><td>FALSE             </td><td>FALSE             </td><td>NA                </td><td>0                 </td></tr>\n",
       "\t<tr><th scope=row>5</th><td>1847478           </td><td>ZWLyxM            </td><td>VOLKSWAGEN        </td><td>Passat            </td><td>100003            </td><td>2001              </td><td>10533             </td><td>41583             </td><td>1                 </td><td>car               </td><td>⋯                 </td><td>a00410000086mwuAAA</td><td>FALSE             </td><td>NA                </td><td>42807             </td><td>OC                </td><td>full_calc         </td><td> TRUE             </td><td>FALSE             </td><td>NA                </td><td>0                 </td></tr>\n",
       "\t<tr><th scope=row>6</th><td>1847487           </td><td>rCzLgy            </td><td>PEUGEOT           </td><td>406               </td><td>100003            </td><td>2000              </td><td>9674              </td><td>36042             </td><td>1                 </td><td>car               </td><td>⋯                 </td><td>a00410000086mzKAAQ</td><td>FALSE             </td><td>NA                </td><td>42803             </td><td>OC                </td><td>full_calc         </td><td>FALSE             </td><td>FALSE             </td><td>NA                </td><td>0                 </td></tr>\n",
       "\t<tr><th scope=row>7</th><td>1847494           </td><td>A1_zH9            </td><td>SKODA             </td><td>Fabia             </td><td>100001            </td><td>2001              </td><td>10269             </td><td>44128             </td><td>1                 </td><td>car               </td><td>⋯                 </td><td>a00410000086mvDAAQ</td><td>FALSE             </td><td>NA                </td><td>42822             </td><td>OC                </td><td>full_calc         </td><td>FALSE             </td><td>FALSE             </td><td>NA                </td><td>1                 </td></tr>\n",
       "</tbody>\n",
       "</table>\n"
      ],
      "text/latex": [
       "\\begin{tabular}{r|llllllllllllllllllllllllllllllllllllllllllllllllllllllllllllllllllllllllllllllllllllllllllllllllllllllllllllllllllll}\n",
       "  & calculation\\_id & calculation\\_token & etx\\_make\\_name & etx\\_model\\_name & etx\\_fuel\\_code & production\\_year & etx\\_model\\_code & vehicle\\_id & protection\\_scope & kind & ⋯ & Id & IsDeleted & Mpc\\_\\_c & PolicyStartDate\\_\\_c & ProductScope\\_\\_c & Source\\_\\_c & WentToPartner\\_\\_c & dont\\_have\\_this\\_car\\_\\_c & TelehubStatus\\_\\_c & Sale.success\\\\\n",
       "\\hline\n",
       "\t1 & 1847410            & Fc5o2b             & RENAULT            & Megane             & 100001             & 1997               & 8191               & 7045               & 1                  & car                & ⋯                  & a00410000086mtqAAA & FALSE              & NA                 & 42811              & OC                 & full\\_calc        & FALSE              & FALSE              & NA                 & 0                 \\\\\n",
       "\t3 & 1847453            & dRXV5F             & MAZDA              & 323                & 100001             & 1996               & 7884               & 34707              & 1                  & car                & ⋯                  & a00410000086mniAAA & FALSE              & NA                 & 42794              & OC                 & full\\_calc        & FALSE              & FALSE              & NA                 & 0                 \\\\\n",
       "\t4 & 1847456            & eRdBt1             & AUDI               & Q7                 & 100003             & 2007               & 12113              & 60275              & 2                  & car                & ⋯                  & a00410000086lSqAAI & FALSE              & NA                 & 42795              & OC+AC              & full\\_calc        & FALSE              & FALSE              & NA                 & 0                 \\\\\n",
       "\t5 & 1847478            & ZWLyxM             & VOLKSWAGEN         & Passat             & 100003             & 2001               & 10533              & 41583              & 1                  & car                & ⋯                  & a00410000086mwuAAA & FALSE              & NA                 & 42807              & OC                 & full\\_calc        &  TRUE              & FALSE              & NA                 & 0                 \\\\\n",
       "\t6 & 1847487            & rCzLgy             & PEUGEOT            & 406                & 100003             & 2000               & 9674               & 36042              & 1                  & car                & ⋯                  & a00410000086mzKAAQ & FALSE              & NA                 & 42803              & OC                 & full\\_calc        & FALSE              & FALSE              & NA                 & 0                 \\\\\n",
       "\t7 & 1847494            & A1\\_zH9           & SKODA              & Fabia              & 100001             & 2001               & 10269              & 44128              & 1                  & car                & ⋯                  & a00410000086mvDAAQ & FALSE              & NA                 & 42822              & OC                 & full\\_calc        & FALSE              & FALSE              & NA                 & 1                 \\\\\n",
       "\\end{tabular}\n"
      ],
      "text/markdown": [
       "\n",
       "| <!--/--> | calculation_id | calculation_token | etx_make_name | etx_model_name | etx_fuel_code | production_year | etx_model_code | vehicle_id | protection_scope | kind | ⋯ | Id | IsDeleted | Mpc__c | PolicyStartDate__c | ProductScope__c | Source__c | WentToPartner__c | dont_have_this_car__c | TelehubStatus__c | Sale.success | \n",
       "|---|---|---|---|---|---|\n",
       "| 1 | 1847410            | Fc5o2b             | RENAULT            | Megane             | 100001             | 1997               | 8191               | 7045               | 1                  | car                | ⋯                  | a00410000086mtqAAA | FALSE              | NA                 | 42811              | OC                 | full_calc          | FALSE              | FALSE              | NA                 | 0                  | \n",
       "| 3 | 1847453            | dRXV5F             | MAZDA              | 323                | 100001             | 1996               | 7884               | 34707              | 1                  | car                | ⋯                  | a00410000086mniAAA | FALSE              | NA                 | 42794              | OC                 | full_calc          | FALSE              | FALSE              | NA                 | 0                  | \n",
       "| 4 | 1847456            | eRdBt1             | AUDI               | Q7                 | 100003             | 2007               | 12113              | 60275              | 2                  | car                | ⋯                  | a00410000086lSqAAI | FALSE              | NA                 | 42795              | OC+AC              | full_calc          | FALSE              | FALSE              | NA                 | 0                  | \n",
       "| 5 | 1847478            | ZWLyxM             | VOLKSWAGEN         | Passat             | 100003             | 2001               | 10533              | 41583              | 1                  | car                | ⋯                  | a00410000086mwuAAA | FALSE              | NA                 | 42807              | OC                 | full_calc          |  TRUE              | FALSE              | NA                 | 0                  | \n",
       "| 6 | 1847487            | rCzLgy             | PEUGEOT            | 406                | 100003             | 2000               | 9674               | 36042              | 1                  | car                | ⋯                  | a00410000086mzKAAQ | FALSE              | NA                 | 42803              | OC                 | full_calc          | FALSE              | FALSE              | NA                 | 0                  | \n",
       "| 7 | 1847494            | A1_zH9             | SKODA              | Fabia              | 100001             | 2001               | 10269              | 44128              | 1                  | car                | ⋯                  | a00410000086mvDAAQ | FALSE              | NA                 | 42822              | OC                 | full_calc          | FALSE              | FALSE              | NA                 | 1                  | \n",
       "\n",
       "\n"
      ],
      "text/plain": [
       "  calculation_id calculation_token etx_make_name etx_model_name etx_fuel_code\n",
       "1 1847410        Fc5o2b            RENAULT       Megane         100001       \n",
       "3 1847453        dRXV5F            MAZDA         323            100001       \n",
       "4 1847456        eRdBt1            AUDI          Q7             100003       \n",
       "5 1847478        ZWLyxM            VOLKSWAGEN    Passat         100003       \n",
       "6 1847487        rCzLgy            PEUGEOT       406            100003       \n",
       "7 1847494        A1_zH9            SKODA         Fabia          100001       \n",
       "  production_year etx_model_code vehicle_id protection_scope kind ⋯\n",
       "1 1997            8191           7045       1                car  ⋯\n",
       "3 1996            7884           34707      1                car  ⋯\n",
       "4 2007            12113          60275      2                car  ⋯\n",
       "5 2001            10533          41583      1                car  ⋯\n",
       "6 2000            9674           36042      1                car  ⋯\n",
       "7 2001            10269          44128      1                car  ⋯\n",
       "  Id                 IsDeleted Mpc__c PolicyStartDate__c ProductScope__c\n",
       "1 a00410000086mtqAAA FALSE     NA     42811              OC             \n",
       "3 a00410000086mniAAA FALSE     NA     42794              OC             \n",
       "4 a00410000086lSqAAI FALSE     NA     42795              OC+AC          \n",
       "5 a00410000086mwuAAA FALSE     NA     42807              OC             \n",
       "6 a00410000086mzKAAQ FALSE     NA     42803              OC             \n",
       "7 a00410000086mvDAAQ FALSE     NA     42822              OC             \n",
       "  Source__c WentToPartner__c dont_have_this_car__c TelehubStatus__c\n",
       "1 full_calc FALSE            FALSE                 NA              \n",
       "3 full_calc FALSE            FALSE                 NA              \n",
       "4 full_calc FALSE            FALSE                 NA              \n",
       "5 full_calc  TRUE            FALSE                 NA              \n",
       "6 full_calc FALSE            FALSE                 NA              \n",
       "7 full_calc FALSE            FALSE                 NA              \n",
       "  Sale.success\n",
       "1 0           \n",
       "3 0           \n",
       "4 0           \n",
       "5 0           \n",
       "6 0           \n",
       "7 1           "
      ]
     },
     "metadata": {},
     "output_type": "display_data"
    }
   ],
   "source": [
    "head(train)"
   ]
  },
  {
   "cell_type": "markdown",
   "metadata": {},
   "source": [
    "## usuwanie identyfikatorów"
   ]
  },
  {
   "cell_type": "code",
   "execution_count": 14,
   "metadata": {},
   "outputs": [
    {
     "data": {
      "text/html": [
       "<ol class=list-inline>\n",
       "\t<li>'calculation_id'</li>\n",
       "\t<li>'vehicle_id'</li>\n",
       "\t<li>'affiliation_id'</li>\n",
       "\t<li>'user_id'</li>\n",
       "\t<li>'Account__r.CreatedById'</li>\n",
       "\t<li>'Account__r.Id'</li>\n",
       "\t<li>'Account__r.LegacyID__c'</li>\n",
       "\t<li>'Account__r.OwnerId'</li>\n",
       "\t<li>'Account__r.PersonContactId'</li>\n",
       "\t<li>'Account__r.RecordTypeId'</li>\n",
       "\t<li>'CpcPaid__c'</li>\n",
       "\t<li>'CreatedById'</li>\n",
       "\t<li>'Id'</li>\n",
       "</ol>\n"
      ],
      "text/latex": [
       "\\begin{enumerate*}\n",
       "\\item 'calculation\\_id'\n",
       "\\item 'vehicle\\_id'\n",
       "\\item 'affiliation\\_id'\n",
       "\\item 'user\\_id'\n",
       "\\item 'Account\\_\\_r.CreatedById'\n",
       "\\item 'Account\\_\\_r.Id'\n",
       "\\item 'Account\\_\\_r.LegacyID\\_\\_c'\n",
       "\\item 'Account\\_\\_r.OwnerId'\n",
       "\\item 'Account\\_\\_r.PersonContactId'\n",
       "\\item 'Account\\_\\_r.RecordTypeId'\n",
       "\\item 'CpcPaid\\_\\_c'\n",
       "\\item 'CreatedById'\n",
       "\\item 'Id'\n",
       "\\end{enumerate*}\n"
      ],
      "text/markdown": [
       "1. 'calculation_id'\n",
       "2. 'vehicle_id'\n",
       "3. 'affiliation_id'\n",
       "4. 'user_id'\n",
       "5. 'Account__r.CreatedById'\n",
       "6. 'Account__r.Id'\n",
       "7. 'Account__r.LegacyID__c'\n",
       "8. 'Account__r.OwnerId'\n",
       "9. 'Account__r.PersonContactId'\n",
       "10. 'Account__r.RecordTypeId'\n",
       "11. 'CpcPaid__c'\n",
       "12. 'CreatedById'\n",
       "13. 'Id'\n",
       "\n",
       "\n"
      ],
      "text/plain": [
       " [1] \"calculation_id\"             \"vehicle_id\"                \n",
       " [3] \"affiliation_id\"             \"user_id\"                   \n",
       " [5] \"Account__r.CreatedById\"     \"Account__r.Id\"             \n",
       " [7] \"Account__r.LegacyID__c\"     \"Account__r.OwnerId\"        \n",
       " [9] \"Account__r.PersonContactId\" \"Account__r.RecordTypeId\"   \n",
       "[11] \"CpcPaid__c\"                 \"CreatedById\"               \n",
       "[13] \"Id\"                        "
      ]
     },
     "metadata": {},
     "output_type": "display_data"
    }
   ],
   "source": [
    "colnames(train)[grepl(\".*id.*\", colnames(train), ignore.case = T)]"
   ]
  },
  {
   "cell_type": "code",
   "execution_count": 15,
   "metadata": {
    "collapsed": true
   },
   "outputs": [],
   "source": [
    "ids = which(grepl(\".*id.*\",colnames(train),ignore.case=T))"
   ]
  },
  {
   "cell_type": "code",
   "execution_count": 16,
   "metadata": {},
   "outputs": [
    {
     "data": {
      "text/html": [
       "<ol class=list-inline>\n",
       "\t<li>1</li>\n",
       "\t<li>8</li>\n",
       "\t<li>47</li>\n",
       "\t<li>48</li>\n",
       "\t<li>81</li>\n",
       "\t<li>84</li>\n",
       "\t<li>87</li>\n",
       "\t<li>88</li>\n",
       "\t<li>90</li>\n",
       "\t<li>93</li>\n",
       "\t<li>102</li>\n",
       "\t<li>105</li>\n",
       "\t<li>107</li>\n",
       "</ol>\n"
      ],
      "text/latex": [
       "\\begin{enumerate*}\n",
       "\\item 1\n",
       "\\item 8\n",
       "\\item 47\n",
       "\\item 48\n",
       "\\item 81\n",
       "\\item 84\n",
       "\\item 87\n",
       "\\item 88\n",
       "\\item 90\n",
       "\\item 93\n",
       "\\item 102\n",
       "\\item 105\n",
       "\\item 107\n",
       "\\end{enumerate*}\n"
      ],
      "text/markdown": [
       "1. 1\n",
       "2. 8\n",
       "3. 47\n",
       "4. 48\n",
       "5. 81\n",
       "6. 84\n",
       "7. 87\n",
       "8. 88\n",
       "9. 90\n",
       "10. 93\n",
       "11. 102\n",
       "12. 105\n",
       "13. 107\n",
       "\n",
       "\n"
      ],
      "text/plain": [
       " [1]   1   8  47  48  81  84  87  88  90  93 102 105 107"
      ]
     },
     "metadata": {},
     "output_type": "display_data"
    }
   ],
   "source": [
    "#identyfikatory, do usuniecia\n",
    "ids"
   ]
  },
  {
   "cell_type": "code",
   "execution_count": 17,
   "metadata": {},
   "outputs": [
    {
     "data": {
      "text/html": [
       "<ol class=list-inline>\n",
       "\t<li>'calculation_id'</li>\n",
       "\t<li>'vehicle_id'</li>\n",
       "\t<li>'affiliation_id'</li>\n",
       "\t<li>'user_id'</li>\n",
       "\t<li>'Account__r.CreatedById'</li>\n",
       "\t<li>'Account__r.Id'</li>\n",
       "\t<li>'Account__r.LegacyID__c'</li>\n",
       "\t<li>'Account__r.OwnerId'</li>\n",
       "\t<li>'Account__r.PersonContactId'</li>\n",
       "\t<li>'Account__r.RecordTypeId'</li>\n",
       "\t<li>'CpcPaid__c'</li>\n",
       "\t<li>'CreatedById'</li>\n",
       "\t<li>'Id'</li>\n",
       "</ol>\n"
      ],
      "text/latex": [
       "\\begin{enumerate*}\n",
       "\\item 'calculation\\_id'\n",
       "\\item 'vehicle\\_id'\n",
       "\\item 'affiliation\\_id'\n",
       "\\item 'user\\_id'\n",
       "\\item 'Account\\_\\_r.CreatedById'\n",
       "\\item 'Account\\_\\_r.Id'\n",
       "\\item 'Account\\_\\_r.LegacyID\\_\\_c'\n",
       "\\item 'Account\\_\\_r.OwnerId'\n",
       "\\item 'Account\\_\\_r.PersonContactId'\n",
       "\\item 'Account\\_\\_r.RecordTypeId'\n",
       "\\item 'CpcPaid\\_\\_c'\n",
       "\\item 'CreatedById'\n",
       "\\item 'Id'\n",
       "\\end{enumerate*}\n"
      ],
      "text/markdown": [
       "1. 'calculation_id'\n",
       "2. 'vehicle_id'\n",
       "3. 'affiliation_id'\n",
       "4. 'user_id'\n",
       "5. 'Account__r.CreatedById'\n",
       "6. 'Account__r.Id'\n",
       "7. 'Account__r.LegacyID__c'\n",
       "8. 'Account__r.OwnerId'\n",
       "9. 'Account__r.PersonContactId'\n",
       "10. 'Account__r.RecordTypeId'\n",
       "11. 'CpcPaid__c'\n",
       "12. 'CreatedById'\n",
       "13. 'Id'\n",
       "\n",
       "\n"
      ],
      "text/plain": [
       " [1] \"calculation_id\"             \"vehicle_id\"                \n",
       " [3] \"affiliation_id\"             \"user_id\"                   \n",
       " [5] \"Account__r.CreatedById\"     \"Account__r.Id\"             \n",
       " [7] \"Account__r.LegacyID__c\"     \"Account__r.OwnerId\"        \n",
       " [9] \"Account__r.PersonContactId\" \"Account__r.RecordTypeId\"   \n",
       "[11] \"CpcPaid__c\"                 \"CreatedById\"               \n",
       "[13] \"Id\"                        "
      ]
     },
     "metadata": {},
     "output_type": "display_data"
    }
   ],
   "source": [
    "colnames(train)[ids]"
   ]
  },
  {
   "cell_type": "code",
   "execution_count": 18,
   "metadata": {
    "collapsed": true
   },
   "outputs": [],
   "source": [
    "#ta kolumna moze sie przydac\n",
    "cpcpaid = which(colnames(train)=='CpcPaid__c')"
   ]
  },
  {
   "cell_type": "code",
   "execution_count": 19,
   "metadata": {},
   "outputs": [
    {
     "data": {
      "text/html": [
       "102"
      ],
      "text/latex": [
       "102"
      ],
      "text/markdown": [
       "102"
      ],
      "text/plain": [
       "[1] 102"
      ]
     },
     "metadata": {},
     "output_type": "display_data"
    }
   ],
   "source": [
    "cpcpaid"
   ]
  },
  {
   "cell_type": "code",
   "execution_count": 20,
   "metadata": {
    "collapsed": true
   },
   "outputs": [],
   "source": [
    "#token kalkulacji nie jest potrzebny\n",
    "calctokenid = which(colnames(train)=='calculation_token')"
   ]
  },
  {
   "cell_type": "code",
   "execution_count": 21,
   "metadata": {
    "collapsed": true
   },
   "outputs": [],
   "source": [
    "ids = c(ids[ids!=cpcpaid],calctokenid)"
   ]
  },
  {
   "cell_type": "code",
   "execution_count": 22,
   "metadata": {},
   "outputs": [
    {
     "data": {
      "text/html": [
       "<ol class=list-inline>\n",
       "\t<li>1</li>\n",
       "\t<li>8</li>\n",
       "\t<li>47</li>\n",
       "\t<li>48</li>\n",
       "\t<li>81</li>\n",
       "\t<li>84</li>\n",
       "\t<li>87</li>\n",
       "\t<li>88</li>\n",
       "\t<li>90</li>\n",
       "\t<li>93</li>\n",
       "\t<li>105</li>\n",
       "\t<li>107</li>\n",
       "\t<li>2</li>\n",
       "</ol>\n"
      ],
      "text/latex": [
       "\\begin{enumerate*}\n",
       "\\item 1\n",
       "\\item 8\n",
       "\\item 47\n",
       "\\item 48\n",
       "\\item 81\n",
       "\\item 84\n",
       "\\item 87\n",
       "\\item 88\n",
       "\\item 90\n",
       "\\item 93\n",
       "\\item 105\n",
       "\\item 107\n",
       "\\item 2\n",
       "\\end{enumerate*}\n"
      ],
      "text/markdown": [
       "1. 1\n",
       "2. 8\n",
       "3. 47\n",
       "4. 48\n",
       "5. 81\n",
       "6. 84\n",
       "7. 87\n",
       "8. 88\n",
       "9. 90\n",
       "10. 93\n",
       "11. 105\n",
       "12. 107\n",
       "13. 2\n",
       "\n",
       "\n"
      ],
      "text/plain": [
       " [1]   1   8  47  48  81  84  87  88  90  93 105 107   2"
      ]
     },
     "metadata": {},
     "output_type": "display_data"
    }
   ],
   "source": [
    "ids"
   ]
  },
  {
   "cell_type": "code",
   "execution_count": 23,
   "metadata": {
    "collapsed": true
   },
   "outputs": [],
   "source": [
    "#te predyktory powyzej do usuniecia, zatem usuwam\n",
    "train2 = train[,-ids]"
   ]
  },
  {
   "cell_type": "code",
   "execution_count": 24,
   "metadata": {},
   "outputs": [
    {
     "data": {
      "text/html": [
       "103"
      ],
      "text/latex": [
       "103"
      ],
      "text/markdown": [
       "103"
      ],
      "text/plain": [
       "[1] 103"
      ]
     },
     "metadata": {},
     "output_type": "display_data"
    }
   ],
   "source": [
    "ncol(train2)"
   ]
  },
  {
   "cell_type": "markdown",
   "metadata": {},
   "source": [
    "## Zamiana character -> numeric"
   ]
  },
  {
   "cell_type": "code",
   "execution_count": 25,
   "metadata": {},
   "outputs": [
    {
     "data": {
      "text/html": [
       "<dl class=dl-horizontal>\n",
       "\t<dt>etx_make_name</dt>\n",
       "\t\t<dd>'character'</dd>\n",
       "\t<dt>etx_model_name</dt>\n",
       "\t\t<dd>'character'</dd>\n",
       "\t<dt>etx_fuel_code</dt>\n",
       "\t\t<dd>'character'</dd>\n",
       "\t<dt>production_year</dt>\n",
       "\t\t<dd>'character'</dd>\n",
       "\t<dt>etx_model_code</dt>\n",
       "\t\t<dd>'character'</dd>\n",
       "\t<dt>protection_scope</dt>\n",
       "\t\t<dd>'character'</dd>\n",
       "\t<dt>kind</dt>\n",
       "\t\t<dd>'character'</dd>\n",
       "\t<dt>usage_type</dt>\n",
       "\t\t<dd>'character'</dd>\n",
       "\t<dt>use_frequency</dt>\n",
       "\t\t<dd>'character'</dd>\n",
       "\t<dt>child_carriage_frequency</dt>\n",
       "\t\t<dd>'character'</dd>\n",
       "\t<dt>mileage</dt>\n",
       "\t\t<dd>'character'</dd>\n",
       "\t<dt>yearly_mileage</dt>\n",
       "\t\t<dd>'character'</dd>\n",
       "\t<dt>used_abroad</dt>\n",
       "\t\t<dd>'numeric'</dd>\n",
       "\t<dt>night_parking_place</dt>\n",
       "\t\t<dd>'character'</dd>\n",
       "\t<dt>night_parking_place_postal_code</dt>\n",
       "\t\t<dd>'character'</dd>\n",
       "\t<dt>day_parking_place</dt>\n",
       "\t\t<dd>'character'</dd>\n",
       "\t<dt>day_parking_place_postal_code</dt>\n",
       "\t\t<dd>'character'</dd>\n",
       "\t<dt>theft_protection_installation</dt>\n",
       "\t\t<dd>'character'</dd>\n",
       "\t<dt>theft_protection_device_1</dt>\n",
       "\t\t<dd>'character'</dd>\n",
       "\t<dt>theft_protection_device_2</dt>\n",
       "\t\t<dd>'character'</dd>\n",
       "\t<dt>origin</dt>\n",
       "\t\t<dd>'character'</dd>\n",
       "\t<dt>buy_year</dt>\n",
       "\t\t<dd>'character'</dd>\n",
       "\t<dt>registration_date</dt>\n",
       "\t\t<dd>'numeric'</dd>\n",
       "\t<dt>is_damaged</dt>\n",
       "\t\t<dd>'character'</dd>\n",
       "\t<dt>leasing</dt>\n",
       "\t\t<dd>'character'</dd>\n",
       "\t<dt>car_worth</dt>\n",
       "\t\t<dd>'character'</dd>\n",
       "\t<dt>main_driver_postal_code</dt>\n",
       "\t\t<dd>'character'</dd>\n",
       "\t<dt>main_driver_age</dt>\n",
       "\t\t<dd>'numeric'</dd>\n",
       "\t<dt>main_driver_gender</dt>\n",
       "\t\t<dd>'character'</dd>\n",
       "\t<dt>insurance_start_date</dt>\n",
       "\t\t<dd>'numeric'</dd>\n",
       "\t<dt>phone_exists</dt>\n",
       "\t\t<dd>'character'</dd>\n",
       "\t<dt>calc_complete</dt>\n",
       "\t\t<dd>'numeric'</dd>\n",
       "\t<dt>calc_incomplete</dt>\n",
       "\t\t<dd>'numeric'</dd>\n",
       "\t<dt>calc_finished</dt>\n",
       "\t\t<dd>'numeric'</dd>\n",
       "\t<dt>phone_yes</dt>\n",
       "\t\t<dd>'numeric'</dd>\n",
       "\t<dt>phone_no</dt>\n",
       "\t\t<dd>'numeric'</dd>\n",
       "\t<dt>calculation_type</dt>\n",
       "\t\t<dd>'character'</dd>\n",
       "\t<dt>terms_acceptance</dt>\n",
       "\t\t<dd>'numeric'</dd>\n",
       "\t<dt>phone_acceptance</dt>\n",
       "\t\t<dd>'numeric'</dd>\n",
       "\t<dt>phone_accepted</dt>\n",
       "\t\t<dd>'numeric'</dd>\n",
       "\t<dt>step</dt>\n",
       "\t\t<dd>'numeric'</dd>\n",
       "\t<dt>created_at</dt>\n",
       "\t\t<dd>'numeric'</dd>\n",
       "\t<dt>created_at_date</dt>\n",
       "\t\t<dd>'numeric'</dd>\n",
       "\t<dt>sent_to_sf</dt>\n",
       "\t\t<dd>'numeric'</dd>\n",
       "\t<dt>sf_r_purchasing</dt>\n",
       "\t\t<dd>'numeric'</dd>\n",
       "\t<dt>calculation_state</dt>\n",
       "\t\t<dd>'character'</dd>\n",
       "\t<dt>oc_offers_qty</dt>\n",
       "\t\t<dd>'numeric'</dd>\n",
       "\t<dt>oc_offer_min_val</dt>\n",
       "\t\t<dd>'numeric'</dd>\n",
       "\t<dt>ac_offers_qty</dt>\n",
       "\t\t<dd>'numeric'</dd>\n",
       "\t<dt>ac_offer_min_val</dt>\n",
       "\t\t<dd>'numeric'</dd>\n",
       "\t<dt>b2c_leads_sent</dt>\n",
       "\t\t<dd>'numeric'</dd>\n",
       "\t<dt>form_finished_at</dt>\n",
       "\t\t<dd>'numeric'</dd>\n",
       "\t<dt>offer_first_at</dt>\n",
       "\t\t<dd>'numeric'</dd>\n",
       "\t<dt>offer_last_at</dt>\n",
       "\t\t<dd>'numeric'</dd>\n",
       "\t<dt>offer_first_after</dt>\n",
       "\t\t<dd>'numeric'</dd>\n",
       "\t<dt>offer_last_after</dt>\n",
       "\t\t<dd>'numeric'</dd>\n",
       "\t<dt>phone_lookup_status</dt>\n",
       "\t\t<dd>'numeric'</dd>\n",
       "\t<dt>utm_campaign</dt>\n",
       "\t\t<dd>'character'</dd>\n",
       "\t<dt>utm_content</dt>\n",
       "\t\t<dd>'character'</dd>\n",
       "\t<dt>utm_medium</dt>\n",
       "\t\t<dd>'character'</dd>\n",
       "\t<dt>utm_source</dt>\n",
       "\t\t<dd>'character'</dd>\n",
       "\t<dt>pkb_transform_ver</dt>\n",
       "\t\t<dd>'character'</dd>\n",
       "\t<dt>went_to_partners</dt>\n",
       "\t\t<dd>'numeric'</dd>\n",
       "\t<dt>contact_requests</dt>\n",
       "\t\t<dd>'numeric'</dd>\n",
       "\t<dt>Acc_Agreement_call__c</dt>\n",
       "\t\t<dd>'logical'</dd>\n",
       "\t<dt>Acc_Agreement_marketing__c</dt>\n",
       "\t\t<dd>'logical'</dd>\n",
       "\t<dt>Acc_Agreement_newsletter__c</dt>\n",
       "\t\t<dd>'logical'</dd>\n",
       "\t<dt>Acc_Birthdate__c</dt>\n",
       "\t\t<dd>'numeric'</dd>\n",
       "\t<dt>Acc_PhoneHLRStatus__c</dt>\n",
       "\t\t<dd>'character'</dd>\n",
       "\t<dt>Account__r.AccountSource</dt>\n",
       "\t\t<dd>'character'</dd>\n",
       "\t<dt>Account__r.AgreementCall__pc</dt>\n",
       "\t\t<dd>'logical'</dd>\n",
       "\t<dt>Account__r.AgreementMarketing__pc</dt>\n",
       "\t\t<dd>'logical'</dd>\n",
       "\t<dt>Account__r.AgreementNewsletter__pc</dt>\n",
       "\t\t<dd>'logical'</dd>\n",
       "\t<dt>Account__r.BillingCity</dt>\n",
       "\t\t<dd>'character'</dd>\n",
       "\t<dt>Account__r.BillingPostalCode</dt>\n",
       "\t\t<dd>'character'</dd>\n",
       "\t<dt>Account__r.CreatedDate</dt>\n",
       "\t\t<dd>'numeric'</dd>\n",
       "\t<dt>Account__r.Gender__pc</dt>\n",
       "\t\t<dd>'character'</dd>\n",
       "\t<dt>Account__r.IsDeleted</dt>\n",
       "\t\t<dd>'logical'</dd>\n",
       "\t<dt>Account__r.IsPersonAccount</dt>\n",
       "\t\t<dd>'logical'</dd>\n",
       "\t<dt>Account__r.PersonBirthdate</dt>\n",
       "\t\t<dd>'numeric'</dd>\n",
       "\t<dt>Account__r.PhoneHLRStatus__pc</dt>\n",
       "\t\t<dd>'character'</dd>\n",
       "\t<dt>Account__r.PhoneNATStatus__pc</dt>\n",
       "\t\t<dd>'character'</dd>\n",
       "\t<dt>Account__r.Salutation</dt>\n",
       "\t\t<dd>'character'</dd>\n",
       "\t<dt>Account__r.Type</dt>\n",
       "\t\t<dd>'character'</dd>\n",
       "\t<dt>CalculationToken__c</dt>\n",
       "\t\t<dd>'character'</dd>\n",
       "\t<dt>CarEngineCapacity__c</dt>\n",
       "\t\t<dd>'numeric'</dd>\n",
       "\t<dt>CarFuelType__c</dt>\n",
       "\t\t<dd>'character'</dd>\n",
       "\t<dt>CarMake__c</dt>\n",
       "\t\t<dd>'character'</dd>\n",
       "\t<dt>CarModel__c</dt>\n",
       "\t\t<dd>'character'</dd>\n",
       "\t<dt>CarYear__c</dt>\n",
       "\t\t<dd>'numeric'</dd>\n",
       "\t<dt>CpcPaid__c</dt>\n",
       "\t\t<dd>'logical'</dd>\n",
       "\t<dt>CreatedBy.Alias</dt>\n",
       "\t\t<dd>'character'</dd>\n",
       "\t<dt>CreatedBy.CreatedDate</dt>\n",
       "\t\t<dd>'numeric'</dd>\n",
       "\t<dt>CreatedDate</dt>\n",
       "\t\t<dd>'numeric'</dd>\n",
       "\t<dt>IsDeleted</dt>\n",
       "\t\t<dd>'logical'</dd>\n",
       "\t<dt>Mpc__c</dt>\n",
       "\t\t<dd>'character'</dd>\n",
       "\t<dt>PolicyStartDate__c</dt>\n",
       "\t\t<dd>'numeric'</dd>\n",
       "\t<dt>ProductScope__c</dt>\n",
       "\t\t<dd>'character'</dd>\n",
       "\t<dt>Source__c</dt>\n",
       "\t\t<dd>'character'</dd>\n",
       "\t<dt>WentToPartner__c</dt>\n",
       "\t\t<dd>'logical'</dd>\n",
       "\t<dt>dont_have_this_car__c</dt>\n",
       "\t\t<dd>'logical'</dd>\n",
       "\t<dt>TelehubStatus__c</dt>\n",
       "\t\t<dd>'character'</dd>\n",
       "\t<dt>Sale.success</dt>\n",
       "\t\t<dd>'numeric'</dd>\n",
       "</dl>\n"
      ],
      "text/latex": [
       "\\begin{description*}\n",
       "\\item[etx\\textbackslash{}\\_make\\textbackslash{}\\_name] 'character'\n",
       "\\item[etx\\textbackslash{}\\_model\\textbackslash{}\\_name] 'character'\n",
       "\\item[etx\\textbackslash{}\\_fuel\\textbackslash{}\\_code] 'character'\n",
       "\\item[production\\textbackslash{}\\_year] 'character'\n",
       "\\item[etx\\textbackslash{}\\_model\\textbackslash{}\\_code] 'character'\n",
       "\\item[protection\\textbackslash{}\\_scope] 'character'\n",
       "\\item[kind] 'character'\n",
       "\\item[usage\\textbackslash{}\\_type] 'character'\n",
       "\\item[use\\textbackslash{}\\_frequency] 'character'\n",
       "\\item[child\\textbackslash{}\\_carriage\\textbackslash{}\\_frequency] 'character'\n",
       "\\item[mileage] 'character'\n",
       "\\item[yearly\\textbackslash{}\\_mileage] 'character'\n",
       "\\item[used\\textbackslash{}\\_abroad] 'numeric'\n",
       "\\item[night\\textbackslash{}\\_parking\\textbackslash{}\\_place] 'character'\n",
       "\\item[night\\textbackslash{}\\_parking\\textbackslash{}\\_place\\textbackslash{}\\_postal\\textbackslash{}\\_code] 'character'\n",
       "\\item[day\\textbackslash{}\\_parking\\textbackslash{}\\_place] 'character'\n",
       "\\item[day\\textbackslash{}\\_parking\\textbackslash{}\\_place\\textbackslash{}\\_postal\\textbackslash{}\\_code] 'character'\n",
       "\\item[theft\\textbackslash{}\\_protection\\textbackslash{}\\_installation] 'character'\n",
       "\\item[theft\\textbackslash{}\\_protection\\textbackslash{}\\_device\\textbackslash{}\\_1] 'character'\n",
       "\\item[theft\\textbackslash{}\\_protection\\textbackslash{}\\_device\\textbackslash{}\\_2] 'character'\n",
       "\\item[origin] 'character'\n",
       "\\item[buy\\textbackslash{}\\_year] 'character'\n",
       "\\item[registration\\textbackslash{}\\_date] 'numeric'\n",
       "\\item[is\\textbackslash{}\\_damaged] 'character'\n",
       "\\item[leasing] 'character'\n",
       "\\item[car\\textbackslash{}\\_worth] 'character'\n",
       "\\item[main\\textbackslash{}\\_driver\\textbackslash{}\\_postal\\textbackslash{}\\_code] 'character'\n",
       "\\item[main\\textbackslash{}\\_driver\\textbackslash{}\\_age] 'numeric'\n",
       "\\item[main\\textbackslash{}\\_driver\\textbackslash{}\\_gender] 'character'\n",
       "\\item[insurance\\textbackslash{}\\_start\\textbackslash{}\\_date] 'numeric'\n",
       "\\item[phone\\textbackslash{}\\_exists] 'character'\n",
       "\\item[calc\\textbackslash{}\\_complete] 'numeric'\n",
       "\\item[calc\\textbackslash{}\\_incomplete] 'numeric'\n",
       "\\item[calc\\textbackslash{}\\_finished] 'numeric'\n",
       "\\item[phone\\textbackslash{}\\_yes] 'numeric'\n",
       "\\item[phone\\textbackslash{}\\_no] 'numeric'\n",
       "\\item[calculation\\textbackslash{}\\_type] 'character'\n",
       "\\item[terms\\textbackslash{}\\_acceptance] 'numeric'\n",
       "\\item[phone\\textbackslash{}\\_acceptance] 'numeric'\n",
       "\\item[phone\\textbackslash{}\\_accepted] 'numeric'\n",
       "\\item[step] 'numeric'\n",
       "\\item[created\\textbackslash{}\\_at] 'numeric'\n",
       "\\item[created\\textbackslash{}\\_at\\textbackslash{}\\_date] 'numeric'\n",
       "\\item[sent\\textbackslash{}\\_to\\textbackslash{}\\_sf] 'numeric'\n",
       "\\item[sf\\textbackslash{}\\_r\\textbackslash{}\\_purchasing] 'numeric'\n",
       "\\item[calculation\\textbackslash{}\\_state] 'character'\n",
       "\\item[oc\\textbackslash{}\\_offers\\textbackslash{}\\_qty] 'numeric'\n",
       "\\item[oc\\textbackslash{}\\_offer\\textbackslash{}\\_min\\textbackslash{}\\_val] 'numeric'\n",
       "\\item[ac\\textbackslash{}\\_offers\\textbackslash{}\\_qty] 'numeric'\n",
       "\\item[ac\\textbackslash{}\\_offer\\textbackslash{}\\_min\\textbackslash{}\\_val] 'numeric'\n",
       "\\item[b2c\\textbackslash{}\\_leads\\textbackslash{}\\_sent] 'numeric'\n",
       "\\item[form\\textbackslash{}\\_finished\\textbackslash{}\\_at] 'numeric'\n",
       "\\item[offer\\textbackslash{}\\_first\\textbackslash{}\\_at] 'numeric'\n",
       "\\item[offer\\textbackslash{}\\_last\\textbackslash{}\\_at] 'numeric'\n",
       "\\item[offer\\textbackslash{}\\_first\\textbackslash{}\\_after] 'numeric'\n",
       "\\item[offer\\textbackslash{}\\_last\\textbackslash{}\\_after] 'numeric'\n",
       "\\item[phone\\textbackslash{}\\_lookup\\textbackslash{}\\_status] 'numeric'\n",
       "\\item[utm\\textbackslash{}\\_campaign] 'character'\n",
       "\\item[utm\\textbackslash{}\\_content] 'character'\n",
       "\\item[utm\\textbackslash{}\\_medium] 'character'\n",
       "\\item[utm\\textbackslash{}\\_source] 'character'\n",
       "\\item[pkb\\textbackslash{}\\_transform\\textbackslash{}\\_ver] 'character'\n",
       "\\item[went\\textbackslash{}\\_to\\textbackslash{}\\_partners] 'numeric'\n",
       "\\item[contact\\textbackslash{}\\_requests] 'numeric'\n",
       "\\item[Acc\\textbackslash{}\\_Agreement\\textbackslash{}\\_call\\textbackslash{}\\_\\textbackslash{}\\_c] 'logical'\n",
       "\\item[Acc\\textbackslash{}\\_Agreement\\textbackslash{}\\_marketing\\textbackslash{}\\_\\textbackslash{}\\_c] 'logical'\n",
       "\\item[Acc\\textbackslash{}\\_Agreement\\textbackslash{}\\_newsletter\\textbackslash{}\\_\\textbackslash{}\\_c] 'logical'\n",
       "\\item[Acc\\textbackslash{}\\_Birthdate\\textbackslash{}\\_\\textbackslash{}\\_c] 'numeric'\n",
       "\\item[Acc\\textbackslash{}\\_PhoneHLRStatus\\textbackslash{}\\_\\textbackslash{}\\_c] 'character'\n",
       "\\item[Account\\textbackslash{}\\_\\textbackslash{}\\_r.AccountSource] 'character'\n",
       "\\item[Account\\textbackslash{}\\_\\textbackslash{}\\_r.AgreementCall\\textbackslash{}\\_\\textbackslash{}\\_pc] 'logical'\n",
       "\\item[Account\\textbackslash{}\\_\\textbackslash{}\\_r.AgreementMarketing\\textbackslash{}\\_\\textbackslash{}\\_pc] 'logical'\n",
       "\\item[Account\\textbackslash{}\\_\\textbackslash{}\\_r.AgreementNewsletter\\textbackslash{}\\_\\textbackslash{}\\_pc] 'logical'\n",
       "\\item[Account\\textbackslash{}\\_\\textbackslash{}\\_r.BillingCity] 'character'\n",
       "\\item[Account\\textbackslash{}\\_\\textbackslash{}\\_r.BillingPostalCode] 'character'\n",
       "\\item[Account\\textbackslash{}\\_\\textbackslash{}\\_r.CreatedDate] 'numeric'\n",
       "\\item[Account\\textbackslash{}\\_\\textbackslash{}\\_r.Gender\\textbackslash{}\\_\\textbackslash{}\\_pc] 'character'\n",
       "\\item[Account\\textbackslash{}\\_\\textbackslash{}\\_r.IsDeleted] 'logical'\n",
       "\\item[Account\\textbackslash{}\\_\\textbackslash{}\\_r.IsPersonAccount] 'logical'\n",
       "\\item[Account\\textbackslash{}\\_\\textbackslash{}\\_r.PersonBirthdate] 'numeric'\n",
       "\\item[Account\\textbackslash{}\\_\\textbackslash{}\\_r.PhoneHLRStatus\\textbackslash{}\\_\\textbackslash{}\\_pc] 'character'\n",
       "\\item[Account\\textbackslash{}\\_\\textbackslash{}\\_r.PhoneNATStatus\\textbackslash{}\\_\\textbackslash{}\\_pc] 'character'\n",
       "\\item[Account\\textbackslash{}\\_\\textbackslash{}\\_r.Salutation] 'character'\n",
       "\\item[Account\\textbackslash{}\\_\\textbackslash{}\\_r.Type] 'character'\n",
       "\\item[CalculationToken\\textbackslash{}\\_\\textbackslash{}\\_c] 'character'\n",
       "\\item[CarEngineCapacity\\textbackslash{}\\_\\textbackslash{}\\_c] 'numeric'\n",
       "\\item[CarFuelType\\textbackslash{}\\_\\textbackslash{}\\_c] 'character'\n",
       "\\item[CarMake\\textbackslash{}\\_\\textbackslash{}\\_c] 'character'\n",
       "\\item[CarModel\\textbackslash{}\\_\\textbackslash{}\\_c] 'character'\n",
       "\\item[CarYear\\textbackslash{}\\_\\textbackslash{}\\_c] 'numeric'\n",
       "\\item[CpcPaid\\textbackslash{}\\_\\textbackslash{}\\_c] 'logical'\n",
       "\\item[CreatedBy.Alias] 'character'\n",
       "\\item[CreatedBy.CreatedDate] 'numeric'\n",
       "\\item[CreatedDate] 'numeric'\n",
       "\\item[IsDeleted] 'logical'\n",
       "\\item[Mpc\\textbackslash{}\\_\\textbackslash{}\\_c] 'character'\n",
       "\\item[PolicyStartDate\\textbackslash{}\\_\\textbackslash{}\\_c] 'numeric'\n",
       "\\item[ProductScope\\textbackslash{}\\_\\textbackslash{}\\_c] 'character'\n",
       "\\item[Source\\textbackslash{}\\_\\textbackslash{}\\_c] 'character'\n",
       "\\item[WentToPartner\\textbackslash{}\\_\\textbackslash{}\\_c] 'logical'\n",
       "\\item[dont\\textbackslash{}\\_have\\textbackslash{}\\_this\\textbackslash{}\\_car\\textbackslash{}\\_\\textbackslash{}\\_c] 'logical'\n",
       "\\item[TelehubStatus\\textbackslash{}\\_\\textbackslash{}\\_c] 'character'\n",
       "\\item[Sale.success] 'numeric'\n",
       "\\end{description*}\n"
      ],
      "text/markdown": [
       "etx_make_name\n",
       ":   'character'etx_model_name\n",
       ":   'character'etx_fuel_code\n",
       ":   'character'production_year\n",
       ":   'character'etx_model_code\n",
       ":   'character'protection_scope\n",
       ":   'character'kind\n",
       ":   'character'usage_type\n",
       ":   'character'use_frequency\n",
       ":   'character'child_carriage_frequency\n",
       ":   'character'mileage\n",
       ":   'character'yearly_mileage\n",
       ":   'character'used_abroad\n",
       ":   'numeric'night_parking_place\n",
       ":   'character'night_parking_place_postal_code\n",
       ":   'character'day_parking_place\n",
       ":   'character'day_parking_place_postal_code\n",
       ":   'character'theft_protection_installation\n",
       ":   'character'theft_protection_device_1\n",
       ":   'character'theft_protection_device_2\n",
       ":   'character'origin\n",
       ":   'character'buy_year\n",
       ":   'character'registration_date\n",
       ":   'numeric'is_damaged\n",
       ":   'character'leasing\n",
       ":   'character'car_worth\n",
       ":   'character'main_driver_postal_code\n",
       ":   'character'main_driver_age\n",
       ":   'numeric'main_driver_gender\n",
       ":   'character'insurance_start_date\n",
       ":   'numeric'phone_exists\n",
       ":   'character'calc_complete\n",
       ":   'numeric'calc_incomplete\n",
       ":   'numeric'calc_finished\n",
       ":   'numeric'phone_yes\n",
       ":   'numeric'phone_no\n",
       ":   'numeric'calculation_type\n",
       ":   'character'terms_acceptance\n",
       ":   'numeric'phone_acceptance\n",
       ":   'numeric'phone_accepted\n",
       ":   'numeric'step\n",
       ":   'numeric'created_at\n",
       ":   'numeric'created_at_date\n",
       ":   'numeric'sent_to_sf\n",
       ":   'numeric'sf_r_purchasing\n",
       ":   'numeric'calculation_state\n",
       ":   'character'oc_offers_qty\n",
       ":   'numeric'oc_offer_min_val\n",
       ":   'numeric'ac_offers_qty\n",
       ":   'numeric'ac_offer_min_val\n",
       ":   'numeric'b2c_leads_sent\n",
       ":   'numeric'form_finished_at\n",
       ":   'numeric'offer_first_at\n",
       ":   'numeric'offer_last_at\n",
       ":   'numeric'offer_first_after\n",
       ":   'numeric'offer_last_after\n",
       ":   'numeric'phone_lookup_status\n",
       ":   'numeric'utm_campaign\n",
       ":   'character'utm_content\n",
       ":   'character'utm_medium\n",
       ":   'character'utm_source\n",
       ":   'character'pkb_transform_ver\n",
       ":   'character'went_to_partners\n",
       ":   'numeric'contact_requests\n",
       ":   'numeric'Acc_Agreement_call__c\n",
       ":   'logical'Acc_Agreement_marketing__c\n",
       ":   'logical'Acc_Agreement_newsletter__c\n",
       ":   'logical'Acc_Birthdate__c\n",
       ":   'numeric'Acc_PhoneHLRStatus__c\n",
       ":   'character'Account__r.AccountSource\n",
       ":   'character'Account__r.AgreementCall__pc\n",
       ":   'logical'Account__r.AgreementMarketing__pc\n",
       ":   'logical'Account__r.AgreementNewsletter__pc\n",
       ":   'logical'Account__r.BillingCity\n",
       ":   'character'Account__r.BillingPostalCode\n",
       ":   'character'Account__r.CreatedDate\n",
       ":   'numeric'Account__r.Gender__pc\n",
       ":   'character'Account__r.IsDeleted\n",
       ":   'logical'Account__r.IsPersonAccount\n",
       ":   'logical'Account__r.PersonBirthdate\n",
       ":   'numeric'Account__r.PhoneHLRStatus__pc\n",
       ":   'character'Account__r.PhoneNATStatus__pc\n",
       ":   'character'Account__r.Salutation\n",
       ":   'character'Account__r.Type\n",
       ":   'character'CalculationToken__c\n",
       ":   'character'CarEngineCapacity__c\n",
       ":   'numeric'CarFuelType__c\n",
       ":   'character'CarMake__c\n",
       ":   'character'CarModel__c\n",
       ":   'character'CarYear__c\n",
       ":   'numeric'CpcPaid__c\n",
       ":   'logical'CreatedBy.Alias\n",
       ":   'character'CreatedBy.CreatedDate\n",
       ":   'numeric'CreatedDate\n",
       ":   'numeric'IsDeleted\n",
       ":   'logical'Mpc__c\n",
       ":   'character'PolicyStartDate__c\n",
       ":   'numeric'ProductScope__c\n",
       ":   'character'Source__c\n",
       ":   'character'WentToPartner__c\n",
       ":   'logical'dont_have_this_car__c\n",
       ":   'logical'TelehubStatus__c\n",
       ":   'character'Sale.success\n",
       ":   'numeric'\n",
       "\n"
      ],
      "text/plain": [
       "                     etx_make_name                     etx_model_name \n",
       "                       \"character\"                        \"character\" \n",
       "                     etx_fuel_code                    production_year \n",
       "                       \"character\"                        \"character\" \n",
       "                    etx_model_code                   protection_scope \n",
       "                       \"character\"                        \"character\" \n",
       "                              kind                         usage_type \n",
       "                       \"character\"                        \"character\" \n",
       "                     use_frequency           child_carriage_frequency \n",
       "                       \"character\"                        \"character\" \n",
       "                           mileage                     yearly_mileage \n",
       "                       \"character\"                        \"character\" \n",
       "                       used_abroad                night_parking_place \n",
       "                         \"numeric\"                        \"character\" \n",
       "   night_parking_place_postal_code                  day_parking_place \n",
       "                       \"character\"                        \"character\" \n",
       "     day_parking_place_postal_code      theft_protection_installation \n",
       "                       \"character\"                        \"character\" \n",
       "         theft_protection_device_1          theft_protection_device_2 \n",
       "                       \"character\"                        \"character\" \n",
       "                            origin                           buy_year \n",
       "                       \"character\"                        \"character\" \n",
       "                 registration_date                         is_damaged \n",
       "                         \"numeric\"                        \"character\" \n",
       "                           leasing                          car_worth \n",
       "                       \"character\"                        \"character\" \n",
       "           main_driver_postal_code                    main_driver_age \n",
       "                       \"character\"                          \"numeric\" \n",
       "                main_driver_gender               insurance_start_date \n",
       "                       \"character\"                          \"numeric\" \n",
       "                      phone_exists                      calc_complete \n",
       "                       \"character\"                          \"numeric\" \n",
       "                   calc_incomplete                      calc_finished \n",
       "                         \"numeric\"                          \"numeric\" \n",
       "                         phone_yes                           phone_no \n",
       "                         \"numeric\"                          \"numeric\" \n",
       "                  calculation_type                   terms_acceptance \n",
       "                       \"character\"                          \"numeric\" \n",
       "                  phone_acceptance                     phone_accepted \n",
       "                         \"numeric\"                          \"numeric\" \n",
       "                              step                         created_at \n",
       "                         \"numeric\"                          \"numeric\" \n",
       "                   created_at_date                         sent_to_sf \n",
       "                         \"numeric\"                          \"numeric\" \n",
       "                   sf_r_purchasing                  calculation_state \n",
       "                         \"numeric\"                        \"character\" \n",
       "                     oc_offers_qty                   oc_offer_min_val \n",
       "                         \"numeric\"                          \"numeric\" \n",
       "                     ac_offers_qty                   ac_offer_min_val \n",
       "                         \"numeric\"                          \"numeric\" \n",
       "                    b2c_leads_sent                   form_finished_at \n",
       "                         \"numeric\"                          \"numeric\" \n",
       "                    offer_first_at                      offer_last_at \n",
       "                         \"numeric\"                          \"numeric\" \n",
       "                 offer_first_after                   offer_last_after \n",
       "                         \"numeric\"                          \"numeric\" \n",
       "               phone_lookup_status                       utm_campaign \n",
       "                         \"numeric\"                        \"character\" \n",
       "                       utm_content                         utm_medium \n",
       "                       \"character\"                        \"character\" \n",
       "                        utm_source                  pkb_transform_ver \n",
       "                       \"character\"                        \"character\" \n",
       "                  went_to_partners                   contact_requests \n",
       "                         \"numeric\"                          \"numeric\" \n",
       "             Acc_Agreement_call__c         Acc_Agreement_marketing__c \n",
       "                         \"logical\"                          \"logical\" \n",
       "       Acc_Agreement_newsletter__c                   Acc_Birthdate__c \n",
       "                         \"logical\"                          \"numeric\" \n",
       "             Acc_PhoneHLRStatus__c           Account__r.AccountSource \n",
       "                       \"character\"                        \"character\" \n",
       "      Account__r.AgreementCall__pc  Account__r.AgreementMarketing__pc \n",
       "                         \"logical\"                          \"logical\" \n",
       "Account__r.AgreementNewsletter__pc             Account__r.BillingCity \n",
       "                         \"logical\"                        \"character\" \n",
       "      Account__r.BillingPostalCode             Account__r.CreatedDate \n",
       "                       \"character\"                          \"numeric\" \n",
       "             Account__r.Gender__pc               Account__r.IsDeleted \n",
       "                       \"character\"                          \"logical\" \n",
       "        Account__r.IsPersonAccount         Account__r.PersonBirthdate \n",
       "                         \"logical\"                          \"numeric\" \n",
       "     Account__r.PhoneHLRStatus__pc      Account__r.PhoneNATStatus__pc \n",
       "                       \"character\"                        \"character\" \n",
       "             Account__r.Salutation                    Account__r.Type \n",
       "                       \"character\"                        \"character\" \n",
       "               CalculationToken__c               CarEngineCapacity__c \n",
       "                       \"character\"                          \"numeric\" \n",
       "                    CarFuelType__c                         CarMake__c \n",
       "                       \"character\"                        \"character\" \n",
       "                       CarModel__c                         CarYear__c \n",
       "                       \"character\"                          \"numeric\" \n",
       "                        CpcPaid__c                    CreatedBy.Alias \n",
       "                         \"logical\"                        \"character\" \n",
       "             CreatedBy.CreatedDate                        CreatedDate \n",
       "                         \"numeric\"                          \"numeric\" \n",
       "                         IsDeleted                             Mpc__c \n",
       "                         \"logical\"                        \"character\" \n",
       "                PolicyStartDate__c                    ProductScope__c \n",
       "                         \"numeric\"                        \"character\" \n",
       "                         Source__c                   WentToPartner__c \n",
       "                       \"character\"                          \"logical\" \n",
       "             dont_have_this_car__c                   TelehubStatus__c \n",
       "                         \"logical\"                        \"character\" \n",
       "                      Sale.success \n",
       "                         \"numeric\" "
      ]
     },
     "metadata": {},
     "output_type": "display_data"
    }
   ],
   "source": [
    "sapply(train2,class)"
   ]
  },
  {
   "cell_type": "code",
   "execution_count": 26,
   "metadata": {
    "collapsed": true
   },
   "outputs": [],
   "source": [
    "#te kolumny są numeryczne, a wczytane zostały jako character, zatem zamiana"
   ]
  },
  {
   "cell_type": "code",
   "execution_count": 27,
   "metadata": {
    "collapsed": true
   },
   "outputs": [],
   "source": [
    "train2$production_year = as.numeric(train2$production_year)\n",
    "train2$mileage = as.numeric(train2$mileage)\n",
    "train2$yearly_mileage = as.numeric(train2$yearly_mileage)\n",
    "train2$buy_year = as.numeric(train2$buy_year)\n",
    "train2$car_worth = as.numeric(train2$car_worth)\n"
   ]
  },
  {
   "cell_type": "code",
   "execution_count": 28,
   "metadata": {},
   "outputs": [
    {
     "data": {
      "text/html": [
       "<dl class=dl-horizontal>\n",
       "\t<dt>etx_make_name</dt>\n",
       "\t\t<dd>'character'</dd>\n",
       "\t<dt>etx_model_name</dt>\n",
       "\t\t<dd>'character'</dd>\n",
       "\t<dt>etx_fuel_code</dt>\n",
       "\t\t<dd>'character'</dd>\n",
       "\t<dt>production_year</dt>\n",
       "\t\t<dd>'numeric'</dd>\n",
       "\t<dt>etx_model_code</dt>\n",
       "\t\t<dd>'character'</dd>\n",
       "\t<dt>protection_scope</dt>\n",
       "\t\t<dd>'character'</dd>\n",
       "\t<dt>kind</dt>\n",
       "\t\t<dd>'character'</dd>\n",
       "\t<dt>usage_type</dt>\n",
       "\t\t<dd>'character'</dd>\n",
       "\t<dt>use_frequency</dt>\n",
       "\t\t<dd>'character'</dd>\n",
       "\t<dt>child_carriage_frequency</dt>\n",
       "\t\t<dd>'character'</dd>\n",
       "\t<dt>mileage</dt>\n",
       "\t\t<dd>'numeric'</dd>\n",
       "\t<dt>yearly_mileage</dt>\n",
       "\t\t<dd>'numeric'</dd>\n",
       "\t<dt>used_abroad</dt>\n",
       "\t\t<dd>'numeric'</dd>\n",
       "\t<dt>night_parking_place</dt>\n",
       "\t\t<dd>'character'</dd>\n",
       "\t<dt>night_parking_place_postal_code</dt>\n",
       "\t\t<dd>'character'</dd>\n",
       "\t<dt>day_parking_place</dt>\n",
       "\t\t<dd>'character'</dd>\n",
       "\t<dt>day_parking_place_postal_code</dt>\n",
       "\t\t<dd>'character'</dd>\n",
       "\t<dt>theft_protection_installation</dt>\n",
       "\t\t<dd>'character'</dd>\n",
       "\t<dt>theft_protection_device_1</dt>\n",
       "\t\t<dd>'character'</dd>\n",
       "\t<dt>theft_protection_device_2</dt>\n",
       "\t\t<dd>'character'</dd>\n",
       "\t<dt>origin</dt>\n",
       "\t\t<dd>'character'</dd>\n",
       "\t<dt>buy_year</dt>\n",
       "\t\t<dd>'numeric'</dd>\n",
       "\t<dt>registration_date</dt>\n",
       "\t\t<dd>'numeric'</dd>\n",
       "\t<dt>is_damaged</dt>\n",
       "\t\t<dd>'character'</dd>\n",
       "\t<dt>leasing</dt>\n",
       "\t\t<dd>'character'</dd>\n",
       "\t<dt>car_worth</dt>\n",
       "\t\t<dd>'numeric'</dd>\n",
       "\t<dt>main_driver_postal_code</dt>\n",
       "\t\t<dd>'character'</dd>\n",
       "\t<dt>main_driver_age</dt>\n",
       "\t\t<dd>'numeric'</dd>\n",
       "\t<dt>main_driver_gender</dt>\n",
       "\t\t<dd>'character'</dd>\n",
       "\t<dt>insurance_start_date</dt>\n",
       "\t\t<dd>'numeric'</dd>\n",
       "\t<dt>phone_exists</dt>\n",
       "\t\t<dd>'character'</dd>\n",
       "\t<dt>calc_complete</dt>\n",
       "\t\t<dd>'numeric'</dd>\n",
       "\t<dt>calc_incomplete</dt>\n",
       "\t\t<dd>'numeric'</dd>\n",
       "\t<dt>calc_finished</dt>\n",
       "\t\t<dd>'numeric'</dd>\n",
       "\t<dt>phone_yes</dt>\n",
       "\t\t<dd>'numeric'</dd>\n",
       "\t<dt>phone_no</dt>\n",
       "\t\t<dd>'numeric'</dd>\n",
       "\t<dt>calculation_type</dt>\n",
       "\t\t<dd>'character'</dd>\n",
       "\t<dt>terms_acceptance</dt>\n",
       "\t\t<dd>'numeric'</dd>\n",
       "\t<dt>phone_acceptance</dt>\n",
       "\t\t<dd>'numeric'</dd>\n",
       "\t<dt>phone_accepted</dt>\n",
       "\t\t<dd>'numeric'</dd>\n",
       "\t<dt>step</dt>\n",
       "\t\t<dd>'numeric'</dd>\n",
       "\t<dt>created_at</dt>\n",
       "\t\t<dd>'numeric'</dd>\n",
       "\t<dt>created_at_date</dt>\n",
       "\t\t<dd>'numeric'</dd>\n",
       "\t<dt>sent_to_sf</dt>\n",
       "\t\t<dd>'numeric'</dd>\n",
       "\t<dt>sf_r_purchasing</dt>\n",
       "\t\t<dd>'numeric'</dd>\n",
       "\t<dt>calculation_state</dt>\n",
       "\t\t<dd>'character'</dd>\n",
       "\t<dt>oc_offers_qty</dt>\n",
       "\t\t<dd>'numeric'</dd>\n",
       "\t<dt>oc_offer_min_val</dt>\n",
       "\t\t<dd>'numeric'</dd>\n",
       "\t<dt>ac_offers_qty</dt>\n",
       "\t\t<dd>'numeric'</dd>\n",
       "\t<dt>ac_offer_min_val</dt>\n",
       "\t\t<dd>'numeric'</dd>\n",
       "\t<dt>b2c_leads_sent</dt>\n",
       "\t\t<dd>'numeric'</dd>\n",
       "\t<dt>form_finished_at</dt>\n",
       "\t\t<dd>'numeric'</dd>\n",
       "\t<dt>offer_first_at</dt>\n",
       "\t\t<dd>'numeric'</dd>\n",
       "\t<dt>offer_last_at</dt>\n",
       "\t\t<dd>'numeric'</dd>\n",
       "\t<dt>offer_first_after</dt>\n",
       "\t\t<dd>'numeric'</dd>\n",
       "\t<dt>offer_last_after</dt>\n",
       "\t\t<dd>'numeric'</dd>\n",
       "\t<dt>phone_lookup_status</dt>\n",
       "\t\t<dd>'numeric'</dd>\n",
       "\t<dt>utm_campaign</dt>\n",
       "\t\t<dd>'character'</dd>\n",
       "\t<dt>utm_content</dt>\n",
       "\t\t<dd>'character'</dd>\n",
       "\t<dt>utm_medium</dt>\n",
       "\t\t<dd>'character'</dd>\n",
       "\t<dt>utm_source</dt>\n",
       "\t\t<dd>'character'</dd>\n",
       "\t<dt>pkb_transform_ver</dt>\n",
       "\t\t<dd>'character'</dd>\n",
       "\t<dt>went_to_partners</dt>\n",
       "\t\t<dd>'numeric'</dd>\n",
       "\t<dt>contact_requests</dt>\n",
       "\t\t<dd>'numeric'</dd>\n",
       "\t<dt>Acc_Agreement_call__c</dt>\n",
       "\t\t<dd>'logical'</dd>\n",
       "\t<dt>Acc_Agreement_marketing__c</dt>\n",
       "\t\t<dd>'logical'</dd>\n",
       "\t<dt>Acc_Agreement_newsletter__c</dt>\n",
       "\t\t<dd>'logical'</dd>\n",
       "\t<dt>Acc_Birthdate__c</dt>\n",
       "\t\t<dd>'numeric'</dd>\n",
       "\t<dt>Acc_PhoneHLRStatus__c</dt>\n",
       "\t\t<dd>'character'</dd>\n",
       "\t<dt>Account__r.AccountSource</dt>\n",
       "\t\t<dd>'character'</dd>\n",
       "\t<dt>Account__r.AgreementCall__pc</dt>\n",
       "\t\t<dd>'logical'</dd>\n",
       "\t<dt>Account__r.AgreementMarketing__pc</dt>\n",
       "\t\t<dd>'logical'</dd>\n",
       "\t<dt>Account__r.AgreementNewsletter__pc</dt>\n",
       "\t\t<dd>'logical'</dd>\n",
       "\t<dt>Account__r.BillingCity</dt>\n",
       "\t\t<dd>'character'</dd>\n",
       "\t<dt>Account__r.BillingPostalCode</dt>\n",
       "\t\t<dd>'character'</dd>\n",
       "\t<dt>Account__r.CreatedDate</dt>\n",
       "\t\t<dd>'numeric'</dd>\n",
       "\t<dt>Account__r.Gender__pc</dt>\n",
       "\t\t<dd>'character'</dd>\n",
       "\t<dt>Account__r.IsDeleted</dt>\n",
       "\t\t<dd>'logical'</dd>\n",
       "\t<dt>Account__r.IsPersonAccount</dt>\n",
       "\t\t<dd>'logical'</dd>\n",
       "\t<dt>Account__r.PersonBirthdate</dt>\n",
       "\t\t<dd>'numeric'</dd>\n",
       "\t<dt>Account__r.PhoneHLRStatus__pc</dt>\n",
       "\t\t<dd>'character'</dd>\n",
       "\t<dt>Account__r.PhoneNATStatus__pc</dt>\n",
       "\t\t<dd>'character'</dd>\n",
       "\t<dt>Account__r.Salutation</dt>\n",
       "\t\t<dd>'character'</dd>\n",
       "\t<dt>Account__r.Type</dt>\n",
       "\t\t<dd>'character'</dd>\n",
       "\t<dt>CalculationToken__c</dt>\n",
       "\t\t<dd>'character'</dd>\n",
       "\t<dt>CarEngineCapacity__c</dt>\n",
       "\t\t<dd>'numeric'</dd>\n",
       "\t<dt>CarFuelType__c</dt>\n",
       "\t\t<dd>'character'</dd>\n",
       "\t<dt>CarMake__c</dt>\n",
       "\t\t<dd>'character'</dd>\n",
       "\t<dt>CarModel__c</dt>\n",
       "\t\t<dd>'character'</dd>\n",
       "\t<dt>CarYear__c</dt>\n",
       "\t\t<dd>'numeric'</dd>\n",
       "\t<dt>CpcPaid__c</dt>\n",
       "\t\t<dd>'logical'</dd>\n",
       "\t<dt>CreatedBy.Alias</dt>\n",
       "\t\t<dd>'character'</dd>\n",
       "\t<dt>CreatedBy.CreatedDate</dt>\n",
       "\t\t<dd>'numeric'</dd>\n",
       "\t<dt>CreatedDate</dt>\n",
       "\t\t<dd>'numeric'</dd>\n",
       "\t<dt>IsDeleted</dt>\n",
       "\t\t<dd>'logical'</dd>\n",
       "\t<dt>Mpc__c</dt>\n",
       "\t\t<dd>'character'</dd>\n",
       "\t<dt>PolicyStartDate__c</dt>\n",
       "\t\t<dd>'numeric'</dd>\n",
       "\t<dt>ProductScope__c</dt>\n",
       "\t\t<dd>'character'</dd>\n",
       "\t<dt>Source__c</dt>\n",
       "\t\t<dd>'character'</dd>\n",
       "\t<dt>WentToPartner__c</dt>\n",
       "\t\t<dd>'logical'</dd>\n",
       "\t<dt>dont_have_this_car__c</dt>\n",
       "\t\t<dd>'logical'</dd>\n",
       "\t<dt>TelehubStatus__c</dt>\n",
       "\t\t<dd>'character'</dd>\n",
       "\t<dt>Sale.success</dt>\n",
       "\t\t<dd>'numeric'</dd>\n",
       "</dl>\n"
      ],
      "text/latex": [
       "\\begin{description*}\n",
       "\\item[etx\\textbackslash{}\\_make\\textbackslash{}\\_name] 'character'\n",
       "\\item[etx\\textbackslash{}\\_model\\textbackslash{}\\_name] 'character'\n",
       "\\item[etx\\textbackslash{}\\_fuel\\textbackslash{}\\_code] 'character'\n",
       "\\item[production\\textbackslash{}\\_year] 'numeric'\n",
       "\\item[etx\\textbackslash{}\\_model\\textbackslash{}\\_code] 'character'\n",
       "\\item[protection\\textbackslash{}\\_scope] 'character'\n",
       "\\item[kind] 'character'\n",
       "\\item[usage\\textbackslash{}\\_type] 'character'\n",
       "\\item[use\\textbackslash{}\\_frequency] 'character'\n",
       "\\item[child\\textbackslash{}\\_carriage\\textbackslash{}\\_frequency] 'character'\n",
       "\\item[mileage] 'numeric'\n",
       "\\item[yearly\\textbackslash{}\\_mileage] 'numeric'\n",
       "\\item[used\\textbackslash{}\\_abroad] 'numeric'\n",
       "\\item[night\\textbackslash{}\\_parking\\textbackslash{}\\_place] 'character'\n",
       "\\item[night\\textbackslash{}\\_parking\\textbackslash{}\\_place\\textbackslash{}\\_postal\\textbackslash{}\\_code] 'character'\n",
       "\\item[day\\textbackslash{}\\_parking\\textbackslash{}\\_place] 'character'\n",
       "\\item[day\\textbackslash{}\\_parking\\textbackslash{}\\_place\\textbackslash{}\\_postal\\textbackslash{}\\_code] 'character'\n",
       "\\item[theft\\textbackslash{}\\_protection\\textbackslash{}\\_installation] 'character'\n",
       "\\item[theft\\textbackslash{}\\_protection\\textbackslash{}\\_device\\textbackslash{}\\_1] 'character'\n",
       "\\item[theft\\textbackslash{}\\_protection\\textbackslash{}\\_device\\textbackslash{}\\_2] 'character'\n",
       "\\item[origin] 'character'\n",
       "\\item[buy\\textbackslash{}\\_year] 'numeric'\n",
       "\\item[registration\\textbackslash{}\\_date] 'numeric'\n",
       "\\item[is\\textbackslash{}\\_damaged] 'character'\n",
       "\\item[leasing] 'character'\n",
       "\\item[car\\textbackslash{}\\_worth] 'numeric'\n",
       "\\item[main\\textbackslash{}\\_driver\\textbackslash{}\\_postal\\textbackslash{}\\_code] 'character'\n",
       "\\item[main\\textbackslash{}\\_driver\\textbackslash{}\\_age] 'numeric'\n",
       "\\item[main\\textbackslash{}\\_driver\\textbackslash{}\\_gender] 'character'\n",
       "\\item[insurance\\textbackslash{}\\_start\\textbackslash{}\\_date] 'numeric'\n",
       "\\item[phone\\textbackslash{}\\_exists] 'character'\n",
       "\\item[calc\\textbackslash{}\\_complete] 'numeric'\n",
       "\\item[calc\\textbackslash{}\\_incomplete] 'numeric'\n",
       "\\item[calc\\textbackslash{}\\_finished] 'numeric'\n",
       "\\item[phone\\textbackslash{}\\_yes] 'numeric'\n",
       "\\item[phone\\textbackslash{}\\_no] 'numeric'\n",
       "\\item[calculation\\textbackslash{}\\_type] 'character'\n",
       "\\item[terms\\textbackslash{}\\_acceptance] 'numeric'\n",
       "\\item[phone\\textbackslash{}\\_acceptance] 'numeric'\n",
       "\\item[phone\\textbackslash{}\\_accepted] 'numeric'\n",
       "\\item[step] 'numeric'\n",
       "\\item[created\\textbackslash{}\\_at] 'numeric'\n",
       "\\item[created\\textbackslash{}\\_at\\textbackslash{}\\_date] 'numeric'\n",
       "\\item[sent\\textbackslash{}\\_to\\textbackslash{}\\_sf] 'numeric'\n",
       "\\item[sf\\textbackslash{}\\_r\\textbackslash{}\\_purchasing] 'numeric'\n",
       "\\item[calculation\\textbackslash{}\\_state] 'character'\n",
       "\\item[oc\\textbackslash{}\\_offers\\textbackslash{}\\_qty] 'numeric'\n",
       "\\item[oc\\textbackslash{}\\_offer\\textbackslash{}\\_min\\textbackslash{}\\_val] 'numeric'\n",
       "\\item[ac\\textbackslash{}\\_offers\\textbackslash{}\\_qty] 'numeric'\n",
       "\\item[ac\\textbackslash{}\\_offer\\textbackslash{}\\_min\\textbackslash{}\\_val] 'numeric'\n",
       "\\item[b2c\\textbackslash{}\\_leads\\textbackslash{}\\_sent] 'numeric'\n",
       "\\item[form\\textbackslash{}\\_finished\\textbackslash{}\\_at] 'numeric'\n",
       "\\item[offer\\textbackslash{}\\_first\\textbackslash{}\\_at] 'numeric'\n",
       "\\item[offer\\textbackslash{}\\_last\\textbackslash{}\\_at] 'numeric'\n",
       "\\item[offer\\textbackslash{}\\_first\\textbackslash{}\\_after] 'numeric'\n",
       "\\item[offer\\textbackslash{}\\_last\\textbackslash{}\\_after] 'numeric'\n",
       "\\item[phone\\textbackslash{}\\_lookup\\textbackslash{}\\_status] 'numeric'\n",
       "\\item[utm\\textbackslash{}\\_campaign] 'character'\n",
       "\\item[utm\\textbackslash{}\\_content] 'character'\n",
       "\\item[utm\\textbackslash{}\\_medium] 'character'\n",
       "\\item[utm\\textbackslash{}\\_source] 'character'\n",
       "\\item[pkb\\textbackslash{}\\_transform\\textbackslash{}\\_ver] 'character'\n",
       "\\item[went\\textbackslash{}\\_to\\textbackslash{}\\_partners] 'numeric'\n",
       "\\item[contact\\textbackslash{}\\_requests] 'numeric'\n",
       "\\item[Acc\\textbackslash{}\\_Agreement\\textbackslash{}\\_call\\textbackslash{}\\_\\textbackslash{}\\_c] 'logical'\n",
       "\\item[Acc\\textbackslash{}\\_Agreement\\textbackslash{}\\_marketing\\textbackslash{}\\_\\textbackslash{}\\_c] 'logical'\n",
       "\\item[Acc\\textbackslash{}\\_Agreement\\textbackslash{}\\_newsletter\\textbackslash{}\\_\\textbackslash{}\\_c] 'logical'\n",
       "\\item[Acc\\textbackslash{}\\_Birthdate\\textbackslash{}\\_\\textbackslash{}\\_c] 'numeric'\n",
       "\\item[Acc\\textbackslash{}\\_PhoneHLRStatus\\textbackslash{}\\_\\textbackslash{}\\_c] 'character'\n",
       "\\item[Account\\textbackslash{}\\_\\textbackslash{}\\_r.AccountSource] 'character'\n",
       "\\item[Account\\textbackslash{}\\_\\textbackslash{}\\_r.AgreementCall\\textbackslash{}\\_\\textbackslash{}\\_pc] 'logical'\n",
       "\\item[Account\\textbackslash{}\\_\\textbackslash{}\\_r.AgreementMarketing\\textbackslash{}\\_\\textbackslash{}\\_pc] 'logical'\n",
       "\\item[Account\\textbackslash{}\\_\\textbackslash{}\\_r.AgreementNewsletter\\textbackslash{}\\_\\textbackslash{}\\_pc] 'logical'\n",
       "\\item[Account\\textbackslash{}\\_\\textbackslash{}\\_r.BillingCity] 'character'\n",
       "\\item[Account\\textbackslash{}\\_\\textbackslash{}\\_r.BillingPostalCode] 'character'\n",
       "\\item[Account\\textbackslash{}\\_\\textbackslash{}\\_r.CreatedDate] 'numeric'\n",
       "\\item[Account\\textbackslash{}\\_\\textbackslash{}\\_r.Gender\\textbackslash{}\\_\\textbackslash{}\\_pc] 'character'\n",
       "\\item[Account\\textbackslash{}\\_\\textbackslash{}\\_r.IsDeleted] 'logical'\n",
       "\\item[Account\\textbackslash{}\\_\\textbackslash{}\\_r.IsPersonAccount] 'logical'\n",
       "\\item[Account\\textbackslash{}\\_\\textbackslash{}\\_r.PersonBirthdate] 'numeric'\n",
       "\\item[Account\\textbackslash{}\\_\\textbackslash{}\\_r.PhoneHLRStatus\\textbackslash{}\\_\\textbackslash{}\\_pc] 'character'\n",
       "\\item[Account\\textbackslash{}\\_\\textbackslash{}\\_r.PhoneNATStatus\\textbackslash{}\\_\\textbackslash{}\\_pc] 'character'\n",
       "\\item[Account\\textbackslash{}\\_\\textbackslash{}\\_r.Salutation] 'character'\n",
       "\\item[Account\\textbackslash{}\\_\\textbackslash{}\\_r.Type] 'character'\n",
       "\\item[CalculationToken\\textbackslash{}\\_\\textbackslash{}\\_c] 'character'\n",
       "\\item[CarEngineCapacity\\textbackslash{}\\_\\textbackslash{}\\_c] 'numeric'\n",
       "\\item[CarFuelType\\textbackslash{}\\_\\textbackslash{}\\_c] 'character'\n",
       "\\item[CarMake\\textbackslash{}\\_\\textbackslash{}\\_c] 'character'\n",
       "\\item[CarModel\\textbackslash{}\\_\\textbackslash{}\\_c] 'character'\n",
       "\\item[CarYear\\textbackslash{}\\_\\textbackslash{}\\_c] 'numeric'\n",
       "\\item[CpcPaid\\textbackslash{}\\_\\textbackslash{}\\_c] 'logical'\n",
       "\\item[CreatedBy.Alias] 'character'\n",
       "\\item[CreatedBy.CreatedDate] 'numeric'\n",
       "\\item[CreatedDate] 'numeric'\n",
       "\\item[IsDeleted] 'logical'\n",
       "\\item[Mpc\\textbackslash{}\\_\\textbackslash{}\\_c] 'character'\n",
       "\\item[PolicyStartDate\\textbackslash{}\\_\\textbackslash{}\\_c] 'numeric'\n",
       "\\item[ProductScope\\textbackslash{}\\_\\textbackslash{}\\_c] 'character'\n",
       "\\item[Source\\textbackslash{}\\_\\textbackslash{}\\_c] 'character'\n",
       "\\item[WentToPartner\\textbackslash{}\\_\\textbackslash{}\\_c] 'logical'\n",
       "\\item[dont\\textbackslash{}\\_have\\textbackslash{}\\_this\\textbackslash{}\\_car\\textbackslash{}\\_\\textbackslash{}\\_c] 'logical'\n",
       "\\item[TelehubStatus\\textbackslash{}\\_\\textbackslash{}\\_c] 'character'\n",
       "\\item[Sale.success] 'numeric'\n",
       "\\end{description*}\n"
      ],
      "text/markdown": [
       "etx_make_name\n",
       ":   'character'etx_model_name\n",
       ":   'character'etx_fuel_code\n",
       ":   'character'production_year\n",
       ":   'numeric'etx_model_code\n",
       ":   'character'protection_scope\n",
       ":   'character'kind\n",
       ":   'character'usage_type\n",
       ":   'character'use_frequency\n",
       ":   'character'child_carriage_frequency\n",
       ":   'character'mileage\n",
       ":   'numeric'yearly_mileage\n",
       ":   'numeric'used_abroad\n",
       ":   'numeric'night_parking_place\n",
       ":   'character'night_parking_place_postal_code\n",
       ":   'character'day_parking_place\n",
       ":   'character'day_parking_place_postal_code\n",
       ":   'character'theft_protection_installation\n",
       ":   'character'theft_protection_device_1\n",
       ":   'character'theft_protection_device_2\n",
       ":   'character'origin\n",
       ":   'character'buy_year\n",
       ":   'numeric'registration_date\n",
       ":   'numeric'is_damaged\n",
       ":   'character'leasing\n",
       ":   'character'car_worth\n",
       ":   'numeric'main_driver_postal_code\n",
       ":   'character'main_driver_age\n",
       ":   'numeric'main_driver_gender\n",
       ":   'character'insurance_start_date\n",
       ":   'numeric'phone_exists\n",
       ":   'character'calc_complete\n",
       ":   'numeric'calc_incomplete\n",
       ":   'numeric'calc_finished\n",
       ":   'numeric'phone_yes\n",
       ":   'numeric'phone_no\n",
       ":   'numeric'calculation_type\n",
       ":   'character'terms_acceptance\n",
       ":   'numeric'phone_acceptance\n",
       ":   'numeric'phone_accepted\n",
       ":   'numeric'step\n",
       ":   'numeric'created_at\n",
       ":   'numeric'created_at_date\n",
       ":   'numeric'sent_to_sf\n",
       ":   'numeric'sf_r_purchasing\n",
       ":   'numeric'calculation_state\n",
       ":   'character'oc_offers_qty\n",
       ":   'numeric'oc_offer_min_val\n",
       ":   'numeric'ac_offers_qty\n",
       ":   'numeric'ac_offer_min_val\n",
       ":   'numeric'b2c_leads_sent\n",
       ":   'numeric'form_finished_at\n",
       ":   'numeric'offer_first_at\n",
       ":   'numeric'offer_last_at\n",
       ":   'numeric'offer_first_after\n",
       ":   'numeric'offer_last_after\n",
       ":   'numeric'phone_lookup_status\n",
       ":   'numeric'utm_campaign\n",
       ":   'character'utm_content\n",
       ":   'character'utm_medium\n",
       ":   'character'utm_source\n",
       ":   'character'pkb_transform_ver\n",
       ":   'character'went_to_partners\n",
       ":   'numeric'contact_requests\n",
       ":   'numeric'Acc_Agreement_call__c\n",
       ":   'logical'Acc_Agreement_marketing__c\n",
       ":   'logical'Acc_Agreement_newsletter__c\n",
       ":   'logical'Acc_Birthdate__c\n",
       ":   'numeric'Acc_PhoneHLRStatus__c\n",
       ":   'character'Account__r.AccountSource\n",
       ":   'character'Account__r.AgreementCall__pc\n",
       ":   'logical'Account__r.AgreementMarketing__pc\n",
       ":   'logical'Account__r.AgreementNewsletter__pc\n",
       ":   'logical'Account__r.BillingCity\n",
       ":   'character'Account__r.BillingPostalCode\n",
       ":   'character'Account__r.CreatedDate\n",
       ":   'numeric'Account__r.Gender__pc\n",
       ":   'character'Account__r.IsDeleted\n",
       ":   'logical'Account__r.IsPersonAccount\n",
       ":   'logical'Account__r.PersonBirthdate\n",
       ":   'numeric'Account__r.PhoneHLRStatus__pc\n",
       ":   'character'Account__r.PhoneNATStatus__pc\n",
       ":   'character'Account__r.Salutation\n",
       ":   'character'Account__r.Type\n",
       ":   'character'CalculationToken__c\n",
       ":   'character'CarEngineCapacity__c\n",
       ":   'numeric'CarFuelType__c\n",
       ":   'character'CarMake__c\n",
       ":   'character'CarModel__c\n",
       ":   'character'CarYear__c\n",
       ":   'numeric'CpcPaid__c\n",
       ":   'logical'CreatedBy.Alias\n",
       ":   'character'CreatedBy.CreatedDate\n",
       ":   'numeric'CreatedDate\n",
       ":   'numeric'IsDeleted\n",
       ":   'logical'Mpc__c\n",
       ":   'character'PolicyStartDate__c\n",
       ":   'numeric'ProductScope__c\n",
       ":   'character'Source__c\n",
       ":   'character'WentToPartner__c\n",
       ":   'logical'dont_have_this_car__c\n",
       ":   'logical'TelehubStatus__c\n",
       ":   'character'Sale.success\n",
       ":   'numeric'\n",
       "\n"
      ],
      "text/plain": [
       "                     etx_make_name                     etx_model_name \n",
       "                       \"character\"                        \"character\" \n",
       "                     etx_fuel_code                    production_year \n",
       "                       \"character\"                          \"numeric\" \n",
       "                    etx_model_code                   protection_scope \n",
       "                       \"character\"                        \"character\" \n",
       "                              kind                         usage_type \n",
       "                       \"character\"                        \"character\" \n",
       "                     use_frequency           child_carriage_frequency \n",
       "                       \"character\"                        \"character\" \n",
       "                           mileage                     yearly_mileage \n",
       "                         \"numeric\"                          \"numeric\" \n",
       "                       used_abroad                night_parking_place \n",
       "                         \"numeric\"                        \"character\" \n",
       "   night_parking_place_postal_code                  day_parking_place \n",
       "                       \"character\"                        \"character\" \n",
       "     day_parking_place_postal_code      theft_protection_installation \n",
       "                       \"character\"                        \"character\" \n",
       "         theft_protection_device_1          theft_protection_device_2 \n",
       "                       \"character\"                        \"character\" \n",
       "                            origin                           buy_year \n",
       "                       \"character\"                          \"numeric\" \n",
       "                 registration_date                         is_damaged \n",
       "                         \"numeric\"                        \"character\" \n",
       "                           leasing                          car_worth \n",
       "                       \"character\"                          \"numeric\" \n",
       "           main_driver_postal_code                    main_driver_age \n",
       "                       \"character\"                          \"numeric\" \n",
       "                main_driver_gender               insurance_start_date \n",
       "                       \"character\"                          \"numeric\" \n",
       "                      phone_exists                      calc_complete \n",
       "                       \"character\"                          \"numeric\" \n",
       "                   calc_incomplete                      calc_finished \n",
       "                         \"numeric\"                          \"numeric\" \n",
       "                         phone_yes                           phone_no \n",
       "                         \"numeric\"                          \"numeric\" \n",
       "                  calculation_type                   terms_acceptance \n",
       "                       \"character\"                          \"numeric\" \n",
       "                  phone_acceptance                     phone_accepted \n",
       "                         \"numeric\"                          \"numeric\" \n",
       "                              step                         created_at \n",
       "                         \"numeric\"                          \"numeric\" \n",
       "                   created_at_date                         sent_to_sf \n",
       "                         \"numeric\"                          \"numeric\" \n",
       "                   sf_r_purchasing                  calculation_state \n",
       "                         \"numeric\"                        \"character\" \n",
       "                     oc_offers_qty                   oc_offer_min_val \n",
       "                         \"numeric\"                          \"numeric\" \n",
       "                     ac_offers_qty                   ac_offer_min_val \n",
       "                         \"numeric\"                          \"numeric\" \n",
       "                    b2c_leads_sent                   form_finished_at \n",
       "                         \"numeric\"                          \"numeric\" \n",
       "                    offer_first_at                      offer_last_at \n",
       "                         \"numeric\"                          \"numeric\" \n",
       "                 offer_first_after                   offer_last_after \n",
       "                         \"numeric\"                          \"numeric\" \n",
       "               phone_lookup_status                       utm_campaign \n",
       "                         \"numeric\"                        \"character\" \n",
       "                       utm_content                         utm_medium \n",
       "                       \"character\"                        \"character\" \n",
       "                        utm_source                  pkb_transform_ver \n",
       "                       \"character\"                        \"character\" \n",
       "                  went_to_partners                   contact_requests \n",
       "                         \"numeric\"                          \"numeric\" \n",
       "             Acc_Agreement_call__c         Acc_Agreement_marketing__c \n",
       "                         \"logical\"                          \"logical\" \n",
       "       Acc_Agreement_newsletter__c                   Acc_Birthdate__c \n",
       "                         \"logical\"                          \"numeric\" \n",
       "             Acc_PhoneHLRStatus__c           Account__r.AccountSource \n",
       "                       \"character\"                        \"character\" \n",
       "      Account__r.AgreementCall__pc  Account__r.AgreementMarketing__pc \n",
       "                         \"logical\"                          \"logical\" \n",
       "Account__r.AgreementNewsletter__pc             Account__r.BillingCity \n",
       "                         \"logical\"                        \"character\" \n",
       "      Account__r.BillingPostalCode             Account__r.CreatedDate \n",
       "                       \"character\"                          \"numeric\" \n",
       "             Account__r.Gender__pc               Account__r.IsDeleted \n",
       "                       \"character\"                          \"logical\" \n",
       "        Account__r.IsPersonAccount         Account__r.PersonBirthdate \n",
       "                         \"logical\"                          \"numeric\" \n",
       "     Account__r.PhoneHLRStatus__pc      Account__r.PhoneNATStatus__pc \n",
       "                       \"character\"                        \"character\" \n",
       "             Account__r.Salutation                    Account__r.Type \n",
       "                       \"character\"                        \"character\" \n",
       "               CalculationToken__c               CarEngineCapacity__c \n",
       "                       \"character\"                          \"numeric\" \n",
       "                    CarFuelType__c                         CarMake__c \n",
       "                       \"character\"                        \"character\" \n",
       "                       CarModel__c                         CarYear__c \n",
       "                       \"character\"                          \"numeric\" \n",
       "                        CpcPaid__c                    CreatedBy.Alias \n",
       "                         \"logical\"                        \"character\" \n",
       "             CreatedBy.CreatedDate                        CreatedDate \n",
       "                         \"numeric\"                          \"numeric\" \n",
       "                         IsDeleted                             Mpc__c \n",
       "                         \"logical\"                        \"character\" \n",
       "                PolicyStartDate__c                    ProductScope__c \n",
       "                         \"numeric\"                        \"character\" \n",
       "                         Source__c                   WentToPartner__c \n",
       "                       \"character\"                          \"logical\" \n",
       "             dont_have_this_car__c                   TelehubStatus__c \n",
       "                         \"logical\"                        \"character\" \n",
       "                      Sale.success \n",
       "                         \"numeric\" "
      ]
     },
     "metadata": {},
     "output_type": "display_data"
    }
   ],
   "source": [
    "sapply(train2,class)"
   ]
  },
  {
   "cell_type": "markdown",
   "metadata": {},
   "source": [
    "## Zamiana character -> factor, dodawanie poziomu NA"
   ]
  },
  {
   "cell_type": "code",
   "execution_count": 29,
   "metadata": {
    "collapsed": true
   },
   "outputs": [],
   "source": [
    "for (i in 1:length(train2)) {\n",
    "  if (is.character(train2[,i])){\n",
    "    train2[,i] = as.factor(train2[,i])\n",
    "  }\n",
    "  if (is.factor(train2[,i])){\n",
    "      train2[,i] = addNA(train2[,i])\n",
    "  }\n",
    "}"
   ]
  },
  {
   "cell_type": "markdown",
   "metadata": {},
   "source": [
    "## Usuwanie predyktorów z wariancją bliską zero (czyli takich co mają przeważnie jedną wartość lub jedna wartość jest drastycznie częsta)"
   ]
  },
  {
   "cell_type": "code",
   "execution_count": 31,
   "metadata": {},
   "outputs": [
    {
     "name": "stderr",
     "output_type": "stream",
     "text": [
      "Loading required package: caret\n",
      "Loading required package: lattice\n",
      "Loading required package: ggplot2\n"
     ]
    }
   ],
   "source": [
    "if (!require(\"caret\")){\n",
    "    install.packages(\"caret\")\n",
    "}\n",
    "library(\"caret\")"
   ]
  },
  {
   "cell_type": "code",
   "execution_count": 32,
   "metadata": {},
   "outputs": [],
   "source": [
    "nzv = nearZeroVar(train2,freqCut=99) #bardzo duży cutoff - 99/1 (by nie obcinać zbyt dużo)"
   ]
  },
  {
   "cell_type": "code",
   "execution_count": 33,
   "metadata": {
    "scrolled": true
   },
   "outputs": [
    {
     "data": {
      "text/html": [
       "<ol class=list-inline>\n",
       "\t<li>'usage_type'</li>\n",
       "\t<li>'is_damaged'</li>\n",
       "\t<li>'leasing'</li>\n",
       "\t<li>'calc_complete'</li>\n",
       "\t<li>'calc_incomplete'</li>\n",
       "\t<li>'calc_finished'</li>\n",
       "\t<li>'calculation_type'</li>\n",
       "\t<li>'terms_acceptance'</li>\n",
       "\t<li>'sent_to_sf'</li>\n",
       "\t<li>'sf_r_purchasing'</li>\n",
       "\t<li>'calculation_state'</li>\n",
       "\t<li>'ac_offer_min_val'</li>\n",
       "\t<li>'pkb_transform_ver'</li>\n",
       "\t<li>'contact_requests'</li>\n",
       "\t<li>'Acc_Agreement_newsletter__c'</li>\n",
       "\t<li>'Account__r.AgreementNewsletter__pc'</li>\n",
       "\t<li>'Account__r.IsDeleted'</li>\n",
       "\t<li>'Account__r.IsPersonAccount'</li>\n",
       "\t<li>'Account__r.Type'</li>\n",
       "\t<li>'CpcPaid__c'</li>\n",
       "\t<li>'CreatedBy.Alias'</li>\n",
       "\t<li>'CreatedBy.CreatedDate'</li>\n",
       "\t<li>'IsDeleted'</li>\n",
       "</ol>\n"
      ],
      "text/latex": [
       "\\begin{enumerate*}\n",
       "\\item 'usage\\_type'\n",
       "\\item 'is\\_damaged'\n",
       "\\item 'leasing'\n",
       "\\item 'calc\\_complete'\n",
       "\\item 'calc\\_incomplete'\n",
       "\\item 'calc\\_finished'\n",
       "\\item 'calculation\\_type'\n",
       "\\item 'terms\\_acceptance'\n",
       "\\item 'sent\\_to\\_sf'\n",
       "\\item 'sf\\_r\\_purchasing'\n",
       "\\item 'calculation\\_state'\n",
       "\\item 'ac\\_offer\\_min\\_val'\n",
       "\\item 'pkb\\_transform\\_ver'\n",
       "\\item 'contact\\_requests'\n",
       "\\item 'Acc\\_Agreement\\_newsletter\\_\\_c'\n",
       "\\item 'Account\\_\\_r.AgreementNewsletter\\_\\_pc'\n",
       "\\item 'Account\\_\\_r.IsDeleted'\n",
       "\\item 'Account\\_\\_r.IsPersonAccount'\n",
       "\\item 'Account\\_\\_r.Type'\n",
       "\\item 'CpcPaid\\_\\_c'\n",
       "\\item 'CreatedBy.Alias'\n",
       "\\item 'CreatedBy.CreatedDate'\n",
       "\\item 'IsDeleted'\n",
       "\\end{enumerate*}\n"
      ],
      "text/markdown": [
       "1. 'usage_type'\n",
       "2. 'is_damaged'\n",
       "3. 'leasing'\n",
       "4. 'calc_complete'\n",
       "5. 'calc_incomplete'\n",
       "6. 'calc_finished'\n",
       "7. 'calculation_type'\n",
       "8. 'terms_acceptance'\n",
       "9. 'sent_to_sf'\n",
       "10. 'sf_r_purchasing'\n",
       "11. 'calculation_state'\n",
       "12. 'ac_offer_min_val'\n",
       "13. 'pkb_transform_ver'\n",
       "14. 'contact_requests'\n",
       "15. 'Acc_Agreement_newsletter__c'\n",
       "16. 'Account__r.AgreementNewsletter__pc'\n",
       "17. 'Account__r.IsDeleted'\n",
       "18. 'Account__r.IsPersonAccount'\n",
       "19. 'Account__r.Type'\n",
       "20. 'CpcPaid__c'\n",
       "21. 'CreatedBy.Alias'\n",
       "22. 'CreatedBy.CreatedDate'\n",
       "23. 'IsDeleted'\n",
       "\n",
       "\n"
      ],
      "text/plain": [
       " [1] \"usage_type\"                         \"is_damaged\"                        \n",
       " [3] \"leasing\"                            \"calc_complete\"                     \n",
       " [5] \"calc_incomplete\"                    \"calc_finished\"                     \n",
       " [7] \"calculation_type\"                   \"terms_acceptance\"                  \n",
       " [9] \"sent_to_sf\"                         \"sf_r_purchasing\"                   \n",
       "[11] \"calculation_state\"                  \"ac_offer_min_val\"                  \n",
       "[13] \"pkb_transform_ver\"                  \"contact_requests\"                  \n",
       "[15] \"Acc_Agreement_newsletter__c\"        \"Account__r.AgreementNewsletter__pc\"\n",
       "[17] \"Account__r.IsDeleted\"               \"Account__r.IsPersonAccount\"        \n",
       "[19] \"Account__r.Type\"                    \"CpcPaid__c\"                        \n",
       "[21] \"CreatedBy.Alias\"                    \"CreatedBy.CreatedDate\"             \n",
       "[23] \"IsDeleted\"                         "
      ]
     },
     "metadata": {},
     "output_type": "display_data"
    }
   ],
   "source": [
    "colnames(train2)[nzv]"
   ]
  },
  {
   "cell_type": "code",
   "execution_count": 52,
   "metadata": {
    "scrolled": true
   },
   "outputs": [
    {
     "data": {
      "text/html": [
       "80"
      ],
      "text/latex": [
       "80"
      ],
      "text/markdown": [
       "80"
      ],
      "text/plain": [
       "[1] 80"
      ]
     },
     "metadata": {},
     "output_type": "display_data"
    }
   ],
   "source": [
    "train3 = train2[,-nzv]\n",
    "#od razu mniej predyktorów:\n",
    "ncol(train3)"
   ]
  },
  {
   "cell_type": "markdown",
   "metadata": {},
   "source": [
    "## Imputacja numerycznych faktorów"
   ]
  },
  {
   "cell_type": "code",
   "execution_count": 53,
   "metadata": {
    "scrolled": true
   },
   "outputs": [
    {
     "data": {
      "text/html": [
       "<dl class=dl-horizontal>\n",
       "\t<dt>production_year</dt>\n",
       "\t\t<dd>4</dd>\n",
       "\t<dt>mileage</dt>\n",
       "\t\t<dd>10</dd>\n",
       "\t<dt>yearly_mileage</dt>\n",
       "\t\t<dd>11</dd>\n",
       "\t<dt>used_abroad</dt>\n",
       "\t\t<dd>12</dd>\n",
       "\t<dt>buy_year</dt>\n",
       "\t\t<dd>21</dd>\n",
       "\t<dt>registration_date</dt>\n",
       "\t\t<dd>22</dd>\n",
       "\t<dt>car_worth</dt>\n",
       "\t\t<dd>23</dd>\n",
       "\t<dt>main_driver_age</dt>\n",
       "\t\t<dd>25</dd>\n",
       "\t<dt>insurance_start_date</dt>\n",
       "\t\t<dd>27</dd>\n",
       "\t<dt>phone_yes</dt>\n",
       "\t\t<dd>29</dd>\n",
       "\t<dt>phone_no</dt>\n",
       "\t\t<dd>30</dd>\n",
       "\t<dt>phone_acceptance</dt>\n",
       "\t\t<dd>31</dd>\n",
       "\t<dt>phone_accepted</dt>\n",
       "\t\t<dd>32</dd>\n",
       "\t<dt>step</dt>\n",
       "\t\t<dd>33</dd>\n",
       "\t<dt>created_at</dt>\n",
       "\t\t<dd>34</dd>\n",
       "\t<dt>created_at_date</dt>\n",
       "\t\t<dd>35</dd>\n",
       "\t<dt>oc_offers_qty</dt>\n",
       "\t\t<dd>36</dd>\n",
       "\t<dt>oc_offer_min_val</dt>\n",
       "\t\t<dd>37</dd>\n",
       "\t<dt>ac_offers_qty</dt>\n",
       "\t\t<dd>38</dd>\n",
       "\t<dt>b2c_leads_sent</dt>\n",
       "\t\t<dd>39</dd>\n",
       "\t<dt>form_finished_at</dt>\n",
       "\t\t<dd>40</dd>\n",
       "\t<dt>offer_first_at</dt>\n",
       "\t\t<dd>41</dd>\n",
       "\t<dt>offer_last_at</dt>\n",
       "\t\t<dd>42</dd>\n",
       "\t<dt>offer_first_after</dt>\n",
       "\t\t<dd>43</dd>\n",
       "\t<dt>offer_last_after</dt>\n",
       "\t\t<dd>44</dd>\n",
       "\t<dt>phone_lookup_status</dt>\n",
       "\t\t<dd>45</dd>\n",
       "\t<dt>went_to_partners</dt>\n",
       "\t\t<dd>50</dd>\n",
       "\t<dt>Acc_Birthdate__c</dt>\n",
       "\t\t<dd>53</dd>\n",
       "\t<dt>Account__r.CreatedDate</dt>\n",
       "\t\t<dd>60</dd>\n",
       "\t<dt>Account__r.PersonBirthdate</dt>\n",
       "\t\t<dd>62</dd>\n",
       "\t<dt>CarEngineCapacity__c</dt>\n",
       "\t\t<dd>67</dd>\n",
       "\t<dt>CarYear__c</dt>\n",
       "\t\t<dd>71</dd>\n",
       "\t<dt>CreatedDate</dt>\n",
       "\t\t<dd>72</dd>\n",
       "\t<dt>PolicyStartDate__c</dt>\n",
       "\t\t<dd>74</dd>\n",
       "</dl>\n"
      ],
      "text/latex": [
       "\\begin{description*}\n",
       "\\item[production\\textbackslash{}\\_year] 4\n",
       "\\item[mileage] 10\n",
       "\\item[yearly\\textbackslash{}\\_mileage] 11\n",
       "\\item[used\\textbackslash{}\\_abroad] 12\n",
       "\\item[buy\\textbackslash{}\\_year] 21\n",
       "\\item[registration\\textbackslash{}\\_date] 22\n",
       "\\item[car\\textbackslash{}\\_worth] 23\n",
       "\\item[main\\textbackslash{}\\_driver\\textbackslash{}\\_age] 25\n",
       "\\item[insurance\\textbackslash{}\\_start\\textbackslash{}\\_date] 27\n",
       "\\item[phone\\textbackslash{}\\_yes] 29\n",
       "\\item[phone\\textbackslash{}\\_no] 30\n",
       "\\item[phone\\textbackslash{}\\_acceptance] 31\n",
       "\\item[phone\\textbackslash{}\\_accepted] 32\n",
       "\\item[step] 33\n",
       "\\item[created\\textbackslash{}\\_at] 34\n",
       "\\item[created\\textbackslash{}\\_at\\textbackslash{}\\_date] 35\n",
       "\\item[oc\\textbackslash{}\\_offers\\textbackslash{}\\_qty] 36\n",
       "\\item[oc\\textbackslash{}\\_offer\\textbackslash{}\\_min\\textbackslash{}\\_val] 37\n",
       "\\item[ac\\textbackslash{}\\_offers\\textbackslash{}\\_qty] 38\n",
       "\\item[b2c\\textbackslash{}\\_leads\\textbackslash{}\\_sent] 39\n",
       "\\item[form\\textbackslash{}\\_finished\\textbackslash{}\\_at] 40\n",
       "\\item[offer\\textbackslash{}\\_first\\textbackslash{}\\_at] 41\n",
       "\\item[offer\\textbackslash{}\\_last\\textbackslash{}\\_at] 42\n",
       "\\item[offer\\textbackslash{}\\_first\\textbackslash{}\\_after] 43\n",
       "\\item[offer\\textbackslash{}\\_last\\textbackslash{}\\_after] 44\n",
       "\\item[phone\\textbackslash{}\\_lookup\\textbackslash{}\\_status] 45\n",
       "\\item[went\\textbackslash{}\\_to\\textbackslash{}\\_partners] 50\n",
       "\\item[Acc\\textbackslash{}\\_Birthdate\\textbackslash{}\\_\\textbackslash{}\\_c] 53\n",
       "\\item[Account\\textbackslash{}\\_\\textbackslash{}\\_r.CreatedDate] 60\n",
       "\\item[Account\\textbackslash{}\\_\\textbackslash{}\\_r.PersonBirthdate] 62\n",
       "\\item[CarEngineCapacity\\textbackslash{}\\_\\textbackslash{}\\_c] 67\n",
       "\\item[CarYear\\textbackslash{}\\_\\textbackslash{}\\_c] 71\n",
       "\\item[CreatedDate] 72\n",
       "\\item[PolicyStartDate\\textbackslash{}\\_\\textbackslash{}\\_c] 74\n",
       "\\end{description*}\n"
      ],
      "text/markdown": [
       "production_year\n",
       ":   4mileage\n",
       ":   10yearly_mileage\n",
       ":   11used_abroad\n",
       ":   12buy_year\n",
       ":   21registration_date\n",
       ":   22car_worth\n",
       ":   23main_driver_age\n",
       ":   25insurance_start_date\n",
       ":   27phone_yes\n",
       ":   29phone_no\n",
       ":   30phone_acceptance\n",
       ":   31phone_accepted\n",
       ":   32step\n",
       ":   33created_at\n",
       ":   34created_at_date\n",
       ":   35oc_offers_qty\n",
       ":   36oc_offer_min_val\n",
       ":   37ac_offers_qty\n",
       ":   38b2c_leads_sent\n",
       ":   39form_finished_at\n",
       ":   40offer_first_at\n",
       ":   41offer_last_at\n",
       ":   42offer_first_after\n",
       ":   43offer_last_after\n",
       ":   44phone_lookup_status\n",
       ":   45went_to_partners\n",
       ":   50Acc_Birthdate__c\n",
       ":   53Account__r.CreatedDate\n",
       ":   60Account__r.PersonBirthdate\n",
       ":   62CarEngineCapacity__c\n",
       ":   67CarYear__c\n",
       ":   71CreatedDate\n",
       ":   72PolicyStartDate__c\n",
       ":   74\n",
       "\n"
      ],
      "text/plain": [
       "           production_year                    mileage \n",
       "                         4                         10 \n",
       "            yearly_mileage                used_abroad \n",
       "                        11                         12 \n",
       "                  buy_year          registration_date \n",
       "                        21                         22 \n",
       "                 car_worth            main_driver_age \n",
       "                        23                         25 \n",
       "      insurance_start_date                  phone_yes \n",
       "                        27                         29 \n",
       "                  phone_no           phone_acceptance \n",
       "                        30                         31 \n",
       "            phone_accepted                       step \n",
       "                        32                         33 \n",
       "                created_at            created_at_date \n",
       "                        34                         35 \n",
       "             oc_offers_qty           oc_offer_min_val \n",
       "                        36                         37 \n",
       "             ac_offers_qty             b2c_leads_sent \n",
       "                        38                         39 \n",
       "          form_finished_at             offer_first_at \n",
       "                        40                         41 \n",
       "             offer_last_at          offer_first_after \n",
       "                        42                         43 \n",
       "          offer_last_after        phone_lookup_status \n",
       "                        44                         45 \n",
       "          went_to_partners           Acc_Birthdate__c \n",
       "                        50                         53 \n",
       "    Account__r.CreatedDate Account__r.PersonBirthdate \n",
       "                        60                         62 \n",
       "      CarEngineCapacity__c                 CarYear__c \n",
       "                        67                         71 \n",
       "               CreatedDate         PolicyStartDate__c \n",
       "                        72                         74 "
      ]
     },
     "metadata": {},
     "output_type": "display_data"
    }
   ],
   "source": [
    "numericpreds = which(sapply(train3,class)=='numeric')\n",
    "yind = which(names(numericpreds)=='Sale.success')\n",
    "numericpreds = numericpreds[-yind]\n",
    "numericpreds"
   ]
  },
  {
   "cell_type": "markdown",
   "metadata": {},
   "source": [
    "### Numeryczne atrybuty bez NA, poszukam takich:"
   ]
  },
  {
   "cell_type": "code",
   "execution_count": 54,
   "metadata": {
    "collapsed": true
   },
   "outputs": [],
   "source": [
    "has_NA = sapply(numericpreds,function(npred)any(is.na(train3[,npred])))"
   ]
  },
  {
   "cell_type": "code",
   "execution_count": 55,
   "metadata": {},
   "outputs": [
    {
     "data": {
      "text/html": [
       "<dl class=dl-horizontal>\n",
       "\t<dt>mileage</dt>\n",
       "\t\t<dd>10</dd>\n",
       "\t<dt>yearly_mileage</dt>\n",
       "\t\t<dd>11</dd>\n",
       "\t<dt>buy_year</dt>\n",
       "\t\t<dd>21</dd>\n",
       "\t<dt>car_worth</dt>\n",
       "\t\t<dd>23</dd>\n",
       "\t<dt>oc_offers_qty</dt>\n",
       "\t\t<dd>36</dd>\n",
       "\t<dt>ac_offers_qty</dt>\n",
       "\t\t<dd>38</dd>\n",
       "\t<dt>b2c_leads_sent</dt>\n",
       "\t\t<dd>39</dd>\n",
       "\t<dt>form_finished_at</dt>\n",
       "\t\t<dd>40</dd>\n",
       "\t<dt>offer_first_at</dt>\n",
       "\t\t<dd>41</dd>\n",
       "\t<dt>offer_last_at</dt>\n",
       "\t\t<dd>42</dd>\n",
       "\t<dt>Acc_Birthdate__c</dt>\n",
       "\t\t<dd>53</dd>\n",
       "\t<dt>Account__r.PersonBirthdate</dt>\n",
       "\t\t<dd>62</dd>\n",
       "\t<dt>CarEngineCapacity__c</dt>\n",
       "\t\t<dd>67</dd>\n",
       "\t<dt>CarYear__c</dt>\n",
       "\t\t<dd>71</dd>\n",
       "\t<dt>PolicyStartDate__c</dt>\n",
       "\t\t<dd>74</dd>\n",
       "</dl>\n"
      ],
      "text/latex": [
       "\\begin{description*}\n",
       "\\item[mileage] 10\n",
       "\\item[yearly\\textbackslash{}\\_mileage] 11\n",
       "\\item[buy\\textbackslash{}\\_year] 21\n",
       "\\item[car\\textbackslash{}\\_worth] 23\n",
       "\\item[oc\\textbackslash{}\\_offers\\textbackslash{}\\_qty] 36\n",
       "\\item[ac\\textbackslash{}\\_offers\\textbackslash{}\\_qty] 38\n",
       "\\item[b2c\\textbackslash{}\\_leads\\textbackslash{}\\_sent] 39\n",
       "\\item[form\\textbackslash{}\\_finished\\textbackslash{}\\_at] 40\n",
       "\\item[offer\\textbackslash{}\\_first\\textbackslash{}\\_at] 41\n",
       "\\item[offer\\textbackslash{}\\_last\\textbackslash{}\\_at] 42\n",
       "\\item[Acc\\textbackslash{}\\_Birthdate\\textbackslash{}\\_\\textbackslash{}\\_c] 53\n",
       "\\item[Account\\textbackslash{}\\_\\textbackslash{}\\_r.PersonBirthdate] 62\n",
       "\\item[CarEngineCapacity\\textbackslash{}\\_\\textbackslash{}\\_c] 67\n",
       "\\item[CarYear\\textbackslash{}\\_\\textbackslash{}\\_c] 71\n",
       "\\item[PolicyStartDate\\textbackslash{}\\_\\textbackslash{}\\_c] 74\n",
       "\\end{description*}\n"
      ],
      "text/markdown": [
       "mileage\n",
       ":   10yearly_mileage\n",
       ":   11buy_year\n",
       ":   21car_worth\n",
       ":   23oc_offers_qty\n",
       ":   36ac_offers_qty\n",
       ":   38b2c_leads_sent\n",
       ":   39form_finished_at\n",
       ":   40offer_first_at\n",
       ":   41offer_last_at\n",
       ":   42Acc_Birthdate__c\n",
       ":   53Account__r.PersonBirthdate\n",
       ":   62CarEngineCapacity__c\n",
       ":   67CarYear__c\n",
       ":   71PolicyStartDate__c\n",
       ":   74\n",
       "\n"
      ],
      "text/plain": [
       "                   mileage             yearly_mileage \n",
       "                        10                         11 \n",
       "                  buy_year                  car_worth \n",
       "                        21                         23 \n",
       "             oc_offers_qty              ac_offers_qty \n",
       "                        36                         38 \n",
       "            b2c_leads_sent           form_finished_at \n",
       "                        39                         40 \n",
       "            offer_first_at              offer_last_at \n",
       "                        41                         42 \n",
       "          Acc_Birthdate__c Account__r.PersonBirthdate \n",
       "                        53                         62 \n",
       "      CarEngineCapacity__c                 CarYear__c \n",
       "                        67                         71 \n",
       "        PolicyStartDate__c \n",
       "                        74 "
      ]
     },
     "metadata": {},
     "output_type": "display_data"
    }
   ],
   "source": [
    "numericpreds = numericpreds[has_NA]\n",
    "numericpreds"
   ]
  },
  {
   "cell_type": "markdown",
   "metadata": {},
   "source": [
    "Jest ich na tyle mało, że imputacja może być ręczna"
   ]
  },
  {
   "cell_type": "code",
   "execution_count": 56,
   "metadata": {},
   "outputs": [
    {
     "data": {
      "text/html": [
       "<dl class=dl-horizontal>\n",
       "\t<dt>mileage</dt>\n",
       "\t\t<dd>5.3392563483758e-05</dd>\n",
       "\t<dt>yearly_mileage</dt>\n",
       "\t\t<dd>4.27140507870064e-05</dd>\n",
       "\t<dt>buy_year</dt>\n",
       "\t\t<dd>5.3392563483758e-05</dd>\n",
       "\t<dt>car_worth</dt>\n",
       "\t\t<dd>0.0358370886102984</dd>\n",
       "\t<dt>oc_offers_qty</dt>\n",
       "\t\t<dd>0.00184738269653803</dd>\n",
       "\t<dt>ac_offers_qty</dt>\n",
       "\t\t<dd>0.142857142857143</dd>\n",
       "\t<dt>b2c_leads_sent</dt>\n",
       "\t\t<dd>0.070328684620806</dd>\n",
       "\t<dt>form_finished_at</dt>\n",
       "\t\t<dd>0.00020289174123828</dd>\n",
       "\t<dt>offer_first_at</dt>\n",
       "\t\t<dd>0.284336757576405</dd>\n",
       "\t<dt>offer_last_at</dt>\n",
       "\t\t<dd>0.284336757576405</dd>\n",
       "\t<dt>Acc_Birthdate__c</dt>\n",
       "\t\t<dd>0.492279435320249</dd>\n",
       "\t<dt>Account__r.PersonBirthdate</dt>\n",
       "\t\t<dd>0.492279435320249</dd>\n",
       "\t<dt>CarEngineCapacity__c</dt>\n",
       "\t\t<dd>0.0316297546077782</dd>\n",
       "\t<dt>CarYear__c</dt>\n",
       "\t\t<dd>0.031512290968114</dd>\n",
       "\t<dt>PolicyStartDate__c</dt>\n",
       "\t\t<dd>0.00704781837985605</dd>\n",
       "</dl>\n"
      ],
      "text/latex": [
       "\\begin{description*}\n",
       "\\item[mileage] 5.3392563483758e-05\n",
       "\\item[yearly\\textbackslash{}\\_mileage] 4.27140507870064e-05\n",
       "\\item[buy\\textbackslash{}\\_year] 5.3392563483758e-05\n",
       "\\item[car\\textbackslash{}\\_worth] 0.0358370886102984\n",
       "\\item[oc\\textbackslash{}\\_offers\\textbackslash{}\\_qty] 0.00184738269653803\n",
       "\\item[ac\\textbackslash{}\\_offers\\textbackslash{}\\_qty] 0.142857142857143\n",
       "\\item[b2c\\textbackslash{}\\_leads\\textbackslash{}\\_sent] 0.070328684620806\n",
       "\\item[form\\textbackslash{}\\_finished\\textbackslash{}\\_at] 0.00020289174123828\n",
       "\\item[offer\\textbackslash{}\\_first\\textbackslash{}\\_at] 0.284336757576405\n",
       "\\item[offer\\textbackslash{}\\_last\\textbackslash{}\\_at] 0.284336757576405\n",
       "\\item[Acc\\textbackslash{}\\_Birthdate\\textbackslash{}\\_\\textbackslash{}\\_c] 0.492279435320249\n",
       "\\item[Account\\textbackslash{}\\_\\textbackslash{}\\_r.PersonBirthdate] 0.492279435320249\n",
       "\\item[CarEngineCapacity\\textbackslash{}\\_\\textbackslash{}\\_c] 0.0316297546077782\n",
       "\\item[CarYear\\textbackslash{}\\_\\textbackslash{}\\_c] 0.031512290968114\n",
       "\\item[PolicyStartDate\\textbackslash{}\\_\\textbackslash{}\\_c] 0.00704781837985605\n",
       "\\end{description*}\n"
      ],
      "text/markdown": [
       "mileage\n",
       ":   5.3392563483758e-05yearly_mileage\n",
       ":   4.27140507870064e-05buy_year\n",
       ":   5.3392563483758e-05car_worth\n",
       ":   0.0358370886102984oc_offers_qty\n",
       ":   0.00184738269653803ac_offers_qty\n",
       ":   0.142857142857143b2c_leads_sent\n",
       ":   0.070328684620806form_finished_at\n",
       ":   0.00020289174123828offer_first_at\n",
       ":   0.284336757576405offer_last_at\n",
       ":   0.284336757576405Acc_Birthdate__c\n",
       ":   0.492279435320249Account__r.PersonBirthdate\n",
       ":   0.492279435320249CarEngineCapacity__c\n",
       ":   0.0316297546077782CarYear__c\n",
       ":   0.031512290968114PolicyStartDate__c\n",
       ":   0.00704781837985605\n",
       "\n"
      ],
      "text/plain": [
       "                   mileage             yearly_mileage \n",
       "              5.339256e-05               4.271405e-05 \n",
       "                  buy_year                  car_worth \n",
       "              5.339256e-05               3.583709e-02 \n",
       "             oc_offers_qty              ac_offers_qty \n",
       "              1.847383e-03               1.428571e-01 \n",
       "            b2c_leads_sent           form_finished_at \n",
       "              7.032868e-02               2.028917e-04 \n",
       "            offer_first_at              offer_last_at \n",
       "              2.843368e-01               2.843368e-01 \n",
       "          Acc_Birthdate__c Account__r.PersonBirthdate \n",
       "              4.922794e-01               4.922794e-01 \n",
       "      CarEngineCapacity__c                 CarYear__c \n",
       "              3.162975e-02               3.151229e-02 \n",
       "        PolicyStartDate__c \n",
       "              7.047818e-03 "
      ]
     },
     "metadata": {},
     "output_type": "display_data"
    }
   ],
   "source": [
    "#sprawdzam frakcję brakujących danych\n",
    "sapply(train3[,numericpreds],function(x){mean(is.na(x))})"
   ]
  },
  {
   "cell_type": "code",
   "execution_count": 237,
   "metadata": {
    "collapsed": true
   },
   "outputs": [],
   "source": [
    "#kilka predyktorów ma dużo brakujących danych - trzeba będzie potem pomyśleć co z tym można zrobić"
   ]
  },
  {
   "cell_type": "code",
   "execution_count": 57,
   "metadata": {},
   "outputs": [
    {
     "data": {
      "text/html": [
       "15"
      ],
      "text/latex": [
       "15"
      ],
      "text/markdown": [
       "15"
      ],
      "text/plain": [
       "[1] 15"
      ]
     },
     "metadata": {},
     "output_type": "display_data"
    }
   ],
   "source": [
    "length(numericpreds)"
   ]
  },
  {
   "cell_type": "code",
   "execution_count": 58,
   "metadata": {
    "scrolled": true
   },
   "outputs": [
    {
     "data": {
      "image/png": "[encoded data removed]",
      "text/plain": [
       "Plot with title “PolicyStartDate__c”"
      ]
     },
     "metadata": {},
     "output_type": "display_data"
    }
   ],
   "source": [
    "#rozkład wartości w predyktorach\n",
    "par(mfrow=c(5,3))\n",
    "for (i in 1:length(numericpreds)){\n",
    "    hist(train3[,numericpreds[i]],main=colnames(train3)[numericpreds[i]])\n",
    "}"
   ]
  },
  {
   "cell_type": "markdown",
   "metadata": {},
   "source": [
    "Imputacja brakujących danych przez średnie (inne metody są niewykonalne w skończonym czasie)"
   ]
  },
  {
   "cell_type": "code",
   "execution_count": 59,
   "metadata": {
    "collapsed": true
   },
   "outputs": [],
   "source": [
    "for (numericpred in numericpreds){\n",
    "    train3[which(is.na(train3[,numericpred])),numericpred] = as.integer(mean(na.omit(train3[,numericpred])))\n",
    "}"
   ]
  },
  {
   "cell_type": "code",
   "execution_count": 60,
   "metadata": {},
   "outputs": [
    {
     "data": {
      "text/html": [
       "FALSE"
      ],
      "text/latex": [
       "FALSE"
      ],
      "text/markdown": [
       "FALSE"
      ],
      "text/plain": [
       "[1] FALSE"
      ]
     },
     "metadata": {},
     "output_type": "display_data"
    }
   ],
   "source": [
    "#nie ma już żadnych brakujących wartości\n",
    "any(sapply(train3,function(x)any(is.na(x))))"
   ]
  },
  {
   "cell_type": "markdown",
   "metadata": {},
   "source": [
    "## Zamiana logical na numeric"
   ]
  },
  {
   "cell_type": "code",
   "execution_count": 61,
   "metadata": {},
   "outputs": [
    {
     "data": {
      "text/html": [
       "<ol class=list-inline>\n",
       "\t<li>51</li>\n",
       "\t<li>52</li>\n",
       "\t<li>56</li>\n",
       "\t<li>57</li>\n",
       "\t<li>77</li>\n",
       "\t<li>78</li>\n",
       "</ol>\n"
      ],
      "text/latex": [
       "\\begin{enumerate*}\n",
       "\\item 51\n",
       "\\item 52\n",
       "\\item 56\n",
       "\\item 57\n",
       "\\item 77\n",
       "\\item 78\n",
       "\\end{enumerate*}\n"
      ],
      "text/markdown": [
       "1. 51\n",
       "2. 52\n",
       "3. 56\n",
       "4. 57\n",
       "5. 77\n",
       "6. 78\n",
       "\n",
       "\n"
      ],
      "text/plain": [
       "[1] 51 52 56 57 77 78"
      ]
     },
     "metadata": {},
     "output_type": "display_data"
    }
   ],
   "source": [
    "(linds = which(sapply(train3,class)%in%c('logical')))"
   ]
  },
  {
   "cell_type": "code",
   "execution_count": 62,
   "metadata": {},
   "outputs": [],
   "source": [
    "for (l in linds){\n",
    "    train3[,l] = as.integer(train3[,l])\n",
    "}"
   ]
  },
  {
   "cell_type": "markdown",
   "metadata": {},
   "source": [
    "## Korelacje"
   ]
  },
  {
   "cell_type": "code",
   "execution_count": 63,
   "metadata": {
    "collapsed": true
   },
   "outputs": [],
   "source": [
    "#korelacja nie dziala dla factorow - sprawdzam zatem tylko dla ilosciowych\n",
    "numerics = which(sapply(train3,class)%in%c('numeric','integer'))\n",
    "cr = cor(train3[,numerics])"
   ]
  },
  {
   "cell_type": "code",
   "execution_count": 79,
   "metadata": {
    "collapsed": true
   },
   "outputs": [],
   "source": [
    "correlated = findCorrelation(cr,cutoff= 0.8,names=TRUE)"
   ]
  },
  {
   "cell_type": "code",
   "execution_count": 80,
   "metadata": {},
   "outputs": [
    {
     "data": {
      "text/html": [
       "<ol class=list-inline>\n",
       "\t<li>'Account__r.CreatedDate'</li>\n",
       "\t<li>'CreatedDate'</li>\n",
       "\t<li>'created_at'</li>\n",
       "\t<li>'form_finished_at'</li>\n",
       "\t<li>'created_at_date'</li>\n",
       "\t<li>'insurance_start_date'</li>\n",
       "\t<li>'offer_first_at'</li>\n",
       "\t<li>'phone_yes'</li>\n",
       "\t<li>'phone_no'</li>\n",
       "\t<li>'phone_acceptance'</li>\n",
       "\t<li>'phone_accepted'</li>\n",
       "\t<li>'Acc_Agreement_call__c'</li>\n",
       "\t<li>'Acc_Agreement_marketing__c'</li>\n",
       "\t<li>'Account__r.AgreementCall__pc'</li>\n",
       "\t<li>'oc_offers_qty'</li>\n",
       "\t<li>'Acc_Birthdate__c'</li>\n",
       "</ol>\n"
      ],
      "text/latex": [
       "\\begin{enumerate*}\n",
       "\\item 'Account\\_\\_r.CreatedDate'\n",
       "\\item 'CreatedDate'\n",
       "\\item 'created\\_at'\n",
       "\\item 'form\\_finished\\_at'\n",
       "\\item 'created\\_at\\_date'\n",
       "\\item 'insurance\\_start\\_date'\n",
       "\\item 'offer\\_first\\_at'\n",
       "\\item 'phone\\_yes'\n",
       "\\item 'phone\\_no'\n",
       "\\item 'phone\\_acceptance'\n",
       "\\item 'phone\\_accepted'\n",
       "\\item 'Acc\\_Agreement\\_call\\_\\_c'\n",
       "\\item 'Acc\\_Agreement\\_marketing\\_\\_c'\n",
       "\\item 'Account\\_\\_r.AgreementCall\\_\\_pc'\n",
       "\\item 'oc\\_offers\\_qty'\n",
       "\\item 'Acc\\_Birthdate\\_\\_c'\n",
       "\\end{enumerate*}\n"
      ],
      "text/markdown": [
       "1. 'Account__r.CreatedDate'\n",
       "2. 'CreatedDate'\n",
       "3. 'created_at'\n",
       "4. 'form_finished_at'\n",
       "5. 'created_at_date'\n",
       "6. 'insurance_start_date'\n",
       "7. 'offer_first_at'\n",
       "8. 'phone_yes'\n",
       "9. 'phone_no'\n",
       "10. 'phone_acceptance'\n",
       "11. 'phone_accepted'\n",
       "12. 'Acc_Agreement_call__c'\n",
       "13. 'Acc_Agreement_marketing__c'\n",
       "14. 'Account__r.AgreementCall__pc'\n",
       "15. 'oc_offers_qty'\n",
       "16. 'Acc_Birthdate__c'\n",
       "\n",
       "\n"
      ],
      "text/plain": [
       " [1] \"Account__r.CreatedDate\"       \"CreatedDate\"                 \n",
       " [3] \"created_at\"                   \"form_finished_at\"            \n",
       " [5] \"created_at_date\"              \"insurance_start_date\"        \n",
       " [7] \"offer_first_at\"               \"phone_yes\"                   \n",
       " [9] \"phone_no\"                     \"phone_acceptance\"            \n",
       "[11] \"phone_accepted\"               \"Acc_Agreement_call__c\"       \n",
       "[13] \"Acc_Agreement_marketing__c\"   \"Account__r.AgreementCall__pc\"\n",
       "[15] \"oc_offers_qty\"                \"Acc_Birthdate__c\"            "
      ]
     },
     "metadata": {},
     "output_type": "display_data"
    }
   ],
   "source": [
    "correlated"
   ]
  },
  {
   "cell_type": "code",
   "execution_count": 81,
   "metadata": {
    "collapsed": true
   },
   "outputs": [],
   "source": [
    "traininds = sapply(correlated,function(cc)which(colnames(train3)==cc))"
   ]
  },
  {
   "cell_type": "code",
   "execution_count": 125,
   "metadata": {
    "collapsed": true
   },
   "outputs": [],
   "source": [
    "train4 = train3[,-traininds]"
   ]
  },
  {
   "cell_type": "code",
   "execution_count": 126,
   "metadata": {},
   "outputs": [
    {
     "data": {
      "text/html": [
       "64"
      ],
      "text/latex": [
       "64"
      ],
      "text/markdown": [
       "64"
      ],
      "text/plain": [
       "[1] 64"
      ]
     },
     "metadata": {},
     "output_type": "display_data"
    }
   ],
   "source": [
    "ncol(train4)"
   ]
  },
  {
   "cell_type": "markdown",
   "metadata": {},
   "source": [
    "## Współliniowość"
   ]
  },
  {
   "cell_type": "code",
   "execution_count": 85,
   "metadata": {
    "collapsed": true
   },
   "outputs": [],
   "source": [
    "#podobnie jak wczesniej, znowu dla ilosciowych tylko\n",
    "numerics = which(sapply(train4,class)%in%c('numeric','integer'))"
   ]
  },
  {
   "cell_type": "code",
   "execution_count": 86,
   "metadata": {},
   "outputs": [
    {
     "data": {
      "text/html": [
       "<ol class=list-inline>\n",
       "\t<li>4</li>\n",
       "\t<li>10</li>\n",
       "\t<li>11</li>\n",
       "\t<li>12</li>\n",
       "\t<li>21</li>\n",
       "\t<li>22</li>\n",
       "\t<li>23</li>\n",
       "\t<li>25</li>\n",
       "\t<li>28</li>\n",
       "\t<li>29</li>\n",
       "\t<li>30</li>\n",
       "\t<li>31</li>\n",
       "\t<li>32</li>\n",
       "\t<li>33</li>\n",
       "\t<li>34</li>\n",
       "\t<li>35</li>\n",
       "\t<li>40</li>\n",
       "\t<li>43</li>\n",
       "\t<li>47</li>\n",
       "\t<li>52</li>\n",
       "\t<li>56</li>\n",
       "\t<li>58</li>\n",
       "\t<li>61</li>\n",
       "\t<li>62</li>\n",
       "\t<li>64</li>\n",
       "</ol>\n"
      ],
      "text/latex": [
       "\\begin{enumerate*}\n",
       "\\item 4\n",
       "\\item 10\n",
       "\\item 11\n",
       "\\item 12\n",
       "\\item 21\n",
       "\\item 22\n",
       "\\item 23\n",
       "\\item 25\n",
       "\\item 28\n",
       "\\item 29\n",
       "\\item 30\n",
       "\\item 31\n",
       "\\item 32\n",
       "\\item 33\n",
       "\\item 34\n",
       "\\item 35\n",
       "\\item 40\n",
       "\\item 43\n",
       "\\item 47\n",
       "\\item 52\n",
       "\\item 56\n",
       "\\item 58\n",
       "\\item 61\n",
       "\\item 62\n",
       "\\item 64\n",
       "\\end{enumerate*}\n"
      ],
      "text/markdown": [
       "1. 4\n",
       "2. 10\n",
       "3. 11\n",
       "4. 12\n",
       "5. 21\n",
       "6. 22\n",
       "7. 23\n",
       "8. 25\n",
       "9. 28\n",
       "10. 29\n",
       "11. 30\n",
       "12. 31\n",
       "13. 32\n",
       "14. 33\n",
       "15. 34\n",
       "16. 35\n",
       "17. 40\n",
       "18. 43\n",
       "19. 47\n",
       "20. 52\n",
       "21. 56\n",
       "22. 58\n",
       "23. 61\n",
       "24. 62\n",
       "25. 64\n",
       "\n",
       "\n"
      ],
      "text/plain": [
       " [1]  4 10 11 12 21 22 23 25 28 29 30 31 32 33 34 35 40 43 47 52 56 58 61 62 64"
      ]
     },
     "metadata": {},
     "output_type": "display_data"
    }
   ],
   "source": [
    "numerics"
   ]
  },
  {
   "cell_type": "code",
   "execution_count": 87,
   "metadata": {
    "collapsed": true
   },
   "outputs": [],
   "source": [
    "combos = findLinearCombos(train4[,numerics])"
   ]
  },
  {
   "cell_type": "code",
   "execution_count": 88,
   "metadata": {},
   "outputs": [
    {
     "data": {
      "text/plain": [
       "$linearCombos\n",
       "list()\n",
       "\n",
       "$remove\n",
       "NULL\n"
      ]
     },
     "metadata": {},
     "output_type": "display_data"
    }
   ],
   "source": [
    "combos"
   ]
  },
  {
   "cell_type": "markdown",
   "metadata": {},
   "source": [
    "Korelacja usunęła współliniowości."
   ]
  },
  {
   "cell_type": "markdown",
   "metadata": {},
   "source": [
    "## Zamiana kodów pocztowych na rejon"
   ]
  },
  {
   "cell_type": "markdown",
   "metadata": {},
   "source": [
    "### Funkcja"
   ]
  },
  {
   "cell_type": "code",
   "execution_count": 153,
   "metadata": {},
   "outputs": [],
   "source": [
    "postalCodeToRegion = function (vector){\n",
    "    vector = as.character(vector)\n",
    "    codes = sapply(vector,function(v){\n",
    "        if (is.na(v) | (substr(v,3,3) != '-') | (nchar(v) != 6)){\n",
    "            NA\n",
    "        } else {\n",
    "            aa = substr(v,1,2)\n",
    "            a = substr(aa,1,1)\n",
    "            if (a == '0'){\n",
    "                if (aa %in% c('00','01','02','03','04','05')){\n",
    "                    'Warsaw'\n",
    "                } else {\n",
    "                    'Warsaw Region'\n",
    "                }\n",
    "            }else if (a == '1'){\n",
    "                if (aa == '10'){\n",
    "                    'Olsztyn'\n",
    "                } else if (aa=='15'){\n",
    "                    'Bialystok'\n",
    "                } else {\n",
    "                    'Olsztyn Region'\n",
    "                }\n",
    "            }else if (a == '2'){\n",
    "                if (aa == '20'){\n",
    "                    'Lublin'\n",
    "                } else if (aa=='25'){\n",
    "                    'Kielce'\n",
    "                } else if (aa=='26'){\n",
    "                    'Radom'\n",
    "                } else {\n",
    "                    'Lublin Region'\n",
    "                }\n",
    "            }else if (a == '3'){\n",
    "                if (aa %in% c('30','31')){\n",
    "                    'Krakow'\n",
    "                } else if (aa=='35'){\n",
    "                    'Rzeszow'\n",
    "                } else {\n",
    "                    'Krakow Region'\n",
    "                }\n",
    "            }else if (a == '4'){\n",
    "                if (aa =='40'){\n",
    "                    'Katowice'\n",
    "                } else if (aa=='45'){\n",
    "                    'Opole'\n",
    "                } else {\n",
    "                    'Katowice Region'\n",
    "                }\n",
    "            }else if (a == '5'){\n",
    "                if (aa %in% c('50','51','52','53','54')){\n",
    "                    'Wroclaw'\n",
    "                } else {\n",
    "                    'Wroclaw Region'\n",
    "                }\n",
    "            }else if (a == '6'){\n",
    "                if (aa %in% c('60','61')){\n",
    "                    'Poznan'\n",
    "                } else if (aa=='65'){\n",
    "                    'Zielona Gora'\n",
    "                } else {\n",
    "                    'Poznan Region'\n",
    "                }\n",
    "            }else if (a == '7'){\n",
    "                if (aa %in% c('70','71')){\n",
    "                    'Szczecin'\n",
    "                } else if (aa=='75'){\n",
    "                    'Koszalin'\n",
    "                } else {\n",
    "                    'Szczecin Region'\n",
    "                }\n",
    "            }else if (a == '8'){\n",
    "                if (aa=='80'){\n",
    "                    'Gdansk'\n",
    "                } else if (aa=='81'){\n",
    "                    'Gdynia'\n",
    "                } else if (aa=='87'){\n",
    "                    'Torun'\n",
    "                }  else if (aa=='85'){\n",
    "                    'Bydgoszcz'\n",
    "                } else {\n",
    "                    'Gdansk Region'\n",
    "                }\n",
    "            }else if (a == '9'){\n",
    "                if (aa %in% c('90','91','92','93','94')){\n",
    "                    'Lodz'\n",
    "                } else {\n",
    "                    'Lodz Region'\n",
    "                }\n",
    "            }else {NA}\n",
    "        }\n",
    "    })\n",
    "    fcodes = as.factor(codes)\n",
    "    fcodes = addNA(fcodes)\n",
    "    fcodes\n",
    "}"
   ]
  },
  {
   "cell_type": "code",
   "execution_count": 154,
   "metadata": {
    "scrolled": true
   },
   "outputs": [
    {
     "data": {
      "text/html": [
       "<dl class=dl-horizontal>\n",
       "\t<dt>87-165</dt>\n",
       "\t\t<dd>Torun</dd>\n",
       "\t<dt>00-849</dt>\n",
       "\t\t<dd>Warsaw</dd>\n",
       "\t<dt>44-123</dt>\n",
       "\t\t<dd>Katowice Region</dd>\n",
       "\t<dt>4</dt>\n",
       "\t\t<dd>&lt;NA&gt;</dd>\n",
       "</dl>\n"
      ],
      "text/latex": [
       "\\begin{description*}\n",
       "\\item[87-165] Torun\n",
       "\\item[00-849] Warsaw\n",
       "\\item[44-123] Katowice Region\n",
       "\\item[4] <NA>\n",
       "\\end{description*}\n"
      ],
      "text/markdown": [
       "87-165\n",
       ":   Torun00-849\n",
       ":   Warsaw44-123\n",
       ":   Katowice Region4\n",
       ":   &lt;NA&gt;\n",
       "\n"
      ],
      "text/plain": [
       "         87-165          00-849          44-123            <NA> \n",
       "          Torun          Warsaw Katowice Region            <NA> \n",
       "Levels: Katowice Region Torun Warsaw <NA>"
      ]
     },
     "metadata": {},
     "output_type": "display_data"
    },
    {
     "data": {
      "text/html": [
       "'factor'"
      ],
      "text/latex": [
       "'factor'"
      ],
      "text/markdown": [
       "'factor'"
      ],
      "text/plain": [
       "[1] \"factor\""
      ]
     },
     "metadata": {},
     "output_type": "display_data"
    },
    {
     "data": {
      "text/html": [
       "<ol class=list-inline>\n",
       "\t<li>'Katowice Region'</li>\n",
       "\t<li>'Torun'</li>\n",
       "\t<li>'Warsaw'</li>\n",
       "\t<li>NA</li>\n",
       "</ol>\n"
      ],
      "text/latex": [
       "\\begin{enumerate*}\n",
       "\\item 'Katowice Region'\n",
       "\\item 'Torun'\n",
       "\\item 'Warsaw'\n",
       "\\item NA\n",
       "\\end{enumerate*}\n"
      ],
      "text/markdown": [
       "1. 'Katowice Region'\n",
       "2. 'Torun'\n",
       "3. 'Warsaw'\n",
       "4. NA\n",
       "\n",
       "\n"
      ],
      "text/plain": [
       "[1] \"Katowice Region\" \"Torun\"           \"Warsaw\"          NA               "
      ]
     },
     "metadata": {},
     "output_type": "display_data"
    }
   ],
   "source": [
    "#unit test\n",
    "(fac = postalCodeToRegion(c('87-165','00-849','44-123',NA)))\n",
    "class(fac)\n",
    "levels(fac)"
   ]
  },
  {
   "cell_type": "code",
   "execution_count": 156,
   "metadata": {},
   "outputs": [],
   "source": [
    "#kodami pocztowymi są:\n",
    "#night_parking_place_postal_code\n",
    "#day_parking_place_postal_code\n",
    "#main_driver_postal_code\n",
    "#Account__r.BillingPostalCode\n",
    "\n",
    "train4$night_parking_place_postal_code = postalCodeToRegion (train4$night_parking_place_postal_code)\n",
    "train4$day_parking_place_postal_code = postalCodeToRegion (train4$day_parking_place_postal_code)\n",
    "train4$main_driver_postal_code = postalCodeToRegion (train4$main_driver_postal_code)\n",
    "train4$Account__r.BillingPostalCode = postalCodeToRegion (train4$Account__r.BillingPostalCode)"
   ]
  },
  {
   "cell_type": "code",
   "execution_count": 158,
   "metadata": {},
   "outputs": [
    {
     "data": {
      "text/html": [
       "'factor'"
      ],
      "text/latex": [
       "'factor'"
      ],
      "text/markdown": [
       "'factor'"
      ],
      "text/plain": [
       "[1] \"factor\""
      ]
     },
     "metadata": {},
     "output_type": "display_data"
    },
    {
     "data": {
      "text/html": [
       "'factor'"
      ],
      "text/latex": [
       "'factor'"
      ],
      "text/markdown": [
       "'factor'"
      ],
      "text/plain": [
       "[1] \"factor\""
      ]
     },
     "metadata": {},
     "output_type": "display_data"
    },
    {
     "data": {
      "text/html": [
       "'factor'"
      ],
      "text/latex": [
       "'factor'"
      ],
      "text/markdown": [
       "'factor'"
      ],
      "text/plain": [
       "[1] \"factor\""
      ]
     },
     "metadata": {},
     "output_type": "display_data"
    },
    {
     "data": {
      "text/html": [
       "'factor'"
      ],
      "text/latex": [
       "'factor'"
      ],
      "text/markdown": [
       "'factor'"
      ],
      "text/plain": [
       "[1] \"factor\""
      ]
     },
     "metadata": {},
     "output_type": "display_data"
    }
   ],
   "source": [
    "class(train4$night_parking_place_postal_code)\n",
    "class(train4$day_parking_place_postal_code)\n",
    "class(train4$main_driver_postal_code)\n",
    "class(train4$Account__r.BillingPostalCode)"
   ]
  },
  {
   "cell_type": "code",
   "execution_count": 159,
   "metadata": {},
   "outputs": [
    {
     "data": {
      "text/html": [
       "<ol class=list-inline>\n",
       "\t<li>Poznan Region</li>\n",
       "\t<li>Poznan Region</li>\n",
       "\t<li>Poznan Region</li>\n",
       "\t<li>Katowice Region</li>\n",
       "\t<li>Warsaw</li>\n",
       "\t<li>Katowice</li>\n",
       "</ol>\n"
      ],
      "text/latex": [
       "\\begin{enumerate*}\n",
       "\\item Poznan Region\n",
       "\\item Poznan Region\n",
       "\\item Poznan Region\n",
       "\\item Katowice Region\n",
       "\\item Warsaw\n",
       "\\item Katowice\n",
       "\\end{enumerate*}\n"
      ],
      "text/markdown": [
       "1. Poznan Region\n",
       "2. Poznan Region\n",
       "3. Poznan Region\n",
       "4. Katowice Region\n",
       "5. Warsaw\n",
       "6. Katowice\n",
       "\n",
       "\n"
      ],
      "text/plain": [
       "[1] Poznan Region   Poznan Region   Poznan Region   Katowice Region\n",
       "[5] Warsaw          Katowice       \n",
       "31 Levels: Bialystok Bydgoszcz Gdansk Gdansk Region Gdynia ... <NA>"
      ]
     },
     "metadata": {},
     "output_type": "display_data"
    },
    {
     "data": {
      "text/html": [
       "<ol class=list-inline>\n",
       "\t<li>Poznan Region</li>\n",
       "\t<li>Poznan Region</li>\n",
       "\t<li>Poznan Region</li>\n",
       "\t<li>Katowice Region</li>\n",
       "\t<li>Warsaw</li>\n",
       "\t<li>Katowice</li>\n",
       "</ol>\n"
      ],
      "text/latex": [
       "\\begin{enumerate*}\n",
       "\\item Poznan Region\n",
       "\\item Poznan Region\n",
       "\\item Poznan Region\n",
       "\\item Katowice Region\n",
       "\\item Warsaw\n",
       "\\item Katowice\n",
       "\\end{enumerate*}\n"
      ],
      "text/markdown": [
       "1. Poznan Region\n",
       "2. Poznan Region\n",
       "3. Poznan Region\n",
       "4. Katowice Region\n",
       "5. Warsaw\n",
       "6. Katowice\n",
       "\n",
       "\n"
      ],
      "text/plain": [
       "[1] Poznan Region   Poznan Region   Poznan Region   Katowice Region\n",
       "[5] Warsaw          Katowice       \n",
       "31 Levels: Bialystok Bydgoszcz Gdansk Gdansk Region Gdynia ... <NA>"
      ]
     },
     "metadata": {},
     "output_type": "display_data"
    },
    {
     "data": {
      "text/html": [
       "<ol class=list-inline>\n",
       "\t<li>Poznan Region</li>\n",
       "\t<li>Poznan Region</li>\n",
       "\t<li>Poznan Region</li>\n",
       "\t<li>Katowice Region</li>\n",
       "\t<li>Warsaw</li>\n",
       "\t<li>Katowice</li>\n",
       "</ol>\n"
      ],
      "text/latex": [
       "\\begin{enumerate*}\n",
       "\\item Poznan Region\n",
       "\\item Poznan Region\n",
       "\\item Poznan Region\n",
       "\\item Katowice Region\n",
       "\\item Warsaw\n",
       "\\item Katowice\n",
       "\\end{enumerate*}\n"
      ],
      "text/markdown": [
       "1. Poznan Region\n",
       "2. Poznan Region\n",
       "3. Poznan Region\n",
       "4. Katowice Region\n",
       "5. Warsaw\n",
       "6. Katowice\n",
       "\n",
       "\n"
      ],
      "text/plain": [
       "[1] Poznan Region   Poznan Region   Poznan Region   Katowice Region\n",
       "[5] Warsaw          Katowice       \n",
       "31 Levels: Bialystok Bydgoszcz Gdansk Gdansk Region Gdynia ... <NA>"
      ]
     },
     "metadata": {},
     "output_type": "display_data"
    },
    {
     "data": {
      "text/html": [
       "<ol class=list-inline>\n",
       "\t<li>&lt;NA&gt;</li>\n",
       "\t<li>&lt;NA&gt;</li>\n",
       "\t<li>&lt;NA&gt;</li>\n",
       "\t<li>Katowice Region</li>\n",
       "\t<li>&lt;NA&gt;</li>\n",
       "\t<li>&lt;NA&gt;</li>\n",
       "</ol>\n"
      ],
      "text/latex": [
       "\\begin{enumerate*}\n",
       "\\item <NA>\n",
       "\\item <NA>\n",
       "\\item <NA>\n",
       "\\item Katowice Region\n",
       "\\item <NA>\n",
       "\\item <NA>\n",
       "\\end{enumerate*}\n"
      ],
      "text/markdown": [
       "1. &lt;NA&gt;\n",
       "2. &lt;NA&gt;\n",
       "3. &lt;NA&gt;\n",
       "4. Katowice Region\n",
       "5. &lt;NA&gt;\n",
       "6. &lt;NA&gt;\n",
       "\n",
       "\n"
      ],
      "text/plain": [
       "[1] <NA>            <NA>            <NA>            Katowice Region\n",
       "[5] <NA>            <NA>           \n",
       "31 Levels: Bialystok Bydgoszcz Gdansk Gdansk Region Gdynia ... <NA>"
      ]
     },
     "metadata": {},
     "output_type": "display_data"
    }
   ],
   "source": [
    "head(train4$night_parking_place_postal_code)\n",
    "head(train4$day_parking_place_postal_code)\n",
    "head(train4$main_driver_postal_code)\n",
    "head(train4$Account__r.BillingPostalCode)"
   ]
  },
  {
   "cell_type": "markdown",
   "metadata": {},
   "source": [
    "## Daty na year,month,day"
   ]
  },
  {
   "cell_type": "markdown",
   "metadata": {},
   "source": [
    "Nie trzeba zamieniać dat na year, month, day. Daty albo zostały usunięte wcześniej, albo zamienione na numeric (domyślnie najwidoczniej przez read.table)"
   ]
  },
  {
   "cell_type": "markdown",
   "metadata": {},
   "source": [
    "## Propozycja radzenia sobie z markami pojazdów"
   ]
  },
  {
   "cell_type": "code",
   "execution_count": 209,
   "metadata": {},
   "outputs": [
    {
     "data": {
      "text/html": [
       "666"
      ],
      "text/latex": [
       "666"
      ],
      "text/markdown": [
       "666"
      ],
      "text/plain": [
       "[1] 666"
      ]
     },
     "metadata": {},
     "output_type": "display_data"
    },
    {
     "data": {
      "text/html": [
       "729"
      ],
      "text/latex": [
       "729"
      ],
      "text/markdown": [
       "729"
      ],
      "text/plain": [
       "[1] 729"
      ]
     },
     "metadata": {},
     "output_type": "display_data"
    },
    {
     "data": {
      "text/html": [
       "766"
      ],
      "text/latex": [
       "766"
      ],
      "text/markdown": [
       "766"
      ],
      "text/plain": [
       "[1] 766"
      ]
     },
     "metadata": {},
     "output_type": "display_data"
    },
    {
     "data": {
      "text/html": [
       "1526"
      ],
      "text/latex": [
       "1526"
      ],
      "text/markdown": [
       "1526"
      ],
      "text/plain": [
       "[1] 1526"
      ]
     },
     "metadata": {},
     "output_type": "display_data"
    }
   ],
   "source": [
    "#wybieranie pierwszej części stringa określającego markę, zbije trochę liczbę poziomów\n",
    "\n",
    "length(unique(sapply(as.character(levels(train4$etx_model_name)),function(model){\n",
    "    strsplit(model,' ')[[1]][1]\n",
    "})))\n",
    "length(levels(train4$etx_model_name))\n",
    "\n",
    "length(unique(sapply(as.character(levels(train4$CarModel__c)),function(model){\n",
    "    strsplit(model,' ')[[1]][1]\n",
    "})))\n",
    "length(levels(train4$CarModel__c))"
   ]
  },
  {
   "cell_type": "markdown",
   "metadata": {},
   "source": [
    "## W tym momencie - przerobione dane treningowe są w zmiennej train4, etykieta to Sale.success"
   ]
  },
  {
   "cell_type": "markdown",
   "metadata": {},
   "source": [
    "# Funkcje do oceny modeli (ROC, AUC)"
   ]
  },
  {
   "cell_type": "code",
   "execution_count": 211,
   "metadata": {},
   "outputs": [],
   "source": [
    "if (!require('pROC')){\n",
    "    install.packages('pROC')\n",
    "}\n",
    "library('pROC')"
   ]
  },
  {
   "cell_type": "code",
   "execution_count": 212,
   "metadata": {
    "collapsed": true
   },
   "outputs": [],
   "source": [
    "#taki pakiet do ROC i AUC\n",
    "#usage\n",
    "\n",
    "#r = roc(response,predictor)\n",
    "#response - wektor etykiet 0-1\n",
    "#predictor - to, co przewidzial model - wektor tej samej dlugosci\n",
    "#tworzy obiekt roc\n",
    "\n",
    "#plot.roc(r)\n",
    "#plotuje krzywą\n",
    "\n",
    "#auc(r)\n",
    "#auc dla obiektu roc\n",
    "\n",
    "#auc(response,predictor)\n",
    "#auc bez tworzenia obiektu roc\n",
    "\n",
    "#ponizej przyklady"
   ]
  },
  {
   "cell_type": "markdown",
   "metadata": {},
   "source": [
    "# Poniżej modele predykcyjne"
   ]
  },
  {
   "cell_type": "markdown",
   "metadata": {},
   "source": [
    "## Regresja logistyczna na zmiennych numerycznych"
   ]
  },
  {
   "cell_type": "code",
   "execution_count": 214,
   "metadata": {
    "collapsed": true
   },
   "outputs": [],
   "source": [
    "numerics = which(sapply(train4,class)%in%c('numeric','integer'))"
   ]
  },
  {
   "cell_type": "code",
   "execution_count": 215,
   "metadata": {
    "collapsed": true
   },
   "outputs": [],
   "source": [
    "train_g = train4[1:(nrow(train4)/2),numerics]\n",
    "test_g = train4[((nrow(train3)/2)+1):(nrow(train4)),numerics]\n",
    "\n",
    "testy_g = train4$Sale.success[((nrow(train4)/2)+1):(nrow(train4))]\n",
    "\n",
    "test_g = test_g[,-which(colnames(test_g)=='Sale.success')]"
   ]
  },
  {
   "cell_type": "code",
   "execution_count": 216,
   "metadata": {},
   "outputs": [
    {
     "name": "stderr",
     "output_type": "stream",
     "text": [
      "Loading required package: Matrix\n",
      "Loading required package: foreach\n",
      "Loaded glmnet 2.0-13\n",
      "\n",
      "\n",
      "Attaching package: ‘glmnet’\n",
      "\n",
      "The following object is masked from ‘package:pROC’:\n",
      "\n",
      "    auc\n",
      "\n"
     ]
    }
   ],
   "source": [
    "library(glmnet)\n",
    "#glm próbuje zrobić one-hot-encoding, a to jest niemożliwe na zbiorze (jest za duży)\n",
    "#biorę zatem próbkę\n",
    "g=  glm(Sale.success~.,data=train_g,family=\"binomial\")"
   ]
  },
  {
   "cell_type": "code",
   "execution_count": 217,
   "metadata": {
    "collapsed": true
   },
   "outputs": [],
   "source": [
    "pred = predict(g,test_g,type=\"response\")"
   ]
  },
  {
   "cell_type": "code",
   "execution_count": 218,
   "metadata": {},
   "outputs": [],
   "source": [
    "r = roc(testy_g,pred)"
   ]
  },
  {
   "cell_type": "code",
   "execution_count": 219,
   "metadata": {},
   "outputs": [
    {
     "data": {
      "image/png": "[encoded data removed]",
      "text/plain": [
       "plot without title"
      ]
     },
     "metadata": {},
     "output_type": "display_data"
    }
   ],
   "source": [
    "plot.roc(r)"
   ]
  },
  {
   "cell_type": "code",
   "execution_count": 221,
   "metadata": {},
   "outputs": [
    {
     "data": {
      "text/html": [
       "0.780308799352856"
      ],
      "text/latex": [
       "0.780308799352856"
      ],
      "text/markdown": [
       "0.780308799352856"
      ],
      "text/plain": [
       "Area under the curve: 0.7803"
      ]
     },
     "metadata": {},
     "output_type": "display_data"
    }
   ],
   "source": [
    "pROC::auc(r)"
   ]
  },
  {
   "cell_type": "code",
   "execution_count": 222,
   "metadata": {},
   "outputs": [
    {
     "data": {
      "text/html": [
       "0.560617598705713"
      ],
      "text/latex": [
       "0.560617598705713"
      ],
      "text/markdown": [
       "0.560617598705713"
      ],
      "text/plain": [
       "[1] 0.5606176"
      ]
     },
     "metadata": {},
     "output_type": "display_data"
    }
   ],
   "source": [
    "#wedle miary zadanej przez McKinsey'a:\n",
    "2*pROC::auc(r) - 1"
   ]
  }
 ],
 "metadata": {
  "kernelspec": {
   "display_name": "R",
   "language": "R",
   "name": "ir"
  },
  "language_info": {
   "codemirror_mode": "r",
   "file_extension": ".r",
   "mimetype": "text/x-r-source",
   "name": "R",
   "pygments_lexer": "r",
   "version": "3.4.2"
  }
 },
 "nbformat": 4,
 "nbformat_minor": 2
}
