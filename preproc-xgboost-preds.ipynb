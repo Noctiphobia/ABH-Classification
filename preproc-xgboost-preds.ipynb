{
 "cells": [
  {
   "cell_type": "markdown",
   "metadata": {},
   "source": [
    "# Uporządkowany notebook zawierający preprocessing, funkcje oceniające modele oraz (na końcu) przekształcenia zbioru testowego"
   ]
  },
  {
   "cell_type": "markdown",
   "metadata": {},
   "source": [
    "## Dostosowanie zbioru treningowego do testowego"
   ]
  },
  {
   "cell_type": "code",
   "execution_count": 354,
   "metadata": {
    "collapsed": true
   },
   "outputs": [],
   "source": [
    "#kolumny ze zbioru testowego\n",
    "preds = strsplit(\n",
    "  \"LastCall__c\tcalculation_id\tcalculation_token\tetx_make_name\tetx_model_name\tetx_fuel_code\tproduction_year\tetx_model_code\tvehicle_id\tprotection_scope\tkind\tusage_type\tuse_frequency\tchild_carriage_frequency\tmileage\tyearly_mileage\tused_abroad\tnight_parking_place\tnight_parking_place_postal_code\tday_parking_place\tday_parking_place_postal_code\ttheft_protection_installation\ttheft_protection_device_1\ttheft_protection_device_2\torigin\tbuy_year\tregistration_date\tis_damaged\tleasing\tcar_worth\tmain_driver_postal_code\tmain_driver_age\tmain_driver_gender\tinsurance_start_date\tphone_exists\tcalc_complete\tcalc_incomplete\tcalc_finished\tphone_yes\tphone_no\tcalculation_type\tterms_acceptance\tphone_acceptance\tphone_accepted\tstep\tcreated_at\tcreated_at_date\taffiliation_id\tuser_id\tsalesforce_lead\tsent_to_sf\tsf_r_purchasing\tcalculation_state\toc_offers_qty\toc_offer_min_val\tac_offers_qty\tac_offer_min_val\tb2c_leads_sent\tform_finished_at\toffer_first_at\toffer_last_at\toffer_first_after\toffer_last_after\tphone_lookup_status\tutm_campaign\tutm_content\tutm_medium\tutm_source\tpkb_transform_ver\twent_to_partners\tcontact_requests\tAcc_Agreement_call__c\tAcc_Agreement_marketing__c\tAcc_Agreement_newsletter__c\tAcc_Birthdate__c\tAcc_PhoneHLRStatus__c\tAccount__r.AccountSource\tAccount__r.AgreementCall__pc\tAccount__r.AgreementMarketing__pc\tAccount__r.AgreementNewsletter__pc\tAccount__r.BillingCity\tAccount__r.BillingPostalCode\tAccount__r.CreatedById\tAccount__r.CreatedDate\tAccount__r.Gender__pc\tAccount__r.Id\tAccount__r.IsDeleted\tAccount__r.IsPersonAccount\tAccount__r.LegacyID__c\tAccount__r.OwnerId\tAccount__r.PersonBirthdate\tAccount__r.PersonContactId\tAccount__r.PhoneHLRStatus__pc\tAccount__r.PhoneNATStatus__pc\tAccount__r.RecordTypeId\tAccount__r.Salutation\tAccount__r.Type\tCalculationToken__c\tCarEngineCapacity__c\tCarFuelType__c\tCarMake__c\tCarModel__c\tCarYear__c\tCpcPaid__c\tCreatedBy.Alias\tCreatedBy.CreatedDate\tCreatedById\tCreatedDate\tId\tIsDeleted\tMpc__c\tPolicyStartDate__c\tProductScope__c\tSource__c\tWentToPartner__c\tdont_have_this_car__c\tTelehubStatus__c\",\n",
    "         \"\\t\")[[1]]"
   ]
  },
  {
   "cell_type": "code",
   "execution_count": 355,
   "metadata": {},
   "outputs": [
    {
     "data": {
      "text/html": [
       "<ol class=list-inline>\n",
       "\t<li>'LastCall__c'</li>\n",
       "\t<li>'calculation_id'</li>\n",
       "\t<li>'calculation_token'</li>\n",
       "\t<li>'etx_make_name'</li>\n",
       "\t<li>'etx_model_name'</li>\n",
       "\t<li>'etx_fuel_code'</li>\n",
       "\t<li>'production_year'</li>\n",
       "\t<li>'etx_model_code'</li>\n",
       "\t<li>'vehicle_id'</li>\n",
       "\t<li>'protection_scope'</li>\n",
       "\t<li>'kind'</li>\n",
       "\t<li>'usage_type'</li>\n",
       "\t<li>'use_frequency'</li>\n",
       "\t<li>'child_carriage_frequency'</li>\n",
       "\t<li>'mileage'</li>\n",
       "\t<li>'yearly_mileage'</li>\n",
       "\t<li>'used_abroad'</li>\n",
       "\t<li>'night_parking_place'</li>\n",
       "\t<li>'night_parking_place_postal_code'</li>\n",
       "\t<li>'day_parking_place'</li>\n",
       "\t<li>'day_parking_place_postal_code'</li>\n",
       "\t<li>'theft_protection_installation'</li>\n",
       "\t<li>'theft_protection_device_1'</li>\n",
       "\t<li>'theft_protection_device_2'</li>\n",
       "\t<li>'origin'</li>\n",
       "\t<li>'buy_year'</li>\n",
       "\t<li>'registration_date'</li>\n",
       "\t<li>'is_damaged'</li>\n",
       "\t<li>'leasing'</li>\n",
       "\t<li>'car_worth'</li>\n",
       "\t<li>'main_driver_postal_code'</li>\n",
       "\t<li>'main_driver_age'</li>\n",
       "\t<li>'main_driver_gender'</li>\n",
       "\t<li>'insurance_start_date'</li>\n",
       "\t<li>'phone_exists'</li>\n",
       "\t<li>'calc_complete'</li>\n",
       "\t<li>'calc_incomplete'</li>\n",
       "\t<li>'calc_finished'</li>\n",
       "\t<li>'phone_yes'</li>\n",
       "\t<li>'phone_no'</li>\n",
       "\t<li>'calculation_type'</li>\n",
       "\t<li>'terms_acceptance'</li>\n",
       "\t<li>'phone_acceptance'</li>\n",
       "\t<li>'phone_accepted'</li>\n",
       "\t<li>'step'</li>\n",
       "\t<li>'created_at'</li>\n",
       "\t<li>'created_at_date'</li>\n",
       "\t<li>'affiliation_id'</li>\n",
       "\t<li>'user_id'</li>\n",
       "\t<li>'salesforce_lead'</li>\n",
       "\t<li>'sent_to_sf'</li>\n",
       "\t<li>'sf_r_purchasing'</li>\n",
       "\t<li>'calculation_state'</li>\n",
       "\t<li>'oc_offers_qty'</li>\n",
       "\t<li>'oc_offer_min_val'</li>\n",
       "\t<li>'ac_offers_qty'</li>\n",
       "\t<li>'ac_offer_min_val'</li>\n",
       "\t<li>'b2c_leads_sent'</li>\n",
       "\t<li>'form_finished_at'</li>\n",
       "\t<li>'offer_first_at'</li>\n",
       "\t<li>'offer_last_at'</li>\n",
       "\t<li>'offer_first_after'</li>\n",
       "\t<li>'offer_last_after'</li>\n",
       "\t<li>'phone_lookup_status'</li>\n",
       "\t<li>'utm_campaign'</li>\n",
       "\t<li>'utm_content'</li>\n",
       "\t<li>'utm_medium'</li>\n",
       "\t<li>'utm_source'</li>\n",
       "\t<li>'pkb_transform_ver'</li>\n",
       "\t<li>'went_to_partners'</li>\n",
       "\t<li>'contact_requests'</li>\n",
       "\t<li>'Acc_Agreement_call__c'</li>\n",
       "\t<li>'Acc_Agreement_marketing__c'</li>\n",
       "\t<li>'Acc_Agreement_newsletter__c'</li>\n",
       "\t<li>'Acc_Birthdate__c'</li>\n",
       "\t<li>'Acc_PhoneHLRStatus__c'</li>\n",
       "\t<li>'Account__r.AccountSource'</li>\n",
       "\t<li>'Account__r.AgreementCall__pc'</li>\n",
       "\t<li>'Account__r.AgreementMarketing__pc'</li>\n",
       "\t<li>'Account__r.AgreementNewsletter__pc'</li>\n",
       "\t<li>'Account__r.BillingCity'</li>\n",
       "\t<li>'Account__r.BillingPostalCode'</li>\n",
       "\t<li>'Account__r.CreatedById'</li>\n",
       "\t<li>'Account__r.CreatedDate'</li>\n",
       "\t<li>'Account__r.Gender__pc'</li>\n",
       "\t<li>'Account__r.Id'</li>\n",
       "\t<li>'Account__r.IsDeleted'</li>\n",
       "\t<li>'Account__r.IsPersonAccount'</li>\n",
       "\t<li>'Account__r.LegacyID__c'</li>\n",
       "\t<li>'Account__r.OwnerId'</li>\n",
       "\t<li>'Account__r.PersonBirthdate'</li>\n",
       "\t<li>'Account__r.PersonContactId'</li>\n",
       "\t<li>'Account__r.PhoneHLRStatus__pc'</li>\n",
       "\t<li>'Account__r.PhoneNATStatus__pc'</li>\n",
       "\t<li>'Account__r.RecordTypeId'</li>\n",
       "\t<li>'Account__r.Salutation'</li>\n",
       "\t<li>'Account__r.Type'</li>\n",
       "\t<li>'CalculationToken__c'</li>\n",
       "\t<li>'CarEngineCapacity__c'</li>\n",
       "\t<li>'CarFuelType__c'</li>\n",
       "\t<li>'CarMake__c'</li>\n",
       "\t<li>'CarModel__c'</li>\n",
       "\t<li>'CarYear__c'</li>\n",
       "\t<li>'CpcPaid__c'</li>\n",
       "\t<li>'CreatedBy.Alias'</li>\n",
       "\t<li>'CreatedBy.CreatedDate'</li>\n",
       "\t<li>'CreatedById'</li>\n",
       "\t<li>'CreatedDate'</li>\n",
       "\t<li>'Id'</li>\n",
       "\t<li>'IsDeleted'</li>\n",
       "\t<li>'Mpc__c'</li>\n",
       "\t<li>'PolicyStartDate__c'</li>\n",
       "\t<li>'ProductScope__c'</li>\n",
       "\t<li>'Source__c'</li>\n",
       "\t<li>'WentToPartner__c'</li>\n",
       "\t<li>'dont_have_this_car__c'</li>\n",
       "\t<li>'TelehubStatus__c'</li>\n",
       "</ol>\n"
      ],
      "text/latex": [
       "\\begin{enumerate*}\n",
       "\\item 'LastCall\\_\\_c'\n",
       "\\item 'calculation\\_id'\n",
       "\\item 'calculation\\_token'\n",
       "\\item 'etx\\_make\\_name'\n",
       "\\item 'etx\\_model\\_name'\n",
       "\\item 'etx\\_fuel\\_code'\n",
       "\\item 'production\\_year'\n",
       "\\item 'etx\\_model\\_code'\n",
       "\\item 'vehicle\\_id'\n",
       "\\item 'protection\\_scope'\n",
       "\\item 'kind'\n",
       "\\item 'usage\\_type'\n",
       "\\item 'use\\_frequency'\n",
       "\\item 'child\\_carriage\\_frequency'\n",
       "\\item 'mileage'\n",
       "\\item 'yearly\\_mileage'\n",
       "\\item 'used\\_abroad'\n",
       "\\item 'night\\_parking\\_place'\n",
       "\\item 'night\\_parking\\_place\\_postal\\_code'\n",
       "\\item 'day\\_parking\\_place'\n",
       "\\item 'day\\_parking\\_place\\_postal\\_code'\n",
       "\\item 'theft\\_protection\\_installation'\n",
       "\\item 'theft\\_protection\\_device\\_1'\n",
       "\\item 'theft\\_protection\\_device\\_2'\n",
       "\\item 'origin'\n",
       "\\item 'buy\\_year'\n",
       "\\item 'registration\\_date'\n",
       "\\item 'is\\_damaged'\n",
       "\\item 'leasing'\n",
       "\\item 'car\\_worth'\n",
       "\\item 'main\\_driver\\_postal\\_code'\n",
       "\\item 'main\\_driver\\_age'\n",
       "\\item 'main\\_driver\\_gender'\n",
       "\\item 'insurance\\_start\\_date'\n",
       "\\item 'phone\\_exists'\n",
       "\\item 'calc\\_complete'\n",
       "\\item 'calc\\_incomplete'\n",
       "\\item 'calc\\_finished'\n",
       "\\item 'phone\\_yes'\n",
       "\\item 'phone\\_no'\n",
       "\\item 'calculation\\_type'\n",
       "\\item 'terms\\_acceptance'\n",
       "\\item 'phone\\_acceptance'\n",
       "\\item 'phone\\_accepted'\n",
       "\\item 'step'\n",
       "\\item 'created\\_at'\n",
       "\\item 'created\\_at\\_date'\n",
       "\\item 'affiliation\\_id'\n",
       "\\item 'user\\_id'\n",
       "\\item 'salesforce\\_lead'\n",
       "\\item 'sent\\_to\\_sf'\n",
       "\\item 'sf\\_r\\_purchasing'\n",
       "\\item 'calculation\\_state'\n",
       "\\item 'oc\\_offers\\_qty'\n",
       "\\item 'oc\\_offer\\_min\\_val'\n",
       "\\item 'ac\\_offers\\_qty'\n",
       "\\item 'ac\\_offer\\_min\\_val'\n",
       "\\item 'b2c\\_leads\\_sent'\n",
       "\\item 'form\\_finished\\_at'\n",
       "\\item 'offer\\_first\\_at'\n",
       "\\item 'offer\\_last\\_at'\n",
       "\\item 'offer\\_first\\_after'\n",
       "\\item 'offer\\_last\\_after'\n",
       "\\item 'phone\\_lookup\\_status'\n",
       "\\item 'utm\\_campaign'\n",
       "\\item 'utm\\_content'\n",
       "\\item 'utm\\_medium'\n",
       "\\item 'utm\\_source'\n",
       "\\item 'pkb\\_transform\\_ver'\n",
       "\\item 'went\\_to\\_partners'\n",
       "\\item 'contact\\_requests'\n",
       "\\item 'Acc\\_Agreement\\_call\\_\\_c'\n",
       "\\item 'Acc\\_Agreement\\_marketing\\_\\_c'\n",
       "\\item 'Acc\\_Agreement\\_newsletter\\_\\_c'\n",
       "\\item 'Acc\\_Birthdate\\_\\_c'\n",
       "\\item 'Acc\\_PhoneHLRStatus\\_\\_c'\n",
       "\\item 'Account\\_\\_r.AccountSource'\n",
       "\\item 'Account\\_\\_r.AgreementCall\\_\\_pc'\n",
       "\\item 'Account\\_\\_r.AgreementMarketing\\_\\_pc'\n",
       "\\item 'Account\\_\\_r.AgreementNewsletter\\_\\_pc'\n",
       "\\item 'Account\\_\\_r.BillingCity'\n",
       "\\item 'Account\\_\\_r.BillingPostalCode'\n",
       "\\item 'Account\\_\\_r.CreatedById'\n",
       "\\item 'Account\\_\\_r.CreatedDate'\n",
       "\\item 'Account\\_\\_r.Gender\\_\\_pc'\n",
       "\\item 'Account\\_\\_r.Id'\n",
       "\\item 'Account\\_\\_r.IsDeleted'\n",
       "\\item 'Account\\_\\_r.IsPersonAccount'\n",
       "\\item 'Account\\_\\_r.LegacyID\\_\\_c'\n",
       "\\item 'Account\\_\\_r.OwnerId'\n",
       "\\item 'Account\\_\\_r.PersonBirthdate'\n",
       "\\item 'Account\\_\\_r.PersonContactId'\n",
       "\\item 'Account\\_\\_r.PhoneHLRStatus\\_\\_pc'\n",
       "\\item 'Account\\_\\_r.PhoneNATStatus\\_\\_pc'\n",
       "\\item 'Account\\_\\_r.RecordTypeId'\n",
       "\\item 'Account\\_\\_r.Salutation'\n",
       "\\item 'Account\\_\\_r.Type'\n",
       "\\item 'CalculationToken\\_\\_c'\n",
       "\\item 'CarEngineCapacity\\_\\_c'\n",
       "\\item 'CarFuelType\\_\\_c'\n",
       "\\item 'CarMake\\_\\_c'\n",
       "\\item 'CarModel\\_\\_c'\n",
       "\\item 'CarYear\\_\\_c'\n",
       "\\item 'CpcPaid\\_\\_c'\n",
       "\\item 'CreatedBy.Alias'\n",
       "\\item 'CreatedBy.CreatedDate'\n",
       "\\item 'CreatedById'\n",
       "\\item 'CreatedDate'\n",
       "\\item 'Id'\n",
       "\\item 'IsDeleted'\n",
       "\\item 'Mpc\\_\\_c'\n",
       "\\item 'PolicyStartDate\\_\\_c'\n",
       "\\item 'ProductScope\\_\\_c'\n",
       "\\item 'Source\\_\\_c'\n",
       "\\item 'WentToPartner\\_\\_c'\n",
       "\\item 'dont\\_have\\_this\\_car\\_\\_c'\n",
       "\\item 'TelehubStatus\\_\\_c'\n",
       "\\end{enumerate*}\n"
      ],
      "text/markdown": [
       "1. 'LastCall__c'\n",
       "2. 'calculation_id'\n",
       "3. 'calculation_token'\n",
       "4. 'etx_make_name'\n",
       "5. 'etx_model_name'\n",
       "6. 'etx_fuel_code'\n",
       "7. 'production_year'\n",
       "8. 'etx_model_code'\n",
       "9. 'vehicle_id'\n",
       "10. 'protection_scope'\n",
       "11. 'kind'\n",
       "12. 'usage_type'\n",
       "13. 'use_frequency'\n",
       "14. 'child_carriage_frequency'\n",
       "15. 'mileage'\n",
       "16. 'yearly_mileage'\n",
       "17. 'used_abroad'\n",
       "18. 'night_parking_place'\n",
       "19. 'night_parking_place_postal_code'\n",
       "20. 'day_parking_place'\n",
       "21. 'day_parking_place_postal_code'\n",
       "22. 'theft_protection_installation'\n",
       "23. 'theft_protection_device_1'\n",
       "24. 'theft_protection_device_2'\n",
       "25. 'origin'\n",
       "26. 'buy_year'\n",
       "27. 'registration_date'\n",
       "28. 'is_damaged'\n",
       "29. 'leasing'\n",
       "30. 'car_worth'\n",
       "31. 'main_driver_postal_code'\n",
       "32. 'main_driver_age'\n",
       "33. 'main_driver_gender'\n",
       "34. 'insurance_start_date'\n",
       "35. 'phone_exists'\n",
       "36. 'calc_complete'\n",
       "37. 'calc_incomplete'\n",
       "38. 'calc_finished'\n",
       "39. 'phone_yes'\n",
       "40. 'phone_no'\n",
       "41. 'calculation_type'\n",
       "42. 'terms_acceptance'\n",
       "43. 'phone_acceptance'\n",
       "44. 'phone_accepted'\n",
       "45. 'step'\n",
       "46. 'created_at'\n",
       "47. 'created_at_date'\n",
       "48. 'affiliation_id'\n",
       "49. 'user_id'\n",
       "50. 'salesforce_lead'\n",
       "51. 'sent_to_sf'\n",
       "52. 'sf_r_purchasing'\n",
       "53. 'calculation_state'\n",
       "54. 'oc_offers_qty'\n",
       "55. 'oc_offer_min_val'\n",
       "56. 'ac_offers_qty'\n",
       "57. 'ac_offer_min_val'\n",
       "58. 'b2c_leads_sent'\n",
       "59. 'form_finished_at'\n",
       "60. 'offer_first_at'\n",
       "61. 'offer_last_at'\n",
       "62. 'offer_first_after'\n",
       "63. 'offer_last_after'\n",
       "64. 'phone_lookup_status'\n",
       "65. 'utm_campaign'\n",
       "66. 'utm_content'\n",
       "67. 'utm_medium'\n",
       "68. 'utm_source'\n",
       "69. 'pkb_transform_ver'\n",
       "70. 'went_to_partners'\n",
       "71. 'contact_requests'\n",
       "72. 'Acc_Agreement_call__c'\n",
       "73. 'Acc_Agreement_marketing__c'\n",
       "74. 'Acc_Agreement_newsletter__c'\n",
       "75. 'Acc_Birthdate__c'\n",
       "76. 'Acc_PhoneHLRStatus__c'\n",
       "77. 'Account__r.AccountSource'\n",
       "78. 'Account__r.AgreementCall__pc'\n",
       "79. 'Account__r.AgreementMarketing__pc'\n",
       "80. 'Account__r.AgreementNewsletter__pc'\n",
       "81. 'Account__r.BillingCity'\n",
       "82. 'Account__r.BillingPostalCode'\n",
       "83. 'Account__r.CreatedById'\n",
       "84. 'Account__r.CreatedDate'\n",
       "85. 'Account__r.Gender__pc'\n",
       "86. 'Account__r.Id'\n",
       "87. 'Account__r.IsDeleted'\n",
       "88. 'Account__r.IsPersonAccount'\n",
       "89. 'Account__r.LegacyID__c'\n",
       "90. 'Account__r.OwnerId'\n",
       "91. 'Account__r.PersonBirthdate'\n",
       "92. 'Account__r.PersonContactId'\n",
       "93. 'Account__r.PhoneHLRStatus__pc'\n",
       "94. 'Account__r.PhoneNATStatus__pc'\n",
       "95. 'Account__r.RecordTypeId'\n",
       "96. 'Account__r.Salutation'\n",
       "97. 'Account__r.Type'\n",
       "98. 'CalculationToken__c'\n",
       "99. 'CarEngineCapacity__c'\n",
       "100. 'CarFuelType__c'\n",
       "101. 'CarMake__c'\n",
       "102. 'CarModel__c'\n",
       "103. 'CarYear__c'\n",
       "104. 'CpcPaid__c'\n",
       "105. 'CreatedBy.Alias'\n",
       "106. 'CreatedBy.CreatedDate'\n",
       "107. 'CreatedById'\n",
       "108. 'CreatedDate'\n",
       "109. 'Id'\n",
       "110. 'IsDeleted'\n",
       "111. 'Mpc__c'\n",
       "112. 'PolicyStartDate__c'\n",
       "113. 'ProductScope__c'\n",
       "114. 'Source__c'\n",
       "115. 'WentToPartner__c'\n",
       "116. 'dont_have_this_car__c'\n",
       "117. 'TelehubStatus__c'\n",
       "\n",
       "\n"
      ],
      "text/plain": [
       "  [1] \"LastCall__c\"                        \"calculation_id\"                    \n",
       "  [3] \"calculation_token\"                  \"etx_make_name\"                     \n",
       "  [5] \"etx_model_name\"                     \"etx_fuel_code\"                     \n",
       "  [7] \"production_year\"                    \"etx_model_code\"                    \n",
       "  [9] \"vehicle_id\"                         \"protection_scope\"                  \n",
       " [11] \"kind\"                               \"usage_type\"                        \n",
       " [13] \"use_frequency\"                      \"child_carriage_frequency\"          \n",
       " [15] \"mileage\"                            \"yearly_mileage\"                    \n",
       " [17] \"used_abroad\"                        \"night_parking_place\"               \n",
       " [19] \"night_parking_place_postal_code\"    \"day_parking_place\"                 \n",
       " [21] \"day_parking_place_postal_code\"      \"theft_protection_installation\"     \n",
       " [23] \"theft_protection_device_1\"          \"theft_protection_device_2\"         \n",
       " [25] \"origin\"                             \"buy_year\"                          \n",
       " [27] \"registration_date\"                  \"is_damaged\"                        \n",
       " [29] \"leasing\"                            \"car_worth\"                         \n",
       " [31] \"main_driver_postal_code\"            \"main_driver_age\"                   \n",
       " [33] \"main_driver_gender\"                 \"insurance_start_date\"              \n",
       " [35] \"phone_exists\"                       \"calc_complete\"                     \n",
       " [37] \"calc_incomplete\"                    \"calc_finished\"                     \n",
       " [39] \"phone_yes\"                          \"phone_no\"                          \n",
       " [41] \"calculation_type\"                   \"terms_acceptance\"                  \n",
       " [43] \"phone_acceptance\"                   \"phone_accepted\"                    \n",
       " [45] \"step\"                               \"created_at\"                        \n",
       " [47] \"created_at_date\"                    \"affiliation_id\"                    \n",
       " [49] \"user_id\"                            \"salesforce_lead\"                   \n",
       " [51] \"sent_to_sf\"                         \"sf_r_purchasing\"                   \n",
       " [53] \"calculation_state\"                  \"oc_offers_qty\"                     \n",
       " [55] \"oc_offer_min_val\"                   \"ac_offers_qty\"                     \n",
       " [57] \"ac_offer_min_val\"                   \"b2c_leads_sent\"                    \n",
       " [59] \"form_finished_at\"                   \"offer_first_at\"                    \n",
       " [61] \"offer_last_at\"                      \"offer_first_after\"                 \n",
       " [63] \"offer_last_after\"                   \"phone_lookup_status\"               \n",
       " [65] \"utm_campaign\"                       \"utm_content\"                       \n",
       " [67] \"utm_medium\"                         \"utm_source\"                        \n",
       " [69] \"pkb_transform_ver\"                  \"went_to_partners\"                  \n",
       " [71] \"contact_requests\"                   \"Acc_Agreement_call__c\"             \n",
       " [73] \"Acc_Agreement_marketing__c\"         \"Acc_Agreement_newsletter__c\"       \n",
       " [75] \"Acc_Birthdate__c\"                   \"Acc_PhoneHLRStatus__c\"             \n",
       " [77] \"Account__r.AccountSource\"           \"Account__r.AgreementCall__pc\"      \n",
       " [79] \"Account__r.AgreementMarketing__pc\"  \"Account__r.AgreementNewsletter__pc\"\n",
       " [81] \"Account__r.BillingCity\"             \"Account__r.BillingPostalCode\"      \n",
       " [83] \"Account__r.CreatedById\"             \"Account__r.CreatedDate\"            \n",
       " [85] \"Account__r.Gender__pc\"              \"Account__r.Id\"                     \n",
       " [87] \"Account__r.IsDeleted\"               \"Account__r.IsPersonAccount\"        \n",
       " [89] \"Account__r.LegacyID__c\"             \"Account__r.OwnerId\"                \n",
       " [91] \"Account__r.PersonBirthdate\"         \"Account__r.PersonContactId\"        \n",
       " [93] \"Account__r.PhoneHLRStatus__pc\"      \"Account__r.PhoneNATStatus__pc\"     \n",
       " [95] \"Account__r.RecordTypeId\"            \"Account__r.Salutation\"             \n",
       " [97] \"Account__r.Type\"                    \"CalculationToken__c\"               \n",
       " [99] \"CarEngineCapacity__c\"               \"CarFuelType__c\"                    \n",
       "[101] \"CarMake__c\"                         \"CarModel__c\"                       \n",
       "[103] \"CarYear__c\"                         \"CpcPaid__c\"                        \n",
       "[105] \"CreatedBy.Alias\"                    \"CreatedBy.CreatedDate\"             \n",
       "[107] \"CreatedById\"                        \"CreatedDate\"                       \n",
       "[109] \"Id\"                                 \"IsDeleted\"                         \n",
       "[111] \"Mpc__c\"                             \"PolicyStartDate__c\"                \n",
       "[113] \"ProductScope__c\"                    \"Source__c\"                         \n",
       "[115] \"WentToPartner__c\"                   \"dont_have_this_car__c\"             \n",
       "[117] \"TelehubStatus__c\"                  "
      ]
     },
     "metadata": {},
     "output_type": "display_data"
    }
   ],
   "source": [
    "preds"
   ]
  },
  {
   "cell_type": "code",
   "execution_count": 356,
   "metadata": {},
   "outputs": [
    {
     "data": {
      "text/html": [
       "117"
      ],
      "text/latex": [
       "117"
      ],
      "text/markdown": [
       "117"
      ],
      "text/plain": [
       "[1] 117"
      ]
     },
     "metadata": {},
     "output_type": "display_data"
    }
   ],
   "source": [
    "length(preds)"
   ]
  },
  {
   "cell_type": "code",
   "execution_count": 357,
   "metadata": {
    "collapsed": true
   },
   "outputs": [],
   "source": [
    "load('ABH.rda')\n",
    "df = ABH"
   ]
  },
  {
   "cell_type": "code",
   "execution_count": 358,
   "metadata": {},
   "outputs": [
    {
     "data": {
      "text/html": [
       "<ol class=list-inline>\n",
       "\t<li>'calculation_id'</li>\n",
       "\t<li>'calculation_token'</li>\n",
       "\t<li>'etx_make_name'</li>\n",
       "\t<li>'etx_model_name'</li>\n",
       "\t<li>'etx_fuel_code'</li>\n",
       "\t<li>'production_year'</li>\n",
       "\t<li>'etx_model_code'</li>\n",
       "\t<li>'vehicle_id'</li>\n",
       "\t<li>'protection_scope'</li>\n",
       "\t<li>'kind'</li>\n",
       "\t<li>'usage_type'</li>\n",
       "\t<li>'use_frequency'</li>\n",
       "\t<li>'child_carriage_frequency'</li>\n",
       "\t<li>'mileage'</li>\n",
       "\t<li>'yearly_mileage'</li>\n",
       "\t<li>'used_abroad'</li>\n",
       "\t<li>'night_parking_place'</li>\n",
       "\t<li>'night_parking_place_postal_code'</li>\n",
       "\t<li>'day_parking_place'</li>\n",
       "\t<li>'day_parking_place_postal_code'</li>\n",
       "\t<li>'theft_protection_installation'</li>\n",
       "\t<li>'theft_protection_device_1'</li>\n",
       "\t<li>'theft_protection_device_2'</li>\n",
       "\t<li>'origin'</li>\n",
       "\t<li>'buy_year'</li>\n",
       "\t<li>'registration_date'</li>\n",
       "\t<li>'is_damaged'</li>\n",
       "\t<li>'leasing'</li>\n",
       "\t<li>'car_worth'</li>\n",
       "\t<li>'main_driver_postal_code'</li>\n",
       "\t<li>'main_driver_age'</li>\n",
       "\t<li>'main_driver_gender'</li>\n",
       "\t<li>'insurance_start_date'</li>\n",
       "\t<li>'phone_exists'</li>\n",
       "\t<li>'calc_complete'</li>\n",
       "\t<li>'calc_incomplete'</li>\n",
       "\t<li>'calc_finished'</li>\n",
       "\t<li>'phone_yes'</li>\n",
       "\t<li>'phone_no'</li>\n",
       "\t<li>'calculation_type'</li>\n",
       "\t<li>'terms_acceptance'</li>\n",
       "\t<li>'phone_acceptance'</li>\n",
       "\t<li>'phone_accepted'</li>\n",
       "\t<li>'step'</li>\n",
       "\t<li>'created_at'</li>\n",
       "\t<li>'created_at_date'</li>\n",
       "\t<li>'affiliation_id'</li>\n",
       "\t<li>'user_id'</li>\n",
       "\t<li>'sent_to_sf'</li>\n",
       "\t<li>'sf_r_purchasing'</li>\n",
       "\t<li>'calculation_state'</li>\n",
       "\t<li>'oc_offers_qty'</li>\n",
       "\t<li>'oc_offer_min_val'</li>\n",
       "\t<li>'ac_offers_qty'</li>\n",
       "\t<li>'ac_offer_min_val'</li>\n",
       "\t<li>'b2c_leads_sent'</li>\n",
       "\t<li>'form_finished_at'</li>\n",
       "\t<li>'offer_first_at'</li>\n",
       "\t<li>'offer_last_at'</li>\n",
       "\t<li>'offer_first_after'</li>\n",
       "\t<li>'offer_last_after'</li>\n",
       "\t<li>'phone_lookup_status'</li>\n",
       "\t<li>'utm_campaign'</li>\n",
       "\t<li>'utm_content'</li>\n",
       "\t<li>'utm_medium'</li>\n",
       "\t<li>'utm_source'</li>\n",
       "\t<li>'pkb_transform_ver'</li>\n",
       "\t<li>'went_to_partners'</li>\n",
       "\t<li>'contact_requests'</li>\n",
       "\t<li>'policy_started'</li>\n",
       "\t<li>'policy_issued'</li>\n",
       "\t<li>'collection'</li>\n",
       "\t<li>'commision'</li>\n",
       "\t<li>'imp_fullcalc_status'</li>\n",
       "\t<li>'Acc_Agreement_call__c'</li>\n",
       "\t<li>'Acc_Agreement_marketing__c'</li>\n",
       "\t<li>'Acc_Agreement_newsletter__c'</li>\n",
       "\t<li>'Acc_Birthdate__c'</li>\n",
       "\t<li>'Acc_PhoneHLRStatus__c'</li>\n",
       "\t<li>'Account_Last_Modified_At__c'</li>\n",
       "\t<li>'Account__r.AccountSource'</li>\n",
       "\t<li>'Account__r.AgreementCall__pc'</li>\n",
       "\t<li>'Account__r.AgreementMarketing__pc'</li>\n",
       "\t<li>'Account__r.AgreementNewsletter__pc'</li>\n",
       "\t<li>'Account__r.BillingCity'</li>\n",
       "\t<li>'Account__r.BillingPostalCode'</li>\n",
       "\t<li>'Account__r.CreatedById'</li>\n",
       "\t<li>'Account__r.CreatedDate'</li>\n",
       "\t<li>'Account__r.Gender__pc'</li>\n",
       "\t<li>'Account__r.Id'</li>\n",
       "\t<li>'Account__r.IsDeleted'</li>\n",
       "\t<li>'Account__r.IsPersonAccount'</li>\n",
       "\t<li>'Account__r.LastModifiedById'</li>\n",
       "\t<li>'Account__r.LastModifiedDate'</li>\n",
       "\t<li>'Account__r.LegacyID__c'</li>\n",
       "\t<li>'Account__r.OwnerId'</li>\n",
       "\t<li>'Account__r.PersonBirthdate'</li>\n",
       "\t<li>'Account__r.PersonContactId'</li>\n",
       "\t<li>'Account__r.PhoneHLRStatus__pc'</li>\n",
       "\t<li>'Account__r.PhoneNATStatus__pc'</li>\n",
       "\t<li>'Account__r.RecordTypeId'</li>\n",
       "\t<li>'Account__r.Salutation'</li>\n",
       "\t<li>'Account__r.Type'</li>\n",
       "\t<li>'CalculationToken__c'</li>\n",
       "\t<li>'CarEngineCapacity__c'</li>\n",
       "\t<li>'CarFuelType__c'</li>\n",
       "\t<li>'CarMake__c'</li>\n",
       "\t<li>'CarModel__c'</li>\n",
       "\t<li>'CarYear__c'</li>\n",
       "\t<li>'Closed__c'</li>\n",
       "\t<li>'CpcPaid__c'</li>\n",
       "\t<li>'CreatedBy.Alias'</li>\n",
       "\t<li>'CreatedBy.CreatedDate'</li>\n",
       "\t<li>'CreatedById'</li>\n",
       "\t<li>'CreatedDate'</li>\n",
       "\t<li>'DeclaredPurchaseDate__c'</li>\n",
       "\t<li>'Id'</li>\n",
       "\t<li>'Insurer__c'</li>\n",
       "\t<li>'IsDeleted'</li>\n",
       "\t<li>'LastCall__c'</li>\n",
       "\t<li>'LastModifiedById'</li>\n",
       "\t<li>'LastModifiedDate'</li>\n",
       "\t<li>'MpcActive__c'</li>\n",
       "\t<li>'MpcCategoryType__c'</li>\n",
       "\t<li>'MpcPaid__c'</li>\n",
       "\t<li>'Mpc__c'</li>\n",
       "\t<li>'MpcCC'</li>\n",
       "\t<li>'NextCall__c'</li>\n",
       "\t<li>'OwnerId'</li>\n",
       "\t<li>'PolicyStartDate__c'</li>\n",
       "\t<li>'PreviousCalculationToken__c'</li>\n",
       "\t<li>'ProductScope__c'</li>\n",
       "\t<li>'Product_type__c'</li>\n",
       "\t<li>'Quality__c'</li>\n",
       "\t<li>'SalesActionsDone__c'</li>\n",
       "\t<li>'SalesActionsToDo__c'</li>\n",
       "\t<li>'Source__c'</li>\n",
       "\t<li>'StatusType__c'</li>\n",
       "\t<li>'Status__c'</li>\n",
       "\t<li>'SystemModstamp'</li>\n",
       "\t<li>'TelehubStatus__c'</li>\n",
       "\t<li>'WentToPartner__c'</li>\n",
       "\t<li>'dont_have_this_car__c'</li>\n",
       "\t<li>'TotalCarCollection__c'</li>\n",
       "\t<li>'COpportunity_Products__r.Product_Type__c'</li>\n",
       "\t<li>'COpportunity_Products__r.SalesChannel__c'</li>\n",
       "\t<li>'COpportunity_Products__r.Status__c'</li>\n",
       "\t<li>'Sale.success'</li>\n",
       "\t<li>'Last.call'</li>\n",
       "\t<li>'CC.sales'</li>\n",
       "\t<li>'Telehub'</li>\n",
       "\t<li>'Contacted.by.CC'</li>\n",
       "</ol>\n"
      ],
      "text/latex": [
       "\\begin{enumerate*}\n",
       "\\item 'calculation\\_id'\n",
       "\\item 'calculation\\_token'\n",
       "\\item 'etx\\_make\\_name'\n",
       "\\item 'etx\\_model\\_name'\n",
       "\\item 'etx\\_fuel\\_code'\n",
       "\\item 'production\\_year'\n",
       "\\item 'etx\\_model\\_code'\n",
       "\\item 'vehicle\\_id'\n",
       "\\item 'protection\\_scope'\n",
       "\\item 'kind'\n",
       "\\item 'usage\\_type'\n",
       "\\item 'use\\_frequency'\n",
       "\\item 'child\\_carriage\\_frequency'\n",
       "\\item 'mileage'\n",
       "\\item 'yearly\\_mileage'\n",
       "\\item 'used\\_abroad'\n",
       "\\item 'night\\_parking\\_place'\n",
       "\\item 'night\\_parking\\_place\\_postal\\_code'\n",
       "\\item 'day\\_parking\\_place'\n",
       "\\item 'day\\_parking\\_place\\_postal\\_code'\n",
       "\\item 'theft\\_protection\\_installation'\n",
       "\\item 'theft\\_protection\\_device\\_1'\n",
       "\\item 'theft\\_protection\\_device\\_2'\n",
       "\\item 'origin'\n",
       "\\item 'buy\\_year'\n",
       "\\item 'registration\\_date'\n",
       "\\item 'is\\_damaged'\n",
       "\\item 'leasing'\n",
       "\\item 'car\\_worth'\n",
       "\\item 'main\\_driver\\_postal\\_code'\n",
       "\\item 'main\\_driver\\_age'\n",
       "\\item 'main\\_driver\\_gender'\n",
       "\\item 'insurance\\_start\\_date'\n",
       "\\item 'phone\\_exists'\n",
       "\\item 'calc\\_complete'\n",
       "\\item 'calc\\_incomplete'\n",
       "\\item 'calc\\_finished'\n",
       "\\item 'phone\\_yes'\n",
       "\\item 'phone\\_no'\n",
       "\\item 'calculation\\_type'\n",
       "\\item 'terms\\_acceptance'\n",
       "\\item 'phone\\_acceptance'\n",
       "\\item 'phone\\_accepted'\n",
       "\\item 'step'\n",
       "\\item 'created\\_at'\n",
       "\\item 'created\\_at\\_date'\n",
       "\\item 'affiliation\\_id'\n",
       "\\item 'user\\_id'\n",
       "\\item 'sent\\_to\\_sf'\n",
       "\\item 'sf\\_r\\_purchasing'\n",
       "\\item 'calculation\\_state'\n",
       "\\item 'oc\\_offers\\_qty'\n",
       "\\item 'oc\\_offer\\_min\\_val'\n",
       "\\item 'ac\\_offers\\_qty'\n",
       "\\item 'ac\\_offer\\_min\\_val'\n",
       "\\item 'b2c\\_leads\\_sent'\n",
       "\\item 'form\\_finished\\_at'\n",
       "\\item 'offer\\_first\\_at'\n",
       "\\item 'offer\\_last\\_at'\n",
       "\\item 'offer\\_first\\_after'\n",
       "\\item 'offer\\_last\\_after'\n",
       "\\item 'phone\\_lookup\\_status'\n",
       "\\item 'utm\\_campaign'\n",
       "\\item 'utm\\_content'\n",
       "\\item 'utm\\_medium'\n",
       "\\item 'utm\\_source'\n",
       "\\item 'pkb\\_transform\\_ver'\n",
       "\\item 'went\\_to\\_partners'\n",
       "\\item 'contact\\_requests'\n",
       "\\item 'policy\\_started'\n",
       "\\item 'policy\\_issued'\n",
       "\\item 'collection'\n",
       "\\item 'commision'\n",
       "\\item 'imp\\_fullcalc\\_status'\n",
       "\\item 'Acc\\_Agreement\\_call\\_\\_c'\n",
       "\\item 'Acc\\_Agreement\\_marketing\\_\\_c'\n",
       "\\item 'Acc\\_Agreement\\_newsletter\\_\\_c'\n",
       "\\item 'Acc\\_Birthdate\\_\\_c'\n",
       "\\item 'Acc\\_PhoneHLRStatus\\_\\_c'\n",
       "\\item 'Account\\_Last\\_Modified\\_At\\_\\_c'\n",
       "\\item 'Account\\_\\_r.AccountSource'\n",
       "\\item 'Account\\_\\_r.AgreementCall\\_\\_pc'\n",
       "\\item 'Account\\_\\_r.AgreementMarketing\\_\\_pc'\n",
       "\\item 'Account\\_\\_r.AgreementNewsletter\\_\\_pc'\n",
       "\\item 'Account\\_\\_r.BillingCity'\n",
       "\\item 'Account\\_\\_r.BillingPostalCode'\n",
       "\\item 'Account\\_\\_r.CreatedById'\n",
       "\\item 'Account\\_\\_r.CreatedDate'\n",
       "\\item 'Account\\_\\_r.Gender\\_\\_pc'\n",
       "\\item 'Account\\_\\_r.Id'\n",
       "\\item 'Account\\_\\_r.IsDeleted'\n",
       "\\item 'Account\\_\\_r.IsPersonAccount'\n",
       "\\item 'Account\\_\\_r.LastModifiedById'\n",
       "\\item 'Account\\_\\_r.LastModifiedDate'\n",
       "\\item 'Account\\_\\_r.LegacyID\\_\\_c'\n",
       "\\item 'Account\\_\\_r.OwnerId'\n",
       "\\item 'Account\\_\\_r.PersonBirthdate'\n",
       "\\item 'Account\\_\\_r.PersonContactId'\n",
       "\\item 'Account\\_\\_r.PhoneHLRStatus\\_\\_pc'\n",
       "\\item 'Account\\_\\_r.PhoneNATStatus\\_\\_pc'\n",
       "\\item 'Account\\_\\_r.RecordTypeId'\n",
       "\\item 'Account\\_\\_r.Salutation'\n",
       "\\item 'Account\\_\\_r.Type'\n",
       "\\item 'CalculationToken\\_\\_c'\n",
       "\\item 'CarEngineCapacity\\_\\_c'\n",
       "\\item 'CarFuelType\\_\\_c'\n",
       "\\item 'CarMake\\_\\_c'\n",
       "\\item 'CarModel\\_\\_c'\n",
       "\\item 'CarYear\\_\\_c'\n",
       "\\item 'Closed\\_\\_c'\n",
       "\\item 'CpcPaid\\_\\_c'\n",
       "\\item 'CreatedBy.Alias'\n",
       "\\item 'CreatedBy.CreatedDate'\n",
       "\\item 'CreatedById'\n",
       "\\item 'CreatedDate'\n",
       "\\item 'DeclaredPurchaseDate\\_\\_c'\n",
       "\\item 'Id'\n",
       "\\item 'Insurer\\_\\_c'\n",
       "\\item 'IsDeleted'\n",
       "\\item 'LastCall\\_\\_c'\n",
       "\\item 'LastModifiedById'\n",
       "\\item 'LastModifiedDate'\n",
       "\\item 'MpcActive\\_\\_c'\n",
       "\\item 'MpcCategoryType\\_\\_c'\n",
       "\\item 'MpcPaid\\_\\_c'\n",
       "\\item 'Mpc\\_\\_c'\n",
       "\\item 'MpcCC'\n",
       "\\item 'NextCall\\_\\_c'\n",
       "\\item 'OwnerId'\n",
       "\\item 'PolicyStartDate\\_\\_c'\n",
       "\\item 'PreviousCalculationToken\\_\\_c'\n",
       "\\item 'ProductScope\\_\\_c'\n",
       "\\item 'Product\\_type\\_\\_c'\n",
       "\\item 'Quality\\_\\_c'\n",
       "\\item 'SalesActionsDone\\_\\_c'\n",
       "\\item 'SalesActionsToDo\\_\\_c'\n",
       "\\item 'Source\\_\\_c'\n",
       "\\item 'StatusType\\_\\_c'\n",
       "\\item 'Status\\_\\_c'\n",
       "\\item 'SystemModstamp'\n",
       "\\item 'TelehubStatus\\_\\_c'\n",
       "\\item 'WentToPartner\\_\\_c'\n",
       "\\item 'dont\\_have\\_this\\_car\\_\\_c'\n",
       "\\item 'TotalCarCollection\\_\\_c'\n",
       "\\item 'COpportunity\\_Products\\_\\_r.Product\\_Type\\_\\_c'\n",
       "\\item 'COpportunity\\_Products\\_\\_r.SalesChannel\\_\\_c'\n",
       "\\item 'COpportunity\\_Products\\_\\_r.Status\\_\\_c'\n",
       "\\item 'Sale.success'\n",
       "\\item 'Last.call'\n",
       "\\item 'CC.sales'\n",
       "\\item 'Telehub'\n",
       "\\item 'Contacted.by.CC'\n",
       "\\end{enumerate*}\n"
      ],
      "text/markdown": [
       "1. 'calculation_id'\n",
       "2. 'calculation_token'\n",
       "3. 'etx_make_name'\n",
       "4. 'etx_model_name'\n",
       "5. 'etx_fuel_code'\n",
       "6. 'production_year'\n",
       "7. 'etx_model_code'\n",
       "8. 'vehicle_id'\n",
       "9. 'protection_scope'\n",
       "10. 'kind'\n",
       "11. 'usage_type'\n",
       "12. 'use_frequency'\n",
       "13. 'child_carriage_frequency'\n",
       "14. 'mileage'\n",
       "15. 'yearly_mileage'\n",
       "16. 'used_abroad'\n",
       "17. 'night_parking_place'\n",
       "18. 'night_parking_place_postal_code'\n",
       "19. 'day_parking_place'\n",
       "20. 'day_parking_place_postal_code'\n",
       "21. 'theft_protection_installation'\n",
       "22. 'theft_protection_device_1'\n",
       "23. 'theft_protection_device_2'\n",
       "24. 'origin'\n",
       "25. 'buy_year'\n",
       "26. 'registration_date'\n",
       "27. 'is_damaged'\n",
       "28. 'leasing'\n",
       "29. 'car_worth'\n",
       "30. 'main_driver_postal_code'\n",
       "31. 'main_driver_age'\n",
       "32. 'main_driver_gender'\n",
       "33. 'insurance_start_date'\n",
       "34. 'phone_exists'\n",
       "35. 'calc_complete'\n",
       "36. 'calc_incomplete'\n",
       "37. 'calc_finished'\n",
       "38. 'phone_yes'\n",
       "39. 'phone_no'\n",
       "40. 'calculation_type'\n",
       "41. 'terms_acceptance'\n",
       "42. 'phone_acceptance'\n",
       "43. 'phone_accepted'\n",
       "44. 'step'\n",
       "45. 'created_at'\n",
       "46. 'created_at_date'\n",
       "47. 'affiliation_id'\n",
       "48. 'user_id'\n",
       "49. 'sent_to_sf'\n",
       "50. 'sf_r_purchasing'\n",
       "51. 'calculation_state'\n",
       "52. 'oc_offers_qty'\n",
       "53. 'oc_offer_min_val'\n",
       "54. 'ac_offers_qty'\n",
       "55. 'ac_offer_min_val'\n",
       "56. 'b2c_leads_sent'\n",
       "57. 'form_finished_at'\n",
       "58. 'offer_first_at'\n",
       "59. 'offer_last_at'\n",
       "60. 'offer_first_after'\n",
       "61. 'offer_last_after'\n",
       "62. 'phone_lookup_status'\n",
       "63. 'utm_campaign'\n",
       "64. 'utm_content'\n",
       "65. 'utm_medium'\n",
       "66. 'utm_source'\n",
       "67. 'pkb_transform_ver'\n",
       "68. 'went_to_partners'\n",
       "69. 'contact_requests'\n",
       "70. 'policy_started'\n",
       "71. 'policy_issued'\n",
       "72. 'collection'\n",
       "73. 'commision'\n",
       "74. 'imp_fullcalc_status'\n",
       "75. 'Acc_Agreement_call__c'\n",
       "76. 'Acc_Agreement_marketing__c'\n",
       "77. 'Acc_Agreement_newsletter__c'\n",
       "78. 'Acc_Birthdate__c'\n",
       "79. 'Acc_PhoneHLRStatus__c'\n",
       "80. 'Account_Last_Modified_At__c'\n",
       "81. 'Account__r.AccountSource'\n",
       "82. 'Account__r.AgreementCall__pc'\n",
       "83. 'Account__r.AgreementMarketing__pc'\n",
       "84. 'Account__r.AgreementNewsletter__pc'\n",
       "85. 'Account__r.BillingCity'\n",
       "86. 'Account__r.BillingPostalCode'\n",
       "87. 'Account__r.CreatedById'\n",
       "88. 'Account__r.CreatedDate'\n",
       "89. 'Account__r.Gender__pc'\n",
       "90. 'Account__r.Id'\n",
       "91. 'Account__r.IsDeleted'\n",
       "92. 'Account__r.IsPersonAccount'\n",
       "93. 'Account__r.LastModifiedById'\n",
       "94. 'Account__r.LastModifiedDate'\n",
       "95. 'Account__r.LegacyID__c'\n",
       "96. 'Account__r.OwnerId'\n",
       "97. 'Account__r.PersonBirthdate'\n",
       "98. 'Account__r.PersonContactId'\n",
       "99. 'Account__r.PhoneHLRStatus__pc'\n",
       "100. 'Account__r.PhoneNATStatus__pc'\n",
       "101. 'Account__r.RecordTypeId'\n",
       "102. 'Account__r.Salutation'\n",
       "103. 'Account__r.Type'\n",
       "104. 'CalculationToken__c'\n",
       "105. 'CarEngineCapacity__c'\n",
       "106. 'CarFuelType__c'\n",
       "107. 'CarMake__c'\n",
       "108. 'CarModel__c'\n",
       "109. 'CarYear__c'\n",
       "110. 'Closed__c'\n",
       "111. 'CpcPaid__c'\n",
       "112. 'CreatedBy.Alias'\n",
       "113. 'CreatedBy.CreatedDate'\n",
       "114. 'CreatedById'\n",
       "115. 'CreatedDate'\n",
       "116. 'DeclaredPurchaseDate__c'\n",
       "117. 'Id'\n",
       "118. 'Insurer__c'\n",
       "119. 'IsDeleted'\n",
       "120. 'LastCall__c'\n",
       "121. 'LastModifiedById'\n",
       "122. 'LastModifiedDate'\n",
       "123. 'MpcActive__c'\n",
       "124. 'MpcCategoryType__c'\n",
       "125. 'MpcPaid__c'\n",
       "126. 'Mpc__c'\n",
       "127. 'MpcCC'\n",
       "128. 'NextCall__c'\n",
       "129. 'OwnerId'\n",
       "130. 'PolicyStartDate__c'\n",
       "131. 'PreviousCalculationToken__c'\n",
       "132. 'ProductScope__c'\n",
       "133. 'Product_type__c'\n",
       "134. 'Quality__c'\n",
       "135. 'SalesActionsDone__c'\n",
       "136. 'SalesActionsToDo__c'\n",
       "137. 'Source__c'\n",
       "138. 'StatusType__c'\n",
       "139. 'Status__c'\n",
       "140. 'SystemModstamp'\n",
       "141. 'TelehubStatus__c'\n",
       "142. 'WentToPartner__c'\n",
       "143. 'dont_have_this_car__c'\n",
       "144. 'TotalCarCollection__c'\n",
       "145. 'COpportunity_Products__r.Product_Type__c'\n",
       "146. 'COpportunity_Products__r.SalesChannel__c'\n",
       "147. 'COpportunity_Products__r.Status__c'\n",
       "148. 'Sale.success'\n",
       "149. 'Last.call'\n",
       "150. 'CC.sales'\n",
       "151. 'Telehub'\n",
       "152. 'Contacted.by.CC'\n",
       "\n",
       "\n"
      ],
      "text/plain": [
       "  [1] \"calculation_id\"                          \n",
       "  [2] \"calculation_token\"                       \n",
       "  [3] \"etx_make_name\"                           \n",
       "  [4] \"etx_model_name\"                          \n",
       "  [5] \"etx_fuel_code\"                           \n",
       "  [6] \"production_year\"                         \n",
       "  [7] \"etx_model_code\"                          \n",
       "  [8] \"vehicle_id\"                              \n",
       "  [9] \"protection_scope\"                        \n",
       " [10] \"kind\"                                    \n",
       " [11] \"usage_type\"                              \n",
       " [12] \"use_frequency\"                           \n",
       " [13] \"child_carriage_frequency\"                \n",
       " [14] \"mileage\"                                 \n",
       " [15] \"yearly_mileage\"                          \n",
       " [16] \"used_abroad\"                             \n",
       " [17] \"night_parking_place\"                     \n",
       " [18] \"night_parking_place_postal_code\"         \n",
       " [19] \"day_parking_place\"                       \n",
       " [20] \"day_parking_place_postal_code\"           \n",
       " [21] \"theft_protection_installation\"           \n",
       " [22] \"theft_protection_device_1\"               \n",
       " [23] \"theft_protection_device_2\"               \n",
       " [24] \"origin\"                                  \n",
       " [25] \"buy_year\"                                \n",
       " [26] \"registration_date\"                       \n",
       " [27] \"is_damaged\"                              \n",
       " [28] \"leasing\"                                 \n",
       " [29] \"car_worth\"                               \n",
       " [30] \"main_driver_postal_code\"                 \n",
       " [31] \"main_driver_age\"                         \n",
       " [32] \"main_driver_gender\"                      \n",
       " [33] \"insurance_start_date\"                    \n",
       " [34] \"phone_exists\"                            \n",
       " [35] \"calc_complete\"                           \n",
       " [36] \"calc_incomplete\"                         \n",
       " [37] \"calc_finished\"                           \n",
       " [38] \"phone_yes\"                               \n",
       " [39] \"phone_no\"                                \n",
       " [40] \"calculation_type\"                        \n",
       " [41] \"terms_acceptance\"                        \n",
       " [42] \"phone_acceptance\"                        \n",
       " [43] \"phone_accepted\"                          \n",
       " [44] \"step\"                                    \n",
       " [45] \"created_at\"                              \n",
       " [46] \"created_at_date\"                         \n",
       " [47] \"affiliation_id\"                          \n",
       " [48] \"user_id\"                                 \n",
       " [49] \"sent_to_sf\"                              \n",
       " [50] \"sf_r_purchasing\"                         \n",
       " [51] \"calculation_state\"                       \n",
       " [52] \"oc_offers_qty\"                           \n",
       " [53] \"oc_offer_min_val\"                        \n",
       " [54] \"ac_offers_qty\"                           \n",
       " [55] \"ac_offer_min_val\"                        \n",
       " [56] \"b2c_leads_sent\"                          \n",
       " [57] \"form_finished_at\"                        \n",
       " [58] \"offer_first_at\"                          \n",
       " [59] \"offer_last_at\"                           \n",
       " [60] \"offer_first_after\"                       \n",
       " [61] \"offer_last_after\"                        \n",
       " [62] \"phone_lookup_status\"                     \n",
       " [63] \"utm_campaign\"                            \n",
       " [64] \"utm_content\"                             \n",
       " [65] \"utm_medium\"                              \n",
       " [66] \"utm_source\"                              \n",
       " [67] \"pkb_transform_ver\"                       \n",
       " [68] \"went_to_partners\"                        \n",
       " [69] \"contact_requests\"                        \n",
       " [70] \"policy_started\"                          \n",
       " [71] \"policy_issued\"                           \n",
       " [72] \"collection\"                              \n",
       " [73] \"commision\"                               \n",
       " [74] \"imp_fullcalc_status\"                     \n",
       " [75] \"Acc_Agreement_call__c\"                   \n",
       " [76] \"Acc_Agreement_marketing__c\"              \n",
       " [77] \"Acc_Agreement_newsletter__c\"             \n",
       " [78] \"Acc_Birthdate__c\"                        \n",
       " [79] \"Acc_PhoneHLRStatus__c\"                   \n",
       " [80] \"Account_Last_Modified_At__c\"             \n",
       " [81] \"Account__r.AccountSource\"                \n",
       " [82] \"Account__r.AgreementCall__pc\"            \n",
       " [83] \"Account__r.AgreementMarketing__pc\"       \n",
       " [84] \"Account__r.AgreementNewsletter__pc\"      \n",
       " [85] \"Account__r.BillingCity\"                  \n",
       " [86] \"Account__r.BillingPostalCode\"            \n",
       " [87] \"Account__r.CreatedById\"                  \n",
       " [88] \"Account__r.CreatedDate\"                  \n",
       " [89] \"Account__r.Gender__pc\"                   \n",
       " [90] \"Account__r.Id\"                           \n",
       " [91] \"Account__r.IsDeleted\"                    \n",
       " [92] \"Account__r.IsPersonAccount\"              \n",
       " [93] \"Account__r.LastModifiedById\"             \n",
       " [94] \"Account__r.LastModifiedDate\"             \n",
       " [95] \"Account__r.LegacyID__c\"                  \n",
       " [96] \"Account__r.OwnerId\"                      \n",
       " [97] \"Account__r.PersonBirthdate\"              \n",
       " [98] \"Account__r.PersonContactId\"              \n",
       " [99] \"Account__r.PhoneHLRStatus__pc\"           \n",
       "[100] \"Account__r.PhoneNATStatus__pc\"           \n",
       "[101] \"Account__r.RecordTypeId\"                 \n",
       "[102] \"Account__r.Salutation\"                   \n",
       "[103] \"Account__r.Type\"                         \n",
       "[104] \"CalculationToken__c\"                     \n",
       "[105] \"CarEngineCapacity__c\"                    \n",
       "[106] \"CarFuelType__c\"                          \n",
       "[107] \"CarMake__c\"                              \n",
       "[108] \"CarModel__c\"                             \n",
       "[109] \"CarYear__c\"                              \n",
       "[110] \"Closed__c\"                               \n",
       "[111] \"CpcPaid__c\"                              \n",
       "[112] \"CreatedBy.Alias\"                         \n",
       "[113] \"CreatedBy.CreatedDate\"                   \n",
       "[114] \"CreatedById\"                             \n",
       "[115] \"CreatedDate\"                             \n",
       "[116] \"DeclaredPurchaseDate__c\"                 \n",
       "[117] \"Id\"                                      \n",
       "[118] \"Insurer__c\"                              \n",
       "[119] \"IsDeleted\"                               \n",
       "[120] \"LastCall__c\"                             \n",
       "[121] \"LastModifiedById\"                        \n",
       "[122] \"LastModifiedDate\"                        \n",
       "[123] \"MpcActive__c\"                            \n",
       "[124] \"MpcCategoryType__c\"                      \n",
       "[125] \"MpcPaid__c\"                              \n",
       "[126] \"Mpc__c\"                                  \n",
       "[127] \"MpcCC\"                                   \n",
       "[128] \"NextCall__c\"                             \n",
       "[129] \"OwnerId\"                                 \n",
       "[130] \"PolicyStartDate__c\"                      \n",
       "[131] \"PreviousCalculationToken__c\"             \n",
       "[132] \"ProductScope__c\"                         \n",
       "[133] \"Product_type__c\"                         \n",
       "[134] \"Quality__c\"                              \n",
       "[135] \"SalesActionsDone__c\"                     \n",
       "[136] \"SalesActionsToDo__c\"                     \n",
       "[137] \"Source__c\"                               \n",
       "[138] \"StatusType__c\"                           \n",
       "[139] \"Status__c\"                               \n",
       "[140] \"SystemModstamp\"                          \n",
       "[141] \"TelehubStatus__c\"                        \n",
       "[142] \"WentToPartner__c\"                        \n",
       "[143] \"dont_have_this_car__c\"                   \n",
       "[144] \"TotalCarCollection__c\"                   \n",
       "[145] \"COpportunity_Products__r.Product_Type__c\"\n",
       "[146] \"COpportunity_Products__r.SalesChannel__c\"\n",
       "[147] \"COpportunity_Products__r.Status__c\"      \n",
       "[148] \"Sale.success\"                            \n",
       "[149] \"Last.call\"                               \n",
       "[150] \"CC.sales\"                                \n",
       "[151] \"Telehub\"                                 \n",
       "[152] \"Contacted.by.CC\"                         "
      ]
     },
     "metadata": {},
     "output_type": "display_data"
    }
   ],
   "source": [
    "colnames(ABH)"
   ]
  },
  {
   "cell_type": "code",
   "execution_count": 359,
   "metadata": {
    "scrolled": true
   },
   "outputs": [
    {
     "data": {
      "text/html": [
       "152"
      ],
      "text/latex": [
       "152"
      ],
      "text/markdown": [
       "152"
      ],
      "text/plain": [
       "[1] 152"
      ]
     },
     "metadata": {},
     "output_type": "display_data"
    }
   ],
   "source": [
    "ncol(df)"
   ]
  },
  {
   "cell_type": "code",
   "execution_count": 360,
   "metadata": {
    "collapsed": true
   },
   "outputs": [],
   "source": [
    "#wybieram tylko kolumny, ktore sa w zbiorze testowym"
   ]
  },
  {
   "cell_type": "code",
   "execution_count": 361,
   "metadata": {
    "collapsed": true
   },
   "outputs": [],
   "source": [
    "indices = sapply(preds, function(pred){which(colnames(df)==pred)})"
   ]
  },
  {
   "cell_type": "code",
   "execution_count": 362,
   "metadata": {},
   "outputs": [
    {
     "data": {
      "text/html": [
       "117"
      ],
      "text/latex": [
       "117"
      ],
      "text/markdown": [
       "117"
      ],
      "text/plain": [
       "[1] 117"
      ]
     },
     "metadata": {},
     "output_type": "display_data"
    }
   ],
   "source": [
    "length(indices)"
   ]
  },
  {
   "cell_type": "code",
   "execution_count": 363,
   "metadata": {
    "collapsed": true
   },
   "outputs": [],
   "source": [
    "labelindex = which(colnames(df)=='Sale.success')"
   ]
  },
  {
   "cell_type": "code",
   "execution_count": 364,
   "metadata": {},
   "outputs": [
    {
     "data": {
      "text/html": [
       "148"
      ],
      "text/latex": [
       "148"
      ],
      "text/markdown": [
       "148"
      ],
      "text/plain": [
       "[1] 148"
      ]
     },
     "metadata": {},
     "output_type": "display_data"
    }
   ],
   "source": [
    "#to jest etykieta wlasciwa - czy sprzedaz sie udala?\n",
    "labelindex"
   ]
  },
  {
   "cell_type": "code",
   "execution_count": 365,
   "metadata": {},
   "outputs": [
    {
     "data": {
      "text/html": [
       "<dl class=dl-horizontal>\n",
       "\t<dt>LastCall__c</dt>\n",
       "\t\t<dd>120</dd>\n",
       "\t<dt>calculation_id</dt>\n",
       "\t\t<dd>1</dd>\n",
       "\t<dt>calculation_token</dt>\n",
       "\t\t<dd>2</dd>\n",
       "\t<dt>etx_make_name</dt>\n",
       "\t\t<dd>3</dd>\n",
       "\t<dt>etx_model_name</dt>\n",
       "\t\t<dd>4</dd>\n",
       "\t<dt>etx_fuel_code</dt>\n",
       "\t\t<dd>5</dd>\n",
       "\t<dt>production_year</dt>\n",
       "\t\t<dd>6</dd>\n",
       "\t<dt>etx_model_code</dt>\n",
       "\t\t<dd>7</dd>\n",
       "\t<dt>vehicle_id</dt>\n",
       "\t\t<dd>8</dd>\n",
       "\t<dt>protection_scope</dt>\n",
       "\t\t<dd>9</dd>\n",
       "\t<dt>kind</dt>\n",
       "\t\t<dd>10</dd>\n",
       "\t<dt>usage_type</dt>\n",
       "\t\t<dd>11</dd>\n",
       "\t<dt>use_frequency</dt>\n",
       "\t\t<dd>12</dd>\n",
       "\t<dt>child_carriage_frequency</dt>\n",
       "\t\t<dd>13</dd>\n",
       "\t<dt>mileage</dt>\n",
       "\t\t<dd>14</dd>\n",
       "\t<dt>yearly_mileage</dt>\n",
       "\t\t<dd>15</dd>\n",
       "\t<dt>used_abroad</dt>\n",
       "\t\t<dd>16</dd>\n",
       "\t<dt>night_parking_place</dt>\n",
       "\t\t<dd>17</dd>\n",
       "\t<dt>night_parking_place_postal_code</dt>\n",
       "\t\t<dd>18</dd>\n",
       "\t<dt>day_parking_place</dt>\n",
       "\t\t<dd>19</dd>\n",
       "\t<dt>day_parking_place_postal_code</dt>\n",
       "\t\t<dd>20</dd>\n",
       "\t<dt>theft_protection_installation</dt>\n",
       "\t\t<dd>21</dd>\n",
       "\t<dt>theft_protection_device_1</dt>\n",
       "\t\t<dd>22</dd>\n",
       "\t<dt>theft_protection_device_2</dt>\n",
       "\t\t<dd>23</dd>\n",
       "\t<dt>origin</dt>\n",
       "\t\t<dd>24</dd>\n",
       "\t<dt>buy_year</dt>\n",
       "\t\t<dd>25</dd>\n",
       "\t<dt>registration_date</dt>\n",
       "\t\t<dd>26</dd>\n",
       "\t<dt>is_damaged</dt>\n",
       "\t\t<dd>27</dd>\n",
       "\t<dt>leasing</dt>\n",
       "\t\t<dd>28</dd>\n",
       "\t<dt>car_worth</dt>\n",
       "\t\t<dd>29</dd>\n",
       "\t<dt>main_driver_postal_code</dt>\n",
       "\t\t<dd>30</dd>\n",
       "\t<dt>main_driver_age</dt>\n",
       "\t\t<dd>31</dd>\n",
       "\t<dt>main_driver_gender</dt>\n",
       "\t\t<dd>32</dd>\n",
       "\t<dt>insurance_start_date</dt>\n",
       "\t\t<dd>33</dd>\n",
       "\t<dt>phone_exists</dt>\n",
       "\t\t<dd>34</dd>\n",
       "\t<dt>calc_complete</dt>\n",
       "\t\t<dd>35</dd>\n",
       "\t<dt>calc_incomplete</dt>\n",
       "\t\t<dd>36</dd>\n",
       "\t<dt>calc_finished</dt>\n",
       "\t\t<dd>37</dd>\n",
       "\t<dt>phone_yes</dt>\n",
       "\t\t<dd>38</dd>\n",
       "\t<dt>phone_no</dt>\n",
       "\t\t<dd>39</dd>\n",
       "\t<dt>calculation_type</dt>\n",
       "\t\t<dd>40</dd>\n",
       "\t<dt>terms_acceptance</dt>\n",
       "\t\t<dd>41</dd>\n",
       "\t<dt>phone_acceptance</dt>\n",
       "\t\t<dd>42</dd>\n",
       "\t<dt>phone_accepted</dt>\n",
       "\t\t<dd>43</dd>\n",
       "\t<dt>step</dt>\n",
       "\t\t<dd>44</dd>\n",
       "\t<dt>created_at</dt>\n",
       "\t\t<dd>45</dd>\n",
       "\t<dt>created_at_date</dt>\n",
       "\t\t<dd>46</dd>\n",
       "\t<dt>affiliation_id</dt>\n",
       "\t\t<dd>47</dd>\n",
       "\t<dt>user_id</dt>\n",
       "\t\t<dd>48</dd>\n",
       "\t<dt>sent_to_sf</dt>\n",
       "\t\t<dd>49</dd>\n",
       "\t<dt>sf_r_purchasing</dt>\n",
       "\t\t<dd>50</dd>\n",
       "\t<dt>calculation_state</dt>\n",
       "\t\t<dd>51</dd>\n",
       "\t<dt>oc_offers_qty</dt>\n",
       "\t\t<dd>52</dd>\n",
       "\t<dt>oc_offer_min_val</dt>\n",
       "\t\t<dd>53</dd>\n",
       "\t<dt>ac_offers_qty</dt>\n",
       "\t\t<dd>54</dd>\n",
       "\t<dt>ac_offer_min_val</dt>\n",
       "\t\t<dd>55</dd>\n",
       "\t<dt>b2c_leads_sent</dt>\n",
       "\t\t<dd>56</dd>\n",
       "\t<dt>form_finished_at</dt>\n",
       "\t\t<dd>57</dd>\n",
       "\t<dt>offer_first_at</dt>\n",
       "\t\t<dd>58</dd>\n",
       "\t<dt>offer_last_at</dt>\n",
       "\t\t<dd>59</dd>\n",
       "\t<dt>offer_first_after</dt>\n",
       "\t\t<dd>60</dd>\n",
       "\t<dt>offer_last_after</dt>\n",
       "\t\t<dd>61</dd>\n",
       "\t<dt>phone_lookup_status</dt>\n",
       "\t\t<dd>62</dd>\n",
       "\t<dt>utm_campaign</dt>\n",
       "\t\t<dd>63</dd>\n",
       "\t<dt>utm_content</dt>\n",
       "\t\t<dd>64</dd>\n",
       "\t<dt>utm_medium</dt>\n",
       "\t\t<dd>65</dd>\n",
       "\t<dt>utm_source</dt>\n",
       "\t\t<dd>66</dd>\n",
       "\t<dt>pkb_transform_ver</dt>\n",
       "\t\t<dd>67</dd>\n",
       "\t<dt>went_to_partners</dt>\n",
       "\t\t<dd>68</dd>\n",
       "\t<dt>contact_requests</dt>\n",
       "\t\t<dd>69</dd>\n",
       "\t<dt>Acc_Agreement_call__c</dt>\n",
       "\t\t<dd>75</dd>\n",
       "\t<dt>Acc_Agreement_marketing__c</dt>\n",
       "\t\t<dd>76</dd>\n",
       "\t<dt>Acc_Agreement_newsletter__c</dt>\n",
       "\t\t<dd>77</dd>\n",
       "\t<dt>Acc_Birthdate__c</dt>\n",
       "\t\t<dd>78</dd>\n",
       "\t<dt>Acc_PhoneHLRStatus__c</dt>\n",
       "\t\t<dd>79</dd>\n",
       "\t<dt>Account__r.AccountSource</dt>\n",
       "\t\t<dd>81</dd>\n",
       "\t<dt>Account__r.AgreementCall__pc</dt>\n",
       "\t\t<dd>82</dd>\n",
       "\t<dt>Account__r.AgreementMarketing__pc</dt>\n",
       "\t\t<dd>83</dd>\n",
       "\t<dt>Account__r.AgreementNewsletter__pc</dt>\n",
       "\t\t<dd>84</dd>\n",
       "\t<dt>Account__r.BillingCity</dt>\n",
       "\t\t<dd>85</dd>\n",
       "\t<dt>Account__r.BillingPostalCode</dt>\n",
       "\t\t<dd>86</dd>\n",
       "\t<dt>Account__r.CreatedById</dt>\n",
       "\t\t<dd>87</dd>\n",
       "\t<dt>Account__r.CreatedDate</dt>\n",
       "\t\t<dd>88</dd>\n",
       "\t<dt>Account__r.Gender__pc</dt>\n",
       "\t\t<dd>89</dd>\n",
       "\t<dt>Account__r.Id</dt>\n",
       "\t\t<dd>90</dd>\n",
       "\t<dt>Account__r.IsDeleted</dt>\n",
       "\t\t<dd>91</dd>\n",
       "\t<dt>Account__r.IsPersonAccount</dt>\n",
       "\t\t<dd>92</dd>\n",
       "\t<dt>Account__r.LegacyID__c</dt>\n",
       "\t\t<dd>95</dd>\n",
       "\t<dt>Account__r.OwnerId</dt>\n",
       "\t\t<dd>96</dd>\n",
       "\t<dt>Account__r.PersonBirthdate</dt>\n",
       "\t\t<dd>97</dd>\n",
       "\t<dt>Account__r.PersonContactId</dt>\n",
       "\t\t<dd>98</dd>\n",
       "\t<dt>Account__r.PhoneHLRStatus__pc</dt>\n",
       "\t\t<dd>99</dd>\n",
       "\t<dt>Account__r.PhoneNATStatus__pc</dt>\n",
       "\t\t<dd>100</dd>\n",
       "\t<dt>Account__r.RecordTypeId</dt>\n",
       "\t\t<dd>101</dd>\n",
       "\t<dt>Account__r.Salutation</dt>\n",
       "\t\t<dd>102</dd>\n",
       "\t<dt>Account__r.Type</dt>\n",
       "\t\t<dd>103</dd>\n",
       "\t<dt>CalculationToken__c</dt>\n",
       "\t\t<dd>104</dd>\n",
       "\t<dt>CarEngineCapacity__c</dt>\n",
       "\t\t<dd>105</dd>\n",
       "\t<dt>CarFuelType__c</dt>\n",
       "\t\t<dd>106</dd>\n",
       "\t<dt>CarMake__c</dt>\n",
       "\t\t<dd>107</dd>\n",
       "\t<dt>CarModel__c</dt>\n",
       "\t\t<dd>108</dd>\n",
       "\t<dt>CarYear__c</dt>\n",
       "\t\t<dd>109</dd>\n",
       "\t<dt>CpcPaid__c</dt>\n",
       "\t\t<dd>111</dd>\n",
       "\t<dt>CreatedBy.Alias</dt>\n",
       "\t\t<dd>112</dd>\n",
       "\t<dt>CreatedBy.CreatedDate</dt>\n",
       "\t\t<dd>113</dd>\n",
       "\t<dt>CreatedById</dt>\n",
       "\t\t<dd>114</dd>\n",
       "\t<dt>CreatedDate</dt>\n",
       "\t\t<dd>115</dd>\n",
       "\t<dt>Id</dt>\n",
       "\t\t<dd>117</dd>\n",
       "\t<dt>IsDeleted</dt>\n",
       "\t\t<dd>119</dd>\n",
       "\t<dt>Mpc__c</dt>\n",
       "\t\t<dd>126</dd>\n",
       "\t<dt>PolicyStartDate__c</dt>\n",
       "\t\t<dd>130</dd>\n",
       "\t<dt>ProductScope__c</dt>\n",
       "\t\t<dd>132</dd>\n",
       "\t<dt>Source__c</dt>\n",
       "\t\t<dd>137</dd>\n",
       "\t<dt>WentToPartner__c</dt>\n",
       "\t\t<dd>142</dd>\n",
       "\t<dt>dont_have_this_car__c</dt>\n",
       "\t\t<dd>143</dd>\n",
       "\t<dt>TelehubStatus__c</dt>\n",
       "\t\t<dd>141</dd>\n",
       "</dl>\n"
      ],
      "text/latex": [
       "\\begin{description*}\n",
       "\\item[LastCall\\textbackslash{}\\_\\textbackslash{}\\_c] 120\n",
       "\\item[calculation\\textbackslash{}\\_id] 1\n",
       "\\item[calculation\\textbackslash{}\\_token] 2\n",
       "\\item[etx\\textbackslash{}\\_make\\textbackslash{}\\_name] 3\n",
       "\\item[etx\\textbackslash{}\\_model\\textbackslash{}\\_name] 4\n",
       "\\item[etx\\textbackslash{}\\_fuel\\textbackslash{}\\_code] 5\n",
       "\\item[production\\textbackslash{}\\_year] 6\n",
       "\\item[etx\\textbackslash{}\\_model\\textbackslash{}\\_code] 7\n",
       "\\item[vehicle\\textbackslash{}\\_id] 8\n",
       "\\item[protection\\textbackslash{}\\_scope] 9\n",
       "\\item[kind] 10\n",
       "\\item[usage\\textbackslash{}\\_type] 11\n",
       "\\item[use\\textbackslash{}\\_frequency] 12\n",
       "\\item[child\\textbackslash{}\\_carriage\\textbackslash{}\\_frequency] 13\n",
       "\\item[mileage] 14\n",
       "\\item[yearly\\textbackslash{}\\_mileage] 15\n",
       "\\item[used\\textbackslash{}\\_abroad] 16\n",
       "\\item[night\\textbackslash{}\\_parking\\textbackslash{}\\_place] 17\n",
       "\\item[night\\textbackslash{}\\_parking\\textbackslash{}\\_place\\textbackslash{}\\_postal\\textbackslash{}\\_code] 18\n",
       "\\item[day\\textbackslash{}\\_parking\\textbackslash{}\\_place] 19\n",
       "\\item[day\\textbackslash{}\\_parking\\textbackslash{}\\_place\\textbackslash{}\\_postal\\textbackslash{}\\_code] 20\n",
       "\\item[theft\\textbackslash{}\\_protection\\textbackslash{}\\_installation] 21\n",
       "\\item[theft\\textbackslash{}\\_protection\\textbackslash{}\\_device\\textbackslash{}\\_1] 22\n",
       "\\item[theft\\textbackslash{}\\_protection\\textbackslash{}\\_device\\textbackslash{}\\_2] 23\n",
       "\\item[origin] 24\n",
       "\\item[buy\\textbackslash{}\\_year] 25\n",
       "\\item[registration\\textbackslash{}\\_date] 26\n",
       "\\item[is\\textbackslash{}\\_damaged] 27\n",
       "\\item[leasing] 28\n",
       "\\item[car\\textbackslash{}\\_worth] 29\n",
       "\\item[main\\textbackslash{}\\_driver\\textbackslash{}\\_postal\\textbackslash{}\\_code] 30\n",
       "\\item[main\\textbackslash{}\\_driver\\textbackslash{}\\_age] 31\n",
       "\\item[main\\textbackslash{}\\_driver\\textbackslash{}\\_gender] 32\n",
       "\\item[insurance\\textbackslash{}\\_start\\textbackslash{}\\_date] 33\n",
       "\\item[phone\\textbackslash{}\\_exists] 34\n",
       "\\item[calc\\textbackslash{}\\_complete] 35\n",
       "\\item[calc\\textbackslash{}\\_incomplete] 36\n",
       "\\item[calc\\textbackslash{}\\_finished] 37\n",
       "\\item[phone\\textbackslash{}\\_yes] 38\n",
       "\\item[phone\\textbackslash{}\\_no] 39\n",
       "\\item[calculation\\textbackslash{}\\_type] 40\n",
       "\\item[terms\\textbackslash{}\\_acceptance] 41\n",
       "\\item[phone\\textbackslash{}\\_acceptance] 42\n",
       "\\item[phone\\textbackslash{}\\_accepted] 43\n",
       "\\item[step] 44\n",
       "\\item[created\\textbackslash{}\\_at] 45\n",
       "\\item[created\\textbackslash{}\\_at\\textbackslash{}\\_date] 46\n",
       "\\item[affiliation\\textbackslash{}\\_id] 47\n",
       "\\item[user\\textbackslash{}\\_id] 48\n",
       "\\item[sent\\textbackslash{}\\_to\\textbackslash{}\\_sf] 49\n",
       "\\item[sf\\textbackslash{}\\_r\\textbackslash{}\\_purchasing] 50\n",
       "\\item[calculation\\textbackslash{}\\_state] 51\n",
       "\\item[oc\\textbackslash{}\\_offers\\textbackslash{}\\_qty] 52\n",
       "\\item[oc\\textbackslash{}\\_offer\\textbackslash{}\\_min\\textbackslash{}\\_val] 53\n",
       "\\item[ac\\textbackslash{}\\_offers\\textbackslash{}\\_qty] 54\n",
       "\\item[ac\\textbackslash{}\\_offer\\textbackslash{}\\_min\\textbackslash{}\\_val] 55\n",
       "\\item[b2c\\textbackslash{}\\_leads\\textbackslash{}\\_sent] 56\n",
       "\\item[form\\textbackslash{}\\_finished\\textbackslash{}\\_at] 57\n",
       "\\item[offer\\textbackslash{}\\_first\\textbackslash{}\\_at] 58\n",
       "\\item[offer\\textbackslash{}\\_last\\textbackslash{}\\_at] 59\n",
       "\\item[offer\\textbackslash{}\\_first\\textbackslash{}\\_after] 60\n",
       "\\item[offer\\textbackslash{}\\_last\\textbackslash{}\\_after] 61\n",
       "\\item[phone\\textbackslash{}\\_lookup\\textbackslash{}\\_status] 62\n",
       "\\item[utm\\textbackslash{}\\_campaign] 63\n",
       "\\item[utm\\textbackslash{}\\_content] 64\n",
       "\\item[utm\\textbackslash{}\\_medium] 65\n",
       "\\item[utm\\textbackslash{}\\_source] 66\n",
       "\\item[pkb\\textbackslash{}\\_transform\\textbackslash{}\\_ver] 67\n",
       "\\item[went\\textbackslash{}\\_to\\textbackslash{}\\_partners] 68\n",
       "\\item[contact\\textbackslash{}\\_requests] 69\n",
       "\\item[Acc\\textbackslash{}\\_Agreement\\textbackslash{}\\_call\\textbackslash{}\\_\\textbackslash{}\\_c] 75\n",
       "\\item[Acc\\textbackslash{}\\_Agreement\\textbackslash{}\\_marketing\\textbackslash{}\\_\\textbackslash{}\\_c] 76\n",
       "\\item[Acc\\textbackslash{}\\_Agreement\\textbackslash{}\\_newsletter\\textbackslash{}\\_\\textbackslash{}\\_c] 77\n",
       "\\item[Acc\\textbackslash{}\\_Birthdate\\textbackslash{}\\_\\textbackslash{}\\_c] 78\n",
       "\\item[Acc\\textbackslash{}\\_PhoneHLRStatus\\textbackslash{}\\_\\textbackslash{}\\_c] 79\n",
       "\\item[Account\\textbackslash{}\\_\\textbackslash{}\\_r.AccountSource] 81\n",
       "\\item[Account\\textbackslash{}\\_\\textbackslash{}\\_r.AgreementCall\\textbackslash{}\\_\\textbackslash{}\\_pc] 82\n",
       "\\item[Account\\textbackslash{}\\_\\textbackslash{}\\_r.AgreementMarketing\\textbackslash{}\\_\\textbackslash{}\\_pc] 83\n",
       "\\item[Account\\textbackslash{}\\_\\textbackslash{}\\_r.AgreementNewsletter\\textbackslash{}\\_\\textbackslash{}\\_pc] 84\n",
       "\\item[Account\\textbackslash{}\\_\\textbackslash{}\\_r.BillingCity] 85\n",
       "\\item[Account\\textbackslash{}\\_\\textbackslash{}\\_r.BillingPostalCode] 86\n",
       "\\item[Account\\textbackslash{}\\_\\textbackslash{}\\_r.CreatedById] 87\n",
       "\\item[Account\\textbackslash{}\\_\\textbackslash{}\\_r.CreatedDate] 88\n",
       "\\item[Account\\textbackslash{}\\_\\textbackslash{}\\_r.Gender\\textbackslash{}\\_\\textbackslash{}\\_pc] 89\n",
       "\\item[Account\\textbackslash{}\\_\\textbackslash{}\\_r.Id] 90\n",
       "\\item[Account\\textbackslash{}\\_\\textbackslash{}\\_r.IsDeleted] 91\n",
       "\\item[Account\\textbackslash{}\\_\\textbackslash{}\\_r.IsPersonAccount] 92\n",
       "\\item[Account\\textbackslash{}\\_\\textbackslash{}\\_r.LegacyID\\textbackslash{}\\_\\textbackslash{}\\_c] 95\n",
       "\\item[Account\\textbackslash{}\\_\\textbackslash{}\\_r.OwnerId] 96\n",
       "\\item[Account\\textbackslash{}\\_\\textbackslash{}\\_r.PersonBirthdate] 97\n",
       "\\item[Account\\textbackslash{}\\_\\textbackslash{}\\_r.PersonContactId] 98\n",
       "\\item[Account\\textbackslash{}\\_\\textbackslash{}\\_r.PhoneHLRStatus\\textbackslash{}\\_\\textbackslash{}\\_pc] 99\n",
       "\\item[Account\\textbackslash{}\\_\\textbackslash{}\\_r.PhoneNATStatus\\textbackslash{}\\_\\textbackslash{}\\_pc] 100\n",
       "\\item[Account\\textbackslash{}\\_\\textbackslash{}\\_r.RecordTypeId] 101\n",
       "\\item[Account\\textbackslash{}\\_\\textbackslash{}\\_r.Salutation] 102\n",
       "\\item[Account\\textbackslash{}\\_\\textbackslash{}\\_r.Type] 103\n",
       "\\item[CalculationToken\\textbackslash{}\\_\\textbackslash{}\\_c] 104\n",
       "\\item[CarEngineCapacity\\textbackslash{}\\_\\textbackslash{}\\_c] 105\n",
       "\\item[CarFuelType\\textbackslash{}\\_\\textbackslash{}\\_c] 106\n",
       "\\item[CarMake\\textbackslash{}\\_\\textbackslash{}\\_c] 107\n",
       "\\item[CarModel\\textbackslash{}\\_\\textbackslash{}\\_c] 108\n",
       "\\item[CarYear\\textbackslash{}\\_\\textbackslash{}\\_c] 109\n",
       "\\item[CpcPaid\\textbackslash{}\\_\\textbackslash{}\\_c] 111\n",
       "\\item[CreatedBy.Alias] 112\n",
       "\\item[CreatedBy.CreatedDate] 113\n",
       "\\item[CreatedById] 114\n",
       "\\item[CreatedDate] 115\n",
       "\\item[Id] 117\n",
       "\\item[IsDeleted] 119\n",
       "\\item[Mpc\\textbackslash{}\\_\\textbackslash{}\\_c] 126\n",
       "\\item[PolicyStartDate\\textbackslash{}\\_\\textbackslash{}\\_c] 130\n",
       "\\item[ProductScope\\textbackslash{}\\_\\textbackslash{}\\_c] 132\n",
       "\\item[Source\\textbackslash{}\\_\\textbackslash{}\\_c] 137\n",
       "\\item[WentToPartner\\textbackslash{}\\_\\textbackslash{}\\_c] 142\n",
       "\\item[dont\\textbackslash{}\\_have\\textbackslash{}\\_this\\textbackslash{}\\_car\\textbackslash{}\\_\\textbackslash{}\\_c] 143\n",
       "\\item[TelehubStatus\\textbackslash{}\\_\\textbackslash{}\\_c] 141\n",
       "\\end{description*}\n"
      ],
      "text/markdown": [
       "LastCall__c\n",
       ":   120calculation_id\n",
       ":   1calculation_token\n",
       ":   2etx_make_name\n",
       ":   3etx_model_name\n",
       ":   4etx_fuel_code\n",
       ":   5production_year\n",
       ":   6etx_model_code\n",
       ":   7vehicle_id\n",
       ":   8protection_scope\n",
       ":   9kind\n",
       ":   10usage_type\n",
       ":   11use_frequency\n",
       ":   12child_carriage_frequency\n",
       ":   13mileage\n",
       ":   14yearly_mileage\n",
       ":   15used_abroad\n",
       ":   16night_parking_place\n",
       ":   17night_parking_place_postal_code\n",
       ":   18day_parking_place\n",
       ":   19day_parking_place_postal_code\n",
       ":   20theft_protection_installation\n",
       ":   21theft_protection_device_1\n",
       ":   22theft_protection_device_2\n",
       ":   23origin\n",
       ":   24buy_year\n",
       ":   25registration_date\n",
       ":   26is_damaged\n",
       ":   27leasing\n",
       ":   28car_worth\n",
       ":   29main_driver_postal_code\n",
       ":   30main_driver_age\n",
       ":   31main_driver_gender\n",
       ":   32insurance_start_date\n",
       ":   33phone_exists\n",
       ":   34calc_complete\n",
       ":   35calc_incomplete\n",
       ":   36calc_finished\n",
       ":   37phone_yes\n",
       ":   38phone_no\n",
       ":   39calculation_type\n",
       ":   40terms_acceptance\n",
       ":   41phone_acceptance\n",
       ":   42phone_accepted\n",
       ":   43step\n",
       ":   44created_at\n",
       ":   45created_at_date\n",
       ":   46affiliation_id\n",
       ":   47user_id\n",
       ":   48sent_to_sf\n",
       ":   49sf_r_purchasing\n",
       ":   50calculation_state\n",
       ":   51oc_offers_qty\n",
       ":   52oc_offer_min_val\n",
       ":   53ac_offers_qty\n",
       ":   54ac_offer_min_val\n",
       ":   55b2c_leads_sent\n",
       ":   56form_finished_at\n",
       ":   57offer_first_at\n",
       ":   58offer_last_at\n",
       ":   59offer_first_after\n",
       ":   60offer_last_after\n",
       ":   61phone_lookup_status\n",
       ":   62utm_campaign\n",
       ":   63utm_content\n",
       ":   64utm_medium\n",
       ":   65utm_source\n",
       ":   66pkb_transform_ver\n",
       ":   67went_to_partners\n",
       ":   68contact_requests\n",
       ":   69Acc_Agreement_call__c\n",
       ":   75Acc_Agreement_marketing__c\n",
       ":   76Acc_Agreement_newsletter__c\n",
       ":   77Acc_Birthdate__c\n",
       ":   78Acc_PhoneHLRStatus__c\n",
       ":   79Account__r.AccountSource\n",
       ":   81Account__r.AgreementCall__pc\n",
       ":   82Account__r.AgreementMarketing__pc\n",
       ":   83Account__r.AgreementNewsletter__pc\n",
       ":   84Account__r.BillingCity\n",
       ":   85Account__r.BillingPostalCode\n",
       ":   86Account__r.CreatedById\n",
       ":   87Account__r.CreatedDate\n",
       ":   88Account__r.Gender__pc\n",
       ":   89Account__r.Id\n",
       ":   90Account__r.IsDeleted\n",
       ":   91Account__r.IsPersonAccount\n",
       ":   92Account__r.LegacyID__c\n",
       ":   95Account__r.OwnerId\n",
       ":   96Account__r.PersonBirthdate\n",
       ":   97Account__r.PersonContactId\n",
       ":   98Account__r.PhoneHLRStatus__pc\n",
       ":   99Account__r.PhoneNATStatus__pc\n",
       ":   100Account__r.RecordTypeId\n",
       ":   101Account__r.Salutation\n",
       ":   102Account__r.Type\n",
       ":   103CalculationToken__c\n",
       ":   104CarEngineCapacity__c\n",
       ":   105CarFuelType__c\n",
       ":   106CarMake__c\n",
       ":   107CarModel__c\n",
       ":   108CarYear__c\n",
       ":   109CpcPaid__c\n",
       ":   111CreatedBy.Alias\n",
       ":   112CreatedBy.CreatedDate\n",
       ":   113CreatedById\n",
       ":   114CreatedDate\n",
       ":   115Id\n",
       ":   117IsDeleted\n",
       ":   119Mpc__c\n",
       ":   126PolicyStartDate__c\n",
       ":   130ProductScope__c\n",
       ":   132Source__c\n",
       ":   137WentToPartner__c\n",
       ":   142dont_have_this_car__c\n",
       ":   143TelehubStatus__c\n",
       ":   141\n",
       "\n"
      ],
      "text/plain": [
       "                       LastCall__c                     calculation_id \n",
       "                               120                                  1 \n",
       "                 calculation_token                      etx_make_name \n",
       "                                 2                                  3 \n",
       "                    etx_model_name                      etx_fuel_code \n",
       "                                 4                                  5 \n",
       "                   production_year                     etx_model_code \n",
       "                                 6                                  7 \n",
       "                        vehicle_id                   protection_scope \n",
       "                                 8                                  9 \n",
       "                              kind                         usage_type \n",
       "                                10                                 11 \n",
       "                     use_frequency           child_carriage_frequency \n",
       "                                12                                 13 \n",
       "                           mileage                     yearly_mileage \n",
       "                                14                                 15 \n",
       "                       used_abroad                night_parking_place \n",
       "                                16                                 17 \n",
       "   night_parking_place_postal_code                  day_parking_place \n",
       "                                18                                 19 \n",
       "     day_parking_place_postal_code      theft_protection_installation \n",
       "                                20                                 21 \n",
       "         theft_protection_device_1          theft_protection_device_2 \n",
       "                                22                                 23 \n",
       "                            origin                           buy_year \n",
       "                                24                                 25 \n",
       "                 registration_date                         is_damaged \n",
       "                                26                                 27 \n",
       "                           leasing                          car_worth \n",
       "                                28                                 29 \n",
       "           main_driver_postal_code                    main_driver_age \n",
       "                                30                                 31 \n",
       "                main_driver_gender               insurance_start_date \n",
       "                                32                                 33 \n",
       "                      phone_exists                      calc_complete \n",
       "                                34                                 35 \n",
       "                   calc_incomplete                      calc_finished \n",
       "                                36                                 37 \n",
       "                         phone_yes                           phone_no \n",
       "                                38                                 39 \n",
       "                  calculation_type                   terms_acceptance \n",
       "                                40                                 41 \n",
       "                  phone_acceptance                     phone_accepted \n",
       "                                42                                 43 \n",
       "                              step                         created_at \n",
       "                                44                                 45 \n",
       "                   created_at_date                     affiliation_id \n",
       "                                46                                 47 \n",
       "                           user_id                         sent_to_sf \n",
       "                                48                                 49 \n",
       "                   sf_r_purchasing                  calculation_state \n",
       "                                50                                 51 \n",
       "                     oc_offers_qty                   oc_offer_min_val \n",
       "                                52                                 53 \n",
       "                     ac_offers_qty                   ac_offer_min_val \n",
       "                                54                                 55 \n",
       "                    b2c_leads_sent                   form_finished_at \n",
       "                                56                                 57 \n",
       "                    offer_first_at                      offer_last_at \n",
       "                                58                                 59 \n",
       "                 offer_first_after                   offer_last_after \n",
       "                                60                                 61 \n",
       "               phone_lookup_status                       utm_campaign \n",
       "                                62                                 63 \n",
       "                       utm_content                         utm_medium \n",
       "                                64                                 65 \n",
       "                        utm_source                  pkb_transform_ver \n",
       "                                66                                 67 \n",
       "                  went_to_partners                   contact_requests \n",
       "                                68                                 69 \n",
       "             Acc_Agreement_call__c         Acc_Agreement_marketing__c \n",
       "                                75                                 76 \n",
       "       Acc_Agreement_newsletter__c                   Acc_Birthdate__c \n",
       "                                77                                 78 \n",
       "             Acc_PhoneHLRStatus__c           Account__r.AccountSource \n",
       "                                79                                 81 \n",
       "      Account__r.AgreementCall__pc  Account__r.AgreementMarketing__pc \n",
       "                                82                                 83 \n",
       "Account__r.AgreementNewsletter__pc             Account__r.BillingCity \n",
       "                                84                                 85 \n",
       "      Account__r.BillingPostalCode             Account__r.CreatedById \n",
       "                                86                                 87 \n",
       "            Account__r.CreatedDate              Account__r.Gender__pc \n",
       "                                88                                 89 \n",
       "                     Account__r.Id               Account__r.IsDeleted \n",
       "                                90                                 91 \n",
       "        Account__r.IsPersonAccount             Account__r.LegacyID__c \n",
       "                                92                                 95 \n",
       "                Account__r.OwnerId         Account__r.PersonBirthdate \n",
       "                                96                                 97 \n",
       "        Account__r.PersonContactId      Account__r.PhoneHLRStatus__pc \n",
       "                                98                                 99 \n",
       "     Account__r.PhoneNATStatus__pc            Account__r.RecordTypeId \n",
       "                               100                                101 \n",
       "             Account__r.Salutation                    Account__r.Type \n",
       "                               102                                103 \n",
       "               CalculationToken__c               CarEngineCapacity__c \n",
       "                               104                                105 \n",
       "                    CarFuelType__c                         CarMake__c \n",
       "                               106                                107 \n",
       "                       CarModel__c                         CarYear__c \n",
       "                               108                                109 \n",
       "                        CpcPaid__c                    CreatedBy.Alias \n",
       "                               111                                112 \n",
       "             CreatedBy.CreatedDate                        CreatedById \n",
       "                               113                                114 \n",
       "                       CreatedDate                                 Id \n",
       "                               115                                117 \n",
       "                         IsDeleted                             Mpc__c \n",
       "                               119                                126 \n",
       "                PolicyStartDate__c                    ProductScope__c \n",
       "                               130                                132 \n",
       "                         Source__c                   WentToPartner__c \n",
       "                               137                                142 \n",
       "             dont_have_this_car__c                   TelehubStatus__c \n",
       "                               143                                141 "
      ]
     },
     "metadata": {},
     "output_type": "display_data"
    }
   ],
   "source": [
    "unlist(indices)"
   ]
  },
  {
   "cell_type": "code",
   "execution_count": 366,
   "metadata": {
    "collapsed": true
   },
   "outputs": [],
   "source": [
    "#wlasciwa ramka danych - to co w testowym + etykieta\n",
    "train = df[,c(unlist(indices),labelindex)]"
   ]
  },
  {
   "cell_type": "code",
   "execution_count": 367,
   "metadata": {},
   "outputs": [
    {
     "data": {
      "text/html": [
       "117"
      ],
      "text/latex": [
       "117"
      ],
      "text/markdown": [
       "117"
      ],
      "text/plain": [
       "[1] 117"
      ]
     },
     "metadata": {},
     "output_type": "display_data"
    }
   ],
   "source": [
    "ncol(train)"
   ]
  },
  {
   "cell_type": "code",
   "execution_count": 368,
   "metadata": {},
   "outputs": [
    {
     "data": {
      "text/html": [
       "<table>\n",
       "<thead><tr><th></th><th scope=col>LastCall__c</th><th scope=col>calculation_id</th><th scope=col>calculation_token</th><th scope=col>etx_make_name</th><th scope=col>etx_model_name</th><th scope=col>etx_fuel_code</th><th scope=col>production_year</th><th scope=col>etx_model_code</th><th scope=col>vehicle_id</th><th scope=col>protection_scope</th><th scope=col>⋯</th><th scope=col>Id</th><th scope=col>IsDeleted</th><th scope=col>Mpc__c</th><th scope=col>PolicyStartDate__c</th><th scope=col>ProductScope__c</th><th scope=col>Source__c</th><th scope=col>WentToPartner__c</th><th scope=col>dont_have_this_car__c</th><th scope=col>TelehubStatus__c</th><th scope=col>Sale.success</th></tr></thead>\n",
       "<tbody>\n",
       "\t<tr><th scope=row>1</th><td>NA                </td><td>1847410           </td><td>Fc5o2b            </td><td>RENAULT           </td><td>Megane            </td><td>100001            </td><td>1997              </td><td>8191              </td><td>7045              </td><td>1                 </td><td>⋯                 </td><td>a00410000086mtqAAA</td><td>FALSE             </td><td>NA                </td><td>42811             </td><td>OC                </td><td>full_calc         </td><td>FALSE             </td><td>FALSE             </td><td>NA                </td><td>0                 </td></tr>\n",
       "\t<tr><th scope=row>3</th><td>NA                </td><td>1847453           </td><td>dRXV5F            </td><td>MAZDA             </td><td>323               </td><td>100001            </td><td>1996              </td><td>7884              </td><td>34707             </td><td>1                 </td><td>⋯                 </td><td>a00410000086mniAAA</td><td>FALSE             </td><td>NA                </td><td>42794             </td><td>OC                </td><td>full_calc         </td><td>FALSE             </td><td>FALSE             </td><td>NA                </td><td>0                 </td></tr>\n",
       "\t<tr><th scope=row>4</th><td>NA                </td><td>1847456           </td><td>eRdBt1            </td><td>AUDI              </td><td>Q7                </td><td>100003            </td><td>2007              </td><td>12113             </td><td>60275             </td><td>2                 </td><td>⋯                 </td><td>a00410000086lSqAAI</td><td>FALSE             </td><td>NA                </td><td>42795             </td><td>OC+AC             </td><td>full_calc         </td><td>FALSE             </td><td>FALSE             </td><td>NA                </td><td>0                 </td></tr>\n",
       "\t<tr><th scope=row>5</th><td>NA                </td><td>1847478           </td><td>ZWLyxM            </td><td>VOLKSWAGEN        </td><td>Passat            </td><td>100003            </td><td>2001              </td><td>10533             </td><td>41583             </td><td>1                 </td><td>⋯                 </td><td>a00410000086mwuAAA</td><td>FALSE             </td><td>NA                </td><td>42807             </td><td>OC                </td><td>full_calc         </td><td> TRUE             </td><td>FALSE             </td><td>NA                </td><td>0                 </td></tr>\n",
       "\t<tr><th scope=row>6</th><td>NA                </td><td>1847487           </td><td>rCzLgy            </td><td>PEUGEOT           </td><td>406               </td><td>100003            </td><td>2000              </td><td>9674              </td><td>36042             </td><td>1                 </td><td>⋯                 </td><td>a00410000086mzKAAQ</td><td>FALSE             </td><td>NA                </td><td>42803             </td><td>OC                </td><td>full_calc         </td><td>FALSE             </td><td>FALSE             </td><td>NA                </td><td>0                 </td></tr>\n",
       "\t<tr><th scope=row>7</th><td>NA                </td><td>1847494           </td><td>A1_zH9            </td><td>SKODA             </td><td>Fabia             </td><td>100001            </td><td>2001              </td><td>10269             </td><td>44128             </td><td>1                 </td><td>⋯                 </td><td>a00410000086mvDAAQ</td><td>FALSE             </td><td>NA                </td><td>42822             </td><td>OC                </td><td>full_calc         </td><td>FALSE             </td><td>FALSE             </td><td>NA                </td><td>1                 </td></tr>\n",
       "</tbody>\n",
       "</table>\n"
      ],
      "text/latex": [
       "\\begin{tabular}{r|lllllllllllllllllllllllllllllllllllllllllllllllllllllllllllllllllllllllllllllllllllllllllllllllllllllllllllllllllllll}\n",
       "  & LastCall\\_\\_c & calculation\\_id & calculation\\_token & etx\\_make\\_name & etx\\_model\\_name & etx\\_fuel\\_code & production\\_year & etx\\_model\\_code & vehicle\\_id & protection\\_scope & ⋯ & Id & IsDeleted & Mpc\\_\\_c & PolicyStartDate\\_\\_c & ProductScope\\_\\_c & Source\\_\\_c & WentToPartner\\_\\_c & dont\\_have\\_this\\_car\\_\\_c & TelehubStatus\\_\\_c & Sale.success\\\\\n",
       "\\hline\n",
       "\t1 & NA                 & 1847410            & Fc5o2b             & RENAULT            & Megane             & 100001             & 1997               & 8191               & 7045               & 1                  & ⋯                  & a00410000086mtqAAA & FALSE              & NA                 & 42811              & OC                 & full\\_calc        & FALSE              & FALSE              & NA                 & 0                 \\\\\n",
       "\t3 & NA                 & 1847453            & dRXV5F             & MAZDA              & 323                & 100001             & 1996               & 7884               & 34707              & 1                  & ⋯                  & a00410000086mniAAA & FALSE              & NA                 & 42794              & OC                 & full\\_calc        & FALSE              & FALSE              & NA                 & 0                 \\\\\n",
       "\t4 & NA                 & 1847456            & eRdBt1             & AUDI               & Q7                 & 100003             & 2007               & 12113              & 60275              & 2                  & ⋯                  & a00410000086lSqAAI & FALSE              & NA                 & 42795              & OC+AC              & full\\_calc        & FALSE              & FALSE              & NA                 & 0                 \\\\\n",
       "\t5 & NA                 & 1847478            & ZWLyxM             & VOLKSWAGEN         & Passat             & 100003             & 2001               & 10533              & 41583              & 1                  & ⋯                  & a00410000086mwuAAA & FALSE              & NA                 & 42807              & OC                 & full\\_calc        &  TRUE              & FALSE              & NA                 & 0                 \\\\\n",
       "\t6 & NA                 & 1847487            & rCzLgy             & PEUGEOT            & 406                & 100003             & 2000               & 9674               & 36042              & 1                  & ⋯                  & a00410000086mzKAAQ & FALSE              & NA                 & 42803              & OC                 & full\\_calc        & FALSE              & FALSE              & NA                 & 0                 \\\\\n",
       "\t7 & NA                 & 1847494            & A1\\_zH9           & SKODA              & Fabia              & 100001             & 2001               & 10269              & 44128              & 1                  & ⋯                  & a00410000086mvDAAQ & FALSE              & NA                 & 42822              & OC                 & full\\_calc        & FALSE              & FALSE              & NA                 & 1                 \\\\\n",
       "\\end{tabular}\n"
      ],
      "text/markdown": [
       "\n",
       "| <!--/--> | LastCall__c | calculation_id | calculation_token | etx_make_name | etx_model_name | etx_fuel_code | production_year | etx_model_code | vehicle_id | protection_scope | ⋯ | Id | IsDeleted | Mpc__c | PolicyStartDate__c | ProductScope__c | Source__c | WentToPartner__c | dont_have_this_car__c | TelehubStatus__c | Sale.success | \n",
       "|---|---|---|---|---|---|\n",
       "| 1 | NA                 | 1847410            | Fc5o2b             | RENAULT            | Megane             | 100001             | 1997               | 8191               | 7045               | 1                  | ⋯                  | a00410000086mtqAAA | FALSE              | NA                 | 42811              | OC                 | full_calc          | FALSE              | FALSE              | NA                 | 0                  | \n",
       "| 3 | NA                 | 1847453            | dRXV5F             | MAZDA              | 323                | 100001             | 1996               | 7884               | 34707              | 1                  | ⋯                  | a00410000086mniAAA | FALSE              | NA                 | 42794              | OC                 | full_calc          | FALSE              | FALSE              | NA                 | 0                  | \n",
       "| 4 | NA                 | 1847456            | eRdBt1             | AUDI               | Q7                 | 100003             | 2007               | 12113              | 60275              | 2                  | ⋯                  | a00410000086lSqAAI | FALSE              | NA                 | 42795              | OC+AC              | full_calc          | FALSE              | FALSE              | NA                 | 0                  | \n",
       "| 5 | NA                 | 1847478            | ZWLyxM             | VOLKSWAGEN         | Passat             | 100003             | 2001               | 10533              | 41583              | 1                  | ⋯                  | a00410000086mwuAAA | FALSE              | NA                 | 42807              | OC                 | full_calc          |  TRUE              | FALSE              | NA                 | 0                  | \n",
       "| 6 | NA                 | 1847487            | rCzLgy             | PEUGEOT            | 406                | 100003             | 2000               | 9674               | 36042              | 1                  | ⋯                  | a00410000086mzKAAQ | FALSE              | NA                 | 42803              | OC                 | full_calc          | FALSE              | FALSE              | NA                 | 0                  | \n",
       "| 7 | NA                 | 1847494            | A1_zH9             | SKODA              | Fabia              | 100001             | 2001               | 10269              | 44128              | 1                  | ⋯                  | a00410000086mvDAAQ | FALSE              | NA                 | 42822              | OC                 | full_calc          | FALSE              | FALSE              | NA                 | 1                  | \n",
       "\n",
       "\n"
      ],
      "text/plain": [
       "  LastCall__c calculation_id calculation_token etx_make_name etx_model_name\n",
       "1 NA          1847410        Fc5o2b            RENAULT       Megane        \n",
       "3 NA          1847453        dRXV5F            MAZDA         323           \n",
       "4 NA          1847456        eRdBt1            AUDI          Q7            \n",
       "5 NA          1847478        ZWLyxM            VOLKSWAGEN    Passat        \n",
       "6 NA          1847487        rCzLgy            PEUGEOT       406           \n",
       "7 NA          1847494        A1_zH9            SKODA         Fabia         \n",
       "  etx_fuel_code production_year etx_model_code vehicle_id protection_scope ⋯\n",
       "1 100001        1997            8191           7045       1                ⋯\n",
       "3 100001        1996            7884           34707      1                ⋯\n",
       "4 100003        2007            12113          60275      2                ⋯\n",
       "5 100003        2001            10533          41583      1                ⋯\n",
       "6 100003        2000            9674           36042      1                ⋯\n",
       "7 100001        2001            10269          44128      1                ⋯\n",
       "  Id                 IsDeleted Mpc__c PolicyStartDate__c ProductScope__c\n",
       "1 a00410000086mtqAAA FALSE     NA     42811              OC             \n",
       "3 a00410000086mniAAA FALSE     NA     42794              OC             \n",
       "4 a00410000086lSqAAI FALSE     NA     42795              OC+AC          \n",
       "5 a00410000086mwuAAA FALSE     NA     42807              OC             \n",
       "6 a00410000086mzKAAQ FALSE     NA     42803              OC             \n",
       "7 a00410000086mvDAAQ FALSE     NA     42822              OC             \n",
       "  Source__c WentToPartner__c dont_have_this_car__c TelehubStatus__c\n",
       "1 full_calc FALSE            FALSE                 NA              \n",
       "3 full_calc FALSE            FALSE                 NA              \n",
       "4 full_calc FALSE            FALSE                 NA              \n",
       "5 full_calc  TRUE            FALSE                 NA              \n",
       "6 full_calc FALSE            FALSE                 NA              \n",
       "7 full_calc FALSE            FALSE                 NA              \n",
       "  Sale.success\n",
       "1 0           \n",
       "3 0           \n",
       "4 0           \n",
       "5 0           \n",
       "6 0           \n",
       "7 1           "
      ]
     },
     "metadata": {},
     "output_type": "display_data"
    }
   ],
   "source": [
    "head(train)"
   ]
  },
  {
   "cell_type": "markdown",
   "metadata": {},
   "source": [
    "## usuwanie identyfikatorów"
   ]
  },
  {
   "cell_type": "code",
   "execution_count": 369,
   "metadata": {},
   "outputs": [
    {
     "data": {
      "text/html": [
       "<ol class=list-inline>\n",
       "\t<li>'calculation_id'</li>\n",
       "\t<li>'vehicle_id'</li>\n",
       "\t<li>'affiliation_id'</li>\n",
       "\t<li>'user_id'</li>\n",
       "\t<li>'Account__r.CreatedById'</li>\n",
       "\t<li>'Account__r.Id'</li>\n",
       "\t<li>'Account__r.LegacyID__c'</li>\n",
       "\t<li>'Account__r.OwnerId'</li>\n",
       "\t<li>'Account__r.PersonContactId'</li>\n",
       "\t<li>'Account__r.RecordTypeId'</li>\n",
       "\t<li>'CpcPaid__c'</li>\n",
       "\t<li>'CreatedById'</li>\n",
       "\t<li>'Id'</li>\n",
       "</ol>\n"
      ],
      "text/latex": [
       "\\begin{enumerate*}\n",
       "\\item 'calculation\\_id'\n",
       "\\item 'vehicle\\_id'\n",
       "\\item 'affiliation\\_id'\n",
       "\\item 'user\\_id'\n",
       "\\item 'Account\\_\\_r.CreatedById'\n",
       "\\item 'Account\\_\\_r.Id'\n",
       "\\item 'Account\\_\\_r.LegacyID\\_\\_c'\n",
       "\\item 'Account\\_\\_r.OwnerId'\n",
       "\\item 'Account\\_\\_r.PersonContactId'\n",
       "\\item 'Account\\_\\_r.RecordTypeId'\n",
       "\\item 'CpcPaid\\_\\_c'\n",
       "\\item 'CreatedById'\n",
       "\\item 'Id'\n",
       "\\end{enumerate*}\n"
      ],
      "text/markdown": [
       "1. 'calculation_id'\n",
       "2. 'vehicle_id'\n",
       "3. 'affiliation_id'\n",
       "4. 'user_id'\n",
       "5. 'Account__r.CreatedById'\n",
       "6. 'Account__r.Id'\n",
       "7. 'Account__r.LegacyID__c'\n",
       "8. 'Account__r.OwnerId'\n",
       "9. 'Account__r.PersonContactId'\n",
       "10. 'Account__r.RecordTypeId'\n",
       "11. 'CpcPaid__c'\n",
       "12. 'CreatedById'\n",
       "13. 'Id'\n",
       "\n",
       "\n"
      ],
      "text/plain": [
       " [1] \"calculation_id\"             \"vehicle_id\"                \n",
       " [3] \"affiliation_id\"             \"user_id\"                   \n",
       " [5] \"Account__r.CreatedById\"     \"Account__r.Id\"             \n",
       " [7] \"Account__r.LegacyID__c\"     \"Account__r.OwnerId\"        \n",
       " [9] \"Account__r.PersonContactId\" \"Account__r.RecordTypeId\"   \n",
       "[11] \"CpcPaid__c\"                 \"CreatedById\"               \n",
       "[13] \"Id\"                        "
      ]
     },
     "metadata": {},
     "output_type": "display_data"
    }
   ],
   "source": [
    "colnames(train)[grepl(\".*id.*\", colnames(train), ignore.case = T)]"
   ]
  },
  {
   "cell_type": "code",
   "execution_count": 370,
   "metadata": {
    "collapsed": true
   },
   "outputs": [],
   "source": [
    "ids = which(grepl(\".*id.*\",colnames(train),ignore.case=T))"
   ]
  },
  {
   "cell_type": "code",
   "execution_count": 371,
   "metadata": {},
   "outputs": [
    {
     "data": {
      "text/html": [
       "<ol class=list-inline>\n",
       "\t<li>2</li>\n",
       "\t<li>9</li>\n",
       "\t<li>48</li>\n",
       "\t<li>49</li>\n",
       "\t<li>82</li>\n",
       "\t<li>85</li>\n",
       "\t<li>88</li>\n",
       "\t<li>89</li>\n",
       "\t<li>91</li>\n",
       "\t<li>94</li>\n",
       "\t<li>103</li>\n",
       "\t<li>106</li>\n",
       "\t<li>108</li>\n",
       "</ol>\n"
      ],
      "text/latex": [
       "\\begin{enumerate*}\n",
       "\\item 2\n",
       "\\item 9\n",
       "\\item 48\n",
       "\\item 49\n",
       "\\item 82\n",
       "\\item 85\n",
       "\\item 88\n",
       "\\item 89\n",
       "\\item 91\n",
       "\\item 94\n",
       "\\item 103\n",
       "\\item 106\n",
       "\\item 108\n",
       "\\end{enumerate*}\n"
      ],
      "text/markdown": [
       "1. 2\n",
       "2. 9\n",
       "3. 48\n",
       "4. 49\n",
       "5. 82\n",
       "6. 85\n",
       "7. 88\n",
       "8. 89\n",
       "9. 91\n",
       "10. 94\n",
       "11. 103\n",
       "12. 106\n",
       "13. 108\n",
       "\n",
       "\n"
      ],
      "text/plain": [
       " [1]   2   9  48  49  82  85  88  89  91  94 103 106 108"
      ]
     },
     "metadata": {},
     "output_type": "display_data"
    }
   ],
   "source": [
    "#identyfikatory, do usuniecia\n",
    "ids"
   ]
  },
  {
   "cell_type": "code",
   "execution_count": 372,
   "metadata": {},
   "outputs": [
    {
     "data": {
      "text/html": [
       "<ol class=list-inline>\n",
       "\t<li>'calculation_id'</li>\n",
       "\t<li>'vehicle_id'</li>\n",
       "\t<li>'affiliation_id'</li>\n",
       "\t<li>'user_id'</li>\n",
       "\t<li>'Account__r.CreatedById'</li>\n",
       "\t<li>'Account__r.Id'</li>\n",
       "\t<li>'Account__r.LegacyID__c'</li>\n",
       "\t<li>'Account__r.OwnerId'</li>\n",
       "\t<li>'Account__r.PersonContactId'</li>\n",
       "\t<li>'Account__r.RecordTypeId'</li>\n",
       "\t<li>'CpcPaid__c'</li>\n",
       "\t<li>'CreatedById'</li>\n",
       "\t<li>'Id'</li>\n",
       "</ol>\n"
      ],
      "text/latex": [
       "\\begin{enumerate*}\n",
       "\\item 'calculation\\_id'\n",
       "\\item 'vehicle\\_id'\n",
       "\\item 'affiliation\\_id'\n",
       "\\item 'user\\_id'\n",
       "\\item 'Account\\_\\_r.CreatedById'\n",
       "\\item 'Account\\_\\_r.Id'\n",
       "\\item 'Account\\_\\_r.LegacyID\\_\\_c'\n",
       "\\item 'Account\\_\\_r.OwnerId'\n",
       "\\item 'Account\\_\\_r.PersonContactId'\n",
       "\\item 'Account\\_\\_r.RecordTypeId'\n",
       "\\item 'CpcPaid\\_\\_c'\n",
       "\\item 'CreatedById'\n",
       "\\item 'Id'\n",
       "\\end{enumerate*}\n"
      ],
      "text/markdown": [
       "1. 'calculation_id'\n",
       "2. 'vehicle_id'\n",
       "3. 'affiliation_id'\n",
       "4. 'user_id'\n",
       "5. 'Account__r.CreatedById'\n",
       "6. 'Account__r.Id'\n",
       "7. 'Account__r.LegacyID__c'\n",
       "8. 'Account__r.OwnerId'\n",
       "9. 'Account__r.PersonContactId'\n",
       "10. 'Account__r.RecordTypeId'\n",
       "11. 'CpcPaid__c'\n",
       "12. 'CreatedById'\n",
       "13. 'Id'\n",
       "\n",
       "\n"
      ],
      "text/plain": [
       " [1] \"calculation_id\"             \"vehicle_id\"                \n",
       " [3] \"affiliation_id\"             \"user_id\"                   \n",
       " [5] \"Account__r.CreatedById\"     \"Account__r.Id\"             \n",
       " [7] \"Account__r.LegacyID__c\"     \"Account__r.OwnerId\"        \n",
       " [9] \"Account__r.PersonContactId\" \"Account__r.RecordTypeId\"   \n",
       "[11] \"CpcPaid__c\"                 \"CreatedById\"               \n",
       "[13] \"Id\"                        "
      ]
     },
     "metadata": {},
     "output_type": "display_data"
    }
   ],
   "source": [
    "colnames(train)[ids]"
   ]
  },
  {
   "cell_type": "code",
   "execution_count": 373,
   "metadata": {
    "collapsed": true
   },
   "outputs": [],
   "source": [
    "#ta kolumna moze sie przydac\n",
    "cpcpaid = which(colnames(train)=='CpcPaid__c')"
   ]
  },
  {
   "cell_type": "code",
   "execution_count": 374,
   "metadata": {},
   "outputs": [
    {
     "data": {
      "text/html": [
       "103"
      ],
      "text/latex": [
       "103"
      ],
      "text/markdown": [
       "103"
      ],
      "text/plain": [
       "[1] 103"
      ]
     },
     "metadata": {},
     "output_type": "display_data"
    }
   ],
   "source": [
    "cpcpaid"
   ]
  },
  {
   "cell_type": "code",
   "execution_count": 375,
   "metadata": {
    "collapsed": true
   },
   "outputs": [],
   "source": [
    "#token kalkulacji nie jest potrzebny\n",
    "calctokenid = which(colnames(train)=='calculation_token')"
   ]
  },
  {
   "cell_type": "code",
   "execution_count": 376,
   "metadata": {
    "collapsed": true
   },
   "outputs": [],
   "source": [
    "ids = c(ids[ids!=cpcpaid],calctokenid)"
   ]
  },
  {
   "cell_type": "code",
   "execution_count": 377,
   "metadata": {},
   "outputs": [
    {
     "data": {
      "text/html": [
       "<ol class=list-inline>\n",
       "\t<li>2</li>\n",
       "\t<li>9</li>\n",
       "\t<li>48</li>\n",
       "\t<li>49</li>\n",
       "\t<li>82</li>\n",
       "\t<li>85</li>\n",
       "\t<li>88</li>\n",
       "\t<li>89</li>\n",
       "\t<li>91</li>\n",
       "\t<li>94</li>\n",
       "\t<li>106</li>\n",
       "\t<li>108</li>\n",
       "\t<li>3</li>\n",
       "</ol>\n"
      ],
      "text/latex": [
       "\\begin{enumerate*}\n",
       "\\item 2\n",
       "\\item 9\n",
       "\\item 48\n",
       "\\item 49\n",
       "\\item 82\n",
       "\\item 85\n",
       "\\item 88\n",
       "\\item 89\n",
       "\\item 91\n",
       "\\item 94\n",
       "\\item 106\n",
       "\\item 108\n",
       "\\item 3\n",
       "\\end{enumerate*}\n"
      ],
      "text/markdown": [
       "1. 2\n",
       "2. 9\n",
       "3. 48\n",
       "4. 49\n",
       "5. 82\n",
       "6. 85\n",
       "7. 88\n",
       "8. 89\n",
       "9. 91\n",
       "10. 94\n",
       "11. 106\n",
       "12. 108\n",
       "13. 3\n",
       "\n",
       "\n"
      ],
      "text/plain": [
       " [1]   2   9  48  49  82  85  88  89  91  94 106 108   3"
      ]
     },
     "metadata": {},
     "output_type": "display_data"
    }
   ],
   "source": [
    "ids"
   ]
  },
  {
   "cell_type": "code",
   "execution_count": 378,
   "metadata": {
    "collapsed": true
   },
   "outputs": [],
   "source": [
    "#te predyktory powyzej do usuniecia, zatem usuwam\n",
    "train2 = train[,-ids]"
   ]
  },
  {
   "cell_type": "code",
   "execution_count": 379,
   "metadata": {},
   "outputs": [
    {
     "data": {
      "text/html": [
       "104"
      ],
      "text/latex": [
       "104"
      ],
      "text/markdown": [
       "104"
      ],
      "text/plain": [
       "[1] 104"
      ]
     },
     "metadata": {},
     "output_type": "display_data"
    }
   ],
   "source": [
    "ncol(train2)"
   ]
  },
  {
   "cell_type": "markdown",
   "metadata": {},
   "source": [
    "## Zamiana character -> numeric"
   ]
  },
  {
   "cell_type": "code",
   "execution_count": 380,
   "metadata": {},
   "outputs": [
    {
     "data": {
      "text/html": [
       "<dl class=dl-horizontal>\n",
       "\t<dt>LastCall__c</dt>\n",
       "\t\t<dd>'numeric'</dd>\n",
       "\t<dt>etx_make_name</dt>\n",
       "\t\t<dd>'character'</dd>\n",
       "\t<dt>etx_model_name</dt>\n",
       "\t\t<dd>'character'</dd>\n",
       "\t<dt>etx_fuel_code</dt>\n",
       "\t\t<dd>'character'</dd>\n",
       "\t<dt>production_year</dt>\n",
       "\t\t<dd>'character'</dd>\n",
       "\t<dt>etx_model_code</dt>\n",
       "\t\t<dd>'character'</dd>\n",
       "\t<dt>protection_scope</dt>\n",
       "\t\t<dd>'character'</dd>\n",
       "\t<dt>kind</dt>\n",
       "\t\t<dd>'character'</dd>\n",
       "\t<dt>usage_type</dt>\n",
       "\t\t<dd>'character'</dd>\n",
       "\t<dt>use_frequency</dt>\n",
       "\t\t<dd>'character'</dd>\n",
       "\t<dt>child_carriage_frequency</dt>\n",
       "\t\t<dd>'character'</dd>\n",
       "\t<dt>mileage</dt>\n",
       "\t\t<dd>'character'</dd>\n",
       "\t<dt>yearly_mileage</dt>\n",
       "\t\t<dd>'character'</dd>\n",
       "\t<dt>used_abroad</dt>\n",
       "\t\t<dd>'numeric'</dd>\n",
       "\t<dt>night_parking_place</dt>\n",
       "\t\t<dd>'character'</dd>\n",
       "\t<dt>night_parking_place_postal_code</dt>\n",
       "\t\t<dd>'character'</dd>\n",
       "\t<dt>day_parking_place</dt>\n",
       "\t\t<dd>'character'</dd>\n",
       "\t<dt>day_parking_place_postal_code</dt>\n",
       "\t\t<dd>'character'</dd>\n",
       "\t<dt>theft_protection_installation</dt>\n",
       "\t\t<dd>'character'</dd>\n",
       "\t<dt>theft_protection_device_1</dt>\n",
       "\t\t<dd>'character'</dd>\n",
       "\t<dt>theft_protection_device_2</dt>\n",
       "\t\t<dd>'character'</dd>\n",
       "\t<dt>origin</dt>\n",
       "\t\t<dd>'character'</dd>\n",
       "\t<dt>buy_year</dt>\n",
       "\t\t<dd>'character'</dd>\n",
       "\t<dt>registration_date</dt>\n",
       "\t\t<dd>'numeric'</dd>\n",
       "\t<dt>is_damaged</dt>\n",
       "\t\t<dd>'character'</dd>\n",
       "\t<dt>leasing</dt>\n",
       "\t\t<dd>'character'</dd>\n",
       "\t<dt>car_worth</dt>\n",
       "\t\t<dd>'character'</dd>\n",
       "\t<dt>main_driver_postal_code</dt>\n",
       "\t\t<dd>'character'</dd>\n",
       "\t<dt>main_driver_age</dt>\n",
       "\t\t<dd>'numeric'</dd>\n",
       "\t<dt>main_driver_gender</dt>\n",
       "\t\t<dd>'character'</dd>\n",
       "\t<dt>insurance_start_date</dt>\n",
       "\t\t<dd>'numeric'</dd>\n",
       "\t<dt>phone_exists</dt>\n",
       "\t\t<dd>'character'</dd>\n",
       "\t<dt>calc_complete</dt>\n",
       "\t\t<dd>'numeric'</dd>\n",
       "\t<dt>calc_incomplete</dt>\n",
       "\t\t<dd>'numeric'</dd>\n",
       "\t<dt>calc_finished</dt>\n",
       "\t\t<dd>'numeric'</dd>\n",
       "\t<dt>phone_yes</dt>\n",
       "\t\t<dd>'numeric'</dd>\n",
       "\t<dt>phone_no</dt>\n",
       "\t\t<dd>'numeric'</dd>\n",
       "\t<dt>calculation_type</dt>\n",
       "\t\t<dd>'character'</dd>\n",
       "\t<dt>terms_acceptance</dt>\n",
       "\t\t<dd>'numeric'</dd>\n",
       "\t<dt>phone_acceptance</dt>\n",
       "\t\t<dd>'numeric'</dd>\n",
       "\t<dt>phone_accepted</dt>\n",
       "\t\t<dd>'numeric'</dd>\n",
       "\t<dt>step</dt>\n",
       "\t\t<dd>'numeric'</dd>\n",
       "\t<dt>created_at</dt>\n",
       "\t\t<dd>'numeric'</dd>\n",
       "\t<dt>created_at_date</dt>\n",
       "\t\t<dd>'numeric'</dd>\n",
       "\t<dt>sent_to_sf</dt>\n",
       "\t\t<dd>'numeric'</dd>\n",
       "\t<dt>sf_r_purchasing</dt>\n",
       "\t\t<dd>'numeric'</dd>\n",
       "\t<dt>calculation_state</dt>\n",
       "\t\t<dd>'character'</dd>\n",
       "\t<dt>oc_offers_qty</dt>\n",
       "\t\t<dd>'numeric'</dd>\n",
       "\t<dt>oc_offer_min_val</dt>\n",
       "\t\t<dd>'numeric'</dd>\n",
       "\t<dt>ac_offers_qty</dt>\n",
       "\t\t<dd>'numeric'</dd>\n",
       "\t<dt>ac_offer_min_val</dt>\n",
       "\t\t<dd>'numeric'</dd>\n",
       "\t<dt>b2c_leads_sent</dt>\n",
       "\t\t<dd>'numeric'</dd>\n",
       "\t<dt>form_finished_at</dt>\n",
       "\t\t<dd>'numeric'</dd>\n",
       "\t<dt>offer_first_at</dt>\n",
       "\t\t<dd>'numeric'</dd>\n",
       "\t<dt>offer_last_at</dt>\n",
       "\t\t<dd>'numeric'</dd>\n",
       "\t<dt>offer_first_after</dt>\n",
       "\t\t<dd>'numeric'</dd>\n",
       "\t<dt>offer_last_after</dt>\n",
       "\t\t<dd>'numeric'</dd>\n",
       "\t<dt>phone_lookup_status</dt>\n",
       "\t\t<dd>'numeric'</dd>\n",
       "\t<dt>utm_campaign</dt>\n",
       "\t\t<dd>'character'</dd>\n",
       "\t<dt>utm_content</dt>\n",
       "\t\t<dd>'character'</dd>\n",
       "\t<dt>utm_medium</dt>\n",
       "\t\t<dd>'character'</dd>\n",
       "\t<dt>utm_source</dt>\n",
       "\t\t<dd>'character'</dd>\n",
       "\t<dt>pkb_transform_ver</dt>\n",
       "\t\t<dd>'character'</dd>\n",
       "\t<dt>went_to_partners</dt>\n",
       "\t\t<dd>'numeric'</dd>\n",
       "\t<dt>contact_requests</dt>\n",
       "\t\t<dd>'numeric'</dd>\n",
       "\t<dt>Acc_Agreement_call__c</dt>\n",
       "\t\t<dd>'logical'</dd>\n",
       "\t<dt>Acc_Agreement_marketing__c</dt>\n",
       "\t\t<dd>'logical'</dd>\n",
       "\t<dt>Acc_Agreement_newsletter__c</dt>\n",
       "\t\t<dd>'logical'</dd>\n",
       "\t<dt>Acc_Birthdate__c</dt>\n",
       "\t\t<dd>'numeric'</dd>\n",
       "\t<dt>Acc_PhoneHLRStatus__c</dt>\n",
       "\t\t<dd>'character'</dd>\n",
       "\t<dt>Account__r.AccountSource</dt>\n",
       "\t\t<dd>'character'</dd>\n",
       "\t<dt>Account__r.AgreementCall__pc</dt>\n",
       "\t\t<dd>'logical'</dd>\n",
       "\t<dt>Account__r.AgreementMarketing__pc</dt>\n",
       "\t\t<dd>'logical'</dd>\n",
       "\t<dt>Account__r.AgreementNewsletter__pc</dt>\n",
       "\t\t<dd>'logical'</dd>\n",
       "\t<dt>Account__r.BillingCity</dt>\n",
       "\t\t<dd>'character'</dd>\n",
       "\t<dt>Account__r.BillingPostalCode</dt>\n",
       "\t\t<dd>'character'</dd>\n",
       "\t<dt>Account__r.CreatedDate</dt>\n",
       "\t\t<dd>'numeric'</dd>\n",
       "\t<dt>Account__r.Gender__pc</dt>\n",
       "\t\t<dd>'character'</dd>\n",
       "\t<dt>Account__r.IsDeleted</dt>\n",
       "\t\t<dd>'logical'</dd>\n",
       "\t<dt>Account__r.IsPersonAccount</dt>\n",
       "\t\t<dd>'logical'</dd>\n",
       "\t<dt>Account__r.PersonBirthdate</dt>\n",
       "\t\t<dd>'numeric'</dd>\n",
       "\t<dt>Account__r.PhoneHLRStatus__pc</dt>\n",
       "\t\t<dd>'character'</dd>\n",
       "\t<dt>Account__r.PhoneNATStatus__pc</dt>\n",
       "\t\t<dd>'character'</dd>\n",
       "\t<dt>Account__r.Salutation</dt>\n",
       "\t\t<dd>'character'</dd>\n",
       "\t<dt>Account__r.Type</dt>\n",
       "\t\t<dd>'character'</dd>\n",
       "\t<dt>CalculationToken__c</dt>\n",
       "\t\t<dd>'character'</dd>\n",
       "\t<dt>CarEngineCapacity__c</dt>\n",
       "\t\t<dd>'numeric'</dd>\n",
       "\t<dt>CarFuelType__c</dt>\n",
       "\t\t<dd>'character'</dd>\n",
       "\t<dt>CarMake__c</dt>\n",
       "\t\t<dd>'character'</dd>\n",
       "\t<dt>CarModel__c</dt>\n",
       "\t\t<dd>'character'</dd>\n",
       "\t<dt>CarYear__c</dt>\n",
       "\t\t<dd>'numeric'</dd>\n",
       "\t<dt>CpcPaid__c</dt>\n",
       "\t\t<dd>'logical'</dd>\n",
       "\t<dt>CreatedBy.Alias</dt>\n",
       "\t\t<dd>'character'</dd>\n",
       "\t<dt>CreatedBy.CreatedDate</dt>\n",
       "\t\t<dd>'numeric'</dd>\n",
       "\t<dt>CreatedDate</dt>\n",
       "\t\t<dd>'numeric'</dd>\n",
       "\t<dt>IsDeleted</dt>\n",
       "\t\t<dd>'logical'</dd>\n",
       "\t<dt>Mpc__c</dt>\n",
       "\t\t<dd>'character'</dd>\n",
       "\t<dt>PolicyStartDate__c</dt>\n",
       "\t\t<dd>'numeric'</dd>\n",
       "\t<dt>ProductScope__c</dt>\n",
       "\t\t<dd>'character'</dd>\n",
       "\t<dt>Source__c</dt>\n",
       "\t\t<dd>'character'</dd>\n",
       "\t<dt>WentToPartner__c</dt>\n",
       "\t\t<dd>'logical'</dd>\n",
       "\t<dt>dont_have_this_car__c</dt>\n",
       "\t\t<dd>'logical'</dd>\n",
       "\t<dt>TelehubStatus__c</dt>\n",
       "\t\t<dd>'character'</dd>\n",
       "\t<dt>Sale.success</dt>\n",
       "\t\t<dd>'numeric'</dd>\n",
       "</dl>\n"
      ],
      "text/latex": [
       "\\begin{description*}\n",
       "\\item[LastCall\\textbackslash{}\\_\\textbackslash{}\\_c] 'numeric'\n",
       "\\item[etx\\textbackslash{}\\_make\\textbackslash{}\\_name] 'character'\n",
       "\\item[etx\\textbackslash{}\\_model\\textbackslash{}\\_name] 'character'\n",
       "\\item[etx\\textbackslash{}\\_fuel\\textbackslash{}\\_code] 'character'\n",
       "\\item[production\\textbackslash{}\\_year] 'character'\n",
       "\\item[etx\\textbackslash{}\\_model\\textbackslash{}\\_code] 'character'\n",
       "\\item[protection\\textbackslash{}\\_scope] 'character'\n",
       "\\item[kind] 'character'\n",
       "\\item[usage\\textbackslash{}\\_type] 'character'\n",
       "\\item[use\\textbackslash{}\\_frequency] 'character'\n",
       "\\item[child\\textbackslash{}\\_carriage\\textbackslash{}\\_frequency] 'character'\n",
       "\\item[mileage] 'character'\n",
       "\\item[yearly\\textbackslash{}\\_mileage] 'character'\n",
       "\\item[used\\textbackslash{}\\_abroad] 'numeric'\n",
       "\\item[night\\textbackslash{}\\_parking\\textbackslash{}\\_place] 'character'\n",
       "\\item[night\\textbackslash{}\\_parking\\textbackslash{}\\_place\\textbackslash{}\\_postal\\textbackslash{}\\_code] 'character'\n",
       "\\item[day\\textbackslash{}\\_parking\\textbackslash{}\\_place] 'character'\n",
       "\\item[day\\textbackslash{}\\_parking\\textbackslash{}\\_place\\textbackslash{}\\_postal\\textbackslash{}\\_code] 'character'\n",
       "\\item[theft\\textbackslash{}\\_protection\\textbackslash{}\\_installation] 'character'\n",
       "\\item[theft\\textbackslash{}\\_protection\\textbackslash{}\\_device\\textbackslash{}\\_1] 'character'\n",
       "\\item[theft\\textbackslash{}\\_protection\\textbackslash{}\\_device\\textbackslash{}\\_2] 'character'\n",
       "\\item[origin] 'character'\n",
       "\\item[buy\\textbackslash{}\\_year] 'character'\n",
       "\\item[registration\\textbackslash{}\\_date] 'numeric'\n",
       "\\item[is\\textbackslash{}\\_damaged] 'character'\n",
       "\\item[leasing] 'character'\n",
       "\\item[car\\textbackslash{}\\_worth] 'character'\n",
       "\\item[main\\textbackslash{}\\_driver\\textbackslash{}\\_postal\\textbackslash{}\\_code] 'character'\n",
       "\\item[main\\textbackslash{}\\_driver\\textbackslash{}\\_age] 'numeric'\n",
       "\\item[main\\textbackslash{}\\_driver\\textbackslash{}\\_gender] 'character'\n",
       "\\item[insurance\\textbackslash{}\\_start\\textbackslash{}\\_date] 'numeric'\n",
       "\\item[phone\\textbackslash{}\\_exists] 'character'\n",
       "\\item[calc\\textbackslash{}\\_complete] 'numeric'\n",
       "\\item[calc\\textbackslash{}\\_incomplete] 'numeric'\n",
       "\\item[calc\\textbackslash{}\\_finished] 'numeric'\n",
       "\\item[phone\\textbackslash{}\\_yes] 'numeric'\n",
       "\\item[phone\\textbackslash{}\\_no] 'numeric'\n",
       "\\item[calculation\\textbackslash{}\\_type] 'character'\n",
       "\\item[terms\\textbackslash{}\\_acceptance] 'numeric'\n",
       "\\item[phone\\textbackslash{}\\_acceptance] 'numeric'\n",
       "\\item[phone\\textbackslash{}\\_accepted] 'numeric'\n",
       "\\item[step] 'numeric'\n",
       "\\item[created\\textbackslash{}\\_at] 'numeric'\n",
       "\\item[created\\textbackslash{}\\_at\\textbackslash{}\\_date] 'numeric'\n",
       "\\item[sent\\textbackslash{}\\_to\\textbackslash{}\\_sf] 'numeric'\n",
       "\\item[sf\\textbackslash{}\\_r\\textbackslash{}\\_purchasing] 'numeric'\n",
       "\\item[calculation\\textbackslash{}\\_state] 'character'\n",
       "\\item[oc\\textbackslash{}\\_offers\\textbackslash{}\\_qty] 'numeric'\n",
       "\\item[oc\\textbackslash{}\\_offer\\textbackslash{}\\_min\\textbackslash{}\\_val] 'numeric'\n",
       "\\item[ac\\textbackslash{}\\_offers\\textbackslash{}\\_qty] 'numeric'\n",
       "\\item[ac\\textbackslash{}\\_offer\\textbackslash{}\\_min\\textbackslash{}\\_val] 'numeric'\n",
       "\\item[b2c\\textbackslash{}\\_leads\\textbackslash{}\\_sent] 'numeric'\n",
       "\\item[form\\textbackslash{}\\_finished\\textbackslash{}\\_at] 'numeric'\n",
       "\\item[offer\\textbackslash{}\\_first\\textbackslash{}\\_at] 'numeric'\n",
       "\\item[offer\\textbackslash{}\\_last\\textbackslash{}\\_at] 'numeric'\n",
       "\\item[offer\\textbackslash{}\\_first\\textbackslash{}\\_after] 'numeric'\n",
       "\\item[offer\\textbackslash{}\\_last\\textbackslash{}\\_after] 'numeric'\n",
       "\\item[phone\\textbackslash{}\\_lookup\\textbackslash{}\\_status] 'numeric'\n",
       "\\item[utm\\textbackslash{}\\_campaign] 'character'\n",
       "\\item[utm\\textbackslash{}\\_content] 'character'\n",
       "\\item[utm\\textbackslash{}\\_medium] 'character'\n",
       "\\item[utm\\textbackslash{}\\_source] 'character'\n",
       "\\item[pkb\\textbackslash{}\\_transform\\textbackslash{}\\_ver] 'character'\n",
       "\\item[went\\textbackslash{}\\_to\\textbackslash{}\\_partners] 'numeric'\n",
       "\\item[contact\\textbackslash{}\\_requests] 'numeric'\n",
       "\\item[Acc\\textbackslash{}\\_Agreement\\textbackslash{}\\_call\\textbackslash{}\\_\\textbackslash{}\\_c] 'logical'\n",
       "\\item[Acc\\textbackslash{}\\_Agreement\\textbackslash{}\\_marketing\\textbackslash{}\\_\\textbackslash{}\\_c] 'logical'\n",
       "\\item[Acc\\textbackslash{}\\_Agreement\\textbackslash{}\\_newsletter\\textbackslash{}\\_\\textbackslash{}\\_c] 'logical'\n",
       "\\item[Acc\\textbackslash{}\\_Birthdate\\textbackslash{}\\_\\textbackslash{}\\_c] 'numeric'\n",
       "\\item[Acc\\textbackslash{}\\_PhoneHLRStatus\\textbackslash{}\\_\\textbackslash{}\\_c] 'character'\n",
       "\\item[Account\\textbackslash{}\\_\\textbackslash{}\\_r.AccountSource] 'character'\n",
       "\\item[Account\\textbackslash{}\\_\\textbackslash{}\\_r.AgreementCall\\textbackslash{}\\_\\textbackslash{}\\_pc] 'logical'\n",
       "\\item[Account\\textbackslash{}\\_\\textbackslash{}\\_r.AgreementMarketing\\textbackslash{}\\_\\textbackslash{}\\_pc] 'logical'\n",
       "\\item[Account\\textbackslash{}\\_\\textbackslash{}\\_r.AgreementNewsletter\\textbackslash{}\\_\\textbackslash{}\\_pc] 'logical'\n",
       "\\item[Account\\textbackslash{}\\_\\textbackslash{}\\_r.BillingCity] 'character'\n",
       "\\item[Account\\textbackslash{}\\_\\textbackslash{}\\_r.BillingPostalCode] 'character'\n",
       "\\item[Account\\textbackslash{}\\_\\textbackslash{}\\_r.CreatedDate] 'numeric'\n",
       "\\item[Account\\textbackslash{}\\_\\textbackslash{}\\_r.Gender\\textbackslash{}\\_\\textbackslash{}\\_pc] 'character'\n",
       "\\item[Account\\textbackslash{}\\_\\textbackslash{}\\_r.IsDeleted] 'logical'\n",
       "\\item[Account\\textbackslash{}\\_\\textbackslash{}\\_r.IsPersonAccount] 'logical'\n",
       "\\item[Account\\textbackslash{}\\_\\textbackslash{}\\_r.PersonBirthdate] 'numeric'\n",
       "\\item[Account\\textbackslash{}\\_\\textbackslash{}\\_r.PhoneHLRStatus\\textbackslash{}\\_\\textbackslash{}\\_pc] 'character'\n",
       "\\item[Account\\textbackslash{}\\_\\textbackslash{}\\_r.PhoneNATStatus\\textbackslash{}\\_\\textbackslash{}\\_pc] 'character'\n",
       "\\item[Account\\textbackslash{}\\_\\textbackslash{}\\_r.Salutation] 'character'\n",
       "\\item[Account\\textbackslash{}\\_\\textbackslash{}\\_r.Type] 'character'\n",
       "\\item[CalculationToken\\textbackslash{}\\_\\textbackslash{}\\_c] 'character'\n",
       "\\item[CarEngineCapacity\\textbackslash{}\\_\\textbackslash{}\\_c] 'numeric'\n",
       "\\item[CarFuelType\\textbackslash{}\\_\\textbackslash{}\\_c] 'character'\n",
       "\\item[CarMake\\textbackslash{}\\_\\textbackslash{}\\_c] 'character'\n",
       "\\item[CarModel\\textbackslash{}\\_\\textbackslash{}\\_c] 'character'\n",
       "\\item[CarYear\\textbackslash{}\\_\\textbackslash{}\\_c] 'numeric'\n",
       "\\item[CpcPaid\\textbackslash{}\\_\\textbackslash{}\\_c] 'logical'\n",
       "\\item[CreatedBy.Alias] 'character'\n",
       "\\item[CreatedBy.CreatedDate] 'numeric'\n",
       "\\item[CreatedDate] 'numeric'\n",
       "\\item[IsDeleted] 'logical'\n",
       "\\item[Mpc\\textbackslash{}\\_\\textbackslash{}\\_c] 'character'\n",
       "\\item[PolicyStartDate\\textbackslash{}\\_\\textbackslash{}\\_c] 'numeric'\n",
       "\\item[ProductScope\\textbackslash{}\\_\\textbackslash{}\\_c] 'character'\n",
       "\\item[Source\\textbackslash{}\\_\\textbackslash{}\\_c] 'character'\n",
       "\\item[WentToPartner\\textbackslash{}\\_\\textbackslash{}\\_c] 'logical'\n",
       "\\item[dont\\textbackslash{}\\_have\\textbackslash{}\\_this\\textbackslash{}\\_car\\textbackslash{}\\_\\textbackslash{}\\_c] 'logical'\n",
       "\\item[TelehubStatus\\textbackslash{}\\_\\textbackslash{}\\_c] 'character'\n",
       "\\item[Sale.success] 'numeric'\n",
       "\\end{description*}\n"
      ],
      "text/markdown": [
       "LastCall__c\n",
       ":   'numeric'etx_make_name\n",
       ":   'character'etx_model_name\n",
       ":   'character'etx_fuel_code\n",
       ":   'character'production_year\n",
       ":   'character'etx_model_code\n",
       ":   'character'protection_scope\n",
       ":   'character'kind\n",
       ":   'character'usage_type\n",
       ":   'character'use_frequency\n",
       ":   'character'child_carriage_frequency\n",
       ":   'character'mileage\n",
       ":   'character'yearly_mileage\n",
       ":   'character'used_abroad\n",
       ":   'numeric'night_parking_place\n",
       ":   'character'night_parking_place_postal_code\n",
       ":   'character'day_parking_place\n",
       ":   'character'day_parking_place_postal_code\n",
       ":   'character'theft_protection_installation\n",
       ":   'character'theft_protection_device_1\n",
       ":   'character'theft_protection_device_2\n",
       ":   'character'origin\n",
       ":   'character'buy_year\n",
       ":   'character'registration_date\n",
       ":   'numeric'is_damaged\n",
       ":   'character'leasing\n",
       ":   'character'car_worth\n",
       ":   'character'main_driver_postal_code\n",
       ":   'character'main_driver_age\n",
       ":   'numeric'main_driver_gender\n",
       ":   'character'insurance_start_date\n",
       ":   'numeric'phone_exists\n",
       ":   'character'calc_complete\n",
       ":   'numeric'calc_incomplete\n",
       ":   'numeric'calc_finished\n",
       ":   'numeric'phone_yes\n",
       ":   'numeric'phone_no\n",
       ":   'numeric'calculation_type\n",
       ":   'character'terms_acceptance\n",
       ":   'numeric'phone_acceptance\n",
       ":   'numeric'phone_accepted\n",
       ":   'numeric'step\n",
       ":   'numeric'created_at\n",
       ":   'numeric'created_at_date\n",
       ":   'numeric'sent_to_sf\n",
       ":   'numeric'sf_r_purchasing\n",
       ":   'numeric'calculation_state\n",
       ":   'character'oc_offers_qty\n",
       ":   'numeric'oc_offer_min_val\n",
       ":   'numeric'ac_offers_qty\n",
       ":   'numeric'ac_offer_min_val\n",
       ":   'numeric'b2c_leads_sent\n",
       ":   'numeric'form_finished_at\n",
       ":   'numeric'offer_first_at\n",
       ":   'numeric'offer_last_at\n",
       ":   'numeric'offer_first_after\n",
       ":   'numeric'offer_last_after\n",
       ":   'numeric'phone_lookup_status\n",
       ":   'numeric'utm_campaign\n",
       ":   'character'utm_content\n",
       ":   'character'utm_medium\n",
       ":   'character'utm_source\n",
       ":   'character'pkb_transform_ver\n",
       ":   'character'went_to_partners\n",
       ":   'numeric'contact_requests\n",
       ":   'numeric'Acc_Agreement_call__c\n",
       ":   'logical'Acc_Agreement_marketing__c\n",
       ":   'logical'Acc_Agreement_newsletter__c\n",
       ":   'logical'Acc_Birthdate__c\n",
       ":   'numeric'Acc_PhoneHLRStatus__c\n",
       ":   'character'Account__r.AccountSource\n",
       ":   'character'Account__r.AgreementCall__pc\n",
       ":   'logical'Account__r.AgreementMarketing__pc\n",
       ":   'logical'Account__r.AgreementNewsletter__pc\n",
       ":   'logical'Account__r.BillingCity\n",
       ":   'character'Account__r.BillingPostalCode\n",
       ":   'character'Account__r.CreatedDate\n",
       ":   'numeric'Account__r.Gender__pc\n",
       ":   'character'Account__r.IsDeleted\n",
       ":   'logical'Account__r.IsPersonAccount\n",
       ":   'logical'Account__r.PersonBirthdate\n",
       ":   'numeric'Account__r.PhoneHLRStatus__pc\n",
       ":   'character'Account__r.PhoneNATStatus__pc\n",
       ":   'character'Account__r.Salutation\n",
       ":   'character'Account__r.Type\n",
       ":   'character'CalculationToken__c\n",
       ":   'character'CarEngineCapacity__c\n",
       ":   'numeric'CarFuelType__c\n",
       ":   'character'CarMake__c\n",
       ":   'character'CarModel__c\n",
       ":   'character'CarYear__c\n",
       ":   'numeric'CpcPaid__c\n",
       ":   'logical'CreatedBy.Alias\n",
       ":   'character'CreatedBy.CreatedDate\n",
       ":   'numeric'CreatedDate\n",
       ":   'numeric'IsDeleted\n",
       ":   'logical'Mpc__c\n",
       ":   'character'PolicyStartDate__c\n",
       ":   'numeric'ProductScope__c\n",
       ":   'character'Source__c\n",
       ":   'character'WentToPartner__c\n",
       ":   'logical'dont_have_this_car__c\n",
       ":   'logical'TelehubStatus__c\n",
       ":   'character'Sale.success\n",
       ":   'numeric'\n",
       "\n"
      ],
      "text/plain": [
       "                       LastCall__c                      etx_make_name \n",
       "                         \"numeric\"                        \"character\" \n",
       "                    etx_model_name                      etx_fuel_code \n",
       "                       \"character\"                        \"character\" \n",
       "                   production_year                     etx_model_code \n",
       "                       \"character\"                        \"character\" \n",
       "                  protection_scope                               kind \n",
       "                       \"character\"                        \"character\" \n",
       "                        usage_type                      use_frequency \n",
       "                       \"character\"                        \"character\" \n",
       "          child_carriage_frequency                            mileage \n",
       "                       \"character\"                        \"character\" \n",
       "                    yearly_mileage                        used_abroad \n",
       "                       \"character\"                          \"numeric\" \n",
       "               night_parking_place    night_parking_place_postal_code \n",
       "                       \"character\"                        \"character\" \n",
       "                 day_parking_place      day_parking_place_postal_code \n",
       "                       \"character\"                        \"character\" \n",
       "     theft_protection_installation          theft_protection_device_1 \n",
       "                       \"character\"                        \"character\" \n",
       "         theft_protection_device_2                             origin \n",
       "                       \"character\"                        \"character\" \n",
       "                          buy_year                  registration_date \n",
       "                       \"character\"                          \"numeric\" \n",
       "                        is_damaged                            leasing \n",
       "                       \"character\"                        \"character\" \n",
       "                         car_worth            main_driver_postal_code \n",
       "                       \"character\"                        \"character\" \n",
       "                   main_driver_age                 main_driver_gender \n",
       "                         \"numeric\"                        \"character\" \n",
       "              insurance_start_date                       phone_exists \n",
       "                         \"numeric\"                        \"character\" \n",
       "                     calc_complete                    calc_incomplete \n",
       "                         \"numeric\"                          \"numeric\" \n",
       "                     calc_finished                          phone_yes \n",
       "                         \"numeric\"                          \"numeric\" \n",
       "                          phone_no                   calculation_type \n",
       "                         \"numeric\"                        \"character\" \n",
       "                  terms_acceptance                   phone_acceptance \n",
       "                         \"numeric\"                          \"numeric\" \n",
       "                    phone_accepted                               step \n",
       "                         \"numeric\"                          \"numeric\" \n",
       "                        created_at                    created_at_date \n",
       "                         \"numeric\"                          \"numeric\" \n",
       "                        sent_to_sf                    sf_r_purchasing \n",
       "                         \"numeric\"                          \"numeric\" \n",
       "                 calculation_state                      oc_offers_qty \n",
       "                       \"character\"                          \"numeric\" \n",
       "                  oc_offer_min_val                      ac_offers_qty \n",
       "                         \"numeric\"                          \"numeric\" \n",
       "                  ac_offer_min_val                     b2c_leads_sent \n",
       "                         \"numeric\"                          \"numeric\" \n",
       "                  form_finished_at                     offer_first_at \n",
       "                         \"numeric\"                          \"numeric\" \n",
       "                     offer_last_at                  offer_first_after \n",
       "                         \"numeric\"                          \"numeric\" \n",
       "                  offer_last_after                phone_lookup_status \n",
       "                         \"numeric\"                          \"numeric\" \n",
       "                      utm_campaign                        utm_content \n",
       "                       \"character\"                        \"character\" \n",
       "                        utm_medium                         utm_source \n",
       "                       \"character\"                        \"character\" \n",
       "                 pkb_transform_ver                   went_to_partners \n",
       "                       \"character\"                          \"numeric\" \n",
       "                  contact_requests              Acc_Agreement_call__c \n",
       "                         \"numeric\"                          \"logical\" \n",
       "        Acc_Agreement_marketing__c        Acc_Agreement_newsletter__c \n",
       "                         \"logical\"                          \"logical\" \n",
       "                  Acc_Birthdate__c              Acc_PhoneHLRStatus__c \n",
       "                         \"numeric\"                        \"character\" \n",
       "          Account__r.AccountSource       Account__r.AgreementCall__pc \n",
       "                       \"character\"                          \"logical\" \n",
       " Account__r.AgreementMarketing__pc Account__r.AgreementNewsletter__pc \n",
       "                         \"logical\"                          \"logical\" \n",
       "            Account__r.BillingCity       Account__r.BillingPostalCode \n",
       "                       \"character\"                        \"character\" \n",
       "            Account__r.CreatedDate              Account__r.Gender__pc \n",
       "                         \"numeric\"                        \"character\" \n",
       "              Account__r.IsDeleted         Account__r.IsPersonAccount \n",
       "                         \"logical\"                          \"logical\" \n",
       "        Account__r.PersonBirthdate      Account__r.PhoneHLRStatus__pc \n",
       "                         \"numeric\"                        \"character\" \n",
       "     Account__r.PhoneNATStatus__pc              Account__r.Salutation \n",
       "                       \"character\"                        \"character\" \n",
       "                   Account__r.Type                CalculationToken__c \n",
       "                       \"character\"                        \"character\" \n",
       "              CarEngineCapacity__c                     CarFuelType__c \n",
       "                         \"numeric\"                        \"character\" \n",
       "                        CarMake__c                        CarModel__c \n",
       "                       \"character\"                        \"character\" \n",
       "                        CarYear__c                         CpcPaid__c \n",
       "                         \"numeric\"                          \"logical\" \n",
       "                   CreatedBy.Alias              CreatedBy.CreatedDate \n",
       "                       \"character\"                          \"numeric\" \n",
       "                       CreatedDate                          IsDeleted \n",
       "                         \"numeric\"                          \"logical\" \n",
       "                            Mpc__c                 PolicyStartDate__c \n",
       "                       \"character\"                          \"numeric\" \n",
       "                   ProductScope__c                          Source__c \n",
       "                       \"character\"                        \"character\" \n",
       "                  WentToPartner__c              dont_have_this_car__c \n",
       "                         \"logical\"                          \"logical\" \n",
       "                  TelehubStatus__c                       Sale.success \n",
       "                       \"character\"                          \"numeric\" "
      ]
     },
     "metadata": {},
     "output_type": "display_data"
    }
   ],
   "source": [
    "sapply(train2,class)"
   ]
  },
  {
   "cell_type": "code",
   "execution_count": 381,
   "metadata": {
    "collapsed": true
   },
   "outputs": [],
   "source": [
    "#te kolumny są numeryczne, a wczytane zostały jako character, zatem zamiana"
   ]
  },
  {
   "cell_type": "code",
   "execution_count": 382,
   "metadata": {
    "collapsed": true
   },
   "outputs": [],
   "source": [
    "train2$production_year = as.numeric(train2$production_year)\n",
    "train2$mileage = as.numeric(train2$mileage)\n",
    "train2$yearly_mileage = as.numeric(train2$yearly_mileage)\n",
    "train2$buy_year = as.numeric(train2$buy_year)\n",
    "train2$car_worth = as.numeric(train2$car_worth)\n"
   ]
  },
  {
   "cell_type": "code",
   "execution_count": 383,
   "metadata": {},
   "outputs": [
    {
     "data": {
      "text/html": [
       "<dl class=dl-horizontal>\n",
       "\t<dt>LastCall__c</dt>\n",
       "\t\t<dd>'numeric'</dd>\n",
       "\t<dt>etx_make_name</dt>\n",
       "\t\t<dd>'character'</dd>\n",
       "\t<dt>etx_model_name</dt>\n",
       "\t\t<dd>'character'</dd>\n",
       "\t<dt>etx_fuel_code</dt>\n",
       "\t\t<dd>'character'</dd>\n",
       "\t<dt>production_year</dt>\n",
       "\t\t<dd>'numeric'</dd>\n",
       "\t<dt>etx_model_code</dt>\n",
       "\t\t<dd>'character'</dd>\n",
       "\t<dt>protection_scope</dt>\n",
       "\t\t<dd>'character'</dd>\n",
       "\t<dt>kind</dt>\n",
       "\t\t<dd>'character'</dd>\n",
       "\t<dt>usage_type</dt>\n",
       "\t\t<dd>'character'</dd>\n",
       "\t<dt>use_frequency</dt>\n",
       "\t\t<dd>'character'</dd>\n",
       "\t<dt>child_carriage_frequency</dt>\n",
       "\t\t<dd>'character'</dd>\n",
       "\t<dt>mileage</dt>\n",
       "\t\t<dd>'numeric'</dd>\n",
       "\t<dt>yearly_mileage</dt>\n",
       "\t\t<dd>'numeric'</dd>\n",
       "\t<dt>used_abroad</dt>\n",
       "\t\t<dd>'numeric'</dd>\n",
       "\t<dt>night_parking_place</dt>\n",
       "\t\t<dd>'character'</dd>\n",
       "\t<dt>night_parking_place_postal_code</dt>\n",
       "\t\t<dd>'character'</dd>\n",
       "\t<dt>day_parking_place</dt>\n",
       "\t\t<dd>'character'</dd>\n",
       "\t<dt>day_parking_place_postal_code</dt>\n",
       "\t\t<dd>'character'</dd>\n",
       "\t<dt>theft_protection_installation</dt>\n",
       "\t\t<dd>'character'</dd>\n",
       "\t<dt>theft_protection_device_1</dt>\n",
       "\t\t<dd>'character'</dd>\n",
       "\t<dt>theft_protection_device_2</dt>\n",
       "\t\t<dd>'character'</dd>\n",
       "\t<dt>origin</dt>\n",
       "\t\t<dd>'character'</dd>\n",
       "\t<dt>buy_year</dt>\n",
       "\t\t<dd>'numeric'</dd>\n",
       "\t<dt>registration_date</dt>\n",
       "\t\t<dd>'numeric'</dd>\n",
       "\t<dt>is_damaged</dt>\n",
       "\t\t<dd>'character'</dd>\n",
       "\t<dt>leasing</dt>\n",
       "\t\t<dd>'character'</dd>\n",
       "\t<dt>car_worth</dt>\n",
       "\t\t<dd>'numeric'</dd>\n",
       "\t<dt>main_driver_postal_code</dt>\n",
       "\t\t<dd>'character'</dd>\n",
       "\t<dt>main_driver_age</dt>\n",
       "\t\t<dd>'numeric'</dd>\n",
       "\t<dt>main_driver_gender</dt>\n",
       "\t\t<dd>'character'</dd>\n",
       "\t<dt>insurance_start_date</dt>\n",
       "\t\t<dd>'numeric'</dd>\n",
       "\t<dt>phone_exists</dt>\n",
       "\t\t<dd>'character'</dd>\n",
       "\t<dt>calc_complete</dt>\n",
       "\t\t<dd>'numeric'</dd>\n",
       "\t<dt>calc_incomplete</dt>\n",
       "\t\t<dd>'numeric'</dd>\n",
       "\t<dt>calc_finished</dt>\n",
       "\t\t<dd>'numeric'</dd>\n",
       "\t<dt>phone_yes</dt>\n",
       "\t\t<dd>'numeric'</dd>\n",
       "\t<dt>phone_no</dt>\n",
       "\t\t<dd>'numeric'</dd>\n",
       "\t<dt>calculation_type</dt>\n",
       "\t\t<dd>'character'</dd>\n",
       "\t<dt>terms_acceptance</dt>\n",
       "\t\t<dd>'numeric'</dd>\n",
       "\t<dt>phone_acceptance</dt>\n",
       "\t\t<dd>'numeric'</dd>\n",
       "\t<dt>phone_accepted</dt>\n",
       "\t\t<dd>'numeric'</dd>\n",
       "\t<dt>step</dt>\n",
       "\t\t<dd>'numeric'</dd>\n",
       "\t<dt>created_at</dt>\n",
       "\t\t<dd>'numeric'</dd>\n",
       "\t<dt>created_at_date</dt>\n",
       "\t\t<dd>'numeric'</dd>\n",
       "\t<dt>sent_to_sf</dt>\n",
       "\t\t<dd>'numeric'</dd>\n",
       "\t<dt>sf_r_purchasing</dt>\n",
       "\t\t<dd>'numeric'</dd>\n",
       "\t<dt>calculation_state</dt>\n",
       "\t\t<dd>'character'</dd>\n",
       "\t<dt>oc_offers_qty</dt>\n",
       "\t\t<dd>'numeric'</dd>\n",
       "\t<dt>oc_offer_min_val</dt>\n",
       "\t\t<dd>'numeric'</dd>\n",
       "\t<dt>ac_offers_qty</dt>\n",
       "\t\t<dd>'numeric'</dd>\n",
       "\t<dt>ac_offer_min_val</dt>\n",
       "\t\t<dd>'numeric'</dd>\n",
       "\t<dt>b2c_leads_sent</dt>\n",
       "\t\t<dd>'numeric'</dd>\n",
       "\t<dt>form_finished_at</dt>\n",
       "\t\t<dd>'numeric'</dd>\n",
       "\t<dt>offer_first_at</dt>\n",
       "\t\t<dd>'numeric'</dd>\n",
       "\t<dt>offer_last_at</dt>\n",
       "\t\t<dd>'numeric'</dd>\n",
       "\t<dt>offer_first_after</dt>\n",
       "\t\t<dd>'numeric'</dd>\n",
       "\t<dt>offer_last_after</dt>\n",
       "\t\t<dd>'numeric'</dd>\n",
       "\t<dt>phone_lookup_status</dt>\n",
       "\t\t<dd>'numeric'</dd>\n",
       "\t<dt>utm_campaign</dt>\n",
       "\t\t<dd>'character'</dd>\n",
       "\t<dt>utm_content</dt>\n",
       "\t\t<dd>'character'</dd>\n",
       "\t<dt>utm_medium</dt>\n",
       "\t\t<dd>'character'</dd>\n",
       "\t<dt>utm_source</dt>\n",
       "\t\t<dd>'character'</dd>\n",
       "\t<dt>pkb_transform_ver</dt>\n",
       "\t\t<dd>'character'</dd>\n",
       "\t<dt>went_to_partners</dt>\n",
       "\t\t<dd>'numeric'</dd>\n",
       "\t<dt>contact_requests</dt>\n",
       "\t\t<dd>'numeric'</dd>\n",
       "\t<dt>Acc_Agreement_call__c</dt>\n",
       "\t\t<dd>'logical'</dd>\n",
       "\t<dt>Acc_Agreement_marketing__c</dt>\n",
       "\t\t<dd>'logical'</dd>\n",
       "\t<dt>Acc_Agreement_newsletter__c</dt>\n",
       "\t\t<dd>'logical'</dd>\n",
       "\t<dt>Acc_Birthdate__c</dt>\n",
       "\t\t<dd>'numeric'</dd>\n",
       "\t<dt>Acc_PhoneHLRStatus__c</dt>\n",
       "\t\t<dd>'character'</dd>\n",
       "\t<dt>Account__r.AccountSource</dt>\n",
       "\t\t<dd>'character'</dd>\n",
       "\t<dt>Account__r.AgreementCall__pc</dt>\n",
       "\t\t<dd>'logical'</dd>\n",
       "\t<dt>Account__r.AgreementMarketing__pc</dt>\n",
       "\t\t<dd>'logical'</dd>\n",
       "\t<dt>Account__r.AgreementNewsletter__pc</dt>\n",
       "\t\t<dd>'logical'</dd>\n",
       "\t<dt>Account__r.BillingCity</dt>\n",
       "\t\t<dd>'character'</dd>\n",
       "\t<dt>Account__r.BillingPostalCode</dt>\n",
       "\t\t<dd>'character'</dd>\n",
       "\t<dt>Account__r.CreatedDate</dt>\n",
       "\t\t<dd>'numeric'</dd>\n",
       "\t<dt>Account__r.Gender__pc</dt>\n",
       "\t\t<dd>'character'</dd>\n",
       "\t<dt>Account__r.IsDeleted</dt>\n",
       "\t\t<dd>'logical'</dd>\n",
       "\t<dt>Account__r.IsPersonAccount</dt>\n",
       "\t\t<dd>'logical'</dd>\n",
       "\t<dt>Account__r.PersonBirthdate</dt>\n",
       "\t\t<dd>'numeric'</dd>\n",
       "\t<dt>Account__r.PhoneHLRStatus__pc</dt>\n",
       "\t\t<dd>'character'</dd>\n",
       "\t<dt>Account__r.PhoneNATStatus__pc</dt>\n",
       "\t\t<dd>'character'</dd>\n",
       "\t<dt>Account__r.Salutation</dt>\n",
       "\t\t<dd>'character'</dd>\n",
       "\t<dt>Account__r.Type</dt>\n",
       "\t\t<dd>'character'</dd>\n",
       "\t<dt>CalculationToken__c</dt>\n",
       "\t\t<dd>'character'</dd>\n",
       "\t<dt>CarEngineCapacity__c</dt>\n",
       "\t\t<dd>'numeric'</dd>\n",
       "\t<dt>CarFuelType__c</dt>\n",
       "\t\t<dd>'character'</dd>\n",
       "\t<dt>CarMake__c</dt>\n",
       "\t\t<dd>'character'</dd>\n",
       "\t<dt>CarModel__c</dt>\n",
       "\t\t<dd>'character'</dd>\n",
       "\t<dt>CarYear__c</dt>\n",
       "\t\t<dd>'numeric'</dd>\n",
       "\t<dt>CpcPaid__c</dt>\n",
       "\t\t<dd>'logical'</dd>\n",
       "\t<dt>CreatedBy.Alias</dt>\n",
       "\t\t<dd>'character'</dd>\n",
       "\t<dt>CreatedBy.CreatedDate</dt>\n",
       "\t\t<dd>'numeric'</dd>\n",
       "\t<dt>CreatedDate</dt>\n",
       "\t\t<dd>'numeric'</dd>\n",
       "\t<dt>IsDeleted</dt>\n",
       "\t\t<dd>'logical'</dd>\n",
       "\t<dt>Mpc__c</dt>\n",
       "\t\t<dd>'character'</dd>\n",
       "\t<dt>PolicyStartDate__c</dt>\n",
       "\t\t<dd>'numeric'</dd>\n",
       "\t<dt>ProductScope__c</dt>\n",
       "\t\t<dd>'character'</dd>\n",
       "\t<dt>Source__c</dt>\n",
       "\t\t<dd>'character'</dd>\n",
       "\t<dt>WentToPartner__c</dt>\n",
       "\t\t<dd>'logical'</dd>\n",
       "\t<dt>dont_have_this_car__c</dt>\n",
       "\t\t<dd>'logical'</dd>\n",
       "\t<dt>TelehubStatus__c</dt>\n",
       "\t\t<dd>'character'</dd>\n",
       "\t<dt>Sale.success</dt>\n",
       "\t\t<dd>'numeric'</dd>\n",
       "</dl>\n"
      ],
      "text/latex": [
       "\\begin{description*}\n",
       "\\item[LastCall\\textbackslash{}\\_\\textbackslash{}\\_c] 'numeric'\n",
       "\\item[etx\\textbackslash{}\\_make\\textbackslash{}\\_name] 'character'\n",
       "\\item[etx\\textbackslash{}\\_model\\textbackslash{}\\_name] 'character'\n",
       "\\item[etx\\textbackslash{}\\_fuel\\textbackslash{}\\_code] 'character'\n",
       "\\item[production\\textbackslash{}\\_year] 'numeric'\n",
       "\\item[etx\\textbackslash{}\\_model\\textbackslash{}\\_code] 'character'\n",
       "\\item[protection\\textbackslash{}\\_scope] 'character'\n",
       "\\item[kind] 'character'\n",
       "\\item[usage\\textbackslash{}\\_type] 'character'\n",
       "\\item[use\\textbackslash{}\\_frequency] 'character'\n",
       "\\item[child\\textbackslash{}\\_carriage\\textbackslash{}\\_frequency] 'character'\n",
       "\\item[mileage] 'numeric'\n",
       "\\item[yearly\\textbackslash{}\\_mileage] 'numeric'\n",
       "\\item[used\\textbackslash{}\\_abroad] 'numeric'\n",
       "\\item[night\\textbackslash{}\\_parking\\textbackslash{}\\_place] 'character'\n",
       "\\item[night\\textbackslash{}\\_parking\\textbackslash{}\\_place\\textbackslash{}\\_postal\\textbackslash{}\\_code] 'character'\n",
       "\\item[day\\textbackslash{}\\_parking\\textbackslash{}\\_place] 'character'\n",
       "\\item[day\\textbackslash{}\\_parking\\textbackslash{}\\_place\\textbackslash{}\\_postal\\textbackslash{}\\_code] 'character'\n",
       "\\item[theft\\textbackslash{}\\_protection\\textbackslash{}\\_installation] 'character'\n",
       "\\item[theft\\textbackslash{}\\_protection\\textbackslash{}\\_device\\textbackslash{}\\_1] 'character'\n",
       "\\item[theft\\textbackslash{}\\_protection\\textbackslash{}\\_device\\textbackslash{}\\_2] 'character'\n",
       "\\item[origin] 'character'\n",
       "\\item[buy\\textbackslash{}\\_year] 'numeric'\n",
       "\\item[registration\\textbackslash{}\\_date] 'numeric'\n",
       "\\item[is\\textbackslash{}\\_damaged] 'character'\n",
       "\\item[leasing] 'character'\n",
       "\\item[car\\textbackslash{}\\_worth] 'numeric'\n",
       "\\item[main\\textbackslash{}\\_driver\\textbackslash{}\\_postal\\textbackslash{}\\_code] 'character'\n",
       "\\item[main\\textbackslash{}\\_driver\\textbackslash{}\\_age] 'numeric'\n",
       "\\item[main\\textbackslash{}\\_driver\\textbackslash{}\\_gender] 'character'\n",
       "\\item[insurance\\textbackslash{}\\_start\\textbackslash{}\\_date] 'numeric'\n",
       "\\item[phone\\textbackslash{}\\_exists] 'character'\n",
       "\\item[calc\\textbackslash{}\\_complete] 'numeric'\n",
       "\\item[calc\\textbackslash{}\\_incomplete] 'numeric'\n",
       "\\item[calc\\textbackslash{}\\_finished] 'numeric'\n",
       "\\item[phone\\textbackslash{}\\_yes] 'numeric'\n",
       "\\item[phone\\textbackslash{}\\_no] 'numeric'\n",
       "\\item[calculation\\textbackslash{}\\_type] 'character'\n",
       "\\item[terms\\textbackslash{}\\_acceptance] 'numeric'\n",
       "\\item[phone\\textbackslash{}\\_acceptance] 'numeric'\n",
       "\\item[phone\\textbackslash{}\\_accepted] 'numeric'\n",
       "\\item[step] 'numeric'\n",
       "\\item[created\\textbackslash{}\\_at] 'numeric'\n",
       "\\item[created\\textbackslash{}\\_at\\textbackslash{}\\_date] 'numeric'\n",
       "\\item[sent\\textbackslash{}\\_to\\textbackslash{}\\_sf] 'numeric'\n",
       "\\item[sf\\textbackslash{}\\_r\\textbackslash{}\\_purchasing] 'numeric'\n",
       "\\item[calculation\\textbackslash{}\\_state] 'character'\n",
       "\\item[oc\\textbackslash{}\\_offers\\textbackslash{}\\_qty] 'numeric'\n",
       "\\item[oc\\textbackslash{}\\_offer\\textbackslash{}\\_min\\textbackslash{}\\_val] 'numeric'\n",
       "\\item[ac\\textbackslash{}\\_offers\\textbackslash{}\\_qty] 'numeric'\n",
       "\\item[ac\\textbackslash{}\\_offer\\textbackslash{}\\_min\\textbackslash{}\\_val] 'numeric'\n",
       "\\item[b2c\\textbackslash{}\\_leads\\textbackslash{}\\_sent] 'numeric'\n",
       "\\item[form\\textbackslash{}\\_finished\\textbackslash{}\\_at] 'numeric'\n",
       "\\item[offer\\textbackslash{}\\_first\\textbackslash{}\\_at] 'numeric'\n",
       "\\item[offer\\textbackslash{}\\_last\\textbackslash{}\\_at] 'numeric'\n",
       "\\item[offer\\textbackslash{}\\_first\\textbackslash{}\\_after] 'numeric'\n",
       "\\item[offer\\textbackslash{}\\_last\\textbackslash{}\\_after] 'numeric'\n",
       "\\item[phone\\textbackslash{}\\_lookup\\textbackslash{}\\_status] 'numeric'\n",
       "\\item[utm\\textbackslash{}\\_campaign] 'character'\n",
       "\\item[utm\\textbackslash{}\\_content] 'character'\n",
       "\\item[utm\\textbackslash{}\\_medium] 'character'\n",
       "\\item[utm\\textbackslash{}\\_source] 'character'\n",
       "\\item[pkb\\textbackslash{}\\_transform\\textbackslash{}\\_ver] 'character'\n",
       "\\item[went\\textbackslash{}\\_to\\textbackslash{}\\_partners] 'numeric'\n",
       "\\item[contact\\textbackslash{}\\_requests] 'numeric'\n",
       "\\item[Acc\\textbackslash{}\\_Agreement\\textbackslash{}\\_call\\textbackslash{}\\_\\textbackslash{}\\_c] 'logical'\n",
       "\\item[Acc\\textbackslash{}\\_Agreement\\textbackslash{}\\_marketing\\textbackslash{}\\_\\textbackslash{}\\_c] 'logical'\n",
       "\\item[Acc\\textbackslash{}\\_Agreement\\textbackslash{}\\_newsletter\\textbackslash{}\\_\\textbackslash{}\\_c] 'logical'\n",
       "\\item[Acc\\textbackslash{}\\_Birthdate\\textbackslash{}\\_\\textbackslash{}\\_c] 'numeric'\n",
       "\\item[Acc\\textbackslash{}\\_PhoneHLRStatus\\textbackslash{}\\_\\textbackslash{}\\_c] 'character'\n",
       "\\item[Account\\textbackslash{}\\_\\textbackslash{}\\_r.AccountSource] 'character'\n",
       "\\item[Account\\textbackslash{}\\_\\textbackslash{}\\_r.AgreementCall\\textbackslash{}\\_\\textbackslash{}\\_pc] 'logical'\n",
       "\\item[Account\\textbackslash{}\\_\\textbackslash{}\\_r.AgreementMarketing\\textbackslash{}\\_\\textbackslash{}\\_pc] 'logical'\n",
       "\\item[Account\\textbackslash{}\\_\\textbackslash{}\\_r.AgreementNewsletter\\textbackslash{}\\_\\textbackslash{}\\_pc] 'logical'\n",
       "\\item[Account\\textbackslash{}\\_\\textbackslash{}\\_r.BillingCity] 'character'\n",
       "\\item[Account\\textbackslash{}\\_\\textbackslash{}\\_r.BillingPostalCode] 'character'\n",
       "\\item[Account\\textbackslash{}\\_\\textbackslash{}\\_r.CreatedDate] 'numeric'\n",
       "\\item[Account\\textbackslash{}\\_\\textbackslash{}\\_r.Gender\\textbackslash{}\\_\\textbackslash{}\\_pc] 'character'\n",
       "\\item[Account\\textbackslash{}\\_\\textbackslash{}\\_r.IsDeleted] 'logical'\n",
       "\\item[Account\\textbackslash{}\\_\\textbackslash{}\\_r.IsPersonAccount] 'logical'\n",
       "\\item[Account\\textbackslash{}\\_\\textbackslash{}\\_r.PersonBirthdate] 'numeric'\n",
       "\\item[Account\\textbackslash{}\\_\\textbackslash{}\\_r.PhoneHLRStatus\\textbackslash{}\\_\\textbackslash{}\\_pc] 'character'\n",
       "\\item[Account\\textbackslash{}\\_\\textbackslash{}\\_r.PhoneNATStatus\\textbackslash{}\\_\\textbackslash{}\\_pc] 'character'\n",
       "\\item[Account\\textbackslash{}\\_\\textbackslash{}\\_r.Salutation] 'character'\n",
       "\\item[Account\\textbackslash{}\\_\\textbackslash{}\\_r.Type] 'character'\n",
       "\\item[CalculationToken\\textbackslash{}\\_\\textbackslash{}\\_c] 'character'\n",
       "\\item[CarEngineCapacity\\textbackslash{}\\_\\textbackslash{}\\_c] 'numeric'\n",
       "\\item[CarFuelType\\textbackslash{}\\_\\textbackslash{}\\_c] 'character'\n",
       "\\item[CarMake\\textbackslash{}\\_\\textbackslash{}\\_c] 'character'\n",
       "\\item[CarModel\\textbackslash{}\\_\\textbackslash{}\\_c] 'character'\n",
       "\\item[CarYear\\textbackslash{}\\_\\textbackslash{}\\_c] 'numeric'\n",
       "\\item[CpcPaid\\textbackslash{}\\_\\textbackslash{}\\_c] 'logical'\n",
       "\\item[CreatedBy.Alias] 'character'\n",
       "\\item[CreatedBy.CreatedDate] 'numeric'\n",
       "\\item[CreatedDate] 'numeric'\n",
       "\\item[IsDeleted] 'logical'\n",
       "\\item[Mpc\\textbackslash{}\\_\\textbackslash{}\\_c] 'character'\n",
       "\\item[PolicyStartDate\\textbackslash{}\\_\\textbackslash{}\\_c] 'numeric'\n",
       "\\item[ProductScope\\textbackslash{}\\_\\textbackslash{}\\_c] 'character'\n",
       "\\item[Source\\textbackslash{}\\_\\textbackslash{}\\_c] 'character'\n",
       "\\item[WentToPartner\\textbackslash{}\\_\\textbackslash{}\\_c] 'logical'\n",
       "\\item[dont\\textbackslash{}\\_have\\textbackslash{}\\_this\\textbackslash{}\\_car\\textbackslash{}\\_\\textbackslash{}\\_c] 'logical'\n",
       "\\item[TelehubStatus\\textbackslash{}\\_\\textbackslash{}\\_c] 'character'\n",
       "\\item[Sale.success] 'numeric'\n",
       "\\end{description*}\n"
      ],
      "text/markdown": [
       "LastCall__c\n",
       ":   'numeric'etx_make_name\n",
       ":   'character'etx_model_name\n",
       ":   'character'etx_fuel_code\n",
       ":   'character'production_year\n",
       ":   'numeric'etx_model_code\n",
       ":   'character'protection_scope\n",
       ":   'character'kind\n",
       ":   'character'usage_type\n",
       ":   'character'use_frequency\n",
       ":   'character'child_carriage_frequency\n",
       ":   'character'mileage\n",
       ":   'numeric'yearly_mileage\n",
       ":   'numeric'used_abroad\n",
       ":   'numeric'night_parking_place\n",
       ":   'character'night_parking_place_postal_code\n",
       ":   'character'day_parking_place\n",
       ":   'character'day_parking_place_postal_code\n",
       ":   'character'theft_protection_installation\n",
       ":   'character'theft_protection_device_1\n",
       ":   'character'theft_protection_device_2\n",
       ":   'character'origin\n",
       ":   'character'buy_year\n",
       ":   'numeric'registration_date\n",
       ":   'numeric'is_damaged\n",
       ":   'character'leasing\n",
       ":   'character'car_worth\n",
       ":   'numeric'main_driver_postal_code\n",
       ":   'character'main_driver_age\n",
       ":   'numeric'main_driver_gender\n",
       ":   'character'insurance_start_date\n",
       ":   'numeric'phone_exists\n",
       ":   'character'calc_complete\n",
       ":   'numeric'calc_incomplete\n",
       ":   'numeric'calc_finished\n",
       ":   'numeric'phone_yes\n",
       ":   'numeric'phone_no\n",
       ":   'numeric'calculation_type\n",
       ":   'character'terms_acceptance\n",
       ":   'numeric'phone_acceptance\n",
       ":   'numeric'phone_accepted\n",
       ":   'numeric'step\n",
       ":   'numeric'created_at\n",
       ":   'numeric'created_at_date\n",
       ":   'numeric'sent_to_sf\n",
       ":   'numeric'sf_r_purchasing\n",
       ":   'numeric'calculation_state\n",
       ":   'character'oc_offers_qty\n",
       ":   'numeric'oc_offer_min_val\n",
       ":   'numeric'ac_offers_qty\n",
       ":   'numeric'ac_offer_min_val\n",
       ":   'numeric'b2c_leads_sent\n",
       ":   'numeric'form_finished_at\n",
       ":   'numeric'offer_first_at\n",
       ":   'numeric'offer_last_at\n",
       ":   'numeric'offer_first_after\n",
       ":   'numeric'offer_last_after\n",
       ":   'numeric'phone_lookup_status\n",
       ":   'numeric'utm_campaign\n",
       ":   'character'utm_content\n",
       ":   'character'utm_medium\n",
       ":   'character'utm_source\n",
       ":   'character'pkb_transform_ver\n",
       ":   'character'went_to_partners\n",
       ":   'numeric'contact_requests\n",
       ":   'numeric'Acc_Agreement_call__c\n",
       ":   'logical'Acc_Agreement_marketing__c\n",
       ":   'logical'Acc_Agreement_newsletter__c\n",
       ":   'logical'Acc_Birthdate__c\n",
       ":   'numeric'Acc_PhoneHLRStatus__c\n",
       ":   'character'Account__r.AccountSource\n",
       ":   'character'Account__r.AgreementCall__pc\n",
       ":   'logical'Account__r.AgreementMarketing__pc\n",
       ":   'logical'Account__r.AgreementNewsletter__pc\n",
       ":   'logical'Account__r.BillingCity\n",
       ":   'character'Account__r.BillingPostalCode\n",
       ":   'character'Account__r.CreatedDate\n",
       ":   'numeric'Account__r.Gender__pc\n",
       ":   'character'Account__r.IsDeleted\n",
       ":   'logical'Account__r.IsPersonAccount\n",
       ":   'logical'Account__r.PersonBirthdate\n",
       ":   'numeric'Account__r.PhoneHLRStatus__pc\n",
       ":   'character'Account__r.PhoneNATStatus__pc\n",
       ":   'character'Account__r.Salutation\n",
       ":   'character'Account__r.Type\n",
       ":   'character'CalculationToken__c\n",
       ":   'character'CarEngineCapacity__c\n",
       ":   'numeric'CarFuelType__c\n",
       ":   'character'CarMake__c\n",
       ":   'character'CarModel__c\n",
       ":   'character'CarYear__c\n",
       ":   'numeric'CpcPaid__c\n",
       ":   'logical'CreatedBy.Alias\n",
       ":   'character'CreatedBy.CreatedDate\n",
       ":   'numeric'CreatedDate\n",
       ":   'numeric'IsDeleted\n",
       ":   'logical'Mpc__c\n",
       ":   'character'PolicyStartDate__c\n",
       ":   'numeric'ProductScope__c\n",
       ":   'character'Source__c\n",
       ":   'character'WentToPartner__c\n",
       ":   'logical'dont_have_this_car__c\n",
       ":   'logical'TelehubStatus__c\n",
       ":   'character'Sale.success\n",
       ":   'numeric'\n",
       "\n"
      ],
      "text/plain": [
       "                       LastCall__c                      etx_make_name \n",
       "                         \"numeric\"                        \"character\" \n",
       "                    etx_model_name                      etx_fuel_code \n",
       "                       \"character\"                        \"character\" \n",
       "                   production_year                     etx_model_code \n",
       "                         \"numeric\"                        \"character\" \n",
       "                  protection_scope                               kind \n",
       "                       \"character\"                        \"character\" \n",
       "                        usage_type                      use_frequency \n",
       "                       \"character\"                        \"character\" \n",
       "          child_carriage_frequency                            mileage \n",
       "                       \"character\"                          \"numeric\" \n",
       "                    yearly_mileage                        used_abroad \n",
       "                         \"numeric\"                          \"numeric\" \n",
       "               night_parking_place    night_parking_place_postal_code \n",
       "                       \"character\"                        \"character\" \n",
       "                 day_parking_place      day_parking_place_postal_code \n",
       "                       \"character\"                        \"character\" \n",
       "     theft_protection_installation          theft_protection_device_1 \n",
       "                       \"character\"                        \"character\" \n",
       "         theft_protection_device_2                             origin \n",
       "                       \"character\"                        \"character\" \n",
       "                          buy_year                  registration_date \n",
       "                         \"numeric\"                          \"numeric\" \n",
       "                        is_damaged                            leasing \n",
       "                       \"character\"                        \"character\" \n",
       "                         car_worth            main_driver_postal_code \n",
       "                         \"numeric\"                        \"character\" \n",
       "                   main_driver_age                 main_driver_gender \n",
       "                         \"numeric\"                        \"character\" \n",
       "              insurance_start_date                       phone_exists \n",
       "                         \"numeric\"                        \"character\" \n",
       "                     calc_complete                    calc_incomplete \n",
       "                         \"numeric\"                          \"numeric\" \n",
       "                     calc_finished                          phone_yes \n",
       "                         \"numeric\"                          \"numeric\" \n",
       "                          phone_no                   calculation_type \n",
       "                         \"numeric\"                        \"character\" \n",
       "                  terms_acceptance                   phone_acceptance \n",
       "                         \"numeric\"                          \"numeric\" \n",
       "                    phone_accepted                               step \n",
       "                         \"numeric\"                          \"numeric\" \n",
       "                        created_at                    created_at_date \n",
       "                         \"numeric\"                          \"numeric\" \n",
       "                        sent_to_sf                    sf_r_purchasing \n",
       "                         \"numeric\"                          \"numeric\" \n",
       "                 calculation_state                      oc_offers_qty \n",
       "                       \"character\"                          \"numeric\" \n",
       "                  oc_offer_min_val                      ac_offers_qty \n",
       "                         \"numeric\"                          \"numeric\" \n",
       "                  ac_offer_min_val                     b2c_leads_sent \n",
       "                         \"numeric\"                          \"numeric\" \n",
       "                  form_finished_at                     offer_first_at \n",
       "                         \"numeric\"                          \"numeric\" \n",
       "                     offer_last_at                  offer_first_after \n",
       "                         \"numeric\"                          \"numeric\" \n",
       "                  offer_last_after                phone_lookup_status \n",
       "                         \"numeric\"                          \"numeric\" \n",
       "                      utm_campaign                        utm_content \n",
       "                       \"character\"                        \"character\" \n",
       "                        utm_medium                         utm_source \n",
       "                       \"character\"                        \"character\" \n",
       "                 pkb_transform_ver                   went_to_partners \n",
       "                       \"character\"                          \"numeric\" \n",
       "                  contact_requests              Acc_Agreement_call__c \n",
       "                         \"numeric\"                          \"logical\" \n",
       "        Acc_Agreement_marketing__c        Acc_Agreement_newsletter__c \n",
       "                         \"logical\"                          \"logical\" \n",
       "                  Acc_Birthdate__c              Acc_PhoneHLRStatus__c \n",
       "                         \"numeric\"                        \"character\" \n",
       "          Account__r.AccountSource       Account__r.AgreementCall__pc \n",
       "                       \"character\"                          \"logical\" \n",
       " Account__r.AgreementMarketing__pc Account__r.AgreementNewsletter__pc \n",
       "                         \"logical\"                          \"logical\" \n",
       "            Account__r.BillingCity       Account__r.BillingPostalCode \n",
       "                       \"character\"                        \"character\" \n",
       "            Account__r.CreatedDate              Account__r.Gender__pc \n",
       "                         \"numeric\"                        \"character\" \n",
       "              Account__r.IsDeleted         Account__r.IsPersonAccount \n",
       "                         \"logical\"                          \"logical\" \n",
       "        Account__r.PersonBirthdate      Account__r.PhoneHLRStatus__pc \n",
       "                         \"numeric\"                        \"character\" \n",
       "     Account__r.PhoneNATStatus__pc              Account__r.Salutation \n",
       "                       \"character\"                        \"character\" \n",
       "                   Account__r.Type                CalculationToken__c \n",
       "                       \"character\"                        \"character\" \n",
       "              CarEngineCapacity__c                     CarFuelType__c \n",
       "                         \"numeric\"                        \"character\" \n",
       "                        CarMake__c                        CarModel__c \n",
       "                       \"character\"                        \"character\" \n",
       "                        CarYear__c                         CpcPaid__c \n",
       "                         \"numeric\"                          \"logical\" \n",
       "                   CreatedBy.Alias              CreatedBy.CreatedDate \n",
       "                       \"character\"                          \"numeric\" \n",
       "                       CreatedDate                          IsDeleted \n",
       "                         \"numeric\"                          \"logical\" \n",
       "                            Mpc__c                 PolicyStartDate__c \n",
       "                       \"character\"                          \"numeric\" \n",
       "                   ProductScope__c                          Source__c \n",
       "                       \"character\"                        \"character\" \n",
       "                  WentToPartner__c              dont_have_this_car__c \n",
       "                         \"logical\"                          \"logical\" \n",
       "                  TelehubStatus__c                       Sale.success \n",
       "                       \"character\"                          \"numeric\" "
      ]
     },
     "metadata": {},
     "output_type": "display_data"
    }
   ],
   "source": [
    "sapply(train2,class)"
   ]
  },
  {
   "cell_type": "markdown",
   "metadata": {},
   "source": [
    "## Zamiana character -> factor, dodawanie poziomu NA"
   ]
  },
  {
   "cell_type": "code",
   "execution_count": 384,
   "metadata": {
    "collapsed": true
   },
   "outputs": [],
   "source": [
    "for (i in 1:length(train2)) {\n",
    "  if (is.character(train2[,i])){\n",
    "    train2[,i] = as.factor(train2[,i])\n",
    "  }\n",
    "  if (is.factor(train2[,i])){\n",
    "      train2[,i] = addNA(train2[,i])\n",
    "  }\n",
    "}"
   ]
  },
  {
   "cell_type": "markdown",
   "metadata": {},
   "source": [
    "## Usuwanie predyktorów z wariancją bliską zero (czyli takich co mają przeważnie jedną wartość lub jedna wartość jest drastycznie częsta)"
   ]
  },
  {
   "cell_type": "code",
   "execution_count": 385,
   "metadata": {},
   "outputs": [],
   "source": [
    "if (!require(\"caret\")){\n",
    "    install.packages(\"caret\")\n",
    "}\n",
    "library(\"caret\")"
   ]
  },
  {
   "cell_type": "code",
   "execution_count": 386,
   "metadata": {
    "collapsed": true
   },
   "outputs": [],
   "source": [
    "nzv = nearZeroVar(train2,freqCut=99) #bardzo duży cutoff - 99/1 (by nie obcinać zbyt dużo)"
   ]
  },
  {
   "cell_type": "code",
   "execution_count": 387,
   "metadata": {
    "scrolled": true
   },
   "outputs": [
    {
     "data": {
      "text/html": [
       "<ol class=list-inline>\n",
       "\t<li>'usage_type'</li>\n",
       "\t<li>'is_damaged'</li>\n",
       "\t<li>'leasing'</li>\n",
       "\t<li>'calc_complete'</li>\n",
       "\t<li>'calc_incomplete'</li>\n",
       "\t<li>'calc_finished'</li>\n",
       "\t<li>'calculation_type'</li>\n",
       "\t<li>'terms_acceptance'</li>\n",
       "\t<li>'sent_to_sf'</li>\n",
       "\t<li>'sf_r_purchasing'</li>\n",
       "\t<li>'calculation_state'</li>\n",
       "\t<li>'ac_offer_min_val'</li>\n",
       "\t<li>'pkb_transform_ver'</li>\n",
       "\t<li>'contact_requests'</li>\n",
       "\t<li>'Acc_Agreement_newsletter__c'</li>\n",
       "\t<li>'Account__r.AgreementNewsletter__pc'</li>\n",
       "\t<li>'Account__r.IsDeleted'</li>\n",
       "\t<li>'Account__r.IsPersonAccount'</li>\n",
       "\t<li>'Account__r.Type'</li>\n",
       "\t<li>'CpcPaid__c'</li>\n",
       "\t<li>'CreatedBy.Alias'</li>\n",
       "\t<li>'CreatedBy.CreatedDate'</li>\n",
       "\t<li>'IsDeleted'</li>\n",
       "</ol>\n"
      ],
      "text/latex": [
       "\\begin{enumerate*}\n",
       "\\item 'usage\\_type'\n",
       "\\item 'is\\_damaged'\n",
       "\\item 'leasing'\n",
       "\\item 'calc\\_complete'\n",
       "\\item 'calc\\_incomplete'\n",
       "\\item 'calc\\_finished'\n",
       "\\item 'calculation\\_type'\n",
       "\\item 'terms\\_acceptance'\n",
       "\\item 'sent\\_to\\_sf'\n",
       "\\item 'sf\\_r\\_purchasing'\n",
       "\\item 'calculation\\_state'\n",
       "\\item 'ac\\_offer\\_min\\_val'\n",
       "\\item 'pkb\\_transform\\_ver'\n",
       "\\item 'contact\\_requests'\n",
       "\\item 'Acc\\_Agreement\\_newsletter\\_\\_c'\n",
       "\\item 'Account\\_\\_r.AgreementNewsletter\\_\\_pc'\n",
       "\\item 'Account\\_\\_r.IsDeleted'\n",
       "\\item 'Account\\_\\_r.IsPersonAccount'\n",
       "\\item 'Account\\_\\_r.Type'\n",
       "\\item 'CpcPaid\\_\\_c'\n",
       "\\item 'CreatedBy.Alias'\n",
       "\\item 'CreatedBy.CreatedDate'\n",
       "\\item 'IsDeleted'\n",
       "\\end{enumerate*}\n"
      ],
      "text/markdown": [
       "1. 'usage_type'\n",
       "2. 'is_damaged'\n",
       "3. 'leasing'\n",
       "4. 'calc_complete'\n",
       "5. 'calc_incomplete'\n",
       "6. 'calc_finished'\n",
       "7. 'calculation_type'\n",
       "8. 'terms_acceptance'\n",
       "9. 'sent_to_sf'\n",
       "10. 'sf_r_purchasing'\n",
       "11. 'calculation_state'\n",
       "12. 'ac_offer_min_val'\n",
       "13. 'pkb_transform_ver'\n",
       "14. 'contact_requests'\n",
       "15. 'Acc_Agreement_newsletter__c'\n",
       "16. 'Account__r.AgreementNewsletter__pc'\n",
       "17. 'Account__r.IsDeleted'\n",
       "18. 'Account__r.IsPersonAccount'\n",
       "19. 'Account__r.Type'\n",
       "20. 'CpcPaid__c'\n",
       "21. 'CreatedBy.Alias'\n",
       "22. 'CreatedBy.CreatedDate'\n",
       "23. 'IsDeleted'\n",
       "\n",
       "\n"
      ],
      "text/plain": [
       " [1] \"usage_type\"                         \"is_damaged\"                        \n",
       " [3] \"leasing\"                            \"calc_complete\"                     \n",
       " [5] \"calc_incomplete\"                    \"calc_finished\"                     \n",
       " [7] \"calculation_type\"                   \"terms_acceptance\"                  \n",
       " [9] \"sent_to_sf\"                         \"sf_r_purchasing\"                   \n",
       "[11] \"calculation_state\"                  \"ac_offer_min_val\"                  \n",
       "[13] \"pkb_transform_ver\"                  \"contact_requests\"                  \n",
       "[15] \"Acc_Agreement_newsletter__c\"        \"Account__r.AgreementNewsletter__pc\"\n",
       "[17] \"Account__r.IsDeleted\"               \"Account__r.IsPersonAccount\"        \n",
       "[19] \"Account__r.Type\"                    \"CpcPaid__c\"                        \n",
       "[21] \"CreatedBy.Alias\"                    \"CreatedBy.CreatedDate\"             \n",
       "[23] \"IsDeleted\"                         "
      ]
     },
     "metadata": {},
     "output_type": "display_data"
    }
   ],
   "source": [
    "colnames(train2)[nzv]"
   ]
  },
  {
   "cell_type": "code",
   "execution_count": 388,
   "metadata": {
    "scrolled": true
   },
   "outputs": [
    {
     "data": {
      "text/html": [
       "81"
      ],
      "text/latex": [
       "81"
      ],
      "text/markdown": [
       "81"
      ],
      "text/plain": [
       "[1] 81"
      ]
     },
     "metadata": {},
     "output_type": "display_data"
    }
   ],
   "source": [
    "train3 = train2[,-nzv]\n",
    "#od razu mniej predyktorów:\n",
    "ncol(train3)"
   ]
  },
  {
   "cell_type": "markdown",
   "metadata": {},
   "source": [
    "## Imputacja numerycznych faktorów"
   ]
  },
  {
   "cell_type": "code",
   "execution_count": 389,
   "metadata": {
    "scrolled": true
   },
   "outputs": [
    {
     "data": {
      "text/html": [
       "<dl class=dl-horizontal>\n",
       "\t<dt>LastCall__c</dt>\n",
       "\t\t<dd>1</dd>\n",
       "\t<dt>production_year</dt>\n",
       "\t\t<dd>5</dd>\n",
       "\t<dt>mileage</dt>\n",
       "\t\t<dd>11</dd>\n",
       "\t<dt>yearly_mileage</dt>\n",
       "\t\t<dd>12</dd>\n",
       "\t<dt>used_abroad</dt>\n",
       "\t\t<dd>13</dd>\n",
       "\t<dt>buy_year</dt>\n",
       "\t\t<dd>22</dd>\n",
       "\t<dt>registration_date</dt>\n",
       "\t\t<dd>23</dd>\n",
       "\t<dt>car_worth</dt>\n",
       "\t\t<dd>24</dd>\n",
       "\t<dt>main_driver_age</dt>\n",
       "\t\t<dd>26</dd>\n",
       "\t<dt>insurance_start_date</dt>\n",
       "\t\t<dd>28</dd>\n",
       "\t<dt>phone_yes</dt>\n",
       "\t\t<dd>30</dd>\n",
       "\t<dt>phone_no</dt>\n",
       "\t\t<dd>31</dd>\n",
       "\t<dt>phone_acceptance</dt>\n",
       "\t\t<dd>32</dd>\n",
       "\t<dt>phone_accepted</dt>\n",
       "\t\t<dd>33</dd>\n",
       "\t<dt>step</dt>\n",
       "\t\t<dd>34</dd>\n",
       "\t<dt>created_at</dt>\n",
       "\t\t<dd>35</dd>\n",
       "\t<dt>created_at_date</dt>\n",
       "\t\t<dd>36</dd>\n",
       "\t<dt>oc_offers_qty</dt>\n",
       "\t\t<dd>37</dd>\n",
       "\t<dt>oc_offer_min_val</dt>\n",
       "\t\t<dd>38</dd>\n",
       "\t<dt>ac_offers_qty</dt>\n",
       "\t\t<dd>39</dd>\n",
       "\t<dt>b2c_leads_sent</dt>\n",
       "\t\t<dd>40</dd>\n",
       "\t<dt>form_finished_at</dt>\n",
       "\t\t<dd>41</dd>\n",
       "\t<dt>offer_first_at</dt>\n",
       "\t\t<dd>42</dd>\n",
       "\t<dt>offer_last_at</dt>\n",
       "\t\t<dd>43</dd>\n",
       "\t<dt>offer_first_after</dt>\n",
       "\t\t<dd>44</dd>\n",
       "\t<dt>offer_last_after</dt>\n",
       "\t\t<dd>45</dd>\n",
       "\t<dt>phone_lookup_status</dt>\n",
       "\t\t<dd>46</dd>\n",
       "\t<dt>went_to_partners</dt>\n",
       "\t\t<dd>51</dd>\n",
       "\t<dt>Acc_Birthdate__c</dt>\n",
       "\t\t<dd>54</dd>\n",
       "\t<dt>Account__r.CreatedDate</dt>\n",
       "\t\t<dd>61</dd>\n",
       "\t<dt>Account__r.PersonBirthdate</dt>\n",
       "\t\t<dd>63</dd>\n",
       "\t<dt>CarEngineCapacity__c</dt>\n",
       "\t\t<dd>68</dd>\n",
       "\t<dt>CarYear__c</dt>\n",
       "\t\t<dd>72</dd>\n",
       "\t<dt>CreatedDate</dt>\n",
       "\t\t<dd>73</dd>\n",
       "\t<dt>PolicyStartDate__c</dt>\n",
       "\t\t<dd>75</dd>\n",
       "</dl>\n"
      ],
      "text/latex": [
       "\\begin{description*}\n",
       "\\item[LastCall\\textbackslash{}\\_\\textbackslash{}\\_c] 1\n",
       "\\item[production\\textbackslash{}\\_year] 5\n",
       "\\item[mileage] 11\n",
       "\\item[yearly\\textbackslash{}\\_mileage] 12\n",
       "\\item[used\\textbackslash{}\\_abroad] 13\n",
       "\\item[buy\\textbackslash{}\\_year] 22\n",
       "\\item[registration\\textbackslash{}\\_date] 23\n",
       "\\item[car\\textbackslash{}\\_worth] 24\n",
       "\\item[main\\textbackslash{}\\_driver\\textbackslash{}\\_age] 26\n",
       "\\item[insurance\\textbackslash{}\\_start\\textbackslash{}\\_date] 28\n",
       "\\item[phone\\textbackslash{}\\_yes] 30\n",
       "\\item[phone\\textbackslash{}\\_no] 31\n",
       "\\item[phone\\textbackslash{}\\_acceptance] 32\n",
       "\\item[phone\\textbackslash{}\\_accepted] 33\n",
       "\\item[step] 34\n",
       "\\item[created\\textbackslash{}\\_at] 35\n",
       "\\item[created\\textbackslash{}\\_at\\textbackslash{}\\_date] 36\n",
       "\\item[oc\\textbackslash{}\\_offers\\textbackslash{}\\_qty] 37\n",
       "\\item[oc\\textbackslash{}\\_offer\\textbackslash{}\\_min\\textbackslash{}\\_val] 38\n",
       "\\item[ac\\textbackslash{}\\_offers\\textbackslash{}\\_qty] 39\n",
       "\\item[b2c\\textbackslash{}\\_leads\\textbackslash{}\\_sent] 40\n",
       "\\item[form\\textbackslash{}\\_finished\\textbackslash{}\\_at] 41\n",
       "\\item[offer\\textbackslash{}\\_first\\textbackslash{}\\_at] 42\n",
       "\\item[offer\\textbackslash{}\\_last\\textbackslash{}\\_at] 43\n",
       "\\item[offer\\textbackslash{}\\_first\\textbackslash{}\\_after] 44\n",
       "\\item[offer\\textbackslash{}\\_last\\textbackslash{}\\_after] 45\n",
       "\\item[phone\\textbackslash{}\\_lookup\\textbackslash{}\\_status] 46\n",
       "\\item[went\\textbackslash{}\\_to\\textbackslash{}\\_partners] 51\n",
       "\\item[Acc\\textbackslash{}\\_Birthdate\\textbackslash{}\\_\\textbackslash{}\\_c] 54\n",
       "\\item[Account\\textbackslash{}\\_\\textbackslash{}\\_r.CreatedDate] 61\n",
       "\\item[Account\\textbackslash{}\\_\\textbackslash{}\\_r.PersonBirthdate] 63\n",
       "\\item[CarEngineCapacity\\textbackslash{}\\_\\textbackslash{}\\_c] 68\n",
       "\\item[CarYear\\textbackslash{}\\_\\textbackslash{}\\_c] 72\n",
       "\\item[CreatedDate] 73\n",
       "\\item[PolicyStartDate\\textbackslash{}\\_\\textbackslash{}\\_c] 75\n",
       "\\end{description*}\n"
      ],
      "text/markdown": [
       "LastCall__c\n",
       ":   1production_year\n",
       ":   5mileage\n",
       ":   11yearly_mileage\n",
       ":   12used_abroad\n",
       ":   13buy_year\n",
       ":   22registration_date\n",
       ":   23car_worth\n",
       ":   24main_driver_age\n",
       ":   26insurance_start_date\n",
       ":   28phone_yes\n",
       ":   30phone_no\n",
       ":   31phone_acceptance\n",
       ":   32phone_accepted\n",
       ":   33step\n",
       ":   34created_at\n",
       ":   35created_at_date\n",
       ":   36oc_offers_qty\n",
       ":   37oc_offer_min_val\n",
       ":   38ac_offers_qty\n",
       ":   39b2c_leads_sent\n",
       ":   40form_finished_at\n",
       ":   41offer_first_at\n",
       ":   42offer_last_at\n",
       ":   43offer_first_after\n",
       ":   44offer_last_after\n",
       ":   45phone_lookup_status\n",
       ":   46went_to_partners\n",
       ":   51Acc_Birthdate__c\n",
       ":   54Account__r.CreatedDate\n",
       ":   61Account__r.PersonBirthdate\n",
       ":   63CarEngineCapacity__c\n",
       ":   68CarYear__c\n",
       ":   72CreatedDate\n",
       ":   73PolicyStartDate__c\n",
       ":   75\n",
       "\n"
      ],
      "text/plain": [
       "               LastCall__c            production_year \n",
       "                         1                          5 \n",
       "                   mileage             yearly_mileage \n",
       "                        11                         12 \n",
       "               used_abroad                   buy_year \n",
       "                        13                         22 \n",
       "         registration_date                  car_worth \n",
       "                        23                         24 \n",
       "           main_driver_age       insurance_start_date \n",
       "                        26                         28 \n",
       "                 phone_yes                   phone_no \n",
       "                        30                         31 \n",
       "          phone_acceptance             phone_accepted \n",
       "                        32                         33 \n",
       "                      step                 created_at \n",
       "                        34                         35 \n",
       "           created_at_date              oc_offers_qty \n",
       "                        36                         37 \n",
       "          oc_offer_min_val              ac_offers_qty \n",
       "                        38                         39 \n",
       "            b2c_leads_sent           form_finished_at \n",
       "                        40                         41 \n",
       "            offer_first_at              offer_last_at \n",
       "                        42                         43 \n",
       "         offer_first_after           offer_last_after \n",
       "                        44                         45 \n",
       "       phone_lookup_status           went_to_partners \n",
       "                        46                         51 \n",
       "          Acc_Birthdate__c     Account__r.CreatedDate \n",
       "                        54                         61 \n",
       "Account__r.PersonBirthdate       CarEngineCapacity__c \n",
       "                        63                         68 \n",
       "                CarYear__c                CreatedDate \n",
       "                        72                         73 \n",
       "        PolicyStartDate__c \n",
       "                        75 "
      ]
     },
     "metadata": {},
     "output_type": "display_data"
    }
   ],
   "source": [
    "numericpreds = which(sapply(train3,class)=='numeric')\n",
    "yind = which(names(numericpreds)=='Sale.success')\n",
    "numericpreds = numericpreds[-yind]\n",
    "numericpreds"
   ]
  },
  {
   "cell_type": "markdown",
   "metadata": {},
   "source": [
    "### Numeryczne atrybuty bez NA, poszukam takich:"
   ]
  },
  {
   "cell_type": "code",
   "execution_count": 390,
   "metadata": {
    "collapsed": true
   },
   "outputs": [],
   "source": [
    "has_NA = sapply(numericpreds,function(npred)any(is.na(train3[,npred])))"
   ]
  },
  {
   "cell_type": "code",
   "execution_count": 391,
   "metadata": {},
   "outputs": [
    {
     "data": {
      "text/html": [
       "<dl class=dl-horizontal>\n",
       "\t<dt>LastCall__c</dt>\n",
       "\t\t<dd>1</dd>\n",
       "\t<dt>mileage</dt>\n",
       "\t\t<dd>11</dd>\n",
       "\t<dt>yearly_mileage</dt>\n",
       "\t\t<dd>12</dd>\n",
       "\t<dt>buy_year</dt>\n",
       "\t\t<dd>22</dd>\n",
       "\t<dt>car_worth</dt>\n",
       "\t\t<dd>24</dd>\n",
       "\t<dt>oc_offers_qty</dt>\n",
       "\t\t<dd>37</dd>\n",
       "\t<dt>ac_offers_qty</dt>\n",
       "\t\t<dd>39</dd>\n",
       "\t<dt>b2c_leads_sent</dt>\n",
       "\t\t<dd>40</dd>\n",
       "\t<dt>form_finished_at</dt>\n",
       "\t\t<dd>41</dd>\n",
       "\t<dt>offer_first_at</dt>\n",
       "\t\t<dd>42</dd>\n",
       "\t<dt>offer_last_at</dt>\n",
       "\t\t<dd>43</dd>\n",
       "\t<dt>Acc_Birthdate__c</dt>\n",
       "\t\t<dd>54</dd>\n",
       "\t<dt>Account__r.PersonBirthdate</dt>\n",
       "\t\t<dd>63</dd>\n",
       "\t<dt>CarEngineCapacity__c</dt>\n",
       "\t\t<dd>68</dd>\n",
       "\t<dt>CarYear__c</dt>\n",
       "\t\t<dd>72</dd>\n",
       "\t<dt>PolicyStartDate__c</dt>\n",
       "\t\t<dd>75</dd>\n",
       "</dl>\n"
      ],
      "text/latex": [
       "\\begin{description*}\n",
       "\\item[LastCall\\textbackslash{}\\_\\textbackslash{}\\_c] 1\n",
       "\\item[mileage] 11\n",
       "\\item[yearly\\textbackslash{}\\_mileage] 12\n",
       "\\item[buy\\textbackslash{}\\_year] 22\n",
       "\\item[car\\textbackslash{}\\_worth] 24\n",
       "\\item[oc\\textbackslash{}\\_offers\\textbackslash{}\\_qty] 37\n",
       "\\item[ac\\textbackslash{}\\_offers\\textbackslash{}\\_qty] 39\n",
       "\\item[b2c\\textbackslash{}\\_leads\\textbackslash{}\\_sent] 40\n",
       "\\item[form\\textbackslash{}\\_finished\\textbackslash{}\\_at] 41\n",
       "\\item[offer\\textbackslash{}\\_first\\textbackslash{}\\_at] 42\n",
       "\\item[offer\\textbackslash{}\\_last\\textbackslash{}\\_at] 43\n",
       "\\item[Acc\\textbackslash{}\\_Birthdate\\textbackslash{}\\_\\textbackslash{}\\_c] 54\n",
       "\\item[Account\\textbackslash{}\\_\\textbackslash{}\\_r.PersonBirthdate] 63\n",
       "\\item[CarEngineCapacity\\textbackslash{}\\_\\textbackslash{}\\_c] 68\n",
       "\\item[CarYear\\textbackslash{}\\_\\textbackslash{}\\_c] 72\n",
       "\\item[PolicyStartDate\\textbackslash{}\\_\\textbackslash{}\\_c] 75\n",
       "\\end{description*}\n"
      ],
      "text/markdown": [
       "LastCall__c\n",
       ":   1mileage\n",
       ":   11yearly_mileage\n",
       ":   12buy_year\n",
       ":   22car_worth\n",
       ":   24oc_offers_qty\n",
       ":   37ac_offers_qty\n",
       ":   39b2c_leads_sent\n",
       ":   40form_finished_at\n",
       ":   41offer_first_at\n",
       ":   42offer_last_at\n",
       ":   43Acc_Birthdate__c\n",
       ":   54Account__r.PersonBirthdate\n",
       ":   63CarEngineCapacity__c\n",
       ":   68CarYear__c\n",
       ":   72PolicyStartDate__c\n",
       ":   75\n",
       "\n"
      ],
      "text/plain": [
       "               LastCall__c                    mileage \n",
       "                         1                         11 \n",
       "            yearly_mileage                   buy_year \n",
       "                        12                         22 \n",
       "                 car_worth              oc_offers_qty \n",
       "                        24                         37 \n",
       "             ac_offers_qty             b2c_leads_sent \n",
       "                        39                         40 \n",
       "          form_finished_at             offer_first_at \n",
       "                        41                         42 \n",
       "             offer_last_at           Acc_Birthdate__c \n",
       "                        43                         54 \n",
       "Account__r.PersonBirthdate       CarEngineCapacity__c \n",
       "                        63                         68 \n",
       "                CarYear__c         PolicyStartDate__c \n",
       "                        72                         75 "
      ]
     },
     "metadata": {},
     "output_type": "display_data"
    }
   ],
   "source": [
    "numericpreds = numericpreds[has_NA]\n",
    "numericpreds\n",
    "numericpreds_keep_to_test = numericpreds"
   ]
  },
  {
   "cell_type": "markdown",
   "metadata": {},
   "source": [
    "Jest ich na tyle mało, że imputacja może być ręczna"
   ]
  },
  {
   "cell_type": "code",
   "execution_count": 392,
   "metadata": {},
   "outputs": [
    {
     "data": {
      "text/html": [
       "<dl class=dl-horizontal>\n",
       "\t<dt>LastCall__c</dt>\n",
       "\t\t<dd>0.762894304081328</dd>\n",
       "\t<dt>mileage</dt>\n",
       "\t\t<dd>5.3392563483758e-05</dd>\n",
       "\t<dt>yearly_mileage</dt>\n",
       "\t\t<dd>4.27140507870064e-05</dd>\n",
       "\t<dt>buy_year</dt>\n",
       "\t\t<dd>5.3392563483758e-05</dd>\n",
       "\t<dt>car_worth</dt>\n",
       "\t\t<dd>0.0358370886102984</dd>\n",
       "\t<dt>oc_offers_qty</dt>\n",
       "\t\t<dd>0.00184738269653803</dd>\n",
       "\t<dt>ac_offers_qty</dt>\n",
       "\t\t<dd>0.142857142857143</dd>\n",
       "\t<dt>b2c_leads_sent</dt>\n",
       "\t\t<dd>0.070328684620806</dd>\n",
       "\t<dt>form_finished_at</dt>\n",
       "\t\t<dd>0.00020289174123828</dd>\n",
       "\t<dt>offer_first_at</dt>\n",
       "\t\t<dd>0.284336757576405</dd>\n",
       "\t<dt>offer_last_at</dt>\n",
       "\t\t<dd>0.284336757576405</dd>\n",
       "\t<dt>Acc_Birthdate__c</dt>\n",
       "\t\t<dd>0.492279435320249</dd>\n",
       "\t<dt>Account__r.PersonBirthdate</dt>\n",
       "\t\t<dd>0.492279435320249</dd>\n",
       "\t<dt>CarEngineCapacity__c</dt>\n",
       "\t\t<dd>0.0316297546077782</dd>\n",
       "\t<dt>CarYear__c</dt>\n",
       "\t\t<dd>0.031512290968114</dd>\n",
       "\t<dt>PolicyStartDate__c</dt>\n",
       "\t\t<dd>0.00704781837985605</dd>\n",
       "</dl>\n"
      ],
      "text/latex": [
       "\\begin{description*}\n",
       "\\item[LastCall\\textbackslash{}\\_\\textbackslash{}\\_c] 0.762894304081328\n",
       "\\item[mileage] 5.3392563483758e-05\n",
       "\\item[yearly\\textbackslash{}\\_mileage] 4.27140507870064e-05\n",
       "\\item[buy\\textbackslash{}\\_year] 5.3392563483758e-05\n",
       "\\item[car\\textbackslash{}\\_worth] 0.0358370886102984\n",
       "\\item[oc\\textbackslash{}\\_offers\\textbackslash{}\\_qty] 0.00184738269653803\n",
       "\\item[ac\\textbackslash{}\\_offers\\textbackslash{}\\_qty] 0.142857142857143\n",
       "\\item[b2c\\textbackslash{}\\_leads\\textbackslash{}\\_sent] 0.070328684620806\n",
       "\\item[form\\textbackslash{}\\_finished\\textbackslash{}\\_at] 0.00020289174123828\n",
       "\\item[offer\\textbackslash{}\\_first\\textbackslash{}\\_at] 0.284336757576405\n",
       "\\item[offer\\textbackslash{}\\_last\\textbackslash{}\\_at] 0.284336757576405\n",
       "\\item[Acc\\textbackslash{}\\_Birthdate\\textbackslash{}\\_\\textbackslash{}\\_c] 0.492279435320249\n",
       "\\item[Account\\textbackslash{}\\_\\textbackslash{}\\_r.PersonBirthdate] 0.492279435320249\n",
       "\\item[CarEngineCapacity\\textbackslash{}\\_\\textbackslash{}\\_c] 0.0316297546077782\n",
       "\\item[CarYear\\textbackslash{}\\_\\textbackslash{}\\_c] 0.031512290968114\n",
       "\\item[PolicyStartDate\\textbackslash{}\\_\\textbackslash{}\\_c] 0.00704781837985605\n",
       "\\end{description*}\n"
      ],
      "text/markdown": [
       "LastCall__c\n",
       ":   0.762894304081328mileage\n",
       ":   5.3392563483758e-05yearly_mileage\n",
       ":   4.27140507870064e-05buy_year\n",
       ":   5.3392563483758e-05car_worth\n",
       ":   0.0358370886102984oc_offers_qty\n",
       ":   0.00184738269653803ac_offers_qty\n",
       ":   0.142857142857143b2c_leads_sent\n",
       ":   0.070328684620806form_finished_at\n",
       ":   0.00020289174123828offer_first_at\n",
       ":   0.284336757576405offer_last_at\n",
       ":   0.284336757576405Acc_Birthdate__c\n",
       ":   0.492279435320249Account__r.PersonBirthdate\n",
       ":   0.492279435320249CarEngineCapacity__c\n",
       ":   0.0316297546077782CarYear__c\n",
       ":   0.031512290968114PolicyStartDate__c\n",
       ":   0.00704781837985605\n",
       "\n"
      ],
      "text/plain": [
       "               LastCall__c                    mileage \n",
       "              7.628943e-01               5.339256e-05 \n",
       "            yearly_mileage                   buy_year \n",
       "              4.271405e-05               5.339256e-05 \n",
       "                 car_worth              oc_offers_qty \n",
       "              3.583709e-02               1.847383e-03 \n",
       "             ac_offers_qty             b2c_leads_sent \n",
       "              1.428571e-01               7.032868e-02 \n",
       "          form_finished_at             offer_first_at \n",
       "              2.028917e-04               2.843368e-01 \n",
       "             offer_last_at           Acc_Birthdate__c \n",
       "              2.843368e-01               4.922794e-01 \n",
       "Account__r.PersonBirthdate       CarEngineCapacity__c \n",
       "              4.922794e-01               3.162975e-02 \n",
       "                CarYear__c         PolicyStartDate__c \n",
       "              3.151229e-02               7.047818e-03 "
      ]
     },
     "metadata": {},
     "output_type": "display_data"
    }
   ],
   "source": [
    "#sprawdzam frakcję brakujących danych\n",
    "sapply(train3[,numericpreds],function(x){mean(is.na(x))})"
   ]
  },
  {
   "cell_type": "code",
   "execution_count": 393,
   "metadata": {
    "collapsed": true
   },
   "outputs": [],
   "source": [
    "#kilka predyktorów ma dużo brakujących danych - trzeba będzie potem pomyśleć co z tym można zrobić"
   ]
  },
  {
   "cell_type": "code",
   "execution_count": 394,
   "metadata": {},
   "outputs": [
    {
     "data": {
      "text/html": [
       "16"
      ],
      "text/latex": [
       "16"
      ],
      "text/markdown": [
       "16"
      ],
      "text/plain": [
       "[1] 16"
      ]
     },
     "metadata": {},
     "output_type": "display_data"
    }
   ],
   "source": [
    "length(numericpreds)"
   ]
  },
  {
   "cell_type": "code",
   "execution_count": 395,
   "metadata": {
    "scrolled": true
   },
   "outputs": [
    {
     "data": {
      "image/png": "[encoded data removed]",
      "text/plain": [
       "Plot with title “CarYear__c”"
      ]
     },
     "metadata": {},
     "output_type": "display_data"
    },
    {
     "data": {
      "image/png": "[encoded data removed]",
      "text/plain": [
       "Plot with title “PolicyStartDate__c”"
      ]
     },
     "metadata": {},
     "output_type": "display_data"
    }
   ],
   "source": [
    "#rozkład wartości w predyktorach\n",
    "par(mfrow=c(5,3))\n",
    "for (i in 1:length(numericpreds)){\n",
    "    hist(train3[,numericpreds[i]],main=colnames(train3)[numericpreds[i]])\n",
    "}"
   ]
  },
  {
   "cell_type": "markdown",
   "metadata": {},
   "source": [
    "Imputacja brakujących danych przez średnie (inne metody są niewykonalne w skończonym czasie)"
   ]
  },
  {
   "cell_type": "code",
   "execution_count": 396,
   "metadata": {
    "collapsed": true
   },
   "outputs": [],
   "source": [
    "for (numericpred in numericpreds){\n",
    "    train3[which(is.na(train3[,numericpred])),numericpred] = as.integer(mean(na.omit(train3[,numericpred])))\n",
    "}"
   ]
  },
  {
   "cell_type": "code",
   "execution_count": 397,
   "metadata": {},
   "outputs": [
    {
     "data": {
      "text/html": [
       "FALSE"
      ],
      "text/latex": [
       "FALSE"
      ],
      "text/markdown": [
       "FALSE"
      ],
      "text/plain": [
       "[1] FALSE"
      ]
     },
     "metadata": {},
     "output_type": "display_data"
    }
   ],
   "source": [
    "#nie ma już żadnych brakujących wartości\n",
    "any(sapply(train3,function(x)any(is.na(x))))"
   ]
  },
  {
   "cell_type": "markdown",
   "metadata": {},
   "source": [
    "## Zamiana logical na numeric"
   ]
  },
  {
   "cell_type": "code",
   "execution_count": 398,
   "metadata": {},
   "outputs": [
    {
     "data": {
      "text/html": [
       "<ol class=list-inline>\n",
       "\t<li>52</li>\n",
       "\t<li>53</li>\n",
       "\t<li>57</li>\n",
       "\t<li>58</li>\n",
       "\t<li>78</li>\n",
       "\t<li>79</li>\n",
       "</ol>\n"
      ],
      "text/latex": [
       "\\begin{enumerate*}\n",
       "\\item 52\n",
       "\\item 53\n",
       "\\item 57\n",
       "\\item 58\n",
       "\\item 78\n",
       "\\item 79\n",
       "\\end{enumerate*}\n"
      ],
      "text/markdown": [
       "1. 52\n",
       "2. 53\n",
       "3. 57\n",
       "4. 58\n",
       "5. 78\n",
       "6. 79\n",
       "\n",
       "\n"
      ],
      "text/plain": [
       "[1] 52 53 57 58 78 79"
      ]
     },
     "metadata": {},
     "output_type": "display_data"
    }
   ],
   "source": [
    "(linds = which(sapply(train3,class)%in%c('logical')))"
   ]
  },
  {
   "cell_type": "code",
   "execution_count": 399,
   "metadata": {
    "collapsed": true
   },
   "outputs": [],
   "source": [
    "for (l in linds){\n",
    "    train3[,l] = as.integer(train3[,l])\n",
    "}"
   ]
  },
  {
   "cell_type": "markdown",
   "metadata": {},
   "source": [
    "## Korelacje"
   ]
  },
  {
   "cell_type": "code",
   "execution_count": 400,
   "metadata": {
    "collapsed": true
   },
   "outputs": [],
   "source": [
    "#korelacja nie dziala dla factorow - sprawdzam zatem tylko dla ilosciowych\n",
    "numerics = which(sapply(train3,class)%in%c('numeric','integer'))\n",
    "cr = cor(train3[,numerics])"
   ]
  },
  {
   "cell_type": "code",
   "execution_count": 401,
   "metadata": {
    "collapsed": true
   },
   "outputs": [],
   "source": [
    "correlated = findCorrelation(cr,cutoff= 0.8,names=TRUE)"
   ]
  },
  {
   "cell_type": "code",
   "execution_count": 402,
   "metadata": {},
   "outputs": [
    {
     "data": {
      "text/html": [
       "<ol class=list-inline>\n",
       "\t<li>'Account__r.CreatedDate'</li>\n",
       "\t<li>'CreatedDate'</li>\n",
       "\t<li>'created_at'</li>\n",
       "\t<li>'form_finished_at'</li>\n",
       "\t<li>'created_at_date'</li>\n",
       "\t<li>'insurance_start_date'</li>\n",
       "\t<li>'offer_first_at'</li>\n",
       "\t<li>'phone_yes'</li>\n",
       "\t<li>'phone_no'</li>\n",
       "\t<li>'phone_acceptance'</li>\n",
       "\t<li>'phone_accepted'</li>\n",
       "\t<li>'Acc_Agreement_call__c'</li>\n",
       "\t<li>'Acc_Agreement_marketing__c'</li>\n",
       "\t<li>'Account__r.AgreementCall__pc'</li>\n",
       "\t<li>'oc_offers_qty'</li>\n",
       "\t<li>'Acc_Birthdate__c'</li>\n",
       "</ol>\n"
      ],
      "text/latex": [
       "\\begin{enumerate*}\n",
       "\\item 'Account\\_\\_r.CreatedDate'\n",
       "\\item 'CreatedDate'\n",
       "\\item 'created\\_at'\n",
       "\\item 'form\\_finished\\_at'\n",
       "\\item 'created\\_at\\_date'\n",
       "\\item 'insurance\\_start\\_date'\n",
       "\\item 'offer\\_first\\_at'\n",
       "\\item 'phone\\_yes'\n",
       "\\item 'phone\\_no'\n",
       "\\item 'phone\\_acceptance'\n",
       "\\item 'phone\\_accepted'\n",
       "\\item 'Acc\\_Agreement\\_call\\_\\_c'\n",
       "\\item 'Acc\\_Agreement\\_marketing\\_\\_c'\n",
       "\\item 'Account\\_\\_r.AgreementCall\\_\\_pc'\n",
       "\\item 'oc\\_offers\\_qty'\n",
       "\\item 'Acc\\_Birthdate\\_\\_c'\n",
       "\\end{enumerate*}\n"
      ],
      "text/markdown": [
       "1. 'Account__r.CreatedDate'\n",
       "2. 'CreatedDate'\n",
       "3. 'created_at'\n",
       "4. 'form_finished_at'\n",
       "5. 'created_at_date'\n",
       "6. 'insurance_start_date'\n",
       "7. 'offer_first_at'\n",
       "8. 'phone_yes'\n",
       "9. 'phone_no'\n",
       "10. 'phone_acceptance'\n",
       "11. 'phone_accepted'\n",
       "12. 'Acc_Agreement_call__c'\n",
       "13. 'Acc_Agreement_marketing__c'\n",
       "14. 'Account__r.AgreementCall__pc'\n",
       "15. 'oc_offers_qty'\n",
       "16. 'Acc_Birthdate__c'\n",
       "\n",
       "\n"
      ],
      "text/plain": [
       " [1] \"Account__r.CreatedDate\"       \"CreatedDate\"                 \n",
       " [3] \"created_at\"                   \"form_finished_at\"            \n",
       " [5] \"created_at_date\"              \"insurance_start_date\"        \n",
       " [7] \"offer_first_at\"               \"phone_yes\"                   \n",
       " [9] \"phone_no\"                     \"phone_acceptance\"            \n",
       "[11] \"phone_accepted\"               \"Acc_Agreement_call__c\"       \n",
       "[13] \"Acc_Agreement_marketing__c\"   \"Account__r.AgreementCall__pc\"\n",
       "[15] \"oc_offers_qty\"                \"Acc_Birthdate__c\"            "
      ]
     },
     "metadata": {},
     "output_type": "display_data"
    }
   ],
   "source": [
    "correlated"
   ]
  },
  {
   "cell_type": "code",
   "execution_count": 403,
   "metadata": {
    "collapsed": true
   },
   "outputs": [],
   "source": [
    "traininds = sapply(correlated,function(cc)which(colnames(train3)==cc))"
   ]
  },
  {
   "cell_type": "code",
   "execution_count": 404,
   "metadata": {
    "collapsed": true
   },
   "outputs": [],
   "source": [
    "train4 = train3[,-traininds]"
   ]
  },
  {
   "cell_type": "code",
   "execution_count": 405,
   "metadata": {},
   "outputs": [
    {
     "data": {
      "text/html": [
       "65"
      ],
      "text/latex": [
       "65"
      ],
      "text/markdown": [
       "65"
      ],
      "text/plain": [
       "[1] 65"
      ]
     },
     "metadata": {},
     "output_type": "display_data"
    }
   ],
   "source": [
    "ncol(train4)"
   ]
  },
  {
   "cell_type": "markdown",
   "metadata": {},
   "source": [
    "## Współliniowość"
   ]
  },
  {
   "cell_type": "code",
   "execution_count": 406,
   "metadata": {
    "collapsed": true
   },
   "outputs": [],
   "source": [
    "#podobnie jak wczesniej, znowu dla ilosciowych tylko\n",
    "numerics = which(sapply(train4,class)%in%c('numeric','integer'))"
   ]
  },
  {
   "cell_type": "code",
   "execution_count": 407,
   "metadata": {},
   "outputs": [
    {
     "data": {
      "text/html": [
       "<ol class=list-inline>\n",
       "\t<li>1</li>\n",
       "\t<li>5</li>\n",
       "\t<li>11</li>\n",
       "\t<li>12</li>\n",
       "\t<li>13</li>\n",
       "\t<li>22</li>\n",
       "\t<li>23</li>\n",
       "\t<li>24</li>\n",
       "\t<li>26</li>\n",
       "\t<li>29</li>\n",
       "\t<li>30</li>\n",
       "\t<li>31</li>\n",
       "\t<li>32</li>\n",
       "\t<li>33</li>\n",
       "\t<li>34</li>\n",
       "\t<li>35</li>\n",
       "\t<li>36</li>\n",
       "\t<li>41</li>\n",
       "\t<li>44</li>\n",
       "\t<li>48</li>\n",
       "\t<li>53</li>\n",
       "\t<li>57</li>\n",
       "\t<li>59</li>\n",
       "\t<li>62</li>\n",
       "\t<li>63</li>\n",
       "\t<li>65</li>\n",
       "</ol>\n"
      ],
      "text/latex": [
       "\\begin{enumerate*}\n",
       "\\item 1\n",
       "\\item 5\n",
       "\\item 11\n",
       "\\item 12\n",
       "\\item 13\n",
       "\\item 22\n",
       "\\item 23\n",
       "\\item 24\n",
       "\\item 26\n",
       "\\item 29\n",
       "\\item 30\n",
       "\\item 31\n",
       "\\item 32\n",
       "\\item 33\n",
       "\\item 34\n",
       "\\item 35\n",
       "\\item 36\n",
       "\\item 41\n",
       "\\item 44\n",
       "\\item 48\n",
       "\\item 53\n",
       "\\item 57\n",
       "\\item 59\n",
       "\\item 62\n",
       "\\item 63\n",
       "\\item 65\n",
       "\\end{enumerate*}\n"
      ],
      "text/markdown": [
       "1. 1\n",
       "2. 5\n",
       "3. 11\n",
       "4. 12\n",
       "5. 13\n",
       "6. 22\n",
       "7. 23\n",
       "8. 24\n",
       "9. 26\n",
       "10. 29\n",
       "11. 30\n",
       "12. 31\n",
       "13. 32\n",
       "14. 33\n",
       "15. 34\n",
       "16. 35\n",
       "17. 36\n",
       "18. 41\n",
       "19. 44\n",
       "20. 48\n",
       "21. 53\n",
       "22. 57\n",
       "23. 59\n",
       "24. 62\n",
       "25. 63\n",
       "26. 65\n",
       "\n",
       "\n"
      ],
      "text/plain": [
       " [1]  1  5 11 12 13 22 23 24 26 29 30 31 32 33 34 35 36 41 44 48 53 57 59 62 63\n",
       "[26] 65"
      ]
     },
     "metadata": {},
     "output_type": "display_data"
    }
   ],
   "source": [
    "numerics"
   ]
  },
  {
   "cell_type": "code",
   "execution_count": 408,
   "metadata": {
    "collapsed": true
   },
   "outputs": [],
   "source": [
    "combos = findLinearCombos(train4[,numerics])"
   ]
  },
  {
   "cell_type": "code",
   "execution_count": 409,
   "metadata": {},
   "outputs": [
    {
     "data": {
      "text/plain": [
       "$linearCombos\n",
       "list()\n",
       "\n",
       "$remove\n",
       "NULL\n"
      ]
     },
     "metadata": {},
     "output_type": "display_data"
    }
   ],
   "source": [
    "combos"
   ]
  },
  {
   "cell_type": "markdown",
   "metadata": {},
   "source": [
    "Korelacja usunęła współliniowości."
   ]
  },
  {
   "cell_type": "markdown",
   "metadata": {},
   "source": [
    "## Zamiana kodów pocztowych na rejon"
   ]
  },
  {
   "cell_type": "markdown",
   "metadata": {},
   "source": [
    "### Funkcja"
   ]
  },
  {
   "cell_type": "code",
   "execution_count": 410,
   "metadata": {
    "collapsed": true
   },
   "outputs": [],
   "source": [
    "postalCodeToRegion = function (vector){\n",
    "    vector = as.character(vector)\n",
    "    codes = sapply(vector,function(v){\n",
    "        if (is.na(v) | (substr(v,3,3) != '-') | (nchar(v) != 6)){\n",
    "            NA\n",
    "        } else {\n",
    "            aa = substr(v,1,2)\n",
    "            a = substr(aa,1,1)\n",
    "            if (a == '0'){\n",
    "                if (aa %in% c('00','01','02','03','04','05')){\n",
    "                    'Warsaw'\n",
    "                } else {\n",
    "                    'Warsaw Region'\n",
    "                }\n",
    "            }else if (a == '1'){\n",
    "                if (aa == '10'){\n",
    "                    'Olsztyn'\n",
    "                } else if (aa=='15'){\n",
    "                    'Bialystok'\n",
    "                } else {\n",
    "                    'Olsztyn Region'\n",
    "                }\n",
    "            }else if (a == '2'){\n",
    "                if (aa == '20'){\n",
    "                    'Lublin'\n",
    "                } else if (aa=='25'){\n",
    "                    'Kielce'\n",
    "                } else if (aa=='26'){\n",
    "                    'Radom'\n",
    "                } else {\n",
    "                    'Lublin Region'\n",
    "                }\n",
    "            }else if (a == '3'){\n",
    "                if (aa %in% c('30','31')){\n",
    "                    'Krakow'\n",
    "                } else if (aa=='35'){\n",
    "                    'Rzeszow'\n",
    "                } else {\n",
    "                    'Krakow Region'\n",
    "                }\n",
    "            }else if (a == '4'){\n",
    "                if (aa =='40'){\n",
    "                    'Katowice'\n",
    "                } else if (aa=='45'){\n",
    "                    'Opole'\n",
    "                } else {\n",
    "                    'Katowice Region'\n",
    "                }\n",
    "            }else if (a == '5'){\n",
    "                if (aa %in% c('50','51','52','53','54')){\n",
    "                    'Wroclaw'\n",
    "                } else {\n",
    "                    'Wroclaw Region'\n",
    "                }\n",
    "            }else if (a == '6'){\n",
    "                if (aa %in% c('60','61')){\n",
    "                    'Poznan'\n",
    "                } else if (aa=='65'){\n",
    "                    'Zielona Gora'\n",
    "                } else {\n",
    "                    'Poznan Region'\n",
    "                }\n",
    "            }else if (a == '7'){\n",
    "                if (aa %in% c('70','71')){\n",
    "                    'Szczecin'\n",
    "                } else if (aa=='75'){\n",
    "                    'Koszalin'\n",
    "                } else {\n",
    "                    'Szczecin Region'\n",
    "                }\n",
    "            }else if (a == '8'){\n",
    "                if (aa=='80'){\n",
    "                    'Gdansk'\n",
    "                } else if (aa=='81'){\n",
    "                    'Gdynia'\n",
    "                } else if (aa=='87'){\n",
    "                    'Torun'\n",
    "                }  else if (aa=='85'){\n",
    "                    'Bydgoszcz'\n",
    "                } else {\n",
    "                    'Gdansk Region'\n",
    "                }\n",
    "            }else if (a == '9'){\n",
    "                if (aa %in% c('90','91','92','93','94')){\n",
    "                    'Lodz'\n",
    "                } else {\n",
    "                    'Lodz Region'\n",
    "                }\n",
    "            }else {NA}\n",
    "        }\n",
    "    })\n",
    "    fcodes = as.factor(codes)\n",
    "    fcodes = addNA(fcodes)\n",
    "    fcodes\n",
    "}"
   ]
  },
  {
   "cell_type": "code",
   "execution_count": 411,
   "metadata": {
    "scrolled": true
   },
   "outputs": [
    {
     "data": {
      "text/html": [
       "<dl class=dl-horizontal>\n",
       "\t<dt>87-165</dt>\n",
       "\t\t<dd>Torun</dd>\n",
       "\t<dt>00-849</dt>\n",
       "\t\t<dd>Warsaw</dd>\n",
       "\t<dt>44-123</dt>\n",
       "\t\t<dd>Katowice Region</dd>\n",
       "\t<dt>4</dt>\n",
       "\t\t<dd>&lt;NA&gt;</dd>\n",
       "</dl>\n"
      ],
      "text/latex": [
       "\\begin{description*}\n",
       "\\item[87-165] Torun\n",
       "\\item[00-849] Warsaw\n",
       "\\item[44-123] Katowice Region\n",
       "\\item[4] <NA>\n",
       "\\end{description*}\n"
      ],
      "text/markdown": [
       "87-165\n",
       ":   Torun00-849\n",
       ":   Warsaw44-123\n",
       ":   Katowice Region4\n",
       ":   &lt;NA&gt;\n",
       "\n"
      ],
      "text/plain": [
       "         87-165          00-849          44-123            <NA> \n",
       "          Torun          Warsaw Katowice Region            <NA> \n",
       "Levels: Katowice Region Torun Warsaw <NA>"
      ]
     },
     "metadata": {},
     "output_type": "display_data"
    },
    {
     "data": {
      "text/html": [
       "'factor'"
      ],
      "text/latex": [
       "'factor'"
      ],
      "text/markdown": [
       "'factor'"
      ],
      "text/plain": [
       "[1] \"factor\""
      ]
     },
     "metadata": {},
     "output_type": "display_data"
    },
    {
     "data": {
      "text/html": [
       "<ol class=list-inline>\n",
       "\t<li>'Katowice Region'</li>\n",
       "\t<li>'Torun'</li>\n",
       "\t<li>'Warsaw'</li>\n",
       "\t<li>NA</li>\n",
       "</ol>\n"
      ],
      "text/latex": [
       "\\begin{enumerate*}\n",
       "\\item 'Katowice Region'\n",
       "\\item 'Torun'\n",
       "\\item 'Warsaw'\n",
       "\\item NA\n",
       "\\end{enumerate*}\n"
      ],
      "text/markdown": [
       "1. 'Katowice Region'\n",
       "2. 'Torun'\n",
       "3. 'Warsaw'\n",
       "4. NA\n",
       "\n",
       "\n"
      ],
      "text/plain": [
       "[1] \"Katowice Region\" \"Torun\"           \"Warsaw\"          NA               "
      ]
     },
     "metadata": {},
     "output_type": "display_data"
    }
   ],
   "source": [
    "#unit test\n",
    "(fac = postalCodeToRegion(c('87-165','00-849','44-123',NA)))\n",
    "class(fac)\n",
    "levels(fac)"
   ]
  },
  {
   "cell_type": "code",
   "execution_count": 412,
   "metadata": {
    "collapsed": true
   },
   "outputs": [],
   "source": [
    "#kodami pocztowymi są:\n",
    "#night_parking_place_postal_code\n",
    "#day_parking_place_postal_code\n",
    "#main_driver_postal_code\n",
    "#Account__r.BillingPostalCode\n",
    "\n",
    "train4$night_parking_place_postal_code = postalCodeToRegion (train4$night_parking_place_postal_code)\n",
    "train4$day_parking_place_postal_code = postalCodeToRegion (train4$day_parking_place_postal_code)\n",
    "train4$main_driver_postal_code = postalCodeToRegion (train4$main_driver_postal_code)\n",
    "train4$Account__r.BillingPostalCode = postalCodeToRegion (train4$Account__r.BillingPostalCode)"
   ]
  },
  {
   "cell_type": "code",
   "execution_count": 413,
   "metadata": {},
   "outputs": [
    {
     "data": {
      "text/html": [
       "'factor'"
      ],
      "text/latex": [
       "'factor'"
      ],
      "text/markdown": [
       "'factor'"
      ],
      "text/plain": [
       "[1] \"factor\""
      ]
     },
     "metadata": {},
     "output_type": "display_data"
    },
    {
     "data": {
      "text/html": [
       "'factor'"
      ],
      "text/latex": [
       "'factor'"
      ],
      "text/markdown": [
       "'factor'"
      ],
      "text/plain": [
       "[1] \"factor\""
      ]
     },
     "metadata": {},
     "output_type": "display_data"
    },
    {
     "data": {
      "text/html": [
       "'factor'"
      ],
      "text/latex": [
       "'factor'"
      ],
      "text/markdown": [
       "'factor'"
      ],
      "text/plain": [
       "[1] \"factor\""
      ]
     },
     "metadata": {},
     "output_type": "display_data"
    },
    {
     "data": {
      "text/html": [
       "'factor'"
      ],
      "text/latex": [
       "'factor'"
      ],
      "text/markdown": [
       "'factor'"
      ],
      "text/plain": [
       "[1] \"factor\""
      ]
     },
     "metadata": {},
     "output_type": "display_data"
    }
   ],
   "source": [
    "class(train4$night_parking_place_postal_code)\n",
    "class(train4$day_parking_place_postal_code)\n",
    "class(train4$main_driver_postal_code)\n",
    "class(train4$Account__r.BillingPostalCode)"
   ]
  },
  {
   "cell_type": "code",
   "execution_count": 414,
   "metadata": {},
   "outputs": [
    {
     "data": {
      "text/html": [
       "<ol class=list-inline>\n",
       "\t<li>Poznan Region</li>\n",
       "\t<li>Poznan Region</li>\n",
       "\t<li>Poznan Region</li>\n",
       "\t<li>Katowice Region</li>\n",
       "\t<li>Warsaw</li>\n",
       "\t<li>Katowice</li>\n",
       "</ol>\n"
      ],
      "text/latex": [
       "\\begin{enumerate*}\n",
       "\\item Poznan Region\n",
       "\\item Poznan Region\n",
       "\\item Poznan Region\n",
       "\\item Katowice Region\n",
       "\\item Warsaw\n",
       "\\item Katowice\n",
       "\\end{enumerate*}\n"
      ],
      "text/markdown": [
       "1. Poznan Region\n",
       "2. Poznan Region\n",
       "3. Poznan Region\n",
       "4. Katowice Region\n",
       "5. Warsaw\n",
       "6. Katowice\n",
       "\n",
       "\n"
      ],
      "text/plain": [
       "[1] Poznan Region   Poznan Region   Poznan Region   Katowice Region\n",
       "[5] Warsaw          Katowice       \n",
       "31 Levels: Bialystok Bydgoszcz Gdansk Gdansk Region Gdynia ... <NA>"
      ]
     },
     "metadata": {},
     "output_type": "display_data"
    },
    {
     "data": {
      "text/html": [
       "<ol class=list-inline>\n",
       "\t<li>Poznan Region</li>\n",
       "\t<li>Poznan Region</li>\n",
       "\t<li>Poznan Region</li>\n",
       "\t<li>Katowice Region</li>\n",
       "\t<li>Warsaw</li>\n",
       "\t<li>Katowice</li>\n",
       "</ol>\n"
      ],
      "text/latex": [
       "\\begin{enumerate*}\n",
       "\\item Poznan Region\n",
       "\\item Poznan Region\n",
       "\\item Poznan Region\n",
       "\\item Katowice Region\n",
       "\\item Warsaw\n",
       "\\item Katowice\n",
       "\\end{enumerate*}\n"
      ],
      "text/markdown": [
       "1. Poznan Region\n",
       "2. Poznan Region\n",
       "3. Poznan Region\n",
       "4. Katowice Region\n",
       "5. Warsaw\n",
       "6. Katowice\n",
       "\n",
       "\n"
      ],
      "text/plain": [
       "[1] Poznan Region   Poznan Region   Poznan Region   Katowice Region\n",
       "[5] Warsaw          Katowice       \n",
       "31 Levels: Bialystok Bydgoszcz Gdansk Gdansk Region Gdynia ... <NA>"
      ]
     },
     "metadata": {},
     "output_type": "display_data"
    },
    {
     "data": {
      "text/html": [
       "<ol class=list-inline>\n",
       "\t<li>Poznan Region</li>\n",
       "\t<li>Poznan Region</li>\n",
       "\t<li>Poznan Region</li>\n",
       "\t<li>Katowice Region</li>\n",
       "\t<li>Warsaw</li>\n",
       "\t<li>Katowice</li>\n",
       "</ol>\n"
      ],
      "text/latex": [
       "\\begin{enumerate*}\n",
       "\\item Poznan Region\n",
       "\\item Poznan Region\n",
       "\\item Poznan Region\n",
       "\\item Katowice Region\n",
       "\\item Warsaw\n",
       "\\item Katowice\n",
       "\\end{enumerate*}\n"
      ],
      "text/markdown": [
       "1. Poznan Region\n",
       "2. Poznan Region\n",
       "3. Poznan Region\n",
       "4. Katowice Region\n",
       "5. Warsaw\n",
       "6. Katowice\n",
       "\n",
       "\n"
      ],
      "text/plain": [
       "[1] Poznan Region   Poznan Region   Poznan Region   Katowice Region\n",
       "[5] Warsaw          Katowice       \n",
       "31 Levels: Bialystok Bydgoszcz Gdansk Gdansk Region Gdynia ... <NA>"
      ]
     },
     "metadata": {},
     "output_type": "display_data"
    },
    {
     "data": {
      "text/html": [
       "<ol class=list-inline>\n",
       "\t<li>&lt;NA&gt;</li>\n",
       "\t<li>&lt;NA&gt;</li>\n",
       "\t<li>&lt;NA&gt;</li>\n",
       "\t<li>Katowice Region</li>\n",
       "\t<li>&lt;NA&gt;</li>\n",
       "\t<li>&lt;NA&gt;</li>\n",
       "</ol>\n"
      ],
      "text/latex": [
       "\\begin{enumerate*}\n",
       "\\item <NA>\n",
       "\\item <NA>\n",
       "\\item <NA>\n",
       "\\item Katowice Region\n",
       "\\item <NA>\n",
       "\\item <NA>\n",
       "\\end{enumerate*}\n"
      ],
      "text/markdown": [
       "1. &lt;NA&gt;\n",
       "2. &lt;NA&gt;\n",
       "3. &lt;NA&gt;\n",
       "4. Katowice Region\n",
       "5. &lt;NA&gt;\n",
       "6. &lt;NA&gt;\n",
       "\n",
       "\n"
      ],
      "text/plain": [
       "[1] <NA>            <NA>            <NA>            Katowice Region\n",
       "[5] <NA>            <NA>           \n",
       "31 Levels: Bialystok Bydgoszcz Gdansk Gdansk Region Gdynia ... <NA>"
      ]
     },
     "metadata": {},
     "output_type": "display_data"
    }
   ],
   "source": [
    "head(train4$night_parking_place_postal_code)\n",
    "head(train4$day_parking_place_postal_code)\n",
    "head(train4$main_driver_postal_code)\n",
    "head(train4$Account__r.BillingPostalCode)"
   ]
  },
  {
   "cell_type": "markdown",
   "metadata": {},
   "source": [
    "## Daty na year,month,day"
   ]
  },
  {
   "cell_type": "markdown",
   "metadata": {},
   "source": [
    "Nie trzeba zamieniać dat na year, month, day. Daty albo zostały usunięte wcześniej, albo zamienione na numeric (domyślnie najwidoczniej przez read.table)."
   ]
  },
  {
   "cell_type": "code",
   "execution_count": 415,
   "metadata": {},
   "outputs": [
    {
     "data": {
      "text/html": [
       "<ol class=list-inline>\n",
       "\t<li>'LastCall__c'</li>\n",
       "\t<li>'etx_make_name'</li>\n",
       "\t<li>'etx_model_name'</li>\n",
       "\t<li>'etx_fuel_code'</li>\n",
       "\t<li>'production_year'</li>\n",
       "\t<li>'etx_model_code'</li>\n",
       "\t<li>'protection_scope'</li>\n",
       "\t<li>'kind'</li>\n",
       "\t<li>'use_frequency'</li>\n",
       "\t<li>'child_carriage_frequency'</li>\n",
       "\t<li>'mileage'</li>\n",
       "\t<li>'yearly_mileage'</li>\n",
       "\t<li>'used_abroad'</li>\n",
       "\t<li>'night_parking_place'</li>\n",
       "\t<li>'night_parking_place_postal_code'</li>\n",
       "\t<li>'day_parking_place'</li>\n",
       "\t<li>'day_parking_place_postal_code'</li>\n",
       "\t<li>'theft_protection_installation'</li>\n",
       "\t<li>'theft_protection_device_1'</li>\n",
       "\t<li>'theft_protection_device_2'</li>\n",
       "\t<li>'origin'</li>\n",
       "\t<li>'buy_year'</li>\n",
       "\t<li>'registration_date'</li>\n",
       "\t<li>'car_worth'</li>\n",
       "\t<li>'main_driver_postal_code'</li>\n",
       "\t<li>'main_driver_age'</li>\n",
       "\t<li>'main_driver_gender'</li>\n",
       "\t<li>'phone_exists'</li>\n",
       "\t<li>'step'</li>\n",
       "\t<li>'oc_offer_min_val'</li>\n",
       "\t<li>'ac_offers_qty'</li>\n",
       "\t<li>'b2c_leads_sent'</li>\n",
       "\t<li>'offer_last_at'</li>\n",
       "\t<li>'offer_first_after'</li>\n",
       "\t<li>'offer_last_after'</li>\n",
       "\t<li>'phone_lookup_status'</li>\n",
       "\t<li>'utm_campaign'</li>\n",
       "\t<li>'utm_content'</li>\n",
       "\t<li>'utm_medium'</li>\n",
       "\t<li>'utm_source'</li>\n",
       "\t<li>'went_to_partners'</li>\n",
       "\t<li>'Acc_PhoneHLRStatus__c'</li>\n",
       "\t<li>'Account__r.AccountSource'</li>\n",
       "\t<li>'Account__r.AgreementMarketing__pc'</li>\n",
       "\t<li>'Account__r.BillingCity'</li>\n",
       "\t<li>'Account__r.BillingPostalCode'</li>\n",
       "\t<li>'Account__r.Gender__pc'</li>\n",
       "\t<li>'Account__r.PersonBirthdate'</li>\n",
       "\t<li>'Account__r.PhoneHLRStatus__pc'</li>\n",
       "\t<li>'Account__r.PhoneNATStatus__pc'</li>\n",
       "\t<li>'Account__r.Salutation'</li>\n",
       "\t<li>'CalculationToken__c'</li>\n",
       "\t<li>'CarEngineCapacity__c'</li>\n",
       "\t<li>'CarFuelType__c'</li>\n",
       "\t<li>'CarMake__c'</li>\n",
       "\t<li>'CarModel__c'</li>\n",
       "\t<li>'CarYear__c'</li>\n",
       "\t<li>'Mpc__c'</li>\n",
       "\t<li>'PolicyStartDate__c'</li>\n",
       "\t<li>'ProductScope__c'</li>\n",
       "\t<li>'Source__c'</li>\n",
       "\t<li>'WentToPartner__c'</li>\n",
       "\t<li>'dont_have_this_car__c'</li>\n",
       "\t<li>'TelehubStatus__c'</li>\n",
       "\t<li>'Sale.success'</li>\n",
       "</ol>\n"
      ],
      "text/latex": [
       "\\begin{enumerate*}\n",
       "\\item 'LastCall\\_\\_c'\n",
       "\\item 'etx\\_make\\_name'\n",
       "\\item 'etx\\_model\\_name'\n",
       "\\item 'etx\\_fuel\\_code'\n",
       "\\item 'production\\_year'\n",
       "\\item 'etx\\_model\\_code'\n",
       "\\item 'protection\\_scope'\n",
       "\\item 'kind'\n",
       "\\item 'use\\_frequency'\n",
       "\\item 'child\\_carriage\\_frequency'\n",
       "\\item 'mileage'\n",
       "\\item 'yearly\\_mileage'\n",
       "\\item 'used\\_abroad'\n",
       "\\item 'night\\_parking\\_place'\n",
       "\\item 'night\\_parking\\_place\\_postal\\_code'\n",
       "\\item 'day\\_parking\\_place'\n",
       "\\item 'day\\_parking\\_place\\_postal\\_code'\n",
       "\\item 'theft\\_protection\\_installation'\n",
       "\\item 'theft\\_protection\\_device\\_1'\n",
       "\\item 'theft\\_protection\\_device\\_2'\n",
       "\\item 'origin'\n",
       "\\item 'buy\\_year'\n",
       "\\item 'registration\\_date'\n",
       "\\item 'car\\_worth'\n",
       "\\item 'main\\_driver\\_postal\\_code'\n",
       "\\item 'main\\_driver\\_age'\n",
       "\\item 'main\\_driver\\_gender'\n",
       "\\item 'phone\\_exists'\n",
       "\\item 'step'\n",
       "\\item 'oc\\_offer\\_min\\_val'\n",
       "\\item 'ac\\_offers\\_qty'\n",
       "\\item 'b2c\\_leads\\_sent'\n",
       "\\item 'offer\\_last\\_at'\n",
       "\\item 'offer\\_first\\_after'\n",
       "\\item 'offer\\_last\\_after'\n",
       "\\item 'phone\\_lookup\\_status'\n",
       "\\item 'utm\\_campaign'\n",
       "\\item 'utm\\_content'\n",
       "\\item 'utm\\_medium'\n",
       "\\item 'utm\\_source'\n",
       "\\item 'went\\_to\\_partners'\n",
       "\\item 'Acc\\_PhoneHLRStatus\\_\\_c'\n",
       "\\item 'Account\\_\\_r.AccountSource'\n",
       "\\item 'Account\\_\\_r.AgreementMarketing\\_\\_pc'\n",
       "\\item 'Account\\_\\_r.BillingCity'\n",
       "\\item 'Account\\_\\_r.BillingPostalCode'\n",
       "\\item 'Account\\_\\_r.Gender\\_\\_pc'\n",
       "\\item 'Account\\_\\_r.PersonBirthdate'\n",
       "\\item 'Account\\_\\_r.PhoneHLRStatus\\_\\_pc'\n",
       "\\item 'Account\\_\\_r.PhoneNATStatus\\_\\_pc'\n",
       "\\item 'Account\\_\\_r.Salutation'\n",
       "\\item 'CalculationToken\\_\\_c'\n",
       "\\item 'CarEngineCapacity\\_\\_c'\n",
       "\\item 'CarFuelType\\_\\_c'\n",
       "\\item 'CarMake\\_\\_c'\n",
       "\\item 'CarModel\\_\\_c'\n",
       "\\item 'CarYear\\_\\_c'\n",
       "\\item 'Mpc\\_\\_c'\n",
       "\\item 'PolicyStartDate\\_\\_c'\n",
       "\\item 'ProductScope\\_\\_c'\n",
       "\\item 'Source\\_\\_c'\n",
       "\\item 'WentToPartner\\_\\_c'\n",
       "\\item 'dont\\_have\\_this\\_car\\_\\_c'\n",
       "\\item 'TelehubStatus\\_\\_c'\n",
       "\\item 'Sale.success'\n",
       "\\end{enumerate*}\n"
      ],
      "text/markdown": [
       "1. 'LastCall__c'\n",
       "2. 'etx_make_name'\n",
       "3. 'etx_model_name'\n",
       "4. 'etx_fuel_code'\n",
       "5. 'production_year'\n",
       "6. 'etx_model_code'\n",
       "7. 'protection_scope'\n",
       "8. 'kind'\n",
       "9. 'use_frequency'\n",
       "10. 'child_carriage_frequency'\n",
       "11. 'mileage'\n",
       "12. 'yearly_mileage'\n",
       "13. 'used_abroad'\n",
       "14. 'night_parking_place'\n",
       "15. 'night_parking_place_postal_code'\n",
       "16. 'day_parking_place'\n",
       "17. 'day_parking_place_postal_code'\n",
       "18. 'theft_protection_installation'\n",
       "19. 'theft_protection_device_1'\n",
       "20. 'theft_protection_device_2'\n",
       "21. 'origin'\n",
       "22. 'buy_year'\n",
       "23. 'registration_date'\n",
       "24. 'car_worth'\n",
       "25. 'main_driver_postal_code'\n",
       "26. 'main_driver_age'\n",
       "27. 'main_driver_gender'\n",
       "28. 'phone_exists'\n",
       "29. 'step'\n",
       "30. 'oc_offer_min_val'\n",
       "31. 'ac_offers_qty'\n",
       "32. 'b2c_leads_sent'\n",
       "33. 'offer_last_at'\n",
       "34. 'offer_first_after'\n",
       "35. 'offer_last_after'\n",
       "36. 'phone_lookup_status'\n",
       "37. 'utm_campaign'\n",
       "38. 'utm_content'\n",
       "39. 'utm_medium'\n",
       "40. 'utm_source'\n",
       "41. 'went_to_partners'\n",
       "42. 'Acc_PhoneHLRStatus__c'\n",
       "43. 'Account__r.AccountSource'\n",
       "44. 'Account__r.AgreementMarketing__pc'\n",
       "45. 'Account__r.BillingCity'\n",
       "46. 'Account__r.BillingPostalCode'\n",
       "47. 'Account__r.Gender__pc'\n",
       "48. 'Account__r.PersonBirthdate'\n",
       "49. 'Account__r.PhoneHLRStatus__pc'\n",
       "50. 'Account__r.PhoneNATStatus__pc'\n",
       "51. 'Account__r.Salutation'\n",
       "52. 'CalculationToken__c'\n",
       "53. 'CarEngineCapacity__c'\n",
       "54. 'CarFuelType__c'\n",
       "55. 'CarMake__c'\n",
       "56. 'CarModel__c'\n",
       "57. 'CarYear__c'\n",
       "58. 'Mpc__c'\n",
       "59. 'PolicyStartDate__c'\n",
       "60. 'ProductScope__c'\n",
       "61. 'Source__c'\n",
       "62. 'WentToPartner__c'\n",
       "63. 'dont_have_this_car__c'\n",
       "64. 'TelehubStatus__c'\n",
       "65. 'Sale.success'\n",
       "\n",
       "\n"
      ],
      "text/plain": [
       " [1] \"LastCall__c\"                       \"etx_make_name\"                    \n",
       " [3] \"etx_model_name\"                    \"etx_fuel_code\"                    \n",
       " [5] \"production_year\"                   \"etx_model_code\"                   \n",
       " [7] \"protection_scope\"                  \"kind\"                             \n",
       " [9] \"use_frequency\"                     \"child_carriage_frequency\"         \n",
       "[11] \"mileage\"                           \"yearly_mileage\"                   \n",
       "[13] \"used_abroad\"                       \"night_parking_place\"              \n",
       "[15] \"night_parking_place_postal_code\"   \"day_parking_place\"                \n",
       "[17] \"day_parking_place_postal_code\"     \"theft_protection_installation\"    \n",
       "[19] \"theft_protection_device_1\"         \"theft_protection_device_2\"        \n",
       "[21] \"origin\"                            \"buy_year\"                         \n",
       "[23] \"registration_date\"                 \"car_worth\"                        \n",
       "[25] \"main_driver_postal_code\"           \"main_driver_age\"                  \n",
       "[27] \"main_driver_gender\"                \"phone_exists\"                     \n",
       "[29] \"step\"                              \"oc_offer_min_val\"                 \n",
       "[31] \"ac_offers_qty\"                     \"b2c_leads_sent\"                   \n",
       "[33] \"offer_last_at\"                     \"offer_first_after\"                \n",
       "[35] \"offer_last_after\"                  \"phone_lookup_status\"              \n",
       "[37] \"utm_campaign\"                      \"utm_content\"                      \n",
       "[39] \"utm_medium\"                        \"utm_source\"                       \n",
       "[41] \"went_to_partners\"                  \"Acc_PhoneHLRStatus__c\"            \n",
       "[43] \"Account__r.AccountSource\"          \"Account__r.AgreementMarketing__pc\"\n",
       "[45] \"Account__r.BillingCity\"            \"Account__r.BillingPostalCode\"     \n",
       "[47] \"Account__r.Gender__pc\"             \"Account__r.PersonBirthdate\"       \n",
       "[49] \"Account__r.PhoneHLRStatus__pc\"     \"Account__r.PhoneNATStatus__pc\"    \n",
       "[51] \"Account__r.Salutation\"             \"CalculationToken__c\"              \n",
       "[53] \"CarEngineCapacity__c\"              \"CarFuelType__c\"                   \n",
       "[55] \"CarMake__c\"                        \"CarModel__c\"                      \n",
       "[57] \"CarYear__c\"                        \"Mpc__c\"                           \n",
       "[59] \"PolicyStartDate__c\"                \"ProductScope__c\"                  \n",
       "[61] \"Source__c\"                         \"WentToPartner__c\"                 \n",
       "[63] \"dont_have_this_car__c\"             \"TelehubStatus__c\"                 \n",
       "[65] \"Sale.success\"                     "
      ]
     },
     "metadata": {},
     "output_type": "display_data"
    }
   ],
   "source": [
    "colnames(train4)"
   ]
  },
  {
   "cell_type": "markdown",
   "metadata": {},
   "source": [
    "## Propozycja radzenia sobie z markami pojazdów i innymi factorami"
   ]
  },
  {
   "cell_type": "code",
   "execution_count": 416,
   "metadata": {},
   "outputs": [
    {
     "data": {
      "text/html": [
       "666"
      ],
      "text/latex": [
       "666"
      ],
      "text/markdown": [
       "666"
      ],
      "text/plain": [
       "[1] 666"
      ]
     },
     "metadata": {},
     "output_type": "display_data"
    },
    {
     "data": {
      "text/html": [
       "729"
      ],
      "text/latex": [
       "729"
      ],
      "text/markdown": [
       "729"
      ],
      "text/plain": [
       "[1] 729"
      ]
     },
     "metadata": {},
     "output_type": "display_data"
    },
    {
     "data": {
      "text/html": [
       "766"
      ],
      "text/latex": [
       "766"
      ],
      "text/markdown": [
       "766"
      ],
      "text/plain": [
       "[1] 766"
      ]
     },
     "metadata": {},
     "output_type": "display_data"
    },
    {
     "data": {
      "text/html": [
       "1526"
      ],
      "text/latex": [
       "1526"
      ],
      "text/markdown": [
       "1526"
      ],
      "text/plain": [
       "[1] 1526"
      ]
     },
     "metadata": {},
     "output_type": "display_data"
    }
   ],
   "source": [
    "#wybieranie pierwszej części stringa określającego markę, zbije trochę liczbę poziomów\n",
    "\n",
    "length(unique(sapply(as.character(levels(train4$etx_model_name)),function(model){\n",
    "    strsplit(model,' ')[[1]][1]\n",
    "})))\n",
    "length(levels(train4$etx_model_name))\n",
    "\n",
    "length(unique(sapply(as.character(levels(train4$CarModel__c)),function(model){\n",
    "    strsplit(model,' ')[[1]][1]\n",
    "})))\n",
    "length(levels(train4$CarModel__c))"
   ]
  },
  {
   "cell_type": "code",
   "execution_count": 417,
   "metadata": {
    "collapsed": true
   },
   "outputs": [],
   "source": [
    "etxmodel = sapply(as.character(train4$etx_model_name),function(model){\n",
    "    strsplit(model,' ')[[1]][1]\n",
    "})\n",
    "\n",
    "cmodel = sapply(as.character(train4$CarModel__c),function(model){\n",
    "    strsplit(model,' ')[[1]][1]\n",
    "})"
   ]
  },
  {
   "cell_type": "code",
   "execution_count": 418,
   "metadata": {
    "collapsed": true
   },
   "outputs": [],
   "source": [
    "etxmodel = as.factor(etxmodel)\n",
    "#etxmodel = addNA(etxmodel)\n",
    "\n",
    "cmodel = as.factor(cmodel)\n",
    "#cmodel = addNA(cmodel)"
   ]
  },
  {
   "cell_type": "code",
   "execution_count": 419,
   "metadata": {},
   "outputs": [
    {
     "data": {
      "text/html": [
       "FALSE"
      ],
      "text/latex": [
       "FALSE"
      ],
      "text/markdown": [
       "FALSE"
      ],
      "text/plain": [
       "[1] FALSE"
      ]
     },
     "metadata": {},
     "output_type": "display_data"
    }
   ],
   "source": [
    "any(is.na(etxmodel))"
   ]
  },
  {
   "cell_type": "code",
   "execution_count": 420,
   "metadata": {},
   "outputs": [
    {
     "data": {
      "text/html": [
       "TRUE"
      ],
      "text/latex": [
       "TRUE"
      ],
      "text/markdown": [
       "TRUE"
      ],
      "text/plain": [
       "[1] TRUE"
      ]
     },
     "metadata": {},
     "output_type": "display_data"
    }
   ],
   "source": [
    "any(is.na(cmodel))"
   ]
  },
  {
   "cell_type": "code",
   "execution_count": 421,
   "metadata": {
    "collapsed": true
   },
   "outputs": [],
   "source": [
    "cmodel = addNA(cmodel)"
   ]
  },
  {
   "cell_type": "code",
   "execution_count": 422,
   "metadata": {},
   "outputs": [
    {
     "name": "stderr",
     "output_type": "stream",
     "text": [
      "Warning message in chisq.test(table(etxmodel, cmodel)):\n",
      "“Chi-squared approximation may be incorrect”"
     ]
    },
    {
     "data": {
      "text/plain": [
       "\n",
       "\tPearson's Chi-squared test\n",
       "\n",
       "data:  table(etxmodel, cmodel)\n",
       "X-squared = 54187000, df = 507960, p-value < 2.2e-16\n"
      ]
     },
     "metadata": {},
     "output_type": "display_data"
    }
   ],
   "source": [
    "chisq.test(table(etxmodel,cmodel))"
   ]
  },
  {
   "cell_type": "markdown",
   "metadata": {},
   "source": [
    "### Marki są zależne. Można wyrzucić jeden z atrybutów marki."
   ]
  },
  {
   "cell_type": "code",
   "execution_count": 423,
   "metadata": {},
   "outputs": [
    {
     "data": {
      "text/html": [
       "65"
      ],
      "text/latex": [
       "65"
      ],
      "text/markdown": [
       "65"
      ],
      "text/plain": [
       "[1] 65"
      ]
     },
     "metadata": {},
     "output_type": "display_data"
    },
    {
     "data": {
      "text/html": [
       "64"
      ],
      "text/latex": [
       "64"
      ],
      "text/markdown": [
       "64"
      ],
      "text/plain": [
       "[1] 64"
      ]
     },
     "metadata": {},
     "output_type": "display_data"
    }
   ],
   "source": [
    "ncol(train4)\n",
    "train4$CarModel__c = NULL\n",
    "ncol(train4)"
   ]
  },
  {
   "cell_type": "code",
   "execution_count": 424,
   "metadata": {},
   "outputs": [
    {
     "data": {
      "text/html": [
       "<table>\n",
       "<thead><tr><th></th><th scope=col>LastCall__c</th><th scope=col>etx_make_name</th><th scope=col>etx_model_name</th><th scope=col>etx_fuel_code</th><th scope=col>production_year</th><th scope=col>etx_model_code</th><th scope=col>protection_scope</th><th scope=col>kind</th><th scope=col>use_frequency</th><th scope=col>child_carriage_frequency</th><th scope=col>⋯</th><th scope=col>CarMake__c</th><th scope=col>CarYear__c</th><th scope=col>Mpc__c</th><th scope=col>PolicyStartDate__c</th><th scope=col>ProductScope__c</th><th scope=col>Source__c</th><th scope=col>WentToPartner__c</th><th scope=col>dont_have_this_car__c</th><th scope=col>TelehubStatus__c</th><th scope=col>Sale.success</th></tr></thead>\n",
       "<tbody>\n",
       "\t<tr><th scope=row>1</th><td>42874       </td><td>RENAULT     </td><td>Megane      </td><td>100001      </td><td>1997        </td><td>8191        </td><td>1           </td><td>car         </td><td>regularly   </td><td>3           </td><td>⋯           </td><td>RENAULT     </td><td>2001        </td><td>NA          </td><td>42811       </td><td>OC          </td><td>full_calc   </td><td>0           </td><td>0           </td><td>NA          </td><td>0           </td></tr>\n",
       "\t<tr><th scope=row>3</th><td>42874       </td><td>MAZDA       </td><td>323         </td><td>100001      </td><td>1996        </td><td>7884        </td><td>1           </td><td>car         </td><td>occasionally</td><td>3           </td><td>⋯           </td><td>MAZDA       </td><td>2001        </td><td>NA          </td><td>42794       </td><td>OC          </td><td>full_calc   </td><td>0           </td><td>0           </td><td>NA          </td><td>0           </td></tr>\n",
       "\t<tr><th scope=row>4</th><td>42874       </td><td>AUDI        </td><td>Q7          </td><td>100003      </td><td>2007        </td><td>12113       </td><td>2           </td><td>car         </td><td>regularly   </td><td>3           </td><td>⋯           </td><td>AUDI        </td><td>2001        </td><td>NA          </td><td>42795       </td><td>OC+AC       </td><td>full_calc   </td><td>0           </td><td>0           </td><td>NA          </td><td>0           </td></tr>\n",
       "\t<tr><th scope=row>5</th><td>42874       </td><td>VOLKSWAGEN  </td><td>Passat      </td><td>100003      </td><td>2001        </td><td>10533       </td><td>1           </td><td>car         </td><td>occasionally</td><td>3           </td><td>⋯           </td><td>VOLKSWAGEN  </td><td>2001        </td><td>NA          </td><td>42807       </td><td>OC          </td><td>full_calc   </td><td>1           </td><td>0           </td><td>NA          </td><td>0           </td></tr>\n",
       "\t<tr><th scope=row>6</th><td>42874       </td><td>PEUGEOT     </td><td>406         </td><td>100003      </td><td>2000        </td><td>9674        </td><td>1           </td><td>car         </td><td>regularly   </td><td>3           </td><td>⋯           </td><td>PEUGEOT     </td><td>2001        </td><td>NA          </td><td>42803       </td><td>OC          </td><td>full_calc   </td><td>0           </td><td>0           </td><td>NA          </td><td>0           </td></tr>\n",
       "\t<tr><th scope=row>7</th><td>42874       </td><td>SKODA       </td><td>Fabia       </td><td>100001      </td><td>2001        </td><td>10269       </td><td>1           </td><td>car         </td><td>regularly   </td><td>3           </td><td>⋯           </td><td>SKODA       </td><td>2001        </td><td>NA          </td><td>42822       </td><td>OC          </td><td>full_calc   </td><td>0           </td><td>0           </td><td>NA          </td><td>1           </td></tr>\n",
       "</tbody>\n",
       "</table>\n"
      ],
      "text/latex": [
       "\\begin{tabular}{r|llllllllllllllllllllllllllllllllllllllllllllllllllllllllllllllll}\n",
       "  & LastCall\\_\\_c & etx\\_make\\_name & etx\\_model\\_name & etx\\_fuel\\_code & production\\_year & etx\\_model\\_code & protection\\_scope & kind & use\\_frequency & child\\_carriage\\_frequency & ⋯ & CarMake\\_\\_c & CarYear\\_\\_c & Mpc\\_\\_c & PolicyStartDate\\_\\_c & ProductScope\\_\\_c & Source\\_\\_c & WentToPartner\\_\\_c & dont\\_have\\_this\\_car\\_\\_c & TelehubStatus\\_\\_c & Sale.success\\\\\n",
       "\\hline\n",
       "\t1 & 42874        & RENAULT      & Megane       & 100001       & 1997         & 8191         & 1            & car          & regularly    & 3            & ⋯            & RENAULT      & 2001         & NA           & 42811        & OC           & full\\_calc  & 0            & 0            & NA           & 0           \\\\\n",
       "\t3 & 42874        & MAZDA        & 323          & 100001       & 1996         & 7884         & 1            & car          & occasionally & 3            & ⋯            & MAZDA        & 2001         & NA           & 42794        & OC           & full\\_calc  & 0            & 0            & NA           & 0           \\\\\n",
       "\t4 & 42874        & AUDI         & Q7           & 100003       & 2007         & 12113        & 2            & car          & regularly    & 3            & ⋯            & AUDI         & 2001         & NA           & 42795        & OC+AC        & full\\_calc  & 0            & 0            & NA           & 0           \\\\\n",
       "\t5 & 42874        & VOLKSWAGEN   & Passat       & 100003       & 2001         & 10533        & 1            & car          & occasionally & 3            & ⋯            & VOLKSWAGEN   & 2001         & NA           & 42807        & OC           & full\\_calc  & 1            & 0            & NA           & 0           \\\\\n",
       "\t6 & 42874        & PEUGEOT      & 406          & 100003       & 2000         & 9674         & 1            & car          & regularly    & 3            & ⋯            & PEUGEOT      & 2001         & NA           & 42803        & OC           & full\\_calc  & 0            & 0            & NA           & 0           \\\\\n",
       "\t7 & 42874        & SKODA        & Fabia        & 100001       & 2001         & 10269        & 1            & car          & regularly    & 3            & ⋯            & SKODA        & 2001         & NA           & 42822        & OC           & full\\_calc  & 0            & 0            & NA           & 1           \\\\\n",
       "\\end{tabular}\n"
      ],
      "text/markdown": [
       "\n",
       "| <!--/--> | LastCall__c | etx_make_name | etx_model_name | etx_fuel_code | production_year | etx_model_code | protection_scope | kind | use_frequency | child_carriage_frequency | ⋯ | CarMake__c | CarYear__c | Mpc__c | PolicyStartDate__c | ProductScope__c | Source__c | WentToPartner__c | dont_have_this_car__c | TelehubStatus__c | Sale.success | \n",
       "|---|---|---|---|---|---|\n",
       "| 1 | 42874        | RENAULT      | Megane       | 100001       | 1997         | 8191         | 1            | car          | regularly    | 3            | ⋯            | RENAULT      | 2001         | NA           | 42811        | OC           | full_calc    | 0            | 0            | NA           | 0            | \n",
       "| 3 | 42874        | MAZDA        | 323          | 100001       | 1996         | 7884         | 1            | car          | occasionally | 3            | ⋯            | MAZDA        | 2001         | NA           | 42794        | OC           | full_calc    | 0            | 0            | NA           | 0            | \n",
       "| 4 | 42874        | AUDI         | Q7           | 100003       | 2007         | 12113        | 2            | car          | regularly    | 3            | ⋯            | AUDI         | 2001         | NA           | 42795        | OC+AC        | full_calc    | 0            | 0            | NA           | 0            | \n",
       "| 5 | 42874        | VOLKSWAGEN   | Passat       | 100003       | 2001         | 10533        | 1            | car          | occasionally | 3            | ⋯            | VOLKSWAGEN   | 2001         | NA           | 42807        | OC           | full_calc    | 1            | 0            | NA           | 0            | \n",
       "| 6 | 42874        | PEUGEOT      | 406          | 100003       | 2000         | 9674         | 1            | car          | regularly    | 3            | ⋯            | PEUGEOT      | 2001         | NA           | 42803        | OC           | full_calc    | 0            | 0            | NA           | 0            | \n",
       "| 7 | 42874        | SKODA        | Fabia        | 100001       | 2001         | 10269        | 1            | car          | regularly    | 3            | ⋯            | SKODA        | 2001         | NA           | 42822        | OC           | full_calc    | 0            | 0            | NA           | 1            | \n",
       "\n",
       "\n"
      ],
      "text/plain": [
       "  LastCall__c etx_make_name etx_model_name etx_fuel_code production_year\n",
       "1 42874       RENAULT       Megane         100001        1997           \n",
       "3 42874       MAZDA         323            100001        1996           \n",
       "4 42874       AUDI          Q7             100003        2007           \n",
       "5 42874       VOLKSWAGEN    Passat         100003        2001           \n",
       "6 42874       PEUGEOT       406            100003        2000           \n",
       "7 42874       SKODA         Fabia          100001        2001           \n",
       "  etx_model_code protection_scope kind use_frequency child_carriage_frequency ⋯\n",
       "1 8191           1                car  regularly     3                        ⋯\n",
       "3 7884           1                car  occasionally  3                        ⋯\n",
       "4 12113          2                car  regularly     3                        ⋯\n",
       "5 10533          1                car  occasionally  3                        ⋯\n",
       "6 9674           1                car  regularly     3                        ⋯\n",
       "7 10269          1                car  regularly     3                        ⋯\n",
       "  CarMake__c CarYear__c Mpc__c PolicyStartDate__c ProductScope__c Source__c\n",
       "1 RENAULT    2001       NA     42811              OC              full_calc\n",
       "3 MAZDA      2001       NA     42794              OC              full_calc\n",
       "4 AUDI       2001       NA     42795              OC+AC           full_calc\n",
       "5 VOLKSWAGEN 2001       NA     42807              OC              full_calc\n",
       "6 PEUGEOT    2001       NA     42803              OC              full_calc\n",
       "7 SKODA      2001       NA     42822              OC              full_calc\n",
       "  WentToPartner__c dont_have_this_car__c TelehubStatus__c Sale.success\n",
       "1 0                0                     NA               0           \n",
       "3 0                0                     NA               0           \n",
       "4 0                0                     NA               0           \n",
       "5 1                0                     NA               0           \n",
       "6 0                0                     NA               0           \n",
       "7 0                0                     NA               1           "
      ]
     },
     "metadata": {},
     "output_type": "display_data"
    }
   ],
   "source": [
    "head(train4)"
   ]
  },
  {
   "cell_type": "code",
   "execution_count": 425,
   "metadata": {
    "collapsed": true
   },
   "outputs": [],
   "source": [
    "#model code do wyrzucenia\n",
    "train4$etx_model_code = NULL"
   ]
  },
  {
   "cell_type": "code",
   "execution_count": 426,
   "metadata": {
    "collapsed": true
   },
   "outputs": [],
   "source": [
    "#calculation token tez\n",
    "train4$CalculationToken__c = NULL\n",
    "#i car make- jeden juz jest w danych (etx_make_name)\n",
    "train4$CarMake__c = NULL"
   ]
  },
  {
   "cell_type": "code",
   "execution_count": 427,
   "metadata": {
    "collapsed": true
   },
   "outputs": [],
   "source": [
    "library(Matrix)"
   ]
  },
  {
   "cell_type": "code",
   "execution_count": 428,
   "metadata": {
    "collapsed": true
   },
   "outputs": [],
   "source": [
    "mdtrain4 = sparse.model.matrix(Sale.success~.,train4)"
   ]
  },
  {
   "cell_type": "code",
   "execution_count": 429,
   "metadata": {},
   "outputs": [
    {
     "data": {
      "text/plain": [
       "NULL"
      ]
     },
     "metadata": {},
     "output_type": "display_data"
    }
   ],
   "source": [
    "head(train$PreviousCalculationToken__c)"
   ]
  },
  {
   "cell_type": "code",
   "execution_count": 430,
   "metadata": {},
   "outputs": [
    {
     "data": {
      "text/html": [
       "<ol class=list-inline>\n",
       "\t<li>'0'</li>\n",
       "\t<li>'1'</li>\n",
       "</ol>\n"
      ],
      "text/latex": [
       "\\begin{enumerate*}\n",
       "\\item '0'\n",
       "\\item '1'\n",
       "\\end{enumerate*}\n"
      ],
      "text/markdown": [
       "1. '0'\n",
       "2. '1'\n",
       "\n",
       "\n"
      ],
      "text/plain": [
       "[1] \"0\" \"1\""
      ]
     },
     "metadata": {},
     "output_type": "display_data"
    }
   ],
   "source": [
    "unique(train$is_damaged\n",
    ")"
   ]
  },
  {
   "cell_type": "code",
   "execution_count": 431,
   "metadata": {},
   "outputs": [
    {
     "data": {
      "text/html": [
       "<ol class=list-inline>\n",
       "\t<li>'LastCall__c'</li>\n",
       "\t<li>'calculation_id'</li>\n",
       "\t<li>'calculation_token'</li>\n",
       "\t<li>'etx_make_name'</li>\n",
       "\t<li>'etx_model_name'</li>\n",
       "\t<li>'etx_fuel_code'</li>\n",
       "\t<li>'production_year'</li>\n",
       "\t<li>'etx_model_code'</li>\n",
       "\t<li>'vehicle_id'</li>\n",
       "\t<li>'protection_scope'</li>\n",
       "\t<li>'kind'</li>\n",
       "\t<li>'usage_type'</li>\n",
       "\t<li>'use_frequency'</li>\n",
       "\t<li>'child_carriage_frequency'</li>\n",
       "\t<li>'mileage'</li>\n",
       "\t<li>'yearly_mileage'</li>\n",
       "\t<li>'used_abroad'</li>\n",
       "\t<li>'night_parking_place'</li>\n",
       "\t<li>'night_parking_place_postal_code'</li>\n",
       "\t<li>'day_parking_place'</li>\n",
       "\t<li>'day_parking_place_postal_code'</li>\n",
       "\t<li>'theft_protection_installation'</li>\n",
       "\t<li>'theft_protection_device_1'</li>\n",
       "\t<li>'theft_protection_device_2'</li>\n",
       "\t<li>'origin'</li>\n",
       "\t<li>'buy_year'</li>\n",
       "\t<li>'registration_date'</li>\n",
       "\t<li>'is_damaged'</li>\n",
       "\t<li>'leasing'</li>\n",
       "\t<li>'car_worth'</li>\n",
       "\t<li>'main_driver_postal_code'</li>\n",
       "\t<li>'main_driver_age'</li>\n",
       "\t<li>'main_driver_gender'</li>\n",
       "\t<li>'insurance_start_date'</li>\n",
       "\t<li>'phone_exists'</li>\n",
       "\t<li>'calc_complete'</li>\n",
       "\t<li>'calc_incomplete'</li>\n",
       "\t<li>'calc_finished'</li>\n",
       "\t<li>'phone_yes'</li>\n",
       "\t<li>'phone_no'</li>\n",
       "\t<li>'calculation_type'</li>\n",
       "\t<li>'terms_acceptance'</li>\n",
       "\t<li>'phone_acceptance'</li>\n",
       "\t<li>'phone_accepted'</li>\n",
       "\t<li>'step'</li>\n",
       "\t<li>'created_at'</li>\n",
       "\t<li>'created_at_date'</li>\n",
       "\t<li>'affiliation_id'</li>\n",
       "\t<li>'user_id'</li>\n",
       "\t<li>'salesforce_lead'</li>\n",
       "\t<li>'sent_to_sf'</li>\n",
       "\t<li>'sf_r_purchasing'</li>\n",
       "\t<li>'calculation_state'</li>\n",
       "\t<li>'oc_offers_qty'</li>\n",
       "\t<li>'oc_offer_min_val'</li>\n",
       "\t<li>'ac_offers_qty'</li>\n",
       "\t<li>'ac_offer_min_val'</li>\n",
       "\t<li>'b2c_leads_sent'</li>\n",
       "\t<li>'form_finished_at'</li>\n",
       "\t<li>'offer_first_at'</li>\n",
       "\t<li>'offer_last_at'</li>\n",
       "\t<li>'offer_first_after'</li>\n",
       "\t<li>'offer_last_after'</li>\n",
       "\t<li>'phone_lookup_status'</li>\n",
       "\t<li>'utm_campaign'</li>\n",
       "\t<li>'utm_content'</li>\n",
       "\t<li>'utm_medium'</li>\n",
       "\t<li>'utm_source'</li>\n",
       "\t<li>'pkb_transform_ver'</li>\n",
       "\t<li>'went_to_partners'</li>\n",
       "\t<li>'contact_requests'</li>\n",
       "\t<li>'Acc_Agreement_call__c'</li>\n",
       "\t<li>'Acc_Agreement_marketing__c'</li>\n",
       "\t<li>'Acc_Agreement_newsletter__c'</li>\n",
       "\t<li>'Acc_Birthdate__c'</li>\n",
       "\t<li>'Acc_PhoneHLRStatus__c'</li>\n",
       "\t<li>'Account__r.AccountSource'</li>\n",
       "\t<li>'Account__r.AgreementCall__pc'</li>\n",
       "\t<li>'Account__r.AgreementMarketing__pc'</li>\n",
       "\t<li>'Account__r.AgreementNewsletter__pc'</li>\n",
       "\t<li>'Account__r.BillingCity'</li>\n",
       "\t<li>'Account__r.BillingPostalCode'</li>\n",
       "\t<li>'Account__r.CreatedById'</li>\n",
       "\t<li>'Account__r.CreatedDate'</li>\n",
       "\t<li>'Account__r.Gender__pc'</li>\n",
       "\t<li>'Account__r.Id'</li>\n",
       "\t<li>'Account__r.IsDeleted'</li>\n",
       "\t<li>'Account__r.IsPersonAccount'</li>\n",
       "\t<li>'Account__r.LegacyID__c'</li>\n",
       "\t<li>'Account__r.OwnerId'</li>\n",
       "\t<li>'Account__r.PersonBirthdate'</li>\n",
       "\t<li>'Account__r.PersonContactId'</li>\n",
       "\t<li>'Account__r.PhoneHLRStatus__pc'</li>\n",
       "\t<li>'Account__r.PhoneNATStatus__pc'</li>\n",
       "\t<li>'Account__r.RecordTypeId'</li>\n",
       "\t<li>'Account__r.Salutation'</li>\n",
       "\t<li>'Account__r.Type'</li>\n",
       "\t<li>'CalculationToken__c'</li>\n",
       "\t<li>'CarEngineCapacity__c'</li>\n",
       "\t<li>'CarFuelType__c'</li>\n",
       "\t<li>'CarMake__c'</li>\n",
       "\t<li>'CarModel__c'</li>\n",
       "\t<li>'CarYear__c'</li>\n",
       "\t<li>'CpcPaid__c'</li>\n",
       "\t<li>'CreatedBy.Alias'</li>\n",
       "\t<li>'CreatedBy.CreatedDate'</li>\n",
       "\t<li>'CreatedById'</li>\n",
       "\t<li>'CreatedDate'</li>\n",
       "\t<li>'Id'</li>\n",
       "\t<li>'IsDeleted'</li>\n",
       "\t<li>'Mpc__c'</li>\n",
       "\t<li>'PolicyStartDate__c'</li>\n",
       "\t<li>'ProductScope__c'</li>\n",
       "\t<li>'Source__c'</li>\n",
       "\t<li>'WentToPartner__c'</li>\n",
       "\t<li>'dont_have_this_car__c'</li>\n",
       "\t<li>'TelehubStatus__c'</li>\n",
       "</ol>\n"
      ],
      "text/latex": [
       "\\begin{enumerate*}\n",
       "\\item 'LastCall\\_\\_c'\n",
       "\\item 'calculation\\_id'\n",
       "\\item 'calculation\\_token'\n",
       "\\item 'etx\\_make\\_name'\n",
       "\\item 'etx\\_model\\_name'\n",
       "\\item 'etx\\_fuel\\_code'\n",
       "\\item 'production\\_year'\n",
       "\\item 'etx\\_model\\_code'\n",
       "\\item 'vehicle\\_id'\n",
       "\\item 'protection\\_scope'\n",
       "\\item 'kind'\n",
       "\\item 'usage\\_type'\n",
       "\\item 'use\\_frequency'\n",
       "\\item 'child\\_carriage\\_frequency'\n",
       "\\item 'mileage'\n",
       "\\item 'yearly\\_mileage'\n",
       "\\item 'used\\_abroad'\n",
       "\\item 'night\\_parking\\_place'\n",
       "\\item 'night\\_parking\\_place\\_postal\\_code'\n",
       "\\item 'day\\_parking\\_place'\n",
       "\\item 'day\\_parking\\_place\\_postal\\_code'\n",
       "\\item 'theft\\_protection\\_installation'\n",
       "\\item 'theft\\_protection\\_device\\_1'\n",
       "\\item 'theft\\_protection\\_device\\_2'\n",
       "\\item 'origin'\n",
       "\\item 'buy\\_year'\n",
       "\\item 'registration\\_date'\n",
       "\\item 'is\\_damaged'\n",
       "\\item 'leasing'\n",
       "\\item 'car\\_worth'\n",
       "\\item 'main\\_driver\\_postal\\_code'\n",
       "\\item 'main\\_driver\\_age'\n",
       "\\item 'main\\_driver\\_gender'\n",
       "\\item 'insurance\\_start\\_date'\n",
       "\\item 'phone\\_exists'\n",
       "\\item 'calc\\_complete'\n",
       "\\item 'calc\\_incomplete'\n",
       "\\item 'calc\\_finished'\n",
       "\\item 'phone\\_yes'\n",
       "\\item 'phone\\_no'\n",
       "\\item 'calculation\\_type'\n",
       "\\item 'terms\\_acceptance'\n",
       "\\item 'phone\\_acceptance'\n",
       "\\item 'phone\\_accepted'\n",
       "\\item 'step'\n",
       "\\item 'created\\_at'\n",
       "\\item 'created\\_at\\_date'\n",
       "\\item 'affiliation\\_id'\n",
       "\\item 'user\\_id'\n",
       "\\item 'salesforce\\_lead'\n",
       "\\item 'sent\\_to\\_sf'\n",
       "\\item 'sf\\_r\\_purchasing'\n",
       "\\item 'calculation\\_state'\n",
       "\\item 'oc\\_offers\\_qty'\n",
       "\\item 'oc\\_offer\\_min\\_val'\n",
       "\\item 'ac\\_offers\\_qty'\n",
       "\\item 'ac\\_offer\\_min\\_val'\n",
       "\\item 'b2c\\_leads\\_sent'\n",
       "\\item 'form\\_finished\\_at'\n",
       "\\item 'offer\\_first\\_at'\n",
       "\\item 'offer\\_last\\_at'\n",
       "\\item 'offer\\_first\\_after'\n",
       "\\item 'offer\\_last\\_after'\n",
       "\\item 'phone\\_lookup\\_status'\n",
       "\\item 'utm\\_campaign'\n",
       "\\item 'utm\\_content'\n",
       "\\item 'utm\\_medium'\n",
       "\\item 'utm\\_source'\n",
       "\\item 'pkb\\_transform\\_ver'\n",
       "\\item 'went\\_to\\_partners'\n",
       "\\item 'contact\\_requests'\n",
       "\\item 'Acc\\_Agreement\\_call\\_\\_c'\n",
       "\\item 'Acc\\_Agreement\\_marketing\\_\\_c'\n",
       "\\item 'Acc\\_Agreement\\_newsletter\\_\\_c'\n",
       "\\item 'Acc\\_Birthdate\\_\\_c'\n",
       "\\item 'Acc\\_PhoneHLRStatus\\_\\_c'\n",
       "\\item 'Account\\_\\_r.AccountSource'\n",
       "\\item 'Account\\_\\_r.AgreementCall\\_\\_pc'\n",
       "\\item 'Account\\_\\_r.AgreementMarketing\\_\\_pc'\n",
       "\\item 'Account\\_\\_r.AgreementNewsletter\\_\\_pc'\n",
       "\\item 'Account\\_\\_r.BillingCity'\n",
       "\\item 'Account\\_\\_r.BillingPostalCode'\n",
       "\\item 'Account\\_\\_r.CreatedById'\n",
       "\\item 'Account\\_\\_r.CreatedDate'\n",
       "\\item 'Account\\_\\_r.Gender\\_\\_pc'\n",
       "\\item 'Account\\_\\_r.Id'\n",
       "\\item 'Account\\_\\_r.IsDeleted'\n",
       "\\item 'Account\\_\\_r.IsPersonAccount'\n",
       "\\item 'Account\\_\\_r.LegacyID\\_\\_c'\n",
       "\\item 'Account\\_\\_r.OwnerId'\n",
       "\\item 'Account\\_\\_r.PersonBirthdate'\n",
       "\\item 'Account\\_\\_r.PersonContactId'\n",
       "\\item 'Account\\_\\_r.PhoneHLRStatus\\_\\_pc'\n",
       "\\item 'Account\\_\\_r.PhoneNATStatus\\_\\_pc'\n",
       "\\item 'Account\\_\\_r.RecordTypeId'\n",
       "\\item 'Account\\_\\_r.Salutation'\n",
       "\\item 'Account\\_\\_r.Type'\n",
       "\\item 'CalculationToken\\_\\_c'\n",
       "\\item 'CarEngineCapacity\\_\\_c'\n",
       "\\item 'CarFuelType\\_\\_c'\n",
       "\\item 'CarMake\\_\\_c'\n",
       "\\item 'CarModel\\_\\_c'\n",
       "\\item 'CarYear\\_\\_c'\n",
       "\\item 'CpcPaid\\_\\_c'\n",
       "\\item 'CreatedBy.Alias'\n",
       "\\item 'CreatedBy.CreatedDate'\n",
       "\\item 'CreatedById'\n",
       "\\item 'CreatedDate'\n",
       "\\item 'Id'\n",
       "\\item 'IsDeleted'\n",
       "\\item 'Mpc\\_\\_c'\n",
       "\\item 'PolicyStartDate\\_\\_c'\n",
       "\\item 'ProductScope\\_\\_c'\n",
       "\\item 'Source\\_\\_c'\n",
       "\\item 'WentToPartner\\_\\_c'\n",
       "\\item 'dont\\_have\\_this\\_car\\_\\_c'\n",
       "\\item 'TelehubStatus\\_\\_c'\n",
       "\\end{enumerate*}\n"
      ],
      "text/markdown": [
       "1. 'LastCall__c'\n",
       "2. 'calculation_id'\n",
       "3. 'calculation_token'\n",
       "4. 'etx_make_name'\n",
       "5. 'etx_model_name'\n",
       "6. 'etx_fuel_code'\n",
       "7. 'production_year'\n",
       "8. 'etx_model_code'\n",
       "9. 'vehicle_id'\n",
       "10. 'protection_scope'\n",
       "11. 'kind'\n",
       "12. 'usage_type'\n",
       "13. 'use_frequency'\n",
       "14. 'child_carriage_frequency'\n",
       "15. 'mileage'\n",
       "16. 'yearly_mileage'\n",
       "17. 'used_abroad'\n",
       "18. 'night_parking_place'\n",
       "19. 'night_parking_place_postal_code'\n",
       "20. 'day_parking_place'\n",
       "21. 'day_parking_place_postal_code'\n",
       "22. 'theft_protection_installation'\n",
       "23. 'theft_protection_device_1'\n",
       "24. 'theft_protection_device_2'\n",
       "25. 'origin'\n",
       "26. 'buy_year'\n",
       "27. 'registration_date'\n",
       "28. 'is_damaged'\n",
       "29. 'leasing'\n",
       "30. 'car_worth'\n",
       "31. 'main_driver_postal_code'\n",
       "32. 'main_driver_age'\n",
       "33. 'main_driver_gender'\n",
       "34. 'insurance_start_date'\n",
       "35. 'phone_exists'\n",
       "36. 'calc_complete'\n",
       "37. 'calc_incomplete'\n",
       "38. 'calc_finished'\n",
       "39. 'phone_yes'\n",
       "40. 'phone_no'\n",
       "41. 'calculation_type'\n",
       "42. 'terms_acceptance'\n",
       "43. 'phone_acceptance'\n",
       "44. 'phone_accepted'\n",
       "45. 'step'\n",
       "46. 'created_at'\n",
       "47. 'created_at_date'\n",
       "48. 'affiliation_id'\n",
       "49. 'user_id'\n",
       "50. 'salesforce_lead'\n",
       "51. 'sent_to_sf'\n",
       "52. 'sf_r_purchasing'\n",
       "53. 'calculation_state'\n",
       "54. 'oc_offers_qty'\n",
       "55. 'oc_offer_min_val'\n",
       "56. 'ac_offers_qty'\n",
       "57. 'ac_offer_min_val'\n",
       "58. 'b2c_leads_sent'\n",
       "59. 'form_finished_at'\n",
       "60. 'offer_first_at'\n",
       "61. 'offer_last_at'\n",
       "62. 'offer_first_after'\n",
       "63. 'offer_last_after'\n",
       "64. 'phone_lookup_status'\n",
       "65. 'utm_campaign'\n",
       "66. 'utm_content'\n",
       "67. 'utm_medium'\n",
       "68. 'utm_source'\n",
       "69. 'pkb_transform_ver'\n",
       "70. 'went_to_partners'\n",
       "71. 'contact_requests'\n",
       "72. 'Acc_Agreement_call__c'\n",
       "73. 'Acc_Agreement_marketing__c'\n",
       "74. 'Acc_Agreement_newsletter__c'\n",
       "75. 'Acc_Birthdate__c'\n",
       "76. 'Acc_PhoneHLRStatus__c'\n",
       "77. 'Account__r.AccountSource'\n",
       "78. 'Account__r.AgreementCall__pc'\n",
       "79. 'Account__r.AgreementMarketing__pc'\n",
       "80. 'Account__r.AgreementNewsletter__pc'\n",
       "81. 'Account__r.BillingCity'\n",
       "82. 'Account__r.BillingPostalCode'\n",
       "83. 'Account__r.CreatedById'\n",
       "84. 'Account__r.CreatedDate'\n",
       "85. 'Account__r.Gender__pc'\n",
       "86. 'Account__r.Id'\n",
       "87. 'Account__r.IsDeleted'\n",
       "88. 'Account__r.IsPersonAccount'\n",
       "89. 'Account__r.LegacyID__c'\n",
       "90. 'Account__r.OwnerId'\n",
       "91. 'Account__r.PersonBirthdate'\n",
       "92. 'Account__r.PersonContactId'\n",
       "93. 'Account__r.PhoneHLRStatus__pc'\n",
       "94. 'Account__r.PhoneNATStatus__pc'\n",
       "95. 'Account__r.RecordTypeId'\n",
       "96. 'Account__r.Salutation'\n",
       "97. 'Account__r.Type'\n",
       "98. 'CalculationToken__c'\n",
       "99. 'CarEngineCapacity__c'\n",
       "100. 'CarFuelType__c'\n",
       "101. 'CarMake__c'\n",
       "102. 'CarModel__c'\n",
       "103. 'CarYear__c'\n",
       "104. 'CpcPaid__c'\n",
       "105. 'CreatedBy.Alias'\n",
       "106. 'CreatedBy.CreatedDate'\n",
       "107. 'CreatedById'\n",
       "108. 'CreatedDate'\n",
       "109. 'Id'\n",
       "110. 'IsDeleted'\n",
       "111. 'Mpc__c'\n",
       "112. 'PolicyStartDate__c'\n",
       "113. 'ProductScope__c'\n",
       "114. 'Source__c'\n",
       "115. 'WentToPartner__c'\n",
       "116. 'dont_have_this_car__c'\n",
       "117. 'TelehubStatus__c'\n",
       "\n",
       "\n"
      ],
      "text/plain": [
       "  [1] \"LastCall__c\"                        \"calculation_id\"                    \n",
       "  [3] \"calculation_token\"                  \"etx_make_name\"                     \n",
       "  [5] \"etx_model_name\"                     \"etx_fuel_code\"                     \n",
       "  [7] \"production_year\"                    \"etx_model_code\"                    \n",
       "  [9] \"vehicle_id\"                         \"protection_scope\"                  \n",
       " [11] \"kind\"                               \"usage_type\"                        \n",
       " [13] \"use_frequency\"                      \"child_carriage_frequency\"          \n",
       " [15] \"mileage\"                            \"yearly_mileage\"                    \n",
       " [17] \"used_abroad\"                        \"night_parking_place\"               \n",
       " [19] \"night_parking_place_postal_code\"    \"day_parking_place\"                 \n",
       " [21] \"day_parking_place_postal_code\"      \"theft_protection_installation\"     \n",
       " [23] \"theft_protection_device_1\"          \"theft_protection_device_2\"         \n",
       " [25] \"origin\"                             \"buy_year\"                          \n",
       " [27] \"registration_date\"                  \"is_damaged\"                        \n",
       " [29] \"leasing\"                            \"car_worth\"                         \n",
       " [31] \"main_driver_postal_code\"            \"main_driver_age\"                   \n",
       " [33] \"main_driver_gender\"                 \"insurance_start_date\"              \n",
       " [35] \"phone_exists\"                       \"calc_complete\"                     \n",
       " [37] \"calc_incomplete\"                    \"calc_finished\"                     \n",
       " [39] \"phone_yes\"                          \"phone_no\"                          \n",
       " [41] \"calculation_type\"                   \"terms_acceptance\"                  \n",
       " [43] \"phone_acceptance\"                   \"phone_accepted\"                    \n",
       " [45] \"step\"                               \"created_at\"                        \n",
       " [47] \"created_at_date\"                    \"affiliation_id\"                    \n",
       " [49] \"user_id\"                            \"salesforce_lead\"                   \n",
       " [51] \"sent_to_sf\"                         \"sf_r_purchasing\"                   \n",
       " [53] \"calculation_state\"                  \"oc_offers_qty\"                     \n",
       " [55] \"oc_offer_min_val\"                   \"ac_offers_qty\"                     \n",
       " [57] \"ac_offer_min_val\"                   \"b2c_leads_sent\"                    \n",
       " [59] \"form_finished_at\"                   \"offer_first_at\"                    \n",
       " [61] \"offer_last_at\"                      \"offer_first_after\"                 \n",
       " [63] \"offer_last_after\"                   \"phone_lookup_status\"               \n",
       " [65] \"utm_campaign\"                       \"utm_content\"                       \n",
       " [67] \"utm_medium\"                         \"utm_source\"                        \n",
       " [69] \"pkb_transform_ver\"                  \"went_to_partners\"                  \n",
       " [71] \"contact_requests\"                   \"Acc_Agreement_call__c\"             \n",
       " [73] \"Acc_Agreement_marketing__c\"         \"Acc_Agreement_newsletter__c\"       \n",
       " [75] \"Acc_Birthdate__c\"                   \"Acc_PhoneHLRStatus__c\"             \n",
       " [77] \"Account__r.AccountSource\"           \"Account__r.AgreementCall__pc\"      \n",
       " [79] \"Account__r.AgreementMarketing__pc\"  \"Account__r.AgreementNewsletter__pc\"\n",
       " [81] \"Account__r.BillingCity\"             \"Account__r.BillingPostalCode\"      \n",
       " [83] \"Account__r.CreatedById\"             \"Account__r.CreatedDate\"            \n",
       " [85] \"Account__r.Gender__pc\"              \"Account__r.Id\"                     \n",
       " [87] \"Account__r.IsDeleted\"               \"Account__r.IsPersonAccount\"        \n",
       " [89] \"Account__r.LegacyID__c\"             \"Account__r.OwnerId\"                \n",
       " [91] \"Account__r.PersonBirthdate\"         \"Account__r.PersonContactId\"        \n",
       " [93] \"Account__r.PhoneHLRStatus__pc\"      \"Account__r.PhoneNATStatus__pc\"     \n",
       " [95] \"Account__r.RecordTypeId\"            \"Account__r.Salutation\"             \n",
       " [97] \"Account__r.Type\"                    \"CalculationToken__c\"               \n",
       " [99] \"CarEngineCapacity__c\"               \"CarFuelType__c\"                    \n",
       "[101] \"CarMake__c\"                         \"CarModel__c\"                       \n",
       "[103] \"CarYear__c\"                         \"CpcPaid__c\"                        \n",
       "[105] \"CreatedBy.Alias\"                    \"CreatedBy.CreatedDate\"             \n",
       "[107] \"CreatedById\"                        \"CreatedDate\"                       \n",
       "[109] \"Id\"                                 \"IsDeleted\"                         \n",
       "[111] \"Mpc__c\"                             \"PolicyStartDate__c\"                \n",
       "[113] \"ProductScope__c\"                    \"Source__c\"                         \n",
       "[115] \"WentToPartner__c\"                   \"dont_have_this_car__c\"             \n",
       "[117] \"TelehubStatus__c\"                  "
      ]
     },
     "metadata": {},
     "output_type": "display_data"
    }
   ],
   "source": [
    "preds"
   ]
  },
  {
   "cell_type": "markdown",
   "metadata": {},
   "source": [
    "## W tym momencie - przerobione dane treningowe są w zmiennej train4, etykieta to Sale.success"
   ]
  },
  {
   "cell_type": "markdown",
   "metadata": {},
   "source": [
    "## Podejście stare - bez predyktora LastCall__c"
   ]
  },
  {
   "cell_type": "code",
   "execution_count": 432,
   "metadata": {
    "collapsed": true
   },
   "outputs": [],
   "source": [
    "train4nl = train4[,-which(colnames(train4)=='LastCall__c')]\n",
    "mdtrain4nl = sparse.model.matrix(Sale.success~.,train4nl)"
   ]
  },
  {
   "cell_type": "code",
   "execution_count": 433,
   "metadata": {},
   "outputs": [
    {
     "data": {
      "text/html": [
       "<ol class=list-inline>\n",
       "\t<li>93646</li>\n",
       "\t<li>60</li>\n",
       "</ol>\n"
      ],
      "text/latex": [
       "\\begin{enumerate*}\n",
       "\\item 93646\n",
       "\\item 60\n",
       "\\end{enumerate*}\n"
      ],
      "text/markdown": [
       "1. 93646\n",
       "2. 60\n",
       "\n",
       "\n"
      ],
      "text/plain": [
       "[1] 93646    60"
      ]
     },
     "metadata": {},
     "output_type": "display_data"
    },
    {
     "data": {
      "text/html": [
       "<ol class=list-inline>\n",
       "\t<li>93646</li>\n",
       "\t<li>61</li>\n",
       "</ol>\n"
      ],
      "text/latex": [
       "\\begin{enumerate*}\n",
       "\\item 93646\n",
       "\\item 61\n",
       "\\end{enumerate*}\n"
      ],
      "text/markdown": [
       "1. 93646\n",
       "2. 61\n",
       "\n",
       "\n"
      ],
      "text/plain": [
       "[1] 93646    61"
      ]
     },
     "metadata": {},
     "output_type": "display_data"
    }
   ],
   "source": [
    "dim(train4nl)\n",
    "dim(train4)"
   ]
  },
  {
   "cell_type": "markdown",
   "metadata": {},
   "source": [
    "### Podejście 3 - przekształcenia kolumn (ozn. train4m)"
   ]
  },
  {
   "cell_type": "code",
   "execution_count": 434,
   "metadata": {
    "collapsed": true,
    "scrolled": true
   },
   "outputs": [],
   "source": [
    "train4m = train4\n",
    "train4m$contactDifference = (train4m$LastCall__c)-(train$form_finished_at)"
   ]
  },
  {
   "cell_type": "code",
   "execution_count": 435,
   "metadata": {
    "collapsed": true
   },
   "outputs": [],
   "source": [
    "train4m$contactDifference[is.na(train4m$contactDifference)] = mean(train4m$contactDifference[!is.na(train4m$contactDifference)])"
   ]
  },
  {
   "cell_type": "code",
   "execution_count": 436,
   "metadata": {
    "collapsed": true
   },
   "outputs": [],
   "source": [
    "train4m$timeWaiting = (train4m$offer_last_after)-(train4m$offer_first_after)"
   ]
  },
  {
   "cell_type": "code",
   "execution_count": 437,
   "metadata": {},
   "outputs": [
    {
     "data": {
      "text/html": [
       "<ol class=list-inline>\n",
       "\t<li>0</li>\n",
       "\t<li>0</li>\n",
       "\t<li>18</li>\n",
       "\t<li>17</li>\n",
       "\t<li>31</li>\n",
       "\t<li>0</li>\n",
       "</ol>\n"
      ],
      "text/latex": [
       "\\begin{enumerate*}\n",
       "\\item 0\n",
       "\\item 0\n",
       "\\item 18\n",
       "\\item 17\n",
       "\\item 31\n",
       "\\item 0\n",
       "\\end{enumerate*}\n"
      ],
      "text/markdown": [
       "1. 0\n",
       "2. 0\n",
       "3. 18\n",
       "4. 17\n",
       "5. 31\n",
       "6. 0\n",
       "\n",
       "\n"
      ],
      "text/plain": [
       "[1]  0  0 18 17 31  0"
      ]
     },
     "metadata": {},
     "output_type": "display_data"
    }
   ],
   "source": [
    "head(train4m$timeWaiting)"
   ]
  },
  {
   "cell_type": "code",
   "execution_count": 438,
   "metadata": {
    "collapsed": true
   },
   "outputs": [],
   "source": [
    "train4m$hurryTime = (train4m$PolicyStartDate__c)-(train$created_at)"
   ]
  },
  {
   "cell_type": "code",
   "execution_count": 439,
   "metadata": {
    "collapsed": true
   },
   "outputs": [],
   "source": [
    "train4m$hurryTime[is.na(train4m$hurryTime)] = mean(train4m$hurryTime[!is.na(train4m$hurryTime)])"
   ]
  },
  {
   "cell_type": "code",
   "execution_count": 440,
   "metadata": {
    "collapsed": true
   },
   "outputs": [],
   "source": [
    "#czas wypelniania ankiety"
   ]
  },
  {
   "cell_type": "code",
   "execution_count": 441,
   "metadata": {
    "collapsed": true
   },
   "outputs": [],
   "source": [
    "formFillingTime = (train$form_finished_at)-(train$created_at)\n",
    "train4m$formFillingTime = formFillingTime"
   ]
  },
  {
   "cell_type": "code",
   "execution_count": 442,
   "metadata": {
    "collapsed": true
   },
   "outputs": [],
   "source": [
    "#imputacja\n",
    "train4m$formFillingTime[is.na(formFillingTime)] = mean(train4m$formFillingTime[!is.na(formFillingTime)])"
   ]
  },
  {
   "cell_type": "code",
   "execution_count": 443,
   "metadata": {
    "collapsed": true
   },
   "outputs": [],
   "source": [
    "mdtrain4m = sparse.model.matrix(Sale.success~.,train4m)"
   ]
  },
  {
   "cell_type": "code",
   "execution_count": 444,
   "metadata": {
    "scrolled": true
   },
   "outputs": [
    {
     "data": {
      "text/html": [
       "<ol class=list-inline>\n",
       "\t<li>93646</li>\n",
       "\t<li>65</li>\n",
       "</ol>\n"
      ],
      "text/latex": [
       "\\begin{enumerate*}\n",
       "\\item 93646\n",
       "\\item 65\n",
       "\\end{enumerate*}\n"
      ],
      "text/markdown": [
       "1. 93646\n",
       "2. 65\n",
       "\n",
       "\n"
      ],
      "text/plain": [
       "[1] 93646    65"
      ]
     },
     "metadata": {},
     "output_type": "display_data"
    },
    {
     "data": {
      "text/html": [
       "<ol class=list-inline>\n",
       "\t<li>93646</li>\n",
       "\t<li>8787</li>\n",
       "</ol>\n"
      ],
      "text/latex": [
       "\\begin{enumerate*}\n",
       "\\item 93646\n",
       "\\item 8787\n",
       "\\end{enumerate*}\n"
      ],
      "text/markdown": [
       "1. 93646\n",
       "2. 8787\n",
       "\n",
       "\n"
      ],
      "text/plain": [
       "[1] 93646  8787"
      ]
     },
     "metadata": {},
     "output_type": "display_data"
    }
   ],
   "source": [
    "dim(train4m)\n",
    "dim(mdtrain4m)"
   ]
  },
  {
   "cell_type": "code",
   "execution_count": 445,
   "metadata": {},
   "outputs": [
    {
     "data": {
      "text/html": [
       "<ol class=list-inline>\n",
       "\t<li>93646</li>\n",
       "\t<li>8787</li>\n",
       "</ol>\n"
      ],
      "text/latex": [
       "\\begin{enumerate*}\n",
       "\\item 93646\n",
       "\\item 8787\n",
       "\\end{enumerate*}\n"
      ],
      "text/markdown": [
       "1. 93646\n",
       "2. 8787\n",
       "\n",
       "\n"
      ],
      "text/plain": [
       "[1] 93646  8787"
      ]
     },
     "metadata": {},
     "output_type": "display_data"
    },
    {
     "data": {
      "text/html": [
       "<ol class=list-inline>\n",
       "\t<li>93646</li>\n",
       "\t<li>8783</li>\n",
       "</ol>\n"
      ],
      "text/latex": [
       "\\begin{enumerate*}\n",
       "\\item 93646\n",
       "\\item 8783\n",
       "\\end{enumerate*}\n"
      ],
      "text/markdown": [
       "1. 93646\n",
       "2. 8783\n",
       "\n",
       "\n"
      ],
      "text/plain": [
       "[1] 93646  8783"
      ]
     },
     "metadata": {},
     "output_type": "display_data"
    }
   ],
   "source": [
    "dim(mdtrain4m)\n",
    "dim(mdtrain4)"
   ]
  },
  {
   "cell_type": "markdown",
   "metadata": {},
   "source": [
    "### Train4 z obniżonymi levelami factorów (ozn. train4l)"
   ]
  },
  {
   "cell_type": "code",
   "execution_count": 446,
   "metadata": {
    "scrolled": true
   },
   "outputs": [
    {
     "data": {
      "text/html": [
       "<dl class=dl-horizontal>\n",
       "\t<dt>LastCall__c</dt>\n",
       "\t\t<dd>0</dd>\n",
       "\t<dt>etx_make_name</dt>\n",
       "\t\t<dd>69</dd>\n",
       "\t<dt>etx_model_name</dt>\n",
       "\t\t<dd>729</dd>\n",
       "\t<dt>etx_fuel_code</dt>\n",
       "\t\t<dd>6</dd>\n",
       "\t<dt>production_year</dt>\n",
       "\t\t<dd>0</dd>\n",
       "\t<dt>protection_scope</dt>\n",
       "\t\t<dd>3</dd>\n",
       "\t<dt>kind</dt>\n",
       "\t\t<dd>3</dd>\n",
       "\t<dt>use_frequency</dt>\n",
       "\t\t<dd>3</dd>\n",
       "\t<dt>child_carriage_frequency</dt>\n",
       "\t\t<dd>4</dd>\n",
       "\t<dt>mileage</dt>\n",
       "\t\t<dd>0</dd>\n",
       "\t<dt>yearly_mileage</dt>\n",
       "\t\t<dd>0</dd>\n",
       "\t<dt>used_abroad</dt>\n",
       "\t\t<dd>0</dd>\n",
       "\t<dt>night_parking_place</dt>\n",
       "\t\t<dd>7</dd>\n",
       "\t<dt>night_parking_place_postal_code</dt>\n",
       "\t\t<dd>31</dd>\n",
       "\t<dt>day_parking_place</dt>\n",
       "\t\t<dd>7</dd>\n",
       "\t<dt>day_parking_place_postal_code</dt>\n",
       "\t\t<dd>31</dd>\n",
       "\t<dt>theft_protection_installation</dt>\n",
       "\t\t<dd>5</dd>\n",
       "\t<dt>theft_protection_device_1</dt>\n",
       "\t\t<dd>5</dd>\n",
       "\t<dt>theft_protection_device_2</dt>\n",
       "\t\t<dd>6</dd>\n",
       "\t<dt>origin</dt>\n",
       "\t\t<dd>5</dd>\n",
       "\t<dt>buy_year</dt>\n",
       "\t\t<dd>0</dd>\n",
       "\t<dt>registration_date</dt>\n",
       "\t\t<dd>0</dd>\n",
       "\t<dt>car_worth</dt>\n",
       "\t\t<dd>0</dd>\n",
       "\t<dt>main_driver_postal_code</dt>\n",
       "\t\t<dd>31</dd>\n",
       "\t<dt>main_driver_age</dt>\n",
       "\t\t<dd>0</dd>\n",
       "\t<dt>main_driver_gender</dt>\n",
       "\t\t<dd>3</dd>\n",
       "\t<dt>phone_exists</dt>\n",
       "\t\t<dd>3</dd>\n",
       "\t<dt>step</dt>\n",
       "\t\t<dd>0</dd>\n",
       "\t<dt>oc_offer_min_val</dt>\n",
       "\t\t<dd>0</dd>\n",
       "\t<dt>ac_offers_qty</dt>\n",
       "\t\t<dd>0</dd>\n",
       "\t<dt>b2c_leads_sent</dt>\n",
       "\t\t<dd>0</dd>\n",
       "\t<dt>offer_last_at</dt>\n",
       "\t\t<dd>0</dd>\n",
       "\t<dt>offer_first_after</dt>\n",
       "\t\t<dd>0</dd>\n",
       "\t<dt>offer_last_after</dt>\n",
       "\t\t<dd>0</dd>\n",
       "\t<dt>phone_lookup_status</dt>\n",
       "\t\t<dd>0</dd>\n",
       "\t<dt>utm_campaign</dt>\n",
       "\t\t<dd>102</dd>\n",
       "\t<dt>utm_content</dt>\n",
       "\t\t<dd>286</dd>\n",
       "\t<dt>utm_medium</dt>\n",
       "\t\t<dd>48</dd>\n",
       "\t<dt>utm_source</dt>\n",
       "\t\t<dd>79</dd>\n",
       "\t<dt>went_to_partners</dt>\n",
       "\t\t<dd>0</dd>\n",
       "\t<dt>Acc_PhoneHLRStatus__c</dt>\n",
       "\t\t<dd>5</dd>\n",
       "\t<dt>Account__r.AccountSource</dt>\n",
       "\t\t<dd>22</dd>\n",
       "\t<dt>Account__r.AgreementMarketing__pc</dt>\n",
       "\t\t<dd>0</dd>\n",
       "\t<dt>Account__r.BillingCity</dt>\n",
       "\t\t<dd>7174</dd>\n",
       "\t<dt>Account__r.BillingPostalCode</dt>\n",
       "\t\t<dd>31</dd>\n",
       "\t<dt>Account__r.Gender__pc</dt>\n",
       "\t\t<dd>3</dd>\n",
       "\t<dt>Account__r.PersonBirthdate</dt>\n",
       "\t\t<dd>0</dd>\n",
       "\t<dt>Account__r.PhoneHLRStatus__pc</dt>\n",
       "\t\t<dd>5</dd>\n",
       "\t<dt>Account__r.PhoneNATStatus__pc</dt>\n",
       "\t\t<dd>8</dd>\n",
       "\t<dt>Account__r.Salutation</dt>\n",
       "\t\t<dd>6</dd>\n",
       "\t<dt>CarEngineCapacity__c</dt>\n",
       "\t\t<dd>0</dd>\n",
       "\t<dt>CarFuelType__c</dt>\n",
       "\t\t<dd>6</dd>\n",
       "\t<dt>CarYear__c</dt>\n",
       "\t\t<dd>0</dd>\n",
       "\t<dt>Mpc__c</dt>\n",
       "\t\t<dd>23</dd>\n",
       "\t<dt>PolicyStartDate__c</dt>\n",
       "\t\t<dd>0</dd>\n",
       "\t<dt>ProductScope__c</dt>\n",
       "\t\t<dd>4</dd>\n",
       "\t<dt>Source__c</dt>\n",
       "\t\t<dd>18</dd>\n",
       "\t<dt>WentToPartner__c</dt>\n",
       "\t\t<dd>0</dd>\n",
       "\t<dt>dont_have_this_car__c</dt>\n",
       "\t\t<dd>0</dd>\n",
       "\t<dt>TelehubStatus__c</dt>\n",
       "\t\t<dd>21</dd>\n",
       "\t<dt>Sale.success</dt>\n",
       "\t\t<dd>0</dd>\n",
       "</dl>\n"
      ],
      "text/latex": [
       "\\begin{description*}\n",
       "\\item[LastCall\\textbackslash{}\\_\\textbackslash{}\\_c] 0\n",
       "\\item[etx\\textbackslash{}\\_make\\textbackslash{}\\_name] 69\n",
       "\\item[etx\\textbackslash{}\\_model\\textbackslash{}\\_name] 729\n",
       "\\item[etx\\textbackslash{}\\_fuel\\textbackslash{}\\_code] 6\n",
       "\\item[production\\textbackslash{}\\_year] 0\n",
       "\\item[protection\\textbackslash{}\\_scope] 3\n",
       "\\item[kind] 3\n",
       "\\item[use\\textbackslash{}\\_frequency] 3\n",
       "\\item[child\\textbackslash{}\\_carriage\\textbackslash{}\\_frequency] 4\n",
       "\\item[mileage] 0\n",
       "\\item[yearly\\textbackslash{}\\_mileage] 0\n",
       "\\item[used\\textbackslash{}\\_abroad] 0\n",
       "\\item[night\\textbackslash{}\\_parking\\textbackslash{}\\_place] 7\n",
       "\\item[night\\textbackslash{}\\_parking\\textbackslash{}\\_place\\textbackslash{}\\_postal\\textbackslash{}\\_code] 31\n",
       "\\item[day\\textbackslash{}\\_parking\\textbackslash{}\\_place] 7\n",
       "\\item[day\\textbackslash{}\\_parking\\textbackslash{}\\_place\\textbackslash{}\\_postal\\textbackslash{}\\_code] 31\n",
       "\\item[theft\\textbackslash{}\\_protection\\textbackslash{}\\_installation] 5\n",
       "\\item[theft\\textbackslash{}\\_protection\\textbackslash{}\\_device\\textbackslash{}\\_1] 5\n",
       "\\item[theft\\textbackslash{}\\_protection\\textbackslash{}\\_device\\textbackslash{}\\_2] 6\n",
       "\\item[origin] 5\n",
       "\\item[buy\\textbackslash{}\\_year] 0\n",
       "\\item[registration\\textbackslash{}\\_date] 0\n",
       "\\item[car\\textbackslash{}\\_worth] 0\n",
       "\\item[main\\textbackslash{}\\_driver\\textbackslash{}\\_postal\\textbackslash{}\\_code] 31\n",
       "\\item[main\\textbackslash{}\\_driver\\textbackslash{}\\_age] 0\n",
       "\\item[main\\textbackslash{}\\_driver\\textbackslash{}\\_gender] 3\n",
       "\\item[phone\\textbackslash{}\\_exists] 3\n",
       "\\item[step] 0\n",
       "\\item[oc\\textbackslash{}\\_offer\\textbackslash{}\\_min\\textbackslash{}\\_val] 0\n",
       "\\item[ac\\textbackslash{}\\_offers\\textbackslash{}\\_qty] 0\n",
       "\\item[b2c\\textbackslash{}\\_leads\\textbackslash{}\\_sent] 0\n",
       "\\item[offer\\textbackslash{}\\_last\\textbackslash{}\\_at] 0\n",
       "\\item[offer\\textbackslash{}\\_first\\textbackslash{}\\_after] 0\n",
       "\\item[offer\\textbackslash{}\\_last\\textbackslash{}\\_after] 0\n",
       "\\item[phone\\textbackslash{}\\_lookup\\textbackslash{}\\_status] 0\n",
       "\\item[utm\\textbackslash{}\\_campaign] 102\n",
       "\\item[utm\\textbackslash{}\\_content] 286\n",
       "\\item[utm\\textbackslash{}\\_medium] 48\n",
       "\\item[utm\\textbackslash{}\\_source] 79\n",
       "\\item[went\\textbackslash{}\\_to\\textbackslash{}\\_partners] 0\n",
       "\\item[Acc\\textbackslash{}\\_PhoneHLRStatus\\textbackslash{}\\_\\textbackslash{}\\_c] 5\n",
       "\\item[Account\\textbackslash{}\\_\\textbackslash{}\\_r.AccountSource] 22\n",
       "\\item[Account\\textbackslash{}\\_\\textbackslash{}\\_r.AgreementMarketing\\textbackslash{}\\_\\textbackslash{}\\_pc] 0\n",
       "\\item[Account\\textbackslash{}\\_\\textbackslash{}\\_r.BillingCity] 7174\n",
       "\\item[Account\\textbackslash{}\\_\\textbackslash{}\\_r.BillingPostalCode] 31\n",
       "\\item[Account\\textbackslash{}\\_\\textbackslash{}\\_r.Gender\\textbackslash{}\\_\\textbackslash{}\\_pc] 3\n",
       "\\item[Account\\textbackslash{}\\_\\textbackslash{}\\_r.PersonBirthdate] 0\n",
       "\\item[Account\\textbackslash{}\\_\\textbackslash{}\\_r.PhoneHLRStatus\\textbackslash{}\\_\\textbackslash{}\\_pc] 5\n",
       "\\item[Account\\textbackslash{}\\_\\textbackslash{}\\_r.PhoneNATStatus\\textbackslash{}\\_\\textbackslash{}\\_pc] 8\n",
       "\\item[Account\\textbackslash{}\\_\\textbackslash{}\\_r.Salutation] 6\n",
       "\\item[CarEngineCapacity\\textbackslash{}\\_\\textbackslash{}\\_c] 0\n",
       "\\item[CarFuelType\\textbackslash{}\\_\\textbackslash{}\\_c] 6\n",
       "\\item[CarYear\\textbackslash{}\\_\\textbackslash{}\\_c] 0\n",
       "\\item[Mpc\\textbackslash{}\\_\\textbackslash{}\\_c] 23\n",
       "\\item[PolicyStartDate\\textbackslash{}\\_\\textbackslash{}\\_c] 0\n",
       "\\item[ProductScope\\textbackslash{}\\_\\textbackslash{}\\_c] 4\n",
       "\\item[Source\\textbackslash{}\\_\\textbackslash{}\\_c] 18\n",
       "\\item[WentToPartner\\textbackslash{}\\_\\textbackslash{}\\_c] 0\n",
       "\\item[dont\\textbackslash{}\\_have\\textbackslash{}\\_this\\textbackslash{}\\_car\\textbackslash{}\\_\\textbackslash{}\\_c] 0\n",
       "\\item[TelehubStatus\\textbackslash{}\\_\\textbackslash{}\\_c] 21\n",
       "\\item[Sale.success] 0\n",
       "\\end{description*}\n"
      ],
      "text/markdown": [
       "LastCall__c\n",
       ":   0etx_make_name\n",
       ":   69etx_model_name\n",
       ":   729etx_fuel_code\n",
       ":   6production_year\n",
       ":   0protection_scope\n",
       ":   3kind\n",
       ":   3use_frequency\n",
       ":   3child_carriage_frequency\n",
       ":   4mileage\n",
       ":   0yearly_mileage\n",
       ":   0used_abroad\n",
       ":   0night_parking_place\n",
       ":   7night_parking_place_postal_code\n",
       ":   31day_parking_place\n",
       ":   7day_parking_place_postal_code\n",
       ":   31theft_protection_installation\n",
       ":   5theft_protection_device_1\n",
       ":   5theft_protection_device_2\n",
       ":   6origin\n",
       ":   5buy_year\n",
       ":   0registration_date\n",
       ":   0car_worth\n",
       ":   0main_driver_postal_code\n",
       ":   31main_driver_age\n",
       ":   0main_driver_gender\n",
       ":   3phone_exists\n",
       ":   3step\n",
       ":   0oc_offer_min_val\n",
       ":   0ac_offers_qty\n",
       ":   0b2c_leads_sent\n",
       ":   0offer_last_at\n",
       ":   0offer_first_after\n",
       ":   0offer_last_after\n",
       ":   0phone_lookup_status\n",
       ":   0utm_campaign\n",
       ":   102utm_content\n",
       ":   286utm_medium\n",
       ":   48utm_source\n",
       ":   79went_to_partners\n",
       ":   0Acc_PhoneHLRStatus__c\n",
       ":   5Account__r.AccountSource\n",
       ":   22Account__r.AgreementMarketing__pc\n",
       ":   0Account__r.BillingCity\n",
       ":   7174Account__r.BillingPostalCode\n",
       ":   31Account__r.Gender__pc\n",
       ":   3Account__r.PersonBirthdate\n",
       ":   0Account__r.PhoneHLRStatus__pc\n",
       ":   5Account__r.PhoneNATStatus__pc\n",
       ":   8Account__r.Salutation\n",
       ":   6CarEngineCapacity__c\n",
       ":   0CarFuelType__c\n",
       ":   6CarYear__c\n",
       ":   0Mpc__c\n",
       ":   23PolicyStartDate__c\n",
       ":   0ProductScope__c\n",
       ":   4Source__c\n",
       ":   18WentToPartner__c\n",
       ":   0dont_have_this_car__c\n",
       ":   0TelehubStatus__c\n",
       ":   21Sale.success\n",
       ":   0\n",
       "\n"
      ],
      "text/plain": [
       "                      LastCall__c                     etx_make_name \n",
       "                                0                                69 \n",
       "                   etx_model_name                     etx_fuel_code \n",
       "                              729                                 6 \n",
       "                  production_year                  protection_scope \n",
       "                                0                                 3 \n",
       "                             kind                     use_frequency \n",
       "                                3                                 3 \n",
       "         child_carriage_frequency                           mileage \n",
       "                                4                                 0 \n",
       "                   yearly_mileage                       used_abroad \n",
       "                                0                                 0 \n",
       "              night_parking_place   night_parking_place_postal_code \n",
       "                                7                                31 \n",
       "                day_parking_place     day_parking_place_postal_code \n",
       "                                7                                31 \n",
       "    theft_protection_installation         theft_protection_device_1 \n",
       "                                5                                 5 \n",
       "        theft_protection_device_2                            origin \n",
       "                                6                                 5 \n",
       "                         buy_year                 registration_date \n",
       "                                0                                 0 \n",
       "                        car_worth           main_driver_postal_code \n",
       "                                0                                31 \n",
       "                  main_driver_age                main_driver_gender \n",
       "                                0                                 3 \n",
       "                     phone_exists                              step \n",
       "                                3                                 0 \n",
       "                 oc_offer_min_val                     ac_offers_qty \n",
       "                                0                                 0 \n",
       "                   b2c_leads_sent                     offer_last_at \n",
       "                                0                                 0 \n",
       "                offer_first_after                  offer_last_after \n",
       "                                0                                 0 \n",
       "              phone_lookup_status                      utm_campaign \n",
       "                                0                               102 \n",
       "                      utm_content                        utm_medium \n",
       "                              286                                48 \n",
       "                       utm_source                  went_to_partners \n",
       "                               79                                 0 \n",
       "            Acc_PhoneHLRStatus__c          Account__r.AccountSource \n",
       "                                5                                22 \n",
       "Account__r.AgreementMarketing__pc            Account__r.BillingCity \n",
       "                                0                              7174 \n",
       "     Account__r.BillingPostalCode             Account__r.Gender__pc \n",
       "                               31                                 3 \n",
       "       Account__r.PersonBirthdate     Account__r.PhoneHLRStatus__pc \n",
       "                                0                                 5 \n",
       "    Account__r.PhoneNATStatus__pc             Account__r.Salutation \n",
       "                                8                                 6 \n",
       "             CarEngineCapacity__c                    CarFuelType__c \n",
       "                                0                                 6 \n",
       "                       CarYear__c                            Mpc__c \n",
       "                                0                                23 \n",
       "               PolicyStartDate__c                   ProductScope__c \n",
       "                                0                                 4 \n",
       "                        Source__c                  WentToPartner__c \n",
       "                               18                                 0 \n",
       "            dont_have_this_car__c                  TelehubStatus__c \n",
       "                                0                                21 \n",
       "                     Sale.success \n",
       "                                0 "
      ]
     },
     "metadata": {},
     "output_type": "display_data"
    }
   ],
   "source": [
    "sapply(train4,function(l)length(levels(l)))"
   ]
  },
  {
   "cell_type": "code",
   "execution_count": 447,
   "metadata": {
    "collapsed": true
   },
   "outputs": [],
   "source": [
    "#upraszczanie factorów Mpc__c"
   ]
  },
  {
   "cell_type": "code",
   "execution_count": 448,
   "metadata": {
    "collapsed": true,
    "scrolled": true
   },
   "outputs": [],
   "source": [
    "train4l = train4"
   ]
  },
  {
   "cell_type": "code",
   "execution_count": 449,
   "metadata": {
    "collapsed": true
   },
   "outputs": [],
   "source": [
    "train4l$Mpc__c = as.factor(tolower(train4l$Mpc__c))\n",
    "train4l$Mpc__c = addNA(train4l$Mpc__c)"
   ]
  },
  {
   "cell_type": "code",
   "execution_count": 450,
   "metadata": {
    "collapsed": true
   },
   "outputs": [],
   "source": [
    "utm_campaign = sapply(train4$utm_campaign, function(u){\n",
    "    u = tolower(as.character(u))\n",
    "    if (is.na(u)){NA}else if \n",
    "        (regexpr('mailing',u,ignore.case=T)>0) {\"mailing\"} else if \n",
    "        (regexpr('kalkulator',u,ignore.case=T)>0){\"kalkulator\"} else if \n",
    "        (regexpr('baner',u,ignore.case=T)>0){\"baner\"}  else if \n",
    "        (regexpr('sprzedany',u,ignore.case=T)>0){\"sprzedany\"} else\n",
    "            {u}\n",
    "})\n",
    "\n",
    "utm_campaign = as.factor(utm_campaign)\n",
    "utm_campaign = addNA(utm_campaign)\n",
    "train4l$utm_campaign = utm_campaign"
   ]
  },
  {
   "cell_type": "code",
   "execution_count": 451,
   "metadata": {
    "collapsed": true
   },
   "outputs": [],
   "source": [
    "utm_content = sapply(train4$utm_content, function(u){\n",
    "    u = tolower(as.character(u))\n",
    "    if (is.na(u)){NA}else if \n",
    "        (regexpr('OC',u,ignore.case=T)>0) {\"OC\"} else if \n",
    "        (regexpr('button',u,ignore.case=T)>0){\"button\"} else\n",
    "            {u}\n",
    "})\n",
    "\n",
    "utm_content = as.factor(utm_content)\n",
    "utm_content = addNA(utm_content)\n",
    "train4l$utm_content = utm_content"
   ]
  },
  {
   "cell_type": "code",
   "execution_count": 452,
   "metadata": {
    "collapsed": true
   },
   "outputs": [],
   "source": [
    "utm_medium = sapply(train4$utm_medium, function(u){\n",
    "    u = tolower(as.character(u))\n",
    "    if (is.na(u)){NA}else if \n",
    "        (regexpr('baner',u,ignore.case=T)>0) {\"baner\"} else if \n",
    "        (regexpr('banner',u,ignore.case=T)>0){\"baner\"} else if \n",
    "        (regexpr('link',u,ignore.case=T)>0){\"link\"} else\n",
    "            {u}\n",
    "})\n",
    "\n",
    "utm_medium = as.factor(utm_medium)\n",
    "utm_medium = addNA(utm_medium)\n",
    "train4l$utm_medium = utm_medium"
   ]
  },
  {
   "cell_type": "code",
   "execution_count": 453,
   "metadata": {
    "collapsed": true
   },
   "outputs": [],
   "source": [
    "salutation = sapply(train4$Account__r.Salutation, function(u){\n",
    "    u = tolower(as.character(u))\n",
    "    if (is.na(u)){NA}else if \n",
    "        (regexpr('ms.',u,ignore.case=T)==1) {\"pani\"} else if \n",
    "        (regexpr('mr.',u,ignore.case=T)==1){\"pan\"} else if \n",
    "        (regexpr('brak',u,ignore.case=T)==1){NA} else\n",
    "            {u}\n",
    "})\n",
    "\n",
    "salutation = as.factor(salutation)\n",
    "salutation = addNA(salutation)\n",
    "train4l$Account__r.Salutation = salutation"
   ]
  },
  {
   "cell_type": "code",
   "execution_count": 454,
   "metadata": {
    "collapsed": true
   },
   "outputs": [],
   "source": [
    "utm_source = sapply(train4$utm_source, function(u){\n",
    "    u = tolower(as.character(u))\n",
    "    if (is.na(u)){NA}else if \n",
    "        (regexpr('forum',u,ignore.case=T)>0) {\"forum\"} else if \n",
    "        (regexpr('cc',u,ignore.case=T)>0){\"cc\"}  else\n",
    "            {u}\n",
    "})\n",
    "\n",
    "utm_source = as.factor(utm_source)\n",
    "utm_source = addNA(utm_source)\n",
    "train4l$utm_source = utm_source"
   ]
  },
  {
   "cell_type": "code",
   "execution_count": 455,
   "metadata": {
    "collapsed": true
   },
   "outputs": [],
   "source": [
    "mdtrain4l = sparse.model.matrix(Sale.success~.,train4l)"
   ]
  },
  {
   "cell_type": "code",
   "execution_count": 456,
   "metadata": {},
   "outputs": [
    {
     "data": {
      "text/html": [
       "<ol class=list-inline>\n",
       "\t<li>93646</li>\n",
       "\t<li>8463</li>\n",
       "</ol>\n"
      ],
      "text/latex": [
       "\\begin{enumerate*}\n",
       "\\item 93646\n",
       "\\item 8463\n",
       "\\end{enumerate*}\n"
      ],
      "text/markdown": [
       "1. 93646\n",
       "2. 8463\n",
       "\n",
       "\n"
      ],
      "text/plain": [
       "[1] 93646  8463"
      ]
     },
     "metadata": {},
     "output_type": "display_data"
    },
    {
     "data": {
      "text/html": [
       "<ol class=list-inline>\n",
       "\t<li>93646</li>\n",
       "\t<li>8783</li>\n",
       "</ol>\n"
      ],
      "text/latex": [
       "\\begin{enumerate*}\n",
       "\\item 93646\n",
       "\\item 8783\n",
       "\\end{enumerate*}\n"
      ],
      "text/markdown": [
       "1. 93646\n",
       "2. 8783\n",
       "\n",
       "\n"
      ],
      "text/plain": [
       "[1] 93646  8783"
      ]
     },
     "metadata": {},
     "output_type": "display_data"
    }
   ],
   "source": [
    "dim(mdtrain4l)\n",
    "dim(mdtrain4)"
   ]
  },
  {
   "cell_type": "markdown",
   "metadata": {},
   "source": [
    "### Podejście 5 - lowfactors+modified (ozn train4ml)"
   ]
  },
  {
   "cell_type": "code",
   "execution_count": 457,
   "metadata": {
    "collapsed": true
   },
   "outputs": [],
   "source": [
    "train4ml = train4l\n",
    "train4ml$contactDifference=train4m$contactDifference\n",
    "train4ml$timeWaiting=train4m$timeWaiting\n",
    "train4ml$hurryTime=train4m$hurryTime\n",
    "train4ml$formFillingTime = train4m$formFillingTime\n",
    "train4ml$is_damaged = as.factor(train$is_damaged)\n",
    "mdtrain4ml = sparse.model.matrix(Sale.success~.,train4ml)"
   ]
  },
  {
   "cell_type": "markdown",
   "metadata": {},
   "source": [
    "### Podejście 6 - dodanie informacji o OC/AC (ozn train4eml)"
   ]
  },
  {
   "cell_type": "markdown",
   "metadata": {},
   "source": [
    "Obecnie najlepsze"
   ]
  },
  {
   "cell_type": "code",
   "execution_count": 458,
   "metadata": {
    "collapsed": true
   },
   "outputs": [],
   "source": [
    "train4eml = train4ml"
   ]
  },
  {
   "cell_type": "code",
   "execution_count": 459,
   "metadata": {},
   "outputs": [],
   "source": [
    "train4eml$oc_offer_min_val = train$oc_offer_min_val\n",
    "train4eml$ac_offer_min_val = train$ac_offer_min_val\n",
    "train4eml$oc_offers_qty = train$oc_offers_qty\n",
    "train4eml$oc_offers_qty[is.na(train4eml$oc_offers_qty)] = 0\n",
    "train4eml$ac_offers_qty = train$ac_offers_qty\n",
    "train4eml$ac_offers_qty[is.na(train4eml$ac_offers_qty)] = 0\n",
    "\n",
    "train4eml$ocacqty = train4eml$oc_offers_qty + train4eml$ac_offers_qty\n",
    "train4eml$ocacminval = train4eml$oc_offer_min_val + train4eml$ac_offer_min_val\n",
    "train4eml$ocacratio = (train$oc_offer_min_val) / (train$ac_offer_min_val)\n",
    "train4eml$ocacratio[train4eml$ac_offer_min_val==0] = 0"
   ]
  },
  {
   "cell_type": "code",
   "execution_count": 460,
   "metadata": {},
   "outputs": [
    {
     "data": {
      "text/html": [
       "FALSE"
      ],
      "text/latex": [
       "FALSE"
      ],
      "text/markdown": [
       "FALSE"
      ],
      "text/plain": [
       "[1] FALSE"
      ]
     },
     "metadata": {},
     "output_type": "display_data"
    },
    {
     "data": {
      "text/html": [
       "FALSE"
      ],
      "text/latex": [
       "FALSE"
      ],
      "text/markdown": [
       "FALSE"
      ],
      "text/plain": [
       "[1] FALSE"
      ]
     },
     "metadata": {},
     "output_type": "display_data"
    },
    {
     "data": {
      "text/html": [
       "FALSE"
      ],
      "text/latex": [
       "FALSE"
      ],
      "text/markdown": [
       "FALSE"
      ],
      "text/plain": [
       "[1] FALSE"
      ]
     },
     "metadata": {},
     "output_type": "display_data"
    },
    {
     "data": {
      "text/html": [
       "FALSE"
      ],
      "text/latex": [
       "FALSE"
      ],
      "text/markdown": [
       "FALSE"
      ],
      "text/plain": [
       "[1] FALSE"
      ]
     },
     "metadata": {},
     "output_type": "display_data"
    },
    {
     "data": {
      "text/html": [
       "FALSE"
      ],
      "text/latex": [
       "FALSE"
      ],
      "text/markdown": [
       "FALSE"
      ],
      "text/plain": [
       "[1] FALSE"
      ]
     },
     "metadata": {},
     "output_type": "display_data"
    },
    {
     "data": {
      "text/html": [
       "FALSE"
      ],
      "text/latex": [
       "FALSE"
      ],
      "text/markdown": [
       "FALSE"
      ],
      "text/plain": [
       "[1] FALSE"
      ]
     },
     "metadata": {},
     "output_type": "display_data"
    },
    {
     "data": {
      "text/html": [
       "FALSE"
      ],
      "text/latex": [
       "FALSE"
      ],
      "text/markdown": [
       "FALSE"
      ],
      "text/plain": [
       "[1] FALSE"
      ]
     },
     "metadata": {},
     "output_type": "display_data"
    }
   ],
   "source": [
    "any(is.na(train4eml$oc_offer_min_val))\n",
    "any(is.na(train4eml$ac_offer_min_val))\n",
    "any(is.na(train4eml$oc_offers_qty))\n",
    "any(is.na(train4eml$ac_offers_qty))\n",
    "any(is.na(train4eml$ocacqty))\n",
    "any(is.na(train4eml$ocacminval))\n",
    "any(is.na(train4eml$ocacratio))"
   ]
  },
  {
   "cell_type": "code",
   "execution_count": 461,
   "metadata": {
    "collapsed": true
   },
   "outputs": [],
   "source": [
    "mdtrain4eml = sparse.model.matrix(Sale.success~.,train4eml)"
   ]
  },
  {
   "cell_type": "code",
   "execution_count": 462,
   "metadata": {},
   "outputs": [
    {
     "data": {
      "text/html": [
       "<ol class=list-inline>\n",
       "\t<li>93646</li>\n",
       "\t<li>8473</li>\n",
       "</ol>\n"
      ],
      "text/latex": [
       "\\begin{enumerate*}\n",
       "\\item 93646\n",
       "\\item 8473\n",
       "\\end{enumerate*}\n"
      ],
      "text/markdown": [
       "1. 93646\n",
       "2. 8473\n",
       "\n",
       "\n"
      ],
      "text/plain": [
       "[1] 93646  8473"
      ]
     },
     "metadata": {},
     "output_type": "display_data"
    },
    {
     "data": {
      "text/html": [
       "<ol class=list-inline>\n",
       "\t<li>93646</li>\n",
       "\t<li>8468</li>\n",
       "</ol>\n"
      ],
      "text/latex": [
       "\\begin{enumerate*}\n",
       "\\item 93646\n",
       "\\item 8468\n",
       "\\end{enumerate*}\n"
      ],
      "text/markdown": [
       "1. 93646\n",
       "2. 8468\n",
       "\n",
       "\n"
      ],
      "text/plain": [
       "[1] 93646  8468"
      ]
     },
     "metadata": {},
     "output_type": "display_data"
    }
   ],
   "source": [
    "dim(mdtrain4eml)\n",
    "dim(mdtrain4ml)"
   ]
  },
  {
   "cell_type": "markdown",
   "metadata": {},
   "source": [
    "# Funkcje do oceny modeli (ROC, AUC)"
   ]
  },
  {
   "cell_type": "code",
   "execution_count": 463,
   "metadata": {},
   "outputs": [],
   "source": [
    "if (!require('pROC')){\n",
    "    install.packages('pROC')\n",
    "}\n",
    "library('pROC')"
   ]
  },
  {
   "cell_type": "code",
   "execution_count": 464,
   "metadata": {
    "collapsed": true
   },
   "outputs": [],
   "source": [
    "#lib\n",
    "#funkcje do rysowania ROC\n",
    "\n",
    "tpr = function(t=0.5,pred,ty){\n",
    "  predh = as.integer(pred>t)\n",
    "  sum(predh[which(ty==1)])/sum(ty)\n",
    "}\n",
    "\n",
    "fpr = function(t=0.5,pred,ty){\n",
    "  predh = as.integer(pred>t)\n",
    "  sum(predh[-which(ty==1)])/(length(ty)-sum(ty))\n",
    "}\n",
    "\n",
    "#funkcja\n",
    "drawROC = function(pred,ty,title=\"ROC\"){\n",
    "    if (is.factor(ty)){ty = as.integer(ty)} \n",
    "    t = seq(0.001,0.999,0.001)\n",
    "    ty = ty[!is.na(pred)]\n",
    "    pred = pred[!is.na(pred)]\n",
    "    dx = sapply(t, function(tt){\n",
    "    fpr(t=tt,pred,ty)\n",
    "    })\n",
    "    dy = sapply(t, function(tt){\n",
    "    tpr(t=tt,pred,ty)\n",
    "    })\n",
    "    plot(dx,dy,xlim=c(0,1),ylim=c(0,1),type=\"l\",col=1,xaxs=\"i\",yaxs=\"i\")\n",
    "    title(main=title)\n",
    "    abline(0,1,col=2)\n",
    "}\n",
    "\n",
    "ROCcoords = function(pred,ty,title=\"ROC\"){\n",
    "    if (is.factor(ty)){ty = as.integer(ty)} \n",
    "    t = seq(0.0001,0.9999,0.0001)\n",
    "\n",
    "    dx = sapply(t, function(tt){\n",
    "    fpr(t=tt,pred,ty)\n",
    "    })\n",
    "    dy = sapply(t, function(tt){\n",
    "    tpr(t=tt,pred,ty)\n",
    "    })\n",
    "    return (data.frame(dx,dy))\n",
    "}\n",
    "\n",
    "library(pROC)\n",
    "#usage - pROC::auc(test_y,pred)\n",
    "\n",
    "#funkcje do lift\n",
    "drawLIFT = function(pred,ty,title=\"LIFT\"){\n",
    "    if (is.factor(ty)){ty = as.integer(ty)} \n",
    "    t = 1:100\n",
    "    sort_pred = order(pred,decreasing=T)\n",
    "    n = length(pred)\n",
    "    \n",
    "    dx = 1:100\n",
    "\n",
    "    dy = sapply(dx, function(x){\n",
    "        m = as.integer((n*x)/100)\n",
    "        if (m==0){\n",
    "            NA\n",
    "        }else{\n",
    "            dct = sum(ty[head(sort_pred,m)])/sum(ty)\n",
    "            dct/(x/100)\n",
    "        }\n",
    "    })\n",
    "    \n",
    "    dx = dx[!is.na(dy)]\n",
    "    dy = dy[!is.na(dy)]\n",
    "\n",
    "    plot(dx,dy,xlim=c(0,100),type=\"l\",col=1,xaxs=\"i\",yaxs=\"i\")\n",
    "    title(main=title)\n",
    "    abline(1,0,col=2)\n",
    "}\n",
    "\n",
    "getLIFTS = function(pred,ty){\n",
    "    if (is.factor(ty)){ty = as.integer(ty)} \n",
    "    t = 1:100\n",
    "    sort_pred = order(pred,decreasing=T)\n",
    "    n = length(pred)\n",
    "    \n",
    "    dx = c(5,10)\n",
    "\n",
    "    dy = sapply(dx, function(x){\n",
    "        m = as.integer((n*x)/100)\n",
    "        if (m==0){\n",
    "            NA\n",
    "        }else{\n",
    "            dct = sum(ty[head(sort_pred,m)])/sum(ty)\n",
    "            dct/(x/100)\n",
    "        }\n",
    "    })\n",
    "    \n",
    "    return(data.frame(lift5=dy[1],lift10=dy[2]))\n",
    "}\n",
    "\n",
    "LIFTcoords = function(pred,ty){\n",
    "    if (is.factor(ty)){ty = as.integer(ty)} \n",
    "    t = 1:100\n",
    "    sort_pred = order(pred,decreasing=T)\n",
    "    n = length(pred)\n",
    "    \n",
    "    dx = 1:100\n",
    "\n",
    "    dy = sapply(dx, function(x){\n",
    "        m = as.integer((n*x)/100)\n",
    "        if (m==0){\n",
    "            NA\n",
    "        }else{\n",
    "            dct = sum(ty[head(sort_pred,m)])/sum(ty)\n",
    "            dct/(x/100)\n",
    "        }\n",
    "    })\n",
    "    \n",
    "    dx = dx[!is.na(dy)]\n",
    "    dy = dy[!is.na(dy)]\n",
    "    return (data.frame(dx,dy))\n",
    "}"
   ]
  },
  {
   "cell_type": "code",
   "execution_count": 465,
   "metadata": {
    "collapsed": true
   },
   "outputs": [],
   "source": [
    "#hiperparametry\n",
    "\n",
    "xgboosthiper = function (datax,datay,predictors=40,obj='binary:logistic'){\n",
    "    \n",
    "    n = nrow(datax)\n",
    "    trx = datax\n",
    "    try = datay\n",
    "\n",
    "    xgsf = xgb.DMatrix(trx,label=try)\n",
    "\n",
    "    #selekcja zmiennych ('predictors' most important)\n",
    "    xg1=  xgboost(xgsf, nrounds=100, objective = obj,verbose=0)\n",
    "    imp = xgb.importance(colnames(trx),xg1)\n",
    "    sec = head(imp$Feature,predictors)\n",
    "    inds = sapply(sec,function(sc)which(colnames(trx)==sc))\n",
    "    ptrx = trx[,inds]\n",
    "\n",
    "    #optymalizacja hiperparametrow\n",
    "    sa = sample(1:nrow(ptrx),n/5,replace=F)\n",
    "    optrx = as.matrix(ptrx[sa,])\n",
    "\n",
    "    xgFitControl = trainControl (method=\"cv\",number = 4) #4fold\n",
    "    xgxo = optrx\n",
    "    xgyo = as.factor(try[sa])\n",
    "    xgModel = train(xgxo,xgyo,method = \"xgbTree\",trControl = xgFitControl)\n",
    "\n",
    "    return (xgModel$bestTune)\n",
    "}"
   ]
  },
  {
   "cell_type": "code",
   "execution_count": 482,
   "metadata": {
    "collapsed": true
   },
   "outputs": [],
   "source": [
    "#kombajn działający dla fold, dokonujący selekcji zmiennych na każdym foldzie i optymalizujący hiperparametry\n",
    "#zwraca uśrednione AUC, LIFT5 i LIFT10\n",
    "\n",
    "xgboostmeasure = function (datax,datay,k=10, rk=5, obj= 'binary:logistic',predictors=40){\n",
    "    retdf = data.frame(AUC=rep(0,k),LIFT5=rep(0,k),LIFT10=rep(0,k))\n",
    "    set.seed(997)   \n",
    "    tune = list(nrounds=50,max_depth=1,eta=0.3,gamma=0,colsample_bytree=0.8,min_child_weight=1,subsample=0.75)\n",
    "      \n",
    "    xgsf = xgb.DMatrix(datax,label=datay)\n",
    "\n",
    "    #selekcja zmiennych ('predictors' most important)\n",
    "    xg1=  xgboost(xgsf, nrounds=100, objective = obj,verbose=0)\n",
    "    imp = xgb.importance(colnames(datax),xg1)\n",
    "    sec = head(imp$Feature,predictors)\n",
    "    inds = sapply(sec,function(sc)which(colnames(datax)==sc))\n",
    "    pdatax = datax[,inds]    \n",
    "        \n",
    "    set.seed(997)\n",
    "        \n",
    "    for (j in 1:rk){\n",
    "        sequence = sample(1:nrow(datax),nrow(datax),replace=F)\n",
    "        for (i in 1:k){\n",
    "            n = nrow(datax)\n",
    "            nf = as.integer(nrow(datax)/k)\n",
    "            tf = ((i-1)*nf+1):(i*nf) #indeksy zb. testowego\n",
    "\n",
    "            trx = pdatax[sequence[-tf],]\n",
    "            try = datay[sequence[-tf]]\n",
    "            tsx = pdatax[sequence[tf],]\n",
    "            tsy = datay[sequence[tf]]\n",
    "\n",
    "\n",
    "            #trenowanie modelu\n",
    "            rtrx = xgb.DMatrix(trx,label=try)\n",
    "            model =  xgboost(params= tune, data = rtrx, nrounds=tune$nrounds, \n",
    "                             objective = obj,verbose=0)\n",
    "\n",
    "            #predykcja\n",
    "            rtsx = xgb.DMatrix(tsx)\n",
    "            predy = predict(model,rtsx,type=\"response\")\n",
    "\n",
    "            rauc = pROC::auc(tsy,predy)\n",
    "            retdf[i,1] = rauc\n",
    "            lifts = getLIFTS(predy,tsy)\n",
    "            retdf[i,2] = lifts$lift5\n",
    "            retdf[i,3] = lifts$lift10\n",
    "            print(paste0(\"Arrange nr \",j,\" Fold nr \",i,\", AUC ROC= \",rauc,\", LIFT5= \",lifts$lift5,\", LIFT10= \",lifts$lift10))\n",
    "        }\n",
    "    }\n",
    "    return (retdf)\n",
    "}"
   ]
  },
  {
   "cell_type": "code",
   "execution_count": 468,
   "metadata": {
    "collapsed": true
   },
   "outputs": [],
   "source": [
    "#coś co pozwoli zrobić dummies wszędzie\n",
    "library(Matrix)\n",
    "library(xgboost)\n",
    "mdtrain4 = sparse.model.matrix(Sale.success~.,train4)\n",
    "trainy = train4$Sale.success"
   ]
  },
  {
   "cell_type": "markdown",
   "metadata": {},
   "source": [
    "## XGBoost"
   ]
  },
  {
   "cell_type": "code",
   "execution_count": 469,
   "metadata": {},
   "outputs": [],
   "source": [
    "library(xgboost)\n",
    "library(caret)\n",
    "library(glmnet)"
   ]
  },
  {
   "cell_type": "code",
   "execution_count": 470,
   "metadata": {
    "collapsed": true
   },
   "outputs": [],
   "source": [
    "#benchmark, model 1"
   ]
  },
  {
   "cell_type": "code",
   "execution_count": 483,
   "metadata": {
    "scrolled": true
   },
   "outputs": [
    {
     "name": "stdout",
     "output_type": "stream",
     "text": [
      "[1] \"Arrange nr 1 Fold nr 1, AUC ROC= 0.842540977707232, LIFT5= 5.58441558441558, LIFT10= 5.08658008658009\"\n",
      "[1] \"Arrange nr 1 Fold nr 2, AUC ROC= 0.841130617977528, LIFT5= 5.21551724137931, LIFT10= 4.56896551724138\"\n",
      "[1] \"Arrange nr 1 Fold nr 3, AUC ROC= 0.835087447372367, LIFT5= 5.18201284796574, LIFT10= 4.68950749464668\"\n",
      "[1] \"Arrange nr 1 Fold nr 4, AUC ROC= 0.855178815630352, LIFT5= 5.88486140724947, LIFT10= 5.01066098081023\"\n",
      "[1] \"Arrange nr 1 Fold nr 5, AUC ROC= 0.847129504068191, LIFT5= 5.73275862068965, LIFT10= 4.80603448275862\"\n",
      "[1] \"Arrange nr 1 Fold nr 6, AUC ROC= 0.82674175710518, LIFT5= 5.12295081967213, LIFT10= 4.36475409836066\"\n",
      "[1] \"Arrange nr 1 Fold nr 7, AUC ROC= 0.851392450600637, LIFT5= 5.83518930957684, LIFT10= 4.87750556792873\"\n",
      "[1] \"Arrange nr 1 Fold nr 8, AUC ROC= 0.850285906491759, LIFT5= 5.52808988764045, LIFT10= 4.65168539325843\"\n",
      "[1] \"Arrange nr 1 Fold nr 9, AUC ROC= 0.843715378085455, LIFT5= 5.41176470588235, LIFT10= 4.44705882352941\"\n",
      "[1] \"Arrange nr 1 Fold nr 10, AUC ROC= 0.845920828019122, LIFT5= 5.63106796116505, LIFT10= 5.04854368932039\"\n",
      "[1] \"Arrange nr 2 Fold nr 1, AUC ROC= 0.849199309543342, LIFT5= 5.91304347826087, LIFT10= 5.15217391304348\"\n",
      "[1] \"Arrange nr 2 Fold nr 2, AUC ROC= 0.826976472790127, LIFT5= 5.40305010893246, LIFT10= 4.50980392156863\"\n",
      "[1] \"Arrange nr 2 Fold nr 3, AUC ROC= 0.840117391012748, LIFT5= 5.33916849015317, LIFT10= 4.61706783369803\"\n",
      "[1] \"Arrange nr 2 Fold nr 4, AUC ROC= 0.854274355633661, LIFT5= 5.22522522522523, LIFT10= 4.68468468468468\"\n",
      "[1] \"Arrange nr 2 Fold nr 5, AUC ROC= 0.850224815792296, LIFT5= 5.58139534883721, LIFT10= 4.65116279069767\"\n",
      "[1] \"Arrange nr 2 Fold nr 6, AUC ROC= 0.843118224870563, LIFT5= 4.5929018789144, LIFT10= 4.57202505219207\"\n",
      "[1] \"Arrange nr 2 Fold nr 7, AUC ROC= 0.837755410544538, LIFT5= 5.93607305936073, LIFT10= 4.72602739726027\"\n",
      "[1] \"Arrange nr 2 Fold nr 8, AUC ROC= 0.837920918297858, LIFT5= 6.24390243902439, LIFT10= 5\"\n",
      "[1] \"Arrange nr 2 Fold nr 9, AUC ROC= 0.839891766722714, LIFT5= 5.42299349240781, LIFT10= 4.57700650759219\"\n",
      "[1] \"Arrange nr 2 Fold nr 10, AUC ROC= 0.860697525184037, LIFT5= 6.29310344827586, LIFT10= 5\"\n",
      "[1] \"Arrange nr 3 Fold nr 1, AUC ROC= 0.836493618677412, LIFT5= 5.40084388185654, LIFT10= 4.93670886075949\"\n",
      "[1] \"Arrange nr 3 Fold nr 2, AUC ROC= 0.845408678102926, LIFT5= 5.79775280898876, LIFT10= 4.96629213483146\"\n",
      "[1] \"Arrange nr 3 Fold nr 3, AUC ROC= 0.838246255104118, LIFT5= 5.34246575342466, LIFT10= 4.58904109589041\"\n",
      "[1] \"Arrange nr 3 Fold nr 4, AUC ROC= 0.840418776865521, LIFT5= 5.5578093306288, LIFT10= 4.5841784989858\"\n",
      "[1] \"Arrange nr 3 Fold nr 5, AUC ROC= 0.854710819636737, LIFT5= 5.60386473429952, LIFT10= 4.78260869565217\"\n",
      "[1] \"Arrange nr 3 Fold nr 6, AUC ROC= 0.849894657332457, LIFT5= 5.40772532188841, LIFT10= 4.52789699570815\"\n",
      "[1] \"Arrange nr 3 Fold nr 7, AUC ROC= 0.854304635761589, LIFT5= 5.60706401766004, LIFT10= 4.70198675496689\"\n",
      "[1] \"Arrange nr 3 Fold nr 8, AUC ROC= 0.829662599442355, LIFT5= 5.01204819277108, LIFT10= 4.69879518072289\"\n",
      "[1] \"Arrange nr 3 Fold nr 9, AUC ROC= 0.836398804151625, LIFT5= 5.36, LIFT10= 4.56\"\n",
      "[1] \"Arrange nr 3 Fold nr 10, AUC ROC= 0.852884631547362, LIFT5= 5.72706935123042, LIFT10= 5.12304250559284\"\n",
      "[1] \"Arrange nr 4 Fold nr 1, AUC ROC= 0.848148001958755, LIFT5= 6.06593406593406, LIFT10= 4.94505494505495\"\n",
      "[1] \"Arrange nr 4 Fold nr 2, AUC ROC= 0.83772874171935, LIFT5= 5.05543237250554, LIFT10= 4.52328159645233\"\n",
      "[1] \"Arrange nr 4 Fold nr 3, AUC ROC= 0.84864919343855, LIFT5= 5.90243902439024, LIFT10= 5\"\n",
      "[1] \"Arrange nr 4 Fold nr 4, AUC ROC= 0.848372914352563, LIFT5= 5.78947368421053, LIFT10= 4.93421052631579\"\n",
      "[1] \"Arrange nr 4 Fold nr 5, AUC ROC= 0.84119628574914, LIFT5= 5.42372881355932, LIFT10= 4.57627118644068\"\n",
      "[1] \"Arrange nr 4 Fold nr 6, AUC ROC= 0.845561479331678, LIFT5= 5.21384928716904, LIFT10= 4.5213849287169\"\n",
      "[1] \"Arrange nr 4 Fold nr 7, AUC ROC= 0.824619535600835, LIFT5= 4.98924731182796, LIFT10= 4.47311827956989\"\n",
      "[1] \"Arrange nr 4 Fold nr 8, AUC ROC= 0.83670780577706, LIFT5= 5.08083140877598, LIFT10= 4.59584295612009\"\n",
      "[1] \"Arrange nr 4 Fold nr 9, AUC ROC= 0.843904257857244, LIFT5= 5.70155902004454, LIFT10= 4.65478841870824\"\n",
      "[1] \"Arrange nr 4 Fold nr 10, AUC ROC= 0.857103807832886, LIFT5= 5.61555075593952, LIFT10= 5.11879049676026\"\n",
      "[1] \"Arrange nr 5 Fold nr 1, AUC ROC= 0.837939023780975, LIFT5= 5.94017094017094, LIFT10= 4.7008547008547\"\n",
      "[1] \"Arrange nr 5 Fold nr 2, AUC ROC= 0.84010874873252, LIFT5= 5.56745182012848, LIFT10= 4.73233404710921\"\n",
      "[1] \"Arrange nr 5 Fold nr 3, AUC ROC= 0.851766306857561, LIFT5= 5.4627539503386, LIFT10= 4.87584650112867\"\n",
      "[1] \"Arrange nr 5 Fold nr 4, AUC ROC= 0.837572176624688, LIFT5= 4.91071428571429, LIFT10= 4.53125\"\n",
      "[1] \"Arrange nr 5 Fold nr 5, AUC ROC= 0.840752654737871, LIFT5= 5.3125, LIFT10= 4.64285714285714\"\n",
      "[1] \"Arrange nr 5 Fold nr 6, AUC ROC= 0.846929689113614, LIFT5= 5.70796460176991, LIFT10= 4.75663716814159\"\n",
      "[1] \"Arrange nr 5 Fold nr 7, AUC ROC= 0.840482456328875, LIFT5= 5.67307692307692, LIFT10= 5.04807692307692\"\n",
      "[1] \"Arrange nr 5 Fold nr 8, AUC ROC= 0.838256150922531, LIFT5= 5.2723311546841, LIFT10= 4.4880174291939\"\n",
      "[1] \"Arrange nr 5 Fold nr 9, AUC ROC= 0.853356395909587, LIFT5= 5.77962577962578, LIFT10= 4.76091476091476\"\n",
      "[1] \"Arrange nr 5 Fold nr 10, AUC ROC= 0.847524594392408, LIFT5= 5.78833693304536, LIFT10= 4.9244060475162\"\n"
     ]
    }
   ],
   "source": [
    "xg4scores = xgboostmeasure(datax=mdtrain4,datay=trainy)"
   ]
  },
  {
   "cell_type": "code",
   "execution_count": 484,
   "metadata": {
    "scrolled": true
   },
   "outputs": [
    {
     "name": "stdout",
     "output_type": "stream",
     "text": [
      "[1] \"Arrange nr 1 Fold nr 1, AUC ROC= 0.841821260069968, LIFT5= 5.58441558441558, LIFT10= 5.04329004329004\"\n",
      "[1] \"Arrange nr 1 Fold nr 2, AUC ROC= 0.840239248353351, LIFT5= 5.12931034482759, LIFT10= 4.61206896551724\"\n",
      "[1] \"Arrange nr 1 Fold nr 3, AUC ROC= 0.83632827175823, LIFT5= 5.18201284796574, LIFT10= 4.68950749464668\"\n",
      "[1] \"Arrange nr 1 Fold nr 4, AUC ROC= 0.853644209691125, LIFT5= 6.05543710021322, LIFT10= 5.09594882729211\"\n",
      "[1] \"Arrange nr 1 Fold nr 5, AUC ROC= 0.846304484695854, LIFT5= 5.81896551724138, LIFT10= 4.67672413793103\"\n",
      "[1] \"Arrange nr 1 Fold nr 6, AUC ROC= 0.825037377455507, LIFT5= 5.12295081967213, LIFT10= 4.38524590163934\"\n",
      "[1] \"Arrange nr 1 Fold nr 7, AUC ROC= 0.852846295188285, LIFT5= 5.87973273942093, LIFT10= 4.92204899777283\"\n",
      "[1] \"Arrange nr 1 Fold nr 8, AUC ROC= 0.84867200560349, LIFT5= 5.43820224719101, LIFT10= 4.71910112359551\"\n",
      "[1] \"Arrange nr 1 Fold nr 9, AUC ROC= 0.843984917381205, LIFT5= 5.41176470588235, LIFT10= 4.42352941176471\"\n",
      "[1] \"Arrange nr 1 Fold nr 10, AUC ROC= 0.844128501956497, LIFT5= 5.67961165048544, LIFT10= 5\"\n",
      "[1] \"Arrange nr 2 Fold nr 1, AUC ROC= 0.847154551935623, LIFT5= 5.8695652173913, LIFT10= 5.04347826086956\"\n",
      "[1] \"Arrange nr 2 Fold nr 2, AUC ROC= 0.826994454903429, LIFT5= 5.35947712418301, LIFT10= 4.50980392156863\"\n",
      "[1] \"Arrange nr 2 Fold nr 3, AUC ROC= 0.839446465900127, LIFT5= 5.38293216630197, LIFT10= 4.57330415754923\"\n",
      "[1] \"Arrange nr 2 Fold nr 4, AUC ROC= 0.853588706419424, LIFT5= 5.40540540540541, LIFT10= 4.68468468468468\"\n",
      "[1] \"Arrange nr 2 Fold nr 5, AUC ROC= 0.849729743097219, LIFT5= 5.66596194503171, LIFT10= 4.6723044397463\"\n",
      "[1] \"Arrange nr 2 Fold nr 6, AUC ROC= 0.843582754824756, LIFT5= 4.50939457202505, LIFT10= 4.57202505219207\"\n",
      "[1] \"Arrange nr 2 Fold nr 7, AUC ROC= 0.836444530728046, LIFT5= 5.98173515981735, LIFT10= 4.63470319634703\"\n",
      "[1] \"Arrange nr 2 Fold nr 8, AUC ROC= 0.837212691425552, LIFT5= 6.19512195121951, LIFT10= 5\"\n",
      "[1] \"Arrange nr 2 Fold nr 9, AUC ROC= 0.838452538482361, LIFT5= 5.42299349240781, LIFT10= 4.53362255965293\"\n",
      "[1] \"Arrange nr 2 Fold nr 10, AUC ROC= 0.857440430065866, LIFT5= 5.94827586206897, LIFT10= 5.06465517241379\"\n",
      "[1] \"Arrange nr 3 Fold nr 1, AUC ROC= 0.835921933808907, LIFT5= 5.61181434599156, LIFT10= 4.83122362869198\"\n",
      "[1] \"Arrange nr 3 Fold nr 2, AUC ROC= 0.842953623812817, LIFT5= 6.02247191011236, LIFT10= 4.85393258426966\"\n",
      "[1] \"Arrange nr 3 Fold nr 3, AUC ROC= 0.835500441478744, LIFT5= 5.34246575342466, LIFT10= 4.61187214611872\"\n",
      "[1] \"Arrange nr 3 Fold nr 4, AUC ROC= 0.839002374123766, LIFT5= 5.5578093306288, LIFT10= 4.62474645030426\"\n",
      "[1] \"Arrange nr 3 Fold nr 5, AUC ROC= 0.853821283027015, LIFT5= 5.60386473429952, LIFT10= 4.78260869565217\"\n",
      "[1] \"Arrange nr 3 Fold nr 6, AUC ROC= 0.849002693376628, LIFT5= 5.10729613733906, LIFT10= 4.57081545064378\"\n",
      "[1] \"Arrange nr 3 Fold nr 7, AUC ROC= 0.853818469272915, LIFT5= 5.73951434878587, LIFT10= 4.81236203090508\"\n",
      "[1] \"Arrange nr 3 Fold nr 8, AUC ROC= 0.828425199288606, LIFT5= 5.01204819277108, LIFT10= 4.60240963855422\"\n",
      "[1] \"Arrange nr 3 Fold nr 9, AUC ROC= 0.834328858303249, LIFT5= 5.28, LIFT10= 4.5\"\n",
      "[1] \"Arrange nr 3 Fold nr 10, AUC ROC= 0.851141235640943, LIFT5= 5.90604026845638, LIFT10= 5.16778523489933\"\n",
      "[1] \"Arrange nr 4 Fold nr 1, AUC ROC= 0.848271842648316, LIFT5= 6.15384615384615, LIFT10= 4.94505494505495\"\n",
      "[1] \"Arrange nr 4 Fold nr 2, AUC ROC= 0.837942933451549, LIFT5= 5.27716186252772, LIFT10= 4.63414634146341\"\n",
      "[1] \"Arrange nr 4 Fold nr 3, AUC ROC= 0.847813077136802, LIFT5= 6.09756097560976, LIFT10= 5.04878048780488\"\n",
      "[1] \"Arrange nr 4 Fold nr 4, AUC ROC= 0.847025687534958, LIFT5= 5.74561403508772, LIFT10= 5.04385964912281\"\n",
      "[1] \"Arrange nr 4 Fold nr 5, AUC ROC= 0.838628275654368, LIFT5= 5.29661016949153, LIFT10= 4.55508474576271\"\n",
      "[1] \"Arrange nr 4 Fold nr 6, AUC ROC= 0.84436801454698, LIFT5= 5.29531568228106, LIFT10= 4.56211812627291\"\n",
      "[1] \"Arrange nr 4 Fold nr 7, AUC ROC= 0.821981206055531, LIFT5= 4.98924731182796, LIFT10= 4.36559139784946\"\n",
      "[1] \"Arrange nr 4 Fold nr 8, AUC ROC= 0.836795209255046, LIFT5= 5.1270207852194, LIFT10= 4.66512702078522\"\n",
      "[1] \"Arrange nr 4 Fold nr 9, AUC ROC= 0.842879484165598, LIFT5= 5.65701559020045, LIFT10= 4.67706013363029\"\n",
      "[1] \"Arrange nr 4 Fold nr 10, AUC ROC= 0.854694536469438, LIFT5= 5.87473002159827, LIFT10= 5.03239740820734\"\n",
      "[1] \"Arrange nr 5 Fold nr 1, AUC ROC= 0.83629214416928, LIFT5= 5.98290598290598, LIFT10= 4.74358974358974\"\n",
      "[1] \"Arrange nr 5 Fold nr 2, AUC ROC= 0.839265286593007, LIFT5= 5.61027837259101, LIFT10= 4.75374732334047\"\n",
      "[1] \"Arrange nr 5 Fold nr 3, AUC ROC= 0.850483413094575, LIFT5= 5.5530474040632, LIFT10= 4.94356659142212\"\n",
      "[1] \"Arrange nr 5 Fold nr 4, AUC ROC= 0.835246527110171, LIFT5= 4.86607142857143, LIFT10= 4.53125\"\n",
      "[1] \"Arrange nr 5 Fold nr 5, AUC ROC= 0.841598720999167, LIFT5= 5.44642857142857, LIFT10= 4.59821428571429\"\n",
      "[1] \"Arrange nr 5 Fold nr 6, AUC ROC= 0.846949176609841, LIFT5= 5.57522123893805, LIFT10= 4.7787610619469\"\n",
      "[1] \"Arrange nr 5 Fold nr 7, AUC ROC= 0.839132509198446, LIFT5= 5.67307692307692, LIFT10= 4.87980769230769\"\n",
      "[1] \"Arrange nr 5 Fold nr 8, AUC ROC= 0.837285361458826, LIFT5= 5.44662309368192, LIFT10= 4.55337690631808\"\n",
      "[1] \"Arrange nr 5 Fold nr 9, AUC ROC= 0.853385768279385, LIFT5= 5.6964656964657, LIFT10= 4.90644490644491\"\n",
      "[1] \"Arrange nr 5 Fold nr 10, AUC ROC= 0.844616920029613, LIFT5= 5.70194384449244, LIFT10= 4.81641468682505\"\n"
     ]
    }
   ],
   "source": [
    "xg4nlscores = xgboostmeasure(datax=mdtrain4nl,datay=trainy)"
   ]
  },
  {
   "cell_type": "code",
   "execution_count": 485,
   "metadata": {
    "scrolled": true
   },
   "outputs": [
    {
     "name": "stdout",
     "output_type": "stream",
     "text": [
      "[1] \"Arrange nr 1 Fold nr 1, AUC ROC= 0.854534002281699, LIFT5= 5.88744588744589, LIFT10= 5.02164502164502\"\n",
      "[1] \"Arrange nr 1 Fold nr 2, AUC ROC= 0.846912533901588, LIFT5= 5.51724137931034, LIFT10= 4.74137931034483\"\n",
      "[1] \"Arrange nr 1 Fold nr 3, AUC ROC= 0.843257682076026, LIFT5= 5.91006423982869, LIFT10= 4.83940042826552\"\n",
      "[1] \"Arrange nr 1 Fold nr 4, AUC ROC= 0.861856221182692, LIFT5= 6.05543710021322, LIFT10= 5.18123667377399\"\n",
      "[1] \"Arrange nr 1 Fold nr 5, AUC ROC= 0.857087611390934, LIFT5= 6.16379310344828, LIFT10= 5.08620689655172\"\n",
      "[1] \"Arrange nr 1 Fold nr 6, AUC ROC= 0.832330252328992, LIFT5= 5.40983606557377, LIFT10= 4.44672131147541\"\n",
      "[1] \"Arrange nr 1 Fold nr 7, AUC ROC= 0.854407063993395, LIFT5= 6.14699331848552, LIFT10= 4.94432071269488\"\n",
      "[1] \"Arrange nr 1 Fold nr 8, AUC ROC= 0.86041514706012, LIFT5= 6.02247191011236, LIFT10= 4.74157303370786\"\n",
      "[1] \"Arrange nr 1 Fold nr 9, AUC ROC= 0.857704309601679, LIFT5= 5.78823529411765, LIFT10= 4.84705882352941\"\n",
      "[1] \"Arrange nr 1 Fold nr 10, AUC ROC= 0.861624592215657, LIFT5= 6.2621359223301, LIFT10= 5.04854368932039\"\n",
      "[1] \"Arrange nr 2 Fold nr 1, AUC ROC= 0.859693738036642, LIFT5= 6.39130434782609, LIFT10= 5.15217391304348\"\n",
      "[1] \"Arrange nr 2 Fold nr 2, AUC ROC= 0.834178248003924, LIFT5= 5.57734204793028, LIFT10= 4.46623093681917\"\n",
      "[1] \"Arrange nr 2 Fold nr 3, AUC ROC= 0.849732796888047, LIFT5= 5.99562363238512, LIFT10= 4.85776805251641\"\n",
      "[1] \"Arrange nr 2 Fold nr 4, AUC ROC= 0.858743384640246, LIFT5= 5.58558558558558, LIFT10= 5.02252252252252\"\n",
      "[1] \"Arrange nr 2 Fold nr 5, AUC ROC= 0.861365972621671, LIFT5= 5.49682875264271, LIFT10= 4.63002114164905\"\n",
      "[1] \"Arrange nr 2 Fold nr 6, AUC ROC= 0.850065614562321, LIFT5= 5.09394572025052, LIFT10= 4.73903966597077\"\n",
      "[1] \"Arrange nr 2 Fold nr 7, AUC ROC= 0.844238830280838, LIFT5= 6.39269406392694, LIFT10= 4.79452054794521\"\n",
      "[1] \"Arrange nr 2 Fold nr 8, AUC ROC= 0.852322030758838, LIFT5= 6.78048780487805, LIFT10= 5.24390243902439\"\n",
      "[1] \"Arrange nr 2 Fold nr 9, AUC ROC= 0.844476124087934, LIFT5= 5.50976138828633, LIFT10= 4.88069414316703\"\n",
      "[1] \"Arrange nr 2 Fold nr 10, AUC ROC= 0.869993825067803, LIFT5= 6.5948275862069, LIFT10= 5.23706896551724\"\n",
      "[1] \"Arrange nr 3 Fold nr 1, AUC ROC= 0.848533173859597, LIFT5= 5.61181434599156, LIFT10= 4.85232067510549\"\n",
      "[1] \"Arrange nr 3 Fold nr 2, AUC ROC= 0.852178092218229, LIFT5= 6.38202247191011, LIFT10= 4.92134831460674\"\n",
      "[1] \"Arrange nr 3 Fold nr 3, AUC ROC= 0.846071504209651, LIFT5= 5.79908675799087, LIFT10= 4.74885844748858\"\n",
      "[1] \"Arrange nr 3 Fold nr 4, AUC ROC= 0.854458530348106, LIFT5= 5.67951318458418, LIFT10= 4.76673427991886\"\n",
      "[1] \"Arrange nr 3 Fold nr 5, AUC ROC= 0.85945523979165, LIFT5= 6.23188405797101, LIFT10= 4.85507246376812\"\n",
      "[1] \"Arrange nr 3 Fold nr 6, AUC ROC= 0.857976595984824, LIFT5= 5.62231759656652, LIFT10= 4.97854077253219\"\n",
      "[1] \"Arrange nr 3 Fold nr 7, AUC ROC= 0.865941417743231, LIFT5= 6.09271523178808, LIFT10= 4.98896247240618\"\n",
      "[1] \"Arrange nr 3 Fold nr 8, AUC ROC= 0.836947791164659, LIFT5= 5.87951807228916, LIFT10= 4.67469879518072\"\n",
      "[1] \"Arrange nr 3 Fold nr 9, AUC ROC= 0.839922721119134, LIFT5= 5.64, LIFT10= 4.6\"\n",
      "[1] \"Arrange nr 3 Fold nr 10, AUC ROC= 0.858032027404608, LIFT5= 6.5324384787472, LIFT10= 5.23489932885906\"\n",
      "[1] \"Arrange nr 4 Fold nr 1, AUC ROC= 0.860041765395902, LIFT5= 6.46153846153846, LIFT10= 5.18681318681319\"\n",
      "[1] \"Arrange nr 4 Fold nr 2, AUC ROC= 0.845341006422518, LIFT5= 5.32150776053215, LIFT10= 4.7450110864745\"\n",
      "[1] \"Arrange nr 4 Fold nr 3, AUC ROC= 0.853816798051831, LIFT5= 6.63414634146341, LIFT10= 4.97560975609756\"\n",
      "[1] \"Arrange nr 4 Fold nr 4, AUC ROC= 0.852636773371462, LIFT5= 5.74561403508772, LIFT10= 4.9780701754386\"\n",
      "[1] \"Arrange nr 4 Fold nr 5, AUC ROC= 0.849692782314326, LIFT5= 5.93220338983051, LIFT10= 4.70338983050847\"\n",
      "[1] \"Arrange nr 4 Fold nr 6, AUC ROC= 0.851655276780769, LIFT5= 5.82484725050916, LIFT10= 4.56211812627291\"\n",
      "[1] \"Arrange nr 4 Fold nr 7, AUC ROC= 0.840317203696924, LIFT5= 5.37634408602151, LIFT10= 4.58064516129032\"\n",
      "[1] \"Arrange nr 4 Fold nr 8, AUC ROC= 0.8480816358828, LIFT5= 5.35796766743649, LIFT10= 4.80369515011547\"\n",
      "[1] \"Arrange nr 4 Fold nr 9, AUC ROC= 0.85441380921272, LIFT5= 5.92427616926503, LIFT10= 4.78841870824053\"\n",
      "[1] \"Arrange nr 4 Fold nr 10, AUC ROC= 0.865291423804397, LIFT5= 6.43628509719222, LIFT10= 5.0755939524838\"\n",
      "[1] \"Arrange nr 5 Fold nr 1, AUC ROC= 0.845502083909795, LIFT5= 5.8974358974359, LIFT10= 4.65811965811966\"\n",
      "[1] \"Arrange nr 5 Fold nr 2, AUC ROC= 0.850951250559881, LIFT5= 5.95289079229122, LIFT10= 4.88222698072805\"\n",
      "[1] \"Arrange nr 5 Fold nr 3, AUC ROC= 0.860612074434154, LIFT5= 6.00451467268623, LIFT10= 5.12415349887133\"\n",
      "[1] \"Arrange nr 5 Fold nr 4, AUC ROC= 0.848610218187208, LIFT5= 5.40178571428571, LIFT10= 4.6875\"\n",
      "[1] \"Arrange nr 5 Fold nr 5, AUC ROC= 0.852288146710569, LIFT5= 5.9375, LIFT10= 4.66517857142857\"\n",
      "[1] \"Arrange nr 5 Fold nr 6, AUC ROC= 0.859599044144516, LIFT5= 6.19469026548672, LIFT10= 4.84513274336283\"\n",
      "[1] \"Arrange nr 5 Fold nr 7, AUC ROC= 0.841707617301675, LIFT5= 6.20192307692308, LIFT10= 4.90384615384615\"\n",
      "[1] \"Arrange nr 5 Fold nr 8, AUC ROC= 0.844576557929928, LIFT5= 5.57734204793028, LIFT10= 4.64052287581699\"\n",
      "[1] \"Arrange nr 5 Fold nr 9, AUC ROC= 0.8655059080591, LIFT5= 6.4033264033264, LIFT10= 4.98960498960499\"\n",
      "[1] \"Arrange nr 5 Fold nr 10, AUC ROC= 0.854329226968213, LIFT5= 5.83153347732181, LIFT10= 5.11879049676026\"\n"
     ]
    }
   ],
   "source": [
    "xg4mscores = xgboostmeasure(datax=mdtrain4m,datay=trainy)"
   ]
  },
  {
   "cell_type": "code",
   "execution_count": 486,
   "metadata": {
    "scrolled": true
   },
   "outputs": [
    {
     "name": "stdout",
     "output_type": "stream",
     "text": [
      "[1] \"Arrange nr 1 Fold nr 1, AUC ROC= 0.842626322602732, LIFT5= 5.71428571428571, LIFT10= 5.08658008658009\"\n",
      "[1] \"Arrange nr 1 Fold nr 2, AUC ROC= 0.842631731886866, LIFT5= 4.95689655172414, LIFT10= 4.61206896551724\"\n",
      "[1] \"Arrange nr 1 Fold nr 3, AUC ROC= 0.838651432922918, LIFT5= 5.35331905781585, LIFT10= 4.66809421841542\"\n",
      "[1] \"Arrange nr 1 Fold nr 4, AUC ROC= 0.855864018860168, LIFT5= 5.79957356076759, LIFT10= 4.88272921108742\"\n",
      "[1] \"Arrange nr 1 Fold nr 5, AUC ROC= 0.84825636865556, LIFT5= 5.51724137931034, LIFT10= 4.7198275862069\"\n",
      "[1] \"Arrange nr 1 Fold nr 6, AUC ROC= 0.825057578365679, LIFT5= 5.04098360655738, LIFT10= 4.36475409836066\"\n",
      "[1] \"Arrange nr 1 Fold nr 7, AUC ROC= 0.853233895476581, LIFT5= 5.79064587973274, LIFT10= 4.89977728285078\"\n",
      "[1] \"Arrange nr 1 Fold nr 8, AUC ROC= 0.849600335604712, LIFT5= 5.48314606741573, LIFT10= 4.69662921348315\"\n",
      "[1] \"Arrange nr 1 Fold nr 9, AUC ROC= 0.845211400143456, LIFT5= 5.45882352941176, LIFT10= 4.44705882352941\"\n",
      "[1] \"Arrange nr 1 Fold nr 10, AUC ROC= 0.846040397763259, LIFT5= 5.48543689320388, LIFT10= 5\"\n",
      "[1] \"Arrange nr 2 Fold nr 1, AUC ROC= 0.848657784483769, LIFT5= 5.78260869565217, LIFT10= 5.04347826086956\"\n",
      "[1] \"Arrange nr 2 Fold nr 2, AUC ROC= 0.826172537765496, LIFT5= 5.44662309368192, LIFT10= 4.46623093681917\"\n",
      "[1] \"Arrange nr 2 Fold nr 3, AUC ROC= 0.842200673676618, LIFT5= 5.38293216630197, LIFT10= 4.57330415754923\"\n",
      "[1] \"Arrange nr 2 Fold nr 4, AUC ROC= 0.853540227447178, LIFT5= 5.09009009009009, LIFT10= 4.61711711711712\"\n",
      "[1] \"Arrange nr 2 Fold nr 5, AUC ROC= 0.851341107226991, LIFT5= 5.58139534883721, LIFT10= 4.73572938689218\"\n",
      "[1] \"Arrange nr 2 Fold nr 6, AUC ROC= 0.844532021903633, LIFT5= 4.71816283924843, LIFT10= 4.5929018789144\"\n",
      "[1] \"Arrange nr 2 Fold nr 7, AUC ROC= 0.836298351642168, LIFT5= 6.02739726027397, LIFT10= 4.63470319634703\"\n",
      "[1] \"Arrange nr 2 Fold nr 8, AUC ROC= 0.838994835391731, LIFT5= 6, LIFT10= 4.97560975609756\"\n",
      "[1] \"Arrange nr 2 Fold nr 9, AUC ROC= 0.840380889914268, LIFT5= 5.29284164859002, LIFT10= 4.64208242950108\"\n",
      "[1] \"Arrange nr 2 Fold nr 10, AUC ROC= 0.861027944595118, LIFT5= 6.12068965517241, LIFT10= 4.97844827586207\"\n",
      "[1] \"Arrange nr 3 Fold nr 1, AUC ROC= 0.836144532566341, LIFT5= 5.56962025316456, LIFT10= 4.93670886075949\"\n",
      "[1] \"Arrange nr 3 Fold nr 2, AUC ROC= 0.843382074122785, LIFT5= 5.97752808988764, LIFT10= 4.96629213483146\"\n",
      "[1] \"Arrange nr 3 Fold nr 3, AUC ROC= 0.838635170764797, LIFT5= 5.29680365296804, LIFT10= 4.58904109589041\"\n",
      "[1] \"Arrange nr 3 Fold nr 4, AUC ROC= 0.840244884818527, LIFT5= 5.43610547667343, LIFT10= 4.60446247464503\"\n",
      "[1] \"Arrange nr 3 Fold nr 5, AUC ROC= 0.856115699133673, LIFT5= 5.65217391304348, LIFT10= 4.73429951690821\"\n",
      "[1] \"Arrange nr 3 Fold nr 6, AUC ROC= 0.848927569198653, LIFT5= 5.27896995708154, LIFT10= 4.63519313304721\"\n",
      "[1] \"Arrange nr 3 Fold nr 7, AUC ROC= 0.853433995188624, LIFT5= 5.56291390728477, LIFT10= 4.7682119205298\"\n",
      "[1] \"Arrange nr 3 Fold nr 8, AUC ROC= 0.831804455502197, LIFT5= 4.81927710843373, LIFT10= 4.69879518072289\"\n",
      "[1] \"Arrange nr 3 Fold nr 9, AUC ROC= 0.834720780685921, LIFT5= 5.16, LIFT10= 4.52\"\n",
      "[1] \"Arrange nr 3 Fold nr 10, AUC ROC= 0.852240862099115, LIFT5= 5.77181208053691, LIFT10= 5.14541387024608\"\n",
      "[1] \"Arrange nr 4 Fold nr 1, AUC ROC= 0.849621878850749, LIFT5= 5.75824175824176, LIFT10= 5.01098901098901\"\n",
      "[1] \"Arrange nr 4 Fold nr 2, AUC ROC= 0.839074219052218, LIFT5= 5.14412416851441, LIFT10= 4.6119733924612\"\n",
      "[1] \"Arrange nr 4 Fold nr 3, AUC ROC= 0.848721786692962, LIFT5= 5.95121951219512, LIFT10= 4.90243902439024\"\n",
      "[1] \"Arrange nr 4 Fold nr 4, AUC ROC= 0.848869708088137, LIFT5= 5.74561403508772, LIFT10= 5.04385964912281\"\n",
      "[1] \"Arrange nr 4 Fold nr 5, AUC ROC= 0.841642673475301, LIFT5= 5.46610169491525, LIFT10= 4.49152542372881\"\n",
      "[1] \"Arrange nr 4 Fold nr 6, AUC ROC= 0.846372539590689, LIFT5= 5.45824847250509, LIFT10= 4.60285132382892\"\n",
      "[1] \"Arrange nr 4 Fold nr 7, AUC ROC= 0.823596948793328, LIFT5= 5.24731182795699, LIFT10= 4.40860215053763\"\n",
      "[1] \"Arrange nr 4 Fold nr 8, AUC ROC= 0.837246449104412, LIFT5= 5.17321016166282, LIFT10= 4.66512702078522\"\n",
      "[1] \"Arrange nr 4 Fold nr 9, AUC ROC= 0.845213080229387, LIFT5= 5.74610244988864, LIFT10= 4.76614699331849\"\n",
      "[1] \"Arrange nr 4 Fold nr 10, AUC ROC= 0.856560393267629, LIFT5= 5.83153347732181, LIFT10= 5.16198704103672\"\n",
      "[1] \"Arrange nr 5 Fold nr 1, AUC ROC= 0.837823251014573, LIFT5= 5.76923076923077, LIFT10= 4.63675213675214\"\n",
      "[1] \"Arrange nr 5 Fold nr 2, AUC ROC= 0.840595764181031, LIFT5= 5.52462526766595, LIFT10= 4.73233404710921\"\n",
      "[1] \"Arrange nr 5 Fold nr 3, AUC ROC= 0.852221392544489, LIFT5= 5.59819413092551, LIFT10= 4.87584650112867\"\n",
      "[1] \"Arrange nr 5 Fold nr 4, AUC ROC= 0.837266371050439, LIFT5= 4.95535714285714, LIFT10= 4.53125\"\n",
      "[1] \"Arrange nr 5 Fold nr 5, AUC ROC= 0.841978630912325, LIFT5= 5.53571428571429, LIFT10= 4.64285714285714\"\n",
      "[1] \"Arrange nr 5 Fold nr 6, AUC ROC= 0.846524423666608, LIFT5= 5.66371681415929, LIFT10= 4.75663716814159\"\n",
      "[1] \"Arrange nr 5 Fold nr 7, AUC ROC= 0.839844018646195, LIFT5= 5.72115384615385, LIFT10= 4.97596153846154\"\n",
      "[1] \"Arrange nr 5 Fold nr 8, AUC ROC= 0.838993295240612, LIFT5= 5.31590413943355, LIFT10= 4.57516339869281\"\n",
      "[1] \"Arrange nr 5 Fold nr 9, AUC ROC= 0.854715833439238, LIFT5= 5.61330561330561, LIFT10= 4.86486486486486\"\n",
      "[1] \"Arrange nr 5 Fold nr 10, AUC ROC= 0.847886870769246, LIFT5= 5.91792656587473, LIFT10= 4.88120950323974\"\n"
     ]
    }
   ],
   "source": [
    "xg4lscores = xgboostmeasure(datax=mdtrain4l,datay=trainy)"
   ]
  },
  {
   "cell_type": "code",
   "execution_count": 487,
   "metadata": {
    "scrolled": true
   },
   "outputs": [
    {
     "name": "stdout",
     "output_type": "stream",
     "text": [
      "[1] \"Arrange nr 1 Fold nr 1, AUC ROC= 0.854778730593154, LIFT5= 6.19047619047619, LIFT10= 5.04329004329004\"\n",
      "[1] \"Arrange nr 1 Fold nr 2, AUC ROC= 0.848588967454475, LIFT5= 5.51724137931034, LIFT10= 4.67672413793103\"\n",
      "[1] \"Arrange nr 1 Fold nr 3, AUC ROC= 0.843062490809042, LIFT5= 5.78158458244111, LIFT10= 4.81798715203426\"\n",
      "[1] \"Arrange nr 1 Fold nr 4, AUC ROC= 0.862154896440467, LIFT5= 6.05543710021322, LIFT10= 5.09594882729211\"\n",
      "[1] \"Arrange nr 1 Fold nr 5, AUC ROC= 0.856399530220845, LIFT5= 5.99137931034483, LIFT10= 5.02155172413793\"\n",
      "[1] \"Arrange nr 1 Fold nr 6, AUC ROC= 0.83137515329605, LIFT5= 5.32786885245902, LIFT10= 4.44672131147541\"\n",
      "[1] \"Arrange nr 1 Fold nr 7, AUC ROC= 0.856176809686135, LIFT5= 5.92427616926503, LIFT10= 4.96659242761693\"\n",
      "[1] \"Arrange nr 1 Fold nr 8, AUC ROC= 0.86018649745336, LIFT5= 6.1123595505618, LIFT10= 4.76404494382022\"\n",
      "[1] \"Arrange nr 1 Fold nr 9, AUC ROC= 0.858476208024322, LIFT5= 5.64705882352941, LIFT10= 4.8\"\n",
      "[1] \"Arrange nr 1 Fold nr 10, AUC ROC= 0.86045139883044, LIFT5= 6.40776699029126, LIFT10= 5.14563106796116\"\n",
      "[1] \"Arrange nr 2 Fold nr 1, AUC ROC= 0.859381836204539, LIFT5= 6.30434782608696, LIFT10= 5.08695652173913\"\n",
      "[1] \"Arrange nr 2 Fold nr 2, AUC ROC= 0.830857428753522, LIFT5= 5.44662309368192, LIFT10= 4.50980392156863\"\n",
      "[1] \"Arrange nr 2 Fold nr 3, AUC ROC= 0.850547316188998, LIFT5= 5.86433260393873, LIFT10= 4.83588621444201\"\n",
      "[1] \"Arrange nr 2 Fold nr 4, AUC ROC= 0.859028072354866, LIFT5= 5.58558558558558, LIFT10= 4.90990990990991\"\n",
      "[1] \"Arrange nr 2 Fold nr 5, AUC ROC= 0.861685082879497, LIFT5= 5.62367864693446, LIFT10= 4.63002114164905\"\n",
      "[1] \"Arrange nr 2 Fold nr 6, AUC ROC= 0.851685125290331, LIFT5= 5.17745302713987, LIFT10= 4.6972860125261\"\n",
      "[1] \"Arrange nr 2 Fold nr 7, AUC ROC= 0.842726778371532, LIFT5= 6.34703196347032, LIFT10= 4.74885844748858\"\n",
      "[1] \"Arrange nr 2 Fold nr 8, AUC ROC= 0.85371192599574, LIFT5= 6.68292682926829, LIFT10= 5.19512195121951\"\n",
      "[1] \"Arrange nr 2 Fold nr 9, AUC ROC= 0.844539472546118, LIFT5= 5.42299349240781, LIFT10= 4.88069414316703\"\n",
      "[1] \"Arrange nr 2 Fold nr 10, AUC ROC= 0.869088773731112, LIFT5= 6.42241379310345, LIFT10= 5.15086206896552\"\n",
      "[1] \"Arrange nr 3 Fold nr 1, AUC ROC= 0.850199342170836, LIFT5= 5.52742616033755, LIFT10= 4.89451476793249\"\n",
      "[1] \"Arrange nr 3 Fold nr 2, AUC ROC= 0.85460417162704, LIFT5= 6.56179775280899, LIFT10= 4.89887640449438\"\n",
      "[1] \"Arrange nr 3 Fold nr 3, AUC ROC= 0.845683228002541, LIFT5= 5.93607305936073, LIFT10= 4.77168949771689\"\n",
      "[1] \"Arrange nr 3 Fold nr 4, AUC ROC= 0.855263395575482, LIFT5= 5.80121703853955, LIFT10= 4.78701825557809\"\n",
      "[1] \"Arrange nr 3 Fold nr 5, AUC ROC= 0.859420154913232, LIFT5= 6.03864734299517, LIFT10= 4.80676328502415\"\n",
      "[1] \"Arrange nr 3 Fold nr 6, AUC ROC= 0.856750130472489, LIFT5= 5.70815450643777, LIFT10= 4.97854077253219\"\n",
      "[1] \"Arrange nr 3 Fold nr 7, AUC ROC= 0.866287989421017, LIFT5= 6.13686534216336, LIFT10= 5.01103752759382\"\n",
      "[1] \"Arrange nr 3 Fold nr 8, AUC ROC= 0.837622834617047, LIFT5= 5.63855421686747, LIFT10= 4.67469879518072\"\n",
      "[1] \"Arrange nr 3 Fold nr 9, AUC ROC= 0.839271547833935, LIFT5= 5.6, LIFT10= 4.62\"\n",
      "[1] \"Arrange nr 3 Fold nr 10, AUC ROC= 0.858339862600633, LIFT5= 6.5324384787472, LIFT10= 5.16778523489933\"\n",
      "[1] \"Arrange nr 4 Fold nr 1, AUC ROC= 0.859730930198996, LIFT5= 6.15384615384615, LIFT10= 5.16483516483517\"\n",
      "[1] \"Arrange nr 4 Fold nr 2, AUC ROC= 0.846613345115122, LIFT5= 5.36585365853659, LIFT10= 4.65631929046563\"\n",
      "[1] \"Arrange nr 4 Fold nr 3, AUC ROC= 0.851744417265482, LIFT5= 6.63414634146341, LIFT10= 5.02439024390244\"\n",
      "[1] \"Arrange nr 4 Fold nr 4, AUC ROC= 0.852985119821332, LIFT5= 6.31578947368421, LIFT10= 5.06578947368421\"\n",
      "[1] \"Arrange nr 4 Fold nr 5, AUC ROC= 0.849898404202597, LIFT5= 5.88983050847458, LIFT10= 4.72457627118644\"\n",
      "[1] \"Arrange nr 4 Fold nr 6, AUC ROC= 0.853350848348143, LIFT5= 5.66191446028513, LIFT10= 4.60285132382892\"\n",
      "[1] \"Arrange nr 4 Fold nr 7, AUC ROC= 0.838162920323294, LIFT5= 5.46236559139785, LIFT10= 4.51612903225806\"\n",
      "[1] \"Arrange nr 4 Fold nr 8, AUC ROC= 0.847781154103451, LIFT5= 5.49653579676674, LIFT10= 4.8729792147806\"\n",
      "[1] \"Arrange nr 4 Fold nr 9, AUC ROC= 0.854517235909049, LIFT5= 5.96881959910913, LIFT10= 4.69933184855234\"\n",
      "[1] \"Arrange nr 4 Fold nr 10, AUC ROC= 0.865435436550314, LIFT5= 6.47948164146868, LIFT10= 5.20518358531317\"\n",
      "[1] \"Arrange nr 5 Fold nr 1, AUC ROC= 0.846042997332903, LIFT5= 6.06837606837607, LIFT10= 4.63675213675214\"\n",
      "[1] \"Arrange nr 5 Fold nr 2, AUC ROC= 0.84993654478725, LIFT5= 6.03854389721627, LIFT10= 4.90364025695931\"\n",
      "[1] \"Arrange nr 5 Fold nr 3, AUC ROC= 0.859650536702528, LIFT5= 6.09480812641084, LIFT10= 5.23702031602709\"\n",
      "[1] \"Arrange nr 5 Fold nr 4, AUC ROC= 0.849635662012113, LIFT5= 5.40178571428571, LIFT10= 4.73214285714286\"\n",
      "[1] \"Arrange nr 5 Fold nr 5, AUC ROC= 0.852007126033455, LIFT5= 5.80357142857143, LIFT10= 4.70982142857143\"\n",
      "[1] \"Arrange nr 5 Fold nr 6, AUC ROC= 0.85967885599212, LIFT5= 6.10619469026549, LIFT10= 4.84513274336283\"\n",
      "[1] \"Arrange nr 5 Fold nr 7, AUC ROC= 0.842718935903167, LIFT5= 5.91346153846154, LIFT10= 4.97596153846154\"\n",
      "[1] \"Arrange nr 5 Fold nr 8, AUC ROC= 0.846237518027986, LIFT5= 5.62091503267974, LIFT10= 4.66230936819172\"\n",
      "[1] \"Arrange nr 5 Fold nr 9, AUC ROC= 0.866197972580951, LIFT5= 6.15384615384615, LIFT10= 5.01039501039501\"\n",
      "[1] \"Arrange nr 5 Fold nr 10, AUC ROC= 0.855647908126905, LIFT5= 5.7451403887689, LIFT10= 5.09719222462203\"\n"
     ]
    }
   ],
   "source": [
    "xg4mlscores = xgboostmeasure(datax=mdtrain4ml,datay=trainy)"
   ]
  },
  {
   "cell_type": "code",
   "execution_count": 488,
   "metadata": {
    "scrolled": true
   },
   "outputs": [
    {
     "name": "stdout",
     "output_type": "stream",
     "text": [
      "[1] \"Arrange nr 1 Fold nr 1, AUC ROC= 0.856958915794009, LIFT5= 5.75757575757576, LIFT10= 5\"\n",
      "[1] \"Arrange nr 1 Fold nr 2, AUC ROC= 0.84951593374661, LIFT5= 5.77586206896552, LIFT10= 4.76293103448276\"\n",
      "[1] \"Arrange nr 1 Fold nr 3, AUC ROC= 0.846078929957142, LIFT5= 6.03854389721627, LIFT10= 4.94646680942184\"\n",
      "[1] \"Arrange nr 1 Fold nr 4, AUC ROC= 0.861612558743263, LIFT5= 6.31130063965885, LIFT10= 5.09594882729211\"\n",
      "[1] \"Arrange nr 1 Fold nr 5, AUC ROC= 0.857773392096087, LIFT5= 5.86206896551724, LIFT10= 4.97844827586207\"\n",
      "[1] \"Arrange nr 1 Fold nr 6, AUC ROC= 0.836703114495527, LIFT5= 5.5327868852459, LIFT10= 4.54918032786885\"\n",
      "[1] \"Arrange nr 1 Fold nr 7, AUC ROC= 0.855471684443651, LIFT5= 6.05790645879733, LIFT10= 4.96659242761693\"\n",
      "[1] \"Arrange nr 1 Fold nr 8, AUC ROC= 0.859834641612213, LIFT5= 6.06741573033708, LIFT10= 4.74157303370786\"\n",
      "[1] \"Arrange nr 1 Fold nr 9, AUC ROC= 0.859304962392161, LIFT5= 5.88235294117647, LIFT10= 4.91764705882353\"\n",
      "[1] \"Arrange nr 1 Fold nr 10, AUC ROC= 0.864360597404062, LIFT5= 6.50485436893204, LIFT10= 5.16990291262136\"\n",
      "[1] \"Arrange nr 2 Fold nr 1, AUC ROC= 0.860731620375796, LIFT5= 6.47826086956522, LIFT10= 5.08695652173913\"\n",
      "[1] \"Arrange nr 2 Fold nr 2, AUC ROC= 0.83190956587264, LIFT5= 5.53376906318083, LIFT10= 4.57516339869281\"\n",
      "[1] \"Arrange nr 2 Fold nr 3, AUC ROC= 0.852134713704634, LIFT5= 5.77680525164114, LIFT10= 4.81400437636762\"\n",
      "[1] \"Arrange nr 2 Fold nr 4, AUC ROC= 0.858759291803014, LIFT5= 5.54054054054054, LIFT10= 4.86486486486486\"\n",
      "[1] \"Arrange nr 2 Fold nr 5, AUC ROC= 0.862526968026912, LIFT5= 5.66596194503171, LIFT10= 4.79915433403805\"\n",
      "[1] \"Arrange nr 2 Fold nr 6, AUC ROC= 0.852722035097035, LIFT5= 5.55323590814196, LIFT10= 4.73903966597077\"\n",
      "[1] \"Arrange nr 2 Fold nr 7, AUC ROC= 0.843181557749819, LIFT5= 6.3013698630137, LIFT10= 4.81735159817352\"\n",
      "[1] \"Arrange nr 2 Fold nr 8, AUC ROC= 0.856454943151174, LIFT5= 6.78048780487805, LIFT10= 5.24390243902439\"\n",
      "[1] \"Arrange nr 2 Fold nr 9, AUC ROC= 0.847855886155998, LIFT5= 5.5531453362256, LIFT10= 4.98915401301518\"\n",
      "[1] \"Arrange nr 2 Fold nr 10, AUC ROC= 0.872289446919798, LIFT5= 6.72413793103448, LIFT10= 5.19396551724138\"\n",
      "[1] \"Arrange nr 3 Fold nr 1, AUC ROC= 0.848671526818641, LIFT5= 5.61181434599156, LIFT10= 5.0210970464135\"\n",
      "[1] \"Arrange nr 3 Fold nr 2, AUC ROC= 0.854594471340693, LIFT5= 6.56179775280899, LIFT10= 4.92134831460674\"\n",
      "[1] \"Arrange nr 3 Fold nr 3, AUC ROC= 0.849422113020605, LIFT5= 6.02739726027397, LIFT10= 4.77168949771689\"\n",
      "[1] \"Arrange nr 3 Fold nr 4, AUC ROC= 0.858329314723569, LIFT5= 5.72008113590264, LIFT10= 4.78701825557809\"\n",
      "[1] \"Arrange nr 3 Fold nr 5, AUC ROC= 0.862552694788546, LIFT5= 6.23188405797101, LIFT10= 4.90338164251208\"\n",
      "[1] \"Arrange nr 3 Fold nr 6, AUC ROC= 0.857211486981209, LIFT5= 5.83690987124464, LIFT10= 4.91416309012876\"\n",
      "[1] \"Arrange nr 3 Fold nr 7, AUC ROC= 0.868428856068212, LIFT5= 5.96026490066225, LIFT10= 5.07726269315673\"\n",
      "[1] \"Arrange nr 3 Fold nr 8, AUC ROC= 0.840296082082268, LIFT5= 5.83132530120482, LIFT10= 4.79518072289157\"\n",
      "[1] \"Arrange nr 3 Fold nr 9, AUC ROC= 0.841659296028881, LIFT5= 5.92, LIFT10= 4.74\"\n",
      "[1] \"Arrange nr 3 Fold nr 10, AUC ROC= 0.860117378789578, LIFT5= 6.5324384787472, LIFT10= 5.23489932885906\"\n",
      "[1] \"Arrange nr 4 Fold nr 1, AUC ROC= 0.860018576103434, LIFT5= 6.54945054945055, LIFT10= 5.20879120879121\"\n",
      "[1] \"Arrange nr 4 Fold nr 2, AUC ROC= 0.848167665606156, LIFT5= 5.54323725055432, LIFT10= 4.72283813747228\"\n",
      "[1] \"Arrange nr 4 Fold nr 3, AUC ROC= 0.855724652287845, LIFT5= 6.68292682926829, LIFT10= 5.07317073170732\"\n",
      "[1] \"Arrange nr 4 Fold nr 4, AUC ROC= 0.856910356549209, LIFT5= 6.35964912280702, LIFT10= 5.19736842105263\"\n",
      "[1] \"Arrange nr 4 Fold nr 5, AUC ROC= 0.852431151215719, LIFT5= 6.10169491525424, LIFT10= 4.76694915254237\"\n",
      "[1] \"Arrange nr 4 Fold nr 6, AUC ROC= 0.856132462540539, LIFT5= 5.74338085539715, LIFT10= 4.64358452138493\"\n",
      "[1] \"Arrange nr 4 Fold nr 7, AUC ROC= 0.840396830862958, LIFT5= 5.59139784946237, LIFT10= 4.55913978494624\"\n",
      "[1] \"Arrange nr 4 Fold nr 8, AUC ROC= 0.851399347783869, LIFT5= 5.40415704387991, LIFT10= 4.89607390300231\"\n",
      "[1] \"Arrange nr 4 Fold nr 9, AUC ROC= 0.855150037410985, LIFT5= 6.19153674832962, LIFT10= 4.85523385300668\"\n",
      "[1] \"Arrange nr 4 Fold nr 10, AUC ROC= 0.86500861528651, LIFT5= 6.43628509719222, LIFT10= 5.14038876889849\"\n",
      "[1] \"Arrange nr 5 Fold nr 1, AUC ROC= 0.845851563941155, LIFT5= 6.02564102564102, LIFT10= 4.61538461538461\"\n",
      "[1] \"Arrange nr 5 Fold nr 2, AUC ROC= 0.850896375579767, LIFT5= 6.16702355460385, LIFT10= 4.98929336188437\"\n",
      "[1] \"Arrange nr 5 Fold nr 3, AUC ROC= 0.861800712195816, LIFT5= 6.13995485327314, LIFT10= 5.21444695259594\"\n",
      "[1] \"Arrange nr 5 Fold nr 4, AUC ROC= 0.850255534792989, LIFT5= 5.40178571428571, LIFT10= 4.70982142857143\"\n",
      "[1] \"Arrange nr 5 Fold nr 5, AUC ROC= 0.856437864513235, LIFT5= 5.9375, LIFT10= 4.57589285714286\"\n",
      "[1] \"Arrange nr 5 Fold nr 6, AUC ROC= 0.861116710490777, LIFT5= 6.46017699115044, LIFT10= 4.93362831858407\"\n",
      "[1] \"Arrange nr 5 Fold nr 7, AUC ROC= 0.844874015680341, LIFT5= 5.96153846153846, LIFT10= 4.95192307692308\"\n",
      "[1] \"Arrange nr 5 Fold nr 8, AUC ROC= 0.850472489201557, LIFT5= 5.92592592592593, LIFT10= 4.90196078431372\"\n",
      "[1] \"Arrange nr 5 Fold nr 9, AUC ROC= 0.865435110115961, LIFT5= 6.23700623700624, LIFT10= 5.01039501039501\"\n",
      "[1] \"Arrange nr 5 Fold nr 10, AUC ROC= 0.85583159413981, LIFT5= 6.0475161987041, LIFT10= 5.14038876889849\"\n"
     ]
    }
   ],
   "source": [
    "xg4emlscores = xgboostmeasure(datax=mdtrain4eml,datay=trainy)"
   ]
  },
  {
   "cell_type": "code",
   "execution_count": 491,
   "metadata": {},
   "outputs": [],
   "source": [
    "bxdataframe=data.frame(T=xg4scores$AUC,F=xg4nlscores$AUC,M=xg4mscores$AUC,L=xg4lscores$AUC, ML = xg4mlscores$AUC, EML = xg4emlscores$AUC)"
   ]
  },
  {
   "cell_type": "code",
   "execution_count": 492,
   "metadata": {},
   "outputs": [
    {
     "data": {
      "text/html": [
       "<dl class=dl-horizontal>\n",
       "\t<dt>T</dt>\n",
       "\t\t<dd>0.843468819740063</dd>\n",
       "\t<dt>F</dt>\n",
       "\t\t<dd>0.842425582754231</dd>\n",
       "\t<dt>M</dt>\n",
       "\t\t<dd>0.852368212820504</dd>\n",
       "\t<dt>L</dt>\n",
       "\t\t<dd>0.843784985146476</dd>\n",
       "\t<dt>ML</dt>\n",
       "\t\t<dd>0.852775405749938</dd>\n",
       "\t<dt>EML</dt>\n",
       "\t\t<dd>0.854297197065141</dd>\n",
       "</dl>\n"
      ],
      "text/latex": [
       "\\begin{description*}\n",
       "\\item[T] 0.843468819740063\n",
       "\\item[F] 0.842425582754231\n",
       "\\item[M] 0.852368212820504\n",
       "\\item[L] 0.843784985146476\n",
       "\\item[ML] 0.852775405749938\n",
       "\\item[EML] 0.854297197065141\n",
       "\\end{description*}\n"
      ],
      "text/markdown": [
       "T\n",
       ":   0.843468819740063F\n",
       ":   0.842425582754231M\n",
       ":   0.852368212820504L\n",
       ":   0.843784985146476ML\n",
       ":   0.852775405749938EML\n",
       ":   0.854297197065141\n",
       "\n"
      ],
      "text/plain": [
       "        T         F         M         L        ML       EML \n",
       "0.8434688 0.8424256 0.8523682 0.8437850 0.8527754 0.8542972 "
      ]
     },
     "metadata": {},
     "output_type": "display_data"
    }
   ],
   "source": [
    "sapply(bxdataframe,mean)"
   ]
  },
  {
   "cell_type": "code",
   "execution_count": 490,
   "metadata": {},
   "outputs": [
    {
     "data": {
      "text/html": [
       "<dl class=dl-horizontal>\n",
       "\t<dt>T</dt>\n",
       "\t\t<dd>0.843468819740063</dd>\n",
       "\t<dt>F</dt>\n",
       "\t\t<dd>0.842425582754231</dd>\n",
       "\t<dt>M</dt>\n",
       "\t\t<dd>0.852368212820504</dd>\n",
       "\t<dt>L</dt>\n",
       "\t\t<dd>0.843784985146476</dd>\n",
       "\t<dt>ML</dt>\n",
       "\t\t<dd>0.852775405749938</dd>\n",
       "\t<dt>EML</dt>\n",
       "\t\t<dd>0.854297197065141</dd>\n",
       "</dl>\n"
      ],
      "text/latex": [
       "\\begin{description*}\n",
       "\\item[T] 0.843468819740063\n",
       "\\item[F] 0.842425582754231\n",
       "\\item[M] 0.852368212820504\n",
       "\\item[L] 0.843784985146476\n",
       "\\item[ML] 0.852775405749938\n",
       "\\item[EML] 0.854297197065141\n",
       "\\end{description*}\n"
      ],
      "text/markdown": [
       "T\n",
       ":   0.843468819740063F\n",
       ":   0.842425582754231M\n",
       ":   0.852368212820504L\n",
       ":   0.843784985146476ML\n",
       ":   0.852775405749938EML\n",
       ":   0.854297197065141\n",
       "\n"
      ],
      "text/plain": [
       "        T         F         M         L        ML       EML \n",
       "0.8434688 0.8424256 0.8523682 0.8437850 0.8527754 0.8542972 "
      ]
     },
     "metadata": {},
     "output_type": "display_data"
    }
   ],
   "source": [
    "sapply(bxdataframe,mean)"
   ]
  },
  {
   "cell_type": "code",
   "execution_count": 479,
   "metadata": {},
   "outputs": [
    {
     "data": {
      "image/png": "[encoded data removed]",
      "text/plain": [
       "plot without title"
      ]
     },
     "metadata": {},
     "output_type": "display_data"
    }
   ],
   "source": [
    "boxplot(bxdataframe,ylim=c(0.82,0.87))\n",
    "abline(0.5,0,col=\"red\")"
   ]
  },
  {
   "cell_type": "code",
   "execution_count": 480,
   "metadata": {
    "collapsed": true
   },
   "outputs": [],
   "source": [
    "bxdataframe2=data.frame(T=xg4scores$LIFT10,F=xg4nlscores$LIFT10,M=xg4mscores$LIFT10,L=xg4lscores$LIFT10, ML = xg4mlscores$LIFT10, EML = xg4emlscores$LIFT10)"
   ]
  },
  {
   "cell_type": "code",
   "execution_count": 481,
   "metadata": {},
   "outputs": [
    {
     "data": {
      "image/png": "[encoded data removed]",
      "text/plain": [
       "plot without title"
      ]
     },
     "metadata": {},
     "output_type": "display_data"
    }
   ],
   "source": [
    "boxplot(bxdataframe2)"
   ]
  },
  {
   "cell_type": "markdown",
   "metadata": {},
   "source": [
    "# Wyznaczenie scoringów"
   ]
  },
  {
   "cell_type": "code",
   "execution_count": 183,
   "metadata": {
    "collapsed": true
   },
   "outputs": [],
   "source": [
    "#polecam zamienic plik Student testowy na csv-kę"
   ]
  },
  {
   "cell_type": "code",
   "execution_count": 184,
   "metadata": {
    "collapsed": true,
    "scrolled": true
   },
   "outputs": [],
   "source": [
    "test = read.csv(\"Student-testowy.csv\",header=TRUE)"
   ]
  },
  {
   "cell_type": "markdown",
   "metadata": {},
   "source": [
    "### Wybieranie predyktorów zgodnie z train4"
   ]
  },
  {
   "cell_type": "code",
   "execution_count": 185,
   "metadata": {
    "scrolled": true
   },
   "outputs": [
    {
     "data": {
      "text/html": [
       "<ol class=list-inline>\n",
       "\t<li>93646</li>\n",
       "\t<li>61</li>\n",
       "</ol>\n"
      ],
      "text/latex": [
       "\\begin{enumerate*}\n",
       "\\item 93646\n",
       "\\item 61\n",
       "\\end{enumerate*}\n"
      ],
      "text/markdown": [
       "1. 93646\n",
       "2. 61\n",
       "\n",
       "\n"
      ],
      "text/plain": [
       "[1] 93646    61"
      ]
     },
     "metadata": {},
     "output_type": "display_data"
    }
   ],
   "source": [
    "dim(train4)"
   ]
  },
  {
   "cell_type": "code",
   "execution_count": 186,
   "metadata": {},
   "outputs": [
    {
     "data": {
      "text/html": [
       "<ol class=list-inline>\n",
       "\t<li>32967</li>\n",
       "\t<li>117</li>\n",
       "</ol>\n"
      ],
      "text/latex": [
       "\\begin{enumerate*}\n",
       "\\item 32967\n",
       "\\item 117\n",
       "\\end{enumerate*}\n"
      ],
      "text/markdown": [
       "1. 32967\n",
       "2. 117\n",
       "\n",
       "\n"
      ],
      "text/plain": [
       "[1] 32967   117"
      ]
     },
     "metadata": {},
     "output_type": "display_data"
    }
   ],
   "source": [
    "dim(test)"
   ]
  },
  {
   "cell_type": "code",
   "execution_count": 187,
   "metadata": {
    "collapsed": true
   },
   "outputs": [],
   "source": [
    "indices_to_keep = unlist(sapply(colnames(train4),function(tt){which(colnames(test)==tt)}))"
   ]
  },
  {
   "cell_type": "code",
   "execution_count": 188,
   "metadata": {
    "collapsed": true
   },
   "outputs": [],
   "source": [
    "test2 = test[,indices_to_keep]"
   ]
  },
  {
   "cell_type": "code",
   "execution_count": 189,
   "metadata": {},
   "outputs": [
    {
     "data": {
      "text/html": [
       "<ol class=list-inline>\n",
       "\t<li>32967</li>\n",
       "\t<li>60</li>\n",
       "</ol>\n"
      ],
      "text/latex": [
       "\\begin{enumerate*}\n",
       "\\item 32967\n",
       "\\item 60\n",
       "\\end{enumerate*}\n"
      ],
      "text/markdown": [
       "1. 32967\n",
       "2. 60\n",
       "\n",
       "\n"
      ],
      "text/plain": [
       "[1] 32967    60"
      ]
     },
     "metadata": {},
     "output_type": "display_data"
    }
   ],
   "source": [
    "dim(test2)"
   ]
  },
  {
   "cell_type": "code",
   "execution_count": 190,
   "metadata": {
    "collapsed": true
   },
   "outputs": [],
   "source": [
    "#zatem mamy wszystkie predyktory oprócz etykiety (której oczywiście nie ma)"
   ]
  },
  {
   "cell_type": "markdown",
   "metadata": {},
   "source": [
    "### Konwersje kolumn, dodanie NA"
   ]
  },
  {
   "cell_type": "code",
   "execution_count": 191,
   "metadata": {
    "collapsed": true,
    "scrolled": true
   },
   "outputs": [],
   "source": [
    "a = data.frame(c(sapply(test2,class),'None'),sapply(train4,class))"
   ]
  },
  {
   "cell_type": "code",
   "execution_count": 192,
   "metadata": {
    "collapsed": true
   },
   "outputs": [],
   "source": [
    "test2$etx_fuel_code = as.factor(test2$etx_fuel_code)\n",
    "\n",
    "test2$production_year = as.numeric(test2$production_year)\n",
    "\n",
    "test2$protection_scope = as.factor(test2$protection_scope)\n",
    "\n",
    "test2$child_carriage_frequency = as.factor(test2$child_carriage_frequency)\n",
    "\n",
    "test2$mileage = as.numeric(test2$mileage)\n",
    "test2$yearly_mileage = as.numeric(test2$yearly_mileage)\n",
    "test2$used_abroad = as.numeric(test2$used_abroad)\n",
    "\n",
    "\n",
    "test2$theft_protection_installation = as.factor(test2$theft_protection_installation)\n",
    "test2$theft_protection_device_1 = as.factor(test2$theft_protection_device_1)\n",
    "test2$theft_protection_device_2 = as.factor(test2$theft_protection_device_2)\n",
    "\n",
    "test2$buy_year = as.numeric(test2$buy_year)\n",
    "test2$car_worth = as.numeric(test2$car_worth)\n",
    "test2$main_driver_age = as.numeric(test2$main_driver_age)\n",
    "test2$step = as.numeric(test2$step)\n",
    "test2$oc_offer_min_val = as.numeric(test2$oc_offer_min_val)\n",
    "test2$ac_offers_qty = as.numeric(test2$ac_offers_qty)\n",
    "test2$b2c_leads_sent = as.numeric(test2$b2c_leads_sent)\n",
    "test2$offer_first_after = as.numeric(test2$offer_first_after)\n",
    "test2$offer_last_after = as.numeric(test2$offer_last_after)\n",
    "test2$phone_lookup_status = as.numeric(test2$phone_lookup_status)\n",
    "test2$went_to_partners = as.numeric(test2$went_to_partners)\n",
    "test2$Account__r.AgreementMarketing__pc = as.integer(test2$Account__r.AgreementMarketing__pc)\n",
    "test2$CarEngineCapacity__c = as.numeric(test2$CarEngineCapacity__c)\n",
    "test2$CarYear__c = as.numeric(test2$CarYear__c)\n",
    "test2$WentToPartner__c = as.integer(test2$WentToPartner__c)\n",
    "test2$dont_have_this_car__c = as.integer(test2$dont_have_this_car__c)\n",
    "\n",
    "\n",
    "#kody pocztowe\n",
    "test2$night_parking_place_postal_code = postalCodeToRegion (test2$night_parking_place_postal_code)\n",
    "test2$day_parking_place_postal_code = postalCodeToRegion (test2$day_parking_place_postal_code)\n",
    "test2$main_driver_postal_code = postalCodeToRegion (test2$main_driver_postal_code)\n",
    "test2$Account__r.BillingPostalCode = postalCodeToRegion (test2$Account__r.BillingPostalCode)"
   ]
  },
  {
   "cell_type": "markdown",
   "metadata": {},
   "source": [
    "Zamiana \"\" na NA dla factorow"
   ]
  },
  {
   "cell_type": "code",
   "execution_count": 193,
   "metadata": {
    "collapsed": true
   },
   "outputs": [],
   "source": [
    "factors = which(sapply(test2,class)=='factor')\n",
    "for (i in factors){\n",
    "    test2[,i] = sapply(as.character(test2[,i]),function(x){if(is.na(x) | x==''){NA}else{x}})\n",
    "    test2[,i] = as.factor(test2[,i])\n",
    "}"
   ]
  },
  {
   "cell_type": "markdown",
   "metadata": {},
   "source": [
    "Dodanie NA do factorów"
   ]
  },
  {
   "cell_type": "code",
   "execution_count": 194,
   "metadata": {
    "collapsed": true
   },
   "outputs": [],
   "source": [
    "for (cc in 1:ncol(test2)){\n",
    "    if (is.factor(test2[,cc]) & any(is.na(test2[,cc]))){\n",
    "        test2[,cc] = addNA(test2[,cc])\n",
    "    }\n",
    "}"
   ]
  },
  {
   "cell_type": "markdown",
   "metadata": {},
   "source": [
    "Zamiana dat na typ zgodny z obecnym w zbiorze treningowym"
   ]
  },
  {
   "cell_type": "code",
   "execution_count": 195,
   "metadata": {
    "scrolled": true
   },
   "outputs": [
    {
     "data": {
      "text/html": [
       "<ol class=list-inline>\n",
       "\t<li>15-Jul-05 0:00:00</li>\n",
       "\t<li>15-May-15 0:00:00</li>\n",
       "\t<li>15-Nov-98 0:00:00</li>\n",
       "\t<li>15-Jul-17 0:00:00</li>\n",
       "\t<li>15-Apr-97 0:00:00</li>\n",
       "\t<li>15-May-13 0:00:00</li>\n",
       "</ol>\n"
      ],
      "text/latex": [
       "\\begin{enumerate*}\n",
       "\\item 15-Jul-05 0:00:00\n",
       "\\item 15-May-15 0:00:00\n",
       "\\item 15-Nov-98 0:00:00\n",
       "\\item 15-Jul-17 0:00:00\n",
       "\\item 15-Apr-97 0:00:00\n",
       "\\item 15-May-13 0:00:00\n",
       "\\end{enumerate*}\n"
      ],
      "text/markdown": [
       "1. 15-Jul-05 0:00:00\n",
       "2. 15-May-15 0:00:00\n",
       "3. 15-Nov-98 0:00:00\n",
       "4. 15-Jul-17 0:00:00\n",
       "5. 15-Apr-97 0:00:00\n",
       "6. 15-May-13 0:00:00\n",
       "\n",
       "\n"
      ],
      "text/plain": [
       "[1] 15-Jul-05 0:00:00 15-May-15 0:00:00 15-Nov-98 0:00:00 15-Jul-17 0:00:00\n",
       "[5] 15-Apr-97 0:00:00 15-May-13 0:00:00\n",
       "355 Levels: 15-Apr-00 0:00:00 15-Apr-01 0:00:00 ... 4-Mar-09 0:00:00"
      ]
     },
     "metadata": {},
     "output_type": "display_data"
    },
    {
     "data": {
      "text/html": [
       "<ol class=list-inline>\n",
       "\t<li>1-Aug-17 0:31:01</li>\n",
       "\t<li>1-Aug-17 0:31:36</li>\n",
       "\t<li>1-Aug-17 0:41:27</li>\n",
       "\t<li>1-Aug-17 0:50:04</li>\n",
       "\t<li>1-Aug-17 1:19:49</li>\n",
       "\t<li>1-Aug-17 1:23:55</li>\n",
       "</ol>\n"
      ],
      "text/latex": [
       "\\begin{enumerate*}\n",
       "\\item 1-Aug-17 0:31:01\n",
       "\\item 1-Aug-17 0:31:36\n",
       "\\item 1-Aug-17 0:41:27\n",
       "\\item 1-Aug-17 0:50:04\n",
       "\\item 1-Aug-17 1:19:49\n",
       "\\item 1-Aug-17 1:23:55\n",
       "\\end{enumerate*}\n"
      ],
      "text/markdown": [
       "1. 1-Aug-17 0:31:01\n",
       "2. 1-Aug-17 0:31:36\n",
       "3. 1-Aug-17 0:41:27\n",
       "4. 1-Aug-17 0:50:04\n",
       "5. 1-Aug-17 1:19:49\n",
       "6. 1-Aug-17 1:23:55\n",
       "\n",
       "\n"
      ],
      "text/plain": [
       "[1] 1-Aug-17 0:31:01 1-Aug-17 0:31:36 1-Aug-17 0:41:27 1-Aug-17 0:50:04\n",
       "[5] 1-Aug-17 1:19:49 1-Aug-17 1:23:55\n",
       "20966 Levels: 10-Aug-17 0:03:20 10-Aug-17 0:04:51 ... <NA>"
      ]
     },
     "metadata": {},
     "output_type": "display_data"
    },
    {
     "data": {
      "text/html": [
       "<ol class=list-inline>\n",
       "\t<li>11-Jan-1948</li>\n",
       "\t<li>9-Dec-1966</li>\n",
       "\t<li>24-Jul-1975</li>\n",
       "\t<li>12-Jan-1991</li>\n",
       "\t<li>26-Apr-1999</li>\n",
       "\t<li>10-May-1985</li>\n",
       "</ol>\n"
      ],
      "text/latex": [
       "\\begin{enumerate*}\n",
       "\\item 11-Jan-1948\n",
       "\\item 9-Dec-1966\n",
       "\\item 24-Jul-1975\n",
       "\\item 12-Jan-1991\n",
       "\\item 26-Apr-1999\n",
       "\\item 10-May-1985\n",
       "\\end{enumerate*}\n"
      ],
      "text/markdown": [
       "1. 11-Jan-1948\n",
       "2. 9-Dec-1966\n",
       "3. 24-Jul-1975\n",
       "4. 12-Jan-1991\n",
       "5. 26-Apr-1999\n",
       "6. 10-May-1985\n",
       "\n",
       "\n"
      ],
      "text/plain": [
       "[1] 11-Jan-1948 9-Dec-1966  24-Jul-1975 12-Jan-1991 26-Apr-1999 10-May-1985\n",
       "14075 Levels: 10-Apr-1938 10-Apr-1948 10-Apr-1952 10-Apr-1953 ... <NA>"
      ]
     },
     "metadata": {},
     "output_type": "display_data"
    },
    {
     "data": {
      "text/html": [
       "<ol class=list-inline>\n",
       "\t<li>9-Aug-2017</li>\n",
       "\t<li>7-Aug-2017</li>\n",
       "\t<li>29-Oct-2017</li>\n",
       "\t<li>1-Sep-2017</li>\n",
       "\t<li>18-Aug-2017</li>\n",
       "\t<li>4-Aug-2017</li>\n",
       "</ol>\n"
      ],
      "text/latex": [
       "\\begin{enumerate*}\n",
       "\\item 9-Aug-2017\n",
       "\\item 7-Aug-2017\n",
       "\\item 29-Oct-2017\n",
       "\\item 1-Sep-2017\n",
       "\\item 18-Aug-2017\n",
       "\\item 4-Aug-2017\n",
       "\\end{enumerate*}\n"
      ],
      "text/markdown": [
       "1. 9-Aug-2017\n",
       "2. 7-Aug-2017\n",
       "3. 29-Oct-2017\n",
       "4. 1-Sep-2017\n",
       "5. 18-Aug-2017\n",
       "6. 4-Aug-2017\n",
       "\n",
       "\n"
      ],
      "text/plain": [
       "[1] 9-Aug-2017  7-Aug-2017  29-Oct-2017 1-Sep-2017  18-Aug-2017 4-Aug-2017 \n",
       "218 Levels: 10-Aug-2017 10-Dec-2017 10-Feb-2018 10-Jan-2018 ... <NA>"
      ]
     },
     "metadata": {},
     "output_type": "display_data"
    },
    {
     "data": {
      "text/html": [
       "<ol class=list-inline>\n",
       "\t<li>1-Aug-17 11:26:08</li>\n",
       "\t<li>2-Aug-17 14:04:58</li>\n",
       "\t<li>&lt;NA&gt;</li>\n",
       "\t<li>&lt;NA&gt;</li>\n",
       "\t<li>&lt;NA&gt;</li>\n",
       "\t<li>&lt;NA&gt;</li>\n",
       "</ol>\n"
      ],
      "text/latex": [
       "\\begin{enumerate*}\n",
       "\\item 1-Aug-17 11:26:08\n",
       "\\item 2-Aug-17 14:04:58\n",
       "\\item <NA>\n",
       "\\item <NA>\n",
       "\\item <NA>\n",
       "\\item <NA>\n",
       "\\end{enumerate*}\n"
      ],
      "text/markdown": [
       "1. 1-Aug-17 11:26:08\n",
       "2. 2-Aug-17 14:04:58\n",
       "3. &lt;NA&gt;\n",
       "4. &lt;NA&gt;\n",
       "5. &lt;NA&gt;\n",
       "6. &lt;NA&gt;\n",
       "\n",
       "\n"
      ],
      "text/plain": [
       "[1] 1-Aug-17 11:26:08 2-Aug-17 14:04:58 <NA>              <NA>             \n",
       "[5] <NA>              <NA>             \n",
       "6239 Levels: 10-Aug-17 10:08:10 10-Aug-17 10:09:07 ... <NA>"
      ]
     },
     "metadata": {},
     "output_type": "display_data"
    }
   ],
   "source": [
    "head(test2$registration_date)\n",
    "head(test2$offer_last_at)\n",
    "head(test2$Account__r.PersonBirthdate)\n",
    "head(test2$PolicyStartDate__c)\n",
    "head(test2$LastCall__c)"
   ]
  },
  {
   "cell_type": "code",
   "execution_count": 200,
   "metadata": {
    "collapsed": true
   },
   "outputs": [],
   "source": [
    "d0 <- as.Date(0, origin=\"1899-12-30\", tz='UTC')"
   ]
  },
  {
   "cell_type": "code",
   "execution_count": 201,
   "metadata": {},
   "outputs": [],
   "source": [
    "test2$LastCall__c = sapply(as.character(test2$LastCall__c), function(rd){\n",
    "    if (is.na(rd) | nchar(rd)<5) {NA} else {\n",
    "    ssplit = strsplit(rd,' ')[[1]]\n",
    "    a = strsplit(ssplit[1],'-')[[1]]\n",
    "    aa = as.Date(paste0(which(month.abb==a[2]),'/',a[1],'/',a[3]),'%m/%d/%y')\n",
    "    numericdate = as.numeric(aa-d0)\n",
    "    b = strsplit(ssplit[2],':')[[1]]\n",
    "    dayseconds = 24*60*60\n",
    "    numerator = as.numeric(b[1])*3600+as.numeric(b[2])*60+as.numeric(b[3])\n",
    "    numericdate + (numerator/dayseconds)\n",
    "    }\n",
    "})"
   ]
  },
  {
   "cell_type": "code",
   "execution_count": 202,
   "metadata": {
    "collapsed": true
   },
   "outputs": [],
   "source": [
    "test2$registration_date = sapply(as.character(test2$registration_date), function(rd){\n",
    "    if (nchar(rd)<5) {NA} else {\n",
    "    a = strsplit(strsplit(rd,' ')[[1]],'-')[[1]]\n",
    "    aa = as.Date(paste0(which(month.abb==a[2]),'/',a[1],'/',a[3]),'%m/%d/%y')\n",
    "    as.numeric(aa-d0)\n",
    "    }\n",
    "})"
   ]
  },
  {
   "cell_type": "code",
   "execution_count": 203,
   "metadata": {
    "collapsed": true,
    "scrolled": true
   },
   "outputs": [],
   "source": [
    "test2$offer_last_at = sapply(as.character(test2$offer_last_at), function(rd){\n",
    "    if (is.na(rd) | nchar(rd)<5) {NA} else {\n",
    "    ssplit = strsplit(rd,' ')[[1]]\n",
    "    a = strsplit(ssplit[1],'-')[[1]]\n",
    "    aa = as.Date(paste0(which(month.abb==a[2]),'/',a[1],'/',a[3]),'%m/%d/%y')\n",
    "    numericdate = as.numeric(aa-d0)\n",
    "    b = strsplit(ssplit[2],':')[[1]]\n",
    "    dayseconds = 24*60*60\n",
    "    numerator = as.numeric(b[1])*3600+as.numeric(b[2])*60+as.numeric(b[3])\n",
    "    numericdate + (numerator/dayseconds)\n",
    "    }\n",
    "})"
   ]
  },
  {
   "cell_type": "code",
   "execution_count": 204,
   "metadata": {
    "collapsed": true
   },
   "outputs": [],
   "source": [
    "test2$Account__r.PersonBirthdate = sapply(as.character(test2$Account__r.PersonBirthdate), function(rd){\n",
    "    if (is.na(rd) | nchar(rd)<5) {NA} else {\n",
    "        a = strsplit(strsplit(rd,' ')[[1]],'-')[[1]]\n",
    "        aa = as.Date(paste0(which(month.abb==a[2]),'/',a[1],'/',a[3]),'%m/%d/%Y')\n",
    "        as.numeric(aa-d0)\n",
    "    }\n",
    "})"
   ]
  },
  {
   "cell_type": "code",
   "execution_count": 205,
   "metadata": {
    "collapsed": true
   },
   "outputs": [],
   "source": [
    "test2$PolicyStartDate__c = sapply(as.character(test2$PolicyStartDate__c), function(rd){\n",
    "    if (is.na(rd) | nchar(rd)<5) {NA} else {\n",
    "        a = strsplit(strsplit(rd,' ')[[1]],'-')[[1]]\n",
    "        aa = as.Date(paste0(which(month.abb==a[2]),'/',a[1],'/',a[3]),'%m/%d/%Y')\n",
    "        as.numeric(aa-d0)\n",
    "    }\n",
    "})"
   ]
  },
  {
   "cell_type": "markdown",
   "metadata": {},
   "source": [
    "Dwa predyktory odrzucone w zbiorze testowym na razie, które służą do wyznaczenia predyktora formFillingTime"
   ]
  },
  {
   "cell_type": "code",
   "execution_count": 206,
   "metadata": {
    "scrolled": true
   },
   "outputs": [
    {
     "data": {
      "text/html": [
       "<ol class=list-inline>\n",
       "\t<li>1-Aug-17 0:11:00</li>\n",
       "\t<li>1-Aug-17 0:19:31</li>\n",
       "\t<li>1-Aug-17 0:34:32</li>\n",
       "\t<li>1-Aug-17 0:44:10</li>\n",
       "\t<li>1-Aug-17 1:08:04</li>\n",
       "\t<li>1-Aug-17 1:16:42</li>\n",
       "</ol>\n"
      ],
      "text/latex": [
       "\\begin{enumerate*}\n",
       "\\item 1-Aug-17 0:11:00\n",
       "\\item 1-Aug-17 0:19:31\n",
       "\\item 1-Aug-17 0:34:32\n",
       "\\item 1-Aug-17 0:44:10\n",
       "\\item 1-Aug-17 1:08:04\n",
       "\\item 1-Aug-17 1:16:42\n",
       "\\end{enumerate*}\n"
      ],
      "text/markdown": [
       "1. 1-Aug-17 0:11:00\n",
       "2. 1-Aug-17 0:19:31\n",
       "3. 1-Aug-17 0:34:32\n",
       "4. 1-Aug-17 0:44:10\n",
       "5. 1-Aug-17 1:08:04\n",
       "6. 1-Aug-17 1:16:42\n",
       "\n",
       "\n"
      ],
      "text/plain": [
       "[1] 1-Aug-17 0:11:00 1-Aug-17 0:19:31 1-Aug-17 0:34:32 1-Aug-17 0:44:10\n",
       "[5] 1-Aug-17 1:08:04 1-Aug-17 1:16:42\n",
       "32642 Levels: 10-Aug-17 0:08:03 10-Aug-17 0:11:52 ... 9-Aug-17 9:59:33"
      ]
     },
     "metadata": {},
     "output_type": "display_data"
    }
   ],
   "source": [
    "head(test$created_at)"
   ]
  },
  {
   "cell_type": "code",
   "execution_count": 207,
   "metadata": {
    "collapsed": true
   },
   "outputs": [],
   "source": [
    "ADD_THIS_created_at = sapply(as.character(test$created_at), function(rd){\n",
    "    if (is.na(rd) | nchar(rd)<5) {NA} else {\n",
    "    ssplit = strsplit(rd,' ')[[1]]\n",
    "    a = strsplit(ssplit[1],'-')[[1]]\n",
    "    aa = as.Date(paste0(which(month.abb==a[2]),'/',a[1],'/',a[3]),'%m/%d/%y')\n",
    "    numericdate = as.numeric(aa-d0)\n",
    "    b = strsplit(ssplit[2],':')[[1]]\n",
    "    dayseconds = 24*60*60\n",
    "    numerator = as.numeric(b[1])*3600+as.numeric(b[2])*60+as.numeric(b[3])\n",
    "    numericdate + (numerator/dayseconds)\n",
    "    }\n",
    "})"
   ]
  },
  {
   "cell_type": "code",
   "execution_count": 208,
   "metadata": {},
   "outputs": [
    {
     "data": {
      "text/html": [
       "<dl class=dl-horizontal>\n",
       "\t<dt>1-Aug-17 0:11:00</dt>\n",
       "\t\t<dd>42948.0076388889</dd>\n",
       "\t<dt>1-Aug-17 0:19:31</dt>\n",
       "\t\t<dd>42948.0135532407</dd>\n",
       "\t<dt>1-Aug-17 0:34:32</dt>\n",
       "\t\t<dd>42948.0239814815</dd>\n",
       "\t<dt>1-Aug-17 0:44:10</dt>\n",
       "\t\t<dd>42948.0306712963</dd>\n",
       "\t<dt>1-Aug-17 1:08:04</dt>\n",
       "\t\t<dd>42948.0472685185</dd>\n",
       "\t<dt>1-Aug-17 1:16:42</dt>\n",
       "\t\t<dd>42948.0532638889</dd>\n",
       "</dl>\n"
      ],
      "text/latex": [
       "\\begin{description*}\n",
       "\\item[1-Aug-17 0:11:00] 42948.0076388889\n",
       "\\item[1-Aug-17 0:19:31] 42948.0135532407\n",
       "\\item[1-Aug-17 0:34:32] 42948.0239814815\n",
       "\\item[1-Aug-17 0:44:10] 42948.0306712963\n",
       "\\item[1-Aug-17 1:08:04] 42948.0472685185\n",
       "\\item[1-Aug-17 1:16:42] 42948.0532638889\n",
       "\\end{description*}\n"
      ],
      "text/markdown": [
       "1-Aug-17 0:11:00\n",
       ":   42948.00763888891-Aug-17 0:19:31\n",
       ":   42948.01355324071-Aug-17 0:34:32\n",
       ":   42948.02398148151-Aug-17 0:44:10\n",
       ":   42948.03067129631-Aug-17 1:08:04\n",
       ":   42948.04726851851-Aug-17 1:16:42\n",
       ":   42948.0532638889\n",
       "\n"
      ],
      "text/plain": [
       "1-Aug-17 0:11:00 1-Aug-17 0:19:31 1-Aug-17 0:34:32 1-Aug-17 0:44:10 \n",
       "        42948.01         42948.01         42948.02         42948.03 \n",
       "1-Aug-17 1:08:04 1-Aug-17 1:16:42 \n",
       "        42948.05         42948.05 "
      ]
     },
     "metadata": {},
     "output_type": "display_data"
    }
   ],
   "source": [
    "head(ADD_THIS_created_at)"
   ]
  },
  {
   "cell_type": "code",
   "execution_count": 209,
   "metadata": {},
   "outputs": [
    {
     "data": {
      "text/html": [
       "FALSE"
      ],
      "text/latex": [
       "FALSE"
      ],
      "text/markdown": [
       "FALSE"
      ],
      "text/plain": [
       "[1] FALSE"
      ]
     },
     "metadata": {},
     "output_type": "display_data"
    }
   ],
   "source": [
    "any(is.na(ADD_THIS_created_at))"
   ]
  },
  {
   "cell_type": "code",
   "execution_count": 210,
   "metadata": {},
   "outputs": [
    {
     "data": {
      "text/html": [
       "<ol class=list-inline>\n",
       "\t<li>1-Aug-17 0:30:20</li>\n",
       "\t<li>1-Aug-17 0:31:10</li>\n",
       "\t<li>1-Aug-17 0:41:12</li>\n",
       "\t<li>1-Aug-17 0:49:34</li>\n",
       "\t<li>1-Aug-17 1:20:19</li>\n",
       "\t<li>1-Aug-17 1:23:44</li>\n",
       "</ol>\n"
      ],
      "text/latex": [
       "\\begin{enumerate*}\n",
       "\\item 1-Aug-17 0:30:20\n",
       "\\item 1-Aug-17 0:31:10\n",
       "\\item 1-Aug-17 0:41:12\n",
       "\\item 1-Aug-17 0:49:34\n",
       "\\item 1-Aug-17 1:20:19\n",
       "\\item 1-Aug-17 1:23:44\n",
       "\\end{enumerate*}\n"
      ],
      "text/markdown": [
       "1. 1-Aug-17 0:30:20\n",
       "2. 1-Aug-17 0:31:10\n",
       "3. 1-Aug-17 0:41:12\n",
       "4. 1-Aug-17 0:49:34\n",
       "5. 1-Aug-17 1:20:19\n",
       "6. 1-Aug-17 1:23:44\n",
       "\n",
       "\n"
      ],
      "text/plain": [
       "[1] 1-Aug-17 0:30:20 1-Aug-17 0:31:10 1-Aug-17 0:41:12 1-Aug-17 0:49:34\n",
       "[5] 1-Aug-17 1:20:19 1-Aug-17 1:23:44\n",
       "32648 Levels:  10-Aug-17 0:02:54 10-Aug-17 0:04:38 ... 9-Aug-17 9:58:19"
      ]
     },
     "metadata": {},
     "output_type": "display_data"
    }
   ],
   "source": [
    "head(test$form_finished_at)"
   ]
  },
  {
   "cell_type": "code",
   "execution_count": 211,
   "metadata": {
    "collapsed": true
   },
   "outputs": [],
   "source": [
    "ADD_THIS_form_finished_at = sapply(as.character(test$form_finished_at), function(rd){\n",
    "    if (is.na(rd) | nchar(rd)<5) {NA} else {\n",
    "    ssplit = strsplit(rd,' ')[[1]]\n",
    "    a = strsplit(ssplit[1],'-')[[1]]\n",
    "    aa = as.Date(paste0(which(month.abb==a[2]),'/',a[1],'/',a[3]),'%m/%d/%y')\n",
    "    numericdate = as.numeric(aa-d0)\n",
    "    b = strsplit(ssplit[2],':')[[1]]\n",
    "    dayseconds = 24*60*60\n",
    "    numerator = as.numeric(b[1])*3600+as.numeric(b[2])*60+as.numeric(b[3])\n",
    "    numericdate + (numerator/dayseconds)\n",
    "    }\n",
    "})"
   ]
  },
  {
   "cell_type": "code",
   "execution_count": 212,
   "metadata": {},
   "outputs": [
    {
     "data": {
      "text/html": [
       "<dl class=dl-horizontal>\n",
       "\t<dt>1-Aug-17 0:30:20</dt>\n",
       "\t\t<dd>42948.0210648148</dd>\n",
       "\t<dt>1-Aug-17 0:31:10</dt>\n",
       "\t\t<dd>42948.0216435185</dd>\n",
       "\t<dt>1-Aug-17 0:41:12</dt>\n",
       "\t\t<dd>42948.0286111111</dd>\n",
       "\t<dt>1-Aug-17 0:49:34</dt>\n",
       "\t\t<dd>42948.0344212963</dd>\n",
       "\t<dt>1-Aug-17 1:20:19</dt>\n",
       "\t\t<dd>42948.055775463</dd>\n",
       "\t<dt>1-Aug-17 1:23:44</dt>\n",
       "\t\t<dd>42948.0581481481</dd>\n",
       "</dl>\n"
      ],
      "text/latex": [
       "\\begin{description*}\n",
       "\\item[1-Aug-17 0:30:20] 42948.0210648148\n",
       "\\item[1-Aug-17 0:31:10] 42948.0216435185\n",
       "\\item[1-Aug-17 0:41:12] 42948.0286111111\n",
       "\\item[1-Aug-17 0:49:34] 42948.0344212963\n",
       "\\item[1-Aug-17 1:20:19] 42948.055775463\n",
       "\\item[1-Aug-17 1:23:44] 42948.0581481481\n",
       "\\end{description*}\n"
      ],
      "text/markdown": [
       "1-Aug-17 0:30:20\n",
       ":   42948.02106481481-Aug-17 0:31:10\n",
       ":   42948.02164351851-Aug-17 0:41:12\n",
       ":   42948.02861111111-Aug-17 0:49:34\n",
       ":   42948.03442129631-Aug-17 1:20:19\n",
       ":   42948.0557754631-Aug-17 1:23:44\n",
       ":   42948.0581481481\n",
       "\n"
      ],
      "text/plain": [
       "1-Aug-17 0:30:20 1-Aug-17 0:31:10 1-Aug-17 0:41:12 1-Aug-17 0:49:34 \n",
       "        42948.02         42948.02         42948.03         42948.03 \n",
       "1-Aug-17 1:20:19 1-Aug-17 1:23:44 \n",
       "        42948.06         42948.06 "
      ]
     },
     "metadata": {},
     "output_type": "display_data"
    }
   ],
   "source": [
    "head(ADD_THIS_form_finished_at)"
   ]
  },
  {
   "cell_type": "code",
   "execution_count": 213,
   "metadata": {},
   "outputs": [
    {
     "data": {
      "text/html": [
       "TRUE"
      ],
      "text/latex": [
       "TRUE"
      ],
      "text/markdown": [
       "TRUE"
      ],
      "text/plain": [
       "[1] TRUE"
      ]
     },
     "metadata": {},
     "output_type": "display_data"
    }
   ],
   "source": [
    "any(is.na(ADD_THIS_form_finished_at))"
   ]
  },
  {
   "cell_type": "markdown",
   "metadata": {},
   "source": [
    "### Imputacja zbioru testowego"
   ]
  },
  {
   "cell_type": "code",
   "execution_count": 214,
   "metadata": {
    "collapsed": true
   },
   "outputs": [],
   "source": [
    "#wszystkie atrybuty numeryczne i integery (factory są już obsłużone przez NA)\n",
    "test_numerics = which(sapply(test2,class)%in%c('numeric','integer'))\n",
    "#wszystkie z NA\n",
    "t = test_numerics[which(sapply(test2[,test_numerics],function(x)any(is.na(x))))]"
   ]
  },
  {
   "cell_type": "code",
   "execution_count": 215,
   "metadata": {},
   "outputs": [
    {
     "data": {
      "text/html": [
       "<ol class=list-inline>\n",
       "\t<li>'LastCall__c'</li>\n",
       "\t<li>'mileage'</li>\n",
       "\t<li>'car_worth'</li>\n",
       "\t<li>'ac_offers_qty'</li>\n",
       "\t<li>'b2c_leads_sent'</li>\n",
       "\t<li>'offer_last_at'</li>\n",
       "\t<li>'Account__r.PersonBirthdate'</li>\n",
       "\t<li>'CarEngineCapacity__c'</li>\n",
       "\t<li>'CarYear__c'</li>\n",
       "\t<li>'PolicyStartDate__c'</li>\n",
       "</ol>\n"
      ],
      "text/latex": [
       "\\begin{enumerate*}\n",
       "\\item 'LastCall\\_\\_c'\n",
       "\\item 'mileage'\n",
       "\\item 'car\\_worth'\n",
       "\\item 'ac\\_offers\\_qty'\n",
       "\\item 'b2c\\_leads\\_sent'\n",
       "\\item 'offer\\_last\\_at'\n",
       "\\item 'Account\\_\\_r.PersonBirthdate'\n",
       "\\item 'CarEngineCapacity\\_\\_c'\n",
       "\\item 'CarYear\\_\\_c'\n",
       "\\item 'PolicyStartDate\\_\\_c'\n",
       "\\end{enumerate*}\n"
      ],
      "text/markdown": [
       "1. 'LastCall__c'\n",
       "2. 'mileage'\n",
       "3. 'car_worth'\n",
       "4. 'ac_offers_qty'\n",
       "5. 'b2c_leads_sent'\n",
       "6. 'offer_last_at'\n",
       "7. 'Account__r.PersonBirthdate'\n",
       "8. 'CarEngineCapacity__c'\n",
       "9. 'CarYear__c'\n",
       "10. 'PolicyStartDate__c'\n",
       "\n",
       "\n"
      ],
      "text/plain": [
       " [1] \"LastCall__c\"                \"mileage\"                   \n",
       " [3] \"car_worth\"                  \"ac_offers_qty\"             \n",
       " [5] \"b2c_leads_sent\"             \"offer_last_at\"             \n",
       " [7] \"Account__r.PersonBirthdate\" \"CarEngineCapacity__c\"      \n",
       " [9] \"CarYear__c\"                 \"PolicyStartDate__c\"        "
      ]
     },
     "metadata": {},
     "output_type": "display_data"
    }
   ],
   "source": [
    "colnames(test2)[t]"
   ]
  },
  {
   "cell_type": "code",
   "execution_count": 216,
   "metadata": {},
   "outputs": [
    {
     "data": {
      "image/png": "[encoded data removed]",
      "text/plain": [
       "Plot with title “PolicyStartDate__c”"
      ]
     },
     "metadata": {},
     "output_type": "display_data"
    }
   ],
   "source": [
    "#troche mniej NA w numerycznych predyktorach. pokażę teraz histogramy dla zmiennych, tak dla jaj\n",
    "par(mfrow=c(4,3))\n",
    "for (i in t){\n",
    "    hist(test2[,i],main=colnames(test2)[i])\n",
    "}"
   ]
  },
  {
   "cell_type": "code",
   "execution_count": 217,
   "metadata": {
    "collapsed": true
   },
   "outputs": [],
   "source": [
    "# znowu używam średniej do imputacji wartości. niezbyt mądre, ale cholernie szybkie\n",
    "for (i in t){\n",
    "    missing = which(is.na(test2[,i]))\n",
    "    test2[missing,i] = as.integer(mean(test2[-missing,i]))\n",
    "}"
   ]
  },
  {
   "cell_type": "code",
   "execution_count": 218,
   "metadata": {},
   "outputs": [
    {
     "data": {
      "text/html": [
       "FALSE"
      ],
      "text/latex": [
       "FALSE"
      ],
      "text/markdown": [
       "FALSE"
      ],
      "text/plain": [
       "[1] FALSE"
      ]
     },
     "metadata": {},
     "output_type": "display_data"
    }
   ],
   "source": [
    "any(sapply(test2,function(t2)any(is.na(t2))))"
   ]
  },
  {
   "cell_type": "code",
   "execution_count": 219,
   "metadata": {
    "collapsed": true
   },
   "outputs": [],
   "source": [
    "#wszystko zaimputowane. wszystkie kolumny przekonwertowane do dobrych typow, kody pocztowe zamienione,\n",
    "#zatem w tym momencie mogę wyznaczać scoring (na ramce test2)"
   ]
  },
  {
   "cell_type": "markdown",
   "metadata": {},
   "source": [
    "### Nowe predyktory (wg zbioru train4eml)"
   ]
  },
  {
   "cell_type": "code",
   "execution_count": 252,
   "metadata": {
    "scrolled": true
   },
   "outputs": [
    {
     "data": {
      "text/html": [
       "<ol class=list-inline>\n",
       "\t<li>TRUE</li>\n",
       "\t<li>TRUE</li>\n",
       "\t<li>TRUE</li>\n",
       "\t<li>TRUE</li>\n",
       "\t<li>TRUE</li>\n",
       "\t<li>TRUE</li>\n",
       "\t<li>TRUE</li>\n",
       "\t<li>TRUE</li>\n",
       "\t<li>TRUE</li>\n",
       "\t<li>TRUE</li>\n",
       "\t<li>TRUE</li>\n",
       "\t<li>TRUE</li>\n",
       "\t<li>TRUE</li>\n",
       "\t<li>TRUE</li>\n",
       "\t<li>TRUE</li>\n",
       "\t<li>TRUE</li>\n",
       "\t<li>TRUE</li>\n",
       "\t<li>TRUE</li>\n",
       "\t<li>TRUE</li>\n",
       "\t<li>TRUE</li>\n",
       "\t<li>TRUE</li>\n",
       "\t<li>TRUE</li>\n",
       "\t<li>TRUE</li>\n",
       "\t<li>TRUE</li>\n",
       "\t<li>TRUE</li>\n",
       "\t<li>TRUE</li>\n",
       "\t<li>TRUE</li>\n",
       "\t<li>TRUE</li>\n",
       "\t<li>TRUE</li>\n",
       "\t<li>TRUE</li>\n",
       "\t<li>TRUE</li>\n",
       "\t<li>TRUE</li>\n",
       "\t<li>TRUE</li>\n",
       "\t<li>TRUE</li>\n",
       "\t<li>TRUE</li>\n",
       "\t<li>TRUE</li>\n",
       "\t<li>TRUE</li>\n",
       "\t<li>TRUE</li>\n",
       "\t<li>TRUE</li>\n",
       "\t<li>TRUE</li>\n",
       "\t<li>TRUE</li>\n",
       "\t<li>TRUE</li>\n",
       "\t<li>TRUE</li>\n",
       "\t<li>TRUE</li>\n",
       "\t<li>TRUE</li>\n",
       "\t<li>TRUE</li>\n",
       "\t<li>TRUE</li>\n",
       "\t<li>TRUE</li>\n",
       "\t<li>TRUE</li>\n",
       "\t<li>TRUE</li>\n",
       "\t<li>TRUE</li>\n",
       "\t<li>TRUE</li>\n",
       "\t<li>TRUE</li>\n",
       "\t<li>TRUE</li>\n",
       "\t<li>TRUE</li>\n",
       "\t<li>TRUE</li>\n",
       "\t<li>TRUE</li>\n",
       "\t<li>TRUE</li>\n",
       "\t<li>TRUE</li>\n",
       "\t<li>TRUE</li>\n",
       "</ol>\n"
      ],
      "text/latex": [
       "\\begin{enumerate*}\n",
       "\\item TRUE\n",
       "\\item TRUE\n",
       "\\item TRUE\n",
       "\\item TRUE\n",
       "\\item TRUE\n",
       "\\item TRUE\n",
       "\\item TRUE\n",
       "\\item TRUE\n",
       "\\item TRUE\n",
       "\\item TRUE\n",
       "\\item TRUE\n",
       "\\item TRUE\n",
       "\\item TRUE\n",
       "\\item TRUE\n",
       "\\item TRUE\n",
       "\\item TRUE\n",
       "\\item TRUE\n",
       "\\item TRUE\n",
       "\\item TRUE\n",
       "\\item TRUE\n",
       "\\item TRUE\n",
       "\\item TRUE\n",
       "\\item TRUE\n",
       "\\item TRUE\n",
       "\\item TRUE\n",
       "\\item TRUE\n",
       "\\item TRUE\n",
       "\\item TRUE\n",
       "\\item TRUE\n",
       "\\item TRUE\n",
       "\\item TRUE\n",
       "\\item TRUE\n",
       "\\item TRUE\n",
       "\\item TRUE\n",
       "\\item TRUE\n",
       "\\item TRUE\n",
       "\\item TRUE\n",
       "\\item TRUE\n",
       "\\item TRUE\n",
       "\\item TRUE\n",
       "\\item TRUE\n",
       "\\item TRUE\n",
       "\\item TRUE\n",
       "\\item TRUE\n",
       "\\item TRUE\n",
       "\\item TRUE\n",
       "\\item TRUE\n",
       "\\item TRUE\n",
       "\\item TRUE\n",
       "\\item TRUE\n",
       "\\item TRUE\n",
       "\\item TRUE\n",
       "\\item TRUE\n",
       "\\item TRUE\n",
       "\\item TRUE\n",
       "\\item TRUE\n",
       "\\item TRUE\n",
       "\\item TRUE\n",
       "\\item TRUE\n",
       "\\item TRUE\n",
       "\\end{enumerate*}\n"
      ],
      "text/markdown": [
       "1. TRUE\n",
       "2. TRUE\n",
       "3. TRUE\n",
       "4. TRUE\n",
       "5. TRUE\n",
       "6. TRUE\n",
       "7. TRUE\n",
       "8. TRUE\n",
       "9. TRUE\n",
       "10. TRUE\n",
       "11. TRUE\n",
       "12. TRUE\n",
       "13. TRUE\n",
       "14. TRUE\n",
       "15. TRUE\n",
       "16. TRUE\n",
       "17. TRUE\n",
       "18. TRUE\n",
       "19. TRUE\n",
       "20. TRUE\n",
       "21. TRUE\n",
       "22. TRUE\n",
       "23. TRUE\n",
       "24. TRUE\n",
       "25. TRUE\n",
       "26. TRUE\n",
       "27. TRUE\n",
       "28. TRUE\n",
       "29. TRUE\n",
       "30. TRUE\n",
       "31. TRUE\n",
       "32. TRUE\n",
       "33. TRUE\n",
       "34. TRUE\n",
       "35. TRUE\n",
       "36. TRUE\n",
       "37. TRUE\n",
       "38. TRUE\n",
       "39. TRUE\n",
       "40. TRUE\n",
       "41. TRUE\n",
       "42. TRUE\n",
       "43. TRUE\n",
       "44. TRUE\n",
       "45. TRUE\n",
       "46. TRUE\n",
       "47. TRUE\n",
       "48. TRUE\n",
       "49. TRUE\n",
       "50. TRUE\n",
       "51. TRUE\n",
       "52. TRUE\n",
       "53. TRUE\n",
       "54. TRUE\n",
       "55. TRUE\n",
       "56. TRUE\n",
       "57. TRUE\n",
       "58. TRUE\n",
       "59. TRUE\n",
       "60. TRUE\n",
       "\n",
       "\n"
      ],
      "text/plain": [
       " [1] TRUE TRUE TRUE TRUE TRUE TRUE TRUE TRUE TRUE TRUE TRUE TRUE TRUE TRUE TRUE\n",
       "[16] TRUE TRUE TRUE TRUE TRUE TRUE TRUE TRUE TRUE TRUE TRUE TRUE TRUE TRUE TRUE\n",
       "[31] TRUE TRUE TRUE TRUE TRUE TRUE TRUE TRUE TRUE TRUE TRUE TRUE TRUE TRUE TRUE\n",
       "[46] TRUE TRUE TRUE TRUE TRUE TRUE TRUE TRUE TRUE TRUE TRUE TRUE TRUE TRUE TRUE"
      ]
     },
     "metadata": {},
     "output_type": "display_data"
    }
   ],
   "source": [
    "colnames(test2)==head(colnames(train4),-1)"
   ]
  },
  {
   "cell_type": "code",
   "execution_count": 253,
   "metadata": {
    "collapsed": true,
    "scrolled": true
   },
   "outputs": [],
   "source": [
    "test2m = test2\n",
    "test2m$contactDifference = (test2m$LastCall__c)-(test2m$ADD_THIS_form_finished_at)"
   ]
  },
  {
   "cell_type": "code",
   "execution_count": null,
   "metadata": {
    "collapsed": true
   },
   "outputs": [],
   "source": [
    "test2m$contactDifference[is.na(test2m$contactDifference)] = mean(test2m$contactDifference[!is.na(test2m$contactDifference)])"
   ]
  },
  {
   "cell_type": "code",
   "execution_count": 254,
   "metadata": {
    "collapsed": true
   },
   "outputs": [],
   "source": [
    "test2m$timeWaiting = (test2m$offer_last_after)-(test2m$offer_first_after)"
   ]
  },
  {
   "cell_type": "code",
   "execution_count": 256,
   "metadata": {
    "collapsed": true
   },
   "outputs": [],
   "source": [
    "test2m$hurryTime = (test2m$PolicyStartDate__c)-(ADD_THIS_created_at)"
   ]
  },
  {
   "cell_type": "code",
   "execution_count": 257,
   "metadata": {
    "collapsed": true
   },
   "outputs": [],
   "source": [
    "#czas wypelniania ankiety"
   ]
  },
  {
   "cell_type": "code",
   "execution_count": 258,
   "metadata": {
    "collapsed": true
   },
   "outputs": [],
   "source": [
    "formFillingTimet = (ADD_THIS_form_finished_at)-(ADD_THIS_created_at)\n",
    "test2m$formFillingTime = formFillingTimet"
   ]
  },
  {
   "cell_type": "code",
   "execution_count": 259,
   "metadata": {
    "collapsed": true
   },
   "outputs": [],
   "source": [
    "#imputacja\n",
    "test2m$formFillingTime[is.na(formFillingTimet)] = mean(test2m$formFillingTime[!is.na(formFillingTimet)])"
   ]
  },
  {
   "cell_type": "markdown",
   "metadata": {},
   "source": [
    "### Obniżone levele factorow - tylko te factory, które coś wniosą do modelu"
   ]
  },
  {
   "cell_type": "code",
   "execution_count": 260,
   "metadata": {
    "scrolled": true
   },
   "outputs": [
    {
     "data": {
      "text/html": [
       "<dl class=dl-horizontal>\n",
       "\t<dt>LastCall__c</dt>\n",
       "\t\t<dd>0</dd>\n",
       "\t<dt>etx_make_name</dt>\n",
       "\t\t<dd>63</dd>\n",
       "\t<dt>etx_model_name</dt>\n",
       "\t\t<dd>637</dd>\n",
       "\t<dt>etx_fuel_code</dt>\n",
       "\t\t<dd>6</dd>\n",
       "\t<dt>production_year</dt>\n",
       "\t\t<dd>0</dd>\n",
       "\t<dt>protection_scope</dt>\n",
       "\t\t<dd>2</dd>\n",
       "\t<dt>kind</dt>\n",
       "\t\t<dd>2</dd>\n",
       "\t<dt>use_frequency</dt>\n",
       "\t\t<dd>2</dd>\n",
       "\t<dt>child_carriage_frequency</dt>\n",
       "\t\t<dd>3</dd>\n",
       "\t<dt>mileage</dt>\n",
       "\t\t<dd>0</dd>\n",
       "\t<dt>yearly_mileage</dt>\n",
       "\t\t<dd>0</dd>\n",
       "\t<dt>used_abroad</dt>\n",
       "\t\t<dd>0</dd>\n",
       "\t<dt>night_parking_place</dt>\n",
       "\t\t<dd>7</dd>\n",
       "\t<dt>night_parking_place_postal_code</dt>\n",
       "\t\t<dd>31</dd>\n",
       "\t<dt>day_parking_place</dt>\n",
       "\t\t<dd>7</dd>\n",
       "\t<dt>day_parking_place_postal_code</dt>\n",
       "\t\t<dd>30</dd>\n",
       "\t<dt>theft_protection_installation</dt>\n",
       "\t\t<dd>5</dd>\n",
       "\t<dt>theft_protection_device_1</dt>\n",
       "\t\t<dd>4</dd>\n",
       "\t<dt>theft_protection_device_2</dt>\n",
       "\t\t<dd>5</dd>\n",
       "\t<dt>origin</dt>\n",
       "\t\t<dd>5</dd>\n",
       "\t<dt>buy_year</dt>\n",
       "\t\t<dd>0</dd>\n",
       "\t<dt>registration_date</dt>\n",
       "\t\t<dd>0</dd>\n",
       "\t<dt>car_worth</dt>\n",
       "\t\t<dd>0</dd>\n",
       "\t<dt>main_driver_postal_code</dt>\n",
       "\t\t<dd>31</dd>\n",
       "\t<dt>main_driver_age</dt>\n",
       "\t\t<dd>0</dd>\n",
       "\t<dt>main_driver_gender</dt>\n",
       "\t\t<dd>3</dd>\n",
       "\t<dt>phone_exists</dt>\n",
       "\t\t<dd>2</dd>\n",
       "\t<dt>step</dt>\n",
       "\t\t<dd>0</dd>\n",
       "\t<dt>oc_offer_min_val</dt>\n",
       "\t\t<dd>0</dd>\n",
       "\t<dt>ac_offers_qty</dt>\n",
       "\t\t<dd>0</dd>\n",
       "\t<dt>b2c_leads_sent</dt>\n",
       "\t\t<dd>0</dd>\n",
       "\t<dt>offer_last_at</dt>\n",
       "\t\t<dd>0</dd>\n",
       "\t<dt>offer_first_after</dt>\n",
       "\t\t<dd>0</dd>\n",
       "\t<dt>offer_last_after</dt>\n",
       "\t\t<dd>0</dd>\n",
       "\t<dt>phone_lookup_status</dt>\n",
       "\t\t<dd>0</dd>\n",
       "\t<dt>utm_campaign</dt>\n",
       "\t\t<dd>111</dd>\n",
       "\t<dt>utm_content</dt>\n",
       "\t\t<dd>285</dd>\n",
       "\t<dt>utm_medium</dt>\n",
       "\t\t<dd>32</dd>\n",
       "\t<dt>utm_source</dt>\n",
       "\t\t<dd>75</dd>\n",
       "\t<dt>went_to_partners</dt>\n",
       "\t\t<dd>0</dd>\n",
       "\t<dt>Acc_PhoneHLRStatus__c</dt>\n",
       "\t\t<dd>5</dd>\n",
       "\t<dt>Account__r.AccountSource</dt>\n",
       "\t\t<dd>18</dd>\n",
       "\t<dt>Account__r.AgreementMarketing__pc</dt>\n",
       "\t\t<dd>0</dd>\n",
       "\t<dt>Account__r.BillingCity</dt>\n",
       "\t\t<dd>5971</dd>\n",
       "\t<dt>Account__r.BillingPostalCode</dt>\n",
       "\t\t<dd>31</dd>\n",
       "\t<dt>Account__r.Gender__pc</dt>\n",
       "\t\t<dd>3</dd>\n",
       "\t<dt>Account__r.PersonBirthdate</dt>\n",
       "\t\t<dd>0</dd>\n",
       "\t<dt>Account__r.PhoneHLRStatus__pc</dt>\n",
       "\t\t<dd>5</dd>\n",
       "\t<dt>Account__r.PhoneNATStatus__pc</dt>\n",
       "\t\t<dd>5</dd>\n",
       "\t<dt>Account__r.Salutation</dt>\n",
       "\t\t<dd>4</dd>\n",
       "\t<dt>CarEngineCapacity__c</dt>\n",
       "\t\t<dd>0</dd>\n",
       "\t<dt>CarFuelType__c</dt>\n",
       "\t\t<dd>6</dd>\n",
       "\t<dt>CarYear__c</dt>\n",
       "\t\t<dd>0</dd>\n",
       "\t<dt>Mpc__c</dt>\n",
       "\t\t<dd>18</dd>\n",
       "\t<dt>PolicyStartDate__c</dt>\n",
       "\t\t<dd>0</dd>\n",
       "\t<dt>ProductScope__c</dt>\n",
       "\t\t<dd>4</dd>\n",
       "\t<dt>Source__c</dt>\n",
       "\t\t<dd>14</dd>\n",
       "\t<dt>WentToPartner__c</dt>\n",
       "\t\t<dd>0</dd>\n",
       "\t<dt>dont_have_this_car__c</dt>\n",
       "\t\t<dd>0</dd>\n",
       "\t<dt>TelehubStatus__c</dt>\n",
       "\t\t<dd>17</dd>\n",
       "\t<dt>contactDifference</dt>\n",
       "\t\t<dd>0</dd>\n",
       "\t<dt>timeWaiting</dt>\n",
       "\t\t<dd>0</dd>\n",
       "\t<dt>hurryTime</dt>\n",
       "\t\t<dd>0</dd>\n",
       "\t<dt>formFillingTime</dt>\n",
       "\t\t<dd>0</dd>\n",
       "</dl>\n"
      ],
      "text/latex": [
       "\\begin{description*}\n",
       "\\item[LastCall\\textbackslash{}\\_\\textbackslash{}\\_c] 0\n",
       "\\item[etx\\textbackslash{}\\_make\\textbackslash{}\\_name] 63\n",
       "\\item[etx\\textbackslash{}\\_model\\textbackslash{}\\_name] 637\n",
       "\\item[etx\\textbackslash{}\\_fuel\\textbackslash{}\\_code] 6\n",
       "\\item[production\\textbackslash{}\\_year] 0\n",
       "\\item[protection\\textbackslash{}\\_scope] 2\n",
       "\\item[kind] 2\n",
       "\\item[use\\textbackslash{}\\_frequency] 2\n",
       "\\item[child\\textbackslash{}\\_carriage\\textbackslash{}\\_frequency] 3\n",
       "\\item[mileage] 0\n",
       "\\item[yearly\\textbackslash{}\\_mileage] 0\n",
       "\\item[used\\textbackslash{}\\_abroad] 0\n",
       "\\item[night\\textbackslash{}\\_parking\\textbackslash{}\\_place] 7\n",
       "\\item[night\\textbackslash{}\\_parking\\textbackslash{}\\_place\\textbackslash{}\\_postal\\textbackslash{}\\_code] 31\n",
       "\\item[day\\textbackslash{}\\_parking\\textbackslash{}\\_place] 7\n",
       "\\item[day\\textbackslash{}\\_parking\\textbackslash{}\\_place\\textbackslash{}\\_postal\\textbackslash{}\\_code] 30\n",
       "\\item[theft\\textbackslash{}\\_protection\\textbackslash{}\\_installation] 5\n",
       "\\item[theft\\textbackslash{}\\_protection\\textbackslash{}\\_device\\textbackslash{}\\_1] 4\n",
       "\\item[theft\\textbackslash{}\\_protection\\textbackslash{}\\_device\\textbackslash{}\\_2] 5\n",
       "\\item[origin] 5\n",
       "\\item[buy\\textbackslash{}\\_year] 0\n",
       "\\item[registration\\textbackslash{}\\_date] 0\n",
       "\\item[car\\textbackslash{}\\_worth] 0\n",
       "\\item[main\\textbackslash{}\\_driver\\textbackslash{}\\_postal\\textbackslash{}\\_code] 31\n",
       "\\item[main\\textbackslash{}\\_driver\\textbackslash{}\\_age] 0\n",
       "\\item[main\\textbackslash{}\\_driver\\textbackslash{}\\_gender] 3\n",
       "\\item[phone\\textbackslash{}\\_exists] 2\n",
       "\\item[step] 0\n",
       "\\item[oc\\textbackslash{}\\_offer\\textbackslash{}\\_min\\textbackslash{}\\_val] 0\n",
       "\\item[ac\\textbackslash{}\\_offers\\textbackslash{}\\_qty] 0\n",
       "\\item[b2c\\textbackslash{}\\_leads\\textbackslash{}\\_sent] 0\n",
       "\\item[offer\\textbackslash{}\\_last\\textbackslash{}\\_at] 0\n",
       "\\item[offer\\textbackslash{}\\_first\\textbackslash{}\\_after] 0\n",
       "\\item[offer\\textbackslash{}\\_last\\textbackslash{}\\_after] 0\n",
       "\\item[phone\\textbackslash{}\\_lookup\\textbackslash{}\\_status] 0\n",
       "\\item[utm\\textbackslash{}\\_campaign] 111\n",
       "\\item[utm\\textbackslash{}\\_content] 285\n",
       "\\item[utm\\textbackslash{}\\_medium] 32\n",
       "\\item[utm\\textbackslash{}\\_source] 75\n",
       "\\item[went\\textbackslash{}\\_to\\textbackslash{}\\_partners] 0\n",
       "\\item[Acc\\textbackslash{}\\_PhoneHLRStatus\\textbackslash{}\\_\\textbackslash{}\\_c] 5\n",
       "\\item[Account\\textbackslash{}\\_\\textbackslash{}\\_r.AccountSource] 18\n",
       "\\item[Account\\textbackslash{}\\_\\textbackslash{}\\_r.AgreementMarketing\\textbackslash{}\\_\\textbackslash{}\\_pc] 0\n",
       "\\item[Account\\textbackslash{}\\_\\textbackslash{}\\_r.BillingCity] 5971\n",
       "\\item[Account\\textbackslash{}\\_\\textbackslash{}\\_r.BillingPostalCode] 31\n",
       "\\item[Account\\textbackslash{}\\_\\textbackslash{}\\_r.Gender\\textbackslash{}\\_\\textbackslash{}\\_pc] 3\n",
       "\\item[Account\\textbackslash{}\\_\\textbackslash{}\\_r.PersonBirthdate] 0\n",
       "\\item[Account\\textbackslash{}\\_\\textbackslash{}\\_r.PhoneHLRStatus\\textbackslash{}\\_\\textbackslash{}\\_pc] 5\n",
       "\\item[Account\\textbackslash{}\\_\\textbackslash{}\\_r.PhoneNATStatus\\textbackslash{}\\_\\textbackslash{}\\_pc] 5\n",
       "\\item[Account\\textbackslash{}\\_\\textbackslash{}\\_r.Salutation] 4\n",
       "\\item[CarEngineCapacity\\textbackslash{}\\_\\textbackslash{}\\_c] 0\n",
       "\\item[CarFuelType\\textbackslash{}\\_\\textbackslash{}\\_c] 6\n",
       "\\item[CarYear\\textbackslash{}\\_\\textbackslash{}\\_c] 0\n",
       "\\item[Mpc\\textbackslash{}\\_\\textbackslash{}\\_c] 18\n",
       "\\item[PolicyStartDate\\textbackslash{}\\_\\textbackslash{}\\_c] 0\n",
       "\\item[ProductScope\\textbackslash{}\\_\\textbackslash{}\\_c] 4\n",
       "\\item[Source\\textbackslash{}\\_\\textbackslash{}\\_c] 14\n",
       "\\item[WentToPartner\\textbackslash{}\\_\\textbackslash{}\\_c] 0\n",
       "\\item[dont\\textbackslash{}\\_have\\textbackslash{}\\_this\\textbackslash{}\\_car\\textbackslash{}\\_\\textbackslash{}\\_c] 0\n",
       "\\item[TelehubStatus\\textbackslash{}\\_\\textbackslash{}\\_c] 17\n",
       "\\item[contactDifference] 0\n",
       "\\item[timeWaiting] 0\n",
       "\\item[hurryTime] 0\n",
       "\\item[formFillingTime] 0\n",
       "\\end{description*}\n"
      ],
      "text/markdown": [
       "LastCall__c\n",
       ":   0etx_make_name\n",
       ":   63etx_model_name\n",
       ":   637etx_fuel_code\n",
       ":   6production_year\n",
       ":   0protection_scope\n",
       ":   2kind\n",
       ":   2use_frequency\n",
       ":   2child_carriage_frequency\n",
       ":   3mileage\n",
       ":   0yearly_mileage\n",
       ":   0used_abroad\n",
       ":   0night_parking_place\n",
       ":   7night_parking_place_postal_code\n",
       ":   31day_parking_place\n",
       ":   7day_parking_place_postal_code\n",
       ":   30theft_protection_installation\n",
       ":   5theft_protection_device_1\n",
       ":   4theft_protection_device_2\n",
       ":   5origin\n",
       ":   5buy_year\n",
       ":   0registration_date\n",
       ":   0car_worth\n",
       ":   0main_driver_postal_code\n",
       ":   31main_driver_age\n",
       ":   0main_driver_gender\n",
       ":   3phone_exists\n",
       ":   2step\n",
       ":   0oc_offer_min_val\n",
       ":   0ac_offers_qty\n",
       ":   0b2c_leads_sent\n",
       ":   0offer_last_at\n",
       ":   0offer_first_after\n",
       ":   0offer_last_after\n",
       ":   0phone_lookup_status\n",
       ":   0utm_campaign\n",
       ":   111utm_content\n",
       ":   285utm_medium\n",
       ":   32utm_source\n",
       ":   75went_to_partners\n",
       ":   0Acc_PhoneHLRStatus__c\n",
       ":   5Account__r.AccountSource\n",
       ":   18Account__r.AgreementMarketing__pc\n",
       ":   0Account__r.BillingCity\n",
       ":   5971Account__r.BillingPostalCode\n",
       ":   31Account__r.Gender__pc\n",
       ":   3Account__r.PersonBirthdate\n",
       ":   0Account__r.PhoneHLRStatus__pc\n",
       ":   5Account__r.PhoneNATStatus__pc\n",
       ":   5Account__r.Salutation\n",
       ":   4CarEngineCapacity__c\n",
       ":   0CarFuelType__c\n",
       ":   6CarYear__c\n",
       ":   0Mpc__c\n",
       ":   18PolicyStartDate__c\n",
       ":   0ProductScope__c\n",
       ":   4Source__c\n",
       ":   14WentToPartner__c\n",
       ":   0dont_have_this_car__c\n",
       ":   0TelehubStatus__c\n",
       ":   17contactDifference\n",
       ":   0timeWaiting\n",
       ":   0hurryTime\n",
       ":   0formFillingTime\n",
       ":   0\n",
       "\n"
      ],
      "text/plain": [
       "                      LastCall__c                     etx_make_name \n",
       "                                0                                63 \n",
       "                   etx_model_name                     etx_fuel_code \n",
       "                              637                                 6 \n",
       "                  production_year                  protection_scope \n",
       "                                0                                 2 \n",
       "                             kind                     use_frequency \n",
       "                                2                                 2 \n",
       "         child_carriage_frequency                           mileage \n",
       "                                3                                 0 \n",
       "                   yearly_mileage                       used_abroad \n",
       "                                0                                 0 \n",
       "              night_parking_place   night_parking_place_postal_code \n",
       "                                7                                31 \n",
       "                day_parking_place     day_parking_place_postal_code \n",
       "                                7                                30 \n",
       "    theft_protection_installation         theft_protection_device_1 \n",
       "                                5                                 4 \n",
       "        theft_protection_device_2                            origin \n",
       "                                5                                 5 \n",
       "                         buy_year                 registration_date \n",
       "                                0                                 0 \n",
       "                        car_worth           main_driver_postal_code \n",
       "                                0                                31 \n",
       "                  main_driver_age                main_driver_gender \n",
       "                                0                                 3 \n",
       "                     phone_exists                              step \n",
       "                                2                                 0 \n",
       "                 oc_offer_min_val                     ac_offers_qty \n",
       "                                0                                 0 \n",
       "                   b2c_leads_sent                     offer_last_at \n",
       "                                0                                 0 \n",
       "                offer_first_after                  offer_last_after \n",
       "                                0                                 0 \n",
       "              phone_lookup_status                      utm_campaign \n",
       "                                0                               111 \n",
       "                      utm_content                        utm_medium \n",
       "                              285                                32 \n",
       "                       utm_source                  went_to_partners \n",
       "                               75                                 0 \n",
       "            Acc_PhoneHLRStatus__c          Account__r.AccountSource \n",
       "                                5                                18 \n",
       "Account__r.AgreementMarketing__pc            Account__r.BillingCity \n",
       "                                0                              5971 \n",
       "     Account__r.BillingPostalCode             Account__r.Gender__pc \n",
       "                               31                                 3 \n",
       "       Account__r.PersonBirthdate     Account__r.PhoneHLRStatus__pc \n",
       "                                0                                 5 \n",
       "    Account__r.PhoneNATStatus__pc             Account__r.Salutation \n",
       "                                5                                 4 \n",
       "             CarEngineCapacity__c                    CarFuelType__c \n",
       "                                0                                 6 \n",
       "                       CarYear__c                            Mpc__c \n",
       "                                0                                18 \n",
       "               PolicyStartDate__c                   ProductScope__c \n",
       "                                0                                 4 \n",
       "                        Source__c                  WentToPartner__c \n",
       "                               14                                 0 \n",
       "            dont_have_this_car__c                  TelehubStatus__c \n",
       "                                0                                17 \n",
       "                contactDifference                       timeWaiting \n",
       "                                0                                 0 \n",
       "                        hurryTime                   formFillingTime \n",
       "                                0                                 0 "
      ]
     },
     "metadata": {},
     "output_type": "display_data"
    }
   ],
   "source": [
    "sapply(test2m,function(l)length(levels(l)))"
   ]
  },
  {
   "cell_type": "code",
   "execution_count": 261,
   "metadata": {
    "collapsed": true
   },
   "outputs": [],
   "source": [
    "#upraszczanie factorów Mpc__c"
   ]
  },
  {
   "cell_type": "code",
   "execution_count": 262,
   "metadata": {
    "collapsed": true
   },
   "outputs": [],
   "source": [
    "test2m$Mpc__c = as.factor(tolower(test2m$Mpc__c))\n",
    "test2m$Mpc__c = addNA(test2m$Mpc__c)"
   ]
  },
  {
   "cell_type": "code",
   "execution_count": 263,
   "metadata": {
    "collapsed": true
   },
   "outputs": [],
   "source": [
    "utm_campaign = sapply(test2m$utm_campaign, function(u){\n",
    "    u = tolower(as.character(u))\n",
    "    if (is.na(u)){NA}else if \n",
    "        (regexpr('mailing',u,ignore.case=T)>0) {\"mailing\"} else if \n",
    "        (regexpr('kalkulator',u,ignore.case=T)>0){\"kalkulator\"} else if \n",
    "        (regexpr('baner',u,ignore.case=T)>0){\"baner\"}  else if \n",
    "        (regexpr('sprzedany',u,ignore.case=T)>0){\"sprzedany\"} else\n",
    "            {u}\n",
    "})\n",
    "\n",
    "utm_campaign = as.factor(utm_campaign)\n",
    "utm_campaign = addNA(utm_campaign)\n",
    "test2m$utm_campaign = utm_campaign"
   ]
  },
  {
   "cell_type": "code",
   "execution_count": 264,
   "metadata": {
    "collapsed": true
   },
   "outputs": [],
   "source": [
    "utm_content = sapply(test2m$utm_content, function(u){\n",
    "    u = tolower(as.character(u))\n",
    "    if (is.na(u)){NA}else if \n",
    "        (regexpr('OC',u,ignore.case=T)>0) {\"OC\"} else if \n",
    "        (regexpr('button',u,ignore.case=T)>0){\"button\"} else\n",
    "            {u}\n",
    "})\n",
    "\n",
    "utm_content = as.factor(utm_content)\n",
    "utm_content = addNA(utm_content)\n",
    "test2m$utm_content = utm_content"
   ]
  },
  {
   "cell_type": "code",
   "execution_count": 265,
   "metadata": {
    "collapsed": true
   },
   "outputs": [],
   "source": [
    "utm_medium = sapply(test2m$utm_medium, function(u){\n",
    "    u = tolower(as.character(u))\n",
    "    if (is.na(u)){NA}else if \n",
    "        (regexpr('baner',u,ignore.case=T)>0) {\"baner\"} else if \n",
    "        (regexpr('banner',u,ignore.case=T)>0){\"baner\"} else if \n",
    "        (regexpr('link',u,ignore.case=T)>0){\"link\"} else\n",
    "            {u}\n",
    "})\n",
    "\n",
    "utm_medium = as.factor(utm_medium)\n",
    "utm_medium = addNA(utm_medium)\n",
    "test2m$utm_medium = utm_medium"
   ]
  },
  {
   "cell_type": "code",
   "execution_count": 266,
   "metadata": {
    "collapsed": true
   },
   "outputs": [],
   "source": [
    "salutation = sapply(test2m$Account__r.Salutation, function(u){\n",
    "    u = tolower(as.character(u))\n",
    "    if (is.na(u)){NA}else if \n",
    "        (regexpr('ms.',u,ignore.case=T)==1) {\"pani\"} else if \n",
    "        (regexpr('mr.',u,ignore.case=T)==1){\"pan\"} else if \n",
    "        (regexpr('brak',u,ignore.case=T)==1){NA} else\n",
    "            {u}\n",
    "})\n",
    "\n",
    "salutation = as.factor(salutation)\n",
    "salutation = addNA(salutation)\n",
    "test2m$Account__r.Salutation = salutation"
   ]
  },
  {
   "cell_type": "code",
   "execution_count": 267,
   "metadata": {
    "collapsed": true
   },
   "outputs": [],
   "source": [
    "utm_source = sapply(test2m$utm_source, function(u){\n",
    "    u = tolower(as.character(u))\n",
    "    if (is.na(u)){NA}else if \n",
    "        (regexpr('forum',u,ignore.case=T)>0) {\"forum\"} else if \n",
    "        (regexpr('cc',u,ignore.case=T)>0){\"cc\"}  else\n",
    "            {u}\n",
    "})\n",
    "\n",
    "utm_source = as.factor(utm_source)\n",
    "utm_source = addNA(utm_source)\n",
    "test2m$utm_source = utm_source"
   ]
  },
  {
   "cell_type": "markdown",
   "metadata": {},
   "source": [
    "### Dodanie is_damaged"
   ]
  },
  {
   "cell_type": "code",
   "execution_count": 268,
   "metadata": {
    "collapsed": true
   },
   "outputs": [],
   "source": [
    "test2m$is_damaged = as.factor(test$is_damaged)"
   ]
  },
  {
   "cell_type": "markdown",
   "metadata": {},
   "source": [
    "### Dodanie kolumn OC/AC"
   ]
  },
  {
   "cell_type": "code",
   "execution_count": 269,
   "metadata": {},
   "outputs": [],
   "source": [
    "test2m$oc_offer_min_val = test$oc_offer_min_val\n",
    "test2m$oc_offer_min_val[is.na(test2m$oc_offer_min_val)] = 0\n",
    "\n",
    "test2m$ac_offer_min_val = test$ac_offer_min_val\n",
    "test2m$ac_offer_min_val[is.na(test2m$ac_offer_min_val)] = 0\n",
    "\n",
    "test2m$oc_offers_qty = test$oc_offers_qty\n",
    "test2m$oc_offers_qty[is.na(test2m$oc_offers_qty)] = 0\n",
    "\n",
    "test2m$ac_offers_qty = test$ac_offers_qty\n",
    "test2m$ac_offers_qty[is.na(test2m$ac_offers_qty)] = 0\n",
    "\n",
    "test2m$ocacqty = test2m$oc_offers_qty + test2m$ac_offers_qty\n",
    "test2m$ocacminval = test2m$oc_offer_min_val + test2m$ac_offer_min_val\n",
    "test2m$ocacratio = (test2m$oc_offer_min_val) / (test2m$ac_offer_min_val)\n",
    "test2m$ocacratio[test2m$ac_offer_min_val==0] = 0"
   ]
  },
  {
   "cell_type": "code",
   "execution_count": 270,
   "metadata": {},
   "outputs": [
    {
     "data": {
      "text/html": [
       "FALSE"
      ],
      "text/latex": [
       "FALSE"
      ],
      "text/markdown": [
       "FALSE"
      ],
      "text/plain": [
       "[1] FALSE"
      ]
     },
     "metadata": {},
     "output_type": "display_data"
    },
    {
     "data": {
      "text/html": [
       "FALSE"
      ],
      "text/latex": [
       "FALSE"
      ],
      "text/markdown": [
       "FALSE"
      ],
      "text/plain": [
       "[1] FALSE"
      ]
     },
     "metadata": {},
     "output_type": "display_data"
    },
    {
     "data": {
      "text/html": [
       "FALSE"
      ],
      "text/latex": [
       "FALSE"
      ],
      "text/markdown": [
       "FALSE"
      ],
      "text/plain": [
       "[1] FALSE"
      ]
     },
     "metadata": {},
     "output_type": "display_data"
    },
    {
     "data": {
      "text/html": [
       "FALSE"
      ],
      "text/latex": [
       "FALSE"
      ],
      "text/markdown": [
       "FALSE"
      ],
      "text/plain": [
       "[1] FALSE"
      ]
     },
     "metadata": {},
     "output_type": "display_data"
    },
    {
     "data": {
      "text/html": [
       "FALSE"
      ],
      "text/latex": [
       "FALSE"
      ],
      "text/markdown": [
       "FALSE"
      ],
      "text/plain": [
       "[1] FALSE"
      ]
     },
     "metadata": {},
     "output_type": "display_data"
    },
    {
     "data": {
      "text/html": [
       "FALSE"
      ],
      "text/latex": [
       "FALSE"
      ],
      "text/markdown": [
       "FALSE"
      ],
      "text/plain": [
       "[1] FALSE"
      ]
     },
     "metadata": {},
     "output_type": "display_data"
    },
    {
     "data": {
      "text/html": [
       "FALSE"
      ],
      "text/latex": [
       "FALSE"
      ],
      "text/markdown": [
       "FALSE"
      ],
      "text/plain": [
       "[1] FALSE"
      ]
     },
     "metadata": {},
     "output_type": "display_data"
    }
   ],
   "source": [
    "any(is.na(test2m$oc_offer_min_val))\n",
    "any(is.na(test2m$ac_offer_min_val))\n",
    "any(is.na(test2m$oc_offers_qty))\n",
    "any(is.na(test2m$ac_offers_qty))\n",
    "any(is.na(test2m$ocacqty))\n",
    "any(is.na(test2m$ocacminval))\n",
    "any(is.na(test2m$ocacratio))"
   ]
  },
  {
   "cell_type": "code",
   "execution_count": 340,
   "metadata": {},
   "outputs": [
    {
     "data": {
      "text/html": [
       "<ol class=list-inline>\n",
       "\t<li>32967</li>\n",
       "\t<li>70</li>\n",
       "</ol>\n"
      ],
      "text/latex": [
       "\\begin{enumerate*}\n",
       "\\item 32967\n",
       "\\item 70\n",
       "\\end{enumerate*}\n"
      ],
      "text/markdown": [
       "1. 32967\n",
       "2. 70\n",
       "\n",
       "\n"
      ],
      "text/plain": [
       "[1] 32967    70"
      ]
     },
     "metadata": {},
     "output_type": "display_data"
    },
    {
     "data": {
      "text/html": [
       "<ol class=list-inline>\n",
       "\t<li>32967</li>\n",
       "\t<li>60</li>\n",
       "</ol>\n"
      ],
      "text/latex": [
       "\\begin{enumerate*}\n",
       "\\item 32967\n",
       "\\item 60\n",
       "\\end{enumerate*}\n"
      ],
      "text/markdown": [
       "1. 32967\n",
       "2. 60\n",
       "\n",
       "\n"
      ],
      "text/plain": [
       "[1] 32967    60"
      ]
     },
     "metadata": {},
     "output_type": "display_data"
    }
   ],
   "source": [
    "dim(test2m)\n",
    "dim(test2)"
   ]
  },
  {
   "cell_type": "code",
   "execution_count": 273,
   "metadata": {},
   "outputs": [],
   "source": [
    "mdtest2m = sparse.model.matrix(~.,test2m)"
   ]
  },
  {
   "cell_type": "code",
   "execution_count": 274,
   "metadata": {},
   "outputs": [
    {
     "data": {
      "text/html": [
       "<ol class=list-inline>\n",
       "\t<li>32967</li>\n",
       "\t<li>7136</li>\n",
       "</ol>\n"
      ],
      "text/latex": [
       "\\begin{enumerate*}\n",
       "\\item 32967\n",
       "\\item 7136\n",
       "\\end{enumerate*}\n"
      ],
      "text/markdown": [
       "1. 32967\n",
       "2. 7136\n",
       "\n",
       "\n"
      ],
      "text/plain": [
       "[1] 32967  7136"
      ]
     },
     "metadata": {},
     "output_type": "display_data"
    }
   ],
   "source": [
    "dim(mdtest2m)"
   ]
  },
  {
   "cell_type": "code",
   "execution_count": 308,
   "metadata": {},
   "outputs": [
    {
     "data": {
      "text/html": [
       "<ol class=list-inline>\n",
       "\t<li>'LastCall__c'</li>\n",
       "\t<li>'etx_make_name'</li>\n",
       "\t<li>'etx_model_name'</li>\n",
       "\t<li>'etx_fuel_code'</li>\n",
       "\t<li>'production_year'</li>\n",
       "\t<li>'protection_scope'</li>\n",
       "\t<li>'kind'</li>\n",
       "\t<li>'use_frequency'</li>\n",
       "\t<li>'child_carriage_frequency'</li>\n",
       "\t<li>'mileage'</li>\n",
       "\t<li>'yearly_mileage'</li>\n",
       "\t<li>'used_abroad'</li>\n",
       "\t<li>'night_parking_place'</li>\n",
       "\t<li>'night_parking_place_postal_code'</li>\n",
       "\t<li>'day_parking_place'</li>\n",
       "\t<li>'day_parking_place_postal_code'</li>\n",
       "\t<li>'theft_protection_installation'</li>\n",
       "\t<li>'theft_protection_device_1'</li>\n",
       "\t<li>'theft_protection_device_2'</li>\n",
       "\t<li>'origin'</li>\n",
       "\t<li>'buy_year'</li>\n",
       "\t<li>'registration_date'</li>\n",
       "\t<li>'car_worth'</li>\n",
       "\t<li>'main_driver_postal_code'</li>\n",
       "\t<li>'main_driver_age'</li>\n",
       "\t<li>'main_driver_gender'</li>\n",
       "\t<li>'phone_exists'</li>\n",
       "\t<li>'step'</li>\n",
       "\t<li>'oc_offer_min_val'</li>\n",
       "\t<li>'ac_offers_qty'</li>\n",
       "\t<li>'b2c_leads_sent'</li>\n",
       "\t<li>'offer_last_at'</li>\n",
       "\t<li>'offer_first_after'</li>\n",
       "\t<li>'offer_last_after'</li>\n",
       "\t<li>'phone_lookup_status'</li>\n",
       "\t<li>'utm_campaign'</li>\n",
       "\t<li>'utm_content'</li>\n",
       "\t<li>'utm_medium'</li>\n",
       "\t<li>'utm_source'</li>\n",
       "\t<li>'went_to_partners'</li>\n",
       "\t<li>'Acc_PhoneHLRStatus__c'</li>\n",
       "\t<li>'Account__r.AccountSource'</li>\n",
       "\t<li>'Account__r.AgreementMarketing__pc'</li>\n",
       "\t<li>'Account__r.BillingCity'</li>\n",
       "\t<li>'Account__r.BillingPostalCode'</li>\n",
       "\t<li>'Account__r.Gender__pc'</li>\n",
       "\t<li>'Account__r.PersonBirthdate'</li>\n",
       "\t<li>'Account__r.PhoneHLRStatus__pc'</li>\n",
       "\t<li>'Account__r.PhoneNATStatus__pc'</li>\n",
       "\t<li>'Account__r.Salutation'</li>\n",
       "\t<li>'CarEngineCapacity__c'</li>\n",
       "\t<li>'CarFuelType__c'</li>\n",
       "\t<li>'CarYear__c'</li>\n",
       "\t<li>'Mpc__c'</li>\n",
       "\t<li>'PolicyStartDate__c'</li>\n",
       "\t<li>'ProductScope__c'</li>\n",
       "\t<li>'Source__c'</li>\n",
       "\t<li>'WentToPartner__c'</li>\n",
       "\t<li>'dont_have_this_car__c'</li>\n",
       "\t<li>'TelehubStatus__c'</li>\n",
       "\t<li>'Sale.success'</li>\n",
       "\t<li>'contactDifference'</li>\n",
       "\t<li>'timeWaiting'</li>\n",
       "\t<li>'hurryTime'</li>\n",
       "\t<li>'formFillingTime'</li>\n",
       "\t<li>'is_damaged'</li>\n",
       "\t<li>'ac_offer_min_val'</li>\n",
       "\t<li>'oc_offers_qty'</li>\n",
       "\t<li>'ocacqty'</li>\n",
       "\t<li>'ocacminval'</li>\n",
       "\t<li>'ocacratio'</li>\n",
       "</ol>\n"
      ],
      "text/latex": [
       "\\begin{enumerate*}\n",
       "\\item 'LastCall\\_\\_c'\n",
       "\\item 'etx\\_make\\_name'\n",
       "\\item 'etx\\_model\\_name'\n",
       "\\item 'etx\\_fuel\\_code'\n",
       "\\item 'production\\_year'\n",
       "\\item 'protection\\_scope'\n",
       "\\item 'kind'\n",
       "\\item 'use\\_frequency'\n",
       "\\item 'child\\_carriage\\_frequency'\n",
       "\\item 'mileage'\n",
       "\\item 'yearly\\_mileage'\n",
       "\\item 'used\\_abroad'\n",
       "\\item 'night\\_parking\\_place'\n",
       "\\item 'night\\_parking\\_place\\_postal\\_code'\n",
       "\\item 'day\\_parking\\_place'\n",
       "\\item 'day\\_parking\\_place\\_postal\\_code'\n",
       "\\item 'theft\\_protection\\_installation'\n",
       "\\item 'theft\\_protection\\_device\\_1'\n",
       "\\item 'theft\\_protection\\_device\\_2'\n",
       "\\item 'origin'\n",
       "\\item 'buy\\_year'\n",
       "\\item 'registration\\_date'\n",
       "\\item 'car\\_worth'\n",
       "\\item 'main\\_driver\\_postal\\_code'\n",
       "\\item 'main\\_driver\\_age'\n",
       "\\item 'main\\_driver\\_gender'\n",
       "\\item 'phone\\_exists'\n",
       "\\item 'step'\n",
       "\\item 'oc\\_offer\\_min\\_val'\n",
       "\\item 'ac\\_offers\\_qty'\n",
       "\\item 'b2c\\_leads\\_sent'\n",
       "\\item 'offer\\_last\\_at'\n",
       "\\item 'offer\\_first\\_after'\n",
       "\\item 'offer\\_last\\_after'\n",
       "\\item 'phone\\_lookup\\_status'\n",
       "\\item 'utm\\_campaign'\n",
       "\\item 'utm\\_content'\n",
       "\\item 'utm\\_medium'\n",
       "\\item 'utm\\_source'\n",
       "\\item 'went\\_to\\_partners'\n",
       "\\item 'Acc\\_PhoneHLRStatus\\_\\_c'\n",
       "\\item 'Account\\_\\_r.AccountSource'\n",
       "\\item 'Account\\_\\_r.AgreementMarketing\\_\\_pc'\n",
       "\\item 'Account\\_\\_r.BillingCity'\n",
       "\\item 'Account\\_\\_r.BillingPostalCode'\n",
       "\\item 'Account\\_\\_r.Gender\\_\\_pc'\n",
       "\\item 'Account\\_\\_r.PersonBirthdate'\n",
       "\\item 'Account\\_\\_r.PhoneHLRStatus\\_\\_pc'\n",
       "\\item 'Account\\_\\_r.PhoneNATStatus\\_\\_pc'\n",
       "\\item 'Account\\_\\_r.Salutation'\n",
       "\\item 'CarEngineCapacity\\_\\_c'\n",
       "\\item 'CarFuelType\\_\\_c'\n",
       "\\item 'CarYear\\_\\_c'\n",
       "\\item 'Mpc\\_\\_c'\n",
       "\\item 'PolicyStartDate\\_\\_c'\n",
       "\\item 'ProductScope\\_\\_c'\n",
       "\\item 'Source\\_\\_c'\n",
       "\\item 'WentToPartner\\_\\_c'\n",
       "\\item 'dont\\_have\\_this\\_car\\_\\_c'\n",
       "\\item 'TelehubStatus\\_\\_c'\n",
       "\\item 'Sale.success'\n",
       "\\item 'contactDifference'\n",
       "\\item 'timeWaiting'\n",
       "\\item 'hurryTime'\n",
       "\\item 'formFillingTime'\n",
       "\\item 'is\\_damaged'\n",
       "\\item 'ac\\_offer\\_min\\_val'\n",
       "\\item 'oc\\_offers\\_qty'\n",
       "\\item 'ocacqty'\n",
       "\\item 'ocacminval'\n",
       "\\item 'ocacratio'\n",
       "\\end{enumerate*}\n"
      ],
      "text/markdown": [
       "1. 'LastCall__c'\n",
       "2. 'etx_make_name'\n",
       "3. 'etx_model_name'\n",
       "4. 'etx_fuel_code'\n",
       "5. 'production_year'\n",
       "6. 'protection_scope'\n",
       "7. 'kind'\n",
       "8. 'use_frequency'\n",
       "9. 'child_carriage_frequency'\n",
       "10. 'mileage'\n",
       "11. 'yearly_mileage'\n",
       "12. 'used_abroad'\n",
       "13. 'night_parking_place'\n",
       "14. 'night_parking_place_postal_code'\n",
       "15. 'day_parking_place'\n",
       "16. 'day_parking_place_postal_code'\n",
       "17. 'theft_protection_installation'\n",
       "18. 'theft_protection_device_1'\n",
       "19. 'theft_protection_device_2'\n",
       "20. 'origin'\n",
       "21. 'buy_year'\n",
       "22. 'registration_date'\n",
       "23. 'car_worth'\n",
       "24. 'main_driver_postal_code'\n",
       "25. 'main_driver_age'\n",
       "26. 'main_driver_gender'\n",
       "27. 'phone_exists'\n",
       "28. 'step'\n",
       "29. 'oc_offer_min_val'\n",
       "30. 'ac_offers_qty'\n",
       "31. 'b2c_leads_sent'\n",
       "32. 'offer_last_at'\n",
       "33. 'offer_first_after'\n",
       "34. 'offer_last_after'\n",
       "35. 'phone_lookup_status'\n",
       "36. 'utm_campaign'\n",
       "37. 'utm_content'\n",
       "38. 'utm_medium'\n",
       "39. 'utm_source'\n",
       "40. 'went_to_partners'\n",
       "41. 'Acc_PhoneHLRStatus__c'\n",
       "42. 'Account__r.AccountSource'\n",
       "43. 'Account__r.AgreementMarketing__pc'\n",
       "44. 'Account__r.BillingCity'\n",
       "45. 'Account__r.BillingPostalCode'\n",
       "46. 'Account__r.Gender__pc'\n",
       "47. 'Account__r.PersonBirthdate'\n",
       "48. 'Account__r.PhoneHLRStatus__pc'\n",
       "49. 'Account__r.PhoneNATStatus__pc'\n",
       "50. 'Account__r.Salutation'\n",
       "51. 'CarEngineCapacity__c'\n",
       "52. 'CarFuelType__c'\n",
       "53. 'CarYear__c'\n",
       "54. 'Mpc__c'\n",
       "55. 'PolicyStartDate__c'\n",
       "56. 'ProductScope__c'\n",
       "57. 'Source__c'\n",
       "58. 'WentToPartner__c'\n",
       "59. 'dont_have_this_car__c'\n",
       "60. 'TelehubStatus__c'\n",
       "61. 'Sale.success'\n",
       "62. 'contactDifference'\n",
       "63. 'timeWaiting'\n",
       "64. 'hurryTime'\n",
       "65. 'formFillingTime'\n",
       "66. 'is_damaged'\n",
       "67. 'ac_offer_min_val'\n",
       "68. 'oc_offers_qty'\n",
       "69. 'ocacqty'\n",
       "70. 'ocacminval'\n",
       "71. 'ocacratio'\n",
       "\n",
       "\n"
      ],
      "text/plain": [
       " [1] \"LastCall__c\"                       \"etx_make_name\"                    \n",
       " [3] \"etx_model_name\"                    \"etx_fuel_code\"                    \n",
       " [5] \"production_year\"                   \"protection_scope\"                 \n",
       " [7] \"kind\"                              \"use_frequency\"                    \n",
       " [9] \"child_carriage_frequency\"          \"mileage\"                          \n",
       "[11] \"yearly_mileage\"                    \"used_abroad\"                      \n",
       "[13] \"night_parking_place\"               \"night_parking_place_postal_code\"  \n",
       "[15] \"day_parking_place\"                 \"day_parking_place_postal_code\"    \n",
       "[17] \"theft_protection_installation\"     \"theft_protection_device_1\"        \n",
       "[19] \"theft_protection_device_2\"         \"origin\"                           \n",
       "[21] \"buy_year\"                          \"registration_date\"                \n",
       "[23] \"car_worth\"                         \"main_driver_postal_code\"          \n",
       "[25] \"main_driver_age\"                   \"main_driver_gender\"               \n",
       "[27] \"phone_exists\"                      \"step\"                             \n",
       "[29] \"oc_offer_min_val\"                  \"ac_offers_qty\"                    \n",
       "[31] \"b2c_leads_sent\"                    \"offer_last_at\"                    \n",
       "[33] \"offer_first_after\"                 \"offer_last_after\"                 \n",
       "[35] \"phone_lookup_status\"               \"utm_campaign\"                     \n",
       "[37] \"utm_content\"                       \"utm_medium\"                       \n",
       "[39] \"utm_source\"                        \"went_to_partners\"                 \n",
       "[41] \"Acc_PhoneHLRStatus__c\"             \"Account__r.AccountSource\"         \n",
       "[43] \"Account__r.AgreementMarketing__pc\" \"Account__r.BillingCity\"           \n",
       "[45] \"Account__r.BillingPostalCode\"      \"Account__r.Gender__pc\"            \n",
       "[47] \"Account__r.PersonBirthdate\"        \"Account__r.PhoneHLRStatus__pc\"    \n",
       "[49] \"Account__r.PhoneNATStatus__pc\"     \"Account__r.Salutation\"            \n",
       "[51] \"CarEngineCapacity__c\"              \"CarFuelType__c\"                   \n",
       "[53] \"CarYear__c\"                        \"Mpc__c\"                           \n",
       "[55] \"PolicyStartDate__c\"                \"ProductScope__c\"                  \n",
       "[57] \"Source__c\"                         \"WentToPartner__c\"                 \n",
       "[59] \"dont_have_this_car__c\"             \"TelehubStatus__c\"                 \n",
       "[61] \"Sale.success\"                      \"contactDifference\"                \n",
       "[63] \"timeWaiting\"                       \"hurryTime\"                        \n",
       "[65] \"formFillingTime\"                   \"is_damaged\"                       \n",
       "[67] \"ac_offer_min_val\"                  \"oc_offers_qty\"                    \n",
       "[69] \"ocacqty\"                           \"ocacminval\"                       \n",
       "[71] \"ocacratio\"                        "
      ]
     },
     "metadata": {},
     "output_type": "display_data"
    }
   ],
   "source": [
    "colnames(train4eml)"
   ]
  },
  {
   "cell_type": "code",
   "execution_count": 309,
   "metadata": {},
   "outputs": [
    {
     "data": {
      "text/html": [
       "<ol class=list-inline>\n",
       "\t<li>'LastCall__c'</li>\n",
       "\t<li>'etx_make_name'</li>\n",
       "\t<li>'etx_model_name'</li>\n",
       "\t<li>'etx_fuel_code'</li>\n",
       "\t<li>'production_year'</li>\n",
       "\t<li>'protection_scope'</li>\n",
       "\t<li>'kind'</li>\n",
       "\t<li>'use_frequency'</li>\n",
       "\t<li>'child_carriage_frequency'</li>\n",
       "\t<li>'mileage'</li>\n",
       "\t<li>'yearly_mileage'</li>\n",
       "\t<li>'used_abroad'</li>\n",
       "\t<li>'night_parking_place'</li>\n",
       "\t<li>'night_parking_place_postal_code'</li>\n",
       "\t<li>'day_parking_place'</li>\n",
       "\t<li>'day_parking_place_postal_code'</li>\n",
       "\t<li>'theft_protection_installation'</li>\n",
       "\t<li>'theft_protection_device_1'</li>\n",
       "\t<li>'theft_protection_device_2'</li>\n",
       "\t<li>'origin'</li>\n",
       "\t<li>'buy_year'</li>\n",
       "\t<li>'registration_date'</li>\n",
       "\t<li>'car_worth'</li>\n",
       "\t<li>'main_driver_postal_code'</li>\n",
       "\t<li>'main_driver_age'</li>\n",
       "\t<li>'main_driver_gender'</li>\n",
       "\t<li>'phone_exists'</li>\n",
       "\t<li>'step'</li>\n",
       "\t<li>'oc_offer_min_val'</li>\n",
       "\t<li>'ac_offers_qty'</li>\n",
       "\t<li>'b2c_leads_sent'</li>\n",
       "\t<li>'offer_last_at'</li>\n",
       "\t<li>'offer_first_after'</li>\n",
       "\t<li>'offer_last_after'</li>\n",
       "\t<li>'phone_lookup_status'</li>\n",
       "\t<li>'utm_campaign'</li>\n",
       "\t<li>'utm_content'</li>\n",
       "\t<li>'utm_medium'</li>\n",
       "\t<li>'utm_source'</li>\n",
       "\t<li>'went_to_partners'</li>\n",
       "\t<li>'Acc_PhoneHLRStatus__c'</li>\n",
       "\t<li>'Account__r.AccountSource'</li>\n",
       "\t<li>'Account__r.AgreementMarketing__pc'</li>\n",
       "\t<li>'Account__r.BillingCity'</li>\n",
       "\t<li>'Account__r.BillingPostalCode'</li>\n",
       "\t<li>'Account__r.Gender__pc'</li>\n",
       "\t<li>'Account__r.PersonBirthdate'</li>\n",
       "\t<li>'Account__r.PhoneHLRStatus__pc'</li>\n",
       "\t<li>'Account__r.PhoneNATStatus__pc'</li>\n",
       "\t<li>'Account__r.Salutation'</li>\n",
       "\t<li>'CarEngineCapacity__c'</li>\n",
       "\t<li>'CarFuelType__c'</li>\n",
       "\t<li>'CarYear__c'</li>\n",
       "\t<li>'Mpc__c'</li>\n",
       "\t<li>'PolicyStartDate__c'</li>\n",
       "\t<li>'ProductScope__c'</li>\n",
       "\t<li>'Source__c'</li>\n",
       "\t<li>'WentToPartner__c'</li>\n",
       "\t<li>'dont_have_this_car__c'</li>\n",
       "\t<li>'TelehubStatus__c'</li>\n",
       "\t<li>'contactDifference'</li>\n",
       "\t<li>'timeWaiting'</li>\n",
       "\t<li>'hurryTime'</li>\n",
       "\t<li>'formFillingTime'</li>\n",
       "\t<li>'is_damaged'</li>\n",
       "\t<li>'ac_offer_min_val'</li>\n",
       "\t<li>'oc_offers_qty'</li>\n",
       "\t<li>'ocacqty'</li>\n",
       "\t<li>'ocacminval'</li>\n",
       "\t<li>'ocacratio'</li>\n",
       "</ol>\n"
      ],
      "text/latex": [
       "\\begin{enumerate*}\n",
       "\\item 'LastCall\\_\\_c'\n",
       "\\item 'etx\\_make\\_name'\n",
       "\\item 'etx\\_model\\_name'\n",
       "\\item 'etx\\_fuel\\_code'\n",
       "\\item 'production\\_year'\n",
       "\\item 'protection\\_scope'\n",
       "\\item 'kind'\n",
       "\\item 'use\\_frequency'\n",
       "\\item 'child\\_carriage\\_frequency'\n",
       "\\item 'mileage'\n",
       "\\item 'yearly\\_mileage'\n",
       "\\item 'used\\_abroad'\n",
       "\\item 'night\\_parking\\_place'\n",
       "\\item 'night\\_parking\\_place\\_postal\\_code'\n",
       "\\item 'day\\_parking\\_place'\n",
       "\\item 'day\\_parking\\_place\\_postal\\_code'\n",
       "\\item 'theft\\_protection\\_installation'\n",
       "\\item 'theft\\_protection\\_device\\_1'\n",
       "\\item 'theft\\_protection\\_device\\_2'\n",
       "\\item 'origin'\n",
       "\\item 'buy\\_year'\n",
       "\\item 'registration\\_date'\n",
       "\\item 'car\\_worth'\n",
       "\\item 'main\\_driver\\_postal\\_code'\n",
       "\\item 'main\\_driver\\_age'\n",
       "\\item 'main\\_driver\\_gender'\n",
       "\\item 'phone\\_exists'\n",
       "\\item 'step'\n",
       "\\item 'oc\\_offer\\_min\\_val'\n",
       "\\item 'ac\\_offers\\_qty'\n",
       "\\item 'b2c\\_leads\\_sent'\n",
       "\\item 'offer\\_last\\_at'\n",
       "\\item 'offer\\_first\\_after'\n",
       "\\item 'offer\\_last\\_after'\n",
       "\\item 'phone\\_lookup\\_status'\n",
       "\\item 'utm\\_campaign'\n",
       "\\item 'utm\\_content'\n",
       "\\item 'utm\\_medium'\n",
       "\\item 'utm\\_source'\n",
       "\\item 'went\\_to\\_partners'\n",
       "\\item 'Acc\\_PhoneHLRStatus\\_\\_c'\n",
       "\\item 'Account\\_\\_r.AccountSource'\n",
       "\\item 'Account\\_\\_r.AgreementMarketing\\_\\_pc'\n",
       "\\item 'Account\\_\\_r.BillingCity'\n",
       "\\item 'Account\\_\\_r.BillingPostalCode'\n",
       "\\item 'Account\\_\\_r.Gender\\_\\_pc'\n",
       "\\item 'Account\\_\\_r.PersonBirthdate'\n",
       "\\item 'Account\\_\\_r.PhoneHLRStatus\\_\\_pc'\n",
       "\\item 'Account\\_\\_r.PhoneNATStatus\\_\\_pc'\n",
       "\\item 'Account\\_\\_r.Salutation'\n",
       "\\item 'CarEngineCapacity\\_\\_c'\n",
       "\\item 'CarFuelType\\_\\_c'\n",
       "\\item 'CarYear\\_\\_c'\n",
       "\\item 'Mpc\\_\\_c'\n",
       "\\item 'PolicyStartDate\\_\\_c'\n",
       "\\item 'ProductScope\\_\\_c'\n",
       "\\item 'Source\\_\\_c'\n",
       "\\item 'WentToPartner\\_\\_c'\n",
       "\\item 'dont\\_have\\_this\\_car\\_\\_c'\n",
       "\\item 'TelehubStatus\\_\\_c'\n",
       "\\item 'contactDifference'\n",
       "\\item 'timeWaiting'\n",
       "\\item 'hurryTime'\n",
       "\\item 'formFillingTime'\n",
       "\\item 'is\\_damaged'\n",
       "\\item 'ac\\_offer\\_min\\_val'\n",
       "\\item 'oc\\_offers\\_qty'\n",
       "\\item 'ocacqty'\n",
       "\\item 'ocacminval'\n",
       "\\item 'ocacratio'\n",
       "\\end{enumerate*}\n"
      ],
      "text/markdown": [
       "1. 'LastCall__c'\n",
       "2. 'etx_make_name'\n",
       "3. 'etx_model_name'\n",
       "4. 'etx_fuel_code'\n",
       "5. 'production_year'\n",
       "6. 'protection_scope'\n",
       "7. 'kind'\n",
       "8. 'use_frequency'\n",
       "9. 'child_carriage_frequency'\n",
       "10. 'mileage'\n",
       "11. 'yearly_mileage'\n",
       "12. 'used_abroad'\n",
       "13. 'night_parking_place'\n",
       "14. 'night_parking_place_postal_code'\n",
       "15. 'day_parking_place'\n",
       "16. 'day_parking_place_postal_code'\n",
       "17. 'theft_protection_installation'\n",
       "18. 'theft_protection_device_1'\n",
       "19. 'theft_protection_device_2'\n",
       "20. 'origin'\n",
       "21. 'buy_year'\n",
       "22. 'registration_date'\n",
       "23. 'car_worth'\n",
       "24. 'main_driver_postal_code'\n",
       "25. 'main_driver_age'\n",
       "26. 'main_driver_gender'\n",
       "27. 'phone_exists'\n",
       "28. 'step'\n",
       "29. 'oc_offer_min_val'\n",
       "30. 'ac_offers_qty'\n",
       "31. 'b2c_leads_sent'\n",
       "32. 'offer_last_at'\n",
       "33. 'offer_first_after'\n",
       "34. 'offer_last_after'\n",
       "35. 'phone_lookup_status'\n",
       "36. 'utm_campaign'\n",
       "37. 'utm_content'\n",
       "38. 'utm_medium'\n",
       "39. 'utm_source'\n",
       "40. 'went_to_partners'\n",
       "41. 'Acc_PhoneHLRStatus__c'\n",
       "42. 'Account__r.AccountSource'\n",
       "43. 'Account__r.AgreementMarketing__pc'\n",
       "44. 'Account__r.BillingCity'\n",
       "45. 'Account__r.BillingPostalCode'\n",
       "46. 'Account__r.Gender__pc'\n",
       "47. 'Account__r.PersonBirthdate'\n",
       "48. 'Account__r.PhoneHLRStatus__pc'\n",
       "49. 'Account__r.PhoneNATStatus__pc'\n",
       "50. 'Account__r.Salutation'\n",
       "51. 'CarEngineCapacity__c'\n",
       "52. 'CarFuelType__c'\n",
       "53. 'CarYear__c'\n",
       "54. 'Mpc__c'\n",
       "55. 'PolicyStartDate__c'\n",
       "56. 'ProductScope__c'\n",
       "57. 'Source__c'\n",
       "58. 'WentToPartner__c'\n",
       "59. 'dont_have_this_car__c'\n",
       "60. 'TelehubStatus__c'\n",
       "61. 'contactDifference'\n",
       "62. 'timeWaiting'\n",
       "63. 'hurryTime'\n",
       "64. 'formFillingTime'\n",
       "65. 'is_damaged'\n",
       "66. 'ac_offer_min_val'\n",
       "67. 'oc_offers_qty'\n",
       "68. 'ocacqty'\n",
       "69. 'ocacminval'\n",
       "70. 'ocacratio'\n",
       "\n",
       "\n"
      ],
      "text/plain": [
       " [1] \"LastCall__c\"                       \"etx_make_name\"                    \n",
       " [3] \"etx_model_name\"                    \"etx_fuel_code\"                    \n",
       " [5] \"production_year\"                   \"protection_scope\"                 \n",
       " [7] \"kind\"                              \"use_frequency\"                    \n",
       " [9] \"child_carriage_frequency\"          \"mileage\"                          \n",
       "[11] \"yearly_mileage\"                    \"used_abroad\"                      \n",
       "[13] \"night_parking_place\"               \"night_parking_place_postal_code\"  \n",
       "[15] \"day_parking_place\"                 \"day_parking_place_postal_code\"    \n",
       "[17] \"theft_protection_installation\"     \"theft_protection_device_1\"        \n",
       "[19] \"theft_protection_device_2\"         \"origin\"                           \n",
       "[21] \"buy_year\"                          \"registration_date\"                \n",
       "[23] \"car_worth\"                         \"main_driver_postal_code\"          \n",
       "[25] \"main_driver_age\"                   \"main_driver_gender\"               \n",
       "[27] \"phone_exists\"                      \"step\"                             \n",
       "[29] \"oc_offer_min_val\"                  \"ac_offers_qty\"                    \n",
       "[31] \"b2c_leads_sent\"                    \"offer_last_at\"                    \n",
       "[33] \"offer_first_after\"                 \"offer_last_after\"                 \n",
       "[35] \"phone_lookup_status\"               \"utm_campaign\"                     \n",
       "[37] \"utm_content\"                       \"utm_medium\"                       \n",
       "[39] \"utm_source\"                        \"went_to_partners\"                 \n",
       "[41] \"Acc_PhoneHLRStatus__c\"             \"Account__r.AccountSource\"         \n",
       "[43] \"Account__r.AgreementMarketing__pc\" \"Account__r.BillingCity\"           \n",
       "[45] \"Account__r.BillingPostalCode\"      \"Account__r.Gender__pc\"            \n",
       "[47] \"Account__r.PersonBirthdate\"        \"Account__r.PhoneHLRStatus__pc\"    \n",
       "[49] \"Account__r.PhoneNATStatus__pc\"     \"Account__r.Salutation\"            \n",
       "[51] \"CarEngineCapacity__c\"              \"CarFuelType__c\"                   \n",
       "[53] \"CarYear__c\"                        \"Mpc__c\"                           \n",
       "[55] \"PolicyStartDate__c\"                \"ProductScope__c\"                  \n",
       "[57] \"Source__c\"                         \"WentToPartner__c\"                 \n",
       "[59] \"dont_have_this_car__c\"             \"TelehubStatus__c\"                 \n",
       "[61] \"contactDifference\"                 \"timeWaiting\"                      \n",
       "[63] \"hurryTime\"                         \"formFillingTime\"                  \n",
       "[65] \"is_damaged\"                        \"ac_offer_min_val\"                 \n",
       "[67] \"oc_offers_qty\"                     \"ocacqty\"                          \n",
       "[69] \"ocacminval\"                        \"ocacratio\"                        "
      ]
     },
     "metadata": {},
     "output_type": "display_data"
    }
   ],
   "source": [
    "colnames(test2m)"
   ]
  },
  {
   "cell_type": "code",
   "execution_count": 277,
   "metadata": {},
   "outputs": [
    {
     "data": {
      "text/html": [
       "TRUE"
      ],
      "text/latex": [
       "TRUE"
      ],
      "text/markdown": [
       "TRUE"
      ],
      "text/plain": [
       "[1] TRUE"
      ]
     },
     "metadata": {},
     "output_type": "display_data"
    }
   ],
   "source": [
    "#sprawdzanie równoważności kolejności zmiennych w zbiorze treningowym i testowym\n",
    "#nie kontynuować, jeżeli tu będzie false!\n",
    "all((colnames(train4eml)[-which(colnames(train4eml)=='Sale.success')])==(colnames(test2m))) #head -1 jest użyte by usunąć etykietę"
   ]
  },
  {
   "cell_type": "code",
   "execution_count": 278,
   "metadata": {
    "scrolled": true
   },
   "outputs": [
    {
     "data": {
      "text/html": [
       "<ol class=list-inline>\n",
       "\t<li>'LastCall__c'</li>\n",
       "\t<li>'etx_make_name'</li>\n",
       "\t<li>'etx_model_name'</li>\n",
       "\t<li>'etx_fuel_code'</li>\n",
       "\t<li>'production_year'</li>\n",
       "\t<li>'protection_scope'</li>\n",
       "\t<li>'kind'</li>\n",
       "\t<li>'use_frequency'</li>\n",
       "\t<li>'child_carriage_frequency'</li>\n",
       "\t<li>'mileage'</li>\n",
       "\t<li>'yearly_mileage'</li>\n",
       "\t<li>'used_abroad'</li>\n",
       "\t<li>'night_parking_place'</li>\n",
       "\t<li>'night_parking_place_postal_code'</li>\n",
       "\t<li>'day_parking_place'</li>\n",
       "\t<li>'day_parking_place_postal_code'</li>\n",
       "\t<li>'theft_protection_installation'</li>\n",
       "\t<li>'theft_protection_device_1'</li>\n",
       "\t<li>'theft_protection_device_2'</li>\n",
       "\t<li>'origin'</li>\n",
       "\t<li>'buy_year'</li>\n",
       "\t<li>'registration_date'</li>\n",
       "\t<li>'car_worth'</li>\n",
       "\t<li>'main_driver_postal_code'</li>\n",
       "\t<li>'main_driver_age'</li>\n",
       "\t<li>'main_driver_gender'</li>\n",
       "\t<li>'phone_exists'</li>\n",
       "\t<li>'step'</li>\n",
       "\t<li>'oc_offer_min_val'</li>\n",
       "\t<li>'ac_offers_qty'</li>\n",
       "\t<li>'b2c_leads_sent'</li>\n",
       "\t<li>'offer_last_at'</li>\n",
       "\t<li>'offer_first_after'</li>\n",
       "\t<li>'offer_last_after'</li>\n",
       "\t<li>'phone_lookup_status'</li>\n",
       "\t<li>'utm_campaign'</li>\n",
       "\t<li>'utm_content'</li>\n",
       "\t<li>'utm_medium'</li>\n",
       "\t<li>'utm_source'</li>\n",
       "\t<li>'went_to_partners'</li>\n",
       "\t<li>'Acc_PhoneHLRStatus__c'</li>\n",
       "\t<li>'Account__r.AccountSource'</li>\n",
       "\t<li>'Account__r.AgreementMarketing__pc'</li>\n",
       "\t<li>'Account__r.BillingCity'</li>\n",
       "\t<li>'Account__r.BillingPostalCode'</li>\n",
       "\t<li>'Account__r.Gender__pc'</li>\n",
       "\t<li>'Account__r.PersonBirthdate'</li>\n",
       "\t<li>'Account__r.PhoneHLRStatus__pc'</li>\n",
       "\t<li>'Account__r.PhoneNATStatus__pc'</li>\n",
       "\t<li>'Account__r.Salutation'</li>\n",
       "\t<li>'CarEngineCapacity__c'</li>\n",
       "\t<li>'CarFuelType__c'</li>\n",
       "\t<li>'CarYear__c'</li>\n",
       "\t<li>'Mpc__c'</li>\n",
       "\t<li>'PolicyStartDate__c'</li>\n",
       "\t<li>'ProductScope__c'</li>\n",
       "\t<li>'Source__c'</li>\n",
       "\t<li>'WentToPartner__c'</li>\n",
       "\t<li>'dont_have_this_car__c'</li>\n",
       "\t<li>'TelehubStatus__c'</li>\n",
       "\t<li>'contactDifference'</li>\n",
       "\t<li>'timeWaiting'</li>\n",
       "\t<li>'hurryTime'</li>\n",
       "\t<li>'formFillingTime'</li>\n",
       "\t<li>'is_damaged'</li>\n",
       "\t<li>'ac_offer_min_val'</li>\n",
       "\t<li>'oc_offers_qty'</li>\n",
       "\t<li>'ocacqty'</li>\n",
       "\t<li>'ocacminval'</li>\n",
       "\t<li>'ocacratio'</li>\n",
       "</ol>\n"
      ],
      "text/latex": [
       "\\begin{enumerate*}\n",
       "\\item 'LastCall\\_\\_c'\n",
       "\\item 'etx\\_make\\_name'\n",
       "\\item 'etx\\_model\\_name'\n",
       "\\item 'etx\\_fuel\\_code'\n",
       "\\item 'production\\_year'\n",
       "\\item 'protection\\_scope'\n",
       "\\item 'kind'\n",
       "\\item 'use\\_frequency'\n",
       "\\item 'child\\_carriage\\_frequency'\n",
       "\\item 'mileage'\n",
       "\\item 'yearly\\_mileage'\n",
       "\\item 'used\\_abroad'\n",
       "\\item 'night\\_parking\\_place'\n",
       "\\item 'night\\_parking\\_place\\_postal\\_code'\n",
       "\\item 'day\\_parking\\_place'\n",
       "\\item 'day\\_parking\\_place\\_postal\\_code'\n",
       "\\item 'theft\\_protection\\_installation'\n",
       "\\item 'theft\\_protection\\_device\\_1'\n",
       "\\item 'theft\\_protection\\_device\\_2'\n",
       "\\item 'origin'\n",
       "\\item 'buy\\_year'\n",
       "\\item 'registration\\_date'\n",
       "\\item 'car\\_worth'\n",
       "\\item 'main\\_driver\\_postal\\_code'\n",
       "\\item 'main\\_driver\\_age'\n",
       "\\item 'main\\_driver\\_gender'\n",
       "\\item 'phone\\_exists'\n",
       "\\item 'step'\n",
       "\\item 'oc\\_offer\\_min\\_val'\n",
       "\\item 'ac\\_offers\\_qty'\n",
       "\\item 'b2c\\_leads\\_sent'\n",
       "\\item 'offer\\_last\\_at'\n",
       "\\item 'offer\\_first\\_after'\n",
       "\\item 'offer\\_last\\_after'\n",
       "\\item 'phone\\_lookup\\_status'\n",
       "\\item 'utm\\_campaign'\n",
       "\\item 'utm\\_content'\n",
       "\\item 'utm\\_medium'\n",
       "\\item 'utm\\_source'\n",
       "\\item 'went\\_to\\_partners'\n",
       "\\item 'Acc\\_PhoneHLRStatus\\_\\_c'\n",
       "\\item 'Account\\_\\_r.AccountSource'\n",
       "\\item 'Account\\_\\_r.AgreementMarketing\\_\\_pc'\n",
       "\\item 'Account\\_\\_r.BillingCity'\n",
       "\\item 'Account\\_\\_r.BillingPostalCode'\n",
       "\\item 'Account\\_\\_r.Gender\\_\\_pc'\n",
       "\\item 'Account\\_\\_r.PersonBirthdate'\n",
       "\\item 'Account\\_\\_r.PhoneHLRStatus\\_\\_pc'\n",
       "\\item 'Account\\_\\_r.PhoneNATStatus\\_\\_pc'\n",
       "\\item 'Account\\_\\_r.Salutation'\n",
       "\\item 'CarEngineCapacity\\_\\_c'\n",
       "\\item 'CarFuelType\\_\\_c'\n",
       "\\item 'CarYear\\_\\_c'\n",
       "\\item 'Mpc\\_\\_c'\n",
       "\\item 'PolicyStartDate\\_\\_c'\n",
       "\\item 'ProductScope\\_\\_c'\n",
       "\\item 'Source\\_\\_c'\n",
       "\\item 'WentToPartner\\_\\_c'\n",
       "\\item 'dont\\_have\\_this\\_car\\_\\_c'\n",
       "\\item 'TelehubStatus\\_\\_c'\n",
       "\\item 'contactDifference'\n",
       "\\item 'timeWaiting'\n",
       "\\item 'hurryTime'\n",
       "\\item 'formFillingTime'\n",
       "\\item 'is\\_damaged'\n",
       "\\item 'ac\\_offer\\_min\\_val'\n",
       "\\item 'oc\\_offers\\_qty'\n",
       "\\item 'ocacqty'\n",
       "\\item 'ocacminval'\n",
       "\\item 'ocacratio'\n",
       "\\end{enumerate*}\n"
      ],
      "text/markdown": [
       "1. 'LastCall__c'\n",
       "2. 'etx_make_name'\n",
       "3. 'etx_model_name'\n",
       "4. 'etx_fuel_code'\n",
       "5. 'production_year'\n",
       "6. 'protection_scope'\n",
       "7. 'kind'\n",
       "8. 'use_frequency'\n",
       "9. 'child_carriage_frequency'\n",
       "10. 'mileage'\n",
       "11. 'yearly_mileage'\n",
       "12. 'used_abroad'\n",
       "13. 'night_parking_place'\n",
       "14. 'night_parking_place_postal_code'\n",
       "15. 'day_parking_place'\n",
       "16. 'day_parking_place_postal_code'\n",
       "17. 'theft_protection_installation'\n",
       "18. 'theft_protection_device_1'\n",
       "19. 'theft_protection_device_2'\n",
       "20. 'origin'\n",
       "21. 'buy_year'\n",
       "22. 'registration_date'\n",
       "23. 'car_worth'\n",
       "24. 'main_driver_postal_code'\n",
       "25. 'main_driver_age'\n",
       "26. 'main_driver_gender'\n",
       "27. 'phone_exists'\n",
       "28. 'step'\n",
       "29. 'oc_offer_min_val'\n",
       "30. 'ac_offers_qty'\n",
       "31. 'b2c_leads_sent'\n",
       "32. 'offer_last_at'\n",
       "33. 'offer_first_after'\n",
       "34. 'offer_last_after'\n",
       "35. 'phone_lookup_status'\n",
       "36. 'utm_campaign'\n",
       "37. 'utm_content'\n",
       "38. 'utm_medium'\n",
       "39. 'utm_source'\n",
       "40. 'went_to_partners'\n",
       "41. 'Acc_PhoneHLRStatus__c'\n",
       "42. 'Account__r.AccountSource'\n",
       "43. 'Account__r.AgreementMarketing__pc'\n",
       "44. 'Account__r.BillingCity'\n",
       "45. 'Account__r.BillingPostalCode'\n",
       "46. 'Account__r.Gender__pc'\n",
       "47. 'Account__r.PersonBirthdate'\n",
       "48. 'Account__r.PhoneHLRStatus__pc'\n",
       "49. 'Account__r.PhoneNATStatus__pc'\n",
       "50. 'Account__r.Salutation'\n",
       "51. 'CarEngineCapacity__c'\n",
       "52. 'CarFuelType__c'\n",
       "53. 'CarYear__c'\n",
       "54. 'Mpc__c'\n",
       "55. 'PolicyStartDate__c'\n",
       "56. 'ProductScope__c'\n",
       "57. 'Source__c'\n",
       "58. 'WentToPartner__c'\n",
       "59. 'dont_have_this_car__c'\n",
       "60. 'TelehubStatus__c'\n",
       "61. 'contactDifference'\n",
       "62. 'timeWaiting'\n",
       "63. 'hurryTime'\n",
       "64. 'formFillingTime'\n",
       "65. 'is_damaged'\n",
       "66. 'ac_offer_min_val'\n",
       "67. 'oc_offers_qty'\n",
       "68. 'ocacqty'\n",
       "69. 'ocacminval'\n",
       "70. 'ocacratio'\n",
       "\n",
       "\n"
      ],
      "text/plain": [
       " [1] \"LastCall__c\"                       \"etx_make_name\"                    \n",
       " [3] \"etx_model_name\"                    \"etx_fuel_code\"                    \n",
       " [5] \"production_year\"                   \"protection_scope\"                 \n",
       " [7] \"kind\"                              \"use_frequency\"                    \n",
       " [9] \"child_carriage_frequency\"          \"mileage\"                          \n",
       "[11] \"yearly_mileage\"                    \"used_abroad\"                      \n",
       "[13] \"night_parking_place\"               \"night_parking_place_postal_code\"  \n",
       "[15] \"day_parking_place\"                 \"day_parking_place_postal_code\"    \n",
       "[17] \"theft_protection_installation\"     \"theft_protection_device_1\"        \n",
       "[19] \"theft_protection_device_2\"         \"origin\"                           \n",
       "[21] \"buy_year\"                          \"registration_date\"                \n",
       "[23] \"car_worth\"                         \"main_driver_postal_code\"          \n",
       "[25] \"main_driver_age\"                   \"main_driver_gender\"               \n",
       "[27] \"phone_exists\"                      \"step\"                             \n",
       "[29] \"oc_offer_min_val\"                  \"ac_offers_qty\"                    \n",
       "[31] \"b2c_leads_sent\"                    \"offer_last_at\"                    \n",
       "[33] \"offer_first_after\"                 \"offer_last_after\"                 \n",
       "[35] \"phone_lookup_status\"               \"utm_campaign\"                     \n",
       "[37] \"utm_content\"                       \"utm_medium\"                       \n",
       "[39] \"utm_source\"                        \"went_to_partners\"                 \n",
       "[41] \"Acc_PhoneHLRStatus__c\"             \"Account__r.AccountSource\"         \n",
       "[43] \"Account__r.AgreementMarketing__pc\" \"Account__r.BillingCity\"           \n",
       "[45] \"Account__r.BillingPostalCode\"      \"Account__r.Gender__pc\"            \n",
       "[47] \"Account__r.PersonBirthdate\"        \"Account__r.PhoneHLRStatus__pc\"    \n",
       "[49] \"Account__r.PhoneNATStatus__pc\"     \"Account__r.Salutation\"            \n",
       "[51] \"CarEngineCapacity__c\"              \"CarFuelType__c\"                   \n",
       "[53] \"CarYear__c\"                        \"Mpc__c\"                           \n",
       "[55] \"PolicyStartDate__c\"                \"ProductScope__c\"                  \n",
       "[57] \"Source__c\"                         \"WentToPartner__c\"                 \n",
       "[59] \"dont_have_this_car__c\"             \"TelehubStatus__c\"                 \n",
       "[61] \"contactDifference\"                 \"timeWaiting\"                      \n",
       "[63] \"hurryTime\"                         \"formFillingTime\"                  \n",
       "[65] \"is_damaged\"                        \"ac_offer_min_val\"                 \n",
       "[67] \"oc_offers_qty\"                     \"ocacqty\"                          \n",
       "[69] \"ocacminval\"                        \"ocacratio\"                        "
      ]
     },
     "metadata": {},
     "output_type": "display_data"
    }
   ],
   "source": [
    "colnames(train4eml)[-which(colnames(train4eml)=='Sale.success')]"
   ]
  },
  {
   "cell_type": "code",
   "execution_count": 279,
   "metadata": {
    "scrolled": true
   },
   "outputs": [
    {
     "data": {
      "text/html": [
       "<ol class=list-inline>\n",
       "\t<li>'LastCall__c'</li>\n",
       "\t<li>'etx_make_name'</li>\n",
       "\t<li>'etx_model_name'</li>\n",
       "\t<li>'etx_fuel_code'</li>\n",
       "\t<li>'production_year'</li>\n",
       "\t<li>'protection_scope'</li>\n",
       "\t<li>'kind'</li>\n",
       "\t<li>'use_frequency'</li>\n",
       "\t<li>'child_carriage_frequency'</li>\n",
       "\t<li>'mileage'</li>\n",
       "\t<li>'yearly_mileage'</li>\n",
       "\t<li>'used_abroad'</li>\n",
       "\t<li>'night_parking_place'</li>\n",
       "\t<li>'night_parking_place_postal_code'</li>\n",
       "\t<li>'day_parking_place'</li>\n",
       "\t<li>'day_parking_place_postal_code'</li>\n",
       "\t<li>'theft_protection_installation'</li>\n",
       "\t<li>'theft_protection_device_1'</li>\n",
       "\t<li>'theft_protection_device_2'</li>\n",
       "\t<li>'origin'</li>\n",
       "\t<li>'buy_year'</li>\n",
       "\t<li>'registration_date'</li>\n",
       "\t<li>'car_worth'</li>\n",
       "\t<li>'main_driver_postal_code'</li>\n",
       "\t<li>'main_driver_age'</li>\n",
       "\t<li>'main_driver_gender'</li>\n",
       "\t<li>'phone_exists'</li>\n",
       "\t<li>'step'</li>\n",
       "\t<li>'oc_offer_min_val'</li>\n",
       "\t<li>'ac_offers_qty'</li>\n",
       "\t<li>'b2c_leads_sent'</li>\n",
       "\t<li>'offer_last_at'</li>\n",
       "\t<li>'offer_first_after'</li>\n",
       "\t<li>'offer_last_after'</li>\n",
       "\t<li>'phone_lookup_status'</li>\n",
       "\t<li>'utm_campaign'</li>\n",
       "\t<li>'utm_content'</li>\n",
       "\t<li>'utm_medium'</li>\n",
       "\t<li>'utm_source'</li>\n",
       "\t<li>'went_to_partners'</li>\n",
       "\t<li>'Acc_PhoneHLRStatus__c'</li>\n",
       "\t<li>'Account__r.AccountSource'</li>\n",
       "\t<li>'Account__r.AgreementMarketing__pc'</li>\n",
       "\t<li>'Account__r.BillingCity'</li>\n",
       "\t<li>'Account__r.BillingPostalCode'</li>\n",
       "\t<li>'Account__r.Gender__pc'</li>\n",
       "\t<li>'Account__r.PersonBirthdate'</li>\n",
       "\t<li>'Account__r.PhoneHLRStatus__pc'</li>\n",
       "\t<li>'Account__r.PhoneNATStatus__pc'</li>\n",
       "\t<li>'Account__r.Salutation'</li>\n",
       "\t<li>'CarEngineCapacity__c'</li>\n",
       "\t<li>'CarFuelType__c'</li>\n",
       "\t<li>'CarYear__c'</li>\n",
       "\t<li>'Mpc__c'</li>\n",
       "\t<li>'PolicyStartDate__c'</li>\n",
       "\t<li>'ProductScope__c'</li>\n",
       "\t<li>'Source__c'</li>\n",
       "\t<li>'WentToPartner__c'</li>\n",
       "\t<li>'dont_have_this_car__c'</li>\n",
       "\t<li>'TelehubStatus__c'</li>\n",
       "\t<li>'contactDifference'</li>\n",
       "\t<li>'timeWaiting'</li>\n",
       "\t<li>'hurryTime'</li>\n",
       "\t<li>'formFillingTime'</li>\n",
       "\t<li>'is_damaged'</li>\n",
       "\t<li>'ac_offer_min_val'</li>\n",
       "\t<li>'oc_offers_qty'</li>\n",
       "\t<li>'ocacqty'</li>\n",
       "\t<li>'ocacminval'</li>\n",
       "\t<li>'ocacratio'</li>\n",
       "</ol>\n"
      ],
      "text/latex": [
       "\\begin{enumerate*}\n",
       "\\item 'LastCall\\_\\_c'\n",
       "\\item 'etx\\_make\\_name'\n",
       "\\item 'etx\\_model\\_name'\n",
       "\\item 'etx\\_fuel\\_code'\n",
       "\\item 'production\\_year'\n",
       "\\item 'protection\\_scope'\n",
       "\\item 'kind'\n",
       "\\item 'use\\_frequency'\n",
       "\\item 'child\\_carriage\\_frequency'\n",
       "\\item 'mileage'\n",
       "\\item 'yearly\\_mileage'\n",
       "\\item 'used\\_abroad'\n",
       "\\item 'night\\_parking\\_place'\n",
       "\\item 'night\\_parking\\_place\\_postal\\_code'\n",
       "\\item 'day\\_parking\\_place'\n",
       "\\item 'day\\_parking\\_place\\_postal\\_code'\n",
       "\\item 'theft\\_protection\\_installation'\n",
       "\\item 'theft\\_protection\\_device\\_1'\n",
       "\\item 'theft\\_protection\\_device\\_2'\n",
       "\\item 'origin'\n",
       "\\item 'buy\\_year'\n",
       "\\item 'registration\\_date'\n",
       "\\item 'car\\_worth'\n",
       "\\item 'main\\_driver\\_postal\\_code'\n",
       "\\item 'main\\_driver\\_age'\n",
       "\\item 'main\\_driver\\_gender'\n",
       "\\item 'phone\\_exists'\n",
       "\\item 'step'\n",
       "\\item 'oc\\_offer\\_min\\_val'\n",
       "\\item 'ac\\_offers\\_qty'\n",
       "\\item 'b2c\\_leads\\_sent'\n",
       "\\item 'offer\\_last\\_at'\n",
       "\\item 'offer\\_first\\_after'\n",
       "\\item 'offer\\_last\\_after'\n",
       "\\item 'phone\\_lookup\\_status'\n",
       "\\item 'utm\\_campaign'\n",
       "\\item 'utm\\_content'\n",
       "\\item 'utm\\_medium'\n",
       "\\item 'utm\\_source'\n",
       "\\item 'went\\_to\\_partners'\n",
       "\\item 'Acc\\_PhoneHLRStatus\\_\\_c'\n",
       "\\item 'Account\\_\\_r.AccountSource'\n",
       "\\item 'Account\\_\\_r.AgreementMarketing\\_\\_pc'\n",
       "\\item 'Account\\_\\_r.BillingCity'\n",
       "\\item 'Account\\_\\_r.BillingPostalCode'\n",
       "\\item 'Account\\_\\_r.Gender\\_\\_pc'\n",
       "\\item 'Account\\_\\_r.PersonBirthdate'\n",
       "\\item 'Account\\_\\_r.PhoneHLRStatus\\_\\_pc'\n",
       "\\item 'Account\\_\\_r.PhoneNATStatus\\_\\_pc'\n",
       "\\item 'Account\\_\\_r.Salutation'\n",
       "\\item 'CarEngineCapacity\\_\\_c'\n",
       "\\item 'CarFuelType\\_\\_c'\n",
       "\\item 'CarYear\\_\\_c'\n",
       "\\item 'Mpc\\_\\_c'\n",
       "\\item 'PolicyStartDate\\_\\_c'\n",
       "\\item 'ProductScope\\_\\_c'\n",
       "\\item 'Source\\_\\_c'\n",
       "\\item 'WentToPartner\\_\\_c'\n",
       "\\item 'dont\\_have\\_this\\_car\\_\\_c'\n",
       "\\item 'TelehubStatus\\_\\_c'\n",
       "\\item 'contactDifference'\n",
       "\\item 'timeWaiting'\n",
       "\\item 'hurryTime'\n",
       "\\item 'formFillingTime'\n",
       "\\item 'is\\_damaged'\n",
       "\\item 'ac\\_offer\\_min\\_val'\n",
       "\\item 'oc\\_offers\\_qty'\n",
       "\\item 'ocacqty'\n",
       "\\item 'ocacminval'\n",
       "\\item 'ocacratio'\n",
       "\\end{enumerate*}\n"
      ],
      "text/markdown": [
       "1. 'LastCall__c'\n",
       "2. 'etx_make_name'\n",
       "3. 'etx_model_name'\n",
       "4. 'etx_fuel_code'\n",
       "5. 'production_year'\n",
       "6. 'protection_scope'\n",
       "7. 'kind'\n",
       "8. 'use_frequency'\n",
       "9. 'child_carriage_frequency'\n",
       "10. 'mileage'\n",
       "11. 'yearly_mileage'\n",
       "12. 'used_abroad'\n",
       "13. 'night_parking_place'\n",
       "14. 'night_parking_place_postal_code'\n",
       "15. 'day_parking_place'\n",
       "16. 'day_parking_place_postal_code'\n",
       "17. 'theft_protection_installation'\n",
       "18. 'theft_protection_device_1'\n",
       "19. 'theft_protection_device_2'\n",
       "20. 'origin'\n",
       "21. 'buy_year'\n",
       "22. 'registration_date'\n",
       "23. 'car_worth'\n",
       "24. 'main_driver_postal_code'\n",
       "25. 'main_driver_age'\n",
       "26. 'main_driver_gender'\n",
       "27. 'phone_exists'\n",
       "28. 'step'\n",
       "29. 'oc_offer_min_val'\n",
       "30. 'ac_offers_qty'\n",
       "31. 'b2c_leads_sent'\n",
       "32. 'offer_last_at'\n",
       "33. 'offer_first_after'\n",
       "34. 'offer_last_after'\n",
       "35. 'phone_lookup_status'\n",
       "36. 'utm_campaign'\n",
       "37. 'utm_content'\n",
       "38. 'utm_medium'\n",
       "39. 'utm_source'\n",
       "40. 'went_to_partners'\n",
       "41. 'Acc_PhoneHLRStatus__c'\n",
       "42. 'Account__r.AccountSource'\n",
       "43. 'Account__r.AgreementMarketing__pc'\n",
       "44. 'Account__r.BillingCity'\n",
       "45. 'Account__r.BillingPostalCode'\n",
       "46. 'Account__r.Gender__pc'\n",
       "47. 'Account__r.PersonBirthdate'\n",
       "48. 'Account__r.PhoneHLRStatus__pc'\n",
       "49. 'Account__r.PhoneNATStatus__pc'\n",
       "50. 'Account__r.Salutation'\n",
       "51. 'CarEngineCapacity__c'\n",
       "52. 'CarFuelType__c'\n",
       "53. 'CarYear__c'\n",
       "54. 'Mpc__c'\n",
       "55. 'PolicyStartDate__c'\n",
       "56. 'ProductScope__c'\n",
       "57. 'Source__c'\n",
       "58. 'WentToPartner__c'\n",
       "59. 'dont_have_this_car__c'\n",
       "60. 'TelehubStatus__c'\n",
       "61. 'contactDifference'\n",
       "62. 'timeWaiting'\n",
       "63. 'hurryTime'\n",
       "64. 'formFillingTime'\n",
       "65. 'is_damaged'\n",
       "66. 'ac_offer_min_val'\n",
       "67. 'oc_offers_qty'\n",
       "68. 'ocacqty'\n",
       "69. 'ocacminval'\n",
       "70. 'ocacratio'\n",
       "\n",
       "\n"
      ],
      "text/plain": [
       " [1] \"LastCall__c\"                       \"etx_make_name\"                    \n",
       " [3] \"etx_model_name\"                    \"etx_fuel_code\"                    \n",
       " [5] \"production_year\"                   \"protection_scope\"                 \n",
       " [7] \"kind\"                              \"use_frequency\"                    \n",
       " [9] \"child_carriage_frequency\"          \"mileage\"                          \n",
       "[11] \"yearly_mileage\"                    \"used_abroad\"                      \n",
       "[13] \"night_parking_place\"               \"night_parking_place_postal_code\"  \n",
       "[15] \"day_parking_place\"                 \"day_parking_place_postal_code\"    \n",
       "[17] \"theft_protection_installation\"     \"theft_protection_device_1\"        \n",
       "[19] \"theft_protection_device_2\"         \"origin\"                           \n",
       "[21] \"buy_year\"                          \"registration_date\"                \n",
       "[23] \"car_worth\"                         \"main_driver_postal_code\"          \n",
       "[25] \"main_driver_age\"                   \"main_driver_gender\"               \n",
       "[27] \"phone_exists\"                      \"step\"                             \n",
       "[29] \"oc_offer_min_val\"                  \"ac_offers_qty\"                    \n",
       "[31] \"b2c_leads_sent\"                    \"offer_last_at\"                    \n",
       "[33] \"offer_first_after\"                 \"offer_last_after\"                 \n",
       "[35] \"phone_lookup_status\"               \"utm_campaign\"                     \n",
       "[37] \"utm_content\"                       \"utm_medium\"                       \n",
       "[39] \"utm_source\"                        \"went_to_partners\"                 \n",
       "[41] \"Acc_PhoneHLRStatus__c\"             \"Account__r.AccountSource\"         \n",
       "[43] \"Account__r.AgreementMarketing__pc\" \"Account__r.BillingCity\"           \n",
       "[45] \"Account__r.BillingPostalCode\"      \"Account__r.Gender__pc\"            \n",
       "[47] \"Account__r.PersonBirthdate\"        \"Account__r.PhoneHLRStatus__pc\"    \n",
       "[49] \"Account__r.PhoneNATStatus__pc\"     \"Account__r.Salutation\"            \n",
       "[51] \"CarEngineCapacity__c\"              \"CarFuelType__c\"                   \n",
       "[53] \"CarYear__c\"                        \"Mpc__c\"                           \n",
       "[55] \"PolicyStartDate__c\"                \"ProductScope__c\"                  \n",
       "[57] \"Source__c\"                         \"WentToPartner__c\"                 \n",
       "[59] \"dont_have_this_car__c\"             \"TelehubStatus__c\"                 \n",
       "[61] \"contactDifference\"                 \"timeWaiting\"                      \n",
       "[63] \"hurryTime\"                         \"formFillingTime\"                  \n",
       "[65] \"is_damaged\"                        \"ac_offer_min_val\"                 \n",
       "[67] \"oc_offers_qty\"                     \"ocacqty\"                          \n",
       "[69] \"ocacminval\"                        \"ocacratio\"                        "
      ]
     },
     "metadata": {},
     "output_type": "display_data"
    }
   ],
   "source": [
    "colnames(test2m)"
   ]
  },
  {
   "cell_type": "code",
   "execution_count": 280,
   "metadata": {},
   "outputs": [
    {
     "data": {
      "text/html": [
       "<ol class=list-inline>\n",
       "\t<li>93646</li>\n",
       "\t<li>8473</li>\n",
       "</ol>\n"
      ],
      "text/latex": [
       "\\begin{enumerate*}\n",
       "\\item 93646\n",
       "\\item 8473\n",
       "\\end{enumerate*}\n"
      ],
      "text/markdown": [
       "1. 93646\n",
       "2. 8473\n",
       "\n",
       "\n"
      ],
      "text/plain": [
       "[1] 93646  8473"
      ]
     },
     "metadata": {},
     "output_type": "display_data"
    },
    {
     "data": {
      "text/html": [
       "<ol class=list-inline>\n",
       "\t<li>32967</li>\n",
       "\t<li>7136</li>\n",
       "</ol>\n"
      ],
      "text/latex": [
       "\\begin{enumerate*}\n",
       "\\item 32967\n",
       "\\item 7136\n",
       "\\end{enumerate*}\n"
      ],
      "text/markdown": [
       "1. 32967\n",
       "2. 7136\n",
       "\n",
       "\n"
      ],
      "text/plain": [
       "[1] 32967  7136"
      ]
     },
     "metadata": {},
     "output_type": "display_data"
    }
   ],
   "source": [
    "#macierze rzadkie\n",
    "mdtrain = sparse.model.matrix(Sale.success ~ ., train4eml)\n",
    "mdtest = sparse.model.matrix(~ .,test2m)\n",
    "#dane testowe mają mniej leveli factorów\n",
    "dim(mdtrain)\n",
    "dim(mdtest)"
   ]
  },
  {
   "cell_type": "markdown",
   "metadata": {},
   "source": [
    "## W tym miejscu gotowy zbiór treningowy jest w mdtrain, etykieta w trainy, zbiór testowy w mdtest\n",
    "# Wyznaczanie scoringu i zapis do pliku:"
   ]
  },
  {
   "cell_type": "code",
   "execution_count": 281,
   "metadata": {},
   "outputs": [
    {
     "name": "stdout",
     "output_type": "stream",
     "text": [
      "[1]\ttrain-error:0.047829 \n",
      "[2]\ttrain-error:0.047850 \n",
      "[3]\ttrain-error:0.047818 \n",
      "[4]\ttrain-error:0.048011 \n",
      "[5]\ttrain-error:0.047968 \n",
      "[6]\ttrain-error:0.048032 \n",
      "[7]\ttrain-error:0.047925 \n",
      "[8]\ttrain-error:0.047776 \n",
      "[9]\ttrain-error:0.047551 \n",
      "[10]\ttrain-error:0.047434 \n"
     ]
    }
   ],
   "source": [
    "#xgboost importance\n",
    "\n",
    "trainxg = xgb.DMatrix(mdtrain,label=train4$Sale.success)\n",
    "\n",
    "xg=  xgboost(trainxg, nrounds=10, objective = \"binary:logistic\")\n",
    "\n",
    "xgi = xgb.importance(colnames(mdtrain),xg)\n",
    "xgselected = head(xgi$Feature,40)\n",
    "xgcols = sapply(xgselected,function(xgs){which(colnames(mdtrain)==xgs)})"
   ]
  },
  {
   "cell_type": "code",
   "execution_count": 282,
   "metadata": {
    "scrolled": true
   },
   "outputs": [
    {
     "data": {
      "text/html": [
       "<dl class=dl-horizontal>\n",
       "\t<dt>went_to_partners</dt>\n",
       "\t\t<dd>1152</dd>\n",
       "\t<dt>phone_lookup_status</dt>\n",
       "\t\t<dd>951</dd>\n",
       "\t<dt>formFillingTime</dt>\n",
       "\t\t<dd>8467</dd>\n",
       "\t<dt>LastCall__c</dt>\n",
       "\t\t<dd>2</dd>\n",
       "\t<dt>utm_sourcecc</dt>\n",
       "\t\t<dd>1092</dd>\n",
       "\t<dt>oc_offers_qty</dt>\n",
       "\t\t<dd>8470</dd>\n",
       "\t<dt>TelehubStatus__csuccess_callmeback_kom</dt>\n",
       "\t\t<dd>8458</dd>\n",
       "\t<dt>oc_offer_min_val</dt>\n",
       "\t\t<dd>945</dd>\n",
       "\t<dt>hurryTime</dt>\n",
       "\t\t<dd>8466</dd>\n",
       "\t<dt>PolicyStartDate__c</dt>\n",
       "\t\t<dd>8421</dd>\n",
       "\t<dt>offer_last_after</dt>\n",
       "\t\t<dd>950</dd>\n",
       "\t<dt>timeWaiting</dt>\n",
       "\t\t<dd>8465</dd>\n",
       "\t<dt>contactDifference</dt>\n",
       "\t\t<dd>8464</dd>\n",
       "\t<dt>TelehubStatus__cNA</dt>\n",
       "\t\t<dd>8463</dd>\n",
       "\t<dt>ocacqty</dt>\n",
       "\t\t<dd>8471</dd>\n",
       "\t<dt>Account__r.SalutationNA</dt>\n",
       "\t\t<dd>8397</dd>\n",
       "\t<dt>CarYear__c</dt>\n",
       "\t\t<dd>8404</dd>\n",
       "\t<dt>mileage</dt>\n",
       "\t\t<dd>814</dd>\n",
       "\t<dt>Mpc__cNA</dt>\n",
       "\t\t<dd>8420</dd>\n",
       "\t<dt>registration_date</dt>\n",
       "\t\t<dd>907</dd>\n",
       "\t<dt>CarEngineCapacity__c</dt>\n",
       "\t\t<dd>8398</dd>\n",
       "\t<dt>Account__r.PersonBirthdate</dt>\n",
       "\t\t<dd>8384</dd>\n",
       "\t<dt>main_driver_age</dt>\n",
       "\t\t<dd>939</dd>\n",
       "\t<dt>offer_last_at</dt>\n",
       "\t\t<dd>948</dd>\n",
       "\t<dt>ac_offer_min_val</dt>\n",
       "\t\t<dd>8469</dd>\n",
       "\t<dt>protection_scope2</dt>\n",
       "\t\t<dd>805</dd>\n",
       "\t<dt>WentToPartner__c</dt>\n",
       "\t\t<dd>8442</dd>\n",
       "\t<dt>ProductScope__cOC</dt>\n",
       "\t\t<dd>8422</dd>\n",
       "\t<dt>ocacminval</dt>\n",
       "\t\t<dd>8472</dd>\n",
       "\t<dt>step</dt>\n",
       "\t\t<dd>944</dd>\n",
       "\t<dt>phone_existsphone_exist</dt>\n",
       "\t\t<dd>942</dd>\n",
       "\t<dt>car_worth</dt>\n",
       "\t\t<dd>908</dd>\n",
       "\t<dt>ocacratio</dt>\n",
       "\t\t<dd>8473</dd>\n",
       "\t<dt>yearly_mileage</dt>\n",
       "\t\t<dd>815</dd>\n",
       "\t<dt>b2c_leads_sent</dt>\n",
       "\t\t<dd>947</dd>\n",
       "\t<dt>Account__r.AccountSourcefull_calc</dt>\n",
       "\t\t<dd>1159</dd>\n",
       "\t<dt>ProductScope__cOC+AC</dt>\n",
       "\t\t<dd>8423</dd>\n",
       "\t<dt>buy_year</dt>\n",
       "\t\t<dd>906</dd>\n",
       "\t<dt>offer_first_after</dt>\n",
       "\t\t<dd>949</dd>\n",
       "\t<dt>Account__r.BillingPostalCodeGdansk</dt>\n",
       "\t\t<dd>8353</dd>\n",
       "</dl>\n"
      ],
      "text/latex": [
       "\\begin{description*}\n",
       "\\item[went\\textbackslash{}\\_to\\textbackslash{}\\_partners] 1152\n",
       "\\item[phone\\textbackslash{}\\_lookup\\textbackslash{}\\_status] 951\n",
       "\\item[formFillingTime] 8467\n",
       "\\item[LastCall\\textbackslash{}\\_\\textbackslash{}\\_c] 2\n",
       "\\item[utm\\textbackslash{}\\_sourcecc] 1092\n",
       "\\item[oc\\textbackslash{}\\_offers\\textbackslash{}\\_qty] 8470\n",
       "\\item[TelehubStatus\\textbackslash{}\\_\\textbackslash{}\\_csuccess\\textbackslash{}\\_callmeback\\textbackslash{}\\_kom] 8458\n",
       "\\item[oc\\textbackslash{}\\_offer\\textbackslash{}\\_min\\textbackslash{}\\_val] 945\n",
       "\\item[hurryTime] 8466\n",
       "\\item[PolicyStartDate\\textbackslash{}\\_\\textbackslash{}\\_c] 8421\n",
       "\\item[offer\\textbackslash{}\\_last\\textbackslash{}\\_after] 950\n",
       "\\item[timeWaiting] 8465\n",
       "\\item[contactDifference] 8464\n",
       "\\item[TelehubStatus\\textbackslash{}\\_\\textbackslash{}\\_cNA] 8463\n",
       "\\item[ocacqty] 8471\n",
       "\\item[Account\\textbackslash{}\\_\\textbackslash{}\\_r.SalutationNA] 8397\n",
       "\\item[CarYear\\textbackslash{}\\_\\textbackslash{}\\_c] 8404\n",
       "\\item[mileage] 814\n",
       "\\item[Mpc\\textbackslash{}\\_\\textbackslash{}\\_cNA] 8420\n",
       "\\item[registration\\textbackslash{}\\_date] 907\n",
       "\\item[CarEngineCapacity\\textbackslash{}\\_\\textbackslash{}\\_c] 8398\n",
       "\\item[Account\\textbackslash{}\\_\\textbackslash{}\\_r.PersonBirthdate] 8384\n",
       "\\item[main\\textbackslash{}\\_driver\\textbackslash{}\\_age] 939\n",
       "\\item[offer\\textbackslash{}\\_last\\textbackslash{}\\_at] 948\n",
       "\\item[ac\\textbackslash{}\\_offer\\textbackslash{}\\_min\\textbackslash{}\\_val] 8469\n",
       "\\item[protection\\textbackslash{}\\_scope2] 805\n",
       "\\item[WentToPartner\\textbackslash{}\\_\\textbackslash{}\\_c] 8442\n",
       "\\item[ProductScope\\textbackslash{}\\_\\textbackslash{}\\_cOC] 8422\n",
       "\\item[ocacminval] 8472\n",
       "\\item[step] 944\n",
       "\\item[phone\\textbackslash{}\\_existsphone\\textbackslash{}\\_exist] 942\n",
       "\\item[car\\textbackslash{}\\_worth] 908\n",
       "\\item[ocacratio] 8473\n",
       "\\item[yearly\\textbackslash{}\\_mileage] 815\n",
       "\\item[b2c\\textbackslash{}\\_leads\\textbackslash{}\\_sent] 947\n",
       "\\item[Account\\textbackslash{}\\_\\textbackslash{}\\_r.AccountSourcefull\\textbackslash{}\\_calc] 1159\n",
       "\\item[ProductScope\\textbackslash{}\\_\\textbackslash{}\\_cOC+AC] 8423\n",
       "\\item[buy\\textbackslash{}\\_year] 906\n",
       "\\item[offer\\textbackslash{}\\_first\\textbackslash{}\\_after] 949\n",
       "\\item[Account\\textbackslash{}\\_\\textbackslash{}\\_r.BillingPostalCodeGdansk] 8353\n",
       "\\end{description*}\n"
      ],
      "text/markdown": [
       "went_to_partners\n",
       ":   1152phone_lookup_status\n",
       ":   951formFillingTime\n",
       ":   8467LastCall__c\n",
       ":   2utm_sourcecc\n",
       ":   1092oc_offers_qty\n",
       ":   8470TelehubStatus__csuccess_callmeback_kom\n",
       ":   8458oc_offer_min_val\n",
       ":   945hurryTime\n",
       ":   8466PolicyStartDate__c\n",
       ":   8421offer_last_after\n",
       ":   950timeWaiting\n",
       ":   8465contactDifference\n",
       ":   8464TelehubStatus__cNA\n",
       ":   8463ocacqty\n",
       ":   8471Account__r.SalutationNA\n",
       ":   8397CarYear__c\n",
       ":   8404mileage\n",
       ":   814Mpc__cNA\n",
       ":   8420registration_date\n",
       ":   907CarEngineCapacity__c\n",
       ":   8398Account__r.PersonBirthdate\n",
       ":   8384main_driver_age\n",
       ":   939offer_last_at\n",
       ":   948ac_offer_min_val\n",
       ":   8469protection_scope2\n",
       ":   805WentToPartner__c\n",
       ":   8442ProductScope__cOC\n",
       ":   8422ocacminval\n",
       ":   8472step\n",
       ":   944phone_existsphone_exist\n",
       ":   942car_worth\n",
       ":   908ocacratio\n",
       ":   8473yearly_mileage\n",
       ":   815b2c_leads_sent\n",
       ":   947Account__r.AccountSourcefull_calc\n",
       ":   1159ProductScope__cOC+AC\n",
       ":   8423buy_year\n",
       ":   906offer_first_after\n",
       ":   949Account__r.BillingPostalCodeGdansk\n",
       ":   8353\n",
       "\n"
      ],
      "text/plain": [
       "                      went_to_partners                    phone_lookup_status \n",
       "                                  1152                                    951 \n",
       "                       formFillingTime                            LastCall__c \n",
       "                                  8467                                      2 \n",
       "                          utm_sourcecc                          oc_offers_qty \n",
       "                                  1092                                   8470 \n",
       "TelehubStatus__csuccess_callmeback_kom                       oc_offer_min_val \n",
       "                                  8458                                    945 \n",
       "                             hurryTime                     PolicyStartDate__c \n",
       "                                  8466                                   8421 \n",
       "                      offer_last_after                            timeWaiting \n",
       "                                   950                                   8465 \n",
       "                     contactDifference                     TelehubStatus__cNA \n",
       "                                  8464                                   8463 \n",
       "                               ocacqty                Account__r.SalutationNA \n",
       "                                  8471                                   8397 \n",
       "                            CarYear__c                                mileage \n",
       "                                  8404                                    814 \n",
       "                              Mpc__cNA                      registration_date \n",
       "                                  8420                                    907 \n",
       "                  CarEngineCapacity__c             Account__r.PersonBirthdate \n",
       "                                  8398                                   8384 \n",
       "                       main_driver_age                          offer_last_at \n",
       "                                   939                                    948 \n",
       "                      ac_offer_min_val                      protection_scope2 \n",
       "                                  8469                                    805 \n",
       "                      WentToPartner__c                      ProductScope__cOC \n",
       "                                  8442                                   8422 \n",
       "                            ocacminval                                   step \n",
       "                                  8472                                    944 \n",
       "               phone_existsphone_exist                              car_worth \n",
       "                                   942                                    908 \n",
       "                             ocacratio                         yearly_mileage \n",
       "                                  8473                                    815 \n",
       "                        b2c_leads_sent      Account__r.AccountSourcefull_calc \n",
       "                                   947                                   1159 \n",
       "                  ProductScope__cOC+AC                               buy_year \n",
       "                                  8423                                    906 \n",
       "                     offer_first_after     Account__r.BillingPostalCodeGdansk \n",
       "                                   949                                   8353 "
      ]
     },
     "metadata": {},
     "output_type": "display_data"
    }
   ],
   "source": [
    "xgcols"
   ]
  },
  {
   "cell_type": "code",
   "execution_count": 283,
   "metadata": {
    "collapsed": true
   },
   "outputs": [],
   "source": [
    "#sprawdzenie, czy te kolumny znajdują się w zbiorze testowym (z powodu innej liczby factorów, nie wiadomo):\n",
    "in_test_features = sapply(names(xgcols),function(xc)any(colnames(mdtest)==xc))"
   ]
  },
  {
   "cell_type": "code",
   "execution_count": 284,
   "metadata": {
    "scrolled": true
   },
   "outputs": [
    {
     "data": {
      "text/html": [
       "<dl class=dl-horizontal>\n",
       "\t<dt>went_to_partners</dt>\n",
       "\t\t<dd>TRUE</dd>\n",
       "\t<dt>phone_lookup_status</dt>\n",
       "\t\t<dd>TRUE</dd>\n",
       "\t<dt>formFillingTime</dt>\n",
       "\t\t<dd>TRUE</dd>\n",
       "\t<dt>LastCall__c</dt>\n",
       "\t\t<dd>TRUE</dd>\n",
       "\t<dt>utm_sourcecc</dt>\n",
       "\t\t<dd>TRUE</dd>\n",
       "\t<dt>oc_offers_qty</dt>\n",
       "\t\t<dd>TRUE</dd>\n",
       "\t<dt>TelehubStatus__csuccess_callmeback_kom</dt>\n",
       "\t\t<dd>TRUE</dd>\n",
       "\t<dt>oc_offer_min_val</dt>\n",
       "\t\t<dd>TRUE</dd>\n",
       "\t<dt>hurryTime</dt>\n",
       "\t\t<dd>TRUE</dd>\n",
       "\t<dt>PolicyStartDate__c</dt>\n",
       "\t\t<dd>TRUE</dd>\n",
       "\t<dt>offer_last_after</dt>\n",
       "\t\t<dd>TRUE</dd>\n",
       "\t<dt>timeWaiting</dt>\n",
       "\t\t<dd>TRUE</dd>\n",
       "\t<dt>contactDifference</dt>\n",
       "\t\t<dd>TRUE</dd>\n",
       "\t<dt>TelehubStatus__cNA</dt>\n",
       "\t\t<dd>TRUE</dd>\n",
       "\t<dt>ocacqty</dt>\n",
       "\t\t<dd>TRUE</dd>\n",
       "\t<dt>Account__r.SalutationNA</dt>\n",
       "\t\t<dd>TRUE</dd>\n",
       "\t<dt>CarYear__c</dt>\n",
       "\t\t<dd>TRUE</dd>\n",
       "\t<dt>mileage</dt>\n",
       "\t\t<dd>TRUE</dd>\n",
       "\t<dt>Mpc__cNA</dt>\n",
       "\t\t<dd>TRUE</dd>\n",
       "\t<dt>registration_date</dt>\n",
       "\t\t<dd>TRUE</dd>\n",
       "\t<dt>CarEngineCapacity__c</dt>\n",
       "\t\t<dd>TRUE</dd>\n",
       "\t<dt>Account__r.PersonBirthdate</dt>\n",
       "\t\t<dd>TRUE</dd>\n",
       "\t<dt>main_driver_age</dt>\n",
       "\t\t<dd>TRUE</dd>\n",
       "\t<dt>offer_last_at</dt>\n",
       "\t\t<dd>TRUE</dd>\n",
       "\t<dt>ac_offer_min_val</dt>\n",
       "\t\t<dd>TRUE</dd>\n",
       "\t<dt>protection_scope2</dt>\n",
       "\t\t<dd>TRUE</dd>\n",
       "\t<dt>WentToPartner__c</dt>\n",
       "\t\t<dd>TRUE</dd>\n",
       "\t<dt>ProductScope__cOC</dt>\n",
       "\t\t<dd>TRUE</dd>\n",
       "\t<dt>ocacminval</dt>\n",
       "\t\t<dd>TRUE</dd>\n",
       "\t<dt>step</dt>\n",
       "\t\t<dd>TRUE</dd>\n",
       "\t<dt>phone_existsphone_exist</dt>\n",
       "\t\t<dd>TRUE</dd>\n",
       "\t<dt>car_worth</dt>\n",
       "\t\t<dd>TRUE</dd>\n",
       "\t<dt>ocacratio</dt>\n",
       "\t\t<dd>TRUE</dd>\n",
       "\t<dt>yearly_mileage</dt>\n",
       "\t\t<dd>TRUE</dd>\n",
       "\t<dt>b2c_leads_sent</dt>\n",
       "\t\t<dd>TRUE</dd>\n",
       "\t<dt>Account__r.AccountSourcefull_calc</dt>\n",
       "\t\t<dd>TRUE</dd>\n",
       "\t<dt>ProductScope__cOC+AC</dt>\n",
       "\t\t<dd>TRUE</dd>\n",
       "\t<dt>buy_year</dt>\n",
       "\t\t<dd>TRUE</dd>\n",
       "\t<dt>offer_first_after</dt>\n",
       "\t\t<dd>TRUE</dd>\n",
       "\t<dt>Account__r.BillingPostalCodeGdansk</dt>\n",
       "\t\t<dd>TRUE</dd>\n",
       "</dl>\n"
      ],
      "text/latex": [
       "\\begin{description*}\n",
       "\\item[went\\textbackslash{}\\_to\\textbackslash{}\\_partners] TRUE\n",
       "\\item[phone\\textbackslash{}\\_lookup\\textbackslash{}\\_status] TRUE\n",
       "\\item[formFillingTime] TRUE\n",
       "\\item[LastCall\\textbackslash{}\\_\\textbackslash{}\\_c] TRUE\n",
       "\\item[utm\\textbackslash{}\\_sourcecc] TRUE\n",
       "\\item[oc\\textbackslash{}\\_offers\\textbackslash{}\\_qty] TRUE\n",
       "\\item[TelehubStatus\\textbackslash{}\\_\\textbackslash{}\\_csuccess\\textbackslash{}\\_callmeback\\textbackslash{}\\_kom] TRUE\n",
       "\\item[oc\\textbackslash{}\\_offer\\textbackslash{}\\_min\\textbackslash{}\\_val] TRUE\n",
       "\\item[hurryTime] TRUE\n",
       "\\item[PolicyStartDate\\textbackslash{}\\_\\textbackslash{}\\_c] TRUE\n",
       "\\item[offer\\textbackslash{}\\_last\\textbackslash{}\\_after] TRUE\n",
       "\\item[timeWaiting] TRUE\n",
       "\\item[contactDifference] TRUE\n",
       "\\item[TelehubStatus\\textbackslash{}\\_\\textbackslash{}\\_cNA] TRUE\n",
       "\\item[ocacqty] TRUE\n",
       "\\item[Account\\textbackslash{}\\_\\textbackslash{}\\_r.SalutationNA] TRUE\n",
       "\\item[CarYear\\textbackslash{}\\_\\textbackslash{}\\_c] TRUE\n",
       "\\item[mileage] TRUE\n",
       "\\item[Mpc\\textbackslash{}\\_\\textbackslash{}\\_cNA] TRUE\n",
       "\\item[registration\\textbackslash{}\\_date] TRUE\n",
       "\\item[CarEngineCapacity\\textbackslash{}\\_\\textbackslash{}\\_c] TRUE\n",
       "\\item[Account\\textbackslash{}\\_\\textbackslash{}\\_r.PersonBirthdate] TRUE\n",
       "\\item[main\\textbackslash{}\\_driver\\textbackslash{}\\_age] TRUE\n",
       "\\item[offer\\textbackslash{}\\_last\\textbackslash{}\\_at] TRUE\n",
       "\\item[ac\\textbackslash{}\\_offer\\textbackslash{}\\_min\\textbackslash{}\\_val] TRUE\n",
       "\\item[protection\\textbackslash{}\\_scope2] TRUE\n",
       "\\item[WentToPartner\\textbackslash{}\\_\\textbackslash{}\\_c] TRUE\n",
       "\\item[ProductScope\\textbackslash{}\\_\\textbackslash{}\\_cOC] TRUE\n",
       "\\item[ocacminval] TRUE\n",
       "\\item[step] TRUE\n",
       "\\item[phone\\textbackslash{}\\_existsphone\\textbackslash{}\\_exist] TRUE\n",
       "\\item[car\\textbackslash{}\\_worth] TRUE\n",
       "\\item[ocacratio] TRUE\n",
       "\\item[yearly\\textbackslash{}\\_mileage] TRUE\n",
       "\\item[b2c\\textbackslash{}\\_leads\\textbackslash{}\\_sent] TRUE\n",
       "\\item[Account\\textbackslash{}\\_\\textbackslash{}\\_r.AccountSourcefull\\textbackslash{}\\_calc] TRUE\n",
       "\\item[ProductScope\\textbackslash{}\\_\\textbackslash{}\\_cOC+AC] TRUE\n",
       "\\item[buy\\textbackslash{}\\_year] TRUE\n",
       "\\item[offer\\textbackslash{}\\_first\\textbackslash{}\\_after] TRUE\n",
       "\\item[Account\\textbackslash{}\\_\\textbackslash{}\\_r.BillingPostalCodeGdansk] TRUE\n",
       "\\end{description*}\n"
      ],
      "text/markdown": [
       "went_to_partners\n",
       ":   TRUEphone_lookup_status\n",
       ":   TRUEformFillingTime\n",
       ":   TRUELastCall__c\n",
       ":   TRUEutm_sourcecc\n",
       ":   TRUEoc_offers_qty\n",
       ":   TRUETelehubStatus__csuccess_callmeback_kom\n",
       ":   TRUEoc_offer_min_val\n",
       ":   TRUEhurryTime\n",
       ":   TRUEPolicyStartDate__c\n",
       ":   TRUEoffer_last_after\n",
       ":   TRUEtimeWaiting\n",
       ":   TRUEcontactDifference\n",
       ":   TRUETelehubStatus__cNA\n",
       ":   TRUEocacqty\n",
       ":   TRUEAccount__r.SalutationNA\n",
       ":   TRUECarYear__c\n",
       ":   TRUEmileage\n",
       ":   TRUEMpc__cNA\n",
       ":   TRUEregistration_date\n",
       ":   TRUECarEngineCapacity__c\n",
       ":   TRUEAccount__r.PersonBirthdate\n",
       ":   TRUEmain_driver_age\n",
       ":   TRUEoffer_last_at\n",
       ":   TRUEac_offer_min_val\n",
       ":   TRUEprotection_scope2\n",
       ":   TRUEWentToPartner__c\n",
       ":   TRUEProductScope__cOC\n",
       ":   TRUEocacminval\n",
       ":   TRUEstep\n",
       ":   TRUEphone_existsphone_exist\n",
       ":   TRUEcar_worth\n",
       ":   TRUEocacratio\n",
       ":   TRUEyearly_mileage\n",
       ":   TRUEb2c_leads_sent\n",
       ":   TRUEAccount__r.AccountSourcefull_calc\n",
       ":   TRUEProductScope__cOC+AC\n",
       ":   TRUEbuy_year\n",
       ":   TRUEoffer_first_after\n",
       ":   TRUEAccount__r.BillingPostalCodeGdansk\n",
       ":   TRUE\n",
       "\n"
      ],
      "text/plain": [
       "                      went_to_partners                    phone_lookup_status \n",
       "                                  TRUE                                   TRUE \n",
       "                       formFillingTime                            LastCall__c \n",
       "                                  TRUE                                   TRUE \n",
       "                          utm_sourcecc                          oc_offers_qty \n",
       "                                  TRUE                                   TRUE \n",
       "TelehubStatus__csuccess_callmeback_kom                       oc_offer_min_val \n",
       "                                  TRUE                                   TRUE \n",
       "                             hurryTime                     PolicyStartDate__c \n",
       "                                  TRUE                                   TRUE \n",
       "                      offer_last_after                            timeWaiting \n",
       "                                  TRUE                                   TRUE \n",
       "                     contactDifference                     TelehubStatus__cNA \n",
       "                                  TRUE                                   TRUE \n",
       "                               ocacqty                Account__r.SalutationNA \n",
       "                                  TRUE                                   TRUE \n",
       "                            CarYear__c                                mileage \n",
       "                                  TRUE                                   TRUE \n",
       "                              Mpc__cNA                      registration_date \n",
       "                                  TRUE                                   TRUE \n",
       "                  CarEngineCapacity__c             Account__r.PersonBirthdate \n",
       "                                  TRUE                                   TRUE \n",
       "                       main_driver_age                          offer_last_at \n",
       "                                  TRUE                                   TRUE \n",
       "                      ac_offer_min_val                      protection_scope2 \n",
       "                                  TRUE                                   TRUE \n",
       "                      WentToPartner__c                      ProductScope__cOC \n",
       "                                  TRUE                                   TRUE \n",
       "                            ocacminval                                   step \n",
       "                                  TRUE                                   TRUE \n",
       "               phone_existsphone_exist                              car_worth \n",
       "                                  TRUE                                   TRUE \n",
       "                             ocacratio                         yearly_mileage \n",
       "                                  TRUE                                   TRUE \n",
       "                        b2c_leads_sent      Account__r.AccountSourcefull_calc \n",
       "                                  TRUE                                   TRUE \n",
       "                  ProductScope__cOC+AC                               buy_year \n",
       "                                  TRUE                                   TRUE \n",
       "                     offer_first_after     Account__r.BillingPostalCodeGdansk \n",
       "                                  TRUE                                   TRUE "
      ]
     },
     "metadata": {},
     "output_type": "display_data"
    }
   ],
   "source": [
    "in_test_features"
   ]
  },
  {
   "cell_type": "code",
   "execution_count": 285,
   "metadata": {
    "collapsed": true
   },
   "outputs": [],
   "source": [
    "selected_features = names(xgcols)[in_test_features]"
   ]
  },
  {
   "cell_type": "code",
   "execution_count": 286,
   "metadata": {},
   "outputs": [
    {
     "data": {
      "text/html": [
       "40"
      ],
      "text/latex": [
       "40"
      ],
      "text/markdown": [
       "40"
      ],
      "text/plain": [
       "[1] 40"
      ]
     },
     "metadata": {},
     "output_type": "display_data"
    }
   ],
   "source": [
    "length(selected_features)"
   ]
  },
  {
   "cell_type": "code",
   "execution_count": 287,
   "metadata": {},
   "outputs": [
    {
     "data": {
      "text/html": [
       "<ol class=list-inline>\n",
       "\t<li>'went_to_partners'</li>\n",
       "\t<li>'phone_lookup_status'</li>\n",
       "\t<li>'formFillingTime'</li>\n",
       "\t<li>'LastCall__c'</li>\n",
       "\t<li>'utm_sourcecc'</li>\n",
       "\t<li>'oc_offers_qty'</li>\n",
       "\t<li>'TelehubStatus__csuccess_callmeback_kom'</li>\n",
       "\t<li>'oc_offer_min_val'</li>\n",
       "\t<li>'hurryTime'</li>\n",
       "\t<li>'PolicyStartDate__c'</li>\n",
       "\t<li>'offer_last_after'</li>\n",
       "\t<li>'timeWaiting'</li>\n",
       "\t<li>'contactDifference'</li>\n",
       "\t<li>'TelehubStatus__cNA'</li>\n",
       "\t<li>'ocacqty'</li>\n",
       "\t<li>'Account__r.SalutationNA'</li>\n",
       "\t<li>'CarYear__c'</li>\n",
       "\t<li>'mileage'</li>\n",
       "\t<li>'Mpc__cNA'</li>\n",
       "\t<li>'registration_date'</li>\n",
       "\t<li>'CarEngineCapacity__c'</li>\n",
       "\t<li>'Account__r.PersonBirthdate'</li>\n",
       "\t<li>'main_driver_age'</li>\n",
       "\t<li>'offer_last_at'</li>\n",
       "\t<li>'ac_offer_min_val'</li>\n",
       "\t<li>'protection_scope2'</li>\n",
       "\t<li>'WentToPartner__c'</li>\n",
       "\t<li>'ProductScope__cOC'</li>\n",
       "\t<li>'ocacminval'</li>\n",
       "\t<li>'step'</li>\n",
       "\t<li>'phone_existsphone_exist'</li>\n",
       "\t<li>'car_worth'</li>\n",
       "\t<li>'ocacratio'</li>\n",
       "\t<li>'yearly_mileage'</li>\n",
       "\t<li>'b2c_leads_sent'</li>\n",
       "\t<li>'Account__r.AccountSourcefull_calc'</li>\n",
       "\t<li>'ProductScope__cOC+AC'</li>\n",
       "\t<li>'buy_year'</li>\n",
       "\t<li>'offer_first_after'</li>\n",
       "\t<li>'Account__r.BillingPostalCodeGdansk'</li>\n",
       "</ol>\n"
      ],
      "text/latex": [
       "\\begin{enumerate*}\n",
       "\\item 'went\\_to\\_partners'\n",
       "\\item 'phone\\_lookup\\_status'\n",
       "\\item 'formFillingTime'\n",
       "\\item 'LastCall\\_\\_c'\n",
       "\\item 'utm\\_sourcecc'\n",
       "\\item 'oc\\_offers\\_qty'\n",
       "\\item 'TelehubStatus\\_\\_csuccess\\_callmeback\\_kom'\n",
       "\\item 'oc\\_offer\\_min\\_val'\n",
       "\\item 'hurryTime'\n",
       "\\item 'PolicyStartDate\\_\\_c'\n",
       "\\item 'offer\\_last\\_after'\n",
       "\\item 'timeWaiting'\n",
       "\\item 'contactDifference'\n",
       "\\item 'TelehubStatus\\_\\_cNA'\n",
       "\\item 'ocacqty'\n",
       "\\item 'Account\\_\\_r.SalutationNA'\n",
       "\\item 'CarYear\\_\\_c'\n",
       "\\item 'mileage'\n",
       "\\item 'Mpc\\_\\_cNA'\n",
       "\\item 'registration\\_date'\n",
       "\\item 'CarEngineCapacity\\_\\_c'\n",
       "\\item 'Account\\_\\_r.PersonBirthdate'\n",
       "\\item 'main\\_driver\\_age'\n",
       "\\item 'offer\\_last\\_at'\n",
       "\\item 'ac\\_offer\\_min\\_val'\n",
       "\\item 'protection\\_scope2'\n",
       "\\item 'WentToPartner\\_\\_c'\n",
       "\\item 'ProductScope\\_\\_cOC'\n",
       "\\item 'ocacminval'\n",
       "\\item 'step'\n",
       "\\item 'phone\\_existsphone\\_exist'\n",
       "\\item 'car\\_worth'\n",
       "\\item 'ocacratio'\n",
       "\\item 'yearly\\_mileage'\n",
       "\\item 'b2c\\_leads\\_sent'\n",
       "\\item 'Account\\_\\_r.AccountSourcefull\\_calc'\n",
       "\\item 'ProductScope\\_\\_cOC+AC'\n",
       "\\item 'buy\\_year'\n",
       "\\item 'offer\\_first\\_after'\n",
       "\\item 'Account\\_\\_r.BillingPostalCodeGdansk'\n",
       "\\end{enumerate*}\n"
      ],
      "text/markdown": [
       "1. 'went_to_partners'\n",
       "2. 'phone_lookup_status'\n",
       "3. 'formFillingTime'\n",
       "4. 'LastCall__c'\n",
       "5. 'utm_sourcecc'\n",
       "6. 'oc_offers_qty'\n",
       "7. 'TelehubStatus__csuccess_callmeback_kom'\n",
       "8. 'oc_offer_min_val'\n",
       "9. 'hurryTime'\n",
       "10. 'PolicyStartDate__c'\n",
       "11. 'offer_last_after'\n",
       "12. 'timeWaiting'\n",
       "13. 'contactDifference'\n",
       "14. 'TelehubStatus__cNA'\n",
       "15. 'ocacqty'\n",
       "16. 'Account__r.SalutationNA'\n",
       "17. 'CarYear__c'\n",
       "18. 'mileage'\n",
       "19. 'Mpc__cNA'\n",
       "20. 'registration_date'\n",
       "21. 'CarEngineCapacity__c'\n",
       "22. 'Account__r.PersonBirthdate'\n",
       "23. 'main_driver_age'\n",
       "24. 'offer_last_at'\n",
       "25. 'ac_offer_min_val'\n",
       "26. 'protection_scope2'\n",
       "27. 'WentToPartner__c'\n",
       "28. 'ProductScope__cOC'\n",
       "29. 'ocacminval'\n",
       "30. 'step'\n",
       "31. 'phone_existsphone_exist'\n",
       "32. 'car_worth'\n",
       "33. 'ocacratio'\n",
       "34. 'yearly_mileage'\n",
       "35. 'b2c_leads_sent'\n",
       "36. 'Account__r.AccountSourcefull_calc'\n",
       "37. 'ProductScope__cOC+AC'\n",
       "38. 'buy_year'\n",
       "39. 'offer_first_after'\n",
       "40. 'Account__r.BillingPostalCodeGdansk'\n",
       "\n",
       "\n"
      ],
      "text/plain": [
       " [1] \"went_to_partners\"                      \n",
       " [2] \"phone_lookup_status\"                   \n",
       " [3] \"formFillingTime\"                       \n",
       " [4] \"LastCall__c\"                           \n",
       " [5] \"utm_sourcecc\"                          \n",
       " [6] \"oc_offers_qty\"                         \n",
       " [7] \"TelehubStatus__csuccess_callmeback_kom\"\n",
       " [8] \"oc_offer_min_val\"                      \n",
       " [9] \"hurryTime\"                             \n",
       "[10] \"PolicyStartDate__c\"                    \n",
       "[11] \"offer_last_after\"                      \n",
       "[12] \"timeWaiting\"                           \n",
       "[13] \"contactDifference\"                     \n",
       "[14] \"TelehubStatus__cNA\"                    \n",
       "[15] \"ocacqty\"                               \n",
       "[16] \"Account__r.SalutationNA\"               \n",
       "[17] \"CarYear__c\"                            \n",
       "[18] \"mileage\"                               \n",
       "[19] \"Mpc__cNA\"                              \n",
       "[20] \"registration_date\"                     \n",
       "[21] \"CarEngineCapacity__c\"                  \n",
       "[22] \"Account__r.PersonBirthdate\"            \n",
       "[23] \"main_driver_age\"                       \n",
       "[24] \"offer_last_at\"                         \n",
       "[25] \"ac_offer_min_val\"                      \n",
       "[26] \"protection_scope2\"                     \n",
       "[27] \"WentToPartner__c\"                      \n",
       "[28] \"ProductScope__cOC\"                     \n",
       "[29] \"ocacminval\"                            \n",
       "[30] \"step\"                                  \n",
       "[31] \"phone_existsphone_exist\"               \n",
       "[32] \"car_worth\"                             \n",
       "[33] \"ocacratio\"                             \n",
       "[34] \"yearly_mileage\"                        \n",
       "[35] \"b2c_leads_sent\"                        \n",
       "[36] \"Account__r.AccountSourcefull_calc\"     \n",
       "[37] \"ProductScope__cOC+AC\"                  \n",
       "[38] \"buy_year\"                              \n",
       "[39] \"offer_first_after\"                     \n",
       "[40] \"Account__r.BillingPostalCodeGdansk\"    "
      ]
     },
     "metadata": {},
     "output_type": "display_data"
    }
   ],
   "source": [
    "#kolumny wybrane do predykcji\n",
    "selected_features"
   ]
  },
  {
   "cell_type": "code",
   "execution_count": 409,
   "metadata": {
    "collapsed": true
   },
   "outputs": [],
   "source": [
    "xgtrain = mdtrain[,selected_features]"
   ]
  },
  {
   "cell_type": "code",
   "execution_count": 410,
   "metadata": {},
   "outputs": [
    {
     "data": {
      "text/html": [
       "<ol class=list-inline>\n",
       "\t<li>93646</li>\n",
       "\t<li>40</li>\n",
       "</ol>\n"
      ],
      "text/latex": [
       "\\begin{enumerate*}\n",
       "\\item 93646\n",
       "\\item 40\n",
       "\\end{enumerate*}\n"
      ],
      "text/markdown": [
       "1. 93646\n",
       "2. 40\n",
       "\n",
       "\n"
      ],
      "text/plain": [
       "[1] 93646    40"
      ]
     },
     "metadata": {},
     "output_type": "display_data"
    }
   ],
   "source": [
    "dim(xgtrain)"
   ]
  },
  {
   "cell_type": "code",
   "execution_count": 411,
   "metadata": {
    "collapsed": true
   },
   "outputs": [],
   "source": [
    "#tuning dla wybranych predyktorów\n",
    "sa = sample(1:nrow(xgtrain),20000,replace=F)\n",
    "xgtrain2 = as.matrix(xgtrain[sa,])"
   ]
  },
  {
   "cell_type": "code",
   "execution_count": 412,
   "metadata": {
    "collapsed": true
   },
   "outputs": [],
   "source": [
    "xgFitControl = trainControl (method=\"cv\",number = 4) #4fold\n",
    "xgx = xgtrain2\n",
    "xgy = as.factor(train4$Sale.success[sa])\n",
    "xgModel = train(xgx,xgy,\n",
    "    method = \"xgbTree\",\n",
    "    trControl = xgFitControl)"
   ]
  },
  {
   "cell_type": "code",
   "execution_count": 414,
   "metadata": {},
   "outputs": [
    {
     "data": {
      "text/html": [
       "<table>\n",
       "<thead><tr><th></th><th scope=col>nrounds</th><th scope=col>max_depth</th><th scope=col>eta</th><th scope=col>gamma</th><th scope=col>colsample_bytree</th><th scope=col>min_child_weight</th><th scope=col>subsample</th></tr></thead>\n",
       "<tbody>\n",
       "\t<tr><th scope=row>4</th><td>50  </td><td>1   </td><td>0.3 </td><td>0   </td><td>0.6 </td><td>1   </td><td>0.75</td></tr>\n",
       "</tbody>\n",
       "</table>\n"
      ],
      "text/latex": [
       "\\begin{tabular}{r|lllllll}\n",
       "  & nrounds & max\\_depth & eta & gamma & colsample\\_bytree & min\\_child\\_weight & subsample\\\\\n",
       "\\hline\n",
       "\t4 & 50   & 1    & 0.3  & 0    & 0.6  & 1    & 0.75\\\\\n",
       "\\end{tabular}\n"
      ],
      "text/markdown": [
       "\n",
       "| <!--/--> | nrounds | max_depth | eta | gamma | colsample_bytree | min_child_weight | subsample | \n",
       "|---|\n",
       "| 4 | 50   | 1    | 0.3  | 0    | 0.6  | 1    | 0.75 | \n",
       "\n",
       "\n"
      ],
      "text/plain": [
       "  nrounds max_depth eta gamma colsample_bytree min_child_weight subsample\n",
       "4 50      1         0.3 0     0.6              1                0.75     "
      ]
     },
     "metadata": {},
     "output_type": "display_data"
    }
   ],
   "source": [
    "#tuning\n",
    "besttune = xgModel$bestTune\n",
    "besttune"
   ]
  },
  {
   "cell_type": "code",
   "execution_count": 144,
   "metadata": {},
   "outputs": [
    {
     "data": {
      "text/html": [
       "<table>\n",
       "<thead><tr><th></th><th scope=col>nrounds</th><th scope=col>max_depth</th><th scope=col>eta</th><th scope=col>gamma</th><th scope=col>colsample_bytree</th><th scope=col>min_child_weight</th><th scope=col>subsample</th></tr></thead>\n",
       "<tbody>\n",
       "\t<tr><th scope=row>31</th><td>50  </td><td>2   </td><td>0.3 </td><td>0   </td><td>0.8 </td><td>1   </td><td>0.75</td></tr>\n",
       "</tbody>\n",
       "</table>\n"
      ],
      "text/latex": [
       "\\begin{tabular}{r|lllllll}\n",
       "  & nrounds & max\\_depth & eta & gamma & colsample\\_bytree & min\\_child\\_weight & subsample\\\\\n",
       "\\hline\n",
       "\t31 & 50   & 2    & 0.3  & 0    & 0.8  & 1    & 0.75\\\\\n",
       "\\end{tabular}\n"
      ],
      "text/markdown": [
       "\n",
       "| <!--/--> | nrounds | max_depth | eta | gamma | colsample_bytree | min_child_weight | subsample | \n",
       "|---|\n",
       "| 31 | 50   | 2    | 0.3  | 0    | 0.8  | 1    | 0.75 | \n",
       "\n",
       "\n"
      ],
      "text/plain": [
       "   nrounds max_depth eta gamma colsample_bytree min_child_weight subsample\n",
       "31 50      2         0.3 0     0.8              1                0.75     "
      ]
     },
     "metadata": {},
     "output_type": "display_data"
    }
   ],
   "source": [
    "#tuning\n",
    "besttune = xgModel$bestTune\n",
    "besttune"
   ]
  },
  {
   "cell_type": "code",
   "execution_count": 152,
   "metadata": {
    "scrolled": true
   },
   "outputs": [
    {
     "name": "stdout",
     "output_type": "stream",
     "text": [
      "[1]\ttrain-error:0.048534 \n",
      "[2]\ttrain-error:0.048534 \n",
      "[3]\ttrain-error:0.048534 \n",
      "[4]\ttrain-error:0.048534 \n",
      "[5]\ttrain-error:0.048534 \n",
      "[6]\ttrain-error:0.048534 \n",
      "[7]\ttrain-error:0.048534 \n",
      "[8]\ttrain-error:0.048534 \n",
      "[9]\ttrain-error:0.048534 \n",
      "[10]\ttrain-error:0.048534 \n",
      "[11]\ttrain-error:0.048534 \n",
      "[12]\ttrain-error:0.048534 \n",
      "[13]\ttrain-error:0.048534 \n",
      "[14]\ttrain-error:0.048534 \n",
      "[15]\ttrain-error:0.048534 \n",
      "[16]\ttrain-error:0.048534 \n",
      "[17]\ttrain-error:0.048534 \n",
      "[18]\ttrain-error:0.048523 \n",
      "[19]\ttrain-error:0.048512 \n",
      "[20]\ttrain-error:0.048512 \n",
      "[21]\ttrain-error:0.048523 \n",
      "[22]\ttrain-error:0.048523 \n",
      "[23]\ttrain-error:0.048523 \n",
      "[24]\ttrain-error:0.048545 \n",
      "[25]\ttrain-error:0.048523 \n",
      "[26]\ttrain-error:0.048523 \n",
      "[27]\ttrain-error:0.048491 \n",
      "[28]\ttrain-error:0.048523 \n",
      "[29]\ttrain-error:0.048491 \n",
      "[30]\ttrain-error:0.048459 \n",
      "[31]\ttrain-error:0.048438 \n",
      "[32]\ttrain-error:0.048416 \n",
      "[33]\ttrain-error:0.048427 \n",
      "[34]\ttrain-error:0.048416 \n",
      "[35]\ttrain-error:0.048395 \n",
      "[36]\ttrain-error:0.048438 \n",
      "[37]\ttrain-error:0.048427 \n",
      "[38]\ttrain-error:0.048438 \n",
      "[39]\ttrain-error:0.048374 \n",
      "[40]\ttrain-error:0.048427 \n",
      "[41]\ttrain-error:0.048374 \n",
      "[42]\ttrain-error:0.048374 \n",
      "[43]\ttrain-error:0.048331 \n",
      "[44]\ttrain-error:0.048331 \n",
      "[45]\ttrain-error:0.048342 \n",
      "[46]\ttrain-error:0.048310 \n",
      "[47]\ttrain-error:0.048363 \n",
      "[48]\ttrain-error:0.048342 \n",
      "[49]\ttrain-error:0.048320 \n",
      "[50]\ttrain-error:0.048310 \n"
     ]
    }
   ],
   "source": [
    "#trenowanie właściwego modelu\n",
    "trainxg = xgb.DMatrix(xgtrain,label=train4$Sale.success)\n",
    "\n",
    "xg =  xgboost(params= xgModel$bestTune, data = trainxg, nrounds=50, objective = \"binary:logistic\")"
   ]
  },
  {
   "cell_type": "code",
   "execution_count": 153,
   "metadata": {},
   "outputs": [
    {
     "data": {
      "text/html": [
       "<ol class=list-inline>\n",
       "\t<li>TRUE</li>\n",
       "\t<li>TRUE</li>\n",
       "\t<li>TRUE</li>\n",
       "\t<li>TRUE</li>\n",
       "\t<li>TRUE</li>\n",
       "\t<li>TRUE</li>\n",
       "\t<li>TRUE</li>\n",
       "\t<li>TRUE</li>\n",
       "\t<li>TRUE</li>\n",
       "\t<li>TRUE</li>\n",
       "\t<li>TRUE</li>\n",
       "\t<li>TRUE</li>\n",
       "\t<li>TRUE</li>\n",
       "\t<li>TRUE</li>\n",
       "\t<li>TRUE</li>\n",
       "\t<li>TRUE</li>\n",
       "\t<li>TRUE</li>\n",
       "\t<li>TRUE</li>\n",
       "\t<li>TRUE</li>\n",
       "\t<li>TRUE</li>\n",
       "\t<li>TRUE</li>\n",
       "\t<li>TRUE</li>\n",
       "\t<li>TRUE</li>\n",
       "\t<li>TRUE</li>\n",
       "\t<li>TRUE</li>\n",
       "\t<li>TRUE</li>\n",
       "\t<li>TRUE</li>\n",
       "\t<li>TRUE</li>\n",
       "\t<li>TRUE</li>\n",
       "\t<li>TRUE</li>\n",
       "\t<li>TRUE</li>\n",
       "\t<li>TRUE</li>\n",
       "\t<li>TRUE</li>\n",
       "\t<li>TRUE</li>\n",
       "\t<li>TRUE</li>\n",
       "\t<li>TRUE</li>\n",
       "\t<li>TRUE</li>\n",
       "\t<li>TRUE</li>\n",
       "\t<li>TRUE</li>\n",
       "\t<li>TRUE</li>\n",
       "</ol>\n"
      ],
      "text/latex": [
       "\\begin{enumerate*}\n",
       "\\item TRUE\n",
       "\\item TRUE\n",
       "\\item TRUE\n",
       "\\item TRUE\n",
       "\\item TRUE\n",
       "\\item TRUE\n",
       "\\item TRUE\n",
       "\\item TRUE\n",
       "\\item TRUE\n",
       "\\item TRUE\n",
       "\\item TRUE\n",
       "\\item TRUE\n",
       "\\item TRUE\n",
       "\\item TRUE\n",
       "\\item TRUE\n",
       "\\item TRUE\n",
       "\\item TRUE\n",
       "\\item TRUE\n",
       "\\item TRUE\n",
       "\\item TRUE\n",
       "\\item TRUE\n",
       "\\item TRUE\n",
       "\\item TRUE\n",
       "\\item TRUE\n",
       "\\item TRUE\n",
       "\\item TRUE\n",
       "\\item TRUE\n",
       "\\item TRUE\n",
       "\\item TRUE\n",
       "\\item TRUE\n",
       "\\item TRUE\n",
       "\\item TRUE\n",
       "\\item TRUE\n",
       "\\item TRUE\n",
       "\\item TRUE\n",
       "\\item TRUE\n",
       "\\item TRUE\n",
       "\\item TRUE\n",
       "\\item TRUE\n",
       "\\item TRUE\n",
       "\\end{enumerate*}\n"
      ],
      "text/markdown": [
       "1. TRUE\n",
       "2. TRUE\n",
       "3. TRUE\n",
       "4. TRUE\n",
       "5. TRUE\n",
       "6. TRUE\n",
       "7. TRUE\n",
       "8. TRUE\n",
       "9. TRUE\n",
       "10. TRUE\n",
       "11. TRUE\n",
       "12. TRUE\n",
       "13. TRUE\n",
       "14. TRUE\n",
       "15. TRUE\n",
       "16. TRUE\n",
       "17. TRUE\n",
       "18. TRUE\n",
       "19. TRUE\n",
       "20. TRUE\n",
       "21. TRUE\n",
       "22. TRUE\n",
       "23. TRUE\n",
       "24. TRUE\n",
       "25. TRUE\n",
       "26. TRUE\n",
       "27. TRUE\n",
       "28. TRUE\n",
       "29. TRUE\n",
       "30. TRUE\n",
       "31. TRUE\n",
       "32. TRUE\n",
       "33. TRUE\n",
       "34. TRUE\n",
       "35. TRUE\n",
       "36. TRUE\n",
       "37. TRUE\n",
       "38. TRUE\n",
       "39. TRUE\n",
       "40. TRUE\n",
       "\n",
       "\n"
      ],
      "text/plain": [
       " [1] TRUE TRUE TRUE TRUE TRUE TRUE TRUE TRUE TRUE TRUE TRUE TRUE TRUE TRUE TRUE\n",
       "[16] TRUE TRUE TRUE TRUE TRUE TRUE TRUE TRUE TRUE TRUE TRUE TRUE TRUE TRUE TRUE\n",
       "[31] TRUE TRUE TRUE TRUE TRUE TRUE TRUE TRUE TRUE TRUE"
      ]
     },
     "metadata": {},
     "output_type": "display_data"
    }
   ],
   "source": [
    "#predykcja na zbiorze testowym\n",
    "#w tym miejscu sprawdzam czy indeksy w rzadkich macierzach zbioru testowego i treningowego dokładnie się zgadzają\n",
    "colnames(mdtrain[,selected_features])==colnames(mdtest[,selected_features])"
   ]
  },
  {
   "cell_type": "code",
   "execution_count": 368,
   "metadata": {
    "collapsed": true
   },
   "outputs": [],
   "source": [
    "#jeśli wszędzie wyżej jest true, można wybrać zbiór testowy i puścić predykcję"
   ]
  },
  {
   "cell_type": "code",
   "execution_count": 154,
   "metadata": {
    "collapsed": true
   },
   "outputs": [],
   "source": [
    "xgtest = mdtest[,selected_features]"
   ]
  },
  {
   "cell_type": "code",
   "execution_count": 155,
   "metadata": {},
   "outputs": [
    {
     "data": {
      "text/html": [
       "<ol class=list-inline>\n",
       "\t<li>32967</li>\n",
       "\t<li>40</li>\n",
       "</ol>\n"
      ],
      "text/latex": [
       "\\begin{enumerate*}\n",
       "\\item 32967\n",
       "\\item 40\n",
       "\\end{enumerate*}\n"
      ],
      "text/markdown": [
       "1. 32967\n",
       "2. 40\n",
       "\n",
       "\n"
      ],
      "text/plain": [
       "[1] 32967    40"
      ]
     },
     "metadata": {},
     "output_type": "display_data"
    }
   ],
   "source": [
    "dim(xgtest)"
   ]
  },
  {
   "cell_type": "code",
   "execution_count": 156,
   "metadata": {
    "collapsed": true
   },
   "outputs": [],
   "source": [
    "pred_test = predict(xg,xgtest,type=\"response\")"
   ]
  },
  {
   "cell_type": "code",
   "execution_count": 157,
   "metadata": {
    "collapsed": true
   },
   "outputs": [],
   "source": [
    "write.table(pred_test,\"ABH-pred2.csv\",col.names=F,row.names=F)"
   ]
  }
 ],
 "metadata": {
  "kernelspec": {
   "display_name": "R",
   "language": "R",
   "name": "ir"
  },
  "language_info": {
   "codemirror_mode": "r",
   "file_extension": ".r",
   "mimetype": "text/x-r-source",
   "name": "R",
   "pygments_lexer": "r",
   "version": "3.4.2"
  }
 },
 "nbformat": 4,
 "nbformat_minor": 2
}
